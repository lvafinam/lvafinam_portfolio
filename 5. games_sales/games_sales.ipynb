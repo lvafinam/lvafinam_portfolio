{
 "cells": [
  {
   "cell_type": "markdown",
   "metadata": {},
   "source": [
    "# Прогноз продаж игр на консоли на 2017 год "
   ]
  },
  {
   "cell_type": "markdown",
   "metadata": {},
   "source": [
    "# Описание проекта\n",
    "Вы работаете в интернет-магазине «Стримчик», который продаёт по всему миру компьютерные игры. Из открытых источников доступны исторические данные о продажах игр, оценки пользователей и экспертов, жанры и платформы (например, Xbox или PlayStation). Вам нужно выявить определяющие успешность игры закономерности. Это позволит сделать ставку на потенциально популярный продукт и спланировать рекламные кампании.\n",
    "\n",
    "Перед вами данные до 2016 года. Представим, что сейчас декабрь 2016 г., и вы планируете кампанию на 2017-й. Нужно отработать принцип работы с данными. Неважно, прогнозируете ли вы продажи на 2017 год по данным 2016-го или же 2027-й — по данным 2026 года.\n",
    "\n",
    "В наборе данных попадается аббревиатура ESRB (Entertainment Software Rating Board) — это ассоциация, определяющая возрастной рейтинг компьютерных игр. ESRB оценивает игровой контент и присваивает ему подходящую возрастную категорию, например, «Для взрослых», «Для детей младшего возраста» или «Для подростков»."
   ]
  },
  {
   "cell_type": "markdown",
   "metadata": {},
   "source": [
    "## Шаг 1. Изучение данных"
   ]
  },
  {
   "cell_type": "code",
   "execution_count": 1,
   "metadata": {},
   "outputs": [],
   "source": [
    "import pandas as pd\n",
    "import numpy as np\n",
    "import matplotlib.pyplot as plt\n",
    "import seaborn as sns\n",
    "from scipy import stats as st"
   ]
  },
  {
   "cell_type": "code",
   "execution_count": 2,
   "metadata": {},
   "outputs": [
    {
     "data": {
      "text/html": [
       "<div>\n",
       "<style scoped>\n",
       "    .dataframe tbody tr th:only-of-type {\n",
       "        vertical-align: middle;\n",
       "    }\n",
       "\n",
       "    .dataframe tbody tr th {\n",
       "        vertical-align: top;\n",
       "    }\n",
       "\n",
       "    .dataframe thead th {\n",
       "        text-align: right;\n",
       "    }\n",
       "</style>\n",
       "<table border=\"1\" class=\"dataframe\">\n",
       "  <thead>\n",
       "    <tr style=\"text-align: right;\">\n",
       "      <th></th>\n",
       "      <th>Name</th>\n",
       "      <th>Platform</th>\n",
       "      <th>Year_of_Release</th>\n",
       "      <th>Genre</th>\n",
       "      <th>NA_sales</th>\n",
       "      <th>EU_sales</th>\n",
       "      <th>JP_sales</th>\n",
       "      <th>Other_sales</th>\n",
       "      <th>Critic_Score</th>\n",
       "      <th>User_Score</th>\n",
       "      <th>Rating</th>\n",
       "    </tr>\n",
       "  </thead>\n",
       "  <tbody>\n",
       "    <tr>\n",
       "      <th>0</th>\n",
       "      <td>Wii Sports</td>\n",
       "      <td>Wii</td>\n",
       "      <td>2006.0</td>\n",
       "      <td>Sports</td>\n",
       "      <td>41.36</td>\n",
       "      <td>28.96</td>\n",
       "      <td>3.77</td>\n",
       "      <td>8.45</td>\n",
       "      <td>76.0</td>\n",
       "      <td>8</td>\n",
       "      <td>E</td>\n",
       "    </tr>\n",
       "    <tr>\n",
       "      <th>1</th>\n",
       "      <td>Super Mario Bros.</td>\n",
       "      <td>NES</td>\n",
       "      <td>1985.0</td>\n",
       "      <td>Platform</td>\n",
       "      <td>29.08</td>\n",
       "      <td>3.58</td>\n",
       "      <td>6.81</td>\n",
       "      <td>0.77</td>\n",
       "      <td>NaN</td>\n",
       "      <td>NaN</td>\n",
       "      <td>NaN</td>\n",
       "    </tr>\n",
       "    <tr>\n",
       "      <th>2</th>\n",
       "      <td>Mario Kart Wii</td>\n",
       "      <td>Wii</td>\n",
       "      <td>2008.0</td>\n",
       "      <td>Racing</td>\n",
       "      <td>15.68</td>\n",
       "      <td>12.76</td>\n",
       "      <td>3.79</td>\n",
       "      <td>3.29</td>\n",
       "      <td>82.0</td>\n",
       "      <td>8.3</td>\n",
       "      <td>E</td>\n",
       "    </tr>\n",
       "    <tr>\n",
       "      <th>3</th>\n",
       "      <td>Wii Sports Resort</td>\n",
       "      <td>Wii</td>\n",
       "      <td>2009.0</td>\n",
       "      <td>Sports</td>\n",
       "      <td>15.61</td>\n",
       "      <td>10.93</td>\n",
       "      <td>3.28</td>\n",
       "      <td>2.95</td>\n",
       "      <td>80.0</td>\n",
       "      <td>8</td>\n",
       "      <td>E</td>\n",
       "    </tr>\n",
       "    <tr>\n",
       "      <th>4</th>\n",
       "      <td>Pokemon Red/Pokemon Blue</td>\n",
       "      <td>GB</td>\n",
       "      <td>1996.0</td>\n",
       "      <td>Role-Playing</td>\n",
       "      <td>11.27</td>\n",
       "      <td>8.89</td>\n",
       "      <td>10.22</td>\n",
       "      <td>1.00</td>\n",
       "      <td>NaN</td>\n",
       "      <td>NaN</td>\n",
       "      <td>NaN</td>\n",
       "    </tr>\n",
       "    <tr>\n",
       "      <th>...</th>\n",
       "      <td>...</td>\n",
       "      <td>...</td>\n",
       "      <td>...</td>\n",
       "      <td>...</td>\n",
       "      <td>...</td>\n",
       "      <td>...</td>\n",
       "      <td>...</td>\n",
       "      <td>...</td>\n",
       "      <td>...</td>\n",
       "      <td>...</td>\n",
       "      <td>...</td>\n",
       "    </tr>\n",
       "    <tr>\n",
       "      <th>16710</th>\n",
       "      <td>Samurai Warriors: Sanada Maru</td>\n",
       "      <td>PS3</td>\n",
       "      <td>2016.0</td>\n",
       "      <td>Action</td>\n",
       "      <td>0.00</td>\n",
       "      <td>0.00</td>\n",
       "      <td>0.01</td>\n",
       "      <td>0.00</td>\n",
       "      <td>NaN</td>\n",
       "      <td>NaN</td>\n",
       "      <td>NaN</td>\n",
       "    </tr>\n",
       "    <tr>\n",
       "      <th>16711</th>\n",
       "      <td>LMA Manager 2007</td>\n",
       "      <td>X360</td>\n",
       "      <td>2006.0</td>\n",
       "      <td>Sports</td>\n",
       "      <td>0.00</td>\n",
       "      <td>0.01</td>\n",
       "      <td>0.00</td>\n",
       "      <td>0.00</td>\n",
       "      <td>NaN</td>\n",
       "      <td>NaN</td>\n",
       "      <td>NaN</td>\n",
       "    </tr>\n",
       "    <tr>\n",
       "      <th>16712</th>\n",
       "      <td>Haitaka no Psychedelica</td>\n",
       "      <td>PSV</td>\n",
       "      <td>2016.0</td>\n",
       "      <td>Adventure</td>\n",
       "      <td>0.00</td>\n",
       "      <td>0.00</td>\n",
       "      <td>0.01</td>\n",
       "      <td>0.00</td>\n",
       "      <td>NaN</td>\n",
       "      <td>NaN</td>\n",
       "      <td>NaN</td>\n",
       "    </tr>\n",
       "    <tr>\n",
       "      <th>16713</th>\n",
       "      <td>Spirits &amp; Spells</td>\n",
       "      <td>GBA</td>\n",
       "      <td>2003.0</td>\n",
       "      <td>Platform</td>\n",
       "      <td>0.01</td>\n",
       "      <td>0.00</td>\n",
       "      <td>0.00</td>\n",
       "      <td>0.00</td>\n",
       "      <td>NaN</td>\n",
       "      <td>NaN</td>\n",
       "      <td>NaN</td>\n",
       "    </tr>\n",
       "    <tr>\n",
       "      <th>16714</th>\n",
       "      <td>Winning Post 8 2016</td>\n",
       "      <td>PSV</td>\n",
       "      <td>2016.0</td>\n",
       "      <td>Simulation</td>\n",
       "      <td>0.00</td>\n",
       "      <td>0.00</td>\n",
       "      <td>0.01</td>\n",
       "      <td>0.00</td>\n",
       "      <td>NaN</td>\n",
       "      <td>NaN</td>\n",
       "      <td>NaN</td>\n",
       "    </tr>\n",
       "  </tbody>\n",
       "</table>\n",
       "<p>16715 rows × 11 columns</p>\n",
       "</div>"
      ],
      "text/plain": [
       "                                Name Platform  Year_of_Release         Genre  \\\n",
       "0                         Wii Sports      Wii           2006.0        Sports   \n",
       "1                  Super Mario Bros.      NES           1985.0      Platform   \n",
       "2                     Mario Kart Wii      Wii           2008.0        Racing   \n",
       "3                  Wii Sports Resort      Wii           2009.0        Sports   \n",
       "4           Pokemon Red/Pokemon Blue       GB           1996.0  Role-Playing   \n",
       "...                              ...      ...              ...           ...   \n",
       "16710  Samurai Warriors: Sanada Maru      PS3           2016.0        Action   \n",
       "16711               LMA Manager 2007     X360           2006.0        Sports   \n",
       "16712        Haitaka no Psychedelica      PSV           2016.0     Adventure   \n",
       "16713               Spirits & Spells      GBA           2003.0      Platform   \n",
       "16714            Winning Post 8 2016      PSV           2016.0    Simulation   \n",
       "\n",
       "       NA_sales  EU_sales  JP_sales  Other_sales  Critic_Score User_Score  \\\n",
       "0         41.36     28.96      3.77         8.45          76.0          8   \n",
       "1         29.08      3.58      6.81         0.77           NaN        NaN   \n",
       "2         15.68     12.76      3.79         3.29          82.0        8.3   \n",
       "3         15.61     10.93      3.28         2.95          80.0          8   \n",
       "4         11.27      8.89     10.22         1.00           NaN        NaN   \n",
       "...         ...       ...       ...          ...           ...        ...   \n",
       "16710      0.00      0.00      0.01         0.00           NaN        NaN   \n",
       "16711      0.00      0.01      0.00         0.00           NaN        NaN   \n",
       "16712      0.00      0.00      0.01         0.00           NaN        NaN   \n",
       "16713      0.01      0.00      0.00         0.00           NaN        NaN   \n",
       "16714      0.00      0.00      0.01         0.00           NaN        NaN   \n",
       "\n",
       "      Rating  \n",
       "0          E  \n",
       "1        NaN  \n",
       "2          E  \n",
       "3          E  \n",
       "4        NaN  \n",
       "...      ...  \n",
       "16710    NaN  \n",
       "16711    NaN  \n",
       "16712    NaN  \n",
       "16713    NaN  \n",
       "16714    NaN  \n",
       "\n",
       "[16715 rows x 11 columns]"
      ]
     },
     "execution_count": 2,
     "metadata": {},
     "output_type": "execute_result"
    }
   ],
   "source": [
    "data = pd.read_csv('/datasets/games.csv')\n",
    "data"
   ]
  },
  {
   "cell_type": "markdown",
   "metadata": {},
   "source": [
    "* `Name` — название игры\n",
    "* `Platform` — платформа\n",
    "* `Year_of_Release` — год выпуска\n",
    "* `Genre` — жанр игры\n",
    "* `NA_sales` — продажи в Северной Америке (миллионы проданных копий)\n",
    "* `EU_sales` — продажи в Европе (миллионы проданных копий)\n",
    "* `JP_sales` — продажи в Японии (миллионы проданных копий)\n",
    "* `Other_sales` — продажи в других странах (миллионы проданных копий)\n",
    "* `Critic_Score` — оценка критиков (максимум 100)\n",
    "* `User_Score` — оценка пользователей (максимум 10)\n",
    "* `Rating` — рейтинг от организации ESRB (англ. Entertainment Software Rating Board). Эта ассоциация определяет рейтинг компьютерных игр и присваивает им подходящую возрастную категорию."
   ]
  },
  {
   "cell_type": "code",
   "execution_count": 3,
   "metadata": {
    "scrolled": true
   },
   "outputs": [
    {
     "name": "stdout",
     "output_type": "stream",
     "text": [
      "<class 'pandas.core.frame.DataFrame'>\n",
      "RangeIndex: 16715 entries, 0 to 16714\n",
      "Data columns (total 11 columns):\n",
      " #   Column           Non-Null Count  Dtype  \n",
      "---  ------           --------------  -----  \n",
      " 0   Name             16713 non-null  object \n",
      " 1   Platform         16715 non-null  object \n",
      " 2   Year_of_Release  16446 non-null  float64\n",
      " 3   Genre            16713 non-null  object \n",
      " 4   NA_sales         16715 non-null  float64\n",
      " 5   EU_sales         16715 non-null  float64\n",
      " 6   JP_sales         16715 non-null  float64\n",
      " 7   Other_sales      16715 non-null  float64\n",
      " 8   Critic_Score     8137 non-null   float64\n",
      " 9   User_Score       10014 non-null  object \n",
      " 10  Rating           9949 non-null   object \n",
      "dtypes: float64(6), object(5)\n",
      "memory usage: 1.4+ MB\n"
     ]
    }
   ],
   "source": [
    "data.info()"
   ]
  },
  {
   "cell_type": "code",
   "execution_count": 4,
   "metadata": {
    "scrolled": true
   },
   "outputs": [
    {
     "data": {
      "text/plain": [
       "Name                  2\n",
       "Platform              0\n",
       "Year_of_Release     269\n",
       "Genre                 2\n",
       "NA_sales              0\n",
       "EU_sales              0\n",
       "JP_sales              0\n",
       "Other_sales           0\n",
       "Critic_Score       8578\n",
       "User_Score         6701\n",
       "Rating             6766\n",
       "dtype: int64"
      ]
     },
     "execution_count": 4,
     "metadata": {},
     "output_type": "execute_result"
    }
   ],
   "source": [
    "data.isna().sum()"
   ]
  },
  {
   "cell_type": "markdown",
   "metadata": {},
   "source": [
    "### Вывод \n",
    "\n",
    "* Стоит подумать, как поступить с очень большим кол-вом пропусков в столбцах `critic_score` и `user_score`, `rating`;\n",
    "* Привести все к змеиному регистру;\n",
    "* Привести данные в нужные типы."
   ]
  },
  {
   "cell_type": "markdown",
   "metadata": {},
   "source": [
    "## Шаг 2. Предобработка данных"
   ]
  },
  {
   "cell_type": "markdown",
   "metadata": {},
   "source": [
    "### Приводим столбцы к нижнему регистру"
   ]
  },
  {
   "cell_type": "code",
   "execution_count": 5,
   "metadata": {},
   "outputs": [],
   "source": [
    "data = data.rename(columns={'Name':'name', 'Platform':'platform', 'Year_of_Release':'year_of_release', 'Genre':'genre', 'NA_sales':'na_sales', 'EU_sales':'eu_sales', 'JP_sales':'jp_sales', 'Other_sales':'other_sales', 'Critic_Score':'critic_score', 'User_Score':'user_score', 'Rating':'rating'})"
   ]
  },
  {
   "cell_type": "markdown",
   "metadata": {},
   "source": [
    "### Избавляемся от пропусков"
   ]
  },
  {
   "cell_type": "markdown",
   "metadata": {},
   "source": [
    "Ввиду малого кол-ва пропусков в этих столбцах, просто избавляемся от них."
   ]
  },
  {
   "cell_type": "code",
   "execution_count": 6,
   "metadata": {
    "scrolled": true
   },
   "outputs": [],
   "source": [
    "data = data.dropna(subset=['name', 'genre'])"
   ]
  },
  {
   "cell_type": "markdown",
   "metadata": {},
   "source": [
    "### Работа с пропусками"
   ]
  },
  {
   "cell_type": "markdown",
   "metadata": {},
   "source": [
    "Выводим уникальные значения столбцов с большим кол-вом пропусков."
   ]
  },
  {
   "cell_type": "code",
   "execution_count": 7,
   "metadata": {
    "scrolled": true
   },
   "outputs": [
    {
     "data": {
      "text/plain": [
       "array(['E', nan, 'M', 'T', 'E10+', 'K-A', 'AO', 'EC', 'RP'], dtype=object)"
      ]
     },
     "execution_count": 7,
     "metadata": {},
     "output_type": "execute_result"
    }
   ],
   "source": [
    "data['rating'].unique()"
   ]
  },
  {
   "cell_type": "code",
   "execution_count": 8,
   "metadata": {
    "scrolled": true
   },
   "outputs": [
    {
     "data": {
      "text/plain": [
       "array([76., nan, 82., 80., 89., 58., 87., 91., 61., 97., 95., 77., 88.,\n",
       "       83., 94., 93., 85., 86., 98., 96., 90., 84., 73., 74., 78., 92.,\n",
       "       71., 72., 68., 62., 49., 67., 81., 66., 56., 79., 70., 59., 64.,\n",
       "       75., 60., 63., 69., 50., 25., 42., 44., 55., 48., 57., 29., 47.,\n",
       "       65., 54., 20., 53., 37., 38., 33., 52., 30., 32., 43., 45., 51.,\n",
       "       40., 46., 39., 34., 35., 41., 36., 28., 31., 27., 26., 19., 23.,\n",
       "       24., 21., 17., 22., 13.])"
      ]
     },
     "execution_count": 8,
     "metadata": {},
     "output_type": "execute_result"
    }
   ],
   "source": [
    "data['critic_score'].unique()"
   ]
  },
  {
   "cell_type": "code",
   "execution_count": 9,
   "metadata": {
    "scrolled": true
   },
   "outputs": [
    {
     "data": {
      "text/plain": [
       "array(['8', nan, '8.3', '8.5', '6.6', '8.4', '8.6', '7.7', '6.3', '7.4',\n",
       "       '8.2', '9', '7.9', '8.1', '8.7', '7.1', '3.4', '5.3', '4.8', '3.2',\n",
       "       '8.9', '6.4', '7.8', '7.5', '2.6', '7.2', '9.2', '7', '7.3', '4.3',\n",
       "       '7.6', '5.7', '5', '9.1', '6.5', 'tbd', '8.8', '6.9', '9.4', '6.8',\n",
       "       '6.1', '6.7', '5.4', '4', '4.9', '4.5', '9.3', '6.2', '4.2', '6',\n",
       "       '3.7', '4.1', '5.8', '5.6', '5.5', '4.4', '4.6', '5.9', '3.9',\n",
       "       '3.1', '2.9', '5.2', '3.3', '4.7', '5.1', '3.5', '2.5', '1.9', '3',\n",
       "       '2.7', '2.2', '2', '9.5', '2.1', '3.6', '2.8', '1.8', '3.8', '0',\n",
       "       '1.6', '9.6', '2.4', '1.7', '1.1', '0.3', '1.5', '0.7', '1.2',\n",
       "       '2.3', '0.5', '1.3', '0.2', '0.6', '1.4', '0.9', '1', '9.7'],\n",
       "      dtype=object)"
      ]
     },
     "execution_count": 9,
     "metadata": {},
     "output_type": "execute_result"
    }
   ],
   "source": [
    "data['user_score'].unique()"
   ]
  },
  {
   "cell_type": "markdown",
   "metadata": {},
   "source": [
    "Везде есть НаНы, в столбце с рейтингом от юзеров видим аббревиатуру tbd от английского to be done. Значит, отзывы еще будут написаны.\n",
    "\n",
    "Принимаю решение заменить пропуски заглушками, т.к. восстановить достоверные данные не представляется возможным."
   ]
  },
  {
   "cell_type": "code",
   "execution_count": 10,
   "metadata": {},
   "outputs": [],
   "source": [
    "data['year_of_release'] = data['year_of_release'].fillna(-1)"
   ]
  },
  {
   "cell_type": "code",
   "execution_count": 11,
   "metadata": {},
   "outputs": [],
   "source": [
    "data['year_of_release'] = data['year_of_release'].astype(int)"
   ]
  },
  {
   "cell_type": "code",
   "execution_count": 12,
   "metadata": {},
   "outputs": [
    {
     "data": {
      "text/html": [
       "<div>\n",
       "<style scoped>\n",
       "    .dataframe tbody tr th:only-of-type {\n",
       "        vertical-align: middle;\n",
       "    }\n",
       "\n",
       "    .dataframe tbody tr th {\n",
       "        vertical-align: top;\n",
       "    }\n",
       "\n",
       "    .dataframe thead th {\n",
       "        text-align: right;\n",
       "    }\n",
       "</style>\n",
       "<table border=\"1\" class=\"dataframe\">\n",
       "  <thead>\n",
       "    <tr style=\"text-align: right;\">\n",
       "      <th></th>\n",
       "      <th>name</th>\n",
       "      <th>platform</th>\n",
       "      <th>year_of_release</th>\n",
       "      <th>genre</th>\n",
       "      <th>na_sales</th>\n",
       "      <th>eu_sales</th>\n",
       "      <th>jp_sales</th>\n",
       "      <th>other_sales</th>\n",
       "      <th>critic_score</th>\n",
       "      <th>user_score</th>\n",
       "      <th>rating</th>\n",
       "    </tr>\n",
       "  </thead>\n",
       "  <tbody>\n",
       "    <tr>\n",
       "      <th>1</th>\n",
       "      <td>Super Mario Bros.</td>\n",
       "      <td>NES</td>\n",
       "      <td>1985</td>\n",
       "      <td>Platform</td>\n",
       "      <td>29.08</td>\n",
       "      <td>3.58</td>\n",
       "      <td>6.81</td>\n",
       "      <td>0.77</td>\n",
       "      <td>NaN</td>\n",
       "      <td>NaN</td>\n",
       "      <td>NaN</td>\n",
       "    </tr>\n",
       "    <tr>\n",
       "      <th>4</th>\n",
       "      <td>Pokemon Red/Pokemon Blue</td>\n",
       "      <td>GB</td>\n",
       "      <td>1996</td>\n",
       "      <td>Role-Playing</td>\n",
       "      <td>11.27</td>\n",
       "      <td>8.89</td>\n",
       "      <td>10.22</td>\n",
       "      <td>1.00</td>\n",
       "      <td>NaN</td>\n",
       "      <td>NaN</td>\n",
       "      <td>NaN</td>\n",
       "    </tr>\n",
       "    <tr>\n",
       "      <th>5</th>\n",
       "      <td>Tetris</td>\n",
       "      <td>GB</td>\n",
       "      <td>1989</td>\n",
       "      <td>Puzzle</td>\n",
       "      <td>23.20</td>\n",
       "      <td>2.26</td>\n",
       "      <td>4.22</td>\n",
       "      <td>0.58</td>\n",
       "      <td>NaN</td>\n",
       "      <td>NaN</td>\n",
       "      <td>NaN</td>\n",
       "    </tr>\n",
       "    <tr>\n",
       "      <th>9</th>\n",
       "      <td>Duck Hunt</td>\n",
       "      <td>NES</td>\n",
       "      <td>1984</td>\n",
       "      <td>Shooter</td>\n",
       "      <td>26.93</td>\n",
       "      <td>0.63</td>\n",
       "      <td>0.28</td>\n",
       "      <td>0.47</td>\n",
       "      <td>NaN</td>\n",
       "      <td>NaN</td>\n",
       "      <td>NaN</td>\n",
       "    </tr>\n",
       "    <tr>\n",
       "      <th>10</th>\n",
       "      <td>Nintendogs</td>\n",
       "      <td>DS</td>\n",
       "      <td>2005</td>\n",
       "      <td>Simulation</td>\n",
       "      <td>9.05</td>\n",
       "      <td>10.95</td>\n",
       "      <td>1.93</td>\n",
       "      <td>2.74</td>\n",
       "      <td>NaN</td>\n",
       "      <td>NaN</td>\n",
       "      <td>NaN</td>\n",
       "    </tr>\n",
       "    <tr>\n",
       "      <th>...</th>\n",
       "      <td>...</td>\n",
       "      <td>...</td>\n",
       "      <td>...</td>\n",
       "      <td>...</td>\n",
       "      <td>...</td>\n",
       "      <td>...</td>\n",
       "      <td>...</td>\n",
       "      <td>...</td>\n",
       "      <td>...</td>\n",
       "      <td>...</td>\n",
       "      <td>...</td>\n",
       "    </tr>\n",
       "    <tr>\n",
       "      <th>16710</th>\n",
       "      <td>Samurai Warriors: Sanada Maru</td>\n",
       "      <td>PS3</td>\n",
       "      <td>2016</td>\n",
       "      <td>Action</td>\n",
       "      <td>0.00</td>\n",
       "      <td>0.00</td>\n",
       "      <td>0.01</td>\n",
       "      <td>0.00</td>\n",
       "      <td>NaN</td>\n",
       "      <td>NaN</td>\n",
       "      <td>NaN</td>\n",
       "    </tr>\n",
       "    <tr>\n",
       "      <th>16711</th>\n",
       "      <td>LMA Manager 2007</td>\n",
       "      <td>X360</td>\n",
       "      <td>2006</td>\n",
       "      <td>Sports</td>\n",
       "      <td>0.00</td>\n",
       "      <td>0.01</td>\n",
       "      <td>0.00</td>\n",
       "      <td>0.00</td>\n",
       "      <td>NaN</td>\n",
       "      <td>NaN</td>\n",
       "      <td>NaN</td>\n",
       "    </tr>\n",
       "    <tr>\n",
       "      <th>16712</th>\n",
       "      <td>Haitaka no Psychedelica</td>\n",
       "      <td>PSV</td>\n",
       "      <td>2016</td>\n",
       "      <td>Adventure</td>\n",
       "      <td>0.00</td>\n",
       "      <td>0.00</td>\n",
       "      <td>0.01</td>\n",
       "      <td>0.00</td>\n",
       "      <td>NaN</td>\n",
       "      <td>NaN</td>\n",
       "      <td>NaN</td>\n",
       "    </tr>\n",
       "    <tr>\n",
       "      <th>16713</th>\n",
       "      <td>Spirits &amp; Spells</td>\n",
       "      <td>GBA</td>\n",
       "      <td>2003</td>\n",
       "      <td>Platform</td>\n",
       "      <td>0.01</td>\n",
       "      <td>0.00</td>\n",
       "      <td>0.00</td>\n",
       "      <td>0.00</td>\n",
       "      <td>NaN</td>\n",
       "      <td>NaN</td>\n",
       "      <td>NaN</td>\n",
       "    </tr>\n",
       "    <tr>\n",
       "      <th>16714</th>\n",
       "      <td>Winning Post 8 2016</td>\n",
       "      <td>PSV</td>\n",
       "      <td>2016</td>\n",
       "      <td>Simulation</td>\n",
       "      <td>0.00</td>\n",
       "      <td>0.00</td>\n",
       "      <td>0.01</td>\n",
       "      <td>0.00</td>\n",
       "      <td>NaN</td>\n",
       "      <td>NaN</td>\n",
       "      <td>NaN</td>\n",
       "    </tr>\n",
       "  </tbody>\n",
       "</table>\n",
       "<p>6764 rows × 11 columns</p>\n",
       "</div>"
      ],
      "text/plain": [
       "                                name platform  year_of_release         genre  \\\n",
       "1                  Super Mario Bros.      NES             1985      Platform   \n",
       "4           Pokemon Red/Pokemon Blue       GB             1996  Role-Playing   \n",
       "5                             Tetris       GB             1989        Puzzle   \n",
       "9                          Duck Hunt      NES             1984       Shooter   \n",
       "10                        Nintendogs       DS             2005    Simulation   \n",
       "...                              ...      ...              ...           ...   \n",
       "16710  Samurai Warriors: Sanada Maru      PS3             2016        Action   \n",
       "16711               LMA Manager 2007     X360             2006        Sports   \n",
       "16712        Haitaka no Psychedelica      PSV             2016     Adventure   \n",
       "16713               Spirits & Spells      GBA             2003      Platform   \n",
       "16714            Winning Post 8 2016      PSV             2016    Simulation   \n",
       "\n",
       "       na_sales  eu_sales  jp_sales  other_sales  critic_score user_score  \\\n",
       "1         29.08      3.58      6.81         0.77           NaN        NaN   \n",
       "4         11.27      8.89     10.22         1.00           NaN        NaN   \n",
       "5         23.20      2.26      4.22         0.58           NaN        NaN   \n",
       "9         26.93      0.63      0.28         0.47           NaN        NaN   \n",
       "10         9.05     10.95      1.93         2.74           NaN        NaN   \n",
       "...         ...       ...       ...          ...           ...        ...   \n",
       "16710      0.00      0.00      0.01         0.00           NaN        NaN   \n",
       "16711      0.00      0.01      0.00         0.00           NaN        NaN   \n",
       "16712      0.00      0.00      0.01         0.00           NaN        NaN   \n",
       "16713      0.01      0.00      0.00         0.00           NaN        NaN   \n",
       "16714      0.00      0.00      0.01         0.00           NaN        NaN   \n",
       "\n",
       "      rating  \n",
       "1        NaN  \n",
       "4        NaN  \n",
       "5        NaN  \n",
       "9        NaN  \n",
       "10       NaN  \n",
       "...      ...  \n",
       "16710    NaN  \n",
       "16711    NaN  \n",
       "16712    NaN  \n",
       "16713    NaN  \n",
       "16714    NaN  \n",
       "\n",
       "[6764 rows x 11 columns]"
      ]
     },
     "execution_count": 12,
     "metadata": {},
     "output_type": "execute_result"
    }
   ],
   "source": [
    "data[data['rating'].isna()]"
   ]
  },
  {
   "cell_type": "code",
   "execution_count": 13,
   "metadata": {},
   "outputs": [],
   "source": [
    "data['rating'] = data['rating'].fillna('unknown')"
   ]
  },
  {
   "cell_type": "code",
   "execution_count": 14,
   "metadata": {},
   "outputs": [],
   "source": [
    "data['critic_score'] = data['critic_score'].fillna('-1')"
   ]
  },
  {
   "cell_type": "code",
   "execution_count": 15,
   "metadata": {},
   "outputs": [],
   "source": [
    "data['user_score'] = data['user_score'].replace('tbd', np.NaN).astype(float)"
   ]
  },
  {
   "cell_type": "code",
   "execution_count": 16,
   "metadata": {},
   "outputs": [],
   "source": [
    "data['user_score'] = data['user_score'].fillna('-1')\n",
    "data['user_score'] = data['user_score'].astype('float')"
   ]
  },
  {
   "cell_type": "code",
   "execution_count": 17,
   "metadata": {
    "scrolled": true
   },
   "outputs": [
    {
     "name": "stdout",
     "output_type": "stream",
     "text": [
      "<class 'pandas.core.frame.DataFrame'>\n",
      "Int64Index: 16713 entries, 0 to 16714\n",
      "Data columns (total 11 columns):\n",
      " #   Column           Non-Null Count  Dtype  \n",
      "---  ------           --------------  -----  \n",
      " 0   name             16713 non-null  object \n",
      " 1   platform         16713 non-null  object \n",
      " 2   year_of_release  16713 non-null  int64  \n",
      " 3   genre            16713 non-null  object \n",
      " 4   na_sales         16713 non-null  float64\n",
      " 5   eu_sales         16713 non-null  float64\n",
      " 6   jp_sales         16713 non-null  float64\n",
      " 7   other_sales      16713 non-null  float64\n",
      " 8   critic_score     16713 non-null  object \n",
      " 9   user_score       16713 non-null  float64\n",
      " 10  rating           16713 non-null  object \n",
      "dtypes: float64(5), int64(1), object(5)\n",
      "memory usage: 1.5+ MB\n"
     ]
    }
   ],
   "source": [
    "data.info()"
   ]
  },
  {
   "cell_type": "code",
   "execution_count": 18,
   "metadata": {},
   "outputs": [],
   "source": [
    "data['critic_score']=data['critic_score'].astype(float)"
   ]
  },
  {
   "cell_type": "code",
   "execution_count": 19,
   "metadata": {},
   "outputs": [
    {
     "data": {
      "text/plain": [
       "name               0\n",
       "platform           0\n",
       "year_of_release    0\n",
       "genre              0\n",
       "na_sales           0\n",
       "eu_sales           0\n",
       "jp_sales           0\n",
       "other_sales        0\n",
       "critic_score       0\n",
       "user_score         0\n",
       "rating             0\n",
       "dtype: int64"
      ]
     },
     "execution_count": 19,
     "metadata": {},
     "output_type": "execute_result"
    }
   ],
   "source": [
    "data.isna().sum()"
   ]
  },
  {
   "cell_type": "markdown",
   "metadata": {},
   "source": [
    "Добавляем новый столбец с общим количеством продаж по каждой игре."
   ]
  },
  {
   "cell_type": "code",
   "execution_count": 20,
   "metadata": {
    "scrolled": true
   },
   "outputs": [
    {
     "data": {
      "text/html": [
       "<div>\n",
       "<style scoped>\n",
       "    .dataframe tbody tr th:only-of-type {\n",
       "        vertical-align: middle;\n",
       "    }\n",
       "\n",
       "    .dataframe tbody tr th {\n",
       "        vertical-align: top;\n",
       "    }\n",
       "\n",
       "    .dataframe thead th {\n",
       "        text-align: right;\n",
       "    }\n",
       "</style>\n",
       "<table border=\"1\" class=\"dataframe\">\n",
       "  <thead>\n",
       "    <tr style=\"text-align: right;\">\n",
       "      <th></th>\n",
       "      <th>name</th>\n",
       "      <th>platform</th>\n",
       "      <th>year_of_release</th>\n",
       "      <th>genre</th>\n",
       "      <th>na_sales</th>\n",
       "      <th>eu_sales</th>\n",
       "      <th>jp_sales</th>\n",
       "      <th>other_sales</th>\n",
       "      <th>critic_score</th>\n",
       "      <th>user_score</th>\n",
       "      <th>rating</th>\n",
       "      <th>total_sales</th>\n",
       "    </tr>\n",
       "  </thead>\n",
       "  <tbody>\n",
       "    <tr>\n",
       "      <th>0</th>\n",
       "      <td>Wii Sports</td>\n",
       "      <td>Wii</td>\n",
       "      <td>2006</td>\n",
       "      <td>Sports</td>\n",
       "      <td>41.36</td>\n",
       "      <td>28.96</td>\n",
       "      <td>3.77</td>\n",
       "      <td>8.45</td>\n",
       "      <td>76.0</td>\n",
       "      <td>8.0</td>\n",
       "      <td>E</td>\n",
       "      <td>82.54</td>\n",
       "    </tr>\n",
       "    <tr>\n",
       "      <th>1</th>\n",
       "      <td>Super Mario Bros.</td>\n",
       "      <td>NES</td>\n",
       "      <td>1985</td>\n",
       "      <td>Platform</td>\n",
       "      <td>29.08</td>\n",
       "      <td>3.58</td>\n",
       "      <td>6.81</td>\n",
       "      <td>0.77</td>\n",
       "      <td>-1.0</td>\n",
       "      <td>-1.0</td>\n",
       "      <td>unknown</td>\n",
       "      <td>40.24</td>\n",
       "    </tr>\n",
       "    <tr>\n",
       "      <th>2</th>\n",
       "      <td>Mario Kart Wii</td>\n",
       "      <td>Wii</td>\n",
       "      <td>2008</td>\n",
       "      <td>Racing</td>\n",
       "      <td>15.68</td>\n",
       "      <td>12.76</td>\n",
       "      <td>3.79</td>\n",
       "      <td>3.29</td>\n",
       "      <td>82.0</td>\n",
       "      <td>8.3</td>\n",
       "      <td>E</td>\n",
       "      <td>35.52</td>\n",
       "    </tr>\n",
       "    <tr>\n",
       "      <th>3</th>\n",
       "      <td>Wii Sports Resort</td>\n",
       "      <td>Wii</td>\n",
       "      <td>2009</td>\n",
       "      <td>Sports</td>\n",
       "      <td>15.61</td>\n",
       "      <td>10.93</td>\n",
       "      <td>3.28</td>\n",
       "      <td>2.95</td>\n",
       "      <td>80.0</td>\n",
       "      <td>8.0</td>\n",
       "      <td>E</td>\n",
       "      <td>32.77</td>\n",
       "    </tr>\n",
       "    <tr>\n",
       "      <th>4</th>\n",
       "      <td>Pokemon Red/Pokemon Blue</td>\n",
       "      <td>GB</td>\n",
       "      <td>1996</td>\n",
       "      <td>Role-Playing</td>\n",
       "      <td>11.27</td>\n",
       "      <td>8.89</td>\n",
       "      <td>10.22</td>\n",
       "      <td>1.00</td>\n",
       "      <td>-1.0</td>\n",
       "      <td>-1.0</td>\n",
       "      <td>unknown</td>\n",
       "      <td>31.38</td>\n",
       "    </tr>\n",
       "    <tr>\n",
       "      <th>...</th>\n",
       "      <td>...</td>\n",
       "      <td>...</td>\n",
       "      <td>...</td>\n",
       "      <td>...</td>\n",
       "      <td>...</td>\n",
       "      <td>...</td>\n",
       "      <td>...</td>\n",
       "      <td>...</td>\n",
       "      <td>...</td>\n",
       "      <td>...</td>\n",
       "      <td>...</td>\n",
       "      <td>...</td>\n",
       "    </tr>\n",
       "    <tr>\n",
       "      <th>16710</th>\n",
       "      <td>Samurai Warriors: Sanada Maru</td>\n",
       "      <td>PS3</td>\n",
       "      <td>2016</td>\n",
       "      <td>Action</td>\n",
       "      <td>0.00</td>\n",
       "      <td>0.00</td>\n",
       "      <td>0.01</td>\n",
       "      <td>0.00</td>\n",
       "      <td>-1.0</td>\n",
       "      <td>-1.0</td>\n",
       "      <td>unknown</td>\n",
       "      <td>0.01</td>\n",
       "    </tr>\n",
       "    <tr>\n",
       "      <th>16711</th>\n",
       "      <td>LMA Manager 2007</td>\n",
       "      <td>X360</td>\n",
       "      <td>2006</td>\n",
       "      <td>Sports</td>\n",
       "      <td>0.00</td>\n",
       "      <td>0.01</td>\n",
       "      <td>0.00</td>\n",
       "      <td>0.00</td>\n",
       "      <td>-1.0</td>\n",
       "      <td>-1.0</td>\n",
       "      <td>unknown</td>\n",
       "      <td>0.01</td>\n",
       "    </tr>\n",
       "    <tr>\n",
       "      <th>16712</th>\n",
       "      <td>Haitaka no Psychedelica</td>\n",
       "      <td>PSV</td>\n",
       "      <td>2016</td>\n",
       "      <td>Adventure</td>\n",
       "      <td>0.00</td>\n",
       "      <td>0.00</td>\n",
       "      <td>0.01</td>\n",
       "      <td>0.00</td>\n",
       "      <td>-1.0</td>\n",
       "      <td>-1.0</td>\n",
       "      <td>unknown</td>\n",
       "      <td>0.01</td>\n",
       "    </tr>\n",
       "    <tr>\n",
       "      <th>16713</th>\n",
       "      <td>Spirits &amp; Spells</td>\n",
       "      <td>GBA</td>\n",
       "      <td>2003</td>\n",
       "      <td>Platform</td>\n",
       "      <td>0.01</td>\n",
       "      <td>0.00</td>\n",
       "      <td>0.00</td>\n",
       "      <td>0.00</td>\n",
       "      <td>-1.0</td>\n",
       "      <td>-1.0</td>\n",
       "      <td>unknown</td>\n",
       "      <td>0.01</td>\n",
       "    </tr>\n",
       "    <tr>\n",
       "      <th>16714</th>\n",
       "      <td>Winning Post 8 2016</td>\n",
       "      <td>PSV</td>\n",
       "      <td>2016</td>\n",
       "      <td>Simulation</td>\n",
       "      <td>0.00</td>\n",
       "      <td>0.00</td>\n",
       "      <td>0.01</td>\n",
       "      <td>0.00</td>\n",
       "      <td>-1.0</td>\n",
       "      <td>-1.0</td>\n",
       "      <td>unknown</td>\n",
       "      <td>0.01</td>\n",
       "    </tr>\n",
       "  </tbody>\n",
       "</table>\n",
       "<p>16713 rows × 12 columns</p>\n",
       "</div>"
      ],
      "text/plain": [
       "                                name platform  year_of_release         genre  \\\n",
       "0                         Wii Sports      Wii             2006        Sports   \n",
       "1                  Super Mario Bros.      NES             1985      Platform   \n",
       "2                     Mario Kart Wii      Wii             2008        Racing   \n",
       "3                  Wii Sports Resort      Wii             2009        Sports   \n",
       "4           Pokemon Red/Pokemon Blue       GB             1996  Role-Playing   \n",
       "...                              ...      ...              ...           ...   \n",
       "16710  Samurai Warriors: Sanada Maru      PS3             2016        Action   \n",
       "16711               LMA Manager 2007     X360             2006        Sports   \n",
       "16712        Haitaka no Psychedelica      PSV             2016     Adventure   \n",
       "16713               Spirits & Spells      GBA             2003      Platform   \n",
       "16714            Winning Post 8 2016      PSV             2016    Simulation   \n",
       "\n",
       "       na_sales  eu_sales  jp_sales  other_sales  critic_score  user_score  \\\n",
       "0         41.36     28.96      3.77         8.45          76.0         8.0   \n",
       "1         29.08      3.58      6.81         0.77          -1.0        -1.0   \n",
       "2         15.68     12.76      3.79         3.29          82.0         8.3   \n",
       "3         15.61     10.93      3.28         2.95          80.0         8.0   \n",
       "4         11.27      8.89     10.22         1.00          -1.0        -1.0   \n",
       "...         ...       ...       ...          ...           ...         ...   \n",
       "16710      0.00      0.00      0.01         0.00          -1.0        -1.0   \n",
       "16711      0.00      0.01      0.00         0.00          -1.0        -1.0   \n",
       "16712      0.00      0.00      0.01         0.00          -1.0        -1.0   \n",
       "16713      0.01      0.00      0.00         0.00          -1.0        -1.0   \n",
       "16714      0.00      0.00      0.01         0.00          -1.0        -1.0   \n",
       "\n",
       "        rating  total_sales  \n",
       "0            E        82.54  \n",
       "1      unknown        40.24  \n",
       "2            E        35.52  \n",
       "3            E        32.77  \n",
       "4      unknown        31.38  \n",
       "...        ...          ...  \n",
       "16710  unknown         0.01  \n",
       "16711  unknown         0.01  \n",
       "16712  unknown         0.01  \n",
       "16713  unknown         0.01  \n",
       "16714  unknown         0.01  \n",
       "\n",
       "[16713 rows x 12 columns]"
      ]
     },
     "execution_count": 20,
     "metadata": {},
     "output_type": "execute_result"
    }
   ],
   "source": [
    "data['total_sales'] = data.loc[:, 'na_sales':'other_sales'].sum(1)\n",
    "data"
   ]
  },
  {
   "cell_type": "markdown",
   "metadata": {},
   "source": [
    "### Вывод"
   ]
  },
  {
   "cell_type": "markdown",
   "metadata": {},
   "source": [
    "* Заменили названия столбцов;\n",
    "* Преобразовали данные в нужные типы;\n",
    "* Обработали пропуски;\n",
    "* Посчитали суммарные продажи во всех регионах и записали их в отдельный столбец."
   ]
  },
  {
   "cell_type": "markdown",
   "metadata": {},
   "source": [
    "## Шаг 3. Исследовательский анализ данных."
   ]
  },
  {
   "cell_type": "markdown",
   "metadata": {},
   "source": [
    "### Посмотрите, сколько игр выпускалось в разные годы. Важны ли данные за все периоды?"
   ]
  },
  {
   "cell_type": "code",
   "execution_count": 21,
   "metadata": {
    "scrolled": true
   },
   "outputs": [
    {
     "data": {
      "text/html": [
       "<div>\n",
       "<style scoped>\n",
       "    .dataframe tbody tr th:only-of-type {\n",
       "        vertical-align: middle;\n",
       "    }\n",
       "\n",
       "    .dataframe tbody tr th {\n",
       "        vertical-align: top;\n",
       "    }\n",
       "\n",
       "    .dataframe thead th {\n",
       "        text-align: right;\n",
       "    }\n",
       "</style>\n",
       "<table border=\"1\" class=\"dataframe\">\n",
       "  <thead>\n",
       "    <tr style=\"text-align: right;\">\n",
       "      <th></th>\n",
       "      <th>year_of_release</th>\n",
       "      <th>name</th>\n",
       "    </tr>\n",
       "  </thead>\n",
       "  <tbody>\n",
       "    <tr>\n",
       "      <th>1</th>\n",
       "      <td>1980</td>\n",
       "      <td>9</td>\n",
       "    </tr>\n",
       "    <tr>\n",
       "      <th>2</th>\n",
       "      <td>1981</td>\n",
       "      <td>46</td>\n",
       "    </tr>\n",
       "    <tr>\n",
       "      <th>3</th>\n",
       "      <td>1982</td>\n",
       "      <td>36</td>\n",
       "    </tr>\n",
       "    <tr>\n",
       "      <th>4</th>\n",
       "      <td>1983</td>\n",
       "      <td>17</td>\n",
       "    </tr>\n",
       "    <tr>\n",
       "      <th>5</th>\n",
       "      <td>1984</td>\n",
       "      <td>14</td>\n",
       "    </tr>\n",
       "    <tr>\n",
       "      <th>6</th>\n",
       "      <td>1985</td>\n",
       "      <td>14</td>\n",
       "    </tr>\n",
       "    <tr>\n",
       "      <th>7</th>\n",
       "      <td>1986</td>\n",
       "      <td>21</td>\n",
       "    </tr>\n",
       "    <tr>\n",
       "      <th>8</th>\n",
       "      <td>1987</td>\n",
       "      <td>16</td>\n",
       "    </tr>\n",
       "    <tr>\n",
       "      <th>9</th>\n",
       "      <td>1988</td>\n",
       "      <td>15</td>\n",
       "    </tr>\n",
       "    <tr>\n",
       "      <th>10</th>\n",
       "      <td>1989</td>\n",
       "      <td>17</td>\n",
       "    </tr>\n",
       "    <tr>\n",
       "      <th>11</th>\n",
       "      <td>1990</td>\n",
       "      <td>16</td>\n",
       "    </tr>\n",
       "    <tr>\n",
       "      <th>12</th>\n",
       "      <td>1991</td>\n",
       "      <td>41</td>\n",
       "    </tr>\n",
       "    <tr>\n",
       "      <th>13</th>\n",
       "      <td>1992</td>\n",
       "      <td>43</td>\n",
       "    </tr>\n",
       "    <tr>\n",
       "      <th>14</th>\n",
       "      <td>1993</td>\n",
       "      <td>60</td>\n",
       "    </tr>\n",
       "    <tr>\n",
       "      <th>15</th>\n",
       "      <td>1994</td>\n",
       "      <td>121</td>\n",
       "    </tr>\n",
       "    <tr>\n",
       "      <th>16</th>\n",
       "      <td>1995</td>\n",
       "      <td>219</td>\n",
       "    </tr>\n",
       "    <tr>\n",
       "      <th>17</th>\n",
       "      <td>1996</td>\n",
       "      <td>263</td>\n",
       "    </tr>\n",
       "    <tr>\n",
       "      <th>18</th>\n",
       "      <td>1997</td>\n",
       "      <td>289</td>\n",
       "    </tr>\n",
       "    <tr>\n",
       "      <th>19</th>\n",
       "      <td>1998</td>\n",
       "      <td>379</td>\n",
       "    </tr>\n",
       "    <tr>\n",
       "      <th>20</th>\n",
       "      <td>1999</td>\n",
       "      <td>338</td>\n",
       "    </tr>\n",
       "    <tr>\n",
       "      <th>21</th>\n",
       "      <td>2000</td>\n",
       "      <td>350</td>\n",
       "    </tr>\n",
       "    <tr>\n",
       "      <th>22</th>\n",
       "      <td>2001</td>\n",
       "      <td>482</td>\n",
       "    </tr>\n",
       "    <tr>\n",
       "      <th>23</th>\n",
       "      <td>2002</td>\n",
       "      <td>829</td>\n",
       "    </tr>\n",
       "    <tr>\n",
       "      <th>24</th>\n",
       "      <td>2003</td>\n",
       "      <td>775</td>\n",
       "    </tr>\n",
       "    <tr>\n",
       "      <th>25</th>\n",
       "      <td>2004</td>\n",
       "      <td>762</td>\n",
       "    </tr>\n",
       "    <tr>\n",
       "      <th>26</th>\n",
       "      <td>2005</td>\n",
       "      <td>939</td>\n",
       "    </tr>\n",
       "    <tr>\n",
       "      <th>27</th>\n",
       "      <td>2006</td>\n",
       "      <td>1006</td>\n",
       "    </tr>\n",
       "    <tr>\n",
       "      <th>28</th>\n",
       "      <td>2007</td>\n",
       "      <td>1197</td>\n",
       "    </tr>\n",
       "    <tr>\n",
       "      <th>29</th>\n",
       "      <td>2008</td>\n",
       "      <td>1427</td>\n",
       "    </tr>\n",
       "    <tr>\n",
       "      <th>30</th>\n",
       "      <td>2009</td>\n",
       "      <td>1426</td>\n",
       "    </tr>\n",
       "    <tr>\n",
       "      <th>31</th>\n",
       "      <td>2010</td>\n",
       "      <td>1255</td>\n",
       "    </tr>\n",
       "    <tr>\n",
       "      <th>32</th>\n",
       "      <td>2011</td>\n",
       "      <td>1136</td>\n",
       "    </tr>\n",
       "    <tr>\n",
       "      <th>33</th>\n",
       "      <td>2012</td>\n",
       "      <td>653</td>\n",
       "    </tr>\n",
       "    <tr>\n",
       "      <th>34</th>\n",
       "      <td>2013</td>\n",
       "      <td>544</td>\n",
       "    </tr>\n",
       "    <tr>\n",
       "      <th>35</th>\n",
       "      <td>2014</td>\n",
       "      <td>581</td>\n",
       "    </tr>\n",
       "    <tr>\n",
       "      <th>36</th>\n",
       "      <td>2015</td>\n",
       "      <td>606</td>\n",
       "    </tr>\n",
       "    <tr>\n",
       "      <th>37</th>\n",
       "      <td>2016</td>\n",
       "      <td>502</td>\n",
       "    </tr>\n",
       "  </tbody>\n",
       "</table>\n",
       "</div>"
      ],
      "text/plain": [
       "    year_of_release  name\n",
       "1              1980     9\n",
       "2              1981    46\n",
       "3              1982    36\n",
       "4              1983    17\n",
       "5              1984    14\n",
       "6              1985    14\n",
       "7              1986    21\n",
       "8              1987    16\n",
       "9              1988    15\n",
       "10             1989    17\n",
       "11             1990    16\n",
       "12             1991    41\n",
       "13             1992    43\n",
       "14             1993    60\n",
       "15             1994   121\n",
       "16             1995   219\n",
       "17             1996   263\n",
       "18             1997   289\n",
       "19             1998   379\n",
       "20             1999   338\n",
       "21             2000   350\n",
       "22             2001   482\n",
       "23             2002   829\n",
       "24             2003   775\n",
       "25             2004   762\n",
       "26             2005   939\n",
       "27             2006  1006\n",
       "28             2007  1197\n",
       "29             2008  1427\n",
       "30             2009  1426\n",
       "31             2010  1255\n",
       "32             2011  1136\n",
       "33             2012   653\n",
       "34             2013   544\n",
       "35             2014   581\n",
       "36             2015   606\n",
       "37             2016   502"
      ]
     },
     "execution_count": 21,
     "metadata": {},
     "output_type": "execute_result"
    }
   ],
   "source": [
    "data_games=data.pivot_table(index=['year_of_release'], values=['name'], aggfunc='count')\n",
    "data_games.reset_index(inplace=True)\n",
    "data_games1=data_games[data_games['year_of_release']>1979]\n",
    "data_games1"
   ]
  },
  {
   "cell_type": "code",
   "execution_count": 22,
   "metadata": {
    "scrolled": true
   },
   "outputs": [
    {
     "data": {
      "image/png": "[encoded data removed]",
      "text/plain": [
       "<Figure size 720x360 with 1 Axes>"
      ]
     },
     "metadata": {
      "needs_background": "light"
     },
     "output_type": "display_data"
    }
   ],
   "source": [
    "fig, ax = plt.subplots()\n",
    "ax.grid()\n",
    "ax.set_title('Продажи игр по годам')\n",
    "sns.barplot(x=(data_games1['year_of_release']),y=data_games1['name'])\n",
    "ax.set_xlabel('год')\n",
    "ax.set_ylabel('количество проданных игр')\n",
    "plt.xticks(rotation=90)\n",
    "fig.set_figwidth(10)\n",
    "fig.set_figheight(5)\n",
    "plt.show()"
   ]
  },
  {
   "cell_type": "markdown",
   "metadata": {},
   "source": [
    "До 2002 года продавалось существенно меньше игр, данные до этого года можно не учитывать."
   ]
  },
  {
   "cell_type": "code",
   "execution_count": 23,
   "metadata": {},
   "outputs": [],
   "source": [
    "data=data[data['year_of_release'].isin([2002,2003,2004,2005,2006,2007,2008,2009,2010,2011,2012,2013,2014,2015,2016])]"
   ]
  },
  {
   "cell_type": "markdown",
   "metadata": {},
   "source": [
    "### Посмотрите, как менялись продажи по платформам. Выберите платформы с наибольшими суммарными продажами и постройте распределение по годам. За какой характерный срок появляются новые и исчезают старые платформы?"
   ]
  },
  {
   "cell_type": "code",
   "execution_count": 24,
   "metadata": {},
   "outputs": [
    {
     "data": {
      "text/html": [
       "<div>\n",
       "<style scoped>\n",
       "    .dataframe tbody tr th:only-of-type {\n",
       "        vertical-align: middle;\n",
       "    }\n",
       "\n",
       "    .dataframe tbody tr th {\n",
       "        vertical-align: top;\n",
       "    }\n",
       "\n",
       "    .dataframe thead th {\n",
       "        text-align: right;\n",
       "    }\n",
       "</style>\n",
       "<table border=\"1\" class=\"dataframe\">\n",
       "  <thead>\n",
       "    <tr style=\"text-align: right;\">\n",
       "      <th></th>\n",
       "      <th>total_sales</th>\n",
       "    </tr>\n",
       "    <tr>\n",
       "      <th>platform</th>\n",
       "      <th></th>\n",
       "    </tr>\n",
       "  </thead>\n",
       "  <tbody>\n",
       "    <tr>\n",
       "      <th>PS2</th>\n",
       "      <td>1027.96</td>\n",
       "    </tr>\n",
       "    <tr>\n",
       "      <th>X360</th>\n",
       "      <td>961.24</td>\n",
       "    </tr>\n",
       "    <tr>\n",
       "      <th>PS3</th>\n",
       "      <td>931.34</td>\n",
       "    </tr>\n",
       "    <tr>\n",
       "      <th>Wii</th>\n",
       "      <td>891.18</td>\n",
       "    </tr>\n",
       "    <tr>\n",
       "      <th>DS</th>\n",
       "      <td>802.76</td>\n",
       "    </tr>\n",
       "    <tr>\n",
       "      <th>PS4</th>\n",
       "      <td>314.14</td>\n",
       "    </tr>\n",
       "    <tr>\n",
       "      <th>PSP</th>\n",
       "      <td>289.53</td>\n",
       "    </tr>\n",
       "    <tr>\n",
       "      <th>3DS</th>\n",
       "      <td>257.81</td>\n",
       "    </tr>\n",
       "    <tr>\n",
       "      <th>GBA</th>\n",
       "      <td>251.28</td>\n",
       "    </tr>\n",
       "    <tr>\n",
       "      <th>XB</th>\n",
       "      <td>228.32</td>\n",
       "    </tr>\n",
       "    <tr>\n",
       "      <th>PC</th>\n",
       "      <td>195.59</td>\n",
       "    </tr>\n",
       "    <tr>\n",
       "      <th>GC</th>\n",
       "      <td>170.39</td>\n",
       "    </tr>\n",
       "    <tr>\n",
       "      <th>XOne</th>\n",
       "      <td>159.32</td>\n",
       "    </tr>\n",
       "    <tr>\n",
       "      <th>WiiU</th>\n",
       "      <td>82.19</td>\n",
       "    </tr>\n",
       "    <tr>\n",
       "      <th>PSV</th>\n",
       "      <td>53.81</td>\n",
       "    </tr>\n",
       "    <tr>\n",
       "      <th>PS</th>\n",
       "      <td>8.74</td>\n",
       "    </tr>\n",
       "    <tr>\n",
       "      <th>DC</th>\n",
       "      <td>0.35</td>\n",
       "    </tr>\n",
       "    <tr>\n",
       "      <th>N64</th>\n",
       "      <td>0.08</td>\n",
       "    </tr>\n",
       "  </tbody>\n",
       "</table>\n",
       "</div>"
      ],
      "text/plain": [
       "          total_sales\n",
       "platform             \n",
       "PS2           1027.96\n",
       "X360           961.24\n",
       "PS3            931.34\n",
       "Wii            891.18\n",
       "DS             802.76\n",
       "PS4            314.14\n",
       "PSP            289.53\n",
       "3DS            257.81\n",
       "GBA            251.28\n",
       "XB             228.32\n",
       "PC             195.59\n",
       "GC             170.39\n",
       "XOne           159.32\n",
       "WiiU            82.19\n",
       "PSV             53.81\n",
       "PS               8.74\n",
       "DC               0.35\n",
       "N64              0.08"
      ]
     },
     "execution_count": 24,
     "metadata": {},
     "output_type": "execute_result"
    }
   ],
   "source": [
    "games_by_platforms=data.pivot_table(index='platform', values='total_sales', aggfunc='sum')\n",
    "games_by_platforms.sort_values(by='total_sales', ascending=False)"
   ]
  },
  {
   "cell_type": "markdown",
   "metadata": {},
   "source": [
    "Можно выделить топ-6 платформ: PS2, X360, Wii, PS3, DS, PS"
   ]
  },
  {
   "cell_type": "code",
   "execution_count": 25,
   "metadata": {},
   "outputs": [
    {
     "data": {
      "text/html": [
       "<div>\n",
       "<style scoped>\n",
       "    .dataframe tbody tr th:only-of-type {\n",
       "        vertical-align: middle;\n",
       "    }\n",
       "\n",
       "    .dataframe tbody tr th {\n",
       "        vertical-align: top;\n",
       "    }\n",
       "\n",
       "    .dataframe thead th {\n",
       "        text-align: right;\n",
       "    }\n",
       "</style>\n",
       "<table border=\"1\" class=\"dataframe\">\n",
       "  <thead>\n",
       "    <tr style=\"text-align: right;\">\n",
       "      <th></th>\n",
       "      <th>total_sales</th>\n",
       "    </tr>\n",
       "    <tr>\n",
       "      <th>platform</th>\n",
       "      <th></th>\n",
       "    </tr>\n",
       "  </thead>\n",
       "  <tbody>\n",
       "    <tr>\n",
       "      <th>PS2</th>\n",
       "      <td>1027.96</td>\n",
       "    </tr>\n",
       "    <tr>\n",
       "      <th>X360</th>\n",
       "      <td>961.24</td>\n",
       "    </tr>\n",
       "    <tr>\n",
       "      <th>PS3</th>\n",
       "      <td>931.34</td>\n",
       "    </tr>\n",
       "    <tr>\n",
       "      <th>Wii</th>\n",
       "      <td>891.18</td>\n",
       "    </tr>\n",
       "    <tr>\n",
       "      <th>DS</th>\n",
       "      <td>802.76</td>\n",
       "    </tr>\n",
       "    <tr>\n",
       "      <th>PS4</th>\n",
       "      <td>314.14</td>\n",
       "    </tr>\n",
       "  </tbody>\n",
       "</table>\n",
       "</div>"
      ],
      "text/plain": [
       "          total_sales\n",
       "platform             \n",
       "PS2           1027.96\n",
       "X360           961.24\n",
       "PS3            931.34\n",
       "Wii            891.18\n",
       "DS             802.76\n",
       "PS4            314.14"
      ]
     },
     "execution_count": 25,
     "metadata": {},
     "output_type": "execute_result"
    }
   ],
   "source": [
    "top_platforms=games_by_platforms.nlargest(6, 'total_sales')\n",
    "top_platforms"
   ]
  },
  {
   "cell_type": "code",
   "execution_count": 26,
   "metadata": {
    "scrolled": true
   },
   "outputs": [
    {
     "data": {
      "text/html": [
       "<div>\n",
       "<style scoped>\n",
       "    .dataframe tbody tr th:only-of-type {\n",
       "        vertical-align: middle;\n",
       "    }\n",
       "\n",
       "    .dataframe tbody tr th {\n",
       "        vertical-align: top;\n",
       "    }\n",
       "\n",
       "    .dataframe thead th {\n",
       "        text-align: right;\n",
       "    }\n",
       "</style>\n",
       "<table border=\"1\" class=\"dataframe\">\n",
       "  <thead>\n",
       "    <tr style=\"text-align: right;\">\n",
       "      <th>platform</th>\n",
       "      <th>DS</th>\n",
       "      <th>PS2</th>\n",
       "      <th>PS3</th>\n",
       "      <th>PS4</th>\n",
       "      <th>Wii</th>\n",
       "      <th>X360</th>\n",
       "    </tr>\n",
       "    <tr>\n",
       "      <th>year_of_release</th>\n",
       "      <th></th>\n",
       "      <th></th>\n",
       "      <th></th>\n",
       "      <th></th>\n",
       "      <th></th>\n",
       "      <th></th>\n",
       "    </tr>\n",
       "  </thead>\n",
       "  <tbody>\n",
       "    <tr>\n",
       "      <th>2002</th>\n",
       "      <td>NaN</td>\n",
       "      <td>205.38</td>\n",
       "      <td>NaN</td>\n",
       "      <td>NaN</td>\n",
       "      <td>NaN</td>\n",
       "      <td>NaN</td>\n",
       "    </tr>\n",
       "    <tr>\n",
       "      <th>2003</th>\n",
       "      <td>NaN</td>\n",
       "      <td>184.31</td>\n",
       "      <td>NaN</td>\n",
       "      <td>NaN</td>\n",
       "      <td>NaN</td>\n",
       "      <td>NaN</td>\n",
       "    </tr>\n",
       "    <tr>\n",
       "      <th>2004</th>\n",
       "      <td>17.27</td>\n",
       "      <td>211.81</td>\n",
       "      <td>NaN</td>\n",
       "      <td>NaN</td>\n",
       "      <td>NaN</td>\n",
       "      <td>NaN</td>\n",
       "    </tr>\n",
       "    <tr>\n",
       "      <th>2005</th>\n",
       "      <td>130.14</td>\n",
       "      <td>160.66</td>\n",
       "      <td>NaN</td>\n",
       "      <td>NaN</td>\n",
       "      <td>NaN</td>\n",
       "      <td>8.25</td>\n",
       "    </tr>\n",
       "    <tr>\n",
       "      <th>2006</th>\n",
       "      <td>119.81</td>\n",
       "      <td>103.42</td>\n",
       "      <td>20.96</td>\n",
       "      <td>NaN</td>\n",
       "      <td>137.15</td>\n",
       "      <td>51.62</td>\n",
       "    </tr>\n",
       "    <tr>\n",
       "      <th>2007</th>\n",
       "      <td>146.94</td>\n",
       "      <td>75.99</td>\n",
       "      <td>73.19</td>\n",
       "      <td>NaN</td>\n",
       "      <td>152.77</td>\n",
       "      <td>95.41</td>\n",
       "    </tr>\n",
       "    <tr>\n",
       "      <th>2008</th>\n",
       "      <td>145.31</td>\n",
       "      <td>53.90</td>\n",
       "      <td>118.52</td>\n",
       "      <td>NaN</td>\n",
       "      <td>171.32</td>\n",
       "      <td>135.26</td>\n",
       "    </tr>\n",
       "    <tr>\n",
       "      <th>2009</th>\n",
       "      <td>119.54</td>\n",
       "      <td>26.40</td>\n",
       "      <td>130.93</td>\n",
       "      <td>NaN</td>\n",
       "      <td>206.97</td>\n",
       "      <td>120.29</td>\n",
       "    </tr>\n",
       "    <tr>\n",
       "      <th>2010</th>\n",
       "      <td>85.02</td>\n",
       "      <td>5.64</td>\n",
       "      <td>142.17</td>\n",
       "      <td>NaN</td>\n",
       "      <td>127.95</td>\n",
       "      <td>170.03</td>\n",
       "    </tr>\n",
       "    <tr>\n",
       "      <th>2011</th>\n",
       "      <td>26.18</td>\n",
       "      <td>0.45</td>\n",
       "      <td>156.78</td>\n",
       "      <td>NaN</td>\n",
       "      <td>59.65</td>\n",
       "      <td>143.84</td>\n",
       "    </tr>\n",
       "    <tr>\n",
       "      <th>2012</th>\n",
       "      <td>11.01</td>\n",
       "      <td>NaN</td>\n",
       "      <td>107.36</td>\n",
       "      <td>NaN</td>\n",
       "      <td>21.71</td>\n",
       "      <td>99.74</td>\n",
       "    </tr>\n",
       "    <tr>\n",
       "      <th>2013</th>\n",
       "      <td>1.54</td>\n",
       "      <td>NaN</td>\n",
       "      <td>113.25</td>\n",
       "      <td>25.99</td>\n",
       "      <td>8.59</td>\n",
       "      <td>88.58</td>\n",
       "    </tr>\n",
       "    <tr>\n",
       "      <th>2014</th>\n",
       "      <td>NaN</td>\n",
       "      <td>NaN</td>\n",
       "      <td>47.76</td>\n",
       "      <td>100.00</td>\n",
       "      <td>3.75</td>\n",
       "      <td>34.74</td>\n",
       "    </tr>\n",
       "    <tr>\n",
       "      <th>2015</th>\n",
       "      <td>NaN</td>\n",
       "      <td>NaN</td>\n",
       "      <td>16.82</td>\n",
       "      <td>118.90</td>\n",
       "      <td>1.14</td>\n",
       "      <td>11.96</td>\n",
       "    </tr>\n",
       "    <tr>\n",
       "      <th>2016</th>\n",
       "      <td>NaN</td>\n",
       "      <td>NaN</td>\n",
       "      <td>3.60</td>\n",
       "      <td>69.25</td>\n",
       "      <td>0.18</td>\n",
       "      <td>1.52</td>\n",
       "    </tr>\n",
       "  </tbody>\n",
       "</table>\n",
       "</div>"
      ],
      "text/plain": [
       "platform             DS     PS2     PS3     PS4     Wii    X360\n",
       "year_of_release                                                \n",
       "2002                NaN  205.38     NaN     NaN     NaN     NaN\n",
       "2003                NaN  184.31     NaN     NaN     NaN     NaN\n",
       "2004              17.27  211.81     NaN     NaN     NaN     NaN\n",
       "2005             130.14  160.66     NaN     NaN     NaN    8.25\n",
       "2006             119.81  103.42   20.96     NaN  137.15   51.62\n",
       "2007             146.94   75.99   73.19     NaN  152.77   95.41\n",
       "2008             145.31   53.90  118.52     NaN  171.32  135.26\n",
       "2009             119.54   26.40  130.93     NaN  206.97  120.29\n",
       "2010              85.02    5.64  142.17     NaN  127.95  170.03\n",
       "2011              26.18    0.45  156.78     NaN   59.65  143.84\n",
       "2012              11.01     NaN  107.36     NaN   21.71   99.74\n",
       "2013               1.54     NaN  113.25   25.99    8.59   88.58\n",
       "2014                NaN     NaN   47.76  100.00    3.75   34.74\n",
       "2015                NaN     NaN   16.82  118.90    1.14   11.96\n",
       "2016                NaN     NaN    3.60   69.25    0.18    1.52"
      ]
     },
     "execution_count": 26,
     "metadata": {},
     "output_type": "execute_result"
    }
   ],
   "source": [
    "pivot_top_platforms=data.query('platform in (@top_platforms.index)').pivot_table(index='year_of_release',\n",
    "                                                                                 columns='platform',\n",
    "                                                                                values='total_sales',\n",
    "                                                                                aggfunc='sum')\n",
    "pivot_top_platforms"
   ]
  },
  {
   "cell_type": "code",
   "execution_count": 27,
   "metadata": {
    "scrolled": false
   },
   "outputs": [
    {
     "data": {
      "image/png": "[encoded data removed]",
      "text/plain": [
       "<Figure size 640x640 with 1 Axes>"
      ]
     },
     "metadata": {
      "needs_background": "light"
     },
     "output_type": "display_data"
    }
   ],
   "source": [
    "plt.figure(figsize=(8,8), dpi= 80)\n",
    "sns.kdeplot(data.loc[data['platform'] == 'DS', 'year_of_release'], shade=True, color=\"r\", label=\"DS\", alpha=.1)\n",
    "sns.kdeplot(data.loc[data['platform'] == 'PS2', 'year_of_release'], shade=True, color=\"g\", label=\"PS2\", alpha=.1)\n",
    "sns.kdeplot(data.loc[data['platform'] == 'PS3', 'year_of_release'], shade=True, color=\"dodgerblue\", label=\"PS3\", alpha=.1)\n",
    "sns.kdeplot(data.loc[data['platform'] == 'Wii', 'year_of_release'], shade=True, color=\"orange\", label=\"Wii\", alpha=.1)\n",
    "sns.kdeplot(data.loc[data['platform'] == 'X360', 'year_of_release'], shade=True, color=\"black\", label=\"X360\", alpha=.1)\n",
    "sns.kdeplot(data.loc[data['platform'] == 'PS4', 'year_of_release'], shade=True, color=\"purple\", label=\"PS4\", alpha=.1)\n",
    "\n",
    "plt.title('Games sold by year', fontsize=16)\n",
    "plt.legend()\n",
    "plt.show()"
   ]
  },
  {
   "cell_type": "markdown",
   "metadata": {},
   "source": [
    "В среднем срок жизни платформы составляет 10 лет. Исключением является платформа X360, т.к. она живет уже около 15 лет, но большее кол-во продаж пришлось как раз на 10-летний временной промежуток. Платформа PS4 появилась относительно недавно, но имеет самое большое кол-во продаж за последние 4 года."
   ]
  },
  {
   "cell_type": "markdown",
   "metadata": {},
   "source": [
    "### Возьмите данные за соответствующий актуальный период. Актуальный период определите самостоятельно в результате исследования предыдущих вопросов. Основной фактор — эти данные помогут построить прогноз на 2017 год."
   ]
  },
  {
   "cell_type": "markdown",
   "metadata": {},
   "source": [
    "Данные с 2015 года можно считать актуальными, т.к. принято считать актуальным перииод в 2-3 года от нынешней даты."
   ]
  },
  {
   "cell_type": "code",
   "execution_count": 28,
   "metadata": {},
   "outputs": [
    {
     "data": {
      "text/html": [
       "<div>\n",
       "<style scoped>\n",
       "    .dataframe tbody tr th:only-of-type {\n",
       "        vertical-align: middle;\n",
       "    }\n",
       "\n",
       "    .dataframe tbody tr th {\n",
       "        vertical-align: top;\n",
       "    }\n",
       "\n",
       "    .dataframe thead th {\n",
       "        text-align: right;\n",
       "    }\n",
       "</style>\n",
       "<table border=\"1\" class=\"dataframe\">\n",
       "  <thead>\n",
       "    <tr style=\"text-align: right;\">\n",
       "      <th></th>\n",
       "      <th>name</th>\n",
       "      <th>platform</th>\n",
       "      <th>year_of_release</th>\n",
       "      <th>genre</th>\n",
       "      <th>na_sales</th>\n",
       "      <th>eu_sales</th>\n",
       "      <th>jp_sales</th>\n",
       "      <th>other_sales</th>\n",
       "      <th>critic_score</th>\n",
       "      <th>user_score</th>\n",
       "      <th>rating</th>\n",
       "      <th>total_sales</th>\n",
       "    </tr>\n",
       "  </thead>\n",
       "  <tbody>\n",
       "    <tr>\n",
       "      <th>31</th>\n",
       "      <td>Call of Duty: Black Ops 3</td>\n",
       "      <td>PS4</td>\n",
       "      <td>2015</td>\n",
       "      <td>Shooter</td>\n",
       "      <td>6.03</td>\n",
       "      <td>5.86</td>\n",
       "      <td>0.36</td>\n",
       "      <td>2.38</td>\n",
       "      <td>-1.0</td>\n",
       "      <td>-1.0</td>\n",
       "      <td>unknown</td>\n",
       "      <td>14.63</td>\n",
       "    </tr>\n",
       "    <tr>\n",
       "      <th>77</th>\n",
       "      <td>FIFA 16</td>\n",
       "      <td>PS4</td>\n",
       "      <td>2015</td>\n",
       "      <td>Sports</td>\n",
       "      <td>1.12</td>\n",
       "      <td>6.12</td>\n",
       "      <td>0.06</td>\n",
       "      <td>1.28</td>\n",
       "      <td>82.0</td>\n",
       "      <td>4.3</td>\n",
       "      <td>E</td>\n",
       "      <td>8.58</td>\n",
       "    </tr>\n",
       "    <tr>\n",
       "      <th>87</th>\n",
       "      <td>Star Wars Battlefront (2015)</td>\n",
       "      <td>PS4</td>\n",
       "      <td>2015</td>\n",
       "      <td>Shooter</td>\n",
       "      <td>2.99</td>\n",
       "      <td>3.49</td>\n",
       "      <td>0.22</td>\n",
       "      <td>1.28</td>\n",
       "      <td>-1.0</td>\n",
       "      <td>-1.0</td>\n",
       "      <td>unknown</td>\n",
       "      <td>7.98</td>\n",
       "    </tr>\n",
       "    <tr>\n",
       "      <th>94</th>\n",
       "      <td>FIFA 17</td>\n",
       "      <td>PS4</td>\n",
       "      <td>2016</td>\n",
       "      <td>Sports</td>\n",
       "      <td>0.66</td>\n",
       "      <td>5.75</td>\n",
       "      <td>0.08</td>\n",
       "      <td>1.11</td>\n",
       "      <td>85.0</td>\n",
       "      <td>5.0</td>\n",
       "      <td>E</td>\n",
       "      <td>7.60</td>\n",
       "    </tr>\n",
       "    <tr>\n",
       "      <th>99</th>\n",
       "      <td>Call of Duty: Black Ops 3</td>\n",
       "      <td>XOne</td>\n",
       "      <td>2015</td>\n",
       "      <td>Shooter</td>\n",
       "      <td>4.59</td>\n",
       "      <td>2.11</td>\n",
       "      <td>0.01</td>\n",
       "      <td>0.68</td>\n",
       "      <td>-1.0</td>\n",
       "      <td>-1.0</td>\n",
       "      <td>unknown</td>\n",
       "      <td>7.39</td>\n",
       "    </tr>\n",
       "    <tr>\n",
       "      <th>...</th>\n",
       "      <td>...</td>\n",
       "      <td>...</td>\n",
       "      <td>...</td>\n",
       "      <td>...</td>\n",
       "      <td>...</td>\n",
       "      <td>...</td>\n",
       "      <td>...</td>\n",
       "      <td>...</td>\n",
       "      <td>...</td>\n",
       "      <td>...</td>\n",
       "      <td>...</td>\n",
       "      <td>...</td>\n",
       "    </tr>\n",
       "    <tr>\n",
       "      <th>16699</th>\n",
       "      <td>The Longest 5 Minutes</td>\n",
       "      <td>PSV</td>\n",
       "      <td>2016</td>\n",
       "      <td>Action</td>\n",
       "      <td>0.00</td>\n",
       "      <td>0.00</td>\n",
       "      <td>0.01</td>\n",
       "      <td>0.00</td>\n",
       "      <td>-1.0</td>\n",
       "      <td>-1.0</td>\n",
       "      <td>unknown</td>\n",
       "      <td>0.01</td>\n",
       "    </tr>\n",
       "    <tr>\n",
       "      <th>16703</th>\n",
       "      <td>Strawberry Nauts</td>\n",
       "      <td>PSV</td>\n",
       "      <td>2016</td>\n",
       "      <td>Adventure</td>\n",
       "      <td>0.00</td>\n",
       "      <td>0.00</td>\n",
       "      <td>0.01</td>\n",
       "      <td>0.00</td>\n",
       "      <td>-1.0</td>\n",
       "      <td>-1.0</td>\n",
       "      <td>unknown</td>\n",
       "      <td>0.01</td>\n",
       "    </tr>\n",
       "    <tr>\n",
       "      <th>16710</th>\n",
       "      <td>Samurai Warriors: Sanada Maru</td>\n",
       "      <td>PS3</td>\n",
       "      <td>2016</td>\n",
       "      <td>Action</td>\n",
       "      <td>0.00</td>\n",
       "      <td>0.00</td>\n",
       "      <td>0.01</td>\n",
       "      <td>0.00</td>\n",
       "      <td>-1.0</td>\n",
       "      <td>-1.0</td>\n",
       "      <td>unknown</td>\n",
       "      <td>0.01</td>\n",
       "    </tr>\n",
       "    <tr>\n",
       "      <th>16712</th>\n",
       "      <td>Haitaka no Psychedelica</td>\n",
       "      <td>PSV</td>\n",
       "      <td>2016</td>\n",
       "      <td>Adventure</td>\n",
       "      <td>0.00</td>\n",
       "      <td>0.00</td>\n",
       "      <td>0.01</td>\n",
       "      <td>0.00</td>\n",
       "      <td>-1.0</td>\n",
       "      <td>-1.0</td>\n",
       "      <td>unknown</td>\n",
       "      <td>0.01</td>\n",
       "    </tr>\n",
       "    <tr>\n",
       "      <th>16714</th>\n",
       "      <td>Winning Post 8 2016</td>\n",
       "      <td>PSV</td>\n",
       "      <td>2016</td>\n",
       "      <td>Simulation</td>\n",
       "      <td>0.00</td>\n",
       "      <td>0.00</td>\n",
       "      <td>0.01</td>\n",
       "      <td>0.00</td>\n",
       "      <td>-1.0</td>\n",
       "      <td>-1.0</td>\n",
       "      <td>unknown</td>\n",
       "      <td>0.01</td>\n",
       "    </tr>\n",
       "  </tbody>\n",
       "</table>\n",
       "<p>1108 rows × 12 columns</p>\n",
       "</div>"
      ],
      "text/plain": [
       "                                name platform  year_of_release       genre  \\\n",
       "31         Call of Duty: Black Ops 3      PS4             2015     Shooter   \n",
       "77                           FIFA 16      PS4             2015      Sports   \n",
       "87      Star Wars Battlefront (2015)      PS4             2015     Shooter   \n",
       "94                           FIFA 17      PS4             2016      Sports   \n",
       "99         Call of Duty: Black Ops 3     XOne             2015     Shooter   \n",
       "...                              ...      ...              ...         ...   \n",
       "16699          The Longest 5 Minutes      PSV             2016      Action   \n",
       "16703               Strawberry Nauts      PSV             2016   Adventure   \n",
       "16710  Samurai Warriors: Sanada Maru      PS3             2016      Action   \n",
       "16712        Haitaka no Psychedelica      PSV             2016   Adventure   \n",
       "16714            Winning Post 8 2016      PSV             2016  Simulation   \n",
       "\n",
       "       na_sales  eu_sales  jp_sales  other_sales  critic_score  user_score  \\\n",
       "31         6.03      5.86      0.36         2.38          -1.0        -1.0   \n",
       "77         1.12      6.12      0.06         1.28          82.0         4.3   \n",
       "87         2.99      3.49      0.22         1.28          -1.0        -1.0   \n",
       "94         0.66      5.75      0.08         1.11          85.0         5.0   \n",
       "99         4.59      2.11      0.01         0.68          -1.0        -1.0   \n",
       "...         ...       ...       ...          ...           ...         ...   \n",
       "16699      0.00      0.00      0.01         0.00          -1.0        -1.0   \n",
       "16703      0.00      0.00      0.01         0.00          -1.0        -1.0   \n",
       "16710      0.00      0.00      0.01         0.00          -1.0        -1.0   \n",
       "16712      0.00      0.00      0.01         0.00          -1.0        -1.0   \n",
       "16714      0.00      0.00      0.01         0.00          -1.0        -1.0   \n",
       "\n",
       "        rating  total_sales  \n",
       "31     unknown        14.63  \n",
       "77           E         8.58  \n",
       "87     unknown         7.98  \n",
       "94           E         7.60  \n",
       "99     unknown         7.39  \n",
       "...        ...          ...  \n",
       "16699  unknown         0.01  \n",
       "16703  unknown         0.01  \n",
       "16710  unknown         0.01  \n",
       "16712  unknown         0.01  \n",
       "16714  unknown         0.01  \n",
       "\n",
       "[1108 rows x 12 columns]"
      ]
     },
     "execution_count": 28,
     "metadata": {},
     "output_type": "execute_result"
    }
   ],
   "source": [
    "modern_data= data[data['year_of_release'].isin([2015,2016])]\n",
    "modern_data"
   ]
  },
  {
   "cell_type": "code",
   "execution_count": 29,
   "metadata": {
    "scrolled": false
   },
   "outputs": [
    {
     "data": {
      "text/html": [
       "<div>\n",
       "<style scoped>\n",
       "    .dataframe tbody tr th:only-of-type {\n",
       "        vertical-align: middle;\n",
       "    }\n",
       "\n",
       "    .dataframe tbody tr th {\n",
       "        vertical-align: top;\n",
       "    }\n",
       "\n",
       "    .dataframe thead th {\n",
       "        text-align: right;\n",
       "    }\n",
       "</style>\n",
       "<table border=\"1\" class=\"dataframe\">\n",
       "  <thead>\n",
       "    <tr style=\"text-align: right;\">\n",
       "      <th></th>\n",
       "      <th>platform</th>\n",
       "      <th>total_sales</th>\n",
       "    </tr>\n",
       "  </thead>\n",
       "  <tbody>\n",
       "    <tr>\n",
       "      <th>0</th>\n",
       "      <td>PS4</td>\n",
       "      <td>188.15</td>\n",
       "    </tr>\n",
       "    <tr>\n",
       "      <th>1</th>\n",
       "      <td>XOne</td>\n",
       "      <td>86.29</td>\n",
       "    </tr>\n",
       "    <tr>\n",
       "      <th>2</th>\n",
       "      <td>3DS</td>\n",
       "      <td>42.92</td>\n",
       "    </tr>\n",
       "    <tr>\n",
       "      <th>3</th>\n",
       "      <td>WiiU</td>\n",
       "      <td>20.95</td>\n",
       "    </tr>\n",
       "    <tr>\n",
       "      <th>4</th>\n",
       "      <td>PS3</td>\n",
       "      <td>20.42</td>\n",
       "    </tr>\n",
       "    <tr>\n",
       "      <th>5</th>\n",
       "      <td>PC</td>\n",
       "      <td>13.77</td>\n",
       "    </tr>\n",
       "    <tr>\n",
       "      <th>6</th>\n",
       "      <td>X360</td>\n",
       "      <td>13.48</td>\n",
       "    </tr>\n",
       "    <tr>\n",
       "      <th>7</th>\n",
       "      <td>PSV</td>\n",
       "      <td>10.50</td>\n",
       "    </tr>\n",
       "    <tr>\n",
       "      <th>8</th>\n",
       "      <td>Wii</td>\n",
       "      <td>1.32</td>\n",
       "    </tr>\n",
       "    <tr>\n",
       "      <th>9</th>\n",
       "      <td>PSP</td>\n",
       "      <td>0.12</td>\n",
       "    </tr>\n",
       "  </tbody>\n",
       "</table>\n",
       "</div>"
      ],
      "text/plain": [
       "  platform  total_sales\n",
       "0      PS4       188.15\n",
       "1     XOne        86.29\n",
       "2      3DS        42.92\n",
       "3     WiiU        20.95\n",
       "4      PS3        20.42\n",
       "5       PC        13.77\n",
       "6     X360        13.48\n",
       "7      PSV        10.50\n",
       "8      Wii         1.32\n",
       "9      PSP         0.12"
      ]
     },
     "execution_count": 29,
     "metadata": {},
     "output_type": "execute_result"
    }
   ],
   "source": [
    "modern_sales=modern_data.pivot_table(index='platform', values='total_sales', aggfunc='sum')\n",
    "modern_sales=modern_sales.sort_values(by='total_sales', ascending=False).reset_index()\n",
    "modern_sales"
   ]
  },
  {
   "cell_type": "markdown",
   "metadata": {},
   "source": [
    "Можно выделить топ-5 платформ: PS4, PS3, XOne, 3DS и WiiU."
   ]
  },
  {
   "cell_type": "code",
   "execution_count": 30,
   "metadata": {},
   "outputs": [],
   "source": [
    "modern_platforms=modern_data[modern_data['platform'].isin(['PS4', 'PS3', 'XOne', '3DS', 'WiiU'])]"
   ]
  },
  {
   "cell_type": "markdown",
   "metadata": {},
   "source": [
    "### Постройте график «ящик с усами» по глобальным продажам игр в разбивке по платформам. Опишите результат."
   ]
  },
  {
   "cell_type": "code",
   "execution_count": 31,
   "metadata": {
    "scrolled": false
   },
   "outputs": [
    {
     "data": {
      "text/plain": [
       "<AxesSubplot:xlabel='platform', ylabel='total_sales'>"
      ]
     },
     "execution_count": 31,
     "metadata": {},
     "output_type": "execute_result"
    },
    {
     "data": {
      "image/png": "[encoded data removed]",
      "text/plain": [
       "<Figure size 720x720 with 1 Axes>"
      ]
     },
     "metadata": {
      "needs_background": "light"
     },
     "output_type": "display_data"
    }
   ],
   "source": [
    "plt.figure(figsize=(10,10))\n",
    "plt.ylim([0,2])\n",
    "sns.boxplot(data=modern_data, x='platform', y='total_sales')"
   ]
  },
  {
   "cell_type": "markdown",
   "metadata": {},
   "source": [
    "Медианное значение у всех платформ варьируется от 0.1 до 0.25. 50% значений лежат в диапазоне от 0.1 до 0.5."
   ]
  },
  {
   "cell_type": "markdown",
   "metadata": {},
   "source": [
    "Нулевая гипотеза: Значения между данными со всеми и платформами и топовыми платформами не различаются\n",
    "\n",
    "Альтернативная гипотеза: Значения между данными со всеми платформами и топовыми платформами различаются"
   ]
  },
  {
   "cell_type": "code",
   "execution_count": 32,
   "metadata": {
    "scrolled": true
   },
   "outputs": [
    {
     "name": "stdout",
     "output_type": "stream",
     "text": [
      "Принимаем альтернативную гипотезу\n"
     ]
    }
   ],
   "source": [
    "alpha=0.05\n",
    "results = st.ttest_ind(\n",
    "    modern_data['total_sales'], modern_platforms['total_sales'])\n",
    "\n",
    "if results.pvalue < alpha:\n",
    "    print ('Принимаем альтернативную гипотезу')\n",
    "else:\n",
    "    print ('Опровергнуть нулевую гипотезу нельзя')"
   ]
  },
  {
   "cell_type": "markdown",
   "metadata": {},
   "source": [
    "### Посмотрите, как влияют на продажи внутри одной популярной платформы отзывы пользователей и критиков. Постройте диаграмму рассеяния и посчитайте корреляцию между отзывами и продажами. Сформулируйте выводы."
   ]
  },
  {
   "cell_type": "code",
   "execution_count": 33,
   "metadata": {
    "scrolled": true
   },
   "outputs": [],
   "source": [
    "ps3_users=modern_data[(modern_data['platform']=='PS3') & (modern_data['user_score'] != -1.0)]\n",
    "wiiu_users=modern_data[(modern_data['platform']=='WiiU') & (modern_data['user_score'] != -1.0)]\n",
    "ps4_users=modern_data[(modern_data['platform']=='PS4') & (modern_data['user_score'] != -1.0)]\n",
    "_3ds_users=modern_data[(modern_data['platform']=='3DS') & (modern_data['user_score'] != -1.0)]\n",
    "xone_users=modern_data[(modern_data['platform']=='XOne') & (modern_data['user_score'] != -1.0)]"
   ]
  },
  {
   "cell_type": "code",
   "execution_count": 34,
   "metadata": {},
   "outputs": [],
   "source": [
    "ps3_critic=modern_data[(modern_data['platform']=='PS3') & (modern_data['critic_score'] != -1.0)]\n",
    "wiiu_critic=modern_data[(modern_data['platform']=='WiiU') & (modern_data['critic_score'] != -1.0)]\n",
    "ps4_critic=modern_data[(modern_data['platform']=='PS4') & (modern_data['critic_score'] != -1.0)]\n",
    "_3ds_critic=modern_data[(modern_data['platform']=='3DS') & (modern_data['critic_score'] != -1.0)]\n",
    "xone_critic=modern_data[(modern_data['platform']=='XOne') & (modern_data['critic_score'] != -1.0)]"
   ]
  },
  {
   "cell_type": "code",
   "execution_count": 35,
   "metadata": {
    "scrolled": false
   },
   "outputs": [
    {
     "data": {
      "text/plain": [
       "<AxesSubplot:xlabel='total_sales'>"
      ]
     },
     "execution_count": 35,
     "metadata": {},
     "output_type": "execute_result"
    },
    {
     "data": {
      "image/png": "[encoded data removed]",
      "text/plain": [
       "<Figure size 432x432 with 2 Axes>"
      ]
     },
     "metadata": {
      "needs_background": "light"
     },
     "output_type": "display_data"
    }
   ],
   "source": [
    "ax = plt.subplot(1, 2, 1)\n",
    "ps3_critic.plot(x='total_sales', y='critic_score', style = 'o', xlim = (0, 20), grid = True, figsize=(6, 6), alpha=0.3, ax=ax)\n",
    "ax = plt.subplot(1, 2, 2)\n",
    "ps3_users.plot(x='total_sales', y='user_score', style = 'o', xlim = (0, 20), grid = True, figsize=(6, 6), alpha=0.3, ax=ax)"
   ]
  },
  {
   "cell_type": "code",
   "execution_count": 36,
   "metadata": {
    "scrolled": false
   },
   "outputs": [
    {
     "name": "stderr",
     "output_type": "stream",
     "text": [
      "/opt/conda/lib/python3.9/site-packages/numpy/lib/function_base.py:2683: RuntimeWarning: Degrees of freedom <= 0 for slice\n",
      "  c = cov(x, y, rowvar, dtype=dtype)\n",
      "/opt/conda/lib/python3.9/site-packages/numpy/lib/function_base.py:2542: RuntimeWarning: divide by zero encountered in true_divide\n",
      "  c *= np.true_divide(1, fact)\n"
     ]
    },
    {
     "data": {
      "text/plain": [
       "nan"
      ]
     },
     "execution_count": 36,
     "metadata": {},
     "output_type": "execute_result"
    }
   ],
   "source": [
    "ps3_critic['total_sales'].corr(ps3_critic['critic_score'])"
   ]
  },
  {
   "cell_type": "markdown",
   "metadata": {},
   "source": [
    "При изменении актуального периода, платформа PS3 выпадает из списка, у нее остается одна игра с оценкой критиков, а если период с 2011, то таких игр — 349."
   ]
  },
  {
   "cell_type": "code",
   "execution_count": 37,
   "metadata": {},
   "outputs": [
    {
     "data": {
      "text/html": [
       "<div>\n",
       "<style scoped>\n",
       "    .dataframe tbody tr th:only-of-type {\n",
       "        vertical-align: middle;\n",
       "    }\n",
       "\n",
       "    .dataframe tbody tr th {\n",
       "        vertical-align: top;\n",
       "    }\n",
       "\n",
       "    .dataframe thead th {\n",
       "        text-align: right;\n",
       "    }\n",
       "</style>\n",
       "<table border=\"1\" class=\"dataframe\">\n",
       "  <thead>\n",
       "    <tr style=\"text-align: right;\">\n",
       "      <th></th>\n",
       "      <th>name</th>\n",
       "      <th>platform</th>\n",
       "      <th>year_of_release</th>\n",
       "      <th>genre</th>\n",
       "      <th>na_sales</th>\n",
       "      <th>eu_sales</th>\n",
       "      <th>jp_sales</th>\n",
       "      <th>other_sales</th>\n",
       "      <th>critic_score</th>\n",
       "      <th>user_score</th>\n",
       "      <th>rating</th>\n",
       "      <th>total_sales</th>\n",
       "    </tr>\n",
       "  </thead>\n",
       "  <tbody>\n",
       "    <tr>\n",
       "      <th>15418</th>\n",
       "      <td>Xblaze: Lost Memories</td>\n",
       "      <td>PS3</td>\n",
       "      <td>2015</td>\n",
       "      <td>Adventure</td>\n",
       "      <td>0.02</td>\n",
       "      <td>0.0</td>\n",
       "      <td>0.0</td>\n",
       "      <td>0.0</td>\n",
       "      <td>63.0</td>\n",
       "      <td>6.2</td>\n",
       "      <td>M</td>\n",
       "      <td>0.02</td>\n",
       "    </tr>\n",
       "  </tbody>\n",
       "</table>\n",
       "</div>"
      ],
      "text/plain": [
       "                        name platform  year_of_release      genre  na_sales  \\\n",
       "15418  Xblaze: Lost Memories      PS3             2015  Adventure      0.02   \n",
       "\n",
       "       eu_sales  jp_sales  other_sales  critic_score  user_score rating  \\\n",
       "15418       0.0       0.0          0.0          63.0         6.2      M   \n",
       "\n",
       "       total_sales  \n",
       "15418         0.02  "
      ]
     },
     "execution_count": 37,
     "metadata": {},
     "output_type": "execute_result"
    }
   ],
   "source": [
    "# check\n",
    "data[(data['platform']=='PS3') & (data['critic_score'] != -1.0)  & (data['year_of_release'] >= 2015)]"
   ]
  },
  {
   "cell_type": "code",
   "execution_count": 38,
   "metadata": {},
   "outputs": [
    {
     "data": {
      "text/html": [
       "<div>\n",
       "<style scoped>\n",
       "    .dataframe tbody tr th:only-of-type {\n",
       "        vertical-align: middle;\n",
       "    }\n",
       "\n",
       "    .dataframe tbody tr th {\n",
       "        vertical-align: top;\n",
       "    }\n",
       "\n",
       "    .dataframe thead th {\n",
       "        text-align: right;\n",
       "    }\n",
       "</style>\n",
       "<table border=\"1\" class=\"dataframe\">\n",
       "  <thead>\n",
       "    <tr style=\"text-align: right;\">\n",
       "      <th></th>\n",
       "      <th>name</th>\n",
       "      <th>platform</th>\n",
       "      <th>year_of_release</th>\n",
       "      <th>genre</th>\n",
       "      <th>na_sales</th>\n",
       "      <th>eu_sales</th>\n",
       "      <th>jp_sales</th>\n",
       "      <th>other_sales</th>\n",
       "      <th>critic_score</th>\n",
       "      <th>user_score</th>\n",
       "      <th>rating</th>\n",
       "      <th>total_sales</th>\n",
       "    </tr>\n",
       "  </thead>\n",
       "  <tbody>\n",
       "    <tr>\n",
       "      <th>16</th>\n",
       "      <td>Grand Theft Auto V</td>\n",
       "      <td>PS3</td>\n",
       "      <td>2013</td>\n",
       "      <td>Action</td>\n",
       "      <td>7.02</td>\n",
       "      <td>9.09</td>\n",
       "      <td>0.98</td>\n",
       "      <td>3.96</td>\n",
       "      <td>97.0</td>\n",
       "      <td>8.2</td>\n",
       "      <td>M</td>\n",
       "      <td>21.05</td>\n",
       "    </tr>\n",
       "    <tr>\n",
       "      <th>34</th>\n",
       "      <td>Call of Duty: Black Ops II</td>\n",
       "      <td>PS3</td>\n",
       "      <td>2012</td>\n",
       "      <td>Shooter</td>\n",
       "      <td>4.99</td>\n",
       "      <td>5.73</td>\n",
       "      <td>0.65</td>\n",
       "      <td>2.42</td>\n",
       "      <td>83.0</td>\n",
       "      <td>5.3</td>\n",
       "      <td>M</td>\n",
       "      <td>13.79</td>\n",
       "    </tr>\n",
       "    <tr>\n",
       "      <th>37</th>\n",
       "      <td>Call of Duty: Modern Warfare 3</td>\n",
       "      <td>PS3</td>\n",
       "      <td>2011</td>\n",
       "      <td>Shooter</td>\n",
       "      <td>5.54</td>\n",
       "      <td>5.73</td>\n",
       "      <td>0.49</td>\n",
       "      <td>1.57</td>\n",
       "      <td>88.0</td>\n",
       "      <td>3.2</td>\n",
       "      <td>M</td>\n",
       "      <td>13.33</td>\n",
       "    </tr>\n",
       "    <tr>\n",
       "      <th>69</th>\n",
       "      <td>Call of Duty: Ghosts</td>\n",
       "      <td>PS3</td>\n",
       "      <td>2013</td>\n",
       "      <td>Shooter</td>\n",
       "      <td>4.10</td>\n",
       "      <td>3.63</td>\n",
       "      <td>0.38</td>\n",
       "      <td>1.25</td>\n",
       "      <td>71.0</td>\n",
       "      <td>2.6</td>\n",
       "      <td>M</td>\n",
       "      <td>9.36</td>\n",
       "    </tr>\n",
       "    <tr>\n",
       "      <th>81</th>\n",
       "      <td>FIFA Soccer 13</td>\n",
       "      <td>PS3</td>\n",
       "      <td>2012</td>\n",
       "      <td>Action</td>\n",
       "      <td>1.06</td>\n",
       "      <td>5.01</td>\n",
       "      <td>0.13</td>\n",
       "      <td>1.97</td>\n",
       "      <td>88.0</td>\n",
       "      <td>6.6</td>\n",
       "      <td>E</td>\n",
       "      <td>8.17</td>\n",
       "    </tr>\n",
       "    <tr>\n",
       "      <th>...</th>\n",
       "      <td>...</td>\n",
       "      <td>...</td>\n",
       "      <td>...</td>\n",
       "      <td>...</td>\n",
       "      <td>...</td>\n",
       "      <td>...</td>\n",
       "      <td>...</td>\n",
       "      <td>...</td>\n",
       "      <td>...</td>\n",
       "      <td>...</td>\n",
       "      <td>...</td>\n",
       "      <td>...</td>\n",
       "    </tr>\n",
       "    <tr>\n",
       "      <th>15567</th>\n",
       "      <td>Tom Clancy's Splinter Cell Classic Trilogy HD</td>\n",
       "      <td>PS3</td>\n",
       "      <td>2011</td>\n",
       "      <td>Action</td>\n",
       "      <td>0.02</td>\n",
       "      <td>0.00</td>\n",
       "      <td>0.00</td>\n",
       "      <td>0.00</td>\n",
       "      <td>67.0</td>\n",
       "      <td>6.8</td>\n",
       "      <td>M</td>\n",
       "      <td>0.02</td>\n",
       "    </tr>\n",
       "    <tr>\n",
       "      <th>15742</th>\n",
       "      <td>Invizimals: The Lost Kingdom</td>\n",
       "      <td>PS3</td>\n",
       "      <td>2013</td>\n",
       "      <td>Action</td>\n",
       "      <td>0.00</td>\n",
       "      <td>0.02</td>\n",
       "      <td>0.00</td>\n",
       "      <td>0.00</td>\n",
       "      <td>50.0</td>\n",
       "      <td>5.0</td>\n",
       "      <td>E10+</td>\n",
       "      <td>0.02</td>\n",
       "    </tr>\n",
       "    <tr>\n",
       "      <th>15880</th>\n",
       "      <td>Turbo: Super Stunt Squad</td>\n",
       "      <td>PS3</td>\n",
       "      <td>2013</td>\n",
       "      <td>Sports</td>\n",
       "      <td>0.00</td>\n",
       "      <td>0.01</td>\n",
       "      <td>0.00</td>\n",
       "      <td>0.00</td>\n",
       "      <td>38.0</td>\n",
       "      <td>-1.0</td>\n",
       "      <td>E</td>\n",
       "      <td>0.01</td>\n",
       "    </tr>\n",
       "    <tr>\n",
       "      <th>16146</th>\n",
       "      <td>Don Bradman Cricket 14</td>\n",
       "      <td>PS3</td>\n",
       "      <td>2014</td>\n",
       "      <td>Sports</td>\n",
       "      <td>0.00</td>\n",
       "      <td>0.01</td>\n",
       "      <td>0.00</td>\n",
       "      <td>0.00</td>\n",
       "      <td>73.0</td>\n",
       "      <td>6.9</td>\n",
       "      <td>E</td>\n",
       "      <td>0.01</td>\n",
       "    </tr>\n",
       "    <tr>\n",
       "      <th>16230</th>\n",
       "      <td>Madden NFL 13</td>\n",
       "      <td>PS3</td>\n",
       "      <td>2012</td>\n",
       "      <td>Sports</td>\n",
       "      <td>0.00</td>\n",
       "      <td>0.01</td>\n",
       "      <td>0.00</td>\n",
       "      <td>0.00</td>\n",
       "      <td>83.0</td>\n",
       "      <td>5.5</td>\n",
       "      <td>E</td>\n",
       "      <td>0.01</td>\n",
       "    </tr>\n",
       "  </tbody>\n",
       "</table>\n",
       "<p>349 rows × 12 columns</p>\n",
       "</div>"
      ],
      "text/plain": [
       "                                                name platform  \\\n",
       "16                                Grand Theft Auto V      PS3   \n",
       "34                        Call of Duty: Black Ops II      PS3   \n",
       "37                    Call of Duty: Modern Warfare 3      PS3   \n",
       "69                              Call of Duty: Ghosts      PS3   \n",
       "81                                    FIFA Soccer 13      PS3   \n",
       "...                                              ...      ...   \n",
       "15567  Tom Clancy's Splinter Cell Classic Trilogy HD      PS3   \n",
       "15742                   Invizimals: The Lost Kingdom      PS3   \n",
       "15880                       Turbo: Super Stunt Squad      PS3   \n",
       "16146                         Don Bradman Cricket 14      PS3   \n",
       "16230                                  Madden NFL 13      PS3   \n",
       "\n",
       "       year_of_release    genre  na_sales  eu_sales  jp_sales  other_sales  \\\n",
       "16                2013   Action      7.02      9.09      0.98         3.96   \n",
       "34                2012  Shooter      4.99      5.73      0.65         2.42   \n",
       "37                2011  Shooter      5.54      5.73      0.49         1.57   \n",
       "69                2013  Shooter      4.10      3.63      0.38         1.25   \n",
       "81                2012   Action      1.06      5.01      0.13         1.97   \n",
       "...                ...      ...       ...       ...       ...          ...   \n",
       "15567             2011   Action      0.02      0.00      0.00         0.00   \n",
       "15742             2013   Action      0.00      0.02      0.00         0.00   \n",
       "15880             2013   Sports      0.00      0.01      0.00         0.00   \n",
       "16146             2014   Sports      0.00      0.01      0.00         0.00   \n",
       "16230             2012   Sports      0.00      0.01      0.00         0.00   \n",
       "\n",
       "       critic_score  user_score rating  total_sales  \n",
       "16             97.0         8.2      M        21.05  \n",
       "34             83.0         5.3      M        13.79  \n",
       "37             88.0         3.2      M        13.33  \n",
       "69             71.0         2.6      M         9.36  \n",
       "81             88.0         6.6      E         8.17  \n",
       "...             ...         ...    ...          ...  \n",
       "15567          67.0         6.8      M         0.02  \n",
       "15742          50.0         5.0   E10+         0.02  \n",
       "15880          38.0        -1.0      E         0.01  \n",
       "16146          73.0         6.9      E         0.01  \n",
       "16230          83.0         5.5      E         0.01  \n",
       "\n",
       "[349 rows x 12 columns]"
      ]
     },
     "execution_count": 38,
     "metadata": {},
     "output_type": "execute_result"
    }
   ],
   "source": [
    "# check\n",
    "data[(data['platform']=='PS3') & (data['critic_score'] != -1.0)  & (data['year_of_release'] >= 2011)]"
   ]
  },
  {
   "cell_type": "code",
   "execution_count": 39,
   "metadata": {
    "scrolled": true
   },
   "outputs": [
    {
     "data": {
      "text/plain": [
       "-0.16529542277898504"
      ]
     },
     "execution_count": 39,
     "metadata": {},
     "output_type": "execute_result"
    }
   ],
   "source": [
    "ps3_users['total_sales'].corr(ps3_users['user_score'])"
   ]
  },
  {
   "cell_type": "code",
   "execution_count": 40,
   "metadata": {
    "scrolled": true
   },
   "outputs": [
    {
     "data": {
      "text/plain": [
       "<AxesSubplot:xlabel='total_sales'>"
      ]
     },
     "execution_count": 40,
     "metadata": {},
     "output_type": "execute_result"
    },
    {
     "data": {
      "image/png": "[encoded data removed]",
      "text/plain": [
       "<Figure size 432x432 with 2 Axes>"
      ]
     },
     "metadata": {
      "needs_background": "light"
     },
     "output_type": "display_data"
    }
   ],
   "source": [
    "ax = plt.subplot(1, 2, 1)\n",
    "wiiu_critic.plot(x='total_sales', y='critic_score', style = 'o', xlim = (0, 20), grid = True, figsize=(6, 6), alpha=0.3, ax=ax)\n",
    "ax = plt.subplot(1, 2, 2)\n",
    "wiiu_users.plot(x='total_sales', y='user_score', style = 'o', xlim = (0, 20), grid = True, figsize=(6, 6), alpha=0.3, ax=ax)"
   ]
  },
  {
   "cell_type": "code",
   "execution_count": 41,
   "metadata": {
    "scrolled": true
   },
   "outputs": [
    {
     "data": {
      "text/plain": [
       "0.31704571176962204"
      ]
     },
     "execution_count": 41,
     "metadata": {},
     "output_type": "execute_result"
    }
   ],
   "source": [
    "wiiu_critic['total_sales'].corr(wiiu_critic['critic_score'])"
   ]
  },
  {
   "cell_type": "code",
   "execution_count": 42,
   "metadata": {
    "scrolled": true
   },
   "outputs": [
    {
     "data": {
      "text/plain": [
       "0.36351857248094444"
      ]
     },
     "execution_count": 42,
     "metadata": {},
     "output_type": "execute_result"
    }
   ],
   "source": [
    "wiiu_users['total_sales'].corr(wiiu_users['user_score'])"
   ]
  },
  {
   "cell_type": "code",
   "execution_count": 43,
   "metadata": {
    "scrolled": true
   },
   "outputs": [
    {
     "data": {
      "text/plain": [
       "<AxesSubplot:xlabel='total_sales'>"
      ]
     },
     "execution_count": 43,
     "metadata": {},
     "output_type": "execute_result"
    },
    {
     "data": {
      "image/png": "[encoded data removed]",
      "text/plain": [
       "<Figure size 432x432 with 2 Axes>"
      ]
     },
     "metadata": {
      "needs_background": "light"
     },
     "output_type": "display_data"
    }
   ],
   "source": [
    "ax = plt.subplot(1, 2, 1)\n",
    "ps4_critic.plot(x='total_sales', y='critic_score', style = 'o', xlim = (0, 20), grid = True, figsize=(6, 6), alpha=0.3, ax=ax)\n",
    "ax = plt.subplot(1, 2, 2)\n",
    "ps4_users.plot(x='total_sales', y='user_score', style = 'o', xlim = (0, 20), grid = True, figsize=(6, 6), alpha=0.3, ax=ax)"
   ]
  },
  {
   "cell_type": "code",
   "execution_count": 44,
   "metadata": {
    "scrolled": true
   },
   "outputs": [
    {
     "data": {
      "text/plain": [
       "0.3928485555130601"
      ]
     },
     "execution_count": 44,
     "metadata": {},
     "output_type": "execute_result"
    }
   ],
   "source": [
    "ps4_critic['total_sales'].corr(ps4_critic['critic_score'])"
   ]
  },
  {
   "cell_type": "code",
   "execution_count": 45,
   "metadata": {
    "scrolled": true
   },
   "outputs": [
    {
     "data": {
      "text/plain": [
       "-0.05973845712638215"
      ]
     },
     "execution_count": 45,
     "metadata": {},
     "output_type": "execute_result"
    }
   ],
   "source": [
    "ps4_users['total_sales'].corr(ps4_users['user_score'])"
   ]
  },
  {
   "cell_type": "code",
   "execution_count": 46,
   "metadata": {},
   "outputs": [
    {
     "data": {
      "text/plain": [
       "<AxesSubplot:xlabel='total_sales'>"
      ]
     },
     "execution_count": 46,
     "metadata": {},
     "output_type": "execute_result"
    },
    {
     "data": {
      "image/png": "[encoded data removed]",
      "text/plain": [
       "<Figure size 432x432 with 2 Axes>"
      ]
     },
     "metadata": {
      "needs_background": "light"
     },
     "output_type": "display_data"
    }
   ],
   "source": [
    "ax = plt.subplot(1, 2, 1)\n",
    "_3ds_critic.plot(x='total_sales', y='critic_score', style = 'o', xlim = (0, 20), grid = True, figsize=(6, 6), alpha=0.3, ax=ax)\n",
    "ax = plt.subplot(1, 2, 2)\n",
    "_3ds_users.plot(x='total_sales', y='user_score', style = 'o', xlim = (0, 20), grid = True, figsize=(6, 6), alpha=0.3, ax=ax)"
   ]
  },
  {
   "cell_type": "code",
   "execution_count": 47,
   "metadata": {
    "scrolled": true
   },
   "outputs": [
    {
     "data": {
      "text/plain": [
       "0.17757455046092874"
      ]
     },
     "execution_count": 47,
     "metadata": {},
     "output_type": "execute_result"
    }
   ],
   "source": [
    "_3ds_critic['total_sales'].corr(_3ds_critic['critic_score'])"
   ]
  },
  {
   "cell_type": "code",
   "execution_count": 48,
   "metadata": {
    "scrolled": true
   },
   "outputs": [
    {
     "data": {
      "text/plain": [
       "0.19879627008102985"
      ]
     },
     "execution_count": 48,
     "metadata": {},
     "output_type": "execute_result"
    }
   ],
   "source": [
    "_3ds_users['total_sales'].corr(_3ds_users['user_score'])"
   ]
  },
  {
   "cell_type": "code",
   "execution_count": 49,
   "metadata": {},
   "outputs": [
    {
     "data": {
      "text/plain": [
       "<AxesSubplot:xlabel='total_sales'>"
      ]
     },
     "execution_count": 49,
     "metadata": {},
     "output_type": "execute_result"
    },
    {
     "data": {
      "image/png": "[encoded data removed]",
      "text/plain": [
       "<Figure size 432x432 with 2 Axes>"
      ]
     },
     "metadata": {
      "needs_background": "light"
     },
     "output_type": "display_data"
    }
   ],
   "source": [
    "ax = plt.subplot(1, 2, 1)\n",
    "xone_critic.plot(x='total_sales', y='critic_score', style = 'o', xlim = (0, 20), grid = True, figsize=(6, 6), alpha=0.3, ax=ax)\n",
    "ax = plt.subplot(1, 2, 2)\n",
    "xone_users.plot(x='total_sales', y='user_score', style = 'o', xlim = (0, 20), grid = True, figsize=(6, 6), alpha=0.3, ax=ax)"
   ]
  },
  {
   "cell_type": "code",
   "execution_count": 50,
   "metadata": {
    "scrolled": true
   },
   "outputs": [
    {
     "data": {
      "text/plain": [
       "0.430888745821368"
      ]
     },
     "execution_count": 50,
     "metadata": {},
     "output_type": "execute_result"
    }
   ],
   "source": [
    "xone_critic['total_sales'].corr(xone_critic['critic_score'])"
   ]
  },
  {
   "cell_type": "code",
   "execution_count": 51,
   "metadata": {
    "scrolled": false
   },
   "outputs": [
    {
     "data": {
      "text/plain": [
       "-0.06868389218473443"
      ]
     },
     "execution_count": 51,
     "metadata": {},
     "output_type": "execute_result"
    }
   ],
   "source": [
    "xone_users['total_sales'].corr(xone_critic['user_score'])"
   ]
  },
  {
   "cell_type": "markdown",
   "metadata": {},
   "source": [
    "Таким образом, видно, что продажи игр не имеют сильной зависимости от отзывов критиков и пользователей."
   ]
  },
  {
   "cell_type": "markdown",
   "metadata": {},
   "source": [
    "### Посмотрите на общее распределение игр по жанрам. Что можно сказать о самых прибыльных жанрах? Выделяются ли жанры с высокими и низкими продажами?"
   ]
  },
  {
   "cell_type": "code",
   "execution_count": 52,
   "metadata": {
    "scrolled": true
   },
   "outputs": [
    {
     "data": {
      "text/html": [
       "<div>\n",
       "<style scoped>\n",
       "    .dataframe tbody tr th:only-of-type {\n",
       "        vertical-align: middle;\n",
       "    }\n",
       "\n",
       "    .dataframe tbody tr th {\n",
       "        vertical-align: top;\n",
       "    }\n",
       "\n",
       "    .dataframe thead th {\n",
       "        text-align: right;\n",
       "    }\n",
       "</style>\n",
       "<table border=\"1\" class=\"dataframe\">\n",
       "  <thead>\n",
       "    <tr style=\"text-align: right;\">\n",
       "      <th></th>\n",
       "      <th>genre</th>\n",
       "      <th>total_sales</th>\n",
       "    </tr>\n",
       "  </thead>\n",
       "  <tbody>\n",
       "    <tr>\n",
       "      <th>8</th>\n",
       "      <td>Shooter</td>\n",
       "      <td>105.73</td>\n",
       "    </tr>\n",
       "    <tr>\n",
       "      <th>0</th>\n",
       "      <td>Action</td>\n",
       "      <td>102.13</td>\n",
       "    </tr>\n",
       "    <tr>\n",
       "      <th>10</th>\n",
       "      <td>Sports</td>\n",
       "      <td>64.33</td>\n",
       "    </tr>\n",
       "    <tr>\n",
       "      <th>7</th>\n",
       "      <td>Role-Playing</td>\n",
       "      <td>55.82</td>\n",
       "    </tr>\n",
       "    <tr>\n",
       "      <th>3</th>\n",
       "      <td>Misc</td>\n",
       "      <td>14.17</td>\n",
       "    </tr>\n",
       "    <tr>\n",
       "      <th>2</th>\n",
       "      <td>Fighting</td>\n",
       "      <td>12.37</td>\n",
       "    </tr>\n",
       "    <tr>\n",
       "      <th>1</th>\n",
       "      <td>Adventure</td>\n",
       "      <td>11.98</td>\n",
       "    </tr>\n",
       "    <tr>\n",
       "      <th>6</th>\n",
       "      <td>Racing</td>\n",
       "      <td>10.86</td>\n",
       "    </tr>\n",
       "    <tr>\n",
       "      <th>4</th>\n",
       "      <td>Platform</td>\n",
       "      <td>9.28</td>\n",
       "    </tr>\n",
       "    <tr>\n",
       "      <th>9</th>\n",
       "      <td>Simulation</td>\n",
       "      <td>7.55</td>\n",
       "    </tr>\n",
       "    <tr>\n",
       "      <th>11</th>\n",
       "      <td>Strategy</td>\n",
       "      <td>2.98</td>\n",
       "    </tr>\n",
       "    <tr>\n",
       "      <th>5</th>\n",
       "      <td>Puzzle</td>\n",
       "      <td>0.72</td>\n",
       "    </tr>\n",
       "  </tbody>\n",
       "</table>\n",
       "</div>"
      ],
      "text/plain": [
       "           genre  total_sales\n",
       "8        Shooter       105.73\n",
       "0         Action       102.13\n",
       "10        Sports        64.33\n",
       "7   Role-Playing        55.82\n",
       "3           Misc        14.17\n",
       "2       Fighting        12.37\n",
       "1      Adventure        11.98\n",
       "6         Racing        10.86\n",
       "4       Platform         9.28\n",
       "9     Simulation         7.55\n",
       "11      Strategy         2.98\n",
       "5         Puzzle         0.72"
      ]
     },
     "execution_count": 52,
     "metadata": {},
     "output_type": "execute_result"
    }
   ],
   "source": [
    "data_genres=modern_data.pivot_table(index='genre', values='total_sales', aggfunc='sum')\n",
    "data_genres.reset_index(drop=False, inplace=True)\n",
    "data_genres.sort_values(by='total_sales', ascending=False)"
   ]
  },
  {
   "cell_type": "code",
   "execution_count": 53,
   "metadata": {
    "scrolled": true
   },
   "outputs": [
    {
     "data": {
      "text/plain": [
       "<AxesSubplot:xlabel='genre', ylabel='total_sales'>"
      ]
     },
     "execution_count": 53,
     "metadata": {},
     "output_type": "execute_result"
    },
    {
     "data": {
      "image/png": "[encoded data removed]",
      "text/plain": [
       "<Figure size 576x576 with 1 Axes>"
      ]
     },
     "metadata": {
      "needs_background": "light"
     },
     "output_type": "display_data"
    }
   ],
   "source": [
    "plt.figure(figsize=(8,8))\n",
    "plt.ylim([0,9])\n",
    "sns.boxplot(data=modern_data, x='genre', y='total_sales')"
   ]
  },
  {
   "cell_type": "code",
   "execution_count": 54,
   "metadata": {},
   "outputs": [
    {
     "data": {
      "text/plain": [
       "<AxesSubplot:xlabel='genre', ylabel='total_sales'>"
      ]
     },
     "execution_count": 54,
     "metadata": {},
     "output_type": "execute_result"
    },
    {
     "data": {
      "image/png": "[encoded data removed]",
      "text/plain": [
       "<Figure size 720x720 with 1 Axes>"
      ]
     },
     "metadata": {
      "needs_background": "light"
     },
     "output_type": "display_data"
    }
   ],
   "source": [
    "plt.figure(figsize=(10,10))\n",
    "plt.ylim([0,0.5])\n",
    "sns.boxplot(data=modern_data, x='genre', y='total_sales')"
   ]
  },
  {
   "cell_type": "markdown",
   "metadata": {},
   "source": [
    "Благодаря диаграме размаха стало видно, что прибыльных жанров больше 4-х: Shooter, Sports, Role-Playing, Fighting, Misc. Action имеет большое кол-во продаж в целом, но медианное значение у него ниже, чем у других топовых жанров, а также у него очень много выбросов. Самыми стабильными можно назвать жанры Shooter и Sports."
   ]
  },
  {
   "cell_type": "markdown",
   "metadata": {},
   "source": [
    "### Вывод"
   ]
  },
  {
   "cell_type": "markdown",
   "metadata": {},
   "source": [
    "* Выяснилось, что средний срок жизни платформы составляет 10 лет. \n",
    "* Актуальными данными считаются данные за 2015 год и новее.\n",
    "* Топ-5 платформ: PS3, PS4, XOne, WiiU и 3DS. \n",
    "* Продажи игр не имеют сильной зависимости от отзывов критиков и пользователей. \n",
    "* Прибыльные жанры: Sports, Shooter, Role-playing, Fighting, Misc. Наименее прибыльные: Adventure и Puzzle."
   ]
  },
  {
   "cell_type": "markdown",
   "metadata": {},
   "source": [
    "## Портрет пользователя для каждого региона"
   ]
  },
  {
   "cell_type": "markdown",
   "metadata": {},
   "source": [
    "### Топ-5 платформ по регионам"
   ]
  },
  {
   "cell_type": "code",
   "execution_count": 55,
   "metadata": {
    "scrolled": true
   },
   "outputs": [],
   "source": [
    "na_data = modern_data.sort_values(by=('na_sales'), ascending = False)\n",
    "drop_list = [\"name\",\"total_sales\", \"critic_score\", \"user_score\", \"platform\", \"rating\", \"year_of_release\", \"genre\", \"na_sales\"]\n",
    "na_data = na_data.drop(na_data.columns.difference(drop_list), axis=1)\n",
    "na_data = na_data.pivot_table(index='platform', values=['na_sales'], aggfunc='sum').reset_index()\n",
    "na_data.columns = ['platform', 'na_sales']\n",
    "def platforms(platform):\n",
    "    if platform == '3DS':\n",
    "        return ('3DS')\n",
    "    elif platform == 'PS4':\n",
    "        return ('PS4')\n",
    "    elif platform == 'WiiU':\n",
    "        return ('WiiU')\n",
    "    elif platform == 'X360':\n",
    "        return ('X360')\n",
    "    elif platform == 'XOne':\n",
    "        return ('XOne')\n",
    "    else:\n",
    "        return ('другие')\n",
    "na_data['platform']=na_data['platform'].apply(platforms)"
   ]
  },
  {
   "cell_type": "code",
   "execution_count": 56,
   "metadata": {},
   "outputs": [],
   "source": [
    "eu_data = modern_data.sort_values(by=('eu_sales'), ascending = False)\n",
    "drop_list = [\"name\",\"total_sales\", \"critic_score\", \"user_score\", \"platform\", \"rating\", \"year_of_release\", \"genre\", \"eu_sales\"]\n",
    "eu_data = eu_data.drop(eu_data.columns.difference(drop_list), axis=1)\n",
    "eu_data = eu_data.pivot_table(index='platform', values='eu_sales', aggfunc='sum').reset_index()\n",
    "eu_data.columns = ['platform', 'eu_sales']\n",
    "def platforms(platform):\n",
    "    if platform == '3DS':\n",
    "        return ('3DS')\n",
    "    elif platform == 'PS4':\n",
    "        return ('PS4')\n",
    "    elif platform == 'PC':\n",
    "        return ('PC')\n",
    "    elif platform == 'PS3':\n",
    "        return ('PS3')\n",
    "    elif platform == 'XOne':\n",
    "        return ('XOne')\n",
    "    else:\n",
    "        return ('другие')\n",
    "eu_data['platform']=eu_data['platform'].apply(platforms)"
   ]
  },
  {
   "cell_type": "code",
   "execution_count": 57,
   "metadata": {},
   "outputs": [],
   "source": [
    "jp_data = modern_data.sort_values(by=('jp_sales'), ascending = False)\n",
    "drop_list = [\"name\",\"total_sales\", \"critic_score\", \"user_score\", \"platform\", \"rating\", \"year_of_release\", \"genre\", \"jp_sales\"]\n",
    "jp_data = jp_data.drop(jp_data.columns.difference(drop_list), axis=1)\n",
    "jp_data = jp_data.pivot_table(index='platform', values='jp_sales', aggfunc='sum').reset_index()\n",
    "jp_data.columns = ['platform', 'jp_sales']\n",
    "def platforms(platform):\n",
    "    if platform == '3DS':\n",
    "        return ('3DS')\n",
    "    elif platform == 'PS4':\n",
    "        return ('PS4')\n",
    "    elif platform == 'WiiU':\n",
    "        return ('WiiU')\n",
    "    elif platform == 'PS3':\n",
    "        return ('PS3')\n",
    "    elif platform == 'PSV':\n",
    "        return ('PSV')\n",
    "    else:\n",
    "        return ('другие')\n",
    "jp_data['platform']=jp_data['platform'].apply(platforms)"
   ]
  },
  {
   "cell_type": "code",
   "execution_count": 58,
   "metadata": {
    "scrolled": true
   },
   "outputs": [
    {
     "data": {
      "image/png": "[encoded data removed]",
      "text/plain": [
       "<Figure size 1368x576 with 3 Axes>"
      ]
     },
     "metadata": {},
     "output_type": "display_data"
    }
   ],
   "source": [
    "fig, (ax1, ax2, ax3) = plt.subplots(nrows=1, ncols=3, figsize=(19, 8))\n",
    "fig.suptitle('Топ-5 платформ по регионам',\n",
    "             y = 0.9,\n",
    "             fontsize = 20)\n",
    "na_data.groupby(['platform']).sum().plot(kind='pie', y='na_sales', autopct='%1.0f%%', ax=ax1)\n",
    "ax1.set_title('Топ-5 Америки')\n",
    "eu_data.groupby(['platform']).sum().plot(kind='pie', y='eu_sales', autopct='%1.0f%%', ax=ax2)\n",
    "ax2.set_title('Топ-5 Европы')\n",
    "jp_data.groupby(['platform']).sum().plot(kind='pie', y='jp_sales', autopct='%1.0f%%', ax=ax3)\n",
    "ax3.set_title('Топ-5 Японии')\n",
    "plt.show()"
   ]
  },
  {
   "cell_type": "markdown",
   "metadata": {},
   "source": [
    "В Америке и Европе лидирует PS4, в то время как в Японии - 3DS. XOne пользуется популярностью в Европе и в Америке, в Японии не входит даже в топ-5. Также доволно популярной платформой в Японии можно считать PS4 и PSV. В Америке и Европе около 7-8% от общего рынка занимают другие платформы (не входящие в топ-5), в Японии таких меньше 1%."
   ]
  },
  {
   "cell_type": "markdown",
   "metadata": {},
   "source": [
    "### Топ-5 жанров по регионам"
   ]
  },
  {
   "cell_type": "code",
   "execution_count": 59,
   "metadata": {},
   "outputs": [],
   "source": [
    "na_genres_data = modern_data.sort_values(by=('na_sales'), ascending = False)\n",
    "drop_list = [\"name\", \"critic_score\", \"user_score\", \"platform\", \"rating\", \"year_of_release\", 'na_sales']\n",
    "na_genres_data = na_genres_data.drop(na_data.columns.difference(drop_list), axis=1)\n",
    "na_genres_data = na_genres_data.pivot_table(index='genre', values='na_sales', aggfunc='sum').reset_index()\n",
    "na_genres_data.columns = ['genre', 'na_sales']\n",
    "na_genres_data.reset_index(drop=True)\n",
    "def genres(genre):\n",
    "    if genre == 'Action':\n",
    "        return ('Action')\n",
    "    elif genre == 'Role-Playing':\n",
    "        return ('Role-Playing')\n",
    "    elif genre == 'Shooter':\n",
    "        return ('Shooter')\n",
    "    elif genre == 'Sports':\n",
    "        return ('Sports')\n",
    "    elif genre == 'Misc':\n",
    "        return ('Misc')\n",
    "    else:\n",
    "        return ('другие')\n",
    "na_genres_data['genre']=na_genres_data['genre'].apply(genres)"
   ]
  },
  {
   "cell_type": "code",
   "execution_count": 60,
   "metadata": {},
   "outputs": [],
   "source": [
    "eu_genres_data = modern_data.sort_values(by=('eu_sales'), ascending = False)\n",
    "drop_list = [\"name\", \"critic_score\", \"user_score\", \"platform\", \"rating\", \"year_of_release\", 'eu_sales']\n",
    "eu_genres_data = eu_genres_data.drop(eu_data.columns.difference(drop_list), axis=1)\n",
    "eu_genres_data = eu_genres_data.pivot_table(index='genre', values='eu_sales', aggfunc='sum').reset_index()\n",
    "eu_genres_data.columns = ['genre', 'eu_sales']\n",
    "eu_genres_data.reset_index(drop=True)\n",
    "def genres(genre):\n",
    "    if genre == 'Action':\n",
    "        return ('Action')\n",
    "    elif genre == 'Role-Playing':\n",
    "        return ('Role-Playing')\n",
    "    elif genre == 'Shooter':\n",
    "        return ('Shooter')\n",
    "    elif genre == 'Sports':\n",
    "        return ('Sports')\n",
    "    elif genre == 'Racing':\n",
    "        return ('Racing')\n",
    "    else:\n",
    "        return ('другие')\n",
    "eu_genres_data['genre']=eu_genres_data['genre'].apply(genres)"
   ]
  },
  {
   "cell_type": "code",
   "execution_count": 61,
   "metadata": {},
   "outputs": [],
   "source": [
    "jp_genres_data = modern_data.sort_values(by=('jp_sales'), ascending = False)\n",
    "drop_list = [\"name\", \"critic_score\", \"user_score\", \"platform\", \"rating\", \"year_of_release\", 'jp_sales']\n",
    "jp_genres_data = jp_genres_data.drop(jp_data.columns.difference(drop_list), axis=1)\n",
    "jp_genres_data = jp_genres_data.pivot_table(index='genre', values='jp_sales', aggfunc='sum').reset_index()\n",
    "jp_genres_data.columns = ['genre', 'jp_sales']\n",
    "jp_genres_data.reset_index(drop=True)\n",
    "def genres(genre):\n",
    "    if genre == 'Action':\n",
    "        return ('Action')\n",
    "    elif genre == 'Role-Playing':\n",
    "        return ('Role-Playing')\n",
    "    elif genre == 'Shooter':\n",
    "        return ('Shooter')\n",
    "    elif genre == 'Misc':\n",
    "        return ('Misc')\n",
    "    elif genre == 'Adventure':\n",
    "        return ('Adventure')\n",
    "    else:\n",
    "        return ('другие')\n",
    "jp_genres_data['genre']=jp_genres_data['genre'].apply(genres)"
   ]
  },
  {
   "cell_type": "code",
   "execution_count": 62,
   "metadata": {
    "scrolled": true
   },
   "outputs": [
    {
     "data": {
      "image/png": "[encoded data removed]",
      "text/plain": [
       "<Figure size 1368x576 with 3 Axes>"
      ]
     },
     "metadata": {},
     "output_type": "display_data"
    }
   ],
   "source": [
    "fig, (ax1, ax2, ax3) = plt.subplots(nrows=1, ncols=3, figsize=(19, 8))\n",
    "fig.suptitle('Топ-5 жанров по регионам',\n",
    "             y = 0.9,\n",
    "             fontsize = 20)\n",
    "eu_genres_data.groupby(['genre']).sum().plot(kind='pie', y='eu_sales', autopct='%1.0f%%', ax=ax2)\n",
    "ax2.set_title('Топ-5 Европы')\n",
    "jp_genres_data.groupby(['genre']).sum().plot(kind='pie', y='jp_sales', autopct='%1.0f%%', ax=ax3)\n",
    "ax3.set_title('Топ-5 Японии')\n",
    "na_genres_data.groupby(['genre']).sum().plot(kind='pie', y='na_sales', autopct='%1.0f%%', ax=ax1)\n",
    "ax1.set_title('Топ-5 Америки')\n",
    "plt.show()"
   ]
  },
  {
   "cell_type": "markdown",
   "metadata": {},
   "source": [
    "Здесь видно, что у Америки и Европы похожая картина, также, как и с платформами — на 1 месте Shooter, на 2 — Action, на 3 — Sports, на 4 — Role-playing. Лишь 5 место отличается: в Америке это Misc, в Европе — Racing. От 12 до 14% занимают другие жанры. В Японии ситуация другая: 1 место — Action, 2 —Role-Playing, 14% — другие, и меньше 10% каждый занимают жанры Shooter, Misc и Adventure."
   ]
  },
  {
   "cell_type": "markdown",
   "metadata": {},
   "source": [
    "### Влияние рейтинга на продажи по регионам"
   ]
  },
  {
   "cell_type": "code",
   "execution_count": 63,
   "metadata": {
    "scrolled": false
   },
   "outputs": [
    {
     "data": {
      "text/html": [
       "<div>\n",
       "<style scoped>\n",
       "    .dataframe tbody tr th:only-of-type {\n",
       "        vertical-align: middle;\n",
       "    }\n",
       "\n",
       "    .dataframe tbody tr th {\n",
       "        vertical-align: top;\n",
       "    }\n",
       "\n",
       "    .dataframe thead th {\n",
       "        text-align: right;\n",
       "    }\n",
       "</style>\n",
       "<table border=\"1\" class=\"dataframe\">\n",
       "  <thead>\n",
       "    <tr style=\"text-align: right;\">\n",
       "      <th></th>\n",
       "      <th>rating</th>\n",
       "      <th>eu_sales</th>\n",
       "    </tr>\n",
       "  </thead>\n",
       "  <tbody>\n",
       "    <tr>\n",
       "      <th>0</th>\n",
       "      <td>E</td>\n",
       "      <td>34.83</td>\n",
       "    </tr>\n",
       "    <tr>\n",
       "      <th>1</th>\n",
       "      <td>E10+</td>\n",
       "      <td>11.54</td>\n",
       "    </tr>\n",
       "    <tr>\n",
       "      <th>2</th>\n",
       "      <td>M</td>\n",
       "      <td>45.54</td>\n",
       "    </tr>\n",
       "    <tr>\n",
       "      <th>3</th>\n",
       "      <td>T</td>\n",
       "      <td>20.32</td>\n",
       "    </tr>\n",
       "    <tr>\n",
       "      <th>4</th>\n",
       "      <td>unknown</td>\n",
       "      <td>35.71</td>\n",
       "    </tr>\n",
       "  </tbody>\n",
       "</table>\n",
       "</div>"
      ],
      "text/plain": [
       "    rating  eu_sales\n",
       "0        E     34.83\n",
       "1     E10+     11.54\n",
       "2        M     45.54\n",
       "3        T     20.32\n",
       "4  unknown     35.71"
      ]
     },
     "execution_count": 63,
     "metadata": {},
     "output_type": "execute_result"
    }
   ],
   "source": [
    "na_datar = modern_data.sort_values(by=('na_sales'), ascending = False)\n",
    "drop_list = [\"name\",\"total_sales\", \"critic_score\", \"user_score\", \"platform\", \"year_of_release\", \"genre\", \"na_sales\", 'rating']\n",
    "na_datar = na_datar.drop(na_datar.columns.difference(drop_list), axis=1)\n",
    "na_datar = na_datar.pivot_table(index='rating', values='na_sales', aggfunc='sum').reset_index()\n",
    "na_datar.columns = ['rating', 'na_sales']\n",
    "na_datar.reset_index(drop=True)\n",
    "\n",
    "jp_datar = modern_data.sort_values(by=('jp_sales'), ascending = False)\n",
    "drop_list = [\"name\",\"total_sales\", \"critic_score\", \"user_score\", \"platform\", \"year_of_release\", \"genre\", \"jp_sales\", 'rating']\n",
    "jp_datar = jp_datar.drop(jp_datar.columns.difference(drop_list), axis=1)\n",
    "jp_datar = jp_datar.pivot_table(index='rating', values='jp_sales', aggfunc='sum').reset_index()\n",
    "jp_datar.columns = ['rating', 'jp_sales']\n",
    "jp_datar.reset_index(drop=True)\n",
    "\n",
    "eu_datar = modern_data.sort_values(by=('eu_sales'), ascending = False)\n",
    "drop_list = [\"name\",\"total_sales\", \"critic_score\", \"user_score\", \"platform\", \"year_of_release\", \"genre\", \"eu_sales\", 'rating']\n",
    "eu_datar = eu_datar.drop(eu_datar.columns.difference(drop_list), axis=1)\n",
    "eu_datar = eu_datar.pivot_table(index='rating', values='eu_sales', aggfunc='sum').reset_index()\n",
    "eu_datar.columns = ['rating', 'eu_sales']\n",
    "eu_datar.reset_index(drop=True)"
   ]
  },
  {
   "cell_type": "code",
   "execution_count": 64,
   "metadata": {
    "scrolled": true
   },
   "outputs": [
    {
     "data": {
      "image/png": "[encoded data removed]",
      "text/plain": [
       "<Figure size 1368x576 with 3 Axes>"
      ]
     },
     "metadata": {},
     "output_type": "display_data"
    }
   ],
   "source": [
    "fig, (ax1, ax2, ax3) = plt.subplots(nrows=1, ncols=3, figsize=(19, 8))\n",
    "fig.suptitle('Влияние рейтинга по регионам',\n",
    "             y = 0.9,\n",
    "             fontsize = 20)\n",
    "eu_datar.groupby(['rating']).sum().plot(kind='pie', y='eu_sales', autopct='%1.0f%%', ax=ax2)\n",
    "ax2.set_title('Топ-5 Европы')\n",
    "jp_datar.groupby(['rating']).sum().plot(kind='pie', y='jp_sales', autopct='%1.0f%%', ax=ax3)\n",
    "ax3.set_title('Топ-5 Японии')\n",
    "na_datar.groupby(['rating']).sum().plot(kind='pie', y='na_sales', autopct='%1.0f%%', ax=ax1)\n",
    "ax1.set_title('Топ-5 Америки')\n",
    "plt.show()"
   ]
  },
  {
   "cell_type": "markdown",
   "metadata": {},
   "source": [
    "Снова наблюдаем похожую картину для Америки и Европы: здесь больше всего продано игр с рейтингом M. Четверть данных имеет неизвестный рейтинг, оставшиеся рейтинги практически равноценно разделились по 2-м регионам. В Японии же существует своя система CERO для определения рейтинга игр, поэтому здесь целых 62% продаж под неизвестным рейтингом."
   ]
  },
  {
   "cell_type": "markdown",
   "metadata": {},
   "source": [
    "### Вывод"
   ]
  },
  {
   "cell_type": "markdown",
   "metadata": {},
   "source": [
    "Профили пользователей Америки и Европы очень похожи во всех профилях - платформы, жанры, продажи по рейтингам. В то же время Япония сильно отличается от них и нужно учитывать особенности этого рынка."
   ]
  },
  {
   "cell_type": "markdown",
   "metadata": {},
   "source": [
    "## Проверка гипотез"
   ]
  },
  {
   "cell_type": "markdown",
   "metadata": {},
   "source": [
    "### Средние пользовательские рейтинги платформ Xbox One и PC одинаковые;"
   ]
  },
  {
   "cell_type": "markdown",
   "metadata": {},
   "source": [
    "Нулевая гипотеза: Средние пользовательские рейтинги платформ Xbox One и PC одинаковые.\\\n",
    "Альтернативная гипотеза: Средние пользовательские рейтинги платформ Xbox One и PC различаются."
   ]
  },
  {
   "cell_type": "code",
   "execution_count": 65,
   "metadata": {},
   "outputs": [],
   "source": [
    "pc=modern_data[modern_data['platform'].isin(['PC'])]"
   ]
  },
  {
   "cell_type": "code",
   "execution_count": 66,
   "metadata": {},
   "outputs": [
    {
     "name": "stdout",
     "output_type": "stream",
     "text": [
      "p-значение: 1.3392170363533423e-06\n",
      "Принимаем альтернативную гипотезу\n"
     ]
    }
   ],
   "source": [
    "alpha=0.05\n",
    "results = st.ttest_ind(\n",
    "    xone_users['user_score'], pc['user_score'])\n",
    "\n",
    "print ('p-значение:', results.pvalue)\n",
    "\n",
    "if results.pvalue < alpha:\n",
    "    print ('Принимаем альтернативную гипотезу')\n",
    "else:\n",
    "    print ('Опровергнуть нулевую гипотезу нельзя')"
   ]
  },
  {
   "cell_type": "markdown",
   "metadata": {},
   "source": [
    "### Средние пользовательские рейтинги жанров Action и Sports разные."
   ]
  },
  {
   "cell_type": "markdown",
   "metadata": {},
   "source": [
    "Нулевая гипотеза: Средние пользовательские рейтинги жанров Action и Sports одинаковые.\\\n",
    "Альтернативная гипотеза: Средние пользовательские рейтинги жанров Action и Sports разные."
   ]
  },
  {
   "cell_type": "code",
   "execution_count": 67,
   "metadata": {},
   "outputs": [],
   "source": [
    "action=modern_data[modern_data['genre'].isin(['Action'])]\n",
    "sport=modern_data[modern_data['genre'].isin(['Sports'])]"
   ]
  },
  {
   "cell_type": "code",
   "execution_count": 68,
   "metadata": {},
   "outputs": [
    {
     "name": "stdout",
     "output_type": "stream",
     "text": [
      "p-значение: 0.0026068666888654085\n",
      "Принимаем альтернативную гипотезу\n"
     ]
    }
   ],
   "source": [
    "alpha=0.05\n",
    "results = st.ttest_ind(\n",
    "    action['user_score'], sport['user_score'])\n",
    "\n",
    "print ('p-значение:', results.pvalue)\n",
    "\n",
    "if results.pvalue < alpha:\n",
    "    print ('Принимаем альтернативную гипотезу')\n",
    "else:\n",
    "    print ('Опровергнуть нулевую гипотезу нельзя')"
   ]
  },
  {
   "cell_type": "markdown",
   "metadata": {},
   "source": [
    "Пояснение:\n",
    "\n",
    "Гипотезы я выдвигала следуюшим образом: нулевая гипотеза подразумевает под собой отсутсвие каких-либо различий, альтернативная-наоборот. Проверяла с помощью p-value, т.к. уже делала так в прошлом проекте и мне показалось это удобным."
   ]
  },
  {
   "cell_type": "markdown",
   "metadata": {},
   "source": [
    "### Вывод"
   ]
  },
  {
   "cell_type": "markdown",
   "metadata": {},
   "source": [
    "Выяснилось, что пользовательские оценки платформ XBox One и PC различаются, как и у жанров Action и Sports."
   ]
  },
  {
   "cell_type": "markdown",
   "metadata": {},
   "source": [
    "## Общий вывод"
   ]
  },
  {
   "cell_type": "markdown",
   "metadata": {},
   "source": [
    "* Активная продажа игр началась с 2002 года\n",
    "* В среднем срок жизни платформы составляет 10 лет. Платформа PS4 появилась относительно недавно, но имеет самое большое кол-во продаж за последние 4 года.\n",
    "* Актуальными данными считаются данные за 2015 год и новее, с помощью них можно сделать прогноз на 2017 год.\n",
    "* Топ-4 платформ в выбранных регионах: PS4, XOne, WiiU и 3DS. \n",
    "* Продажи игр не имеют сильной зависимости от отзывов критиков и пользователей. \n",
    "* Прибыльные жанры: Sports, Shooter, Role-playing, Fighting, Misc. Наименее прибыльные: Adventure и Puzzle.\n",
    "* Профили пользователей Америки и Европы очень похожи во всех профилях - платформы, жанры, продажи по рейтингам. В то же время Япония сильно отличается от них и нужно учитывать особенности этого рынка."
   ]
  },
  {
   "cell_type": "markdown",
   "metadata": {},
   "source": [
    "Но также был проведен анализ по регионам. Вот результаты по Северной Америке:\n",
    "* PS4 здесь лидирует(42%), но также значительную долю рынка занимают XOne(33%). Также в топ-5 входят WiiU, X360 и 3DS.\n",
    "* В Америке лидирует Shooter(32%), также существенную долю занимает Action(22%). Небольшой процент занимают игры жанра Misc(4%).\n",
    "* Больше всего продаж у игр с рейтингом M(31%). Это игры для пользователей от 17 лет, что в принципе логично, пользователи этой возрастной группы обычно уже располагают собственными денежными средствами и могут покупать игры. Меньше всего продаж у игр с рейтингом T и E10+, что тоже объяснимо, т.к. это рейтинги на детские и подростовые игры."
   ]
  },
  {
   "cell_type": "markdown",
   "metadata": {},
   "source": [
    "Европа:\n",
    "* Здесь также лидирует PS4, но ему принадлежит целых 56% рынка. Также немаленькую часть занимает XOne(19%), и от 5 до 6% занимают PS3, PC, 3DS.\n",
    "* В Европе также лидируют Action и Shooter, но на последнем месте Racing(4%).\n",
    "* В Европе также, как в Америке, больший процент занимают игры с рейтингом M, а еще игры с рейтингом Е(для всех). Категории T и E10+ тоже занимают меньший процент."
   ]
  },
  {
   "cell_type": "markdown",
   "metadata": {},
   "source": [
    "Япония:\n",
    "* В Японии лидером является 3DS, хотя в остальных регионах был аутсайдером. Скорее всего, это связано с тем, что это платформа их страны. Также больой процент занимают PS4(23%) и PSV(16%).\n",
    "* В Японии лидирует Action(43%), также существенную долю занимает Role-Playing(25%). От 4 до 7% среди топ-5 занимают Shooter, Adventure и Misc.\n",
    "* Возрастными рейтингами для консольных игр в Японии занимается CERO – некоммерческая организация, основанная в июле 2002-го. Видимо, игры с их рейтингом попали в графу 'unknown', поэтому у нее такой большой процент."
   ]
  }
 ],
 "metadata": {
  "ExecuteTimeLog": [
   {
    "duration": 382,
    "start_time": "2022-05-15T06:01:46.371Z"
   },
   {
    "duration": 44,
    "start_time": "2022-05-15T06:02:09.725Z"
   },
   {
    "duration": 55,
    "start_time": "2022-05-15T06:02:13.088Z"
   },
   {
    "duration": 16,
    "start_time": "2022-05-15T06:15:38.902Z"
   },
   {
    "duration": 18,
    "start_time": "2022-05-15T06:16:43.455Z"
   },
   {
    "duration": 9,
    "start_time": "2022-05-15T06:18:59.732Z"
   },
   {
    "duration": 2265,
    "start_time": "2022-05-15T06:22:36.579Z"
   },
   {
    "duration": 2248,
    "start_time": "2022-05-15T06:22:51.755Z"
   },
   {
    "duration": 5,
    "start_time": "2022-05-15T06:23:02.118Z"
   },
   {
    "duration": 2207,
    "start_time": "2022-05-15T06:23:36.909Z"
   },
   {
    "duration": 6,
    "start_time": "2022-05-15T06:23:46.649Z"
   },
   {
    "duration": 74,
    "start_time": "2022-05-18T07:48:13.083Z"
   },
   {
    "duration": 405,
    "start_time": "2022-05-18T07:48:20.920Z"
   },
   {
    "duration": 72,
    "start_time": "2022-05-18T07:48:21.327Z"
   },
   {
    "duration": 13,
    "start_time": "2022-05-18T07:48:21.402Z"
   },
   {
    "duration": 9,
    "start_time": "2022-05-18T07:48:21.417Z"
   },
   {
    "duration": 96,
    "start_time": "2022-05-18T07:48:21.428Z"
   },
   {
    "duration": 4,
    "start_time": "2022-05-18T07:56:20.972Z"
   },
   {
    "duration": 520,
    "start_time": "2022-05-18T07:56:58.092Z"
   },
   {
    "duration": 4,
    "start_time": "2022-05-18T07:57:06.843Z"
   },
   {
    "duration": 493,
    "start_time": "2022-05-18T07:57:12.069Z"
   },
   {
    "duration": 413,
    "start_time": "2022-05-18T07:57:25.249Z"
   },
   {
    "duration": 59,
    "start_time": "2022-05-18T07:57:25.664Z"
   },
   {
    "duration": 13,
    "start_time": "2022-05-18T07:57:25.725Z"
   },
   {
    "duration": 13,
    "start_time": "2022-05-18T07:57:25.740Z"
   },
   {
    "duration": 4,
    "start_time": "2022-05-18T07:57:25.765Z"
   },
   {
    "duration": 91,
    "start_time": "2022-05-18T07:57:25.771Z"
   },
   {
    "duration": 4,
    "start_time": "2022-05-18T07:57:48.221Z"
   },
   {
    "duration": 7,
    "start_time": "2022-05-18T07:57:49.740Z"
   },
   {
    "duration": 7,
    "start_time": "2022-05-18T08:07:10.609Z"
   },
   {
    "duration": 8,
    "start_time": "2022-05-18T08:07:16.105Z"
   },
   {
    "duration": 7,
    "start_time": "2022-05-18T08:07:59.320Z"
   },
   {
    "duration": 55,
    "start_time": "2022-05-18T09:34:23.567Z"
   },
   {
    "duration": 419,
    "start_time": "2022-05-18T09:34:28.577Z"
   },
   {
    "duration": 221,
    "start_time": "2022-05-18T09:34:28.998Z"
   },
   {
    "duration": 13,
    "start_time": "2022-05-18T09:34:29.221Z"
   },
   {
    "duration": 32,
    "start_time": "2022-05-18T09:34:29.236Z"
   },
   {
    "duration": 23,
    "start_time": "2022-05-18T09:34:29.271Z"
   },
   {
    "duration": 121,
    "start_time": "2022-05-18T09:34:29.296Z"
   },
   {
    "duration": 10,
    "start_time": "2022-05-18T09:34:46.311Z"
   },
   {
    "duration": 404,
    "start_time": "2022-05-18T09:34:55.385Z"
   },
   {
    "duration": 84,
    "start_time": "2022-05-18T09:34:55.791Z"
   },
   {
    "duration": 18,
    "start_time": "2022-05-18T09:34:55.877Z"
   },
   {
    "duration": 11,
    "start_time": "2022-05-18T09:34:55.897Z"
   },
   {
    "duration": 6,
    "start_time": "2022-05-18T09:34:55.910Z"
   },
   {
    "duration": 82,
    "start_time": "2022-05-18T09:34:55.917Z"
   },
   {
    "duration": 386,
    "start_time": "2022-05-18T09:35:04.016Z"
   },
   {
    "duration": 81,
    "start_time": "2022-05-18T09:35:04.403Z"
   },
   {
    "duration": 14,
    "start_time": "2022-05-18T09:35:04.485Z"
   },
   {
    "duration": 9,
    "start_time": "2022-05-18T09:35:04.500Z"
   },
   {
    "duration": 5,
    "start_time": "2022-05-18T09:35:04.511Z"
   },
   {
    "duration": 78,
    "start_time": "2022-05-18T09:35:11.199Z"
   },
   {
    "duration": 434,
    "start_time": "2022-05-18T09:35:22.442Z"
   },
   {
    "duration": 70,
    "start_time": "2022-05-18T09:35:22.880Z"
   },
   {
    "duration": 17,
    "start_time": "2022-05-18T09:35:22.951Z"
   },
   {
    "duration": 26,
    "start_time": "2022-05-18T09:35:22.973Z"
   },
   {
    "duration": 5,
    "start_time": "2022-05-18T09:35:23.001Z"
   },
   {
    "duration": 2,
    "start_time": "2022-05-18T09:35:25.196Z"
   },
   {
    "duration": 3,
    "start_time": "2022-05-18T09:35:33.248Z"
   },
   {
    "duration": 408,
    "start_time": "2022-05-18T09:38:40.568Z"
   },
   {
    "duration": 73,
    "start_time": "2022-05-18T09:38:40.977Z"
   },
   {
    "duration": 18,
    "start_time": "2022-05-18T09:38:41.053Z"
   },
   {
    "duration": 17,
    "start_time": "2022-05-18T09:38:41.072Z"
   },
   {
    "duration": 3,
    "start_time": "2022-05-18T09:38:41.091Z"
   },
   {
    "duration": 5,
    "start_time": "2022-05-18T09:38:41.096Z"
   },
   {
    "duration": 3,
    "start_time": "2022-05-18T09:38:47.877Z"
   },
   {
    "duration": 432,
    "start_time": "2022-05-18T09:38:52.466Z"
   },
   {
    "duration": 72,
    "start_time": "2022-05-18T09:38:52.899Z"
   },
   {
    "duration": 16,
    "start_time": "2022-05-18T09:38:52.973Z"
   },
   {
    "duration": 9,
    "start_time": "2022-05-18T09:38:52.991Z"
   },
   {
    "duration": 21,
    "start_time": "2022-05-18T09:38:53.001Z"
   },
   {
    "duration": 41,
    "start_time": "2022-05-18T09:38:53.023Z"
   },
   {
    "duration": 5,
    "start_time": "2022-05-18T09:39:16.149Z"
   },
   {
    "duration": 20,
    "start_time": "2022-05-18T09:39:17.988Z"
   },
   {
    "duration": 6,
    "start_time": "2022-05-18T09:39:31.714Z"
   },
   {
    "duration": 20,
    "start_time": "2022-05-18T09:39:32.914Z"
   },
   {
    "duration": 77,
    "start_time": "2022-05-18T09:40:13.074Z"
   },
   {
    "duration": 3,
    "start_time": "2022-05-18T09:40:22.752Z"
   },
   {
    "duration": 63,
    "start_time": "2022-05-21T16:10:21.253Z"
   },
   {
    "duration": 407,
    "start_time": "2022-05-21T16:10:27.004Z"
   },
   {
    "duration": 461,
    "start_time": "2022-05-21T16:10:27.413Z"
   },
   {
    "duration": 14,
    "start_time": "2022-05-21T16:10:27.876Z"
   },
   {
    "duration": 11,
    "start_time": "2022-05-21T16:10:27.892Z"
   },
   {
    "duration": 5,
    "start_time": "2022-05-21T16:10:27.904Z"
   },
   {
    "duration": 19,
    "start_time": "2022-05-21T16:10:27.910Z"
   },
   {
    "duration": 2,
    "start_time": "2022-05-21T16:10:27.930Z"
   },
   {
    "duration": 21,
    "start_time": "2022-05-21T16:14:39.622Z"
   },
   {
    "duration": 44,
    "start_time": "2022-05-21T16:14:52.451Z"
   },
   {
    "duration": 23,
    "start_time": "2022-05-21T16:15:43.649Z"
   },
   {
    "duration": 8,
    "start_time": "2022-05-21T16:16:50.223Z"
   },
   {
    "duration": 4,
    "start_time": "2022-05-21T16:33:57.267Z"
   },
   {
    "duration": 4,
    "start_time": "2022-05-21T16:34:12.658Z"
   },
   {
    "duration": 21,
    "start_time": "2022-05-21T16:34:17.066Z"
   },
   {
    "duration": 2,
    "start_time": "2022-05-21T16:34:17.233Z"
   },
   {
    "duration": 18,
    "start_time": "2022-05-21T16:34:58.168Z"
   },
   {
    "duration": 18,
    "start_time": "2022-05-21T16:35:13.581Z"
   },
   {
    "duration": 400,
    "start_time": "2022-05-21T16:35:20.611Z"
   },
   {
    "duration": 72,
    "start_time": "2022-05-21T16:35:21.013Z"
   },
   {
    "duration": 17,
    "start_time": "2022-05-21T16:35:21.087Z"
   },
   {
    "duration": 12,
    "start_time": "2022-05-21T16:35:21.106Z"
   },
   {
    "duration": 7,
    "start_time": "2022-05-21T16:35:21.120Z"
   },
   {
    "duration": 11,
    "start_time": "2022-05-21T16:35:21.129Z"
   },
   {
    "duration": 9,
    "start_time": "2022-05-21T16:35:21.141Z"
   },
   {
    "duration": 29,
    "start_time": "2022-05-21T16:35:21.153Z"
   },
   {
    "duration": 3,
    "start_time": "2022-05-21T16:35:21.204Z"
   },
   {
    "duration": 212,
    "start_time": "2022-05-21T16:36:37.624Z"
   },
   {
    "duration": 2,
    "start_time": "2022-05-21T16:37:39.710Z"
   },
   {
    "duration": 37,
    "start_time": "2022-05-21T16:37:43.080Z"
   },
   {
    "duration": 383,
    "start_time": "2022-05-21T16:38:46.126Z"
   },
   {
    "duration": 77,
    "start_time": "2022-05-21T16:38:46.511Z"
   },
   {
    "duration": 16,
    "start_time": "2022-05-21T16:38:46.590Z"
   },
   {
    "duration": 9,
    "start_time": "2022-05-21T16:38:46.609Z"
   },
   {
    "duration": 5,
    "start_time": "2022-05-21T16:38:46.619Z"
   },
   {
    "duration": 7,
    "start_time": "2022-05-21T16:38:46.626Z"
   },
   {
    "duration": 8,
    "start_time": "2022-05-21T16:38:46.635Z"
   },
   {
    "duration": 20,
    "start_time": "2022-05-21T16:38:46.644Z"
   },
   {
    "duration": 2,
    "start_time": "2022-05-21T16:38:46.666Z"
   },
   {
    "duration": 3,
    "start_time": "2022-05-21T16:38:59.032Z"
   },
   {
    "duration": 32,
    "start_time": "2022-05-21T16:39:01.138Z"
   },
   {
    "duration": 8,
    "start_time": "2022-05-21T16:41:42.926Z"
   },
   {
    "duration": 20,
    "start_time": "2022-05-21T16:41:46.132Z"
   },
   {
    "duration": 348,
    "start_time": "2022-05-21T16:42:03.356Z"
   },
   {
    "duration": 71,
    "start_time": "2022-05-21T16:42:03.706Z"
   },
   {
    "duration": 14,
    "start_time": "2022-05-21T16:42:03.778Z"
   },
   {
    "duration": 9,
    "start_time": "2022-05-21T16:42:03.794Z"
   },
   {
    "duration": 4,
    "start_time": "2022-05-21T16:42:03.804Z"
   },
   {
    "duration": 7,
    "start_time": "2022-05-21T16:42:03.810Z"
   },
   {
    "duration": 7,
    "start_time": "2022-05-21T16:42:03.818Z"
   },
   {
    "duration": 19,
    "start_time": "2022-05-21T16:42:03.827Z"
   },
   {
    "duration": 2,
    "start_time": "2022-05-21T16:42:03.848Z"
   },
   {
    "duration": 18,
    "start_time": "2022-05-21T16:42:23.650Z"
   },
   {
    "duration": 419,
    "start_time": "2022-05-21T16:44:32.508Z"
   },
   {
    "duration": 70,
    "start_time": "2022-05-21T16:44:32.928Z"
   },
   {
    "duration": 15,
    "start_time": "2022-05-21T16:44:33.000Z"
   },
   {
    "duration": 8,
    "start_time": "2022-05-21T16:44:33.018Z"
   },
   {
    "duration": 8,
    "start_time": "2022-05-21T16:44:33.028Z"
   },
   {
    "duration": 15,
    "start_time": "2022-05-21T16:44:33.038Z"
   },
   {
    "duration": 20,
    "start_time": "2022-05-21T16:44:33.054Z"
   },
   {
    "duration": 38,
    "start_time": "2022-05-21T16:44:33.075Z"
   },
   {
    "duration": 5,
    "start_time": "2022-05-21T16:44:33.114Z"
   },
   {
    "duration": 15,
    "start_time": "2022-05-21T16:46:57.791Z"
   },
   {
    "duration": 19,
    "start_time": "2022-05-21T16:47:21.902Z"
   },
   {
    "duration": 70,
    "start_time": "2022-05-21T16:49:06.067Z"
   },
   {
    "duration": 19,
    "start_time": "2022-05-21T16:49:21.333Z"
   },
   {
    "duration": 4,
    "start_time": "2022-05-21T16:49:31.886Z"
   },
   {
    "duration": 4,
    "start_time": "2022-05-21T16:49:34.036Z"
   },
   {
    "duration": 5,
    "start_time": "2022-05-21T16:50:13.898Z"
   },
   {
    "duration": 361,
    "start_time": "2022-05-21T16:50:26.353Z"
   },
   {
    "duration": 382,
    "start_time": "2022-05-21T16:50:37.836Z"
   },
   {
    "duration": 73,
    "start_time": "2022-05-21T16:50:38.220Z"
   },
   {
    "duration": 14,
    "start_time": "2022-05-21T16:50:38.295Z"
   },
   {
    "duration": 7,
    "start_time": "2022-05-21T16:50:38.311Z"
   },
   {
    "duration": 4,
    "start_time": "2022-05-21T16:50:38.320Z"
   },
   {
    "duration": 11,
    "start_time": "2022-05-21T16:50:38.326Z"
   },
   {
    "duration": 25,
    "start_time": "2022-05-21T16:50:38.338Z"
   },
   {
    "duration": 1,
    "start_time": "2022-05-21T16:50:38.365Z"
   },
   {
    "duration": 34,
    "start_time": "2022-05-21T16:50:38.368Z"
   },
   {
    "duration": 6,
    "start_time": "2022-05-21T16:50:38.404Z"
   },
   {
    "duration": 27,
    "start_time": "2022-05-21T16:50:38.412Z"
   },
   {
    "duration": 26,
    "start_time": "2022-05-21T16:50:38.441Z"
   },
   {
    "duration": 5,
    "start_time": "2022-05-21T16:51:22.094Z"
   },
   {
    "duration": 403,
    "start_time": "2022-05-21T16:51:29.623Z"
   },
   {
    "duration": 70,
    "start_time": "2022-05-21T16:51:30.028Z"
   },
   {
    "duration": 14,
    "start_time": "2022-05-21T16:51:30.099Z"
   },
   {
    "duration": 8,
    "start_time": "2022-05-21T16:51:30.115Z"
   },
   {
    "duration": 15,
    "start_time": "2022-05-21T16:51:30.124Z"
   },
   {
    "duration": 17,
    "start_time": "2022-05-21T16:51:30.141Z"
   },
   {
    "duration": 34,
    "start_time": "2022-05-21T16:51:30.160Z"
   },
   {
    "duration": 10,
    "start_time": "2022-05-21T16:51:30.196Z"
   },
   {
    "duration": 28,
    "start_time": "2022-05-21T16:51:30.207Z"
   },
   {
    "duration": 16,
    "start_time": "2022-05-21T16:51:30.237Z"
   },
   {
    "duration": 25,
    "start_time": "2022-05-21T16:51:30.254Z"
   },
   {
    "duration": 25,
    "start_time": "2022-05-21T16:51:30.281Z"
   },
   {
    "duration": 5,
    "start_time": "2022-05-21T17:02:46.353Z"
   },
   {
    "duration": 5,
    "start_time": "2022-05-21T17:03:29.986Z"
   },
   {
    "duration": 34,
    "start_time": "2022-05-21T17:03:48.620Z"
   },
   {
    "duration": 6,
    "start_time": "2022-05-21T17:03:55.053Z"
   },
   {
    "duration": 3,
    "start_time": "2022-05-21T17:05:00.976Z"
   },
   {
    "duration": 25,
    "start_time": "2022-05-21T17:05:07.789Z"
   },
   {
    "duration": 22,
    "start_time": "2022-05-29T13:06:53.461Z"
   },
   {
    "duration": 13,
    "start_time": "2022-05-29T13:07:32.501Z"
   },
   {
    "duration": 52,
    "start_time": "2022-05-29T13:07:43.415Z"
   },
   {
    "duration": 38,
    "start_time": "2022-05-29T13:08:12.380Z"
   },
   {
    "duration": 914,
    "start_time": "2022-05-29T13:08:23.176Z"
   },
   {
    "duration": 2419,
    "start_time": "2022-05-29T13:08:52.113Z"
   },
   {
    "duration": 434,
    "start_time": "2022-05-29T13:08:54.535Z"
   },
   {
    "duration": 22,
    "start_time": "2022-05-29T13:08:54.972Z"
   },
   {
    "duration": 18,
    "start_time": "2022-05-29T13:08:54.997Z"
   },
   {
    "duration": 7,
    "start_time": "2022-05-29T13:08:55.017Z"
   },
   {
    "duration": 261,
    "start_time": "2022-05-29T13:08:55.025Z"
   },
   {
    "duration": 0,
    "start_time": "2022-05-29T13:08:55.294Z"
   },
   {
    "duration": 0,
    "start_time": "2022-05-29T13:08:55.296Z"
   },
   {
    "duration": 0,
    "start_time": "2022-05-29T13:08:55.297Z"
   },
   {
    "duration": 0,
    "start_time": "2022-05-29T13:08:55.298Z"
   },
   {
    "duration": 0,
    "start_time": "2022-05-29T13:08:55.303Z"
   },
   {
    "duration": 0,
    "start_time": "2022-05-29T13:08:55.305Z"
   },
   {
    "duration": 0,
    "start_time": "2022-05-29T13:08:55.306Z"
   },
   {
    "duration": 0,
    "start_time": "2022-05-29T13:08:55.317Z"
   },
   {
    "duration": 0,
    "start_time": "2022-05-29T13:08:55.318Z"
   },
   {
    "duration": 0,
    "start_time": "2022-05-29T13:08:55.319Z"
   },
   {
    "duration": 0,
    "start_time": "2022-05-29T13:08:55.320Z"
   },
   {
    "duration": 25,
    "start_time": "2022-05-29T13:42:52.189Z"
   },
   {
    "duration": 430,
    "start_time": "2022-05-29T13:43:03.050Z"
   },
   {
    "duration": 77,
    "start_time": "2022-05-29T13:43:03.482Z"
   },
   {
    "duration": 15,
    "start_time": "2022-05-29T13:43:03.563Z"
   },
   {
    "duration": 11,
    "start_time": "2022-05-29T13:43:03.580Z"
   },
   {
    "duration": 5,
    "start_time": "2022-05-29T13:43:03.593Z"
   },
   {
    "duration": 62,
    "start_time": "2022-05-29T13:43:03.600Z"
   },
   {
    "duration": 5,
    "start_time": "2022-05-29T13:43:03.664Z"
   },
   {
    "duration": 11,
    "start_time": "2022-05-29T13:43:03.671Z"
   },
   {
    "duration": 11,
    "start_time": "2022-05-29T13:43:03.683Z"
   },
   {
    "duration": 34,
    "start_time": "2022-05-29T13:43:03.696Z"
   },
   {
    "duration": 11,
    "start_time": "2022-05-29T13:43:03.741Z"
   },
   {
    "duration": 32,
    "start_time": "2022-05-29T13:43:03.760Z"
   },
   {
    "duration": 3,
    "start_time": "2022-05-29T13:43:03.794Z"
   },
   {
    "duration": 14,
    "start_time": "2022-05-29T13:43:03.800Z"
   },
   {
    "duration": 10,
    "start_time": "2022-05-29T13:43:03.815Z"
   },
   {
    "duration": 31,
    "start_time": "2022-05-29T13:43:03.847Z"
   },
   {
    "duration": 41,
    "start_time": "2022-05-29T13:43:03.880Z"
   },
   {
    "duration": 30,
    "start_time": "2022-05-29T13:44:24.425Z"
   },
   {
    "duration": 24,
    "start_time": "2022-05-29T13:44:51.442Z"
   },
   {
    "duration": 26,
    "start_time": "2022-05-29T13:45:09.958Z"
   },
   {
    "duration": 12,
    "start_time": "2022-05-29T13:45:31.967Z"
   },
   {
    "duration": 25,
    "start_time": "2022-05-29T13:45:41.775Z"
   },
   {
    "duration": 24,
    "start_time": "2022-05-29T13:50:00.113Z"
   },
   {
    "duration": 4,
    "start_time": "2022-05-29T13:58:29.106Z"
   },
   {
    "duration": 24,
    "start_time": "2022-05-29T13:59:07.580Z"
   },
   {
    "duration": 22,
    "start_time": "2022-05-29T13:59:20.996Z"
   },
   {
    "duration": 26,
    "start_time": "2022-05-29T14:00:01.418Z"
   },
   {
    "duration": 29,
    "start_time": "2022-05-29T14:02:04.908Z"
   },
   {
    "duration": 34,
    "start_time": "2022-05-29T14:03:22.358Z"
   },
   {
    "duration": 439,
    "start_time": "2022-05-30T10:30:46.827Z"
   },
   {
    "duration": 294,
    "start_time": "2022-05-30T10:30:47.268Z"
   },
   {
    "duration": 12,
    "start_time": "2022-05-30T10:30:47.564Z"
   },
   {
    "duration": 29,
    "start_time": "2022-05-30T10:30:47.578Z"
   },
   {
    "duration": 11,
    "start_time": "2022-05-30T10:30:47.609Z"
   },
   {
    "duration": 45,
    "start_time": "2022-05-30T10:30:47.621Z"
   },
   {
    "duration": 27,
    "start_time": "2022-05-30T10:30:47.667Z"
   },
   {
    "duration": 22,
    "start_time": "2022-05-30T10:30:47.696Z"
   },
   {
    "duration": 39,
    "start_time": "2022-05-30T10:30:47.721Z"
   },
   {
    "duration": 29,
    "start_time": "2022-05-30T10:30:47.763Z"
   },
   {
    "duration": 31,
    "start_time": "2022-05-30T10:30:47.793Z"
   },
   {
    "duration": 6,
    "start_time": "2022-05-30T10:30:47.826Z"
   },
   {
    "duration": 57,
    "start_time": "2022-05-30T10:30:47.834Z"
   },
   {
    "duration": 2,
    "start_time": "2022-05-30T10:30:47.893Z"
   },
   {
    "duration": 6,
    "start_time": "2022-05-30T10:31:15.497Z"
   },
   {
    "duration": 7,
    "start_time": "2022-05-30T10:31:21.600Z"
   },
   {
    "duration": 5,
    "start_time": "2022-05-30T10:31:27.536Z"
   },
   {
    "duration": 364,
    "start_time": "2022-05-30T10:35:19.203Z"
   },
   {
    "duration": 72,
    "start_time": "2022-05-30T10:35:19.569Z"
   },
   {
    "duration": 14,
    "start_time": "2022-05-30T10:35:19.642Z"
   },
   {
    "duration": 16,
    "start_time": "2022-05-30T10:35:19.658Z"
   },
   {
    "duration": 7,
    "start_time": "2022-05-30T10:35:19.675Z"
   },
   {
    "duration": 28,
    "start_time": "2022-05-30T10:35:19.683Z"
   },
   {
    "duration": 5,
    "start_time": "2022-05-30T10:35:19.713Z"
   },
   {
    "duration": 7,
    "start_time": "2022-05-30T10:35:19.719Z"
   },
   {
    "duration": 8,
    "start_time": "2022-05-30T10:35:19.728Z"
   },
   {
    "duration": 716,
    "start_time": "2022-05-30T10:37:04.126Z"
   },
   {
    "duration": 4,
    "start_time": "2022-05-30T10:37:11.940Z"
   },
   {
    "duration": 5,
    "start_time": "2022-05-30T10:37:39.515Z"
   },
   {
    "duration": 21,
    "start_time": "2022-05-30T10:38:27.059Z"
   },
   {
    "duration": 13,
    "start_time": "2022-05-30T10:39:04.761Z"
   },
   {
    "duration": 18,
    "start_time": "2022-05-30T10:39:14.766Z"
   },
   {
    "duration": 12,
    "start_time": "2022-05-30T10:39:30.233Z"
   },
   {
    "duration": 346,
    "start_time": "2022-05-30T10:39:44.916Z"
   },
   {
    "duration": 70,
    "start_time": "2022-05-30T10:39:45.263Z"
   },
   {
    "duration": 12,
    "start_time": "2022-05-30T10:39:45.334Z"
   },
   {
    "duration": 15,
    "start_time": "2022-05-30T10:39:45.348Z"
   },
   {
    "duration": 4,
    "start_time": "2022-05-30T10:39:45.364Z"
   },
   {
    "duration": 24,
    "start_time": "2022-05-30T10:39:45.369Z"
   },
   {
    "duration": 4,
    "start_time": "2022-05-30T10:39:45.394Z"
   },
   {
    "duration": 7,
    "start_time": "2022-05-30T10:39:45.400Z"
   },
   {
    "duration": 6,
    "start_time": "2022-05-30T10:39:45.408Z"
   },
   {
    "duration": 4,
    "start_time": "2022-05-30T10:39:45.416Z"
   },
   {
    "duration": 6,
    "start_time": "2022-05-30T10:39:45.421Z"
   },
   {
    "duration": 47,
    "start_time": "2022-05-30T10:39:45.429Z"
   },
   {
    "duration": 65,
    "start_time": "2022-05-30T10:53:34.478Z"
   },
   {
    "duration": 4,
    "start_time": "2022-05-30T10:53:37.718Z"
   },
   {
    "duration": 427,
    "start_time": "2022-05-30T10:53:42.267Z"
   },
   {
    "duration": 70,
    "start_time": "2022-05-30T10:53:42.696Z"
   },
   {
    "duration": 14,
    "start_time": "2022-05-30T10:53:42.767Z"
   },
   {
    "duration": 7,
    "start_time": "2022-05-30T10:53:42.783Z"
   },
   {
    "duration": 6,
    "start_time": "2022-05-30T10:53:42.792Z"
   },
   {
    "duration": 24,
    "start_time": "2022-05-30T10:53:42.800Z"
   },
   {
    "duration": 4,
    "start_time": "2022-05-30T10:53:42.825Z"
   },
   {
    "duration": 6,
    "start_time": "2022-05-30T10:53:42.831Z"
   },
   {
    "duration": 4,
    "start_time": "2022-05-30T10:53:42.859Z"
   },
   {
    "duration": 6,
    "start_time": "2022-05-30T10:53:42.865Z"
   },
   {
    "duration": 7,
    "start_time": "2022-05-30T10:53:42.872Z"
   },
   {
    "duration": 21,
    "start_time": "2022-05-30T10:53:42.881Z"
   },
   {
    "duration": 4,
    "start_time": "2022-05-30T10:53:42.904Z"
   },
   {
    "duration": 6,
    "start_time": "2022-05-30T10:57:14.414Z"
   },
   {
    "duration": 4,
    "start_time": "2022-05-30T10:57:35.101Z"
   },
   {
    "duration": 64,
    "start_time": "2022-05-30T10:58:19.145Z"
   },
   {
    "duration": 3,
    "start_time": "2022-05-30T10:58:35.467Z"
   },
   {
    "duration": 6,
    "start_time": "2022-05-30T10:58:39.253Z"
   },
   {
    "duration": 21,
    "start_time": "2022-05-30T10:58:45.781Z"
   },
   {
    "duration": 8,
    "start_time": "2022-05-30T10:59:01.426Z"
   },
   {
    "duration": 404,
    "start_time": "2022-05-30T10:59:37.967Z"
   },
   {
    "duration": 75,
    "start_time": "2022-05-30T10:59:38.374Z"
   },
   {
    "duration": 16,
    "start_time": "2022-05-30T10:59:38.451Z"
   },
   {
    "duration": 31,
    "start_time": "2022-05-30T10:59:38.469Z"
   },
   {
    "duration": 19,
    "start_time": "2022-05-30T10:59:38.502Z"
   },
   {
    "duration": 26,
    "start_time": "2022-05-30T10:59:38.522Z"
   },
   {
    "duration": 29,
    "start_time": "2022-05-30T10:59:38.549Z"
   },
   {
    "duration": 25,
    "start_time": "2022-05-30T10:59:38.580Z"
   },
   {
    "duration": 28,
    "start_time": "2022-05-30T10:59:38.607Z"
   },
   {
    "duration": 23,
    "start_time": "2022-05-30T10:59:38.637Z"
   },
   {
    "duration": 15,
    "start_time": "2022-05-30T10:59:38.661Z"
   },
   {
    "duration": 49,
    "start_time": "2022-05-30T10:59:38.677Z"
   },
   {
    "duration": 4,
    "start_time": "2022-05-30T10:59:38.727Z"
   },
   {
    "duration": 21,
    "start_time": "2022-05-30T10:59:38.733Z"
   },
   {
    "duration": 22,
    "start_time": "2022-05-30T10:59:38.756Z"
   },
   {
    "duration": 25,
    "start_time": "2022-05-30T10:59:38.780Z"
   },
   {
    "duration": 33,
    "start_time": "2022-05-30T10:59:38.807Z"
   },
   {
    "duration": 21,
    "start_time": "2022-05-30T10:59:38.842Z"
   },
   {
    "duration": 4,
    "start_time": "2022-05-30T11:00:03.932Z"
   },
   {
    "duration": 392,
    "start_time": "2022-05-30T11:00:22.912Z"
   },
   {
    "duration": 78,
    "start_time": "2022-05-30T11:00:23.306Z"
   },
   {
    "duration": 14,
    "start_time": "2022-05-30T11:00:23.386Z"
   },
   {
    "duration": 11,
    "start_time": "2022-05-30T11:00:23.402Z"
   },
   {
    "duration": 7,
    "start_time": "2022-05-30T11:00:23.414Z"
   },
   {
    "duration": 10,
    "start_time": "2022-05-30T11:00:23.422Z"
   },
   {
    "duration": 7,
    "start_time": "2022-05-30T11:00:23.433Z"
   },
   {
    "duration": 19,
    "start_time": "2022-05-30T11:00:23.441Z"
   },
   {
    "duration": 4,
    "start_time": "2022-05-30T11:00:23.462Z"
   },
   {
    "duration": 16,
    "start_time": "2022-05-30T11:00:23.469Z"
   },
   {
    "duration": 9,
    "start_time": "2022-05-30T11:00:23.486Z"
   },
   {
    "duration": 28,
    "start_time": "2022-05-30T11:00:23.496Z"
   },
   {
    "duration": 5,
    "start_time": "2022-05-30T11:00:23.525Z"
   },
   {
    "duration": 28,
    "start_time": "2022-05-30T11:00:23.531Z"
   },
   {
    "duration": 2,
    "start_time": "2022-05-30T11:00:23.561Z"
   },
   {
    "duration": 15,
    "start_time": "2022-05-30T11:00:23.565Z"
   },
   {
    "duration": 16,
    "start_time": "2022-05-30T11:00:23.582Z"
   },
   {
    "duration": 9,
    "start_time": "2022-05-30T11:00:23.600Z"
   },
   {
    "duration": 6,
    "start_time": "2022-05-30T11:00:23.610Z"
   },
   {
    "duration": 432,
    "start_time": "2022-05-30T11:01:20.947Z"
   },
   {
    "duration": 73,
    "start_time": "2022-05-30T11:01:21.381Z"
   },
   {
    "duration": 13,
    "start_time": "2022-05-30T11:01:21.455Z"
   },
   {
    "duration": 9,
    "start_time": "2022-05-30T11:01:21.470Z"
   },
   {
    "duration": 5,
    "start_time": "2022-05-30T11:01:21.480Z"
   },
   {
    "duration": 13,
    "start_time": "2022-05-30T11:01:21.487Z"
   },
   {
    "duration": 5,
    "start_time": "2022-05-30T11:01:21.501Z"
   },
   {
    "duration": 9,
    "start_time": "2022-05-30T11:01:21.508Z"
   },
   {
    "duration": 10,
    "start_time": "2022-05-30T11:01:21.518Z"
   },
   {
    "duration": 4,
    "start_time": "2022-05-30T11:01:21.530Z"
   },
   {
    "duration": 6,
    "start_time": "2022-05-30T11:01:21.535Z"
   },
   {
    "duration": 21,
    "start_time": "2022-05-30T11:01:21.559Z"
   },
   {
    "duration": 4,
    "start_time": "2022-05-30T11:01:21.582Z"
   },
   {
    "duration": 13,
    "start_time": "2022-05-30T11:01:21.588Z"
   },
   {
    "duration": 8,
    "start_time": "2022-05-30T11:01:21.603Z"
   },
   {
    "duration": 11,
    "start_time": "2022-05-30T11:01:21.613Z"
   },
   {
    "duration": 16,
    "start_time": "2022-05-30T11:01:21.625Z"
   },
   {
    "duration": 12,
    "start_time": "2022-05-30T11:01:21.659Z"
   },
   {
    "duration": 37,
    "start_time": "2022-05-30T11:01:21.672Z"
   },
   {
    "duration": 6,
    "start_time": "2022-05-30T11:02:15.217Z"
   },
   {
    "duration": 425,
    "start_time": "2022-05-30T11:02:19.664Z"
   },
   {
    "duration": 78,
    "start_time": "2022-05-30T11:02:20.091Z"
   },
   {
    "duration": 14,
    "start_time": "2022-05-30T11:02:20.171Z"
   },
   {
    "duration": 11,
    "start_time": "2022-05-30T11:02:20.188Z"
   },
   {
    "duration": 17,
    "start_time": "2022-05-30T11:02:20.201Z"
   },
   {
    "duration": 27,
    "start_time": "2022-05-30T11:02:20.219Z"
   },
   {
    "duration": 16,
    "start_time": "2022-05-30T11:02:20.247Z"
   },
   {
    "duration": 32,
    "start_time": "2022-05-30T11:02:20.264Z"
   },
   {
    "duration": 32,
    "start_time": "2022-05-30T11:02:20.298Z"
   },
   {
    "duration": 31,
    "start_time": "2022-05-30T11:02:20.333Z"
   },
   {
    "duration": 22,
    "start_time": "2022-05-30T11:02:20.365Z"
   },
   {
    "duration": 33,
    "start_time": "2022-05-30T11:02:20.388Z"
   },
   {
    "duration": 20,
    "start_time": "2022-05-30T11:02:20.423Z"
   },
   {
    "duration": 12,
    "start_time": "2022-05-30T11:02:20.444Z"
   },
   {
    "duration": 24,
    "start_time": "2022-05-30T11:02:20.458Z"
   },
   {
    "duration": 29,
    "start_time": "2022-05-30T11:02:20.484Z"
   },
   {
    "duration": 18,
    "start_time": "2022-05-30T11:02:20.514Z"
   },
   {
    "duration": 19,
    "start_time": "2022-05-30T11:02:20.534Z"
   },
   {
    "duration": 16,
    "start_time": "2022-05-30T11:02:20.555Z"
   },
   {
    "duration": 440,
    "start_time": "2022-05-30T11:02:36.267Z"
   },
   {
    "duration": 71,
    "start_time": "2022-05-30T11:02:36.709Z"
   },
   {
    "duration": 15,
    "start_time": "2022-05-30T11:02:36.781Z"
   },
   {
    "duration": 9,
    "start_time": "2022-05-30T11:02:36.798Z"
   },
   {
    "duration": 5,
    "start_time": "2022-05-30T11:02:36.808Z"
   },
   {
    "duration": 12,
    "start_time": "2022-05-30T11:02:36.814Z"
   },
   {
    "duration": 5,
    "start_time": "2022-05-30T11:02:36.828Z"
   },
   {
    "duration": 33,
    "start_time": "2022-05-30T11:02:36.834Z"
   },
   {
    "duration": 8,
    "start_time": "2022-05-30T11:02:36.868Z"
   },
   {
    "duration": 4,
    "start_time": "2022-05-30T11:02:36.878Z"
   },
   {
    "duration": 7,
    "start_time": "2022-05-30T11:02:36.884Z"
   },
   {
    "duration": 21,
    "start_time": "2022-05-30T11:02:36.892Z"
   },
   {
    "duration": 4,
    "start_time": "2022-05-30T11:02:36.915Z"
   },
   {
    "duration": 8,
    "start_time": "2022-05-30T11:02:36.920Z"
   },
   {
    "duration": 35,
    "start_time": "2022-05-30T11:02:36.929Z"
   },
   {
    "duration": 9,
    "start_time": "2022-05-30T11:02:36.966Z"
   },
   {
    "duration": 15,
    "start_time": "2022-05-30T11:02:36.977Z"
   },
   {
    "duration": 8,
    "start_time": "2022-05-30T11:02:36.994Z"
   },
   {
    "duration": 5,
    "start_time": "2022-05-30T11:02:37.004Z"
   },
   {
    "duration": 457,
    "start_time": "2022-06-01T12:40:26.535Z"
   },
   {
    "duration": 135,
    "start_time": "2022-06-01T12:40:26.994Z"
   },
   {
    "duration": 17,
    "start_time": "2022-06-01T12:40:27.131Z"
   },
   {
    "duration": 13,
    "start_time": "2022-06-01T12:40:27.151Z"
   },
   {
    "duration": 10,
    "start_time": "2022-06-01T12:40:27.166Z"
   },
   {
    "duration": 20,
    "start_time": "2022-06-01T12:40:27.177Z"
   },
   {
    "duration": 7,
    "start_time": "2022-06-01T12:40:27.198Z"
   },
   {
    "duration": 8,
    "start_time": "2022-06-01T12:40:27.206Z"
   },
   {
    "duration": 7,
    "start_time": "2022-06-01T12:40:27.215Z"
   },
   {
    "duration": 19,
    "start_time": "2022-06-01T12:40:27.225Z"
   },
   {
    "duration": 20,
    "start_time": "2022-06-01T12:40:27.246Z"
   },
   {
    "duration": 20,
    "start_time": "2022-06-01T12:40:27.268Z"
   },
   {
    "duration": 4,
    "start_time": "2022-06-01T12:40:27.289Z"
   },
   {
    "duration": 9,
    "start_time": "2022-06-01T12:40:27.295Z"
   },
   {
    "duration": 20,
    "start_time": "2022-06-01T12:40:27.306Z"
   },
   {
    "duration": 18,
    "start_time": "2022-06-01T12:40:27.328Z"
   },
   {
    "duration": 19,
    "start_time": "2022-06-01T12:40:27.348Z"
   },
   {
    "duration": 9,
    "start_time": "2022-06-01T12:40:27.369Z"
   },
   {
    "duration": 8,
    "start_time": "2022-06-01T12:40:27.380Z"
   },
   {
    "duration": 23,
    "start_time": "2022-06-01T12:51:31.569Z"
   },
   {
    "duration": 5,
    "start_time": "2022-06-01T12:54:43.971Z"
   },
   {
    "duration": 34,
    "start_time": "2022-06-01T12:54:50.331Z"
   },
   {
    "duration": 6,
    "start_time": "2022-06-01T12:55:52.988Z"
   },
   {
    "duration": 36,
    "start_time": "2022-06-01T12:55:56.535Z"
   },
   {
    "duration": 91,
    "start_time": "2022-06-01T12:56:07.733Z"
   },
   {
    "duration": 28,
    "start_time": "2022-06-01T12:56:11.832Z"
   },
   {
    "duration": 2,
    "start_time": "2022-06-01T12:58:10.142Z"
   },
   {
    "duration": 470,
    "start_time": "2022-06-01T12:58:15.110Z"
   },
   {
    "duration": 97,
    "start_time": "2022-06-01T12:58:15.583Z"
   },
   {
    "duration": 15,
    "start_time": "2022-06-01T12:58:15.682Z"
   },
   {
    "duration": 31,
    "start_time": "2022-06-01T12:58:15.700Z"
   },
   {
    "duration": 20,
    "start_time": "2022-06-01T12:58:15.734Z"
   },
   {
    "duration": 24,
    "start_time": "2022-06-01T12:58:15.756Z"
   },
   {
    "duration": 43,
    "start_time": "2022-06-01T12:58:15.782Z"
   },
   {
    "duration": 27,
    "start_time": "2022-06-01T12:58:15.827Z"
   },
   {
    "duration": 29,
    "start_time": "2022-06-01T12:58:15.856Z"
   },
   {
    "duration": 24,
    "start_time": "2022-06-01T12:58:15.889Z"
   },
   {
    "duration": 27,
    "start_time": "2022-06-01T12:58:15.915Z"
   },
   {
    "duration": 52,
    "start_time": "2022-06-01T12:58:15.944Z"
   },
   {
    "duration": 22,
    "start_time": "2022-06-01T12:58:15.998Z"
   },
   {
    "duration": 53,
    "start_time": "2022-06-01T12:58:16.023Z"
   },
   {
    "duration": 35,
    "start_time": "2022-06-01T12:58:16.079Z"
   },
   {
    "duration": 42,
    "start_time": "2022-06-01T12:58:16.116Z"
   },
   {
    "duration": 46,
    "start_time": "2022-06-01T12:58:16.159Z"
   },
   {
    "duration": 71,
    "start_time": "2022-06-01T12:58:16.207Z"
   },
   {
    "duration": 44,
    "start_time": "2022-06-01T12:58:16.280Z"
   },
   {
    "duration": 6,
    "start_time": "2022-06-01T12:58:16.326Z"
   },
   {
    "duration": 541,
    "start_time": "2022-06-07T17:31:10.815Z"
   },
   {
    "duration": 129,
    "start_time": "2022-06-07T17:31:11.360Z"
   },
   {
    "duration": 16,
    "start_time": "2022-06-07T17:31:11.491Z"
   },
   {
    "duration": 21,
    "start_time": "2022-06-07T17:31:11.509Z"
   },
   {
    "duration": 7,
    "start_time": "2022-06-07T17:31:11.532Z"
   },
   {
    "duration": 14,
    "start_time": "2022-06-07T17:31:11.541Z"
   },
   {
    "duration": 7,
    "start_time": "2022-06-07T17:31:11.557Z"
   },
   {
    "duration": 29,
    "start_time": "2022-06-07T17:31:11.566Z"
   },
   {
    "duration": 6,
    "start_time": "2022-06-07T17:31:11.597Z"
   },
   {
    "duration": 7,
    "start_time": "2022-06-07T17:31:11.607Z"
   },
   {
    "duration": 11,
    "start_time": "2022-06-07T17:31:11.616Z"
   },
   {
    "duration": 28,
    "start_time": "2022-06-07T17:31:11.629Z"
   },
   {
    "duration": 6,
    "start_time": "2022-06-07T17:31:11.659Z"
   },
   {
    "duration": 35,
    "start_time": "2022-06-07T17:31:11.667Z"
   },
   {
    "duration": 15,
    "start_time": "2022-06-07T17:31:11.704Z"
   },
   {
    "duration": 19,
    "start_time": "2022-06-07T17:31:11.721Z"
   },
   {
    "duration": 22,
    "start_time": "2022-06-07T17:31:11.743Z"
   },
   {
    "duration": 29,
    "start_time": "2022-06-07T17:31:11.767Z"
   },
   {
    "duration": 36,
    "start_time": "2022-06-07T17:31:11.798Z"
   },
   {
    "duration": 3,
    "start_time": "2022-06-07T17:31:11.836Z"
   },
   {
    "duration": 21,
    "start_time": "2022-06-07T17:38:23.801Z"
   },
   {
    "duration": 26,
    "start_time": "2022-06-07T17:38:27.857Z"
   },
   {
    "duration": 14,
    "start_time": "2022-06-07T17:38:48.680Z"
   },
   {
    "duration": 76,
    "start_time": "2022-06-07T17:42:37.246Z"
   },
   {
    "duration": 15,
    "start_time": "2022-06-07T17:42:41.415Z"
   },
   {
    "duration": 314,
    "start_time": "2022-06-07T17:43:37.668Z"
   },
   {
    "duration": 429,
    "start_time": "2022-06-07T17:43:55.704Z"
   },
   {
    "duration": 77,
    "start_time": "2022-06-07T17:43:56.135Z"
   },
   {
    "duration": 17,
    "start_time": "2022-06-07T17:43:56.214Z"
   },
   {
    "duration": 10,
    "start_time": "2022-06-07T17:43:56.233Z"
   },
   {
    "duration": 7,
    "start_time": "2022-06-07T17:43:56.244Z"
   },
   {
    "duration": 17,
    "start_time": "2022-06-07T17:43:56.252Z"
   },
   {
    "duration": 26,
    "start_time": "2022-06-07T17:43:56.270Z"
   },
   {
    "duration": 12,
    "start_time": "2022-06-07T17:43:56.298Z"
   },
   {
    "duration": 9,
    "start_time": "2022-06-07T17:43:56.312Z"
   },
   {
    "duration": 6,
    "start_time": "2022-06-07T17:43:56.324Z"
   },
   {
    "duration": 7,
    "start_time": "2022-06-07T17:43:56.331Z"
   },
   {
    "duration": 21,
    "start_time": "2022-06-07T17:43:56.339Z"
   },
   {
    "duration": 4,
    "start_time": "2022-06-07T17:43:56.362Z"
   },
   {
    "duration": 30,
    "start_time": "2022-06-07T17:43:56.367Z"
   },
   {
    "duration": 6,
    "start_time": "2022-06-07T17:43:56.399Z"
   },
   {
    "duration": 9,
    "start_time": "2022-06-07T17:43:56.406Z"
   },
   {
    "duration": 15,
    "start_time": "2022-06-07T17:43:56.417Z"
   },
   {
    "duration": 9,
    "start_time": "2022-06-07T17:43:56.434Z"
   },
   {
    "duration": 53,
    "start_time": "2022-06-07T17:43:56.444Z"
   },
   {
    "duration": 2,
    "start_time": "2022-06-07T17:43:56.499Z"
   },
   {
    "duration": 16,
    "start_time": "2022-06-07T17:43:56.503Z"
   },
   {
    "duration": 102,
    "start_time": "2022-06-07T17:43:56.521Z"
   },
   {
    "duration": 609,
    "start_time": "2022-06-07T17:44:03.065Z"
   },
   {
    "duration": 185,
    "start_time": "2022-06-07T17:51:02.821Z"
   },
   {
    "duration": 162,
    "start_time": "2022-06-07T17:51:09.616Z"
   },
   {
    "duration": 324,
    "start_time": "2022-06-07T17:58:11.022Z"
   },
   {
    "duration": 11,
    "start_time": "2022-06-07T17:58:28.746Z"
   },
   {
    "duration": 361,
    "start_time": "2022-06-07T17:58:35.424Z"
   },
   {
    "duration": 204,
    "start_time": "2022-06-07T17:59:03.763Z"
   },
   {
    "duration": 10,
    "start_time": "2022-06-07T18:10:33.729Z"
   },
   {
    "duration": 170,
    "start_time": "2022-06-07T18:10:37.413Z"
   },
   {
    "duration": 14,
    "start_time": "2022-06-07T18:10:53.156Z"
   },
   {
    "duration": 169,
    "start_time": "2022-06-07T18:11:20.655Z"
   },
   {
    "duration": 322,
    "start_time": "2022-06-07T18:11:34.663Z"
   },
   {
    "duration": 198,
    "start_time": "2022-06-07T18:11:58.027Z"
   },
   {
    "duration": 19,
    "start_time": "2022-06-07T18:13:38.575Z"
   },
   {
    "duration": 67,
    "start_time": "2022-06-07T18:13:48.748Z"
   },
   {
    "duration": 3230,
    "start_time": "2022-06-07T18:13:59.039Z"
   },
   {
    "duration": 14,
    "start_time": "2022-06-07T18:14:11.894Z"
   },
   {
    "duration": 357,
    "start_time": "2022-06-28T14:40:43.686Z"
   },
   {
    "duration": 201,
    "start_time": "2022-06-28T14:40:44.045Z"
   },
   {
    "duration": 12,
    "start_time": "2022-06-28T14:40:44.247Z"
   },
   {
    "duration": 8,
    "start_time": "2022-06-28T14:40:44.261Z"
   },
   {
    "duration": 6,
    "start_time": "2022-06-28T14:40:44.271Z"
   },
   {
    "duration": 10,
    "start_time": "2022-06-28T14:40:44.279Z"
   },
   {
    "duration": 5,
    "start_time": "2022-06-28T14:40:44.291Z"
   },
   {
    "duration": 10,
    "start_time": "2022-06-28T14:40:44.297Z"
   },
   {
    "duration": 6,
    "start_time": "2022-06-28T14:40:44.309Z"
   },
   {
    "duration": 5,
    "start_time": "2022-06-28T14:40:44.341Z"
   },
   {
    "duration": 8,
    "start_time": "2022-06-28T14:40:44.347Z"
   },
   {
    "duration": 21,
    "start_time": "2022-06-28T14:40:44.356Z"
   },
   {
    "duration": 4,
    "start_time": "2022-06-28T14:40:44.379Z"
   },
   {
    "duration": 8,
    "start_time": "2022-06-28T14:40:44.384Z"
   },
   {
    "duration": 9,
    "start_time": "2022-06-28T14:40:44.394Z"
   },
   {
    "duration": 9,
    "start_time": "2022-06-28T14:40:44.404Z"
   },
   {
    "duration": 37,
    "start_time": "2022-06-28T14:40:44.414Z"
   },
   {
    "duration": 9,
    "start_time": "2022-06-28T14:40:44.452Z"
   },
   {
    "duration": 28,
    "start_time": "2022-06-28T14:40:44.463Z"
   },
   {
    "duration": 2,
    "start_time": "2022-06-28T14:40:44.493Z"
   },
   {
    "duration": 19,
    "start_time": "2022-06-28T14:40:44.496Z"
   },
   {
    "duration": 548,
    "start_time": "2022-06-28T14:40:44.517Z"
   },
   {
    "duration": 14,
    "start_time": "2022-06-28T14:45:03.958Z"
   },
   {
    "duration": 169,
    "start_time": "2022-06-28T14:45:07.036Z"
   },
   {
    "duration": 17,
    "start_time": "2022-06-28T14:46:24.389Z"
   },
   {
    "duration": 81,
    "start_time": "2022-06-28T14:46:58.856Z"
   },
   {
    "duration": 515,
    "start_time": "2022-06-28T14:47:33.658Z"
   },
   {
    "duration": 39,
    "start_time": "2022-06-28T14:47:37.915Z"
   },
   {
    "duration": 382,
    "start_time": "2022-06-28T14:49:31.088Z"
   },
   {
    "duration": 369,
    "start_time": "2022-06-28T14:51:30.458Z"
   },
   {
    "duration": 5,
    "start_time": "2022-06-28T14:53:13.041Z"
   },
   {
    "duration": 467,
    "start_time": "2022-06-28T14:53:18.391Z"
   },
   {
    "duration": 432,
    "start_time": "2022-06-28T14:53:32.261Z"
   },
   {
    "duration": 453,
    "start_time": "2022-06-28T14:53:37.349Z"
   },
   {
    "duration": 437,
    "start_time": "2022-06-28T14:54:05.272Z"
   },
   {
    "duration": 422,
    "start_time": "2022-06-28T14:54:27.639Z"
   },
   {
    "duration": 47,
    "start_time": "2022-06-28T14:57:12.426Z"
   },
   {
    "duration": 43,
    "start_time": "2022-06-28T14:57:17.222Z"
   },
   {
    "duration": 15,
    "start_time": "2022-06-28T14:57:34.492Z"
   },
   {
    "duration": 13,
    "start_time": "2022-06-28T14:58:20.021Z"
   },
   {
    "duration": 436,
    "start_time": "2022-06-28T14:58:28.223Z"
   },
   {
    "duration": 14,
    "start_time": "2022-06-28T15:06:02.567Z"
   },
   {
    "duration": 16,
    "start_time": "2022-06-28T15:06:23.154Z"
   },
   {
    "duration": 15,
    "start_time": "2022-06-28T15:06:33.464Z"
   },
   {
    "duration": 17,
    "start_time": "2022-06-28T15:07:01.704Z"
   },
   {
    "duration": 14,
    "start_time": "2022-06-28T15:10:29.991Z"
   },
   {
    "duration": 9,
    "start_time": "2022-06-28T15:10:35.753Z"
   },
   {
    "duration": 8,
    "start_time": "2022-06-28T15:10:56.098Z"
   },
   {
    "duration": 8,
    "start_time": "2022-06-28T15:11:01.476Z"
   },
   {
    "duration": 21,
    "start_time": "2022-06-28T15:13:38.702Z"
   },
   {
    "duration": 16,
    "start_time": "2022-06-28T15:13:46.068Z"
   },
   {
    "duration": 17,
    "start_time": "2022-06-28T15:13:55.454Z"
   },
   {
    "duration": 1510,
    "start_time": "2022-06-28T15:14:03.806Z"
   },
   {
    "duration": 14,
    "start_time": "2022-06-28T15:14:15.343Z"
   },
   {
    "duration": 98,
    "start_time": "2022-06-28T15:14:53.821Z"
   },
   {
    "duration": 27,
    "start_time": "2022-06-28T15:15:00.496Z"
   },
   {
    "duration": 44,
    "start_time": "2022-06-28T15:15:24.238Z"
   },
   {
    "duration": 4,
    "start_time": "2022-06-28T15:20:29.933Z"
   },
   {
    "duration": 25,
    "start_time": "2022-06-28T15:20:39.311Z"
   },
   {
    "duration": 32,
    "start_time": "2022-06-28T15:22:19.569Z"
   },
   {
    "duration": 26,
    "start_time": "2022-06-28T15:23:21.661Z"
   },
   {
    "duration": 23,
    "start_time": "2022-06-28T15:24:24.106Z"
   },
   {
    "duration": 15,
    "start_time": "2022-06-28T15:25:37.941Z"
   },
   {
    "duration": 23,
    "start_time": "2022-06-28T15:28:43.365Z"
   },
   {
    "duration": 16,
    "start_time": "2022-06-28T15:28:47.107Z"
   },
   {
    "duration": 8,
    "start_time": "2022-06-28T15:31:27.111Z"
   },
   {
    "duration": 1514,
    "start_time": "2022-06-28T15:31:42.952Z"
   },
   {
    "duration": 3,
    "start_time": "2022-06-28T15:32:01.965Z"
   },
   {
    "duration": 1691,
    "start_time": "2022-06-28T15:32:09.115Z"
   },
   {
    "duration": 1862,
    "start_time": "2022-06-28T15:32:44.227Z"
   },
   {
    "duration": 13,
    "start_time": "2022-06-28T15:33:29.266Z"
   },
   {
    "duration": 18,
    "start_time": "2022-06-28T15:33:34.342Z"
   },
   {
    "duration": 1588,
    "start_time": "2022-06-28T15:33:37.479Z"
   },
   {
    "duration": 1132,
    "start_time": "2022-06-28T15:33:47.054Z"
   },
   {
    "duration": 73,
    "start_time": "2022-06-28T15:33:48.188Z"
   },
   {
    "duration": 14,
    "start_time": "2022-06-28T15:33:48.262Z"
   },
   {
    "duration": 9,
    "start_time": "2022-06-28T15:33:48.278Z"
   },
   {
    "duration": 5,
    "start_time": "2022-06-28T15:33:48.289Z"
   },
   {
    "duration": 12,
    "start_time": "2022-06-28T15:33:48.296Z"
   },
   {
    "duration": 6,
    "start_time": "2022-06-28T15:33:48.310Z"
   },
   {
    "duration": 5,
    "start_time": "2022-06-28T15:33:48.342Z"
   },
   {
    "duration": 15,
    "start_time": "2022-06-28T15:33:48.350Z"
   },
   {
    "duration": 4,
    "start_time": "2022-06-28T15:33:48.368Z"
   },
   {
    "duration": 5,
    "start_time": "2022-06-28T15:33:48.373Z"
   },
   {
    "duration": 20,
    "start_time": "2022-06-28T15:33:48.379Z"
   },
   {
    "duration": 4,
    "start_time": "2022-06-28T15:33:48.401Z"
   },
   {
    "duration": 6,
    "start_time": "2022-06-28T15:33:48.407Z"
   },
   {
    "duration": 6,
    "start_time": "2022-06-28T15:33:48.415Z"
   },
   {
    "duration": 34,
    "start_time": "2022-06-28T15:33:48.423Z"
   },
   {
    "duration": 13,
    "start_time": "2022-06-28T15:33:48.459Z"
   },
   {
    "duration": 9,
    "start_time": "2022-06-28T15:33:48.474Z"
   },
   {
    "duration": 23,
    "start_time": "2022-06-28T15:33:48.484Z"
   },
   {
    "duration": 2,
    "start_time": "2022-06-28T15:33:48.509Z"
   },
   {
    "duration": 47,
    "start_time": "2022-06-28T15:33:48.513Z"
   },
   {
    "duration": 393,
    "start_time": "2022-06-28T15:33:48.562Z"
   },
   {
    "duration": 16,
    "start_time": "2022-06-28T15:33:48.957Z"
   },
   {
    "duration": 12,
    "start_time": "2022-06-28T15:33:48.975Z"
   },
   {
    "duration": 57,
    "start_time": "2022-06-28T15:33:48.988Z"
   },
   {
    "duration": 23,
    "start_time": "2022-06-28T15:33:49.053Z"
   },
   {
    "duration": 14,
    "start_time": "2022-06-28T15:33:49.077Z"
   },
   {
    "duration": 1662,
    "start_time": "2022-06-28T15:33:49.093Z"
   },
   {
    "duration": 1310,
    "start_time": "2022-07-01T16:26:40.542Z"
   },
   {
    "duration": 92,
    "start_time": "2022-07-01T16:26:41.854Z"
   },
   {
    "duration": 15,
    "start_time": "2022-07-01T16:26:41.948Z"
   },
   {
    "duration": 10,
    "start_time": "2022-07-01T16:26:41.964Z"
   },
   {
    "duration": 12,
    "start_time": "2022-07-01T16:26:41.976Z"
   },
   {
    "duration": 14,
    "start_time": "2022-07-01T16:26:41.990Z"
   },
   {
    "duration": 21,
    "start_time": "2022-07-01T16:26:42.006Z"
   },
   {
    "duration": 8,
    "start_time": "2022-07-01T16:26:42.029Z"
   },
   {
    "duration": 7,
    "start_time": "2022-07-01T16:26:42.038Z"
   },
   {
    "duration": 9,
    "start_time": "2022-07-01T16:26:42.046Z"
   },
   {
    "duration": 26,
    "start_time": "2022-07-01T16:26:42.057Z"
   },
   {
    "duration": 23,
    "start_time": "2022-07-01T16:26:42.085Z"
   },
   {
    "duration": 4,
    "start_time": "2022-07-01T16:26:42.110Z"
   },
   {
    "duration": 7,
    "start_time": "2022-07-01T16:26:42.125Z"
   },
   {
    "duration": 11,
    "start_time": "2022-07-01T16:26:42.133Z"
   },
   {
    "duration": 10,
    "start_time": "2022-07-01T16:26:42.145Z"
   },
   {
    "duration": 14,
    "start_time": "2022-07-01T16:26:42.157Z"
   },
   {
    "duration": 10,
    "start_time": "2022-07-01T16:26:42.173Z"
   },
   {
    "duration": 53,
    "start_time": "2022-07-01T16:26:42.184Z"
   },
   {
    "duration": 2,
    "start_time": "2022-07-01T16:26:42.239Z"
   },
   {
    "duration": 24,
    "start_time": "2022-07-01T16:26:42.243Z"
   },
   {
    "duration": 411,
    "start_time": "2022-07-01T16:26:42.269Z"
   },
   {
    "duration": 18,
    "start_time": "2022-07-01T16:26:42.682Z"
   },
   {
    "duration": 26,
    "start_time": "2022-07-01T16:26:42.702Z"
   },
   {
    "duration": 37,
    "start_time": "2022-07-01T16:26:42.729Z"
   },
   {
    "duration": 25,
    "start_time": "2022-07-01T16:26:42.767Z"
   },
   {
    "duration": 15,
    "start_time": "2022-07-01T16:26:42.793Z"
   },
   {
    "duration": 829,
    "start_time": "2022-07-01T16:26:42.826Z"
   },
   {
    "duration": 117,
    "start_time": "2022-07-01T16:34:01.070Z"
   },
   {
    "duration": 160,
    "start_time": "2022-07-01T16:36:27.994Z"
   },
   {
    "duration": 10,
    "start_time": "2022-07-01T16:38:14.593Z"
   },
   {
    "duration": 7,
    "start_time": "2022-07-01T16:38:16.871Z"
   },
   {
    "duration": 25,
    "start_time": "2022-07-01T16:38:24.416Z"
   },
   {
    "duration": 11,
    "start_time": "2022-07-01T16:38:37.361Z"
   },
   {
    "duration": 10,
    "start_time": "2022-07-01T16:38:47.540Z"
   },
   {
    "duration": 14,
    "start_time": "2022-07-01T16:39:00.185Z"
   },
   {
    "duration": 16,
    "start_time": "2022-07-01T16:39:13.946Z"
   },
   {
    "duration": 1204,
    "start_time": "2022-07-01T16:39:29.433Z"
   },
   {
    "duration": 63,
    "start_time": "2022-07-01T16:39:30.638Z"
   },
   {
    "duration": 15,
    "start_time": "2022-07-01T16:39:30.703Z"
   },
   {
    "duration": 23,
    "start_time": "2022-07-01T16:39:30.721Z"
   },
   {
    "duration": 24,
    "start_time": "2022-07-01T16:39:30.746Z"
   },
   {
    "duration": 19,
    "start_time": "2022-07-01T16:39:30.772Z"
   },
   {
    "duration": 6,
    "start_time": "2022-07-01T16:39:30.793Z"
   },
   {
    "duration": 40,
    "start_time": "2022-07-01T16:39:30.801Z"
   },
   {
    "duration": 10,
    "start_time": "2022-07-01T16:39:30.843Z"
   },
   {
    "duration": 9,
    "start_time": "2022-07-01T16:39:30.856Z"
   },
   {
    "duration": 19,
    "start_time": "2022-07-01T16:39:30.867Z"
   },
   {
    "duration": 29,
    "start_time": "2022-07-01T16:39:30.888Z"
   },
   {
    "duration": 5,
    "start_time": "2022-07-01T16:39:30.918Z"
   },
   {
    "duration": 31,
    "start_time": "2022-07-01T16:39:30.924Z"
   },
   {
    "duration": 16,
    "start_time": "2022-07-01T16:39:30.957Z"
   },
   {
    "duration": 15,
    "start_time": "2022-07-01T16:39:30.974Z"
   },
   {
    "duration": 30,
    "start_time": "2022-07-01T16:39:30.991Z"
   },
   {
    "duration": 28,
    "start_time": "2022-07-01T16:39:31.023Z"
   },
   {
    "duration": 40,
    "start_time": "2022-07-01T16:39:31.052Z"
   },
   {
    "duration": 45,
    "start_time": "2022-07-01T16:39:31.093Z"
   },
   {
    "duration": 42,
    "start_time": "2022-07-01T16:39:31.140Z"
   },
   {
    "duration": 437,
    "start_time": "2022-07-01T16:39:31.183Z"
   },
   {
    "duration": 29,
    "start_time": "2022-07-01T16:39:31.621Z"
   },
   {
    "duration": 18,
    "start_time": "2022-07-01T16:39:31.651Z"
   },
   {
    "duration": 46,
    "start_time": "2022-07-01T16:39:31.670Z"
   },
   {
    "duration": 30,
    "start_time": "2022-07-01T16:39:31.718Z"
   },
   {
    "duration": 16,
    "start_time": "2022-07-01T16:39:31.750Z"
   },
   {
    "duration": 22,
    "start_time": "2022-07-01T16:39:31.770Z"
   },
   {
    "duration": 304,
    "start_time": "2022-07-01T16:39:31.794Z"
   },
   {
    "duration": 9,
    "start_time": "2022-07-01T16:40:55.743Z"
   },
   {
    "duration": 9,
    "start_time": "2022-07-01T16:41:07.638Z"
   },
   {
    "duration": 8,
    "start_time": "2022-07-01T16:41:14.158Z"
   },
   {
    "duration": 9,
    "start_time": "2022-07-01T16:41:22.288Z"
   },
   {
    "duration": 1199,
    "start_time": "2022-07-01T16:41:38.844Z"
   },
   {
    "duration": 64,
    "start_time": "2022-07-01T16:41:40.045Z"
   },
   {
    "duration": 16,
    "start_time": "2022-07-01T16:41:40.110Z"
   },
   {
    "duration": 9,
    "start_time": "2022-07-01T16:41:40.128Z"
   },
   {
    "duration": 6,
    "start_time": "2022-07-01T16:41:40.139Z"
   },
   {
    "duration": 14,
    "start_time": "2022-07-01T16:41:40.146Z"
   },
   {
    "duration": 7,
    "start_time": "2022-07-01T16:41:40.161Z"
   },
   {
    "duration": 8,
    "start_time": "2022-07-01T16:41:40.170Z"
   },
   {
    "duration": 15,
    "start_time": "2022-07-01T16:41:40.179Z"
   },
   {
    "duration": 14,
    "start_time": "2022-07-01T16:41:40.196Z"
   },
   {
    "duration": 23,
    "start_time": "2022-07-01T16:41:40.211Z"
   },
   {
    "duration": 24,
    "start_time": "2022-07-01T16:41:40.235Z"
   },
   {
    "duration": 4,
    "start_time": "2022-07-01T16:41:40.261Z"
   },
   {
    "duration": 15,
    "start_time": "2022-07-01T16:41:40.267Z"
   },
   {
    "duration": 11,
    "start_time": "2022-07-01T16:41:40.284Z"
   },
   {
    "duration": 20,
    "start_time": "2022-07-01T16:41:40.297Z"
   },
   {
    "duration": 20,
    "start_time": "2022-07-01T16:41:40.319Z"
   },
   {
    "duration": 14,
    "start_time": "2022-07-01T16:41:40.341Z"
   },
   {
    "duration": 27,
    "start_time": "2022-07-01T16:41:40.357Z"
   },
   {
    "duration": 2,
    "start_time": "2022-07-01T16:41:40.386Z"
   },
   {
    "duration": 40,
    "start_time": "2022-07-01T16:41:40.390Z"
   },
   {
    "duration": 389,
    "start_time": "2022-07-01T16:41:40.432Z"
   },
   {
    "duration": 18,
    "start_time": "2022-07-01T16:41:40.822Z"
   },
   {
    "duration": 7,
    "start_time": "2022-07-01T16:41:40.841Z"
   },
   {
    "duration": 30,
    "start_time": "2022-07-01T16:41:40.850Z"
   },
   {
    "duration": 45,
    "start_time": "2022-07-01T16:41:40.882Z"
   },
   {
    "duration": 13,
    "start_time": "2022-07-01T16:41:40.929Z"
   },
   {
    "duration": 12,
    "start_time": "2022-07-01T16:41:40.945Z"
   },
   {
    "duration": 291,
    "start_time": "2022-07-01T16:41:40.958Z"
   },
   {
    "duration": 12,
    "start_time": "2022-07-01T16:41:58.494Z"
   },
   {
    "duration": 365,
    "start_time": "2022-07-01T16:42:10.431Z"
   },
   {
    "duration": 9,
    "start_time": "2022-07-01T16:42:24.320Z"
   },
   {
    "duration": 1266,
    "start_time": "2022-07-01T16:42:34.448Z"
   },
   {
    "duration": 60,
    "start_time": "2022-07-01T16:42:35.717Z"
   },
   {
    "duration": 14,
    "start_time": "2022-07-01T16:42:35.779Z"
   },
   {
    "duration": 9,
    "start_time": "2022-07-01T16:42:35.795Z"
   },
   {
    "duration": 4,
    "start_time": "2022-07-01T16:42:35.806Z"
   },
   {
    "duration": 20,
    "start_time": "2022-07-01T16:42:35.812Z"
   },
   {
    "duration": 5,
    "start_time": "2022-07-01T16:42:35.833Z"
   },
   {
    "duration": 23,
    "start_time": "2022-07-01T16:42:35.839Z"
   },
   {
    "duration": 14,
    "start_time": "2022-07-01T16:42:35.863Z"
   },
   {
    "duration": 11,
    "start_time": "2022-07-01T16:42:35.879Z"
   },
   {
    "duration": 8,
    "start_time": "2022-07-01T16:42:35.891Z"
   },
   {
    "duration": 27,
    "start_time": "2022-07-01T16:42:35.901Z"
   },
   {
    "duration": 5,
    "start_time": "2022-07-01T16:42:35.930Z"
   },
   {
    "duration": 10,
    "start_time": "2022-07-01T16:42:35.937Z"
   },
   {
    "duration": 13,
    "start_time": "2022-07-01T16:42:35.948Z"
   },
   {
    "duration": 8,
    "start_time": "2022-07-01T16:42:35.963Z"
   },
   {
    "duration": 12,
    "start_time": "2022-07-01T16:42:35.973Z"
   },
   {
    "duration": 10,
    "start_time": "2022-07-01T16:42:35.986Z"
   },
   {
    "duration": 38,
    "start_time": "2022-07-01T16:42:35.998Z"
   },
   {
    "duration": 2,
    "start_time": "2022-07-01T16:42:36.038Z"
   },
   {
    "duration": 24,
    "start_time": "2022-07-01T16:42:36.041Z"
   },
   {
    "duration": 376,
    "start_time": "2022-07-01T16:42:36.067Z"
   },
   {
    "duration": 16,
    "start_time": "2022-07-01T16:42:36.444Z"
   },
   {
    "duration": 7,
    "start_time": "2022-07-01T16:42:36.461Z"
   },
   {
    "duration": 26,
    "start_time": "2022-07-01T16:42:36.470Z"
   },
   {
    "duration": 43,
    "start_time": "2022-07-01T16:42:36.498Z"
   },
   {
    "duration": 13,
    "start_time": "2022-07-01T16:42:36.543Z"
   },
   {
    "duration": 9,
    "start_time": "2022-07-01T16:42:36.558Z"
   },
   {
    "duration": 236,
    "start_time": "2022-07-01T16:42:36.569Z"
   },
   {
    "duration": 1215,
    "start_time": "2022-07-01T16:43:51.512Z"
   },
   {
    "duration": 62,
    "start_time": "2022-07-01T16:43:52.729Z"
   },
   {
    "duration": 16,
    "start_time": "2022-07-01T16:43:52.793Z"
   },
   {
    "duration": 16,
    "start_time": "2022-07-01T16:43:52.811Z"
   },
   {
    "duration": 4,
    "start_time": "2022-07-01T16:43:52.829Z"
   },
   {
    "duration": 19,
    "start_time": "2022-07-01T16:43:52.835Z"
   },
   {
    "duration": 9,
    "start_time": "2022-07-01T16:43:52.856Z"
   },
   {
    "duration": 11,
    "start_time": "2022-07-01T16:43:52.866Z"
   },
   {
    "duration": 19,
    "start_time": "2022-07-01T16:43:52.878Z"
   },
   {
    "duration": 5,
    "start_time": "2022-07-01T16:43:52.900Z"
   },
   {
    "duration": 4,
    "start_time": "2022-07-01T16:43:52.907Z"
   },
   {
    "duration": 32,
    "start_time": "2022-07-01T16:43:52.913Z"
   },
   {
    "duration": 4,
    "start_time": "2022-07-01T16:43:52.947Z"
   },
   {
    "duration": 15,
    "start_time": "2022-07-01T16:43:52.953Z"
   },
   {
    "duration": 11,
    "start_time": "2022-07-01T16:43:52.969Z"
   },
   {
    "duration": 12,
    "start_time": "2022-07-01T16:43:52.981Z"
   },
   {
    "duration": 32,
    "start_time": "2022-07-01T16:43:52.994Z"
   },
   {
    "duration": 10,
    "start_time": "2022-07-01T16:43:53.028Z"
   },
   {
    "duration": 26,
    "start_time": "2022-07-01T16:43:53.040Z"
   },
   {
    "duration": 2,
    "start_time": "2022-07-01T16:43:53.068Z"
   },
   {
    "duration": 27,
    "start_time": "2022-07-01T16:43:53.072Z"
   },
   {
    "duration": 416,
    "start_time": "2022-07-01T16:43:53.101Z"
   },
   {
    "duration": 18,
    "start_time": "2022-07-01T16:43:53.519Z"
   },
   {
    "duration": 8,
    "start_time": "2022-07-01T16:43:53.539Z"
   },
   {
    "duration": 28,
    "start_time": "2022-07-01T16:43:53.548Z"
   },
   {
    "duration": 49,
    "start_time": "2022-07-01T16:43:53.578Z"
   },
   {
    "duration": 17,
    "start_time": "2022-07-01T16:43:53.629Z"
   },
   {
    "duration": 12,
    "start_time": "2022-07-01T16:43:53.650Z"
   },
   {
    "duration": 254,
    "start_time": "2022-07-01T16:43:53.664Z"
   },
   {
    "duration": 8,
    "start_time": "2022-07-01T16:44:09.468Z"
   },
   {
    "duration": 11,
    "start_time": "2022-07-01T16:44:12.356Z"
   },
   {
    "duration": 11,
    "start_time": "2022-07-01T16:44:33.597Z"
   },
   {
    "duration": 10,
    "start_time": "2022-07-01T16:44:36.133Z"
   },
   {
    "duration": 280,
    "start_time": "2022-07-01T16:44:40.081Z"
   },
   {
    "duration": 294,
    "start_time": "2022-07-01T16:47:02.818Z"
   },
   {
    "duration": 375,
    "start_time": "2022-07-01T16:47:37.979Z"
   },
   {
    "duration": 8,
    "start_time": "2022-07-01T16:47:51.976Z"
   },
   {
    "duration": 14,
    "start_time": "2022-07-01T16:51:30.340Z"
   },
   {
    "duration": 14,
    "start_time": "2022-07-01T16:52:21.721Z"
   },
   {
    "duration": 24,
    "start_time": "2022-07-01T16:52:41.494Z"
   },
   {
    "duration": 11,
    "start_time": "2022-07-01T16:56:24.767Z"
   },
   {
    "duration": 11,
    "start_time": "2022-07-01T16:56:28.633Z"
   },
   {
    "duration": 22,
    "start_time": "2022-07-01T16:56:30.650Z"
   },
   {
    "duration": 249,
    "start_time": "2022-07-01T16:56:49.808Z"
   },
   {
    "duration": 140,
    "start_time": "2022-07-01T16:57:17.746Z"
   },
   {
    "duration": 145,
    "start_time": "2022-07-01T16:57:55.688Z"
   },
   {
    "duration": 157,
    "start_time": "2022-07-01T16:58:46.507Z"
   },
   {
    "duration": 138,
    "start_time": "2022-07-01T16:58:52.639Z"
   },
   {
    "duration": 138,
    "start_time": "2022-07-01T16:59:33.859Z"
   },
   {
    "duration": 263,
    "start_time": "2022-07-01T16:59:51.737Z"
   },
   {
    "duration": 179,
    "start_time": "2022-07-01T17:00:41.451Z"
   },
   {
    "duration": 210,
    "start_time": "2022-07-01T17:00:54.581Z"
   },
   {
    "duration": 164,
    "start_time": "2022-07-01T17:01:29.175Z"
   },
   {
    "duration": 152,
    "start_time": "2022-07-01T17:01:50.666Z"
   },
   {
    "duration": 17,
    "start_time": "2022-07-01T17:06:33.840Z"
   },
   {
    "duration": 17,
    "start_time": "2022-07-01T17:06:40.280Z"
   },
   {
    "duration": 14,
    "start_time": "2022-07-01T17:07:05.749Z"
   },
   {
    "duration": 15,
    "start_time": "2022-07-01T17:07:33.145Z"
   },
   {
    "duration": 14,
    "start_time": "2022-07-01T17:07:43.911Z"
   },
   {
    "duration": 470,
    "start_time": "2022-07-01T17:11:20.723Z"
   },
   {
    "duration": 1175,
    "start_time": "2022-07-01T17:35:42.638Z"
   },
   {
    "duration": 60,
    "start_time": "2022-07-01T17:35:43.815Z"
   },
   {
    "duration": 14,
    "start_time": "2022-07-01T17:35:43.876Z"
   },
   {
    "duration": 8,
    "start_time": "2022-07-01T17:35:43.892Z"
   },
   {
    "duration": 12,
    "start_time": "2022-07-01T17:35:43.901Z"
   },
   {
    "duration": 19,
    "start_time": "2022-07-01T17:35:43.915Z"
   },
   {
    "duration": 6,
    "start_time": "2022-07-01T17:35:43.936Z"
   },
   {
    "duration": 7,
    "start_time": "2022-07-01T17:35:43.944Z"
   },
   {
    "duration": 4,
    "start_time": "2022-07-01T17:35:43.953Z"
   },
   {
    "duration": 4,
    "start_time": "2022-07-01T17:35:43.960Z"
   },
   {
    "duration": 9,
    "start_time": "2022-07-01T17:35:43.965Z"
   },
   {
    "duration": 21,
    "start_time": "2022-07-01T17:35:43.976Z"
   },
   {
    "duration": 28,
    "start_time": "2022-07-01T17:35:43.999Z"
   },
   {
    "duration": 6,
    "start_time": "2022-07-01T17:35:44.028Z"
   },
   {
    "duration": 9,
    "start_time": "2022-07-01T17:35:44.035Z"
   },
   {
    "duration": 8,
    "start_time": "2022-07-01T17:35:44.045Z"
   },
   {
    "duration": 15,
    "start_time": "2022-07-01T17:35:44.054Z"
   },
   {
    "duration": 10,
    "start_time": "2022-07-01T17:35:44.071Z"
   },
   {
    "duration": 52,
    "start_time": "2022-07-01T17:35:44.082Z"
   },
   {
    "duration": 16,
    "start_time": "2022-07-01T17:35:44.135Z"
   },
   {
    "duration": 483,
    "start_time": "2022-07-01T17:35:44.152Z"
   },
   {
    "duration": 20,
    "start_time": "2022-07-01T17:35:44.637Z"
   },
   {
    "duration": 11,
    "start_time": "2022-07-01T17:35:44.659Z"
   },
   {
    "duration": 40,
    "start_time": "2022-07-01T17:35:44.672Z"
   },
   {
    "duration": 22,
    "start_time": "2022-07-01T17:35:44.726Z"
   },
   {
    "duration": 9,
    "start_time": "2022-07-01T17:35:44.750Z"
   },
   {
    "duration": 9,
    "start_time": "2022-07-01T17:35:44.761Z"
   },
   {
    "duration": 319,
    "start_time": "2022-07-01T17:35:44.773Z"
   },
   {
    "duration": 14,
    "start_time": "2022-07-01T17:35:45.093Z"
   },
   {
    "duration": 193,
    "start_time": "2022-07-01T17:35:45.109Z"
   },
   {
    "duration": 158,
    "start_time": "2022-07-01T17:35:45.303Z"
   },
   {
    "duration": 14,
    "start_time": "2022-07-01T17:35:45.463Z"
   },
   {
    "duration": 14,
    "start_time": "2022-07-01T17:39:05.123Z"
   },
   {
    "duration": 378,
    "start_time": "2022-07-01T17:39:08.758Z"
   },
   {
    "duration": 9,
    "start_time": "2022-07-01T17:41:52.205Z"
   },
   {
    "duration": 1219,
    "start_time": "2022-07-01T17:42:01.623Z"
   },
   {
    "duration": 62,
    "start_time": "2022-07-01T17:42:02.843Z"
   },
   {
    "duration": 16,
    "start_time": "2022-07-01T17:42:02.907Z"
   },
   {
    "duration": 14,
    "start_time": "2022-07-01T17:42:02.926Z"
   },
   {
    "duration": 9,
    "start_time": "2022-07-01T17:42:02.942Z"
   },
   {
    "duration": 15,
    "start_time": "2022-07-01T17:42:02.952Z"
   },
   {
    "duration": 9,
    "start_time": "2022-07-01T17:42:02.969Z"
   },
   {
    "duration": 8,
    "start_time": "2022-07-01T17:42:02.979Z"
   },
   {
    "duration": 11,
    "start_time": "2022-07-01T17:42:02.988Z"
   },
   {
    "duration": 5,
    "start_time": "2022-07-01T17:42:03.001Z"
   },
   {
    "duration": 21,
    "start_time": "2022-07-01T17:42:03.007Z"
   },
   {
    "duration": 23,
    "start_time": "2022-07-01T17:42:03.030Z"
   },
   {
    "duration": 14,
    "start_time": "2022-07-01T17:42:03.054Z"
   },
   {
    "duration": 14,
    "start_time": "2022-07-01T17:42:03.069Z"
   },
   {
    "duration": 12,
    "start_time": "2022-07-01T17:42:03.085Z"
   },
   {
    "duration": 11,
    "start_time": "2022-07-01T17:42:03.099Z"
   },
   {
    "duration": 25,
    "start_time": "2022-07-01T17:42:03.112Z"
   },
   {
    "duration": 10,
    "start_time": "2022-07-01T17:42:03.139Z"
   },
   {
    "duration": 26,
    "start_time": "2022-07-01T17:42:03.150Z"
   },
   {
    "duration": 16,
    "start_time": "2022-07-01T17:42:03.177Z"
   },
   {
    "duration": 411,
    "start_time": "2022-07-01T17:42:03.195Z"
   },
   {
    "duration": 28,
    "start_time": "2022-07-01T17:42:03.608Z"
   },
   {
    "duration": 9,
    "start_time": "2022-07-01T17:42:03.638Z"
   },
   {
    "duration": 32,
    "start_time": "2022-07-01T17:42:03.649Z"
   },
   {
    "duration": 44,
    "start_time": "2022-07-01T17:42:03.683Z"
   },
   {
    "duration": 12,
    "start_time": "2022-07-01T17:42:03.729Z"
   },
   {
    "duration": 9,
    "start_time": "2022-07-01T17:42:03.742Z"
   },
   {
    "duration": 319,
    "start_time": "2022-07-01T17:42:03.754Z"
   },
   {
    "duration": 15,
    "start_time": "2022-07-01T17:42:04.075Z"
   },
   {
    "duration": 197,
    "start_time": "2022-07-01T17:42:04.092Z"
   },
   {
    "duration": 231,
    "start_time": "2022-07-01T17:42:04.291Z"
   },
   {
    "duration": 22,
    "start_time": "2022-07-01T17:42:04.523Z"
   },
   {
    "duration": 217,
    "start_time": "2022-07-01T17:56:29.482Z"
   },
   {
    "duration": 327,
    "start_time": "2022-07-01T17:57:11.553Z"
   },
   {
    "duration": 488,
    "start_time": "2022-07-01T17:57:23.329Z"
   },
   {
    "duration": 29,
    "start_time": "2022-07-01T17:57:50.932Z"
   },
   {
    "duration": 11,
    "start_time": "2022-07-01T17:58:45.445Z"
   },
   {
    "duration": 15,
    "start_time": "2022-07-01T17:58:58.862Z"
   },
   {
    "duration": 44,
    "start_time": "2022-07-01T17:59:46.748Z"
   },
   {
    "duration": 49,
    "start_time": "2022-07-01T18:00:28.090Z"
   },
   {
    "duration": 207,
    "start_time": "2022-07-01T18:00:37.230Z"
   },
   {
    "duration": 11,
    "start_time": "2022-07-01T18:01:22.258Z"
   },
   {
    "duration": 1189,
    "start_time": "2022-07-01T18:02:04.737Z"
   },
   {
    "duration": 10,
    "start_time": "2022-07-01T18:04:54.048Z"
   },
   {
    "duration": 117,
    "start_time": "2022-07-01T18:05:02.629Z"
   },
   {
    "duration": 6,
    "start_time": "2022-07-01T18:05:38.939Z"
   },
   {
    "duration": 1144,
    "start_time": "2022-07-01T18:05:45.907Z"
   },
   {
    "duration": 64,
    "start_time": "2022-07-01T18:05:47.053Z"
   },
   {
    "duration": 17,
    "start_time": "2022-07-01T18:05:47.118Z"
   },
   {
    "duration": 9,
    "start_time": "2022-07-01T18:05:47.137Z"
   },
   {
    "duration": 11,
    "start_time": "2022-07-01T18:05:47.148Z"
   },
   {
    "duration": 14,
    "start_time": "2022-07-01T18:05:47.161Z"
   },
   {
    "duration": 6,
    "start_time": "2022-07-01T18:05:47.177Z"
   },
   {
    "duration": 8,
    "start_time": "2022-07-01T18:05:47.184Z"
   },
   {
    "duration": 34,
    "start_time": "2022-07-01T18:05:47.194Z"
   },
   {
    "duration": 5,
    "start_time": "2022-07-01T18:05:47.232Z"
   },
   {
    "duration": 6,
    "start_time": "2022-07-01T18:05:47.239Z"
   },
   {
    "duration": 39,
    "start_time": "2022-07-01T18:05:47.247Z"
   },
   {
    "duration": 5,
    "start_time": "2022-07-01T18:05:47.288Z"
   },
   {
    "duration": 36,
    "start_time": "2022-07-01T18:05:47.295Z"
   },
   {
    "duration": 11,
    "start_time": "2022-07-01T18:05:47.333Z"
   },
   {
    "duration": 16,
    "start_time": "2022-07-01T18:05:47.346Z"
   },
   {
    "duration": 17,
    "start_time": "2022-07-01T18:05:47.364Z"
   },
   {
    "duration": 12,
    "start_time": "2022-07-01T18:05:47.382Z"
   },
   {
    "duration": 73,
    "start_time": "2022-07-01T18:05:47.396Z"
   },
   {
    "duration": 28,
    "start_time": "2022-07-01T18:05:47.471Z"
   },
   {
    "duration": 420,
    "start_time": "2022-07-01T18:05:47.501Z"
   },
   {
    "duration": 6,
    "start_time": "2022-07-01T18:05:47.925Z"
   },
   {
    "duration": 22,
    "start_time": "2022-07-01T18:05:47.932Z"
   },
   {
    "duration": 8,
    "start_time": "2022-07-01T18:05:47.955Z"
   },
   {
    "duration": 40,
    "start_time": "2022-07-01T18:05:47.965Z"
   },
   {
    "duration": 2114,
    "start_time": "2022-07-01T18:05:48.006Z"
   },
   {
    "duration": 26,
    "start_time": "2022-07-01T18:05:50.121Z"
   },
   {
    "duration": 11,
    "start_time": "2022-07-01T18:05:50.150Z"
   },
   {
    "duration": 12,
    "start_time": "2022-07-01T18:05:50.163Z"
   },
   {
    "duration": 332,
    "start_time": "2022-07-01T18:05:50.177Z"
   },
   {
    "duration": 20,
    "start_time": "2022-07-01T18:05:50.511Z"
   },
   {
    "duration": 173,
    "start_time": "2022-07-01T18:05:50.533Z"
   },
   {
    "duration": 172,
    "start_time": "2022-07-01T18:05:50.708Z"
   },
   {
    "duration": 17,
    "start_time": "2022-07-01T18:05:50.881Z"
   },
   {
    "duration": 733,
    "start_time": "2022-07-01T18:07:49.130Z"
   },
   {
    "duration": 640,
    "start_time": "2022-07-01T18:08:12.592Z"
   },
   {
    "duration": 341,
    "start_time": "2022-07-01T18:08:40.322Z"
   },
   {
    "duration": 3946,
    "start_time": "2022-07-01T18:08:47.600Z"
   },
   {
    "duration": 632,
    "start_time": "2022-07-01T18:13:00.789Z"
   },
   {
    "duration": 1318,
    "start_time": "2022-07-01T18:13:31.492Z"
   },
   {
    "duration": 767,
    "start_time": "2022-07-01T18:14:34.143Z"
   },
   {
    "duration": 24,
    "start_time": "2022-07-01T18:14:45.834Z"
   },
   {
    "duration": 464,
    "start_time": "2022-07-01T18:15:48.293Z"
   },
   {
    "duration": 322,
    "start_time": "2022-07-01T18:18:25.896Z"
   },
   {
    "duration": 352,
    "start_time": "2022-07-01T18:18:39.949Z"
   },
   {
    "duration": 338,
    "start_time": "2022-07-01T18:18:59.111Z"
   },
   {
    "duration": 378,
    "start_time": "2022-07-01T18:19:04.297Z"
   },
   {
    "duration": 328,
    "start_time": "2022-07-01T18:19:19.275Z"
   },
   {
    "duration": 312,
    "start_time": "2022-07-01T18:19:27.299Z"
   },
   {
    "duration": 349,
    "start_time": "2022-07-01T18:19:54.509Z"
   },
   {
    "duration": 329,
    "start_time": "2022-07-01T18:20:36.393Z"
   },
   {
    "duration": 318,
    "start_time": "2022-07-01T18:20:59.321Z"
   },
   {
    "duration": 363,
    "start_time": "2022-07-01T18:21:50.302Z"
   },
   {
    "duration": 49,
    "start_time": "2022-07-02T11:28:59.309Z"
   },
   {
    "duration": 1259,
    "start_time": "2022-07-02T11:29:07.447Z"
   },
   {
    "duration": 85,
    "start_time": "2022-07-02T11:29:08.708Z"
   },
   {
    "duration": 14,
    "start_time": "2022-07-02T11:29:08.794Z"
   },
   {
    "duration": 31,
    "start_time": "2022-07-02T11:29:08.810Z"
   },
   {
    "duration": 42,
    "start_time": "2022-07-02T11:29:08.843Z"
   },
   {
    "duration": 39,
    "start_time": "2022-07-02T11:29:08.887Z"
   },
   {
    "duration": 29,
    "start_time": "2022-07-02T11:29:08.927Z"
   },
   {
    "duration": 23,
    "start_time": "2022-07-02T11:29:08.958Z"
   },
   {
    "duration": 24,
    "start_time": "2022-07-02T11:29:08.982Z"
   },
   {
    "duration": 21,
    "start_time": "2022-07-02T11:29:09.007Z"
   },
   {
    "duration": 24,
    "start_time": "2022-07-02T11:29:09.029Z"
   },
   {
    "duration": 43,
    "start_time": "2022-07-02T11:29:09.054Z"
   },
   {
    "duration": 4,
    "start_time": "2022-07-02T11:29:09.099Z"
   },
   {
    "duration": 16,
    "start_time": "2022-07-02T11:29:09.105Z"
   },
   {
    "duration": 27,
    "start_time": "2022-07-02T11:29:09.123Z"
   },
   {
    "duration": 22,
    "start_time": "2022-07-02T11:29:09.152Z"
   },
   {
    "duration": 23,
    "start_time": "2022-07-02T11:29:09.175Z"
   },
   {
    "duration": 25,
    "start_time": "2022-07-02T11:29:09.199Z"
   },
   {
    "duration": 42,
    "start_time": "2022-07-02T11:29:09.226Z"
   },
   {
    "duration": 16,
    "start_time": "2022-07-02T11:29:09.271Z"
   },
   {
    "duration": 351,
    "start_time": "2022-07-02T11:29:09.288Z"
   },
   {
    "duration": 7,
    "start_time": "2022-07-02T11:29:09.641Z"
   },
   {
    "duration": 27,
    "start_time": "2022-07-02T11:29:09.649Z"
   },
   {
    "duration": 11,
    "start_time": "2022-07-02T11:29:09.678Z"
   },
   {
    "duration": 40,
    "start_time": "2022-07-02T11:29:09.690Z"
   },
   {
    "duration": 291,
    "start_time": "2022-07-02T11:29:09.732Z"
   },
   {
    "duration": 23,
    "start_time": "2022-07-02T11:29:10.025Z"
   },
   {
    "duration": 10,
    "start_time": "2022-07-02T11:29:10.050Z"
   },
   {
    "duration": 11,
    "start_time": "2022-07-02T11:29:10.061Z"
   },
   {
    "duration": 301,
    "start_time": "2022-07-02T11:29:10.073Z"
   },
   {
    "duration": 13,
    "start_time": "2022-07-02T11:29:10.375Z"
   },
   {
    "duration": 172,
    "start_time": "2022-07-02T11:29:10.389Z"
   },
   {
    "duration": 146,
    "start_time": "2022-07-02T11:29:10.563Z"
   },
   {
    "duration": 21,
    "start_time": "2022-07-02T11:29:10.711Z"
   },
   {
    "duration": 281,
    "start_time": "2022-07-02T11:30:19.171Z"
   },
   {
    "duration": 345,
    "start_time": "2022-07-02T11:32:12.808Z"
   },
   {
    "duration": 276,
    "start_time": "2022-07-02T11:33:04.718Z"
   },
   {
    "duration": 276,
    "start_time": "2022-07-02T11:36:06.100Z"
   },
   {
    "duration": 23,
    "start_time": "2022-07-02T11:46:03.532Z"
   },
   {
    "duration": 10,
    "start_time": "2022-07-02T11:46:16.239Z"
   },
   {
    "duration": 11,
    "start_time": "2022-07-02T11:46:26.653Z"
   },
   {
    "duration": 16,
    "start_time": "2022-07-02T11:46:48.931Z"
   },
   {
    "duration": 278,
    "start_time": "2022-07-02T11:47:51.219Z"
   },
   {
    "duration": 5,
    "start_time": "2022-07-02T12:58:06.551Z"
   },
   {
    "duration": 216,
    "start_time": "2022-07-02T12:58:16.403Z"
   },
   {
    "duration": 193,
    "start_time": "2022-07-02T13:01:11.043Z"
   },
   {
    "duration": 174,
    "start_time": "2022-07-02T13:01:17.558Z"
   },
   {
    "duration": 109,
    "start_time": "2022-07-02T13:09:32.536Z"
   },
   {
    "duration": 3,
    "start_time": "2022-07-02T13:09:53.997Z"
   },
   {
    "duration": 4,
    "start_time": "2022-07-02T13:09:59.634Z"
   },
   {
    "duration": 4,
    "start_time": "2022-07-02T13:11:19.462Z"
   },
   {
    "duration": 5,
    "start_time": "2022-07-02T13:11:27.868Z"
   },
   {
    "duration": 6,
    "start_time": "2022-07-02T13:11:31.447Z"
   },
   {
    "duration": 18,
    "start_time": "2022-07-02T13:18:03.005Z"
   },
   {
    "duration": 1218,
    "start_time": "2022-07-02T13:18:20.329Z"
   },
   {
    "duration": 72,
    "start_time": "2022-07-02T13:18:21.549Z"
   },
   {
    "duration": 33,
    "start_time": "2022-07-02T13:18:21.622Z"
   },
   {
    "duration": 11,
    "start_time": "2022-07-02T13:18:21.657Z"
   },
   {
    "duration": 5,
    "start_time": "2022-07-02T13:18:21.670Z"
   },
   {
    "duration": 19,
    "start_time": "2022-07-02T13:18:21.677Z"
   },
   {
    "duration": 27,
    "start_time": "2022-07-02T13:18:21.697Z"
   },
   {
    "duration": 11,
    "start_time": "2022-07-02T13:18:21.727Z"
   },
   {
    "duration": 14,
    "start_time": "2022-07-02T13:18:21.739Z"
   },
   {
    "duration": 7,
    "start_time": "2022-07-02T13:18:21.756Z"
   },
   {
    "duration": 5,
    "start_time": "2022-07-02T13:18:21.764Z"
   },
   {
    "duration": 55,
    "start_time": "2022-07-02T13:18:21.771Z"
   },
   {
    "duration": 5,
    "start_time": "2022-07-02T13:18:21.828Z"
   },
   {
    "duration": 9,
    "start_time": "2022-07-02T13:18:21.835Z"
   },
   {
    "duration": 12,
    "start_time": "2022-07-02T13:18:21.846Z"
   },
   {
    "duration": 11,
    "start_time": "2022-07-02T13:18:21.859Z"
   },
   {
    "duration": 14,
    "start_time": "2022-07-02T13:18:21.871Z"
   },
   {
    "duration": 10,
    "start_time": "2022-07-02T13:18:21.887Z"
   },
   {
    "duration": 50,
    "start_time": "2022-07-02T13:18:21.899Z"
   },
   {
    "duration": 17,
    "start_time": "2022-07-02T13:18:21.951Z"
   },
   {
    "duration": 399,
    "start_time": "2022-07-02T13:18:21.970Z"
   },
   {
    "duration": 8,
    "start_time": "2022-07-02T13:18:22.371Z"
   },
   {
    "duration": 18,
    "start_time": "2022-07-02T13:18:22.381Z"
   },
   {
    "duration": 24,
    "start_time": "2022-07-02T13:18:22.401Z"
   },
   {
    "duration": 33,
    "start_time": "2022-07-02T13:18:22.427Z"
   },
   {
    "duration": 396,
    "start_time": "2022-07-02T13:18:22.462Z"
   },
   {
    "duration": 26,
    "start_time": "2022-07-02T13:18:22.860Z"
   },
   {
    "duration": 38,
    "start_time": "2022-07-02T13:18:22.889Z"
   },
   {
    "duration": 5,
    "start_time": "2022-07-02T13:18:22.928Z"
   },
   {
    "duration": 219,
    "start_time": "2022-07-02T13:18:22.935Z"
   },
   {
    "duration": 5,
    "start_time": "2022-07-02T13:18:23.156Z"
   },
   {
    "duration": 124,
    "start_time": "2022-07-02T13:18:23.163Z"
   },
   {
    "duration": 0,
    "start_time": "2022-07-02T13:18:23.289Z"
   },
   {
    "duration": 0,
    "start_time": "2022-07-02T13:18:23.290Z"
   },
   {
    "duration": 0,
    "start_time": "2022-07-02T13:18:23.292Z"
   },
   {
    "duration": 0,
    "start_time": "2022-07-02T13:18:23.292Z"
   },
   {
    "duration": 18,
    "start_time": "2022-07-02T13:18:41.671Z"
   },
   {
    "duration": 166,
    "start_time": "2022-07-02T13:18:53.997Z"
   },
   {
    "duration": 152,
    "start_time": "2022-07-02T13:19:11.338Z"
   },
   {
    "duration": 162,
    "start_time": "2022-07-02T13:19:17.828Z"
   },
   {
    "duration": 174,
    "start_time": "2022-07-02T13:19:27.123Z"
   },
   {
    "duration": 230,
    "start_time": "2022-07-02T13:19:32.160Z"
   },
   {
    "duration": 201,
    "start_time": "2022-07-02T13:19:45.217Z"
   },
   {
    "duration": 197,
    "start_time": "2022-07-02T13:19:53.834Z"
   },
   {
    "duration": 6,
    "start_time": "2022-07-02T13:20:46.598Z"
   },
   {
    "duration": 62,
    "start_time": "2022-07-02T13:22:34.600Z"
   },
   {
    "duration": 15,
    "start_time": "2022-07-02T13:22:43.291Z"
   },
   {
    "duration": 15,
    "start_time": "2022-07-02T13:22:55.856Z"
   },
   {
    "duration": 12,
    "start_time": "2022-07-02T13:23:00.927Z"
   },
   {
    "duration": 159,
    "start_time": "2022-07-02T13:23:24.855Z"
   },
   {
    "duration": 6,
    "start_time": "2022-07-02T13:23:27.510Z"
   },
   {
    "duration": 160,
    "start_time": "2022-07-02T13:23:33.686Z"
   },
   {
    "duration": 161,
    "start_time": "2022-07-02T13:25:15.128Z"
   },
   {
    "duration": 6,
    "start_time": "2022-07-02T13:25:37.256Z"
   },
   {
    "duration": 179,
    "start_time": "2022-07-02T13:26:01.997Z"
   },
   {
    "duration": 10,
    "start_time": "2022-07-02T13:26:15.211Z"
   },
   {
    "duration": 9,
    "start_time": "2022-07-02T13:26:21.930Z"
   },
   {
    "duration": 161,
    "start_time": "2022-07-02T13:26:26.399Z"
   },
   {
    "duration": 193,
    "start_time": "2022-07-02T13:26:32.495Z"
   },
   {
    "duration": 5,
    "start_time": "2022-07-02T13:26:48.705Z"
   },
   {
    "duration": 6,
    "start_time": "2022-07-02T13:26:59.026Z"
   },
   {
    "duration": 5,
    "start_time": "2022-07-02T13:27:04.740Z"
   },
   {
    "duration": 6,
    "start_time": "2022-07-02T13:27:24.933Z"
   },
   {
    "duration": 323,
    "start_time": "2022-07-02T13:28:03.203Z"
   },
   {
    "duration": 6,
    "start_time": "2022-07-02T13:28:19.763Z"
   },
   {
    "duration": 6,
    "start_time": "2022-07-02T13:28:30.167Z"
   },
   {
    "duration": 5,
    "start_time": "2022-07-02T13:28:45.400Z"
   },
   {
    "duration": 5,
    "start_time": "2022-07-02T13:28:53.861Z"
   },
   {
    "duration": 534,
    "start_time": "2022-07-02T13:32:32.158Z"
   },
   {
    "duration": 382,
    "start_time": "2022-07-02T13:32:47.739Z"
   },
   {
    "duration": 340,
    "start_time": "2022-07-02T13:33:02.767Z"
   },
   {
    "duration": 293,
    "start_time": "2022-07-02T13:33:34.862Z"
   },
   {
    "duration": 153,
    "start_time": "2022-07-02T13:33:50.399Z"
   },
   {
    "duration": 150,
    "start_time": "2022-07-02T13:34:24.765Z"
   },
   {
    "duration": 155,
    "start_time": "2022-07-02T13:34:40.036Z"
   },
   {
    "duration": 259,
    "start_time": "2022-07-02T13:34:57.006Z"
   },
   {
    "duration": 217,
    "start_time": "2022-07-02T13:40:13.651Z"
   },
   {
    "duration": 6,
    "start_time": "2022-07-02T13:40:31.895Z"
   },
   {
    "duration": 227,
    "start_time": "2022-07-02T13:41:12.146Z"
   },
   {
    "duration": 6,
    "start_time": "2022-07-02T13:41:26.339Z"
   },
   {
    "duration": 53,
    "start_time": "2022-07-02T13:41:59.718Z"
   },
   {
    "duration": 310,
    "start_time": "2022-07-02T13:42:12.388Z"
   },
   {
    "duration": 6,
    "start_time": "2022-07-02T13:42:26.967Z"
   },
   {
    "duration": 345,
    "start_time": "2022-07-02T13:43:54.211Z"
   },
   {
    "duration": 6,
    "start_time": "2022-07-02T13:44:09.407Z"
   },
   {
    "duration": 232,
    "start_time": "2022-07-02T13:49:47.667Z"
   },
   {
    "duration": 1117,
    "start_time": "2022-07-02T13:50:04.332Z"
   },
   {
    "duration": 234,
    "start_time": "2022-07-02T13:50:06.618Z"
   },
   {
    "duration": 10,
    "start_time": "2022-07-02T13:57:34.703Z"
   },
   {
    "duration": 15,
    "start_time": "2022-07-02T13:57:39.774Z"
   },
   {
    "duration": 1174,
    "start_time": "2022-07-02T13:57:45.222Z"
   },
   {
    "duration": 73,
    "start_time": "2022-07-02T13:57:46.399Z"
   },
   {
    "duration": 14,
    "start_time": "2022-07-02T13:57:46.474Z"
   },
   {
    "duration": 10,
    "start_time": "2022-07-02T13:57:46.490Z"
   },
   {
    "duration": 22,
    "start_time": "2022-07-02T13:57:46.503Z"
   },
   {
    "duration": 11,
    "start_time": "2022-07-02T13:57:46.526Z"
   },
   {
    "duration": 6,
    "start_time": "2022-07-02T13:57:46.539Z"
   },
   {
    "duration": 6,
    "start_time": "2022-07-02T13:57:46.547Z"
   },
   {
    "duration": 10,
    "start_time": "2022-07-02T13:57:46.555Z"
   },
   {
    "duration": 5,
    "start_time": "2022-07-02T13:57:46.566Z"
   },
   {
    "duration": 6,
    "start_time": "2022-07-02T13:57:46.573Z"
   },
   {
    "duration": 21,
    "start_time": "2022-07-02T13:57:46.580Z"
   },
   {
    "duration": 4,
    "start_time": "2022-07-02T13:57:46.624Z"
   },
   {
    "duration": 9,
    "start_time": "2022-07-02T13:57:46.630Z"
   },
   {
    "duration": 8,
    "start_time": "2022-07-02T13:57:46.640Z"
   },
   {
    "duration": 8,
    "start_time": "2022-07-02T13:57:46.649Z"
   },
   {
    "duration": 15,
    "start_time": "2022-07-02T13:57:46.659Z"
   },
   {
    "duration": 9,
    "start_time": "2022-07-02T13:57:46.675Z"
   },
   {
    "duration": 48,
    "start_time": "2022-07-02T13:57:46.686Z"
   },
   {
    "duration": 15,
    "start_time": "2022-07-02T13:57:46.736Z"
   },
   {
    "duration": 387,
    "start_time": "2022-07-02T13:57:46.753Z"
   },
   {
    "duration": 6,
    "start_time": "2022-07-02T13:57:47.142Z"
   },
   {
    "duration": 17,
    "start_time": "2022-07-02T13:57:47.149Z"
   },
   {
    "duration": 7,
    "start_time": "2022-07-02T13:57:47.168Z"
   },
   {
    "duration": 48,
    "start_time": "2022-07-02T13:57:47.176Z"
   },
   {
    "duration": 291,
    "start_time": "2022-07-02T13:57:47.226Z"
   },
   {
    "duration": 21,
    "start_time": "2022-07-02T13:57:47.522Z"
   },
   {
    "duration": 14,
    "start_time": "2022-07-02T13:57:47.545Z"
   },
   {
    "duration": 5,
    "start_time": "2022-07-02T13:57:47.561Z"
   },
   {
    "duration": 195,
    "start_time": "2022-07-02T13:57:47.568Z"
   },
   {
    "duration": 5,
    "start_time": "2022-07-02T13:57:47.764Z"
   },
   {
    "duration": 15,
    "start_time": "2022-07-02T13:57:47.770Z"
   },
   {
    "duration": 7,
    "start_time": "2022-07-02T13:57:47.787Z"
   },
   {
    "duration": 253,
    "start_time": "2022-07-02T13:57:47.795Z"
   },
   {
    "duration": 5,
    "start_time": "2022-07-02T13:57:48.050Z"
   },
   {
    "duration": 7,
    "start_time": "2022-07-02T13:57:48.057Z"
   },
   {
    "duration": 244,
    "start_time": "2022-07-02T13:57:48.065Z"
   },
   {
    "duration": 6,
    "start_time": "2022-07-02T13:57:48.311Z"
   },
   {
    "duration": 8,
    "start_time": "2022-07-02T13:57:48.318Z"
   },
   {
    "duration": 233,
    "start_time": "2022-07-02T13:57:48.327Z"
   },
   {
    "duration": 5,
    "start_time": "2022-07-02T13:57:48.565Z"
   },
   {
    "duration": 6,
    "start_time": "2022-07-02T13:57:48.571Z"
   },
   {
    "duration": 306,
    "start_time": "2022-07-02T13:57:48.579Z"
   },
   {
    "duration": 4,
    "start_time": "2022-07-02T13:57:48.887Z"
   },
   {
    "duration": 7,
    "start_time": "2022-07-02T13:57:48.893Z"
   },
   {
    "duration": 243,
    "start_time": "2022-07-02T13:57:48.901Z"
   },
   {
    "duration": 5,
    "start_time": "2022-07-02T13:57:49.146Z"
   },
   {
    "duration": 12,
    "start_time": "2022-07-02T13:57:49.152Z"
   },
   {
    "duration": 41,
    "start_time": "2022-07-02T13:57:49.166Z"
   },
   {
    "duration": 109,
    "start_time": "2022-07-02T14:09:30.274Z"
   },
   {
    "duration": 22,
    "start_time": "2022-07-02T14:09:48.127Z"
   },
   {
    "duration": 19,
    "start_time": "2022-07-02T14:09:55.491Z"
   },
   {
    "duration": 23,
    "start_time": "2022-07-02T14:10:48.233Z"
   },
   {
    "duration": 25,
    "start_time": "2022-07-02T14:10:53.187Z"
   },
   {
    "duration": 18,
    "start_time": "2022-07-02T14:11:42.315Z"
   },
   {
    "duration": 19,
    "start_time": "2022-07-02T14:12:39.376Z"
   },
   {
    "duration": 18,
    "start_time": "2022-07-02T14:13:28.611Z"
   },
   {
    "duration": 15,
    "start_time": "2022-07-02T14:13:40.574Z"
   },
   {
    "duration": 21,
    "start_time": "2022-07-02T14:13:57.056Z"
   },
   {
    "duration": 24,
    "start_time": "2022-07-02T14:14:47.127Z"
   },
   {
    "duration": 1149,
    "start_time": "2022-07-02T14:15:06.974Z"
   },
   {
    "duration": 62,
    "start_time": "2022-07-02T14:15:08.125Z"
   },
   {
    "duration": 16,
    "start_time": "2022-07-02T14:15:08.191Z"
   },
   {
    "duration": 22,
    "start_time": "2022-07-02T14:15:08.209Z"
   },
   {
    "duration": 12,
    "start_time": "2022-07-02T14:15:08.233Z"
   },
   {
    "duration": 13,
    "start_time": "2022-07-02T14:15:08.247Z"
   },
   {
    "duration": 11,
    "start_time": "2022-07-02T14:15:08.261Z"
   },
   {
    "duration": 12,
    "start_time": "2022-07-02T14:15:08.274Z"
   },
   {
    "duration": 14,
    "start_time": "2022-07-02T14:15:08.287Z"
   },
   {
    "duration": 8,
    "start_time": "2022-07-02T14:15:08.303Z"
   },
   {
    "duration": 14,
    "start_time": "2022-07-02T14:15:08.312Z"
   },
   {
    "duration": 32,
    "start_time": "2022-07-02T14:15:08.329Z"
   },
   {
    "duration": 5,
    "start_time": "2022-07-02T14:15:08.364Z"
   },
   {
    "duration": 17,
    "start_time": "2022-07-02T14:15:08.370Z"
   },
   {
    "duration": 18,
    "start_time": "2022-07-02T14:15:08.389Z"
   },
   {
    "duration": 15,
    "start_time": "2022-07-02T14:15:08.409Z"
   },
   {
    "duration": 19,
    "start_time": "2022-07-02T14:15:08.426Z"
   },
   {
    "duration": 9,
    "start_time": "2022-07-02T14:15:08.447Z"
   },
   {
    "duration": 28,
    "start_time": "2022-07-02T14:15:08.457Z"
   },
   {
    "duration": 15,
    "start_time": "2022-07-02T14:15:08.487Z"
   },
   {
    "duration": 372,
    "start_time": "2022-07-02T14:15:08.503Z"
   },
   {
    "duration": 5,
    "start_time": "2022-07-02T14:15:08.877Z"
   },
   {
    "duration": 24,
    "start_time": "2022-07-02T14:15:08.884Z"
   },
   {
    "duration": 16,
    "start_time": "2022-07-02T14:15:08.909Z"
   },
   {
    "duration": 44,
    "start_time": "2022-07-02T14:15:08.927Z"
   },
   {
    "duration": 316,
    "start_time": "2022-07-02T14:15:08.973Z"
   },
   {
    "duration": 33,
    "start_time": "2022-07-02T14:15:09.291Z"
   },
   {
    "duration": 16,
    "start_time": "2022-07-02T14:15:09.326Z"
   },
   {
    "duration": 4,
    "start_time": "2022-07-02T14:15:09.343Z"
   },
   {
    "duration": 192,
    "start_time": "2022-07-02T14:15:09.349Z"
   },
   {
    "duration": 5,
    "start_time": "2022-07-02T14:15:09.543Z"
   },
   {
    "duration": 24,
    "start_time": "2022-07-02T14:15:09.550Z"
   },
   {
    "duration": 15,
    "start_time": "2022-07-02T14:15:09.576Z"
   },
   {
    "duration": 251,
    "start_time": "2022-07-02T14:15:09.593Z"
   },
   {
    "duration": 5,
    "start_time": "2022-07-02T14:15:09.846Z"
   },
   {
    "duration": 15,
    "start_time": "2022-07-02T14:15:09.852Z"
   },
   {
    "duration": 269,
    "start_time": "2022-07-02T14:15:09.869Z"
   },
   {
    "duration": 6,
    "start_time": "2022-07-02T14:15:10.141Z"
   },
   {
    "duration": 13,
    "start_time": "2022-07-02T14:15:10.149Z"
   },
   {
    "duration": 250,
    "start_time": "2022-07-02T14:15:10.166Z"
   },
   {
    "duration": 7,
    "start_time": "2022-07-02T14:15:10.418Z"
   },
   {
    "duration": 10,
    "start_time": "2022-07-02T14:15:10.427Z"
   },
   {
    "duration": 303,
    "start_time": "2022-07-02T14:15:10.438Z"
   },
   {
    "duration": 6,
    "start_time": "2022-07-02T14:15:10.743Z"
   },
   {
    "duration": 15,
    "start_time": "2022-07-02T14:15:10.750Z"
   },
   {
    "duration": 232,
    "start_time": "2022-07-02T14:15:10.766Z"
   },
   {
    "duration": 5,
    "start_time": "2022-07-02T14:15:11.000Z"
   },
   {
    "duration": 26,
    "start_time": "2022-07-02T14:15:11.007Z"
   },
   {
    "duration": 22,
    "start_time": "2022-07-02T14:15:11.035Z"
   },
   {
    "duration": 22,
    "start_time": "2022-07-02T14:15:11.059Z"
   },
   {
    "duration": 108,
    "start_time": "2022-07-02T14:15:11.082Z"
   },
   {
    "duration": 23,
    "start_time": "2022-07-02T14:15:43.167Z"
   },
   {
    "duration": 16,
    "start_time": "2022-07-02T14:16:36.611Z"
   },
   {
    "duration": 23,
    "start_time": "2022-07-02T14:16:45.335Z"
   },
   {
    "duration": 1178,
    "start_time": "2022-07-02T14:16:52.628Z"
   },
   {
    "duration": 62,
    "start_time": "2022-07-02T14:16:53.808Z"
   },
   {
    "duration": 13,
    "start_time": "2022-07-02T14:16:53.871Z"
   },
   {
    "duration": 9,
    "start_time": "2022-07-02T14:16:53.887Z"
   },
   {
    "duration": 5,
    "start_time": "2022-07-02T14:16:53.897Z"
   },
   {
    "duration": 9,
    "start_time": "2022-07-02T14:16:53.923Z"
   },
   {
    "duration": 5,
    "start_time": "2022-07-02T14:16:53.934Z"
   },
   {
    "duration": 9,
    "start_time": "2022-07-02T14:16:53.941Z"
   },
   {
    "duration": 10,
    "start_time": "2022-07-02T14:16:53.952Z"
   },
   {
    "duration": 4,
    "start_time": "2022-07-02T14:16:53.965Z"
   },
   {
    "duration": 7,
    "start_time": "2022-07-02T14:16:53.971Z"
   },
   {
    "duration": 20,
    "start_time": "2022-07-02T14:16:53.979Z"
   },
   {
    "duration": 25,
    "start_time": "2022-07-02T14:16:54.000Z"
   },
   {
    "duration": 10,
    "start_time": "2022-07-02T14:16:54.026Z"
   },
   {
    "duration": 7,
    "start_time": "2022-07-02T14:16:54.038Z"
   },
   {
    "duration": 8,
    "start_time": "2022-07-02T14:16:54.046Z"
   },
   {
    "duration": 19,
    "start_time": "2022-07-02T14:16:54.055Z"
   },
   {
    "duration": 10,
    "start_time": "2022-07-02T14:16:54.075Z"
   },
   {
    "duration": 43,
    "start_time": "2022-07-02T14:16:54.086Z"
   },
   {
    "duration": 16,
    "start_time": "2022-07-02T14:16:54.131Z"
   },
   {
    "duration": 379,
    "start_time": "2022-07-02T14:16:54.148Z"
   },
   {
    "duration": 5,
    "start_time": "2022-07-02T14:16:54.529Z"
   },
   {
    "duration": 21,
    "start_time": "2022-07-02T14:16:54.536Z"
   },
   {
    "duration": 11,
    "start_time": "2022-07-02T14:16:54.558Z"
   },
   {
    "duration": 29,
    "start_time": "2022-07-02T14:16:54.570Z"
   },
   {
    "duration": 290,
    "start_time": "2022-07-02T14:16:54.600Z"
   },
   {
    "duration": 21,
    "start_time": "2022-07-02T14:16:54.891Z"
   },
   {
    "duration": 14,
    "start_time": "2022-07-02T14:16:54.925Z"
   },
   {
    "duration": 3,
    "start_time": "2022-07-02T14:16:54.941Z"
   },
   {
    "duration": 195,
    "start_time": "2022-07-02T14:16:54.946Z"
   },
   {
    "duration": 6,
    "start_time": "2022-07-02T14:16:55.143Z"
   },
   {
    "duration": 14,
    "start_time": "2022-07-02T14:16:55.150Z"
   },
   {
    "duration": 7,
    "start_time": "2022-07-02T14:16:55.166Z"
   },
   {
    "duration": 273,
    "start_time": "2022-07-02T14:16:55.175Z"
   },
   {
    "duration": 5,
    "start_time": "2022-07-02T14:16:55.450Z"
   },
   {
    "duration": 8,
    "start_time": "2022-07-02T14:16:55.456Z"
   },
   {
    "duration": 240,
    "start_time": "2022-07-02T14:16:55.465Z"
   },
   {
    "duration": 5,
    "start_time": "2022-07-02T14:16:55.707Z"
   },
   {
    "duration": 12,
    "start_time": "2022-07-02T14:16:55.713Z"
   },
   {
    "duration": 243,
    "start_time": "2022-07-02T14:16:55.727Z"
   },
   {
    "duration": 6,
    "start_time": "2022-07-02T14:16:55.972Z"
   },
   {
    "duration": 11,
    "start_time": "2022-07-02T14:16:55.980Z"
   },
   {
    "duration": 319,
    "start_time": "2022-07-02T14:16:55.992Z"
   },
   {
    "duration": 12,
    "start_time": "2022-07-02T14:16:56.313Z"
   },
   {
    "duration": 7,
    "start_time": "2022-07-02T14:16:56.327Z"
   },
   {
    "duration": 227,
    "start_time": "2022-07-02T14:16:56.335Z"
   },
   {
    "duration": 5,
    "start_time": "2022-07-02T14:16:56.563Z"
   },
   {
    "duration": 7,
    "start_time": "2022-07-02T14:16:56.569Z"
   },
   {
    "duration": 14,
    "start_time": "2022-07-02T14:16:56.578Z"
   },
   {
    "duration": 33,
    "start_time": "2022-07-02T14:16:56.593Z"
   },
   {
    "duration": 15,
    "start_time": "2022-07-02T14:16:56.628Z"
   },
   {
    "duration": 116,
    "start_time": "2022-07-02T14:16:56.644Z"
   },
   {
    "duration": 17,
    "start_time": "2022-07-02T14:17:18.345Z"
   },
   {
    "duration": 158,
    "start_time": "2022-07-02T14:21:10.403Z"
   },
   {
    "duration": 19,
    "start_time": "2022-07-02T14:21:31.801Z"
   },
   {
    "duration": 20,
    "start_time": "2022-07-02T14:21:38.122Z"
   },
   {
    "duration": 146,
    "start_time": "2022-07-02T14:21:41.271Z"
   },
   {
    "duration": 1138,
    "start_time": "2022-07-02T14:21:58.641Z"
   },
   {
    "duration": 62,
    "start_time": "2022-07-02T14:21:59.781Z"
   },
   {
    "duration": 15,
    "start_time": "2022-07-02T14:21:59.845Z"
   },
   {
    "duration": 9,
    "start_time": "2022-07-02T14:21:59.862Z"
   },
   {
    "duration": 4,
    "start_time": "2022-07-02T14:21:59.873Z"
   },
   {
    "duration": 13,
    "start_time": "2022-07-02T14:21:59.879Z"
   },
   {
    "duration": 5,
    "start_time": "2022-07-02T14:21:59.894Z"
   },
   {
    "duration": 24,
    "start_time": "2022-07-02T14:21:59.900Z"
   },
   {
    "duration": 9,
    "start_time": "2022-07-02T14:21:59.926Z"
   },
   {
    "duration": 5,
    "start_time": "2022-07-02T14:21:59.938Z"
   },
   {
    "duration": 6,
    "start_time": "2022-07-02T14:21:59.944Z"
   },
   {
    "duration": 23,
    "start_time": "2022-07-02T14:21:59.952Z"
   },
   {
    "duration": 3,
    "start_time": "2022-07-02T14:21:59.977Z"
   },
   {
    "duration": 13,
    "start_time": "2022-07-02T14:21:59.982Z"
   },
   {
    "duration": 27,
    "start_time": "2022-07-02T14:21:59.997Z"
   },
   {
    "duration": 10,
    "start_time": "2022-07-02T14:22:00.026Z"
   },
   {
    "duration": 15,
    "start_time": "2022-07-02T14:22:00.038Z"
   },
   {
    "duration": 10,
    "start_time": "2022-07-02T14:22:00.054Z"
   },
   {
    "duration": 29,
    "start_time": "2022-07-02T14:22:00.066Z"
   },
   {
    "duration": 40,
    "start_time": "2022-07-02T14:22:00.096Z"
   },
   {
    "duration": 374,
    "start_time": "2022-07-02T14:22:00.138Z"
   },
   {
    "duration": 12,
    "start_time": "2022-07-02T14:22:00.513Z"
   },
   {
    "duration": 19,
    "start_time": "2022-07-02T14:22:00.526Z"
   },
   {
    "duration": 8,
    "start_time": "2022-07-02T14:22:00.546Z"
   },
   {
    "duration": 37,
    "start_time": "2022-07-02T14:22:00.555Z"
   },
   {
    "duration": 315,
    "start_time": "2022-07-02T14:22:00.593Z"
   },
   {
    "duration": 33,
    "start_time": "2022-07-02T14:22:00.910Z"
   },
   {
    "duration": 15,
    "start_time": "2022-07-02T14:22:00.946Z"
   },
   {
    "duration": 18,
    "start_time": "2022-07-02T14:22:00.963Z"
   },
   {
    "duration": 195,
    "start_time": "2022-07-02T14:22:00.983Z"
   },
   {
    "duration": 5,
    "start_time": "2022-07-02T14:22:01.181Z"
   },
   {
    "duration": 26,
    "start_time": "2022-07-02T14:22:01.188Z"
   },
   {
    "duration": 21,
    "start_time": "2022-07-02T14:22:01.223Z"
   },
   {
    "duration": 248,
    "start_time": "2022-07-02T14:22:01.246Z"
   },
   {
    "duration": 5,
    "start_time": "2022-07-02T14:22:01.496Z"
   },
   {
    "duration": 55,
    "start_time": "2022-07-02T14:22:01.502Z"
   },
   {
    "duration": 272,
    "start_time": "2022-07-02T14:22:01.558Z"
   },
   {
    "duration": 5,
    "start_time": "2022-07-02T14:22:01.832Z"
   },
   {
    "duration": 13,
    "start_time": "2022-07-02T14:22:01.839Z"
   },
   {
    "duration": 236,
    "start_time": "2022-07-02T14:22:01.854Z"
   },
   {
    "duration": 5,
    "start_time": "2022-07-02T14:22:02.091Z"
   },
   {
    "duration": 40,
    "start_time": "2022-07-02T14:22:02.098Z"
   },
   {
    "duration": 314,
    "start_time": "2022-07-02T14:22:02.139Z"
   },
   {
    "duration": 5,
    "start_time": "2022-07-02T14:22:02.454Z"
   },
   {
    "duration": 10,
    "start_time": "2022-07-02T14:22:02.460Z"
   },
   {
    "duration": 264,
    "start_time": "2022-07-02T14:22:02.472Z"
   },
   {
    "duration": 6,
    "start_time": "2022-07-02T14:22:02.738Z"
   },
   {
    "duration": 13,
    "start_time": "2022-07-02T14:22:02.746Z"
   },
   {
    "duration": 26,
    "start_time": "2022-07-02T14:22:02.760Z"
   },
   {
    "duration": 36,
    "start_time": "2022-07-02T14:22:02.788Z"
   },
   {
    "duration": 178,
    "start_time": "2022-07-02T14:22:02.826Z"
   },
   {
    "duration": 20,
    "start_time": "2022-07-02T14:22:03.005Z"
   },
   {
    "duration": 22,
    "start_time": "2022-07-02T14:22:03.027Z"
   },
   {
    "duration": 144,
    "start_time": "2022-07-02T14:22:18.730Z"
   },
   {
    "duration": 541,
    "start_time": "2022-07-02T14:22:54.712Z"
   },
   {
    "duration": 571,
    "start_time": "2022-07-02T14:23:08.921Z"
   },
   {
    "duration": 165,
    "start_time": "2022-07-02T14:23:22.674Z"
   },
   {
    "duration": 162,
    "start_time": "2022-07-02T14:23:29.564Z"
   },
   {
    "duration": 175,
    "start_time": "2022-07-02T14:23:55.334Z"
   },
   {
    "duration": 249,
    "start_time": "2022-07-02T14:24:47.374Z"
   },
   {
    "duration": 165,
    "start_time": "2022-07-02T14:26:21.510Z"
   },
   {
    "duration": 1503,
    "start_time": "2022-07-02T16:12:21.326Z"
   },
   {
    "duration": 99,
    "start_time": "2022-07-02T16:12:22.831Z"
   },
   {
    "duration": 16,
    "start_time": "2022-07-02T16:12:22.932Z"
   },
   {
    "duration": 11,
    "start_time": "2022-07-02T16:12:22.949Z"
   },
   {
    "duration": 12,
    "start_time": "2022-07-02T16:12:22.962Z"
   },
   {
    "duration": 22,
    "start_time": "2022-07-02T16:12:22.976Z"
   },
   {
    "duration": 6,
    "start_time": "2022-07-02T16:12:23.000Z"
   },
   {
    "duration": 33,
    "start_time": "2022-07-02T16:12:23.008Z"
   },
   {
    "duration": 17,
    "start_time": "2022-07-02T16:12:23.043Z"
   },
   {
    "duration": 21,
    "start_time": "2022-07-02T16:12:23.062Z"
   },
   {
    "duration": 10,
    "start_time": "2022-07-02T16:12:23.085Z"
   },
   {
    "duration": 33,
    "start_time": "2022-07-02T16:12:23.097Z"
   },
   {
    "duration": 5,
    "start_time": "2022-07-02T16:12:23.131Z"
   },
   {
    "duration": 13,
    "start_time": "2022-07-02T16:12:23.139Z"
   },
   {
    "duration": 12,
    "start_time": "2022-07-02T16:12:23.153Z"
   },
   {
    "duration": 22,
    "start_time": "2022-07-02T16:12:23.166Z"
   },
   {
    "duration": 30,
    "start_time": "2022-07-02T16:12:23.190Z"
   },
   {
    "duration": 12,
    "start_time": "2022-07-02T16:12:23.221Z"
   },
   {
    "duration": 33,
    "start_time": "2022-07-02T16:12:23.235Z"
   },
   {
    "duration": 16,
    "start_time": "2022-07-02T16:12:23.270Z"
   },
   {
    "duration": 377,
    "start_time": "2022-07-02T16:12:23.287Z"
   },
   {
    "duration": 5,
    "start_time": "2022-07-02T16:12:23.666Z"
   },
   {
    "duration": 19,
    "start_time": "2022-07-02T16:12:23.673Z"
   },
   {
    "duration": 16,
    "start_time": "2022-07-02T16:12:23.694Z"
   },
   {
    "duration": 34,
    "start_time": "2022-07-02T16:12:23.712Z"
   },
   {
    "duration": 305,
    "start_time": "2022-07-02T16:12:23.748Z"
   },
   {
    "duration": 22,
    "start_time": "2022-07-02T16:12:24.056Z"
   },
   {
    "duration": 14,
    "start_time": "2022-07-02T16:12:24.079Z"
   },
   {
    "duration": 12,
    "start_time": "2022-07-02T16:12:24.095Z"
   },
   {
    "duration": 199,
    "start_time": "2022-07-02T16:12:24.109Z"
   },
   {
    "duration": 4,
    "start_time": "2022-07-02T16:12:24.310Z"
   },
   {
    "duration": 13,
    "start_time": "2022-07-02T16:12:24.326Z"
   },
   {
    "duration": 10,
    "start_time": "2022-07-02T16:12:24.340Z"
   },
   {
    "duration": 315,
    "start_time": "2022-07-02T16:12:24.352Z"
   },
   {
    "duration": 7,
    "start_time": "2022-07-02T16:12:24.669Z"
   },
   {
    "duration": 44,
    "start_time": "2022-07-02T16:12:24.678Z"
   },
   {
    "duration": 224,
    "start_time": "2022-07-02T16:12:24.724Z"
   },
   {
    "duration": 5,
    "start_time": "2022-07-02T16:12:24.950Z"
   },
   {
    "duration": 13,
    "start_time": "2022-07-02T16:12:24.957Z"
   },
   {
    "duration": 244,
    "start_time": "2022-07-02T16:12:24.971Z"
   },
   {
    "duration": 10,
    "start_time": "2022-07-02T16:12:25.218Z"
   },
   {
    "duration": 7,
    "start_time": "2022-07-02T16:12:25.230Z"
   },
   {
    "duration": 306,
    "start_time": "2022-07-02T16:12:25.239Z"
   },
   {
    "duration": 5,
    "start_time": "2022-07-02T16:12:25.546Z"
   },
   {
    "duration": 11,
    "start_time": "2022-07-02T16:12:25.553Z"
   },
   {
    "duration": 227,
    "start_time": "2022-07-02T16:12:25.566Z"
   },
   {
    "duration": 5,
    "start_time": "2022-07-02T16:12:25.795Z"
   },
   {
    "duration": 10,
    "start_time": "2022-07-02T16:12:25.801Z"
   },
   {
    "duration": 15,
    "start_time": "2022-07-02T16:12:25.825Z"
   },
   {
    "duration": 17,
    "start_time": "2022-07-02T16:12:25.842Z"
   },
   {
    "duration": 187,
    "start_time": "2022-07-02T16:12:25.861Z"
   },
   {
    "duration": 18,
    "start_time": "2022-07-02T16:12:26.050Z"
   },
   {
    "duration": 196,
    "start_time": "2022-07-02T16:12:26.069Z"
   },
   {
    "duration": 23,
    "start_time": "2022-07-02T16:12:26.267Z"
   },
   {
    "duration": 186,
    "start_time": "2022-07-02T16:12:26.292Z"
   },
   {
    "duration": 118,
    "start_time": "2022-07-02T16:15:54.758Z"
   },
   {
    "duration": 28,
    "start_time": "2022-07-02T16:16:18.483Z"
   },
   {
    "duration": 37,
    "start_time": "2022-07-02T16:16:31.404Z"
   },
   {
    "duration": 19,
    "start_time": "2022-07-02T16:16:57.645Z"
   },
   {
    "duration": 21,
    "start_time": "2022-07-02T16:17:26.744Z"
   },
   {
    "duration": 26,
    "start_time": "2022-07-02T16:18:00.043Z"
   },
   {
    "duration": 20,
    "start_time": "2022-07-02T16:19:00.316Z"
   },
   {
    "duration": 18,
    "start_time": "2022-07-02T16:19:10.902Z"
   },
   {
    "duration": 188,
    "start_time": "2022-07-02T16:19:18.084Z"
   },
   {
    "duration": 19,
    "start_time": "2022-07-02T16:23:07.784Z"
   },
   {
    "duration": 208,
    "start_time": "2022-07-02T16:23:40.076Z"
   },
   {
    "duration": 28,
    "start_time": "2022-07-02T16:25:09.117Z"
   },
   {
    "duration": 219,
    "start_time": "2022-07-02T16:25:30.985Z"
   },
   {
    "duration": 9,
    "start_time": "2022-07-02T16:31:24.427Z"
   },
   {
    "duration": 33,
    "start_time": "2022-07-02T16:32:14.515Z"
   },
   {
    "duration": 19,
    "start_time": "2022-07-02T16:32:21.042Z"
   },
   {
    "duration": 21,
    "start_time": "2022-07-02T16:32:29.739Z"
   },
   {
    "duration": 19,
    "start_time": "2022-07-02T16:35:12.911Z"
   },
   {
    "duration": 30,
    "start_time": "2022-07-02T16:35:23.109Z"
   },
   {
    "duration": 1147,
    "start_time": "2022-07-02T16:35:50.342Z"
   },
   {
    "duration": 74,
    "start_time": "2022-07-02T16:35:51.492Z"
   },
   {
    "duration": 15,
    "start_time": "2022-07-02T16:35:51.569Z"
   },
   {
    "duration": 13,
    "start_time": "2022-07-02T16:35:51.586Z"
   },
   {
    "duration": 7,
    "start_time": "2022-07-02T16:35:51.600Z"
   },
   {
    "duration": 21,
    "start_time": "2022-07-02T16:35:51.609Z"
   },
   {
    "duration": 28,
    "start_time": "2022-07-02T16:35:51.632Z"
   },
   {
    "duration": 13,
    "start_time": "2022-07-02T16:35:51.661Z"
   },
   {
    "duration": 6,
    "start_time": "2022-07-02T16:35:51.676Z"
   },
   {
    "duration": 6,
    "start_time": "2022-07-02T16:35:51.684Z"
   },
   {
    "duration": 5,
    "start_time": "2022-07-02T16:35:51.693Z"
   },
   {
    "duration": 20,
    "start_time": "2022-07-02T16:35:51.700Z"
   },
   {
    "duration": 8,
    "start_time": "2022-07-02T16:35:51.722Z"
   },
   {
    "duration": 26,
    "start_time": "2022-07-02T16:35:51.731Z"
   },
   {
    "duration": 8,
    "start_time": "2022-07-02T16:35:51.759Z"
   },
   {
    "duration": 7,
    "start_time": "2022-07-02T16:35:51.769Z"
   },
   {
    "duration": 18,
    "start_time": "2022-07-02T16:35:51.778Z"
   },
   {
    "duration": 9,
    "start_time": "2022-07-02T16:35:51.798Z"
   },
   {
    "duration": 38,
    "start_time": "2022-07-02T16:35:51.808Z"
   },
   {
    "duration": 16,
    "start_time": "2022-07-02T16:35:51.848Z"
   },
   {
    "duration": 396,
    "start_time": "2022-07-02T16:35:51.865Z"
   },
   {
    "duration": 7,
    "start_time": "2022-07-02T16:35:52.263Z"
   },
   {
    "duration": 23,
    "start_time": "2022-07-02T16:35:52.272Z"
   },
   {
    "duration": 9,
    "start_time": "2022-07-02T16:35:52.297Z"
   },
   {
    "duration": 59,
    "start_time": "2022-07-02T16:35:52.308Z"
   },
   {
    "duration": 312,
    "start_time": "2022-07-02T16:35:52.369Z"
   },
   {
    "duration": 32,
    "start_time": "2022-07-02T16:35:52.683Z"
   },
   {
    "duration": 49,
    "start_time": "2022-07-02T16:35:52.717Z"
   },
   {
    "duration": 5,
    "start_time": "2022-07-02T16:35:52.768Z"
   },
   {
    "duration": 214,
    "start_time": "2022-07-02T16:35:52.774Z"
   },
   {
    "duration": 6,
    "start_time": "2022-07-02T16:35:52.990Z"
   },
   {
    "duration": 36,
    "start_time": "2022-07-02T16:35:53.000Z"
   },
   {
    "duration": 9,
    "start_time": "2022-07-02T16:35:53.041Z"
   },
   {
    "duration": 243,
    "start_time": "2022-07-02T16:35:53.052Z"
   },
   {
    "duration": 5,
    "start_time": "2022-07-02T16:35:53.296Z"
   },
   {
    "duration": 18,
    "start_time": "2022-07-02T16:35:53.303Z"
   },
   {
    "duration": 262,
    "start_time": "2022-07-02T16:35:53.322Z"
   },
   {
    "duration": 10,
    "start_time": "2022-07-02T16:35:53.586Z"
   },
   {
    "duration": 13,
    "start_time": "2022-07-02T16:35:53.598Z"
   },
   {
    "duration": 242,
    "start_time": "2022-07-02T16:35:53.613Z"
   },
   {
    "duration": 6,
    "start_time": "2022-07-02T16:35:53.857Z"
   },
   {
    "duration": 6,
    "start_time": "2022-07-02T16:35:53.864Z"
   },
   {
    "duration": 317,
    "start_time": "2022-07-02T16:35:53.872Z"
   },
   {
    "duration": 6,
    "start_time": "2022-07-02T16:35:54.190Z"
   },
   {
    "duration": 7,
    "start_time": "2022-07-02T16:35:54.197Z"
   },
   {
    "duration": 269,
    "start_time": "2022-07-02T16:35:54.206Z"
   },
   {
    "duration": 7,
    "start_time": "2022-07-02T16:35:54.477Z"
   },
   {
    "duration": 7,
    "start_time": "2022-07-02T16:35:54.486Z"
   },
   {
    "duration": 41,
    "start_time": "2022-07-02T16:35:54.495Z"
   },
   {
    "duration": 27,
    "start_time": "2022-07-02T16:35:54.538Z"
   },
   {
    "duration": 217,
    "start_time": "2022-07-02T16:35:54.567Z"
   },
   {
    "duration": 18,
    "start_time": "2022-07-02T16:35:54.786Z"
   },
   {
    "duration": 198,
    "start_time": "2022-07-02T16:35:54.806Z"
   },
   {
    "duration": 37,
    "start_time": "2022-07-02T16:35:55.006Z"
   },
   {
    "duration": 183,
    "start_time": "2022-07-02T16:35:55.045Z"
   },
   {
    "duration": 20,
    "start_time": "2022-07-02T16:35:55.234Z"
   },
   {
    "duration": 196,
    "start_time": "2022-07-02T16:35:55.255Z"
   },
   {
    "duration": 18,
    "start_time": "2022-07-02T16:35:55.453Z"
   },
   {
    "duration": 226,
    "start_time": "2022-07-02T16:35:55.473Z"
   },
   {
    "duration": 27,
    "start_time": "2022-07-02T16:35:55.701Z"
   },
   {
    "duration": 210,
    "start_time": "2022-07-02T16:35:55.731Z"
   },
   {
    "duration": 130,
    "start_time": "2022-07-02T16:35:55.943Z"
   },
   {
    "duration": 20,
    "start_time": "2022-07-02T16:36:13.765Z"
   },
   {
    "duration": 18,
    "start_time": "2022-07-02T16:36:52.240Z"
   },
   {
    "duration": 27,
    "start_time": "2022-07-02T16:37:00.415Z"
   },
   {
    "duration": 190,
    "start_time": "2022-07-02T16:38:23.699Z"
   },
   {
    "duration": 24,
    "start_time": "2022-07-02T16:39:54.782Z"
   },
   {
    "duration": 178,
    "start_time": "2022-07-02T16:40:26.485Z"
   },
   {
    "duration": 18,
    "start_time": "2022-07-02T16:42:05.151Z"
   },
   {
    "duration": 185,
    "start_time": "2022-07-02T16:42:21.299Z"
   },
   {
    "duration": 56,
    "start_time": "2022-07-02T16:56:56.550Z"
   },
   {
    "duration": 30,
    "start_time": "2022-07-02T17:01:27.255Z"
   },
   {
    "duration": 10,
    "start_time": "2022-07-02T17:02:54.889Z"
   },
   {
    "duration": 4,
    "start_time": "2022-07-02T17:03:28.493Z"
   },
   {
    "duration": 8,
    "start_time": "2022-07-02T17:03:30.990Z"
   },
   {
    "duration": 6,
    "start_time": "2022-07-02T17:05:09.515Z"
   },
   {
    "duration": 9,
    "start_time": "2022-07-02T17:08:00.762Z"
   },
   {
    "duration": 6,
    "start_time": "2022-07-02T17:08:02.716Z"
   },
   {
    "duration": 7,
    "start_time": "2022-07-02T17:08:04.581Z"
   },
   {
    "duration": 152,
    "start_time": "2022-07-02T17:08:14.602Z"
   },
   {
    "duration": 15,
    "start_time": "2022-07-02T17:08:26.704Z"
   },
   {
    "duration": 11,
    "start_time": "2022-07-02T17:08:31.973Z"
   },
   {
    "duration": 31,
    "start_time": "2022-07-02T17:08:51.004Z"
   },
   {
    "duration": 25,
    "start_time": "2022-07-02T17:09:12.079Z"
   },
   {
    "duration": 25,
    "start_time": "2022-07-02T17:09:17.981Z"
   },
   {
    "duration": 6,
    "start_time": "2022-07-02T17:09:22.895Z"
   },
   {
    "duration": 6,
    "start_time": "2022-07-02T17:09:25.581Z"
   },
   {
    "duration": 1180,
    "start_time": "2022-07-02T17:09:47.082Z"
   },
   {
    "duration": 78,
    "start_time": "2022-07-02T17:09:48.265Z"
   },
   {
    "duration": 14,
    "start_time": "2022-07-02T17:09:48.345Z"
   },
   {
    "duration": 10,
    "start_time": "2022-07-02T17:09:48.361Z"
   },
   {
    "duration": 13,
    "start_time": "2022-07-02T17:09:48.373Z"
   },
   {
    "duration": 16,
    "start_time": "2022-07-02T17:09:48.387Z"
   },
   {
    "duration": 8,
    "start_time": "2022-07-02T17:09:48.405Z"
   },
   {
    "duration": 23,
    "start_time": "2022-07-02T17:09:48.414Z"
   },
   {
    "duration": 8,
    "start_time": "2022-07-02T17:09:48.439Z"
   },
   {
    "duration": 5,
    "start_time": "2022-07-02T17:09:48.449Z"
   },
   {
    "duration": 6,
    "start_time": "2022-07-02T17:09:48.456Z"
   },
   {
    "duration": 23,
    "start_time": "2022-07-02T17:09:48.464Z"
   },
   {
    "duration": 4,
    "start_time": "2022-07-02T17:09:48.488Z"
   },
   {
    "duration": 9,
    "start_time": "2022-07-02T17:09:48.494Z"
   },
   {
    "duration": 19,
    "start_time": "2022-07-02T17:09:48.504Z"
   },
   {
    "duration": 22,
    "start_time": "2022-07-02T17:09:48.525Z"
   },
   {
    "duration": 33,
    "start_time": "2022-07-02T17:09:48.549Z"
   },
   {
    "duration": 9,
    "start_time": "2022-07-02T17:09:48.584Z"
   },
   {
    "duration": 30,
    "start_time": "2022-07-02T17:09:48.595Z"
   },
   {
    "duration": 15,
    "start_time": "2022-07-02T17:09:48.637Z"
   },
   {
    "duration": 386,
    "start_time": "2022-07-02T17:09:48.654Z"
   },
   {
    "duration": 5,
    "start_time": "2022-07-02T17:09:49.042Z"
   },
   {
    "duration": 15,
    "start_time": "2022-07-02T17:09:49.049Z"
   },
   {
    "duration": 8,
    "start_time": "2022-07-02T17:09:49.066Z"
   },
   {
    "duration": 26,
    "start_time": "2022-07-02T17:09:49.076Z"
   },
   {
    "duration": 318,
    "start_time": "2022-07-02T17:09:49.104Z"
   },
   {
    "duration": 27,
    "start_time": "2022-07-02T17:09:49.427Z"
   },
   {
    "duration": 16,
    "start_time": "2022-07-02T17:09:49.458Z"
   },
   {
    "duration": 10,
    "start_time": "2022-07-02T17:09:49.475Z"
   },
   {
    "duration": 207,
    "start_time": "2022-07-02T17:09:49.486Z"
   },
   {
    "duration": 5,
    "start_time": "2022-07-02T17:09:49.695Z"
   },
   {
    "duration": 26,
    "start_time": "2022-07-02T17:09:49.702Z"
   },
   {
    "duration": 8,
    "start_time": "2022-07-02T17:09:49.741Z"
   },
   {
    "duration": 265,
    "start_time": "2022-07-02T17:09:49.750Z"
   },
   {
    "duration": 13,
    "start_time": "2022-07-02T17:09:50.017Z"
   },
   {
    "duration": 22,
    "start_time": "2022-07-02T17:09:50.034Z"
   },
   {
    "duration": 300,
    "start_time": "2022-07-02T17:09:50.058Z"
   },
   {
    "duration": 6,
    "start_time": "2022-07-02T17:09:50.360Z"
   },
   {
    "duration": 28,
    "start_time": "2022-07-02T17:09:50.367Z"
   },
   {
    "duration": 247,
    "start_time": "2022-07-02T17:09:50.397Z"
   },
   {
    "duration": 6,
    "start_time": "2022-07-02T17:09:50.645Z"
   },
   {
    "duration": 10,
    "start_time": "2022-07-02T17:09:50.653Z"
   },
   {
    "duration": 319,
    "start_time": "2022-07-02T17:09:50.665Z"
   },
   {
    "duration": 5,
    "start_time": "2022-07-02T17:09:50.986Z"
   },
   {
    "duration": 9,
    "start_time": "2022-07-02T17:09:50.993Z"
   },
   {
    "duration": 255,
    "start_time": "2022-07-02T17:09:51.004Z"
   },
   {
    "duration": 7,
    "start_time": "2022-07-02T17:09:51.261Z"
   },
   {
    "duration": 21,
    "start_time": "2022-07-02T17:09:51.270Z"
   },
   {
    "duration": 23,
    "start_time": "2022-07-02T17:09:51.293Z"
   },
   {
    "duration": 21,
    "start_time": "2022-07-02T17:09:51.318Z"
   },
   {
    "duration": 198,
    "start_time": "2022-07-02T17:09:51.345Z"
   },
   {
    "duration": 21,
    "start_time": "2022-07-02T17:09:51.545Z"
   },
   {
    "duration": 206,
    "start_time": "2022-07-02T17:09:51.568Z"
   },
   {
    "duration": 19,
    "start_time": "2022-07-02T17:09:51.775Z"
   },
   {
    "duration": 212,
    "start_time": "2022-07-02T17:09:51.796Z"
   },
   {
    "duration": 35,
    "start_time": "2022-07-02T17:09:52.009Z"
   },
   {
    "duration": 198,
    "start_time": "2022-07-02T17:09:52.045Z"
   },
   {
    "duration": 21,
    "start_time": "2022-07-02T17:09:52.245Z"
   },
   {
    "duration": 214,
    "start_time": "2022-07-02T17:09:52.268Z"
   },
   {
    "duration": 18,
    "start_time": "2022-07-02T17:09:52.484Z"
   },
   {
    "duration": 198,
    "start_time": "2022-07-02T17:09:52.503Z"
   },
   {
    "duration": 41,
    "start_time": "2022-07-02T17:09:52.703Z"
   },
   {
    "duration": 193,
    "start_time": "2022-07-02T17:09:52.745Z"
   },
   {
    "duration": 19,
    "start_time": "2022-07-02T17:09:52.941Z"
   },
   {
    "duration": 192,
    "start_time": "2022-07-02T17:09:52.962Z"
   },
   {
    "duration": 19,
    "start_time": "2022-07-02T17:09:53.156Z"
   },
   {
    "duration": 191,
    "start_time": "2022-07-02T17:09:53.176Z"
   },
   {
    "duration": 4,
    "start_time": "2022-07-02T17:09:53.369Z"
   },
   {
    "duration": 15,
    "start_time": "2022-07-02T17:09:53.375Z"
   },
   {
    "duration": 20,
    "start_time": "2022-07-02T17:09:53.392Z"
   },
   {
    "duration": 13,
    "start_time": "2022-07-02T17:09:53.413Z"
   },
   {
    "duration": 1128,
    "start_time": "2022-07-02T17:12:55.685Z"
   },
   {
    "duration": 74,
    "start_time": "2022-07-02T17:12:56.814Z"
   },
   {
    "duration": 15,
    "start_time": "2022-07-02T17:12:56.890Z"
   },
   {
    "duration": 8,
    "start_time": "2022-07-02T17:12:56.907Z"
   },
   {
    "duration": 8,
    "start_time": "2022-07-02T17:12:56.917Z"
   },
   {
    "duration": 14,
    "start_time": "2022-07-02T17:12:56.937Z"
   },
   {
    "duration": 6,
    "start_time": "2022-07-02T17:12:56.953Z"
   },
   {
    "duration": 8,
    "start_time": "2022-07-02T17:12:56.961Z"
   },
   {
    "duration": 8,
    "start_time": "2022-07-02T17:12:56.971Z"
   },
   {
    "duration": 17,
    "start_time": "2022-07-02T17:12:56.982Z"
   },
   {
    "duration": 11,
    "start_time": "2022-07-02T17:12:57.000Z"
   },
   {
    "duration": 36,
    "start_time": "2022-07-02T17:12:57.012Z"
   },
   {
    "duration": 5,
    "start_time": "2022-07-02T17:12:57.050Z"
   },
   {
    "duration": 38,
    "start_time": "2022-07-02T17:12:57.057Z"
   },
   {
    "duration": 14,
    "start_time": "2022-07-02T17:12:57.097Z"
   },
   {
    "duration": 11,
    "start_time": "2022-07-02T17:12:57.113Z"
   },
   {
    "duration": 28,
    "start_time": "2022-07-02T17:12:57.130Z"
   },
   {
    "duration": 26,
    "start_time": "2022-07-02T17:12:57.159Z"
   },
   {
    "duration": 58,
    "start_time": "2022-07-02T17:12:57.187Z"
   },
   {
    "duration": 35,
    "start_time": "2022-07-02T17:12:57.247Z"
   },
   {
    "duration": 408,
    "start_time": "2022-07-02T17:12:57.284Z"
   },
   {
    "duration": 5,
    "start_time": "2022-07-02T17:12:57.694Z"
   },
   {
    "duration": 27,
    "start_time": "2022-07-02T17:12:57.700Z"
   },
   {
    "duration": 12,
    "start_time": "2022-07-02T17:12:57.729Z"
   },
   {
    "duration": 33,
    "start_time": "2022-07-02T17:12:57.742Z"
   },
   {
    "duration": 306,
    "start_time": "2022-07-02T17:12:57.777Z"
   },
   {
    "duration": 23,
    "start_time": "2022-07-02T17:12:58.085Z"
   },
   {
    "duration": 19,
    "start_time": "2022-07-02T17:12:58.129Z"
   },
   {
    "duration": 12,
    "start_time": "2022-07-02T17:12:58.149Z"
   },
   {
    "duration": 215,
    "start_time": "2022-07-02T17:12:58.163Z"
   },
   {
    "duration": 5,
    "start_time": "2022-07-02T17:12:58.380Z"
   },
   {
    "duration": 16,
    "start_time": "2022-07-02T17:12:58.386Z"
   },
   {
    "duration": 29,
    "start_time": "2022-07-02T17:12:58.404Z"
   },
   {
    "duration": 239,
    "start_time": "2022-07-02T17:12:58.440Z"
   },
   {
    "duration": 4,
    "start_time": "2022-07-02T17:12:58.681Z"
   },
   {
    "duration": 9,
    "start_time": "2022-07-02T17:12:58.687Z"
   },
   {
    "duration": 247,
    "start_time": "2022-07-02T17:12:58.697Z"
   },
   {
    "duration": 5,
    "start_time": "2022-07-02T17:12:58.946Z"
   },
   {
    "duration": 9,
    "start_time": "2022-07-02T17:12:58.952Z"
   },
   {
    "duration": 232,
    "start_time": "2022-07-02T17:12:58.963Z"
   },
   {
    "duration": 5,
    "start_time": "2022-07-02T17:12:59.197Z"
   },
   {
    "duration": 8,
    "start_time": "2022-07-02T17:12:59.203Z"
   },
   {
    "duration": 316,
    "start_time": "2022-07-02T17:12:59.235Z"
   },
   {
    "duration": 5,
    "start_time": "2022-07-02T17:12:59.553Z"
   },
   {
    "duration": 18,
    "start_time": "2022-07-02T17:12:59.560Z"
   },
   {
    "duration": 240,
    "start_time": "2022-07-02T17:12:59.580Z"
   },
   {
    "duration": 14,
    "start_time": "2022-07-02T17:12:59.826Z"
   },
   {
    "duration": 13,
    "start_time": "2022-07-02T17:12:59.841Z"
   },
   {
    "duration": 20,
    "start_time": "2022-07-02T17:12:59.856Z"
   },
   {
    "duration": 22,
    "start_time": "2022-07-02T17:12:59.878Z"
   },
   {
    "duration": 183,
    "start_time": "2022-07-02T17:12:59.902Z"
   },
   {
    "duration": 22,
    "start_time": "2022-07-02T17:13:00.087Z"
   },
   {
    "duration": 223,
    "start_time": "2022-07-02T17:13:00.110Z"
   },
   {
    "duration": 21,
    "start_time": "2022-07-02T17:13:00.338Z"
   },
   {
    "duration": 198,
    "start_time": "2022-07-02T17:13:00.361Z"
   },
   {
    "duration": 18,
    "start_time": "2022-07-02T17:13:00.561Z"
   },
   {
    "duration": 213,
    "start_time": "2022-07-02T17:13:00.581Z"
   },
   {
    "duration": 31,
    "start_time": "2022-07-02T17:13:00.796Z"
   },
   {
    "duration": 226,
    "start_time": "2022-07-02T17:13:00.829Z"
   },
   {
    "duration": 18,
    "start_time": "2022-07-02T17:13:01.057Z"
   },
   {
    "duration": 228,
    "start_time": "2022-07-02T17:13:01.077Z"
   },
   {
    "duration": 39,
    "start_time": "2022-07-02T17:13:01.307Z"
   },
   {
    "duration": 244,
    "start_time": "2022-07-02T17:13:01.348Z"
   },
   {
    "duration": 46,
    "start_time": "2022-07-02T17:13:01.595Z"
   },
   {
    "duration": 211,
    "start_time": "2022-07-02T17:13:01.643Z"
   },
   {
    "duration": 18,
    "start_time": "2022-07-02T17:13:01.855Z"
   },
   {
    "duration": 213,
    "start_time": "2022-07-02T17:13:01.875Z"
   },
   {
    "duration": 4,
    "start_time": "2022-07-02T17:13:02.090Z"
   },
   {
    "duration": 23,
    "start_time": "2022-07-02T17:13:02.096Z"
   },
   {
    "duration": 63,
    "start_time": "2022-07-02T17:13:02.121Z"
   },
   {
    "duration": 15,
    "start_time": "2022-07-02T17:13:02.186Z"
   },
   {
    "duration": 58,
    "start_time": "2022-07-02T17:20:28.927Z"
   },
   {
    "duration": 1248,
    "start_time": "2022-07-02T17:27:39.528Z"
   },
   {
    "duration": 83,
    "start_time": "2022-07-02T17:27:40.778Z"
   },
   {
    "duration": 21,
    "start_time": "2022-07-02T17:27:40.864Z"
   },
   {
    "duration": 12,
    "start_time": "2022-07-02T17:27:40.887Z"
   },
   {
    "duration": 29,
    "start_time": "2022-07-02T17:27:40.901Z"
   },
   {
    "duration": 27,
    "start_time": "2022-07-02T17:27:40.934Z"
   },
   {
    "duration": 12,
    "start_time": "2022-07-02T17:27:40.963Z"
   },
   {
    "duration": 9,
    "start_time": "2022-07-02T17:27:40.977Z"
   },
   {
    "duration": 10,
    "start_time": "2022-07-02T17:27:40.988Z"
   },
   {
    "duration": 8,
    "start_time": "2022-07-02T17:27:41.000Z"
   },
   {
    "duration": 5,
    "start_time": "2022-07-02T17:27:41.010Z"
   },
   {
    "duration": 26,
    "start_time": "2022-07-02T17:27:41.028Z"
   },
   {
    "duration": 6,
    "start_time": "2022-07-02T17:27:41.056Z"
   },
   {
    "duration": 12,
    "start_time": "2022-07-02T17:27:41.064Z"
   },
   {
    "duration": 9,
    "start_time": "2022-07-02T17:27:41.078Z"
   },
   {
    "duration": 13,
    "start_time": "2022-07-02T17:27:41.089Z"
   },
   {
    "duration": 33,
    "start_time": "2022-07-02T17:27:41.125Z"
   },
   {
    "duration": 12,
    "start_time": "2022-07-02T17:27:41.159Z"
   },
   {
    "duration": 36,
    "start_time": "2022-07-02T17:27:41.173Z"
   },
   {
    "duration": 41,
    "start_time": "2022-07-02T17:27:41.211Z"
   },
   {
    "duration": 451,
    "start_time": "2022-07-02T17:27:41.254Z"
   },
   {
    "duration": 6,
    "start_time": "2022-07-02T17:27:41.708Z"
   },
   {
    "duration": 26,
    "start_time": "2022-07-02T17:27:41.715Z"
   },
   {
    "duration": 16,
    "start_time": "2022-07-02T17:27:41.745Z"
   },
   {
    "duration": 32,
    "start_time": "2022-07-02T17:27:41.763Z"
   },
   {
    "duration": 347,
    "start_time": "2022-07-02T17:27:41.797Z"
   },
   {
    "duration": 35,
    "start_time": "2022-07-02T17:27:42.147Z"
   },
   {
    "duration": 20,
    "start_time": "2022-07-02T17:27:42.187Z"
   },
   {
    "duration": 38,
    "start_time": "2022-07-02T17:27:42.210Z"
   },
   {
    "duration": 243,
    "start_time": "2022-07-02T17:27:42.250Z"
   },
   {
    "duration": 5,
    "start_time": "2022-07-02T17:27:42.495Z"
   },
   {
    "duration": 21,
    "start_time": "2022-07-02T17:27:42.502Z"
   },
   {
    "duration": 8,
    "start_time": "2022-07-02T17:27:42.524Z"
   },
   {
    "duration": 276,
    "start_time": "2022-07-02T17:27:42.533Z"
   },
   {
    "duration": 5,
    "start_time": "2022-07-02T17:27:42.811Z"
   },
   {
    "duration": 12,
    "start_time": "2022-07-02T17:27:42.832Z"
   },
   {
    "duration": 263,
    "start_time": "2022-07-02T17:27:42.846Z"
   },
   {
    "duration": 29,
    "start_time": "2022-07-02T17:27:43.111Z"
   },
   {
    "duration": 23,
    "start_time": "2022-07-02T17:27:43.145Z"
   },
   {
    "duration": 287,
    "start_time": "2022-07-02T17:27:43.170Z"
   },
   {
    "duration": 6,
    "start_time": "2022-07-02T17:27:43.458Z"
   },
   {
    "duration": 9,
    "start_time": "2022-07-02T17:27:43.465Z"
   },
   {
    "duration": 383,
    "start_time": "2022-07-02T17:27:43.476Z"
   },
   {
    "duration": 6,
    "start_time": "2022-07-02T17:27:43.861Z"
   },
   {
    "duration": 9,
    "start_time": "2022-07-02T17:27:43.868Z"
   },
   {
    "duration": 287,
    "start_time": "2022-07-02T17:27:43.879Z"
   },
   {
    "duration": 6,
    "start_time": "2022-07-02T17:27:44.167Z"
   },
   {
    "duration": 12,
    "start_time": "2022-07-02T17:27:44.174Z"
   },
   {
    "duration": 43,
    "start_time": "2022-07-02T17:27:44.188Z"
   },
   {
    "duration": 20,
    "start_time": "2022-07-02T17:27:44.233Z"
   },
   {
    "duration": 240,
    "start_time": "2022-07-02T17:27:44.255Z"
   },
   {
    "duration": 32,
    "start_time": "2022-07-02T17:27:44.497Z"
   },
   {
    "duration": 232,
    "start_time": "2022-07-02T17:27:44.530Z"
   },
   {
    "duration": 25,
    "start_time": "2022-07-02T17:27:44.764Z"
   },
   {
    "duration": 251,
    "start_time": "2022-07-02T17:27:44.792Z"
   },
   {
    "duration": 20,
    "start_time": "2022-07-02T17:27:45.045Z"
   },
   {
    "duration": 224,
    "start_time": "2022-07-02T17:27:45.067Z"
   },
   {
    "duration": 18,
    "start_time": "2022-07-02T17:27:45.293Z"
   },
   {
    "duration": 192,
    "start_time": "2022-07-02T17:27:45.329Z"
   },
   {
    "duration": 30,
    "start_time": "2022-07-02T17:27:45.522Z"
   },
   {
    "duration": 210,
    "start_time": "2022-07-02T17:27:45.554Z"
   },
   {
    "duration": 17,
    "start_time": "2022-07-02T17:27:45.766Z"
   },
   {
    "duration": 230,
    "start_time": "2022-07-02T17:27:45.785Z"
   },
   {
    "duration": 37,
    "start_time": "2022-07-02T17:27:46.017Z"
   },
   {
    "duration": 203,
    "start_time": "2022-07-02T17:27:46.056Z"
   },
   {
    "duration": 22,
    "start_time": "2022-07-02T17:27:46.260Z"
   },
   {
    "duration": 200,
    "start_time": "2022-07-02T17:27:46.284Z"
   },
   {
    "duration": 5,
    "start_time": "2022-07-02T17:27:46.486Z"
   },
   {
    "duration": 9,
    "start_time": "2022-07-02T17:27:46.492Z"
   },
   {
    "duration": 16,
    "start_time": "2022-07-02T17:27:46.503Z"
   },
   {
    "duration": 24,
    "start_time": "2022-07-02T17:27:46.521Z"
   },
   {
    "duration": 181,
    "start_time": "2022-07-02T17:41:08.951Z"
   },
   {
    "duration": 5,
    "start_time": "2022-07-02T17:41:47.466Z"
   },
   {
    "duration": 1161,
    "start_time": "2022-07-02T17:42:51.358Z"
   },
   {
    "duration": 68,
    "start_time": "2022-07-02T17:42:52.521Z"
   },
   {
    "duration": 16,
    "start_time": "2022-07-02T17:42:52.591Z"
   },
   {
    "duration": 20,
    "start_time": "2022-07-02T17:42:52.609Z"
   },
   {
    "duration": 5,
    "start_time": "2022-07-02T17:42:52.633Z"
   },
   {
    "duration": 20,
    "start_time": "2022-07-02T17:42:52.642Z"
   },
   {
    "duration": 8,
    "start_time": "2022-07-02T17:42:52.663Z"
   },
   {
    "duration": 14,
    "start_time": "2022-07-02T17:42:52.672Z"
   },
   {
    "duration": 9,
    "start_time": "2022-07-02T17:42:52.688Z"
   },
   {
    "duration": 9,
    "start_time": "2022-07-02T17:42:52.699Z"
   },
   {
    "duration": 5,
    "start_time": "2022-07-02T17:42:52.709Z"
   },
   {
    "duration": 29,
    "start_time": "2022-07-02T17:42:52.716Z"
   },
   {
    "duration": 4,
    "start_time": "2022-07-02T17:42:52.746Z"
   },
   {
    "duration": 11,
    "start_time": "2022-07-02T17:42:52.753Z"
   },
   {
    "duration": 8,
    "start_time": "2022-07-02T17:42:52.765Z"
   },
   {
    "duration": 14,
    "start_time": "2022-07-02T17:42:52.774Z"
   },
   {
    "duration": 13,
    "start_time": "2022-07-02T17:42:52.789Z"
   },
   {
    "duration": 9,
    "start_time": "2022-07-02T17:42:52.804Z"
   },
   {
    "duration": 30,
    "start_time": "2022-07-02T17:42:52.826Z"
   },
   {
    "duration": 20,
    "start_time": "2022-07-02T17:42:52.858Z"
   },
   {
    "duration": 397,
    "start_time": "2022-07-02T17:42:52.879Z"
   },
   {
    "duration": 5,
    "start_time": "2022-07-02T17:42:53.278Z"
   },
   {
    "duration": 19,
    "start_time": "2022-07-02T17:42:53.285Z"
   },
   {
    "duration": 8,
    "start_time": "2022-07-02T17:42:53.305Z"
   },
   {
    "duration": 53,
    "start_time": "2022-07-02T17:42:53.314Z"
   },
   {
    "duration": 309,
    "start_time": "2022-07-02T17:42:53.369Z"
   },
   {
    "duration": 22,
    "start_time": "2022-07-02T17:42:53.680Z"
   },
   {
    "duration": 38,
    "start_time": "2022-07-02T17:42:53.704Z"
   },
   {
    "duration": 5,
    "start_time": "2022-07-02T17:42:53.744Z"
   },
   {
    "duration": 192,
    "start_time": "2022-07-02T17:42:53.750Z"
   },
   {
    "duration": 5,
    "start_time": "2022-07-02T17:42:53.944Z"
   },
   {
    "duration": 15,
    "start_time": "2022-07-02T17:42:53.951Z"
   },
   {
    "duration": 8,
    "start_time": "2022-07-02T17:42:53.968Z"
   },
   {
    "duration": 282,
    "start_time": "2022-07-02T17:42:53.977Z"
   },
   {
    "duration": 5,
    "start_time": "2022-07-02T17:42:54.261Z"
   },
   {
    "duration": 9,
    "start_time": "2022-07-02T17:42:54.268Z"
   },
   {
    "duration": 285,
    "start_time": "2022-07-02T17:42:54.279Z"
   },
   {
    "duration": 7,
    "start_time": "2022-07-02T17:42:54.566Z"
   },
   {
    "duration": 24,
    "start_time": "2022-07-02T17:42:54.575Z"
   },
   {
    "duration": 342,
    "start_time": "2022-07-02T17:42:54.601Z"
   },
   {
    "duration": 7,
    "start_time": "2022-07-02T17:42:54.948Z"
   },
   {
    "duration": 23,
    "start_time": "2022-07-02T17:42:54.957Z"
   },
   {
    "duration": 333,
    "start_time": "2022-07-02T17:42:54.982Z"
   },
   {
    "duration": 12,
    "start_time": "2022-07-02T17:42:55.317Z"
   },
   {
    "duration": 48,
    "start_time": "2022-07-02T17:42:55.342Z"
   },
   {
    "duration": 233,
    "start_time": "2022-07-02T17:42:55.392Z"
   },
   {
    "duration": 11,
    "start_time": "2022-07-02T17:42:55.634Z"
   },
   {
    "duration": 10,
    "start_time": "2022-07-02T17:42:55.647Z"
   },
   {
    "duration": 22,
    "start_time": "2022-07-02T17:42:55.659Z"
   },
   {
    "duration": 18,
    "start_time": "2022-07-02T17:42:55.682Z"
   },
   {
    "duration": 209,
    "start_time": "2022-07-02T17:42:55.702Z"
   },
   {
    "duration": 29,
    "start_time": "2022-07-02T17:42:55.913Z"
   },
   {
    "duration": 197,
    "start_time": "2022-07-02T17:42:55.943Z"
   },
   {
    "duration": 19,
    "start_time": "2022-07-02T17:42:56.142Z"
   },
   {
    "duration": 199,
    "start_time": "2022-07-02T17:42:56.163Z"
   },
   {
    "duration": 19,
    "start_time": "2022-07-02T17:42:56.364Z"
   },
   {
    "duration": 205,
    "start_time": "2022-07-02T17:42:56.385Z"
   },
   {
    "duration": 16,
    "start_time": "2022-07-02T17:42:56.592Z"
   },
   {
    "duration": 198,
    "start_time": "2022-07-02T17:42:56.609Z"
   },
   {
    "duration": 35,
    "start_time": "2022-07-02T17:42:56.808Z"
   },
   {
    "duration": 194,
    "start_time": "2022-07-02T17:42:56.845Z"
   },
   {
    "duration": 26,
    "start_time": "2022-07-02T17:42:57.041Z"
   },
   {
    "duration": 202,
    "start_time": "2022-07-02T17:42:57.069Z"
   },
   {
    "duration": 19,
    "start_time": "2022-07-02T17:42:57.273Z"
   },
   {
    "duration": 229,
    "start_time": "2022-07-02T17:42:57.294Z"
   },
   {
    "duration": 27,
    "start_time": "2022-07-02T17:42:57.526Z"
   },
   {
    "duration": 189,
    "start_time": "2022-07-02T17:42:57.555Z"
   },
   {
    "duration": 4,
    "start_time": "2022-07-02T17:42:57.745Z"
   },
   {
    "duration": 10,
    "start_time": "2022-07-02T17:42:57.751Z"
   },
   {
    "duration": 9,
    "start_time": "2022-07-02T17:42:57.763Z"
   },
   {
    "duration": 7,
    "start_time": "2022-07-02T17:42:57.774Z"
   },
   {
    "duration": 49,
    "start_time": "2022-07-02T18:16:45.777Z"
   },
   {
    "duration": 1390,
    "start_time": "2022-07-02T18:16:51.400Z"
   },
   {
    "duration": 100,
    "start_time": "2022-07-02T18:16:52.792Z"
   },
   {
    "duration": 15,
    "start_time": "2022-07-02T18:16:52.894Z"
   },
   {
    "duration": 14,
    "start_time": "2022-07-02T18:16:52.913Z"
   },
   {
    "duration": 20,
    "start_time": "2022-07-02T18:16:52.934Z"
   },
   {
    "duration": 19,
    "start_time": "2022-07-02T18:16:52.956Z"
   },
   {
    "duration": 5,
    "start_time": "2022-07-02T18:16:52.977Z"
   },
   {
    "duration": 13,
    "start_time": "2022-07-02T18:16:52.984Z"
   },
   {
    "duration": 10,
    "start_time": "2022-07-02T18:16:52.999Z"
   },
   {
    "duration": 13,
    "start_time": "2022-07-02T18:16:53.013Z"
   },
   {
    "duration": 18,
    "start_time": "2022-07-02T18:16:53.032Z"
   },
   {
    "duration": 43,
    "start_time": "2022-07-02T18:16:53.053Z"
   },
   {
    "duration": 5,
    "start_time": "2022-07-02T18:16:53.098Z"
   },
   {
    "duration": 25,
    "start_time": "2022-07-02T18:16:53.105Z"
   },
   {
    "duration": 21,
    "start_time": "2022-07-02T18:16:53.134Z"
   },
   {
    "duration": 31,
    "start_time": "2022-07-02T18:16:53.158Z"
   },
   {
    "duration": 22,
    "start_time": "2022-07-02T18:16:53.191Z"
   },
   {
    "duration": 17,
    "start_time": "2022-07-02T18:16:53.215Z"
   },
   {
    "duration": 64,
    "start_time": "2022-07-02T18:16:53.234Z"
   },
   {
    "duration": 26,
    "start_time": "2022-07-02T18:16:53.300Z"
   },
   {
    "duration": 452,
    "start_time": "2022-07-02T18:16:53.330Z"
   },
   {
    "duration": 5,
    "start_time": "2022-07-02T18:16:53.784Z"
   },
   {
    "duration": 21,
    "start_time": "2022-07-02T18:16:53.790Z"
   },
   {
    "duration": 28,
    "start_time": "2022-07-02T18:16:53.812Z"
   },
   {
    "duration": 36,
    "start_time": "2022-07-02T18:16:53.845Z"
   },
   {
    "duration": 317,
    "start_time": "2022-07-02T18:16:53.883Z"
   },
   {
    "duration": 30,
    "start_time": "2022-07-02T18:16:54.202Z"
   },
   {
    "duration": 19,
    "start_time": "2022-07-02T18:16:54.240Z"
   },
   {
    "duration": 19,
    "start_time": "2022-07-02T18:16:54.261Z"
   },
   {
    "duration": 291,
    "start_time": "2022-07-02T18:16:54.282Z"
   },
   {
    "duration": 5,
    "start_time": "2022-07-02T18:16:54.575Z"
   },
   {
    "duration": 18,
    "start_time": "2022-07-02T18:16:54.582Z"
   },
   {
    "duration": 32,
    "start_time": "2022-07-02T18:16:54.602Z"
   },
   {
    "duration": 273,
    "start_time": "2022-07-02T18:16:54.639Z"
   },
   {
    "duration": 6,
    "start_time": "2022-07-02T18:16:54.914Z"
   },
   {
    "duration": 13,
    "start_time": "2022-07-02T18:16:54.926Z"
   },
   {
    "duration": 252,
    "start_time": "2022-07-02T18:16:54.941Z"
   },
   {
    "duration": 5,
    "start_time": "2022-07-02T18:16:55.195Z"
   },
   {
    "duration": 7,
    "start_time": "2022-07-02T18:16:55.202Z"
   },
   {
    "duration": 343,
    "start_time": "2022-07-02T18:16:55.210Z"
   },
   {
    "duration": 6,
    "start_time": "2022-07-02T18:16:55.555Z"
   },
   {
    "duration": 8,
    "start_time": "2022-07-02T18:16:55.563Z"
   },
   {
    "duration": 277,
    "start_time": "2022-07-02T18:16:55.573Z"
   },
   {
    "duration": 9,
    "start_time": "2022-07-02T18:16:55.854Z"
   },
   {
    "duration": 6,
    "start_time": "2022-07-02T18:16:55.865Z"
   },
   {
    "duration": 285,
    "start_time": "2022-07-02T18:16:55.873Z"
   },
   {
    "duration": 6,
    "start_time": "2022-07-02T18:16:56.160Z"
   },
   {
    "duration": 8,
    "start_time": "2022-07-02T18:16:56.168Z"
   },
   {
    "duration": 21,
    "start_time": "2022-07-02T18:16:56.178Z"
   },
   {
    "duration": 47,
    "start_time": "2022-07-02T18:16:56.200Z"
   },
   {
    "duration": 207,
    "start_time": "2022-07-02T18:16:56.249Z"
   },
   {
    "duration": 24,
    "start_time": "2022-07-02T18:16:56.458Z"
   },
   {
    "duration": 234,
    "start_time": "2022-07-02T18:16:56.484Z"
   },
   {
    "duration": 26,
    "start_time": "2022-07-02T18:16:56.720Z"
   },
   {
    "duration": 208,
    "start_time": "2022-07-02T18:16:56.752Z"
   },
   {
    "duration": 18,
    "start_time": "2022-07-02T18:16:56.962Z"
   },
   {
    "duration": 230,
    "start_time": "2022-07-02T18:16:56.981Z"
   },
   {
    "duration": 33,
    "start_time": "2022-07-02T18:16:57.213Z"
   },
   {
    "duration": 205,
    "start_time": "2022-07-02T18:16:57.248Z"
   },
   {
    "duration": 25,
    "start_time": "2022-07-02T18:16:57.455Z"
   },
   {
    "duration": 211,
    "start_time": "2022-07-02T18:16:57.482Z"
   },
   {
    "duration": 33,
    "start_time": "2022-07-02T18:16:57.695Z"
   },
   {
    "duration": 190,
    "start_time": "2022-07-02T18:16:57.729Z"
   },
   {
    "duration": 22,
    "start_time": "2022-07-02T18:16:57.927Z"
   },
   {
    "duration": 217,
    "start_time": "2022-07-02T18:16:57.950Z"
   },
   {
    "duration": 25,
    "start_time": "2022-07-02T18:16:58.169Z"
   },
   {
    "duration": 304,
    "start_time": "2022-07-02T18:16:58.196Z"
   },
   {
    "duration": 4,
    "start_time": "2022-07-02T18:16:58.502Z"
   },
   {
    "duration": 33,
    "start_time": "2022-07-02T18:16:58.508Z"
   },
   {
    "duration": 6,
    "start_time": "2022-07-02T18:16:58.545Z"
   },
   {
    "duration": 8,
    "start_time": "2022-07-02T18:16:58.553Z"
   },
   {
    "duration": 6,
    "start_time": "2022-07-02T18:18:44.815Z"
   },
   {
    "duration": 6,
    "start_time": "2022-07-02T18:18:53.119Z"
   },
   {
    "duration": 29,
    "start_time": "2022-07-02T19:27:59.108Z"
   },
   {
    "duration": 20,
    "start_time": "2022-07-02T19:28:06.486Z"
   },
   {
    "duration": 19,
    "start_time": "2022-07-02T19:28:15.473Z"
   },
   {
    "duration": 34,
    "start_time": "2022-07-02T19:36:17.683Z"
   },
   {
    "duration": 128,
    "start_time": "2022-07-02T19:36:33.292Z"
   },
   {
    "duration": 5,
    "start_time": "2022-07-02T19:36:41.212Z"
   },
   {
    "duration": 8,
    "start_time": "2022-07-02T19:38:20.802Z"
   },
   {
    "duration": 1607,
    "start_time": "2022-07-02T19:47:18.777Z"
   },
   {
    "duration": 200,
    "start_time": "2022-07-02T19:47:20.387Z"
   },
   {
    "duration": 27,
    "start_time": "2022-07-02T19:47:20.589Z"
   },
   {
    "duration": 32,
    "start_time": "2022-07-02T19:47:20.618Z"
   },
   {
    "duration": 18,
    "start_time": "2022-07-02T19:47:20.653Z"
   },
   {
    "duration": 17,
    "start_time": "2022-07-02T19:47:20.673Z"
   },
   {
    "duration": 31,
    "start_time": "2022-07-02T19:47:20.692Z"
   },
   {
    "duration": 78,
    "start_time": "2022-07-02T19:47:20.726Z"
   },
   {
    "duration": 16,
    "start_time": "2022-07-02T19:47:20.806Z"
   },
   {
    "duration": 75,
    "start_time": "2022-07-02T19:47:20.824Z"
   },
   {
    "duration": 10,
    "start_time": "2022-07-02T19:47:20.902Z"
   },
   {
    "duration": 52,
    "start_time": "2022-07-02T19:47:20.914Z"
   },
   {
    "duration": 30,
    "start_time": "2022-07-02T19:47:20.970Z"
   },
   {
    "duration": 11,
    "start_time": "2022-07-02T19:47:21.004Z"
   },
   {
    "duration": 16,
    "start_time": "2022-07-02T19:47:21.018Z"
   },
   {
    "duration": 57,
    "start_time": "2022-07-02T19:47:21.042Z"
   },
   {
    "duration": 26,
    "start_time": "2022-07-02T19:47:21.102Z"
   },
   {
    "duration": 31,
    "start_time": "2022-07-02T19:47:21.142Z"
   },
   {
    "duration": 87,
    "start_time": "2022-07-02T19:47:21.180Z"
   },
   {
    "duration": 81,
    "start_time": "2022-07-02T19:47:21.269Z"
   },
   {
    "duration": 664,
    "start_time": "2022-07-02T19:47:21.360Z"
   },
   {
    "duration": 10,
    "start_time": "2022-07-02T19:47:22.026Z"
   },
   {
    "duration": 77,
    "start_time": "2022-07-02T19:47:22.039Z"
   },
   {
    "duration": 31,
    "start_time": "2022-07-02T19:47:22.118Z"
   },
   {
    "duration": 97,
    "start_time": "2022-07-02T19:47:22.151Z"
   },
   {
    "duration": 475,
    "start_time": "2022-07-02T19:47:22.252Z"
   },
   {
    "duration": 33,
    "start_time": "2022-07-02T19:47:22.729Z"
   },
   {
    "duration": 53,
    "start_time": "2022-07-02T19:47:22.764Z"
   },
   {
    "duration": 145,
    "start_time": "2022-07-02T19:47:22.819Z"
   },
   {
    "duration": 278,
    "start_time": "2022-07-02T19:47:22.969Z"
   },
   {
    "duration": 5,
    "start_time": "2022-07-02T19:47:23.249Z"
   },
   {
    "duration": 53,
    "start_time": "2022-07-02T19:47:23.256Z"
   },
   {
    "duration": 20,
    "start_time": "2022-07-02T19:47:23.311Z"
   },
   {
    "duration": 314,
    "start_time": "2022-07-02T19:47:23.335Z"
   },
   {
    "duration": 8,
    "start_time": "2022-07-02T19:47:23.650Z"
   },
   {
    "duration": 24,
    "start_time": "2022-07-02T19:47:23.659Z"
   },
   {
    "duration": 285,
    "start_time": "2022-07-02T19:47:23.685Z"
   },
   {
    "duration": 10,
    "start_time": "2022-07-02T19:47:23.975Z"
   },
   {
    "duration": 21,
    "start_time": "2022-07-02T19:47:23.987Z"
   },
   {
    "duration": 337,
    "start_time": "2022-07-02T19:47:24.010Z"
   },
   {
    "duration": 9,
    "start_time": "2022-07-02T19:47:24.360Z"
   },
   {
    "duration": 35,
    "start_time": "2022-07-02T19:47:24.371Z"
   },
   {
    "duration": 370,
    "start_time": "2022-07-02T19:47:24.407Z"
   },
   {
    "duration": 6,
    "start_time": "2022-07-02T19:47:24.778Z"
   },
   {
    "duration": 10,
    "start_time": "2022-07-02T19:47:24.786Z"
   },
   {
    "duration": 273,
    "start_time": "2022-07-02T19:47:24.797Z"
   },
   {
    "duration": 11,
    "start_time": "2022-07-02T19:47:25.072Z"
   },
   {
    "duration": 22,
    "start_time": "2022-07-02T19:47:25.085Z"
   },
   {
    "duration": 27,
    "start_time": "2022-07-02T19:47:25.109Z"
   },
   {
    "duration": 45,
    "start_time": "2022-07-02T19:47:25.144Z"
   },
   {
    "duration": 201,
    "start_time": "2022-07-02T19:47:25.192Z"
   },
   {
    "duration": 36,
    "start_time": "2022-07-02T19:47:25.395Z"
   },
   {
    "duration": 228,
    "start_time": "2022-07-02T19:47:25.433Z"
   },
   {
    "duration": 29,
    "start_time": "2022-07-02T19:47:25.663Z"
   },
   {
    "duration": 273,
    "start_time": "2022-07-02T19:47:25.694Z"
   },
   {
    "duration": 22,
    "start_time": "2022-07-02T19:47:25.969Z"
   },
   {
    "duration": 222,
    "start_time": "2022-07-02T19:47:25.992Z"
   },
   {
    "duration": 25,
    "start_time": "2022-07-02T19:47:26.216Z"
   },
   {
    "duration": 251,
    "start_time": "2022-07-02T19:47:26.242Z"
   },
   {
    "duration": 18,
    "start_time": "2022-07-02T19:47:26.495Z"
   },
   {
    "duration": 207,
    "start_time": "2022-07-02T19:47:26.514Z"
   },
   {
    "duration": 40,
    "start_time": "2022-07-02T19:47:26.723Z"
   },
   {
    "duration": 220,
    "start_time": "2022-07-02T19:47:26.764Z"
   },
   {
    "duration": 17,
    "start_time": "2022-07-02T19:47:26.986Z"
   },
   {
    "duration": 235,
    "start_time": "2022-07-02T19:47:27.005Z"
   },
   {
    "duration": 24,
    "start_time": "2022-07-02T19:47:27.247Z"
   },
   {
    "duration": 200,
    "start_time": "2022-07-02T19:47:27.273Z"
   },
   {
    "duration": 4,
    "start_time": "2022-07-02T19:47:27.475Z"
   },
   {
    "duration": 10,
    "start_time": "2022-07-02T19:47:27.481Z"
   },
   {
    "duration": 14,
    "start_time": "2022-07-02T19:47:27.493Z"
   },
   {
    "duration": 15,
    "start_time": "2022-07-02T19:47:27.509Z"
   },
   {
    "duration": 45,
    "start_time": "2022-07-02T20:01:33.476Z"
   },
   {
    "duration": 1294,
    "start_time": "2022-07-02T20:01:39.504Z"
   },
   {
    "duration": 197,
    "start_time": "2022-07-02T20:01:40.799Z"
   },
   {
    "duration": 12,
    "start_time": "2022-07-02T20:01:40.997Z"
   },
   {
    "duration": 8,
    "start_time": "2022-07-02T20:01:41.011Z"
   },
   {
    "duration": 4,
    "start_time": "2022-07-02T20:01:41.020Z"
   },
   {
    "duration": 9,
    "start_time": "2022-07-02T20:01:41.026Z"
   },
   {
    "duration": 5,
    "start_time": "2022-07-02T20:01:41.036Z"
   },
   {
    "duration": 5,
    "start_time": "2022-07-02T20:01:41.042Z"
   },
   {
    "duration": 6,
    "start_time": "2022-07-02T20:01:41.049Z"
   },
   {
    "duration": 5,
    "start_time": "2022-07-02T20:01:41.057Z"
   },
   {
    "duration": 4,
    "start_time": "2022-07-02T20:01:41.064Z"
   },
   {
    "duration": 19,
    "start_time": "2022-07-02T20:01:41.069Z"
   },
   {
    "duration": 4,
    "start_time": "2022-07-02T20:01:41.089Z"
   },
   {
    "duration": 8,
    "start_time": "2022-07-02T20:01:41.094Z"
   },
   {
    "duration": 6,
    "start_time": "2022-07-02T20:01:41.129Z"
   },
   {
    "duration": 9,
    "start_time": "2022-07-02T20:01:41.137Z"
   },
   {
    "duration": 13,
    "start_time": "2022-07-02T20:01:41.148Z"
   },
   {
    "duration": 4,
    "start_time": "2022-07-02T20:01:41.162Z"
   },
   {
    "duration": 10,
    "start_time": "2022-07-02T20:01:41.168Z"
   },
   {
    "duration": 21,
    "start_time": "2022-07-02T20:01:41.179Z"
   },
   {
    "duration": 38,
    "start_time": "2022-07-02T20:01:41.202Z"
   },
   {
    "duration": 350,
    "start_time": "2022-07-02T20:01:41.241Z"
   },
   {
    "duration": 5,
    "start_time": "2022-07-02T20:01:41.593Z"
   },
   {
    "duration": 15,
    "start_time": "2022-07-02T20:01:41.599Z"
   },
   {
    "duration": 7,
    "start_time": "2022-07-02T20:01:41.629Z"
   },
   {
    "duration": 26,
    "start_time": "2022-07-02T20:01:41.637Z"
   },
   {
    "duration": 265,
    "start_time": "2022-07-02T20:01:41.664Z"
   },
   {
    "duration": 22,
    "start_time": "2022-07-02T20:01:41.932Z"
   },
   {
    "duration": 14,
    "start_time": "2022-07-02T20:01:41.955Z"
   },
   {
    "duration": 5,
    "start_time": "2022-07-02T20:01:41.971Z"
   },
   {
    "duration": 184,
    "start_time": "2022-07-02T20:01:41.978Z"
   },
   {
    "duration": 4,
    "start_time": "2022-07-02T20:01:42.164Z"
   },
   {
    "duration": 7,
    "start_time": "2022-07-02T20:01:42.169Z"
   },
   {
    "duration": 223,
    "start_time": "2022-07-02T20:01:42.177Z"
   },
   {
    "duration": 5,
    "start_time": "2022-07-02T20:01:42.402Z"
   },
   {
    "duration": 21,
    "start_time": "2022-07-02T20:01:42.408Z"
   },
   {
    "duration": 210,
    "start_time": "2022-07-02T20:01:42.430Z"
   },
   {
    "duration": 4,
    "start_time": "2022-07-02T20:01:42.641Z"
   },
   {
    "duration": 9,
    "start_time": "2022-07-02T20:01:42.646Z"
   },
   {
    "duration": 219,
    "start_time": "2022-07-02T20:01:42.657Z"
   },
   {
    "duration": 4,
    "start_time": "2022-07-02T20:01:42.878Z"
   },
   {
    "duration": 9,
    "start_time": "2022-07-02T20:01:42.884Z"
   },
   {
    "duration": 270,
    "start_time": "2022-07-02T20:01:42.895Z"
   },
   {
    "duration": 4,
    "start_time": "2022-07-02T20:01:43.167Z"
   },
   {
    "duration": 24,
    "start_time": "2022-07-02T20:01:43.173Z"
   },
   {
    "duration": 220,
    "start_time": "2022-07-02T20:01:43.198Z"
   },
   {
    "duration": 4,
    "start_time": "2022-07-02T20:01:43.420Z"
   },
   {
    "duration": 4,
    "start_time": "2022-07-02T20:01:43.428Z"
   },
   {
    "duration": 15,
    "start_time": "2022-07-02T20:01:43.433Z"
   },
   {
    "duration": 15,
    "start_time": "2022-07-02T20:01:43.449Z"
   },
   {
    "duration": 277,
    "start_time": "2022-07-02T20:01:43.465Z"
   },
   {
    "duration": 18,
    "start_time": "2022-07-02T20:01:43.744Z"
   },
   {
    "duration": 367,
    "start_time": "2022-07-02T20:01:43.764Z"
   },
   {
    "duration": 17,
    "start_time": "2022-07-02T20:01:44.132Z"
   },
   {
    "duration": 309,
    "start_time": "2022-07-02T20:01:44.150Z"
   },
   {
    "duration": 71,
    "start_time": "2022-07-02T20:01:44.460Z"
   },
   {
    "duration": 322,
    "start_time": "2022-07-02T20:01:44.533Z"
   },
   {
    "duration": 73,
    "start_time": "2022-07-02T20:01:44.857Z"
   },
   {
    "duration": 330,
    "start_time": "2022-07-02T20:01:44.931Z"
   },
   {
    "duration": 16,
    "start_time": "2022-07-02T20:01:45.263Z"
   },
   {
    "duration": 213,
    "start_time": "2022-07-02T20:01:45.281Z"
   },
   {
    "duration": 17,
    "start_time": "2022-07-02T20:01:45.496Z"
   },
   {
    "duration": 189,
    "start_time": "2022-07-02T20:01:45.515Z"
   },
   {
    "duration": 24,
    "start_time": "2022-07-02T20:01:45.706Z"
   },
   {
    "duration": 198,
    "start_time": "2022-07-02T20:01:45.731Z"
   },
   {
    "duration": 18,
    "start_time": "2022-07-02T20:01:45.930Z"
   },
   {
    "duration": 207,
    "start_time": "2022-07-02T20:01:45.949Z"
   },
   {
    "duration": 5,
    "start_time": "2022-07-02T20:01:46.158Z"
   },
   {
    "duration": 51,
    "start_time": "2022-07-02T20:01:46.164Z"
   },
   {
    "duration": 15,
    "start_time": "2022-07-02T20:01:46.217Z"
   },
   {
    "duration": 13,
    "start_time": "2022-07-02T20:01:46.235Z"
   },
   {
    "duration": 235,
    "start_time": "2022-07-02T20:02:55.944Z"
   },
   {
    "duration": 323,
    "start_time": "2022-07-02T20:03:09.086Z"
   },
   {
    "duration": 91,
    "start_time": "2022-07-02T20:05:04.097Z"
   },
   {
    "duration": 1495,
    "start_time": "2022-07-02T20:05:12.838Z"
   },
   {
    "duration": 13,
    "start_time": "2022-07-02T20:05:34.360Z"
   },
   {
    "duration": 1059,
    "start_time": "2022-07-02T20:05:53.346Z"
   },
   {
    "duration": 68,
    "start_time": "2022-07-02T20:05:54.407Z"
   },
   {
    "duration": 14,
    "start_time": "2022-07-02T20:05:54.477Z"
   },
   {
    "duration": 12,
    "start_time": "2022-07-02T20:05:54.493Z"
   },
   {
    "duration": 4,
    "start_time": "2022-07-02T20:05:54.506Z"
   },
   {
    "duration": 25,
    "start_time": "2022-07-02T20:05:54.512Z"
   },
   {
    "duration": 4,
    "start_time": "2022-07-02T20:05:54.538Z"
   },
   {
    "duration": 5,
    "start_time": "2022-07-02T20:05:54.544Z"
   },
   {
    "duration": 6,
    "start_time": "2022-07-02T20:05:54.550Z"
   },
   {
    "duration": 3,
    "start_time": "2022-07-02T20:05:54.559Z"
   },
   {
    "duration": 4,
    "start_time": "2022-07-02T20:05:54.564Z"
   },
   {
    "duration": 20,
    "start_time": "2022-07-02T20:05:54.569Z"
   },
   {
    "duration": 4,
    "start_time": "2022-07-02T20:05:54.590Z"
   },
   {
    "duration": 36,
    "start_time": "2022-07-02T20:05:54.595Z"
   },
   {
    "duration": 18,
    "start_time": "2022-07-02T20:05:54.632Z"
   },
   {
    "duration": 10,
    "start_time": "2022-07-02T20:05:54.652Z"
   },
   {
    "duration": 14,
    "start_time": "2022-07-02T20:05:54.664Z"
   },
   {
    "duration": 5,
    "start_time": "2022-07-02T20:05:54.679Z"
   },
   {
    "duration": 11,
    "start_time": "2022-07-02T20:05:54.685Z"
   },
   {
    "duration": 33,
    "start_time": "2022-07-02T20:05:54.697Z"
   },
   {
    "duration": 13,
    "start_time": "2022-07-02T20:05:54.731Z"
   },
   {
    "duration": 1450,
    "start_time": "2022-07-02T20:05:54.745Z"
   },
   {
    "duration": 0,
    "start_time": "2022-07-02T20:05:56.198Z"
   },
   {
    "duration": 0,
    "start_time": "2022-07-02T20:05:56.199Z"
   },
   {
    "duration": 0,
    "start_time": "2022-07-02T20:05:56.200Z"
   },
   {
    "duration": 0,
    "start_time": "2022-07-02T20:05:56.202Z"
   },
   {
    "duration": 0,
    "start_time": "2022-07-02T20:05:56.204Z"
   },
   {
    "duration": 0,
    "start_time": "2022-07-02T20:05:56.205Z"
   },
   {
    "duration": 0,
    "start_time": "2022-07-02T20:05:56.206Z"
   },
   {
    "duration": 0,
    "start_time": "2022-07-02T20:05:56.207Z"
   },
   {
    "duration": 0,
    "start_time": "2022-07-02T20:05:56.209Z"
   },
   {
    "duration": 0,
    "start_time": "2022-07-02T20:05:56.210Z"
   },
   {
    "duration": 0,
    "start_time": "2022-07-02T20:05:56.211Z"
   },
   {
    "duration": 0,
    "start_time": "2022-07-02T20:05:56.212Z"
   },
   {
    "duration": 0,
    "start_time": "2022-07-02T20:05:56.213Z"
   },
   {
    "duration": 0,
    "start_time": "2022-07-02T20:05:56.215Z"
   },
   {
    "duration": 0,
    "start_time": "2022-07-02T20:05:56.216Z"
   },
   {
    "duration": 0,
    "start_time": "2022-07-02T20:05:56.217Z"
   },
   {
    "duration": 0,
    "start_time": "2022-07-02T20:05:56.219Z"
   },
   {
    "duration": 1,
    "start_time": "2022-07-02T20:05:56.220Z"
   },
   {
    "duration": 0,
    "start_time": "2022-07-02T20:05:56.223Z"
   },
   {
    "duration": 0,
    "start_time": "2022-07-02T20:05:56.224Z"
   },
   {
    "duration": 0,
    "start_time": "2022-07-02T20:05:56.225Z"
   },
   {
    "duration": 0,
    "start_time": "2022-07-02T20:05:56.227Z"
   },
   {
    "duration": 0,
    "start_time": "2022-07-02T20:05:56.228Z"
   },
   {
    "duration": 0,
    "start_time": "2022-07-02T20:05:56.230Z"
   },
   {
    "duration": 0,
    "start_time": "2022-07-02T20:05:56.231Z"
   },
   {
    "duration": 0,
    "start_time": "2022-07-02T20:05:56.232Z"
   },
   {
    "duration": 0,
    "start_time": "2022-07-02T20:05:56.233Z"
   },
   {
    "duration": 0,
    "start_time": "2022-07-02T20:05:56.235Z"
   },
   {
    "duration": 0,
    "start_time": "2022-07-02T20:05:56.236Z"
   },
   {
    "duration": 0,
    "start_time": "2022-07-02T20:05:56.238Z"
   },
   {
    "duration": 0,
    "start_time": "2022-07-02T20:05:56.239Z"
   },
   {
    "duration": 0,
    "start_time": "2022-07-02T20:05:56.240Z"
   },
   {
    "duration": 0,
    "start_time": "2022-07-02T20:05:56.242Z"
   },
   {
    "duration": 0,
    "start_time": "2022-07-02T20:05:56.244Z"
   },
   {
    "duration": 0,
    "start_time": "2022-07-02T20:05:56.245Z"
   },
   {
    "duration": 0,
    "start_time": "2022-07-02T20:05:56.246Z"
   },
   {
    "duration": 0,
    "start_time": "2022-07-02T20:05:56.248Z"
   },
   {
    "duration": 0,
    "start_time": "2022-07-02T20:05:56.249Z"
   },
   {
    "duration": 0,
    "start_time": "2022-07-02T20:05:56.251Z"
   },
   {
    "duration": 0,
    "start_time": "2022-07-02T20:05:56.252Z"
   },
   {
    "duration": 0,
    "start_time": "2022-07-02T20:05:56.254Z"
   },
   {
    "duration": 0,
    "start_time": "2022-07-02T20:05:56.255Z"
   },
   {
    "duration": 0,
    "start_time": "2022-07-02T20:05:56.256Z"
   },
   {
    "duration": 0,
    "start_time": "2022-07-02T20:05:56.257Z"
   },
   {
    "duration": 0,
    "start_time": "2022-07-02T20:05:56.258Z"
   },
   {
    "duration": 0,
    "start_time": "2022-07-02T20:05:56.259Z"
   },
   {
    "duration": 0,
    "start_time": "2022-07-02T20:05:56.261Z"
   },
   {
    "duration": 0,
    "start_time": "2022-07-02T20:05:56.262Z"
   },
   {
    "duration": 1,
    "start_time": "2022-07-02T20:05:56.263Z"
   },
   {
    "duration": 9,
    "start_time": "2022-07-02T20:06:07.172Z"
   },
   {
    "duration": 1239,
    "start_time": "2022-07-02T20:06:19.654Z"
   },
   {
    "duration": 13,
    "start_time": "2022-07-02T20:06:28.285Z"
   },
   {
    "duration": 13,
    "start_time": "2022-07-02T20:06:43.137Z"
   },
   {
    "duration": 1546,
    "start_time": "2022-07-02T20:06:46.513Z"
   },
   {
    "duration": 15,
    "start_time": "2022-07-02T20:07:02.755Z"
   },
   {
    "duration": 15,
    "start_time": "2022-07-02T20:07:10.736Z"
   },
   {
    "duration": 15,
    "start_time": "2022-07-02T20:07:18.799Z"
   },
   {
    "duration": 15,
    "start_time": "2022-07-02T20:08:26.445Z"
   },
   {
    "duration": 16,
    "start_time": "2022-07-02T20:08:29.484Z"
   },
   {
    "duration": 13,
    "start_time": "2022-07-02T20:08:39.589Z"
   },
   {
    "duration": 76,
    "start_time": "2022-07-02T20:08:54.468Z"
   },
   {
    "duration": 17,
    "start_time": "2022-07-02T20:08:57.887Z"
   },
   {
    "duration": 127,
    "start_time": "2022-07-02T20:09:12.921Z"
   },
   {
    "duration": 18,
    "start_time": "2022-07-02T20:09:28.507Z"
   },
   {
    "duration": 17,
    "start_time": "2022-07-02T20:09:34.608Z"
   },
   {
    "duration": 16,
    "start_time": "2022-07-02T20:09:47.028Z"
   },
   {
    "duration": 323,
    "start_time": "2022-07-02T20:10:00.844Z"
   },
   {
    "duration": 78,
    "start_time": "2022-07-02T20:13:40.219Z"
   },
   {
    "duration": 78,
    "start_time": "2022-07-02T20:13:52.085Z"
   },
   {
    "duration": 111,
    "start_time": "2022-07-02T20:13:57.445Z"
   },
   {
    "duration": 71,
    "start_time": "2022-07-02T20:14:07.910Z"
   },
   {
    "duration": 304,
    "start_time": "2022-07-02T20:16:54.741Z"
   },
   {
    "duration": 11,
    "start_time": "2022-07-02T20:17:04.006Z"
   },
   {
    "duration": 224,
    "start_time": "2022-07-02T20:17:05.609Z"
   },
   {
    "duration": 14,
    "start_time": "2022-07-02T20:17:19.724Z"
   },
   {
    "duration": 352,
    "start_time": "2022-07-02T20:17:35.731Z"
   },
   {
    "duration": 219,
    "start_time": "2022-07-02T20:17:39.650Z"
   },
   {
    "duration": 146,
    "start_time": "2022-07-02T20:18:06.074Z"
   },
   {
    "duration": 248,
    "start_time": "2022-07-02T20:18:25.810Z"
   },
   {
    "duration": 314,
    "start_time": "2022-07-02T20:18:59.584Z"
   },
   {
    "duration": 104,
    "start_time": "2022-07-02T20:19:53.368Z"
   },
   {
    "duration": 20,
    "start_time": "2022-07-02T20:20:04.061Z"
   },
   {
    "duration": 16,
    "start_time": "2022-07-02T20:20:47.299Z"
   },
   {
    "duration": 17,
    "start_time": "2022-07-02T20:30:43.620Z"
   },
   {
    "duration": 16,
    "start_time": "2022-07-02T20:31:00.118Z"
   },
   {
    "duration": 234,
    "start_time": "2022-07-02T20:31:03.287Z"
   },
   {
    "duration": 17,
    "start_time": "2022-07-02T20:31:08.743Z"
   },
   {
    "duration": 16,
    "start_time": "2022-07-02T20:31:16.433Z"
   },
   {
    "duration": 15,
    "start_time": "2022-07-02T20:31:21.472Z"
   },
   {
    "duration": 81,
    "start_time": "2022-07-02T20:31:28.583Z"
   },
   {
    "duration": 17,
    "start_time": "2022-07-02T20:31:31.232Z"
   },
   {
    "duration": 16,
    "start_time": "2022-07-02T20:31:37.624Z"
   },
   {
    "duration": 326,
    "start_time": "2022-07-02T20:31:45.489Z"
   },
   {
    "duration": 348,
    "start_time": "2022-07-02T20:32:00.229Z"
   },
   {
    "duration": 77,
    "start_time": "2022-07-02T20:32:14.509Z"
   },
   {
    "duration": 76,
    "start_time": "2022-07-02T20:32:19.844Z"
   },
   {
    "duration": 283,
    "start_time": "2022-07-02T20:35:28.693Z"
   },
   {
    "duration": 222,
    "start_time": "2022-07-02T20:36:01.669Z"
   },
   {
    "duration": 220,
    "start_time": "2022-07-02T20:36:12.327Z"
   },
   {
    "duration": 293,
    "start_time": "2022-07-02T20:41:35.899Z"
   },
   {
    "duration": 333,
    "start_time": "2022-07-02T20:41:45.488Z"
   },
   {
    "duration": 205,
    "start_time": "2022-07-02T20:42:12.066Z"
   },
   {
    "duration": 1246,
    "start_time": "2022-07-04T07:59:29.981Z"
   },
   {
    "duration": 199,
    "start_time": "2022-07-04T07:59:31.229Z"
   },
   {
    "duration": 12,
    "start_time": "2022-07-04T07:59:31.430Z"
   },
   {
    "duration": 8,
    "start_time": "2022-07-04T07:59:31.444Z"
   },
   {
    "duration": 12,
    "start_time": "2022-07-04T07:59:31.454Z"
   },
   {
    "duration": 12,
    "start_time": "2022-07-04T07:59:31.467Z"
   },
   {
    "duration": 6,
    "start_time": "2022-07-04T07:59:31.480Z"
   },
   {
    "duration": 11,
    "start_time": "2022-07-04T07:59:31.488Z"
   },
   {
    "duration": 12,
    "start_time": "2022-07-04T07:59:31.500Z"
   },
   {
    "duration": 4,
    "start_time": "2022-07-04T07:59:31.530Z"
   },
   {
    "duration": 6,
    "start_time": "2022-07-04T07:59:31.535Z"
   },
   {
    "duration": 20,
    "start_time": "2022-07-04T07:59:31.543Z"
   },
   {
    "duration": 4,
    "start_time": "2022-07-04T07:59:31.564Z"
   },
   {
    "duration": 21,
    "start_time": "2022-07-04T07:59:31.569Z"
   },
   {
    "duration": 16,
    "start_time": "2022-07-04T07:59:31.592Z"
   },
   {
    "duration": 32,
    "start_time": "2022-07-04T07:59:31.609Z"
   },
   {
    "duration": 23,
    "start_time": "2022-07-04T07:59:31.642Z"
   },
   {
    "duration": 7,
    "start_time": "2022-07-04T07:59:31.666Z"
   },
   {
    "duration": 19,
    "start_time": "2022-07-04T07:59:31.675Z"
   },
   {
    "duration": 22,
    "start_time": "2022-07-04T07:59:31.695Z"
   },
   {
    "duration": 17,
    "start_time": "2022-07-04T07:59:31.718Z"
   },
   {
    "duration": 363,
    "start_time": "2022-07-04T07:59:31.737Z"
   },
   {
    "duration": 6,
    "start_time": "2022-07-04T07:59:32.101Z"
   },
   {
    "duration": 26,
    "start_time": "2022-07-04T07:59:32.108Z"
   },
   {
    "duration": 13,
    "start_time": "2022-07-04T07:59:32.136Z"
   },
   {
    "duration": 38,
    "start_time": "2022-07-04T07:59:32.150Z"
   },
   {
    "duration": 281,
    "start_time": "2022-07-04T07:59:32.190Z"
   },
   {
    "duration": 25,
    "start_time": "2022-07-04T07:59:32.474Z"
   },
   {
    "duration": 29,
    "start_time": "2022-07-04T07:59:32.501Z"
   },
   {
    "duration": 4,
    "start_time": "2022-07-04T07:59:32.532Z"
   },
   {
    "duration": 187,
    "start_time": "2022-07-04T07:59:32.537Z"
   },
   {
    "duration": 4,
    "start_time": "2022-07-04T07:59:32.728Z"
   },
   {
    "duration": 12,
    "start_time": "2022-07-04T07:59:32.733Z"
   },
   {
    "duration": 223,
    "start_time": "2022-07-04T07:59:32.746Z"
   },
   {
    "duration": 4,
    "start_time": "2022-07-04T07:59:32.971Z"
   },
   {
    "duration": 8,
    "start_time": "2022-07-04T07:59:32.977Z"
   },
   {
    "duration": 242,
    "start_time": "2022-07-04T07:59:32.987Z"
   },
   {
    "duration": 5,
    "start_time": "2022-07-04T07:59:33.231Z"
   },
   {
    "duration": 11,
    "start_time": "2022-07-04T07:59:33.237Z"
   },
   {
    "duration": 615,
    "start_time": "2022-07-04T07:59:33.250Z"
   },
   {
    "duration": 5,
    "start_time": "2022-07-04T07:59:33.867Z"
   },
   {
    "duration": 58,
    "start_time": "2022-07-04T07:59:33.873Z"
   },
   {
    "duration": 424,
    "start_time": "2022-07-04T07:59:33.933Z"
   },
   {
    "duration": 6,
    "start_time": "2022-07-04T07:59:34.359Z"
   },
   {
    "duration": 10,
    "start_time": "2022-07-04T07:59:34.366Z"
   },
   {
    "duration": 463,
    "start_time": "2022-07-04T07:59:34.378Z"
   },
   {
    "duration": 5,
    "start_time": "2022-07-04T07:59:34.842Z"
   },
   {
    "duration": 8,
    "start_time": "2022-07-04T07:59:34.848Z"
   },
   {
    "duration": 72,
    "start_time": "2022-07-04T07:59:34.858Z"
   },
   {
    "duration": 17,
    "start_time": "2022-07-04T07:59:34.932Z"
   },
   {
    "duration": 217,
    "start_time": "2022-07-04T07:59:34.951Z"
   },
   {
    "duration": 19,
    "start_time": "2022-07-04T07:59:35.170Z"
   },
   {
    "duration": 177,
    "start_time": "2022-07-04T07:59:35.191Z"
   },
   {
    "duration": 18,
    "start_time": "2022-07-04T07:59:35.370Z"
   },
   {
    "duration": 182,
    "start_time": "2022-07-04T07:59:35.389Z"
   },
   {
    "duration": 18,
    "start_time": "2022-07-04T07:59:35.573Z"
   },
   {
    "duration": 189,
    "start_time": "2022-07-04T07:59:35.592Z"
   },
   {
    "duration": 17,
    "start_time": "2022-07-04T07:59:35.783Z"
   },
   {
    "duration": 213,
    "start_time": "2022-07-04T07:59:35.802Z"
   },
   {
    "duration": 28,
    "start_time": "2022-07-04T07:59:36.017Z"
   },
   {
    "duration": 192,
    "start_time": "2022-07-04T07:59:36.047Z"
   },
   {
    "duration": 16,
    "start_time": "2022-07-04T07:59:36.241Z"
   },
   {
    "duration": 171,
    "start_time": "2022-07-04T07:59:36.259Z"
   },
   {
    "duration": 15,
    "start_time": "2022-07-04T07:59:36.432Z"
   },
   {
    "duration": 186,
    "start_time": "2022-07-04T07:59:36.449Z"
   },
   {
    "duration": 18,
    "start_time": "2022-07-04T07:59:36.636Z"
   },
   {
    "duration": 245,
    "start_time": "2022-07-04T07:59:36.655Z"
   },
   {
    "duration": 4,
    "start_time": "2022-07-04T07:59:36.903Z"
   },
   {
    "duration": 21,
    "start_time": "2022-07-04T07:59:36.909Z"
   },
   {
    "duration": 10,
    "start_time": "2022-07-04T07:59:36.932Z"
   },
   {
    "duration": 14,
    "start_time": "2022-07-04T07:59:36.943Z"
   },
   {
    "duration": 194,
    "start_time": "2022-07-04T09:13:28.595Z"
   },
   {
    "duration": 14,
    "start_time": "2022-07-04T09:13:31.885Z"
   },
   {
    "duration": 14,
    "start_time": "2022-07-04T09:13:43.317Z"
   },
   {
    "duration": 1001,
    "start_time": "2022-07-04T09:13:56.789Z"
   },
   {
    "duration": 68,
    "start_time": "2022-07-04T09:13:57.792Z"
   },
   {
    "duration": 13,
    "start_time": "2022-07-04T09:13:57.862Z"
   },
   {
    "duration": 7,
    "start_time": "2022-07-04T09:13:57.877Z"
   },
   {
    "duration": 6,
    "start_time": "2022-07-04T09:13:57.887Z"
   },
   {
    "duration": 11,
    "start_time": "2022-07-04T09:13:57.894Z"
   },
   {
    "duration": 24,
    "start_time": "2022-07-04T09:13:57.906Z"
   },
   {
    "duration": 6,
    "start_time": "2022-07-04T09:13:57.931Z"
   },
   {
    "duration": 6,
    "start_time": "2022-07-04T09:13:57.939Z"
   },
   {
    "duration": 5,
    "start_time": "2022-07-04T09:13:57.946Z"
   },
   {
    "duration": 5,
    "start_time": "2022-07-04T09:13:57.953Z"
   },
   {
    "duration": 19,
    "start_time": "2022-07-04T09:13:57.959Z"
   },
   {
    "duration": 4,
    "start_time": "2022-07-04T09:13:57.979Z"
   },
   {
    "duration": 8,
    "start_time": "2022-07-04T09:13:57.985Z"
   },
   {
    "duration": 5,
    "start_time": "2022-07-04T09:13:57.994Z"
   },
   {
    "duration": 30,
    "start_time": "2022-07-04T09:13:58.000Z"
   },
   {
    "duration": 14,
    "start_time": "2022-07-04T09:13:58.031Z"
   },
   {
    "duration": 4,
    "start_time": "2022-07-04T09:13:58.046Z"
   },
   {
    "duration": 10,
    "start_time": "2022-07-04T09:13:58.051Z"
   },
   {
    "duration": 21,
    "start_time": "2022-07-04T09:13:58.062Z"
   },
   {
    "duration": 45,
    "start_time": "2022-07-04T09:13:58.084Z"
   },
   {
    "duration": 339,
    "start_time": "2022-07-04T09:13:58.130Z"
   },
   {
    "duration": 5,
    "start_time": "2022-07-04T09:13:58.470Z"
   },
   {
    "duration": 17,
    "start_time": "2022-07-04T09:13:58.476Z"
   },
   {
    "duration": 8,
    "start_time": "2022-07-04T09:13:58.495Z"
   },
   {
    "duration": 43,
    "start_time": "2022-07-04T09:13:58.504Z"
   },
   {
    "duration": 286,
    "start_time": "2022-07-04T09:13:58.549Z"
   },
   {
    "duration": 31,
    "start_time": "2022-07-04T09:13:58.845Z"
   },
   {
    "duration": 58,
    "start_time": "2022-07-04T09:13:58.877Z"
   },
   {
    "duration": 4,
    "start_time": "2022-07-04T09:13:58.936Z"
   },
   {
    "duration": 390,
    "start_time": "2022-07-04T09:13:58.941Z"
   },
   {
    "duration": 5,
    "start_time": "2022-07-04T09:13:59.333Z"
   },
   {
    "duration": 21,
    "start_time": "2022-07-04T09:13:59.339Z"
   },
   {
    "duration": 483,
    "start_time": "2022-07-04T09:13:59.361Z"
   },
   {
    "duration": 7,
    "start_time": "2022-07-04T09:13:59.845Z"
   },
   {
    "duration": 8,
    "start_time": "2022-07-04T09:13:59.854Z"
   },
   {
    "duration": 473,
    "start_time": "2022-07-04T09:13:59.863Z"
   },
   {
    "duration": 6,
    "start_time": "2022-07-04T09:14:00.338Z"
   },
   {
    "duration": 20,
    "start_time": "2022-07-04T09:14:00.345Z"
   },
   {
    "duration": 350,
    "start_time": "2022-07-04T09:14:00.367Z"
   },
   {
    "duration": 12,
    "start_time": "2022-07-04T09:14:00.720Z"
   },
   {
    "duration": 13,
    "start_time": "2022-07-04T09:14:00.733Z"
   },
   {
    "duration": 292,
    "start_time": "2022-07-04T09:14:00.747Z"
   },
   {
    "duration": 5,
    "start_time": "2022-07-04T09:14:01.040Z"
   },
   {
    "duration": 8,
    "start_time": "2022-07-04T09:14:01.047Z"
   },
   {
    "duration": 229,
    "start_time": "2022-07-04T09:14:01.057Z"
   },
   {
    "duration": 5,
    "start_time": "2022-07-04T09:14:01.288Z"
   },
   {
    "duration": 8,
    "start_time": "2022-07-04T09:14:01.294Z"
   },
   {
    "duration": 30,
    "start_time": "2022-07-04T09:14:01.304Z"
   },
   {
    "duration": 16,
    "start_time": "2022-07-04T09:14:01.336Z"
   },
   {
    "duration": 177,
    "start_time": "2022-07-04T09:14:01.353Z"
   },
   {
    "duration": 16,
    "start_time": "2022-07-04T09:14:01.532Z"
   },
   {
    "duration": 172,
    "start_time": "2022-07-04T09:14:01.550Z"
   },
   {
    "duration": 19,
    "start_time": "2022-07-04T09:14:01.723Z"
   },
   {
    "duration": 187,
    "start_time": "2022-07-04T09:14:01.743Z"
   },
   {
    "duration": 16,
    "start_time": "2022-07-04T09:14:01.932Z"
   },
   {
    "duration": 182,
    "start_time": "2022-07-04T09:14:01.949Z"
   },
   {
    "duration": 17,
    "start_time": "2022-07-04T09:14:02.132Z"
   },
   {
    "duration": 187,
    "start_time": "2022-07-04T09:14:02.150Z"
   },
   {
    "duration": 16,
    "start_time": "2022-07-04T09:14:02.339Z"
   },
   {
    "duration": 188,
    "start_time": "2022-07-04T09:14:02.357Z"
   },
   {
    "duration": 20,
    "start_time": "2022-07-04T09:14:02.546Z"
   },
   {
    "duration": 170,
    "start_time": "2022-07-04T09:14:02.567Z"
   },
   {
    "duration": 17,
    "start_time": "2022-07-04T09:14:02.738Z"
   },
   {
    "duration": 189,
    "start_time": "2022-07-04T09:14:02.756Z"
   },
   {
    "duration": 16,
    "start_time": "2022-07-04T09:14:02.947Z"
   },
   {
    "duration": 182,
    "start_time": "2022-07-04T09:14:02.964Z"
   },
   {
    "duration": 4,
    "start_time": "2022-07-04T09:14:03.148Z"
   },
   {
    "duration": 13,
    "start_time": "2022-07-04T09:14:03.154Z"
   },
   {
    "duration": 7,
    "start_time": "2022-07-04T09:14:03.168Z"
   },
   {
    "duration": 8,
    "start_time": "2022-07-04T09:14:03.177Z"
   },
   {
    "duration": 418,
    "start_time": "2022-07-04T09:15:40.530Z"
   },
   {
    "duration": 196,
    "start_time": "2022-07-04T09:16:15.208Z"
   },
   {
    "duration": 317,
    "start_time": "2022-07-04T09:16:40.068Z"
   },
   {
    "duration": 172,
    "start_time": "2022-07-04T09:16:46.820Z"
   },
   {
    "duration": 368,
    "start_time": "2022-07-04T09:16:51.326Z"
   },
   {
    "duration": 180,
    "start_time": "2022-07-04T09:17:21.931Z"
   },
   {
    "duration": 478,
    "start_time": "2022-07-04T09:17:43.783Z"
   },
   {
    "duration": 337,
    "start_time": "2022-07-04T09:18:04.202Z"
   },
   {
    "duration": 365,
    "start_time": "2022-07-04T09:18:09.927Z"
   },
   {
    "duration": 348,
    "start_time": "2022-07-04T09:18:20.491Z"
   },
   {
    "duration": 397,
    "start_time": "2022-07-04T09:19:09.416Z"
   },
   {
    "duration": 493,
    "start_time": "2022-07-04T09:19:20.033Z"
   },
   {
    "duration": 388,
    "start_time": "2022-07-04T09:19:40.672Z"
   },
   {
    "duration": 357,
    "start_time": "2022-07-04T09:20:07.530Z"
   },
   {
    "duration": 25,
    "start_time": "2022-07-04T09:22:48.844Z"
   },
   {
    "duration": 25,
    "start_time": "2022-07-04T09:22:54.220Z"
   },
   {
    "duration": 5,
    "start_time": "2022-07-04T09:23:23.398Z"
   },
   {
    "duration": 184,
    "start_time": "2022-07-04T09:23:28.961Z"
   },
   {
    "duration": 261,
    "start_time": "2022-07-04T09:23:45.006Z"
   },
   {
    "duration": 287,
    "start_time": "2022-07-04T09:23:52.184Z"
   },
   {
    "duration": 4,
    "start_time": "2022-07-04T09:25:01.805Z"
   },
   {
    "duration": 4,
    "start_time": "2022-07-04T09:28:16.794Z"
   },
   {
    "duration": 710,
    "start_time": "2022-07-04T09:29:30.089Z"
   },
   {
    "duration": 628,
    "start_time": "2022-07-04T09:29:46.988Z"
   },
   {
    "duration": 1264,
    "start_time": "2022-07-04T09:56:04.862Z"
   },
   {
    "duration": 1734,
    "start_time": "2022-07-04T09:56:25.528Z"
   },
   {
    "duration": 21,
    "start_time": "2022-07-04T09:56:45.118Z"
   },
   {
    "duration": 664,
    "start_time": "2022-07-04T09:56:55.740Z"
   },
   {
    "duration": 793,
    "start_time": "2022-07-04T09:57:11.356Z"
   },
   {
    "duration": 71,
    "start_time": "2022-07-04T09:58:42.341Z"
   },
   {
    "duration": 75,
    "start_time": "2022-07-04T09:58:53.743Z"
   },
   {
    "duration": 88,
    "start_time": "2022-07-04T09:59:31.417Z"
   },
   {
    "duration": 90,
    "start_time": "2022-07-04T09:59:36.510Z"
   },
   {
    "duration": 89,
    "start_time": "2022-07-04T09:59:49.289Z"
   },
   {
    "duration": 87,
    "start_time": "2022-07-04T09:59:55.817Z"
   },
   {
    "duration": 109,
    "start_time": "2022-07-04T10:17:12.678Z"
   },
   {
    "duration": 97,
    "start_time": "2022-07-04T10:17:16.687Z"
   },
   {
    "duration": 101,
    "start_time": "2022-07-04T10:17:19.609Z"
   },
   {
    "duration": 805,
    "start_time": "2022-07-04T10:18:24.029Z"
   },
   {
    "duration": 25,
    "start_time": "2022-07-04T10:18:31.154Z"
   },
   {
    "duration": 95,
    "start_time": "2022-07-04T10:18:36.509Z"
   },
   {
    "duration": 943,
    "start_time": "2022-07-04T10:18:39.609Z"
   },
   {
    "duration": 12,
    "start_time": "2022-07-04T10:18:52.818Z"
   },
   {
    "duration": 96,
    "start_time": "2022-07-04T11:02:39.968Z"
   },
   {
    "duration": 10,
    "start_time": "2022-07-04T11:02:57.007Z"
   },
   {
    "duration": 25,
    "start_time": "2022-07-04T11:03:08.735Z"
   },
   {
    "duration": 640,
    "start_time": "2022-07-04T11:12:57.396Z"
   },
   {
    "duration": 634,
    "start_time": "2022-07-04T11:13:13.799Z"
   },
   {
    "duration": 715,
    "start_time": "2022-07-04T11:13:24.641Z"
   },
   {
    "duration": 650,
    "start_time": "2022-07-04T11:13:32.808Z"
   },
   {
    "duration": 4,
    "start_time": "2022-07-04T11:15:24.999Z"
   },
   {
    "duration": 79,
    "start_time": "2022-07-04T11:15:39.459Z"
   },
   {
    "duration": 142,
    "start_time": "2022-07-04T11:15:56.061Z"
   },
   {
    "duration": 84,
    "start_time": "2022-07-04T11:16:44.061Z"
   },
   {
    "duration": 94,
    "start_time": "2022-07-04T11:17:16.560Z"
   },
   {
    "duration": 108,
    "start_time": "2022-07-04T11:18:00.015Z"
   },
   {
    "duration": 18,
    "start_time": "2022-07-04T11:19:10.037Z"
   },
   {
    "duration": 13,
    "start_time": "2022-07-04T11:21:03.250Z"
   },
   {
    "duration": 238,
    "start_time": "2022-07-04T11:21:10.157Z"
   },
   {
    "duration": 7,
    "start_time": "2022-07-04T11:21:18.372Z"
   },
   {
    "duration": 242,
    "start_time": "2022-07-04T11:21:35.106Z"
   },
   {
    "duration": 5,
    "start_time": "2022-07-04T11:21:46.483Z"
   },
   {
    "duration": 5,
    "start_time": "2022-07-04T11:21:55.114Z"
   },
   {
    "duration": 264,
    "start_time": "2022-07-04T11:21:58.902Z"
   },
   {
    "duration": 6,
    "start_time": "2022-07-04T11:22:01.674Z"
   },
   {
    "duration": 5,
    "start_time": "2022-07-04T11:22:03.195Z"
   },
   {
    "duration": 279,
    "start_time": "2022-07-04T11:22:09.401Z"
   },
   {
    "duration": 5,
    "start_time": "2022-07-04T11:22:13.216Z"
   },
   {
    "duration": 7,
    "start_time": "2022-07-04T11:22:15.141Z"
   },
   {
    "duration": 259,
    "start_time": "2022-07-04T11:22:18.925Z"
   },
   {
    "duration": 5,
    "start_time": "2022-07-04T11:22:22.276Z"
   },
   {
    "duration": 5,
    "start_time": "2022-07-04T11:22:25.395Z"
   },
   {
    "duration": 11,
    "start_time": "2022-07-04T11:22:37.702Z"
   },
   {
    "duration": 12,
    "start_time": "2022-07-04T11:23:06.358Z"
   },
   {
    "duration": 11,
    "start_time": "2022-07-04T11:23:32.267Z"
   },
   {
    "duration": 252,
    "start_time": "2022-07-04T11:23:39.070Z"
   },
   {
    "duration": 5,
    "start_time": "2022-07-04T11:23:42.459Z"
   },
   {
    "duration": 5,
    "start_time": "2022-07-04T11:23:44.660Z"
   },
   {
    "duration": 20,
    "start_time": "2022-07-04T11:23:47.196Z"
   },
   {
    "duration": 6,
    "start_time": "2022-07-04T11:24:17.203Z"
   },
   {
    "duration": 153,
    "start_time": "2022-07-04T11:25:51.525Z"
   },
   {
    "duration": 18,
    "start_time": "2022-07-04T11:26:05.534Z"
   },
   {
    "duration": 323,
    "start_time": "2022-07-04T11:26:23.539Z"
   },
   {
    "duration": 18,
    "start_time": "2022-07-04T11:26:46.299Z"
   },
   {
    "duration": 290,
    "start_time": "2022-07-04T11:26:49.532Z"
   },
   {
    "duration": 16,
    "start_time": "2022-07-04T11:26:58.703Z"
   },
   {
    "duration": 407,
    "start_time": "2022-07-04T11:27:03.448Z"
   },
   {
    "duration": 19,
    "start_time": "2022-07-04T11:27:10.212Z"
   },
   {
    "duration": 259,
    "start_time": "2022-07-04T11:27:13.361Z"
   },
   {
    "duration": 16,
    "start_time": "2022-07-04T11:27:21.738Z"
   },
   {
    "duration": 17,
    "start_time": "2022-07-04T11:27:35.000Z"
   },
   {
    "duration": 145,
    "start_time": "2022-07-04T11:27:51.999Z"
   },
   {
    "duration": 286,
    "start_time": "2022-07-04T11:27:57.843Z"
   },
   {
    "duration": 1121,
    "start_time": "2022-07-04T11:31:57.400Z"
   },
   {
    "duration": 73,
    "start_time": "2022-07-04T11:31:58.523Z"
   },
   {
    "duration": 13,
    "start_time": "2022-07-04T11:31:58.597Z"
   },
   {
    "duration": 8,
    "start_time": "2022-07-04T11:31:58.612Z"
   },
   {
    "duration": 3,
    "start_time": "2022-07-04T11:31:58.622Z"
   },
   {
    "duration": 9,
    "start_time": "2022-07-04T11:31:58.628Z"
   },
   {
    "duration": 5,
    "start_time": "2022-07-04T11:31:58.639Z"
   },
   {
    "duration": 7,
    "start_time": "2022-07-04T11:31:58.645Z"
   },
   {
    "duration": 6,
    "start_time": "2022-07-04T11:31:58.654Z"
   },
   {
    "duration": 6,
    "start_time": "2022-07-04T11:31:58.661Z"
   },
   {
    "duration": 6,
    "start_time": "2022-07-04T11:31:58.669Z"
   },
   {
    "duration": 21,
    "start_time": "2022-07-04T11:31:58.677Z"
   },
   {
    "duration": 3,
    "start_time": "2022-07-04T11:31:58.700Z"
   },
   {
    "duration": 6,
    "start_time": "2022-07-04T11:31:58.728Z"
   },
   {
    "duration": 6,
    "start_time": "2022-07-04T11:31:58.736Z"
   },
   {
    "duration": 8,
    "start_time": "2022-07-04T11:31:58.743Z"
   },
   {
    "duration": 13,
    "start_time": "2022-07-04T11:31:58.752Z"
   },
   {
    "duration": 4,
    "start_time": "2022-07-04T11:31:58.766Z"
   },
   {
    "duration": 11,
    "start_time": "2022-07-04T11:31:58.771Z"
   },
   {
    "duration": 55,
    "start_time": "2022-07-04T11:31:58.783Z"
   },
   {
    "duration": 17,
    "start_time": "2022-07-04T11:31:58.839Z"
   },
   {
    "duration": 382,
    "start_time": "2022-07-04T11:31:58.857Z"
   },
   {
    "duration": 5,
    "start_time": "2022-07-04T11:31:59.240Z"
   },
   {
    "duration": 18,
    "start_time": "2022-07-04T11:31:59.246Z"
   },
   {
    "duration": 8,
    "start_time": "2022-07-04T11:31:59.266Z"
   },
   {
    "duration": 27,
    "start_time": "2022-07-04T11:31:59.275Z"
   },
   {
    "duration": 309,
    "start_time": "2022-07-04T11:31:59.304Z"
   },
   {
    "duration": 34,
    "start_time": "2022-07-04T11:31:59.614Z"
   },
   {
    "duration": 15,
    "start_time": "2022-07-04T11:31:59.649Z"
   },
   {
    "duration": 7,
    "start_time": "2022-07-04T11:31:59.665Z"
   },
   {
    "duration": 255,
    "start_time": "2022-07-04T11:31:59.674Z"
   },
   {
    "duration": 5,
    "start_time": "2022-07-04T11:31:59.930Z"
   },
   {
    "duration": 13,
    "start_time": "2022-07-04T11:31:59.936Z"
   },
   {
    "duration": 238,
    "start_time": "2022-07-04T11:31:59.950Z"
   },
   {
    "duration": 6,
    "start_time": "2022-07-04T11:32:00.189Z"
   },
   {
    "duration": 11,
    "start_time": "2022-07-04T11:32:00.197Z"
   },
   {
    "duration": 24,
    "start_time": "2022-07-04T11:32:00.210Z"
   },
   {
    "duration": 224,
    "start_time": "2022-07-04T11:32:00.236Z"
   },
   {
    "duration": 5,
    "start_time": "2022-07-04T11:32:00.461Z"
   },
   {
    "duration": 12,
    "start_time": "2022-07-04T11:32:00.467Z"
   },
   {
    "duration": 320,
    "start_time": "2022-07-04T11:32:00.482Z"
   },
   {
    "duration": 6,
    "start_time": "2022-07-04T11:32:00.804Z"
   },
   {
    "duration": 18,
    "start_time": "2022-07-04T11:32:00.812Z"
   },
   {
    "duration": 232,
    "start_time": "2022-07-04T11:32:00.831Z"
   },
   {
    "duration": 4,
    "start_time": "2022-07-04T11:32:01.065Z"
   },
   {
    "duration": 9,
    "start_time": "2022-07-04T11:32:01.071Z"
   },
   {
    "duration": 251,
    "start_time": "2022-07-04T11:32:01.082Z"
   },
   {
    "duration": 5,
    "start_time": "2022-07-04T11:32:01.335Z"
   },
   {
    "duration": 18,
    "start_time": "2022-07-04T11:32:01.341Z"
   },
   {
    "duration": 19,
    "start_time": "2022-07-04T11:32:01.361Z"
   },
   {
    "duration": 272,
    "start_time": "2022-07-04T11:32:01.381Z"
   },
   {
    "duration": 17,
    "start_time": "2022-07-04T11:32:01.655Z"
   },
   {
    "duration": 184,
    "start_time": "2022-07-04T11:32:01.674Z"
   },
   {
    "duration": 17,
    "start_time": "2022-07-04T11:32:01.859Z"
   },
   {
    "duration": 185,
    "start_time": "2022-07-04T11:32:01.877Z"
   },
   {
    "duration": 17,
    "start_time": "2022-07-04T11:32:02.064Z"
   },
   {
    "duration": 177,
    "start_time": "2022-07-04T11:32:02.082Z"
   },
   {
    "duration": 17,
    "start_time": "2022-07-04T11:32:02.260Z"
   },
   {
    "duration": 176,
    "start_time": "2022-07-04T11:32:02.279Z"
   },
   {
    "duration": 16,
    "start_time": "2022-07-04T11:32:02.457Z"
   },
   {
    "duration": 182,
    "start_time": "2022-07-04T11:32:02.474Z"
   },
   {
    "duration": 17,
    "start_time": "2022-07-04T11:32:02.658Z"
   },
   {
    "duration": 179,
    "start_time": "2022-07-04T11:32:02.677Z"
   },
   {
    "duration": 17,
    "start_time": "2022-07-04T11:32:02.858Z"
   },
   {
    "duration": 253,
    "start_time": "2022-07-04T11:32:02.876Z"
   },
   {
    "duration": 18,
    "start_time": "2022-07-04T11:32:03.131Z"
   },
   {
    "duration": 204,
    "start_time": "2022-07-04T11:32:03.150Z"
   },
   {
    "duration": 16,
    "start_time": "2022-07-04T11:32:03.356Z"
   },
   {
    "duration": 167,
    "start_time": "2022-07-04T11:32:03.374Z"
   },
   {
    "duration": 3,
    "start_time": "2022-07-04T11:32:03.543Z"
   },
   {
    "duration": 9,
    "start_time": "2022-07-04T11:32:03.547Z"
   },
   {
    "duration": 9,
    "start_time": "2022-07-04T11:32:03.557Z"
   },
   {
    "duration": 7,
    "start_time": "2022-07-04T11:32:03.567Z"
   },
   {
    "duration": 299,
    "start_time": "2022-07-04T11:50:48.747Z"
   },
   {
    "duration": 269,
    "start_time": "2022-07-04T11:52:22.439Z"
   },
   {
    "duration": 345,
    "start_time": "2022-07-04T11:55:37.299Z"
   },
   {
    "duration": 298,
    "start_time": "2022-07-04T11:55:43.042Z"
   },
   {
    "duration": 418,
    "start_time": "2022-07-04T13:58:30.174Z"
   },
   {
    "duration": 305,
    "start_time": "2022-07-04T13:58:37.972Z"
   },
   {
    "duration": 304,
    "start_time": "2022-07-04T13:59:12.160Z"
   },
   {
    "duration": 297,
    "start_time": "2022-07-04T15:04:17.951Z"
   },
   {
    "duration": 1470,
    "start_time": "2022-07-05T16:05:08.618Z"
   },
   {
    "duration": 270,
    "start_time": "2022-07-05T16:05:10.090Z"
   },
   {
    "duration": 17,
    "start_time": "2022-07-05T16:05:10.361Z"
   },
   {
    "duration": 9,
    "start_time": "2022-07-05T16:05:10.380Z"
   },
   {
    "duration": 29,
    "start_time": "2022-07-05T16:05:10.390Z"
   },
   {
    "duration": 13,
    "start_time": "2022-07-05T16:05:10.421Z"
   },
   {
    "duration": 6,
    "start_time": "2022-07-05T16:05:10.435Z"
   },
   {
    "duration": 7,
    "start_time": "2022-07-05T16:05:10.442Z"
   },
   {
    "duration": 6,
    "start_time": "2022-07-05T16:05:10.451Z"
   },
   {
    "duration": 4,
    "start_time": "2022-07-05T16:05:10.460Z"
   },
   {
    "duration": 6,
    "start_time": "2022-07-05T16:05:10.465Z"
   },
   {
    "duration": 49,
    "start_time": "2022-07-05T16:05:10.472Z"
   },
   {
    "duration": 4,
    "start_time": "2022-07-05T16:05:10.523Z"
   },
   {
    "duration": 12,
    "start_time": "2022-07-05T16:05:10.529Z"
   },
   {
    "duration": 8,
    "start_time": "2022-07-05T16:05:10.543Z"
   },
   {
    "duration": 9,
    "start_time": "2022-07-05T16:05:10.553Z"
   },
   {
    "duration": 50,
    "start_time": "2022-07-05T16:05:10.564Z"
   },
   {
    "duration": 5,
    "start_time": "2022-07-05T16:05:10.616Z"
   },
   {
    "duration": 12,
    "start_time": "2022-07-05T16:05:10.623Z"
   },
   {
    "duration": 25,
    "start_time": "2022-07-05T16:05:10.637Z"
   },
   {
    "duration": 18,
    "start_time": "2022-07-05T16:05:10.664Z"
   },
   {
    "duration": 436,
    "start_time": "2022-07-05T16:05:10.684Z"
   },
   {
    "duration": 5,
    "start_time": "2022-07-05T16:05:11.122Z"
   },
   {
    "duration": 17,
    "start_time": "2022-07-05T16:05:11.129Z"
   },
   {
    "duration": 10,
    "start_time": "2022-07-05T16:05:11.148Z"
   },
   {
    "duration": 55,
    "start_time": "2022-07-05T16:05:11.159Z"
   },
   {
    "duration": 364,
    "start_time": "2022-07-05T16:05:11.217Z"
   },
   {
    "duration": 33,
    "start_time": "2022-07-05T16:05:11.586Z"
   },
   {
    "duration": 19,
    "start_time": "2022-07-05T16:05:11.621Z"
   },
   {
    "duration": 11,
    "start_time": "2022-07-05T16:05:11.642Z"
   },
   {
    "duration": 320,
    "start_time": "2022-07-05T16:05:11.656Z"
   },
   {
    "duration": 5,
    "start_time": "2022-07-05T16:05:11.978Z"
   },
   {
    "duration": 28,
    "start_time": "2022-07-05T16:05:11.984Z"
   },
   {
    "duration": 278,
    "start_time": "2022-07-05T16:05:12.014Z"
   },
   {
    "duration": 24,
    "start_time": "2022-07-05T16:05:12.298Z"
   },
   {
    "duration": 7,
    "start_time": "2022-07-05T16:05:12.323Z"
   },
   {
    "duration": 16,
    "start_time": "2022-07-05T16:05:12.331Z"
   },
   {
    "duration": 267,
    "start_time": "2022-07-05T16:05:12.349Z"
   },
   {
    "duration": 5,
    "start_time": "2022-07-05T16:05:12.617Z"
   },
   {
    "duration": 7,
    "start_time": "2022-07-05T16:05:12.624Z"
   },
   {
    "duration": 408,
    "start_time": "2022-07-05T16:05:12.632Z"
   },
   {
    "duration": 6,
    "start_time": "2022-07-05T16:05:13.042Z"
   },
   {
    "duration": 7,
    "start_time": "2022-07-05T16:05:13.049Z"
   },
   {
    "duration": 303,
    "start_time": "2022-07-05T16:05:13.058Z"
   },
   {
    "duration": 6,
    "start_time": "2022-07-05T16:05:13.363Z"
   },
   {
    "duration": 9,
    "start_time": "2022-07-05T16:05:13.371Z"
   },
   {
    "duration": 316,
    "start_time": "2022-07-05T16:05:13.406Z"
   },
   {
    "duration": 6,
    "start_time": "2022-07-05T16:05:13.724Z"
   },
   {
    "duration": 7,
    "start_time": "2022-07-05T16:05:13.731Z"
   },
   {
    "duration": 18,
    "start_time": "2022-07-05T16:05:13.740Z"
   },
   {
    "duration": 365,
    "start_time": "2022-07-05T16:05:13.760Z"
   },
   {
    "duration": 327,
    "start_time": "2022-07-05T16:05:14.129Z"
   },
   {
    "duration": 21,
    "start_time": "2022-07-05T16:05:14.458Z"
   },
   {
    "duration": 204,
    "start_time": "2022-07-05T16:05:14.499Z"
   },
   {
    "duration": 24,
    "start_time": "2022-07-05T16:05:14.707Z"
   },
   {
    "duration": 216,
    "start_time": "2022-07-05T16:05:14.733Z"
   },
   {
    "duration": 20,
    "start_time": "2022-07-05T16:05:14.951Z"
   },
   {
    "duration": 212,
    "start_time": "2022-07-05T16:05:14.972Z"
   },
   {
    "duration": 37,
    "start_time": "2022-07-05T16:05:15.186Z"
   },
   {
    "duration": 222,
    "start_time": "2022-07-05T16:05:15.225Z"
   },
   {
    "duration": 22,
    "start_time": "2022-07-05T16:05:15.448Z"
   },
   {
    "duration": 321,
    "start_time": "2022-07-05T16:05:15.472Z"
   },
   {
    "duration": 22,
    "start_time": "2022-07-05T16:05:15.800Z"
   },
   {
    "duration": 230,
    "start_time": "2022-07-05T16:05:15.824Z"
   },
   {
    "duration": 22,
    "start_time": "2022-07-05T16:05:16.056Z"
   },
   {
    "duration": 206,
    "start_time": "2022-07-05T16:05:16.079Z"
   },
   {
    "duration": 40,
    "start_time": "2022-07-05T16:05:16.287Z"
   },
   {
    "duration": 212,
    "start_time": "2022-07-05T16:05:16.328Z"
   },
   {
    "duration": 19,
    "start_time": "2022-07-05T16:05:16.542Z"
   },
   {
    "duration": 252,
    "start_time": "2022-07-05T16:05:16.563Z"
   },
   {
    "duration": 5,
    "start_time": "2022-07-05T16:05:16.818Z"
   },
   {
    "duration": 24,
    "start_time": "2022-07-05T16:05:16.825Z"
   },
   {
    "duration": 16,
    "start_time": "2022-07-05T16:05:16.851Z"
   },
   {
    "duration": 14,
    "start_time": "2022-07-05T16:05:16.869Z"
   },
   {
    "duration": 1589,
    "start_time": "2022-07-05T16:08:08.855Z"
   },
   {
    "duration": 128,
    "start_time": "2022-07-05T16:08:10.498Z"
   },
   {
    "duration": 16,
    "start_time": "2022-07-05T16:08:10.627Z"
   },
   {
    "duration": 13,
    "start_time": "2022-07-05T16:08:10.705Z"
   },
   {
    "duration": 10,
    "start_time": "2022-07-05T16:08:10.720Z"
   },
   {
    "duration": 11,
    "start_time": "2022-07-05T16:08:10.732Z"
   },
   {
    "duration": 5,
    "start_time": "2022-07-05T16:08:10.745Z"
   },
   {
    "duration": 58,
    "start_time": "2022-07-05T16:08:10.752Z"
   },
   {
    "duration": 15,
    "start_time": "2022-07-05T16:08:10.812Z"
   },
   {
    "duration": 6,
    "start_time": "2022-07-05T16:08:10.830Z"
   },
   {
    "duration": 6,
    "start_time": "2022-07-05T16:08:10.838Z"
   },
   {
    "duration": 66,
    "start_time": "2022-07-05T16:08:10.846Z"
   },
   {
    "duration": 5,
    "start_time": "2022-07-05T16:08:10.914Z"
   },
   {
    "duration": 16,
    "start_time": "2022-07-05T16:08:10.921Z"
   },
   {
    "duration": 9,
    "start_time": "2022-07-05T16:08:10.939Z"
   },
   {
    "duration": 22,
    "start_time": "2022-07-05T16:08:11.000Z"
   },
   {
    "duration": 15,
    "start_time": "2022-07-05T16:08:11.024Z"
   },
   {
    "duration": 5,
    "start_time": "2022-07-05T16:08:11.041Z"
   },
   {
    "duration": 66,
    "start_time": "2022-07-05T16:08:11.047Z"
   },
   {
    "duration": 35,
    "start_time": "2022-07-05T16:08:11.114Z"
   },
   {
    "duration": 21,
    "start_time": "2022-07-05T16:08:11.200Z"
   },
   {
    "duration": 904,
    "start_time": "2022-07-05T16:08:11.223Z"
   },
   {
    "duration": 7,
    "start_time": "2022-07-05T16:08:12.129Z"
   },
   {
    "duration": 73,
    "start_time": "2022-07-05T16:08:12.137Z"
   },
   {
    "duration": 17,
    "start_time": "2022-07-05T16:08:12.212Z"
   },
   {
    "duration": 88,
    "start_time": "2022-07-05T16:08:12.230Z"
   },
   {
    "duration": 725,
    "start_time": "2022-07-05T16:08:12.320Z"
   },
   {
    "duration": 30,
    "start_time": "2022-07-05T16:08:13.103Z"
   },
   {
    "duration": 77,
    "start_time": "2022-07-05T16:08:13.135Z"
   },
   {
    "duration": 9,
    "start_time": "2022-07-05T16:08:13.215Z"
   },
   {
    "duration": 682,
    "start_time": "2022-07-05T16:08:13.226Z"
   },
   {
    "duration": 6,
    "start_time": "2022-07-05T16:08:13.910Z"
   },
   {
    "duration": 25,
    "start_time": "2022-07-05T16:08:13.919Z"
   },
   {
    "duration": 463,
    "start_time": "2022-07-05T16:08:13.946Z"
   },
   {
    "duration": 9,
    "start_time": "2022-07-05T16:08:14.415Z"
   },
   {
    "duration": 6,
    "start_time": "2022-07-05T16:08:14.426Z"
   },
   {
    "duration": 16,
    "start_time": "2022-07-05T16:08:14.434Z"
   },
   {
    "duration": 288,
    "start_time": "2022-07-05T16:08:14.452Z"
   },
   {
    "duration": 6,
    "start_time": "2022-07-05T16:08:14.742Z"
   },
   {
    "duration": 7,
    "start_time": "2022-07-05T16:08:14.750Z"
   },
   {
    "duration": 406,
    "start_time": "2022-07-05T16:08:14.760Z"
   },
   {
    "duration": 5,
    "start_time": "2022-07-05T16:08:15.168Z"
   },
   {
    "duration": 8,
    "start_time": "2022-07-05T16:08:15.175Z"
   },
   {
    "duration": 291,
    "start_time": "2022-07-05T16:08:15.184Z"
   },
   {
    "duration": 5,
    "start_time": "2022-07-05T16:08:15.477Z"
   },
   {
    "duration": 24,
    "start_time": "2022-07-05T16:08:15.484Z"
   },
   {
    "duration": 298,
    "start_time": "2022-07-05T16:08:15.511Z"
   },
   {
    "duration": 8,
    "start_time": "2022-07-05T16:08:15.811Z"
   },
   {
    "duration": 11,
    "start_time": "2022-07-05T16:08:15.821Z"
   },
   {
    "duration": 24,
    "start_time": "2022-07-05T16:08:15.834Z"
   },
   {
    "duration": 370,
    "start_time": "2022-07-05T16:08:15.860Z"
   },
   {
    "duration": 318,
    "start_time": "2022-07-05T16:08:16.232Z"
   },
   {
    "duration": 20,
    "start_time": "2022-07-05T16:08:16.552Z"
   },
   {
    "duration": 293,
    "start_time": "2022-07-05T16:08:16.574Z"
   },
   {
    "duration": 43,
    "start_time": "2022-07-05T16:08:16.869Z"
   },
   {
    "duration": 247,
    "start_time": "2022-07-05T16:08:16.915Z"
   },
   {
    "duration": 19,
    "start_time": "2022-07-05T16:08:17.164Z"
   },
   {
    "duration": 207,
    "start_time": "2022-07-05T16:08:17.184Z"
   },
   {
    "duration": 24,
    "start_time": "2022-07-05T16:08:17.393Z"
   },
   {
    "duration": 222,
    "start_time": "2022-07-05T16:08:17.419Z"
   },
   {
    "duration": 19,
    "start_time": "2022-07-05T16:08:17.643Z"
   },
   {
    "duration": 318,
    "start_time": "2022-07-05T16:08:17.664Z"
   },
   {
    "duration": 36,
    "start_time": "2022-07-05T16:08:17.983Z"
   },
   {
    "duration": 228,
    "start_time": "2022-07-05T16:08:18.021Z"
   },
   {
    "duration": 18,
    "start_time": "2022-07-05T16:08:18.251Z"
   },
   {
    "duration": 205,
    "start_time": "2022-07-05T16:08:18.271Z"
   },
   {
    "duration": 30,
    "start_time": "2022-07-05T16:08:18.478Z"
   },
   {
    "duration": 224,
    "start_time": "2022-07-05T16:08:18.513Z"
   },
   {
    "duration": 20,
    "start_time": "2022-07-05T16:08:18.739Z"
   },
   {
    "duration": 223,
    "start_time": "2022-07-05T16:08:18.761Z"
   },
   {
    "duration": 5,
    "start_time": "2022-07-05T16:08:18.986Z"
   },
   {
    "duration": 19,
    "start_time": "2022-07-05T16:08:18.998Z"
   },
   {
    "duration": 6,
    "start_time": "2022-07-05T16:08:19.019Z"
   },
   {
    "duration": 7,
    "start_time": "2022-07-05T16:08:19.026Z"
   },
   {
    "duration": 15,
    "start_time": "2022-07-05T16:13:13.119Z"
   },
   {
    "duration": 107,
    "start_time": "2022-07-05T16:13:30.639Z"
   },
   {
    "duration": 88,
    "start_time": "2022-07-05T16:13:41.024Z"
   },
   {
    "duration": 96,
    "start_time": "2022-07-05T16:13:53.088Z"
   },
   {
    "duration": 19,
    "start_time": "2022-07-05T16:14:02.694Z"
   },
   {
    "duration": 105,
    "start_time": "2022-07-05T16:14:06.187Z"
   },
   {
    "duration": 11,
    "start_time": "2022-07-05T16:14:20.332Z"
   },
   {
    "duration": 32,
    "start_time": "2022-07-05T16:14:26.991Z"
   },
   {
    "duration": 117,
    "start_time": "2022-07-05T16:15:15.851Z"
   },
   {
    "duration": 12,
    "start_time": "2022-07-05T16:17:18.879Z"
   },
   {
    "duration": 29,
    "start_time": "2022-07-05T16:17:29.015Z"
   },
   {
    "duration": 12,
    "start_time": "2022-07-05T16:18:33.476Z"
   },
   {
    "duration": 17,
    "start_time": "2022-07-05T16:18:38.690Z"
   },
   {
    "duration": 33,
    "start_time": "2022-07-05T16:18:48.890Z"
   },
   {
    "duration": 287,
    "start_time": "2022-07-05T16:19:10.920Z"
   },
   {
    "duration": 7,
    "start_time": "2022-07-05T16:19:20.361Z"
   },
   {
    "duration": 7,
    "start_time": "2022-07-05T16:19:28.015Z"
   },
   {
    "duration": 5,
    "start_time": "2022-07-05T16:19:37.537Z"
   },
   {
    "duration": 287,
    "start_time": "2022-07-05T16:19:54.432Z"
   },
   {
    "duration": 6,
    "start_time": "2022-07-05T16:20:04.042Z"
   },
   {
    "duration": 7,
    "start_time": "2022-07-05T16:20:13.315Z"
   },
   {
    "duration": 288,
    "start_time": "2022-07-05T16:20:32.661Z"
   },
   {
    "duration": 6,
    "start_time": "2022-07-05T16:20:42.658Z"
   },
   {
    "duration": 6,
    "start_time": "2022-07-05T16:20:53.924Z"
   },
   {
    "duration": 314,
    "start_time": "2022-07-05T16:21:04.019Z"
   },
   {
    "duration": 6,
    "start_time": "2022-07-05T16:21:24.582Z"
   },
   {
    "duration": 298,
    "start_time": "2022-07-05T16:21:38.076Z"
   },
   {
    "duration": 12,
    "start_time": "2022-07-05T16:21:52.015Z"
   },
   {
    "duration": 6,
    "start_time": "2022-07-05T16:22:03.445Z"
   },
   {
    "duration": 82,
    "start_time": "2022-07-05T16:24:22.877Z"
   },
   {
    "duration": 18,
    "start_time": "2022-07-05T16:27:48.327Z"
   },
   {
    "duration": 23,
    "start_time": "2022-07-05T16:33:04.188Z"
   },
   {
    "duration": 18,
    "start_time": "2022-07-05T16:33:08.563Z"
   },
   {
    "duration": 12,
    "start_time": "2022-07-05T16:33:30.881Z"
   },
   {
    "duration": 304,
    "start_time": "2022-07-05T16:33:32.550Z"
   },
   {
    "duration": 319,
    "start_time": "2022-07-05T16:34:21.958Z"
   },
   {
    "duration": 449,
    "start_time": "2022-07-05T16:34:34.212Z"
   },
   {
    "duration": 448,
    "start_time": "2022-07-05T16:35:56.281Z"
   },
   {
    "duration": 709,
    "start_time": "2022-07-05T16:36:15.494Z"
   },
   {
    "duration": 538,
    "start_time": "2022-07-05T16:37:24.195Z"
   },
   {
    "duration": 13,
    "start_time": "2022-07-05T16:41:30.007Z"
   },
   {
    "duration": 625,
    "start_time": "2022-07-05T16:41:32.637Z"
   },
   {
    "duration": 15,
    "start_time": "2022-07-05T16:42:24.946Z"
   },
   {
    "duration": 597,
    "start_time": "2022-07-05T16:42:53.886Z"
   },
   {
    "duration": 873,
    "start_time": "2022-07-05T16:43:02.418Z"
   },
   {
    "duration": 1124,
    "start_time": "2022-07-05T16:46:00.086Z"
   },
   {
    "duration": 1005,
    "start_time": "2022-07-05T16:46:16.629Z"
   },
   {
    "duration": 677,
    "start_time": "2022-07-05T16:46:25.892Z"
   },
   {
    "duration": 559,
    "start_time": "2022-07-05T16:46:31.334Z"
   },
   {
    "duration": 377,
    "start_time": "2022-07-05T16:46:39.870Z"
   },
   {
    "duration": 1153,
    "start_time": "2022-07-05T16:46:48.850Z"
   },
   {
    "duration": 252,
    "start_time": "2022-07-05T16:48:46.452Z"
   },
   {
    "duration": 228,
    "start_time": "2022-07-05T16:48:58.614Z"
   },
   {
    "duration": 230,
    "start_time": "2022-07-05T16:49:08.945Z"
   },
   {
    "duration": 83,
    "start_time": "2022-07-05T16:53:53.777Z"
   },
   {
    "duration": 14,
    "start_time": "2022-07-05T16:53:59.060Z"
   },
   {
    "duration": 16,
    "start_time": "2022-07-05T16:54:14.755Z"
   },
   {
    "duration": 15,
    "start_time": "2022-07-05T16:54:23.385Z"
   },
   {
    "duration": 21,
    "start_time": "2022-07-05T16:54:28.207Z"
   },
   {
    "duration": 23,
    "start_time": "2022-07-05T17:04:01.079Z"
   },
   {
    "duration": 149,
    "start_time": "2022-07-05T17:06:42.565Z"
   },
   {
    "duration": 125,
    "start_time": "2022-07-05T17:06:58.513Z"
   },
   {
    "duration": 986,
    "start_time": "2022-07-05T17:11:28.335Z"
   },
   {
    "duration": 966,
    "start_time": "2022-07-05T17:12:59.379Z"
   },
   {
    "duration": 967,
    "start_time": "2022-07-05T17:13:05.237Z"
   },
   {
    "duration": 1114,
    "start_time": "2022-07-05T17:13:19.939Z"
   },
   {
    "duration": 951,
    "start_time": "2022-07-05T17:13:30.351Z"
   },
   {
    "duration": 933,
    "start_time": "2022-07-05T17:13:40.788Z"
   },
   {
    "duration": 1091,
    "start_time": "2022-07-05T17:15:37.435Z"
   },
   {
    "duration": 74,
    "start_time": "2022-07-05T17:15:57.567Z"
   },
   {
    "duration": 1004,
    "start_time": "2022-07-05T17:16:17.834Z"
   },
   {
    "duration": 1154,
    "start_time": "2022-07-05T17:18:02.458Z"
   },
   {
    "duration": 990,
    "start_time": "2022-07-05T17:19:02.316Z"
   },
   {
    "duration": 1066,
    "start_time": "2022-07-05T17:20:38.076Z"
   },
   {
    "duration": 12,
    "start_time": "2022-07-05T17:21:36.974Z"
   },
   {
    "duration": 14,
    "start_time": "2022-07-05T17:21:41.512Z"
   },
   {
    "duration": 1102,
    "start_time": "2022-07-05T17:21:44.135Z"
   },
   {
    "duration": 995,
    "start_time": "2022-07-05T17:23:18.799Z"
   },
   {
    "duration": 1092,
    "start_time": "2022-07-05T17:23:25.989Z"
   },
   {
    "duration": 1247,
    "start_time": "2022-07-05T17:24:22.164Z"
   },
   {
    "duration": 1126,
    "start_time": "2022-07-05T17:24:28.605Z"
   },
   {
    "duration": 998,
    "start_time": "2022-07-05T17:24:41.584Z"
   },
   {
    "duration": 1046,
    "start_time": "2022-07-05T17:24:47.706Z"
   },
   {
    "duration": 1033,
    "start_time": "2022-07-05T17:24:52.075Z"
   },
   {
    "duration": 1283,
    "start_time": "2022-07-05T17:24:57.754Z"
   },
   {
    "duration": 1012,
    "start_time": "2022-07-05T17:25:42.261Z"
   },
   {
    "duration": 1298,
    "start_time": "2022-07-05T17:26:47.819Z"
   },
   {
    "duration": 78,
    "start_time": "2022-07-05T17:26:49.119Z"
   },
   {
    "duration": 15,
    "start_time": "2022-07-05T17:26:49.199Z"
   },
   {
    "duration": 9,
    "start_time": "2022-07-05T17:26:49.217Z"
   },
   {
    "duration": 5,
    "start_time": "2022-07-05T17:26:49.228Z"
   },
   {
    "duration": 11,
    "start_time": "2022-07-05T17:26:49.235Z"
   },
   {
    "duration": 5,
    "start_time": "2022-07-05T17:26:49.248Z"
   },
   {
    "duration": 44,
    "start_time": "2022-07-05T17:26:49.255Z"
   },
   {
    "duration": 9,
    "start_time": "2022-07-05T17:26:49.301Z"
   },
   {
    "duration": 5,
    "start_time": "2022-07-05T17:26:49.313Z"
   },
   {
    "duration": 5,
    "start_time": "2022-07-05T17:26:49.319Z"
   },
   {
    "duration": 22,
    "start_time": "2022-07-05T17:26:49.326Z"
   },
   {
    "duration": 5,
    "start_time": "2022-07-05T17:26:49.350Z"
   },
   {
    "duration": 8,
    "start_time": "2022-07-05T17:26:49.357Z"
   },
   {
    "duration": 35,
    "start_time": "2022-07-05T17:26:49.367Z"
   },
   {
    "duration": 12,
    "start_time": "2022-07-05T17:26:49.403Z"
   },
   {
    "duration": 14,
    "start_time": "2022-07-05T17:26:49.417Z"
   },
   {
    "duration": 10,
    "start_time": "2022-07-05T17:26:49.433Z"
   },
   {
    "duration": 11,
    "start_time": "2022-07-05T17:26:49.445Z"
   },
   {
    "duration": 52,
    "start_time": "2022-07-05T17:26:49.458Z"
   },
   {
    "duration": 18,
    "start_time": "2022-07-05T17:26:49.512Z"
   },
   {
    "duration": 426,
    "start_time": "2022-07-05T17:26:49.531Z"
   },
   {
    "duration": 6,
    "start_time": "2022-07-05T17:26:49.958Z"
   },
   {
    "duration": 32,
    "start_time": "2022-07-05T17:26:49.966Z"
   },
   {
    "duration": 9,
    "start_time": "2022-07-05T17:26:50.000Z"
   },
   {
    "duration": 32,
    "start_time": "2022-07-05T17:26:50.011Z"
   },
   {
    "duration": 338,
    "start_time": "2022-07-05T17:26:50.045Z"
   },
   {
    "duration": 32,
    "start_time": "2022-07-05T17:26:50.389Z"
   },
   {
    "duration": 18,
    "start_time": "2022-07-05T17:26:50.423Z"
   },
   {
    "duration": 7,
    "start_time": "2022-07-05T17:26:50.443Z"
   },
   {
    "duration": 453,
    "start_time": "2022-07-05T17:26:50.452Z"
   },
   {
    "duration": 5,
    "start_time": "2022-07-05T17:26:50.907Z"
   },
   {
    "duration": 27,
    "start_time": "2022-07-05T17:26:50.913Z"
   },
   {
    "duration": 59,
    "start_time": "2022-07-05T17:26:50.942Z"
   },
   {
    "duration": 603,
    "start_time": "2022-07-05T17:26:51.003Z"
   },
   {
    "duration": 9,
    "start_time": "2022-07-05T17:26:51.609Z"
   },
   {
    "duration": 25,
    "start_time": "2022-07-05T17:26:51.620Z"
   },
   {
    "duration": 572,
    "start_time": "2022-07-05T17:26:51.647Z"
   },
   {
    "duration": 5,
    "start_time": "2022-07-05T17:26:52.221Z"
   },
   {
    "duration": 8,
    "start_time": "2022-07-05T17:26:52.228Z"
   },
   {
    "duration": 593,
    "start_time": "2022-07-05T17:26:52.238Z"
   },
   {
    "duration": 6,
    "start_time": "2022-07-05T17:26:52.833Z"
   },
   {
    "duration": 15,
    "start_time": "2022-07-05T17:26:52.840Z"
   },
   {
    "duration": 271,
    "start_time": "2022-07-05T17:26:52.856Z"
   },
   {
    "duration": 6,
    "start_time": "2022-07-05T17:26:53.129Z"
   },
   {
    "duration": 8,
    "start_time": "2022-07-05T17:26:53.137Z"
   },
   {
    "duration": 302,
    "start_time": "2022-07-05T17:26:53.147Z"
   },
   {
    "duration": 5,
    "start_time": "2022-07-05T17:26:53.452Z"
   },
   {
    "duration": 9,
    "start_time": "2022-07-05T17:26:53.459Z"
   },
   {
    "duration": 34,
    "start_time": "2022-07-05T17:26:53.469Z"
   },
   {
    "duration": 342,
    "start_time": "2022-07-05T17:26:53.505Z"
   },
   {
    "duration": 318,
    "start_time": "2022-07-05T17:26:53.849Z"
   },
   {
    "duration": 40,
    "start_time": "2022-07-05T17:26:54.169Z"
   },
   {
    "duration": 1059,
    "start_time": "2022-07-05T17:26:54.211Z"
   },
   {
    "duration": 20,
    "start_time": "2022-07-05T17:26:55.272Z"
   },
   {
    "duration": 198,
    "start_time": "2022-07-05T17:26:55.294Z"
   },
   {
    "duration": 21,
    "start_time": "2022-07-05T17:26:55.497Z"
   },
   {
    "duration": 221,
    "start_time": "2022-07-05T17:26:55.520Z"
   },
   {
    "duration": 20,
    "start_time": "2022-07-05T17:26:55.743Z"
   },
   {
    "duration": 322,
    "start_time": "2022-07-05T17:26:55.765Z"
   },
   {
    "duration": 37,
    "start_time": "2022-07-05T17:26:56.089Z"
   },
   {
    "duration": 190,
    "start_time": "2022-07-05T17:26:56.128Z"
   },
   {
    "duration": 18,
    "start_time": "2022-07-05T17:26:56.319Z"
   },
   {
    "duration": 210,
    "start_time": "2022-07-05T17:26:56.339Z"
   },
   {
    "duration": 18,
    "start_time": "2022-07-05T17:26:56.551Z"
   },
   {
    "duration": 194,
    "start_time": "2022-07-05T17:26:56.571Z"
   },
   {
    "duration": 4,
    "start_time": "2022-07-05T17:26:56.766Z"
   },
   {
    "duration": 157,
    "start_time": "2022-07-05T17:26:56.772Z"
   },
   {
    "duration": 0,
    "start_time": "2022-07-05T17:26:56.931Z"
   },
   {
    "duration": 0,
    "start_time": "2022-07-05T17:26:56.933Z"
   },
   {
    "duration": 1038,
    "start_time": "2022-07-05T17:27:00.051Z"
   },
   {
    "duration": 81,
    "start_time": "2022-07-05T17:28:30.111Z"
   },
   {
    "duration": 33,
    "start_time": "2022-07-05T17:28:34.281Z"
   },
   {
    "duration": 37,
    "start_time": "2022-07-05T17:28:42.441Z"
   },
   {
    "duration": 96,
    "start_time": "2022-07-05T17:30:40.030Z"
   },
   {
    "duration": 92,
    "start_time": "2022-07-05T17:30:46.129Z"
   },
   {
    "duration": 76,
    "start_time": "2022-07-05T17:33:33.747Z"
   },
   {
    "duration": 35,
    "start_time": "2022-07-05T17:36:35.876Z"
   },
   {
    "duration": 84,
    "start_time": "2022-07-05T17:37:07.804Z"
   },
   {
    "duration": 377,
    "start_time": "2022-07-05T17:38:52.651Z"
   },
   {
    "duration": 316,
    "start_time": "2022-07-05T17:39:31.796Z"
   },
   {
    "duration": 32,
    "start_time": "2022-07-05T17:39:45.692Z"
   },
   {
    "duration": 9,
    "start_time": "2022-07-05T17:39:55.965Z"
   },
   {
    "duration": 43,
    "start_time": "2022-07-05T17:40:58.442Z"
   },
   {
    "duration": 11,
    "start_time": "2022-07-05T17:41:00.166Z"
   },
   {
    "duration": 32,
    "start_time": "2022-07-05T17:41:34.445Z"
   },
   {
    "duration": 8,
    "start_time": "2022-07-05T17:41:36.270Z"
   },
   {
    "duration": 5,
    "start_time": "2022-07-05T17:42:35.566Z"
   },
   {
    "duration": 8,
    "start_time": "2022-07-05T17:42:37.706Z"
   },
   {
    "duration": 31,
    "start_time": "2022-07-05T17:43:13.299Z"
   },
   {
    "duration": 8,
    "start_time": "2022-07-05T17:43:15.795Z"
   },
   {
    "duration": 6,
    "start_time": "2022-07-05T17:44:27.324Z"
   },
   {
    "duration": 11,
    "start_time": "2022-07-05T17:44:28.905Z"
   },
   {
    "duration": 10,
    "start_time": "2022-07-05T17:45:29.919Z"
   },
   {
    "duration": 83,
    "start_time": "2022-07-05T17:46:15.930Z"
   },
   {
    "duration": 19,
    "start_time": "2022-07-05T17:46:20.450Z"
   },
   {
    "duration": 8,
    "start_time": "2022-07-05T17:46:22.305Z"
   },
   {
    "duration": 32,
    "start_time": "2022-07-05T17:46:34.277Z"
   },
   {
    "duration": 10,
    "start_time": "2022-07-05T17:46:38.380Z"
   },
   {
    "duration": 34,
    "start_time": "2022-07-05T17:46:47.016Z"
   },
   {
    "duration": 8,
    "start_time": "2022-07-05T17:46:50.001Z"
   },
   {
    "duration": 18,
    "start_time": "2022-07-05T17:47:05.049Z"
   },
   {
    "duration": 10,
    "start_time": "2022-07-05T17:47:06.406Z"
   },
   {
    "duration": 9,
    "start_time": "2022-07-05T17:47:42.975Z"
   },
   {
    "duration": 18,
    "start_time": "2022-07-05T17:49:01.288Z"
   },
   {
    "duration": 10,
    "start_time": "2022-07-05T17:49:03.630Z"
   },
   {
    "duration": 20,
    "start_time": "2022-07-05T17:49:16.456Z"
   },
   {
    "duration": 9,
    "start_time": "2022-07-05T17:49:18.462Z"
   },
   {
    "duration": 17,
    "start_time": "2022-07-05T17:49:33.578Z"
   },
   {
    "duration": 16,
    "start_time": "2022-07-05T17:49:35.558Z"
   },
   {
    "duration": 15,
    "start_time": "2022-07-05T17:49:41.630Z"
   },
   {
    "duration": 19,
    "start_time": "2022-07-05T17:49:44.107Z"
   },
   {
    "duration": 19,
    "start_time": "2022-07-05T17:49:45.493Z"
   },
   {
    "duration": 727,
    "start_time": "2022-07-05T17:49:47.985Z"
   },
   {
    "duration": 9,
    "start_time": "2022-07-05T17:51:08.947Z"
   },
   {
    "duration": 18,
    "start_time": "2022-07-05T17:57:30.427Z"
   },
   {
    "duration": 24,
    "start_time": "2022-07-05T17:57:38.952Z"
   },
   {
    "duration": 19,
    "start_time": "2022-07-05T17:57:56.941Z"
   },
   {
    "duration": 1599,
    "start_time": "2022-07-05T18:00:19.530Z"
   },
   {
    "duration": 1333,
    "start_time": "2022-07-05T18:00:46.251Z"
   },
   {
    "duration": 22,
    "start_time": "2022-07-05T18:01:06.653Z"
   },
   {
    "duration": 207,
    "start_time": "2022-07-05T18:01:15.145Z"
   },
   {
    "duration": 15,
    "start_time": "2022-07-05T18:02:33.323Z"
   },
   {
    "duration": 17,
    "start_time": "2022-07-05T18:03:59.092Z"
   },
   {
    "duration": 77,
    "start_time": "2022-07-05T18:05:11.696Z"
   },
   {
    "duration": 74,
    "start_time": "2022-07-05T18:05:24.159Z"
   },
   {
    "duration": 661,
    "start_time": "2022-07-05T18:05:53.013Z"
   },
   {
    "duration": 868,
    "start_time": "2022-07-05T18:06:28.719Z"
   },
   {
    "duration": 757,
    "start_time": "2022-07-05T18:06:48.855Z"
   },
   {
    "duration": 714,
    "start_time": "2022-07-05T18:07:18.215Z"
   },
   {
    "duration": 709,
    "start_time": "2022-07-05T18:07:42.192Z"
   },
   {
    "duration": 640,
    "start_time": "2022-07-05T18:08:12.115Z"
   },
   {
    "duration": 41,
    "start_time": "2022-07-05T18:14:02.631Z"
   },
   {
    "duration": 38,
    "start_time": "2022-07-05T18:14:15.316Z"
   },
   {
    "duration": 35,
    "start_time": "2022-07-05T18:14:43.445Z"
   },
   {
    "duration": 677,
    "start_time": "2022-07-05T18:16:42.875Z"
   },
   {
    "duration": 6,
    "start_time": "2022-07-05T18:21:26.408Z"
   },
   {
    "duration": 1203,
    "start_time": "2022-07-05T18:21:41.000Z"
   },
   {
    "duration": 74,
    "start_time": "2022-07-05T18:21:42.205Z"
   },
   {
    "duration": 13,
    "start_time": "2022-07-05T18:21:42.281Z"
   },
   {
    "duration": 11,
    "start_time": "2022-07-05T18:21:42.296Z"
   },
   {
    "duration": 7,
    "start_time": "2022-07-05T18:21:42.308Z"
   },
   {
    "duration": 18,
    "start_time": "2022-07-05T18:21:42.316Z"
   },
   {
    "duration": 5,
    "start_time": "2022-07-05T18:21:42.336Z"
   },
   {
    "duration": 6,
    "start_time": "2022-07-05T18:21:42.342Z"
   },
   {
    "duration": 10,
    "start_time": "2022-07-05T18:21:42.350Z"
   },
   {
    "duration": 12,
    "start_time": "2022-07-05T18:21:42.363Z"
   },
   {
    "duration": 11,
    "start_time": "2022-07-05T18:21:42.377Z"
   },
   {
    "duration": 45,
    "start_time": "2022-07-05T18:21:42.390Z"
   },
   {
    "duration": 4,
    "start_time": "2022-07-05T18:21:42.437Z"
   },
   {
    "duration": 11,
    "start_time": "2022-07-05T18:21:42.443Z"
   },
   {
    "duration": 12,
    "start_time": "2022-07-05T18:21:42.455Z"
   },
   {
    "duration": 9,
    "start_time": "2022-07-05T18:21:42.469Z"
   },
   {
    "duration": 25,
    "start_time": "2022-07-05T18:21:42.480Z"
   },
   {
    "duration": 5,
    "start_time": "2022-07-05T18:21:42.507Z"
   },
   {
    "duration": 16,
    "start_time": "2022-07-05T18:21:42.514Z"
   },
   {
    "duration": 24,
    "start_time": "2022-07-05T18:21:42.532Z"
   },
   {
    "duration": 17,
    "start_time": "2022-07-05T18:21:42.557Z"
   },
   {
    "duration": 425,
    "start_time": "2022-07-05T18:21:42.575Z"
   },
   {
    "duration": 8,
    "start_time": "2022-07-05T18:21:43.002Z"
   },
   {
    "duration": 42,
    "start_time": "2022-07-05T18:21:43.012Z"
   },
   {
    "duration": 20,
    "start_time": "2022-07-05T18:21:43.056Z"
   },
   {
    "duration": 30,
    "start_time": "2022-07-05T18:21:43.078Z"
   },
   {
    "duration": 327,
    "start_time": "2022-07-05T18:21:43.110Z"
   },
   {
    "duration": 25,
    "start_time": "2022-07-05T18:21:43.442Z"
   },
   {
    "duration": 36,
    "start_time": "2022-07-05T18:21:43.469Z"
   },
   {
    "duration": 7,
    "start_time": "2022-07-05T18:21:43.507Z"
   },
   {
    "duration": 298,
    "start_time": "2022-07-05T18:21:43.516Z"
   },
   {
    "duration": 6,
    "start_time": "2022-07-05T18:21:43.817Z"
   },
   {
    "duration": 14,
    "start_time": "2022-07-05T18:21:43.825Z"
   },
   {
    "duration": 12,
    "start_time": "2022-07-05T18:21:43.841Z"
   },
   {
    "duration": 328,
    "start_time": "2022-07-05T18:21:43.855Z"
   },
   {
    "duration": 15,
    "start_time": "2022-07-05T18:21:44.184Z"
   },
   {
    "duration": 7,
    "start_time": "2022-07-05T18:21:44.201Z"
   },
   {
    "duration": 257,
    "start_time": "2022-07-05T18:21:44.210Z"
   },
   {
    "duration": 5,
    "start_time": "2022-07-05T18:21:44.469Z"
   },
   {
    "duration": 22,
    "start_time": "2022-07-05T18:21:44.476Z"
   },
   {
    "duration": 345,
    "start_time": "2022-07-05T18:21:44.500Z"
   },
   {
    "duration": 6,
    "start_time": "2022-07-05T18:21:44.847Z"
   },
   {
    "duration": 7,
    "start_time": "2022-07-05T18:21:44.854Z"
   },
   {
    "duration": 304,
    "start_time": "2022-07-05T18:21:44.863Z"
   },
   {
    "duration": 8,
    "start_time": "2022-07-05T18:21:45.169Z"
   },
   {
    "duration": 20,
    "start_time": "2022-07-05T18:21:45.179Z"
   },
   {
    "duration": 293,
    "start_time": "2022-07-05T18:21:45.202Z"
   },
   {
    "duration": 5,
    "start_time": "2022-07-05T18:21:45.498Z"
   },
   {
    "duration": 9,
    "start_time": "2022-07-05T18:21:45.505Z"
   },
   {
    "duration": 17,
    "start_time": "2022-07-05T18:21:45.516Z"
   },
   {
    "duration": 355,
    "start_time": "2022-07-05T18:21:45.535Z"
   },
   {
    "duration": 322,
    "start_time": "2022-07-05T18:21:45.892Z"
   },
   {
    "duration": 14,
    "start_time": "2022-07-05T18:21:46.217Z"
   },
   {
    "duration": 14,
    "start_time": "2022-07-05T18:21:46.233Z"
   },
   {
    "duration": 15,
    "start_time": "2022-07-05T18:21:46.248Z"
   },
   {
    "duration": 846,
    "start_time": "2022-07-05T18:21:46.264Z"
   },
   {
    "duration": 14,
    "start_time": "2022-07-05T18:21:47.112Z"
   },
   {
    "duration": 18,
    "start_time": "2022-07-05T18:21:47.127Z"
   },
   {
    "duration": 13,
    "start_time": "2022-07-05T18:21:47.147Z"
   },
   {
    "duration": 679,
    "start_time": "2022-07-05T18:21:47.162Z"
   },
   {
    "duration": 132,
    "start_time": "2022-07-05T18:21:47.843Z"
   },
   {
    "duration": 570,
    "start_time": "2022-07-05T18:21:47.977Z"
   },
   {
    "duration": 4,
    "start_time": "2022-07-05T18:21:48.549Z"
   },
   {
    "duration": 9,
    "start_time": "2022-07-05T18:21:48.555Z"
   },
   {
    "duration": 10,
    "start_time": "2022-07-05T18:21:48.565Z"
   },
   {
    "duration": 6,
    "start_time": "2022-07-05T18:21:48.576Z"
   },
   {
    "duration": 1188,
    "start_time": "2022-07-05T18:41:04.560Z"
   },
   {
    "duration": 83,
    "start_time": "2022-07-05T18:41:05.750Z"
   },
   {
    "duration": 15,
    "start_time": "2022-07-05T18:41:05.835Z"
   },
   {
    "duration": 12,
    "start_time": "2022-07-05T18:41:05.852Z"
   },
   {
    "duration": 5,
    "start_time": "2022-07-05T18:41:05.867Z"
   },
   {
    "duration": 34,
    "start_time": "2022-07-05T18:41:05.874Z"
   },
   {
    "duration": 8,
    "start_time": "2022-07-05T18:41:05.911Z"
   },
   {
    "duration": 7,
    "start_time": "2022-07-05T18:41:05.920Z"
   },
   {
    "duration": 9,
    "start_time": "2022-07-05T18:41:05.929Z"
   },
   {
    "duration": 9,
    "start_time": "2022-07-05T18:41:05.939Z"
   },
   {
    "duration": 4,
    "start_time": "2022-07-05T18:41:05.950Z"
   },
   {
    "duration": 45,
    "start_time": "2022-07-05T18:41:05.956Z"
   },
   {
    "duration": 5,
    "start_time": "2022-07-05T18:41:06.009Z"
   },
   {
    "duration": 15,
    "start_time": "2022-07-05T18:41:06.018Z"
   },
   {
    "duration": 8,
    "start_time": "2022-07-05T18:41:06.035Z"
   },
   {
    "duration": 11,
    "start_time": "2022-07-05T18:41:06.045Z"
   },
   {
    "duration": 17,
    "start_time": "2022-07-05T18:41:06.058Z"
   },
   {
    "duration": 4,
    "start_time": "2022-07-05T18:41:06.077Z"
   },
   {
    "duration": 26,
    "start_time": "2022-07-05T18:41:06.083Z"
   },
   {
    "duration": 29,
    "start_time": "2022-07-05T18:41:06.111Z"
   },
   {
    "duration": 17,
    "start_time": "2022-07-05T18:41:06.142Z"
   },
   {
    "duration": 419,
    "start_time": "2022-07-05T18:41:06.160Z"
   },
   {
    "duration": 5,
    "start_time": "2022-07-05T18:41:06.581Z"
   },
   {
    "duration": 31,
    "start_time": "2022-07-05T18:41:06.588Z"
   },
   {
    "duration": 12,
    "start_time": "2022-07-05T18:41:06.621Z"
   },
   {
    "duration": 36,
    "start_time": "2022-07-05T18:41:06.635Z"
   },
   {
    "duration": 429,
    "start_time": "2022-07-05T18:41:06.673Z"
   },
   {
    "duration": 29,
    "start_time": "2022-07-05T18:41:07.104Z"
   },
   {
    "duration": 15,
    "start_time": "2022-07-05T18:41:07.135Z"
   },
   {
    "duration": 5,
    "start_time": "2022-07-05T18:41:07.152Z"
   },
   {
    "duration": 310,
    "start_time": "2022-07-05T18:41:07.158Z"
   },
   {
    "duration": 5,
    "start_time": "2022-07-05T18:41:07.470Z"
   },
   {
    "duration": 31,
    "start_time": "2022-07-05T18:41:07.477Z"
   },
   {
    "duration": 17,
    "start_time": "2022-07-05T18:41:07.510Z"
   },
   {
    "duration": 296,
    "start_time": "2022-07-05T18:41:07.529Z"
   },
   {
    "duration": 7,
    "start_time": "2022-07-05T18:41:07.827Z"
   },
   {
    "duration": 7,
    "start_time": "2022-07-05T18:41:07.836Z"
   },
   {
    "duration": 306,
    "start_time": "2022-07-05T18:41:07.846Z"
   },
   {
    "duration": 5,
    "start_time": "2022-07-05T18:41:08.154Z"
   },
   {
    "duration": 8,
    "start_time": "2022-07-05T18:41:08.161Z"
   },
   {
    "duration": 370,
    "start_time": "2022-07-05T18:41:08.173Z"
   },
   {
    "duration": 5,
    "start_time": "2022-07-05T18:41:08.545Z"
   },
   {
    "duration": 7,
    "start_time": "2022-07-05T18:41:08.552Z"
   },
   {
    "duration": 299,
    "start_time": "2022-07-05T18:41:08.561Z"
   },
   {
    "duration": 6,
    "start_time": "2022-07-05T18:41:08.863Z"
   },
   {
    "duration": 52,
    "start_time": "2022-07-05T18:41:08.871Z"
   },
   {
    "duration": 294,
    "start_time": "2022-07-05T18:41:08.926Z"
   },
   {
    "duration": 6,
    "start_time": "2022-07-05T18:41:09.222Z"
   },
   {
    "duration": 9,
    "start_time": "2022-07-05T18:41:09.229Z"
   },
   {
    "duration": 17,
    "start_time": "2022-07-05T18:41:09.240Z"
   },
   {
    "duration": 355,
    "start_time": "2022-07-05T18:41:09.259Z"
   },
   {
    "duration": 317,
    "start_time": "2022-07-05T18:41:09.616Z"
   },
   {
    "duration": 15,
    "start_time": "2022-07-05T18:41:09.935Z"
   },
   {
    "duration": 15,
    "start_time": "2022-07-05T18:41:09.951Z"
   },
   {
    "duration": 45,
    "start_time": "2022-07-05T18:41:09.967Z"
   },
   {
    "duration": 764,
    "start_time": "2022-07-05T18:41:10.014Z"
   },
   {
    "duration": 15,
    "start_time": "2022-07-05T18:41:10.780Z"
   },
   {
    "duration": 28,
    "start_time": "2022-07-05T18:41:10.797Z"
   },
   {
    "duration": 14,
    "start_time": "2022-07-05T18:41:10.827Z"
   },
   {
    "duration": 687,
    "start_time": "2022-07-05T18:41:10.842Z"
   },
   {
    "duration": 140,
    "start_time": "2022-07-05T18:41:11.530Z"
   },
   {
    "duration": 603,
    "start_time": "2022-07-05T18:41:11.672Z"
   },
   {
    "duration": 4,
    "start_time": "2022-07-05T18:41:12.276Z"
   },
   {
    "duration": 21,
    "start_time": "2022-07-05T18:41:12.282Z"
   },
   {
    "duration": 14,
    "start_time": "2022-07-05T18:41:12.305Z"
   },
   {
    "duration": 8,
    "start_time": "2022-07-05T18:41:12.321Z"
   },
   {
    "duration": 48,
    "start_time": "2022-07-06T08:10:50.704Z"
   },
   {
    "duration": 1147,
    "start_time": "2022-07-06T08:10:56.673Z"
   },
   {
    "duration": 1603,
    "start_time": "2022-07-06T08:10:57.822Z"
   },
   {
    "duration": 14,
    "start_time": "2022-07-06T08:10:59.427Z"
   },
   {
    "duration": 9,
    "start_time": "2022-07-06T08:10:59.443Z"
   },
   {
    "duration": 9,
    "start_time": "2022-07-06T08:10:59.454Z"
   },
   {
    "duration": 13,
    "start_time": "2022-07-06T08:10:59.465Z"
   },
   {
    "duration": 26,
    "start_time": "2022-07-06T08:10:59.480Z"
   },
   {
    "duration": 28,
    "start_time": "2022-07-06T08:10:59.508Z"
   },
   {
    "duration": 13,
    "start_time": "2022-07-06T08:10:59.538Z"
   },
   {
    "duration": 12,
    "start_time": "2022-07-06T08:10:59.553Z"
   },
   {
    "duration": 9,
    "start_time": "2022-07-06T08:10:59.566Z"
   },
   {
    "duration": 40,
    "start_time": "2022-07-06T08:10:59.577Z"
   },
   {
    "duration": 5,
    "start_time": "2022-07-06T08:10:59.620Z"
   },
   {
    "duration": 11,
    "start_time": "2022-07-06T08:10:59.627Z"
   },
   {
    "duration": 11,
    "start_time": "2022-07-06T08:10:59.639Z"
   },
   {
    "duration": 18,
    "start_time": "2022-07-06T08:10:59.652Z"
   },
   {
    "duration": 17,
    "start_time": "2022-07-06T08:10:59.671Z"
   },
   {
    "duration": 12,
    "start_time": "2022-07-06T08:10:59.690Z"
   },
   {
    "duration": 26,
    "start_time": "2022-07-06T08:10:59.703Z"
   },
   {
    "duration": 30,
    "start_time": "2022-07-06T08:10:59.731Z"
   },
   {
    "duration": 18,
    "start_time": "2022-07-06T08:10:59.762Z"
   },
   {
    "duration": 380,
    "start_time": "2022-07-06T08:10:59.781Z"
   },
   {
    "duration": 6,
    "start_time": "2022-07-06T08:11:00.162Z"
   },
   {
    "duration": 25,
    "start_time": "2022-07-06T08:11:00.169Z"
   },
   {
    "duration": 27,
    "start_time": "2022-07-06T08:11:00.201Z"
   },
   {
    "duration": 48,
    "start_time": "2022-07-06T08:11:00.229Z"
   },
   {
    "duration": 292,
    "start_time": "2022-07-06T08:11:00.279Z"
   },
   {
    "duration": 34,
    "start_time": "2022-07-06T08:11:00.575Z"
   },
   {
    "duration": 30,
    "start_time": "2022-07-06T08:11:00.611Z"
   },
   {
    "duration": 17,
    "start_time": "2022-07-06T08:11:00.643Z"
   },
   {
    "duration": 275,
    "start_time": "2022-07-06T08:11:00.661Z"
   },
   {
    "duration": 23,
    "start_time": "2022-07-06T08:11:00.938Z"
   },
   {
    "duration": 14,
    "start_time": "2022-07-06T08:11:00.963Z"
   },
   {
    "duration": 65,
    "start_time": "2022-07-06T08:11:00.979Z"
   },
   {
    "duration": 67,
    "start_time": "2022-07-06T08:11:01.046Z"
   },
   {
    "duration": 295,
    "start_time": "2022-07-06T08:11:01.115Z"
   },
   {
    "duration": 8,
    "start_time": "2022-07-06T08:11:01.412Z"
   },
   {
    "duration": 51,
    "start_time": "2022-07-06T08:11:01.422Z"
   },
   {
    "duration": 256,
    "start_time": "2022-07-06T08:11:01.475Z"
   },
   {
    "duration": 5,
    "start_time": "2022-07-06T08:11:01.733Z"
   },
   {
    "duration": 15,
    "start_time": "2022-07-06T08:11:01.740Z"
   },
   {
    "duration": 348,
    "start_time": "2022-07-06T08:11:01.756Z"
   },
   {
    "duration": 5,
    "start_time": "2022-07-06T08:11:02.106Z"
   },
   {
    "duration": 16,
    "start_time": "2022-07-06T08:11:02.113Z"
   },
   {
    "duration": 249,
    "start_time": "2022-07-06T08:11:02.131Z"
   },
   {
    "duration": 5,
    "start_time": "2022-07-06T08:11:02.382Z"
   },
   {
    "duration": 16,
    "start_time": "2022-07-06T08:11:02.388Z"
   },
   {
    "duration": 263,
    "start_time": "2022-07-06T08:11:02.406Z"
   },
   {
    "duration": 6,
    "start_time": "2022-07-06T08:11:02.671Z"
   },
   {
    "duration": 23,
    "start_time": "2022-07-06T08:11:02.678Z"
   },
   {
    "duration": 26,
    "start_time": "2022-07-06T08:11:02.702Z"
   },
   {
    "duration": 276,
    "start_time": "2022-07-06T08:11:02.729Z"
   },
   {
    "duration": 276,
    "start_time": "2022-07-06T08:11:03.006Z"
   },
   {
    "duration": 21,
    "start_time": "2022-07-06T08:11:03.284Z"
   },
   {
    "duration": 30,
    "start_time": "2022-07-06T08:11:03.307Z"
   },
   {
    "duration": 12,
    "start_time": "2022-07-06T08:11:03.339Z"
   },
   {
    "duration": 731,
    "start_time": "2022-07-06T08:11:03.353Z"
   },
   {
    "duration": 22,
    "start_time": "2022-07-06T08:11:04.086Z"
   },
   {
    "duration": 11,
    "start_time": "2022-07-06T08:11:04.110Z"
   },
   {
    "duration": 13,
    "start_time": "2022-07-06T08:11:04.123Z"
   },
   {
    "duration": 614,
    "start_time": "2022-07-06T08:11:04.138Z"
   },
   {
    "duration": 129,
    "start_time": "2022-07-06T08:11:04.753Z"
   },
   {
    "duration": 602,
    "start_time": "2022-07-06T08:11:04.884Z"
   },
   {
    "duration": 5,
    "start_time": "2022-07-06T08:11:05.487Z"
   },
   {
    "duration": 18,
    "start_time": "2022-07-06T08:11:05.494Z"
   },
   {
    "duration": 37,
    "start_time": "2022-07-06T08:11:05.514Z"
   },
   {
    "duration": 11,
    "start_time": "2022-07-06T08:11:05.553Z"
   },
   {
    "duration": 14,
    "start_time": "2022-07-06T08:21:41.859Z"
   },
   {
    "duration": 25,
    "start_time": "2022-07-06T08:21:59.972Z"
   },
   {
    "duration": 23,
    "start_time": "2022-07-06T08:23:08.903Z"
   },
   {
    "duration": 27,
    "start_time": "2022-07-06T08:23:47.272Z"
   },
   {
    "duration": 23,
    "start_time": "2022-07-06T08:24:17.912Z"
   },
   {
    "duration": 25,
    "start_time": "2022-07-06T08:26:07.902Z"
   },
   {
    "duration": 29,
    "start_time": "2022-07-06T08:26:11.420Z"
   },
   {
    "duration": 15,
    "start_time": "2022-07-06T08:26:28.325Z"
   },
   {
    "duration": 24,
    "start_time": "2022-07-06T08:26:47.646Z"
   },
   {
    "duration": 38,
    "start_time": "2022-07-06T08:33:37.685Z"
   },
   {
    "duration": 3,
    "start_time": "2022-07-06T08:33:38.109Z"
   },
   {
    "duration": 11,
    "start_time": "2022-07-06T08:33:38.317Z"
   },
   {
    "duration": 6,
    "start_time": "2022-07-06T08:33:38.508Z"
   },
   {
    "duration": 4,
    "start_time": "2022-07-06T08:33:38.724Z"
   },
   {
    "duration": 5,
    "start_time": "2022-07-06T08:33:38.954Z"
   },
   {
    "duration": 342,
    "start_time": "2022-07-06T08:33:39.449Z"
   },
   {
    "duration": 6,
    "start_time": "2022-07-06T08:34:49.166Z"
   },
   {
    "duration": 1103,
    "start_time": "2022-07-06T08:40:18.089Z"
   },
   {
    "duration": 62,
    "start_time": "2022-07-06T08:40:19.194Z"
   },
   {
    "duration": 13,
    "start_time": "2022-07-06T08:40:19.257Z"
   },
   {
    "duration": 12,
    "start_time": "2022-07-06T08:40:19.271Z"
   },
   {
    "duration": 11,
    "start_time": "2022-07-06T08:40:19.285Z"
   },
   {
    "duration": 15,
    "start_time": "2022-07-06T08:40:19.297Z"
   },
   {
    "duration": 10,
    "start_time": "2022-07-06T08:40:19.314Z"
   },
   {
    "duration": 9,
    "start_time": "2022-07-06T08:40:19.325Z"
   },
   {
    "duration": 8,
    "start_time": "2022-07-06T08:40:19.336Z"
   },
   {
    "duration": 6,
    "start_time": "2022-07-06T08:40:19.345Z"
   },
   {
    "duration": 7,
    "start_time": "2022-07-06T08:40:19.352Z"
   },
   {
    "duration": 22,
    "start_time": "2022-07-06T08:40:19.360Z"
   },
   {
    "duration": 4,
    "start_time": "2022-07-06T08:40:19.383Z"
   },
   {
    "duration": 5,
    "start_time": "2022-07-06T08:40:19.400Z"
   },
   {
    "duration": 14,
    "start_time": "2022-07-06T08:40:19.406Z"
   },
   {
    "duration": 11,
    "start_time": "2022-07-06T08:40:19.421Z"
   },
   {
    "duration": 17,
    "start_time": "2022-07-06T08:40:19.433Z"
   },
   {
    "duration": 4,
    "start_time": "2022-07-06T08:40:19.451Z"
   },
   {
    "duration": 10,
    "start_time": "2022-07-06T08:40:19.458Z"
   },
   {
    "duration": 42,
    "start_time": "2022-07-06T08:40:19.469Z"
   },
   {
    "duration": 17,
    "start_time": "2022-07-06T08:40:19.513Z"
   },
   {
    "duration": 408,
    "start_time": "2022-07-06T08:40:19.532Z"
   },
   {
    "duration": 6,
    "start_time": "2022-07-06T08:40:19.942Z"
   },
   {
    "duration": 23,
    "start_time": "2022-07-06T08:40:19.949Z"
   },
   {
    "duration": 9,
    "start_time": "2022-07-06T08:40:19.973Z"
   },
   {
    "duration": 28,
    "start_time": "2022-07-06T08:40:20.000Z"
   },
   {
    "duration": 305,
    "start_time": "2022-07-06T08:40:20.030Z"
   },
   {
    "duration": 22,
    "start_time": "2022-07-06T08:40:20.336Z"
   },
   {
    "duration": 14,
    "start_time": "2022-07-06T08:40:20.359Z"
   },
   {
    "duration": 26,
    "start_time": "2022-07-06T08:40:20.375Z"
   },
   {
    "duration": 256,
    "start_time": "2022-07-06T08:40:20.403Z"
   },
   {
    "duration": 4,
    "start_time": "2022-07-06T08:40:20.661Z"
   },
   {
    "duration": 13,
    "start_time": "2022-07-06T08:40:20.667Z"
   },
   {
    "duration": 23,
    "start_time": "2022-07-06T08:40:20.681Z"
   },
   {
    "duration": 251,
    "start_time": "2022-07-06T08:40:20.705Z"
   },
   {
    "duration": 6,
    "start_time": "2022-07-06T08:40:20.957Z"
   },
   {
    "duration": 19,
    "start_time": "2022-07-06T08:40:20.965Z"
   },
   {
    "duration": 35,
    "start_time": "2022-07-06T08:40:20.985Z"
   },
   {
    "duration": 4,
    "start_time": "2022-07-06T08:40:21.022Z"
   },
   {
    "duration": 230,
    "start_time": "2022-07-06T08:40:21.028Z"
   },
   {
    "duration": 5,
    "start_time": "2022-07-06T08:40:21.262Z"
   },
   {
    "duration": 8,
    "start_time": "2022-07-06T08:40:21.269Z"
   },
   {
    "duration": 338,
    "start_time": "2022-07-06T08:40:21.278Z"
   },
   {
    "duration": 5,
    "start_time": "2022-07-06T08:40:21.617Z"
   },
   {
    "duration": 15,
    "start_time": "2022-07-06T08:40:21.623Z"
   },
   {
    "duration": 243,
    "start_time": "2022-07-06T08:40:21.639Z"
   },
   {
    "duration": 5,
    "start_time": "2022-07-06T08:40:21.883Z"
   },
   {
    "duration": 16,
    "start_time": "2022-07-06T08:40:21.889Z"
   },
   {
    "duration": 243,
    "start_time": "2022-07-06T08:40:21.906Z"
   },
   {
    "duration": 5,
    "start_time": "2022-07-06T08:40:22.151Z"
   },
   {
    "duration": 12,
    "start_time": "2022-07-06T08:40:22.157Z"
   },
   {
    "duration": 16,
    "start_time": "2022-07-06T08:40:22.170Z"
   },
   {
    "duration": 277,
    "start_time": "2022-07-06T08:40:22.187Z"
   },
   {
    "duration": 275,
    "start_time": "2022-07-06T08:40:22.466Z"
   },
   {
    "duration": 13,
    "start_time": "2022-07-06T08:40:22.743Z"
   },
   {
    "duration": 15,
    "start_time": "2022-07-06T08:40:22.757Z"
   },
   {
    "duration": 27,
    "start_time": "2022-07-06T08:40:22.774Z"
   },
   {
    "duration": 652,
    "start_time": "2022-07-06T08:40:22.802Z"
   },
   {
    "duration": 35,
    "start_time": "2022-07-06T08:40:23.456Z"
   },
   {
    "duration": 3,
    "start_time": "2022-07-06T08:40:23.493Z"
   },
   {
    "duration": 30,
    "start_time": "2022-07-06T08:40:23.501Z"
   },
   {
    "duration": 4,
    "start_time": "2022-07-06T08:40:23.533Z"
   },
   {
    "duration": 14,
    "start_time": "2022-07-06T08:40:23.538Z"
   },
   {
    "duration": 7,
    "start_time": "2022-07-06T08:40:23.554Z"
   },
   {
    "duration": 346,
    "start_time": "2022-07-06T08:40:23.563Z"
   },
   {
    "duration": 120,
    "start_time": "2022-07-06T08:40:23.911Z"
   },
   {
    "duration": 30,
    "start_time": "2022-07-06T08:40:24.032Z"
   },
   {
    "duration": 11,
    "start_time": "2022-07-06T08:40:24.064Z"
   },
   {
    "duration": 607,
    "start_time": "2022-07-06T08:40:24.077Z"
   },
   {
    "duration": 41,
    "start_time": "2022-07-06T08:40:24.686Z"
   },
   {
    "duration": 555,
    "start_time": "2022-07-06T08:40:24.729Z"
   },
   {
    "duration": 5,
    "start_time": "2022-07-06T08:40:25.286Z"
   },
   {
    "duration": 6,
    "start_time": "2022-07-06T08:40:25.301Z"
   },
   {
    "duration": 22,
    "start_time": "2022-07-06T08:40:25.309Z"
   },
   {
    "duration": 12,
    "start_time": "2022-07-06T08:40:25.332Z"
   },
   {
    "duration": 12,
    "start_time": "2022-07-06T08:40:25.345Z"
   },
   {
    "duration": 1180,
    "start_time": "2022-10-13T09:53:24.590Z"
   },
   {
    "duration": 214,
    "start_time": "2022-10-13T09:53:25.771Z"
   },
   {
    "duration": 13,
    "start_time": "2022-10-13T09:53:25.986Z"
   },
   {
    "duration": 8,
    "start_time": "2022-10-13T09:53:26.001Z"
   },
   {
    "duration": 11,
    "start_time": "2022-10-13T09:53:26.011Z"
   },
   {
    "duration": 16,
    "start_time": "2022-10-13T09:53:26.024Z"
   },
   {
    "duration": 14,
    "start_time": "2022-10-13T09:53:26.041Z"
   },
   {
    "duration": 24,
    "start_time": "2022-10-13T09:53:26.057Z"
   },
   {
    "duration": 16,
    "start_time": "2022-10-13T09:53:26.082Z"
   },
   {
    "duration": 14,
    "start_time": "2022-10-13T09:53:26.101Z"
   },
   {
    "duration": 25,
    "start_time": "2022-10-13T09:53:26.116Z"
   },
   {
    "duration": 27,
    "start_time": "2022-10-13T09:53:26.142Z"
   },
   {
    "duration": 9,
    "start_time": "2022-10-13T09:53:26.170Z"
   },
   {
    "duration": 14,
    "start_time": "2022-10-13T09:53:26.181Z"
   },
   {
    "duration": 20,
    "start_time": "2022-10-13T09:53:26.196Z"
   },
   {
    "duration": 25,
    "start_time": "2022-10-13T09:53:26.217Z"
   },
   {
    "duration": 26,
    "start_time": "2022-10-13T09:53:26.244Z"
   },
   {
    "duration": 15,
    "start_time": "2022-10-13T09:53:26.271Z"
   },
   {
    "duration": 21,
    "start_time": "2022-10-13T09:53:26.287Z"
   },
   {
    "duration": 53,
    "start_time": "2022-10-13T09:53:26.310Z"
   },
   {
    "duration": 14,
    "start_time": "2022-10-13T09:53:26.365Z"
   },
   {
    "duration": 334,
    "start_time": "2022-10-13T09:53:26.381Z"
   },
   {
    "duration": 6,
    "start_time": "2022-10-13T09:53:26.717Z"
   },
   {
    "duration": 35,
    "start_time": "2022-10-13T09:53:26.724Z"
   },
   {
    "duration": 21,
    "start_time": "2022-10-13T09:53:26.761Z"
   },
   {
    "duration": 36,
    "start_time": "2022-10-13T09:53:26.784Z"
   },
   {
    "duration": 265,
    "start_time": "2022-10-13T09:53:26.822Z"
   },
   {
    "duration": 28,
    "start_time": "2022-10-13T09:53:27.092Z"
   },
   {
    "duration": 30,
    "start_time": "2022-10-13T09:53:27.121Z"
   },
   {
    "duration": 26,
    "start_time": "2022-10-13T09:53:27.153Z"
   },
   {
    "duration": 312,
    "start_time": "2022-10-13T09:53:27.181Z"
   },
   {
    "duration": 11,
    "start_time": "2022-10-13T09:53:27.495Z"
   },
   {
    "duration": 20,
    "start_time": "2022-10-13T09:53:27.507Z"
   },
   {
    "duration": 35,
    "start_time": "2022-10-13T09:53:27.529Z"
   },
   {
    "duration": 244,
    "start_time": "2022-10-13T09:53:27.566Z"
   },
   {
    "duration": 12,
    "start_time": "2022-10-13T09:53:27.811Z"
   },
   {
    "duration": 22,
    "start_time": "2022-10-13T09:53:27.825Z"
   },
   {
    "duration": 32,
    "start_time": "2022-10-13T09:53:27.849Z"
   },
   {
    "duration": 5,
    "start_time": "2022-10-13T09:53:27.883Z"
   },
   {
    "duration": 259,
    "start_time": "2022-10-13T09:53:27.889Z"
   },
   {
    "duration": 5,
    "start_time": "2022-10-13T09:53:28.149Z"
   },
   {
    "duration": 12,
    "start_time": "2022-10-13T09:53:28.155Z"
   },
   {
    "duration": 309,
    "start_time": "2022-10-13T09:53:28.169Z"
   },
   {
    "duration": 5,
    "start_time": "2022-10-13T09:53:28.480Z"
   },
   {
    "duration": 19,
    "start_time": "2022-10-13T09:53:28.487Z"
   },
   {
    "duration": 233,
    "start_time": "2022-10-13T09:53:28.507Z"
   },
   {
    "duration": 5,
    "start_time": "2022-10-13T09:53:28.742Z"
   },
   {
    "duration": 15,
    "start_time": "2022-10-13T09:53:28.748Z"
   },
   {
    "duration": 238,
    "start_time": "2022-10-13T09:53:28.764Z"
   },
   {
    "duration": 5,
    "start_time": "2022-10-13T09:53:29.003Z"
   },
   {
    "duration": 15,
    "start_time": "2022-10-13T09:53:29.009Z"
   },
   {
    "duration": 24,
    "start_time": "2022-10-13T09:53:29.026Z"
   },
   {
    "duration": 266,
    "start_time": "2022-10-13T09:53:29.051Z"
   },
   {
    "duration": 257,
    "start_time": "2022-10-13T09:53:29.318Z"
   },
   {
    "duration": 16,
    "start_time": "2022-10-13T09:53:29.577Z"
   },
   {
    "duration": 26,
    "start_time": "2022-10-13T09:53:29.595Z"
   },
   {
    "duration": 15,
    "start_time": "2022-10-13T09:53:29.623Z"
   },
   {
    "duration": 637,
    "start_time": "2022-10-13T09:53:29.639Z"
   },
   {
    "duration": 13,
    "start_time": "2022-10-13T09:53:30.278Z"
   },
   {
    "duration": 31,
    "start_time": "2022-10-13T09:53:30.293Z"
   },
   {
    "duration": 31,
    "start_time": "2022-10-13T09:53:30.325Z"
   },
   {
    "duration": 573,
    "start_time": "2022-10-13T09:53:30.358Z"
   },
   {
    "duration": 140,
    "start_time": "2022-10-13T09:53:30.933Z"
   },
   {
    "duration": 481,
    "start_time": "2022-10-13T09:53:31.074Z"
   },
   {
    "duration": 4,
    "start_time": "2022-10-13T09:53:31.556Z"
   },
   {
    "duration": 11,
    "start_time": "2022-10-13T09:53:31.561Z"
   },
   {
    "duration": 14,
    "start_time": "2022-10-13T09:53:31.573Z"
   },
   {
    "duration": 15,
    "start_time": "2022-10-13T09:53:31.588Z"
   }
  ],
  "kernelspec": {
   "display_name": "Python 3 (ipykernel)",
   "language": "python",
   "name": "python3"
  },
  "language_info": {
   "codemirror_mode": {
    "name": "ipython",
    "version": 3
   },
   "file_extension": ".py",
   "mimetype": "text/x-python",
   "name": "python",
   "nbconvert_exporter": "python",
   "pygments_lexer": "ipython3",
   "version": "3.9.5"
  },
  "toc": {
   "base_numbering": 1,
   "nav_menu": {},
   "number_sections": true,
   "sideBar": true,
   "skip_h1_title": true,
   "title_cell": "Table of Contents",
   "title_sidebar": "Contents",
   "toc_cell": false,
   "toc_position": {
    "height": "calc(100% - 180px)",
    "left": "10px",
    "top": "150px",
    "width": "286.225px"
   },
   "toc_section_display": true,
   "toc_window_display": false
  }
 },
 "nbformat": 4,
 "nbformat_minor": 2
}
