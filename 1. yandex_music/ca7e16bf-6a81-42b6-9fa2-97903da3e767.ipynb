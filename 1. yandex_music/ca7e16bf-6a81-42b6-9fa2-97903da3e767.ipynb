{
 "cells": [
  {
   "cell_type": "markdown",
   "metadata": {
    "id": "E0vqbgi9ay0H"
   },
   "source": [
    "# Яндекс.Музыка"
   ]
  },
  {
   "cell_type": "markdown",
   "metadata": {
    "id": "VUC88oWjTJw2"
   },
   "source": [
    "Сравнение Москвы и Петербурга окружено мифами. Например:\n",
    " * Москва — мегаполис, подчинённый жёсткому ритму рабочей недели;\n",
    " * Петербург — культурная столица, со своими вкусами.\n",
    "\n",
    "На данных Яндекс.Музыки вы сравните поведение пользователей двух столиц.\n",
    "\n",
    "**Цель исследования** — проверьте три гипотезы:\n",
    "1. Активность пользователей зависит от дня недели. Причём в Москве и Петербурге это проявляется по-разному.\n",
    "2. В понедельник утром в Москве преобладают одни жанры, а в Петербурге — другие. Так же и вечером пятницы преобладают разные жанры — в зависимости от города. \n",
    "3. Москва и Петербург предпочитают разные жанры музыки. В Москве чаще слушают поп-музыку, в Петербурге — русский рэп.\n",
    "\n",
    "**Ход исследования**\n",
    "\n",
    "Данные о поведении пользователей вы получите из файла `yandex_music_project.csv`. О качестве данных ничего не известно. Поэтому перед проверкой гипотез понадобится обзор данных. \n",
    "\n",
    "Вы проверите данные на ошибки и оцените их влияние на исследование. Затем, на этапе предобработки вы поищете возможность исправить самые критичные ошибки данных.\n",
    " \n",
    "Таким образом, исследование пройдёт в три этапа:\n",
    " 1. Обзор данных.\n",
    " 2. Предобработка данных.\n",
    " 3. Проверка гипотез.\n",
    "\n"
   ]
  },
  {
   "cell_type": "markdown",
   "metadata": {
    "id": "Ml1hmfXC_Zcs"
   },
   "source": [
    "## Обзор данных\n",
    "\n",
    "Составьте первое представление о данных Яндекс.Музыки.\n",
    "\n",
    "\n"
   ]
  },
  {
   "cell_type": "markdown",
   "metadata": {
    "id": "57eAOGIz_Zcs"
   },
   "source": [
    "Основной инструмент аналитика — `pandas`. Импортируйте эту библиотеку."
   ]
  },
  {
   "cell_type": "code",
   "execution_count": 1,
   "metadata": {
    "id": "AXN7PHPN_Zcs"
   },
   "outputs": [],
   "source": [
    "import pandas as pd #импорт библиотеки pandas"
   ]
  },
  {
   "cell_type": "markdown",
   "metadata": {
    "id": "SG23P8tt_Zcs"
   },
   "source": [
    "Прочитайте файл `yandex_music_project.csv` из папки `/datasets` и сохраните его в переменной `df`:"
   ]
  },
  {
   "cell_type": "code",
   "execution_count": 2,
   "metadata": {
    "id": "fFVu7vqh_Zct"
   },
   "outputs": [],
   "source": [
    "df = pd.read_csv('/datasets/yandex_music_project.csv') #чтение файла с данными и сохранение в df"
   ]
  },
  {
   "cell_type": "markdown",
   "metadata": {
    "id": "rDoOMd3uTqnZ"
   },
   "source": [
    "Выведите на экран первые десять строк таблицы:"
   ]
  },
  {
   "cell_type": "code",
   "execution_count": 3,
   "metadata": {
    "id": "oWTVX3gW_Zct"
   },
   "outputs": [
    {
     "data": {
      "text/html": [
       "<div>\n",
       "<style scoped>\n",
       "    .dataframe tbody tr th:only-of-type {\n",
       "        vertical-align: middle;\n",
       "    }\n",
       "\n",
       "    .dataframe tbody tr th {\n",
       "        vertical-align: top;\n",
       "    }\n",
       "\n",
       "    .dataframe thead th {\n",
       "        text-align: right;\n",
       "    }\n",
       "</style>\n",
       "<table border=\"1\" class=\"dataframe\">\n",
       "  <thead>\n",
       "    <tr style=\"text-align: right;\">\n",
       "      <th></th>\n",
       "      <th>userID</th>\n",
       "      <th>Track</th>\n",
       "      <th>artist</th>\n",
       "      <th>genre</th>\n",
       "      <th>City</th>\n",
       "      <th>time</th>\n",
       "      <th>Day</th>\n",
       "    </tr>\n",
       "  </thead>\n",
       "  <tbody>\n",
       "    <tr>\n",
       "      <th>0</th>\n",
       "      <td>FFB692EC</td>\n",
       "      <td>Kamigata To Boots</td>\n",
       "      <td>The Mass Missile</td>\n",
       "      <td>rock</td>\n",
       "      <td>Saint-Petersburg</td>\n",
       "      <td>20:28:33</td>\n",
       "      <td>Wednesday</td>\n",
       "    </tr>\n",
       "    <tr>\n",
       "      <th>1</th>\n",
       "      <td>55204538</td>\n",
       "      <td>Delayed Because of Accident</td>\n",
       "      <td>Andreas Rönnberg</td>\n",
       "      <td>rock</td>\n",
       "      <td>Moscow</td>\n",
       "      <td>14:07:09</td>\n",
       "      <td>Friday</td>\n",
       "    </tr>\n",
       "    <tr>\n",
       "      <th>2</th>\n",
       "      <td>20EC38</td>\n",
       "      <td>Funiculì funiculà</td>\n",
       "      <td>Mario Lanza</td>\n",
       "      <td>pop</td>\n",
       "      <td>Saint-Petersburg</td>\n",
       "      <td>20:58:07</td>\n",
       "      <td>Wednesday</td>\n",
       "    </tr>\n",
       "    <tr>\n",
       "      <th>3</th>\n",
       "      <td>A3DD03C9</td>\n",
       "      <td>Dragons in the Sunset</td>\n",
       "      <td>Fire + Ice</td>\n",
       "      <td>folk</td>\n",
       "      <td>Saint-Petersburg</td>\n",
       "      <td>08:37:09</td>\n",
       "      <td>Monday</td>\n",
       "    </tr>\n",
       "    <tr>\n",
       "      <th>4</th>\n",
       "      <td>E2DC1FAE</td>\n",
       "      <td>Soul People</td>\n",
       "      <td>Space Echo</td>\n",
       "      <td>dance</td>\n",
       "      <td>Moscow</td>\n",
       "      <td>08:34:34</td>\n",
       "      <td>Monday</td>\n",
       "    </tr>\n",
       "    <tr>\n",
       "      <th>5</th>\n",
       "      <td>842029A1</td>\n",
       "      <td>Преданная</td>\n",
       "      <td>IMPERVTOR</td>\n",
       "      <td>rusrap</td>\n",
       "      <td>Saint-Petersburg</td>\n",
       "      <td>13:09:41</td>\n",
       "      <td>Friday</td>\n",
       "    </tr>\n",
       "    <tr>\n",
       "      <th>6</th>\n",
       "      <td>4CB90AA5</td>\n",
       "      <td>True</td>\n",
       "      <td>Roman Messer</td>\n",
       "      <td>dance</td>\n",
       "      <td>Moscow</td>\n",
       "      <td>13:00:07</td>\n",
       "      <td>Wednesday</td>\n",
       "    </tr>\n",
       "    <tr>\n",
       "      <th>7</th>\n",
       "      <td>F03E1C1F</td>\n",
       "      <td>Feeling This Way</td>\n",
       "      <td>Polina Griffith</td>\n",
       "      <td>dance</td>\n",
       "      <td>Moscow</td>\n",
       "      <td>20:47:49</td>\n",
       "      <td>Wednesday</td>\n",
       "    </tr>\n",
       "    <tr>\n",
       "      <th>8</th>\n",
       "      <td>8FA1D3BE</td>\n",
       "      <td>И вновь продолжается бой</td>\n",
       "      <td>NaN</td>\n",
       "      <td>ruspop</td>\n",
       "      <td>Moscow</td>\n",
       "      <td>09:17:40</td>\n",
       "      <td>Friday</td>\n",
       "    </tr>\n",
       "    <tr>\n",
       "      <th>9</th>\n",
       "      <td>E772D5C0</td>\n",
       "      <td>Pessimist</td>\n",
       "      <td>NaN</td>\n",
       "      <td>dance</td>\n",
       "      <td>Saint-Petersburg</td>\n",
       "      <td>21:20:49</td>\n",
       "      <td>Wednesday</td>\n",
       "    </tr>\n",
       "  </tbody>\n",
       "</table>\n",
       "</div>"
      ],
      "text/plain": [
       "     userID                        Track            artist   genre  \\\n",
       "0  FFB692EC            Kamigata To Boots  The Mass Missile    rock   \n",
       "1  55204538  Delayed Because of Accident  Andreas Rönnberg    rock   \n",
       "2    20EC38            Funiculì funiculà       Mario Lanza     pop   \n",
       "3  A3DD03C9        Dragons in the Sunset        Fire + Ice    folk   \n",
       "4  E2DC1FAE                  Soul People        Space Echo   dance   \n",
       "5  842029A1                    Преданная         IMPERVTOR  rusrap   \n",
       "6  4CB90AA5                         True      Roman Messer   dance   \n",
       "7  F03E1C1F             Feeling This Way   Polina Griffith   dance   \n",
       "8  8FA1D3BE     И вновь продолжается бой               NaN  ruspop   \n",
       "9  E772D5C0                    Pessimist               NaN   dance   \n",
       "\n",
       "             City        time        Day  \n",
       "0  Saint-Petersburg  20:28:33  Wednesday  \n",
       "1            Moscow  14:07:09     Friday  \n",
       "2  Saint-Petersburg  20:58:07  Wednesday  \n",
       "3  Saint-Petersburg  08:37:09     Monday  \n",
       "4            Moscow  08:34:34     Monday  \n",
       "5  Saint-Petersburg  13:09:41     Friday  \n",
       "6            Moscow  13:00:07  Wednesday  \n",
       "7            Moscow  20:47:49  Wednesday  \n",
       "8            Moscow  09:17:40     Friday  \n",
       "9  Saint-Petersburg  21:20:49  Wednesday  "
      ]
     },
     "execution_count": 3,
     "metadata": {},
     "output_type": "execute_result"
    }
   ],
   "source": [
    "df.head(10) #получение первых 10 строк таблицы df"
   ]
  },
  {
   "cell_type": "markdown",
   "metadata": {
    "id": "EO73Kwic_Zct"
   },
   "source": [
    "Одной командой получить общую информацию о таблице:"
   ]
  },
  {
   "cell_type": "code",
   "execution_count": 4,
   "metadata": {
    "id": "DSf2kIb-_Zct"
   },
   "outputs": [
    {
     "name": "stdout",
     "output_type": "stream",
     "text": [
      "<class 'pandas.core.frame.DataFrame'>\n",
      "RangeIndex: 65079 entries, 0 to 65078\n",
      "Data columns (total 7 columns):\n",
      " #   Column    Non-Null Count  Dtype \n",
      "---  ------    --------------  ----- \n",
      " 0     userID  65079 non-null  object\n",
      " 1   Track     63848 non-null  object\n",
      " 2   artist    57876 non-null  object\n",
      " 3   genre     63881 non-null  object\n",
      " 4     City    65079 non-null  object\n",
      " 5   time      65079 non-null  object\n",
      " 6   Day       65079 non-null  object\n",
      "dtypes: object(7)\n",
      "memory usage: 3.5+ MB\n"
     ]
    }
   ],
   "source": [
    "df.info() #получение общей информации о данных в таблице df"
   ]
  },
  {
   "cell_type": "markdown",
   "metadata": {
    "id": "TaQ2Iwbr_Zct"
   },
   "source": [
    "Итак, в таблице семь столбцов. Тип данных во всех столбцах — `object`.\n",
    "\n",
    "Согласно документации к данным:\n",
    "* `userID` — идентификатор пользователя;\n",
    "* `Track` — название трека;  \n",
    "* `artist` — имя исполнителя;\n",
    "* `genre` — название жанра;\n",
    "* `City` — город пользователя;\n",
    "* `time` — время начала прослушивания;\n",
    "* `Day` — день недели.\n",
    "\n",
    "В названиях колонок видны три нарушения стиля:\n",
    "1. Строчные буквы сочетаются с прописными.\n",
    "2. Встречаются пробелы.\n",
    "3. Найдите ещё одну проблему в названии колонок и опишите её в этом пункте.\n",
    "4. Не хватает змеиного регистра в некоторыъ данных, например, user_id.\n",
    "\n",
    "\n",
    "\n",
    "Количество значений в столбцах различается. Значит, в данных есть пропущенные значения.\n"
   ]
  },
  {
   "cell_type": "markdown",
   "metadata": {
    "id": "MCB6-dXG_Zct"
   },
   "source": [
    "### Выводы\n",
    "\n",
    "В каждой строке таблицы — данные о прослушанном треке. Часть колонок описывает саму композицию: название, исполнителя и жанр. Остальные данные рассказывают о пользователе: из какого он города, когда он слушал музыку. \n",
    "\n",
    "Предварительно можно утверждать, что, данных достаточно для проверки гипотез. Но встречаются пропуски в данных, а в названиях колонок — расхождения с хорошим стилем.\n",
    "\n",
    "Чтобы двигаться дальше, нужно устранить проблемы в данных."
   ]
  },
  {
   "cell_type": "markdown",
   "metadata": {
    "id": "SjYF6Ub9_Zct"
   },
   "source": [
    "## Предобработка данных\n",
    "Исправьте стиль в заголовках столбцов, исключите пропуски. Затем проверьте данные на дубликаты."
   ]
  },
  {
   "cell_type": "markdown",
   "metadata": {
    "id": "dIaKXr29_Zct"
   },
   "source": [
    "### Стиль заголовков\n",
    "Выведите на экран названия столбцов:"
   ]
  },
  {
   "cell_type": "code",
   "execution_count": 5,
   "metadata": {
    "id": "oKOTdF_Q_Zct"
   },
   "outputs": [
    {
     "data": {
      "text/plain": [
       "Index(['  userID', 'Track', 'artist', 'genre', '  City  ', 'time', 'Day'], dtype='object')"
      ]
     },
     "execution_count": 5,
     "metadata": {},
     "output_type": "execute_result"
    }
   ],
   "source": [
    "df.columns #перечень названий столбцов таблицы df"
   ]
  },
  {
   "cell_type": "markdown",
   "metadata": {
    "id": "zj5534cv_Zct"
   },
   "source": [
    "Приведите названия в соответствие с хорошим стилем:\n",
    "* несколько слов в названии запишите в «змеином_регистре»,\n",
    "* все символы сделайте строчными,\n",
    "* устраните пробелы.\n",
    "\n",
    "Для этого переименуйте колонки так:\n",
    "* `'  userID'` → `'user_id'`;\n",
    "* `'Track'` → `'track'`;\n",
    "* `'  City  '` → `'city'`;\n",
    "* `'Day'` → `'day'`."
   ]
  },
  {
   "cell_type": "code",
   "execution_count": 6,
   "metadata": {
    "id": "ISlFqs5y_Zct"
   },
   "outputs": [],
   "source": [
    "df = df.rename(columns={'  userID': 'user_id', 'Track': 'track', '  City  ': 'city', 'Day': 'day'})# переименование столбцов"
   ]
  },
  {
   "cell_type": "markdown",
   "metadata": {
    "id": "1dqbh00J_Zct"
   },
   "source": [
    "Проверьте результат. Для этого ещё раз выведите на экран названия столбцов:"
   ]
  },
  {
   "cell_type": "code",
   "execution_count": 7,
   "metadata": {
    "id": "d4NOAmTW_Zct"
   },
   "outputs": [
    {
     "data": {
      "text/plain": [
       "Index(['user_id', 'track', 'artist', 'genre', 'city', 'time', 'day'], dtype='object')"
      ]
     },
     "execution_count": 7,
     "metadata": {},
     "output_type": "execute_result"
    }
   ],
   "source": [
    "df.columns #проверка результатов - перечень названий столбцов"
   ]
  },
  {
   "cell_type": "markdown",
   "metadata": {
    "id": "5ISfbcfY_Zct"
   },
   "source": [
    "### Пропуски значений\n",
    "Сначала посчитайте, сколько в таблице пропущенных значений. Для этого достаточно двух методов `pandas`:"
   ]
  },
  {
   "cell_type": "code",
   "execution_count": 8,
   "metadata": {
    "id": "RskX29qr_Zct"
   },
   "outputs": [
    {
     "data": {
      "text/plain": [
       "user_id       0\n",
       "track      1231\n",
       "artist     7203\n",
       "genre      1198\n",
       "city          0\n",
       "time          0\n",
       "day           0\n",
       "dtype: int64"
      ]
     },
     "execution_count": 8,
     "metadata": {},
     "output_type": "execute_result"
    }
   ],
   "source": [
    "df.isna().sum() #подсчёт пропусков"
   ]
  },
  {
   "cell_type": "markdown",
   "metadata": {
    "id": "qubhgnlO_Zct"
   },
   "source": [
    "Не все пропущенные значения влияют на исследование. Так в `track` и `artist` пропуски не важны для вашей работы. Достаточно заменить их явными обозначениями.\n",
    "\n",
    "Но пропуски в `genre` могут помешать сравнению музыкальных вкусов в Москве и Санкт-Петербурге. На практике было бы правильно установить причину пропусков и восстановить данные. Такой возможности нет в учебном проекте. Придётся:\n",
    "* заполнить и эти пропуски явными обозначениями,\n",
    "* оценить, насколько они повредят расчётам. "
   ]
  },
  {
   "cell_type": "markdown",
   "metadata": {
    "id": "fSv2laPA_Zct"
   },
   "source": [
    "Замените пропущенные значения в столбцах `track`, `artist` и `genre` на строку `'unknown'`. Для этого создайте список `columns_to_replace`, переберите его элементы циклом `for` и для каждого столбца выполните замену пропущенных значений:"
   ]
  },
  {
   "cell_type": "code",
   "execution_count": 9,
   "metadata": {
    "id": "KplB5qWs_Zct"
   },
   "outputs": [],
   "source": [
    "columns_to_replace = ['track', 'artist', 'genre']\n",
    "for column in columns_to_replace:\n",
    "    df[column]=df[column].fillna('unknown') #перебор названий столбцов в цикле и замена пропущенных значений на 'unknown'"
   ]
  },
  {
   "cell_type": "markdown",
   "metadata": {
    "id": "Ilsm-MZo_Zct"
   },
   "source": [
    "Убедитесь, что в таблице не осталось пропусков. Для этого ещё раз посчитайте пропущенные значения."
   ]
  },
  {
   "cell_type": "code",
   "execution_count": 10,
   "metadata": {
    "id": "Tq4nYRX4_Zct"
   },
   "outputs": [
    {
     "data": {
      "text/plain": [
       "user_id    0\n",
       "track      0\n",
       "artist     0\n",
       "genre      0\n",
       "city       0\n",
       "time       0\n",
       "day        0\n",
       "dtype: int64"
      ]
     },
     "execution_count": 10,
     "metadata": {},
     "output_type": "execute_result"
    }
   ],
   "source": [
    "df.isna().sum() #подсчёт пропусков"
   ]
  },
  {
   "cell_type": "markdown",
   "metadata": {
    "id": "BWKRtBJ3_Zct"
   },
   "source": [
    "### Дубликаты\n",
    "Посчитайте явные дубликаты в таблице одной командой:"
   ]
  },
  {
   "cell_type": "code",
   "execution_count": 11,
   "metadata": {
    "id": "36eES_S0_Zct"
   },
   "outputs": [
    {
     "data": {
      "text/plain": [
       "3826"
      ]
     },
     "execution_count": 11,
     "metadata": {},
     "output_type": "execute_result"
    }
   ],
   "source": [
    "df.duplicated().sum() #подсчёт явных дубликатов"
   ]
  },
  {
   "cell_type": "markdown",
   "metadata": {
    "id": "Ot25h6XR_Zct"
   },
   "source": [
    "Вызовите специальный метод `pandas`, чтобы удалить явные дубликаты:"
   ]
  },
  {
   "cell_type": "code",
   "execution_count": 12,
   "metadata": {
    "id": "exFHq6tt_Zct"
   },
   "outputs": [],
   "source": [
    "df = df.drop_duplicates().reset_index(drop=True) #удаление явных дубликатов (с удалением старых индексов и формированием новых)"
   ]
  },
  {
   "cell_type": "markdown",
   "metadata": {
    "id": "Im2YwBEG_Zct"
   },
   "source": [
    "Ещё раз посчитайте явные дубликаты в таблице — убедитесь, что полностью от них избавились:"
   ]
  },
  {
   "cell_type": "code",
   "execution_count": 13,
   "metadata": {
    "id": "-8PuNWQ0_Zct"
   },
   "outputs": [
    {
     "data": {
      "text/plain": [
       "0"
      ]
     },
     "execution_count": 13,
     "metadata": {},
     "output_type": "execute_result"
    }
   ],
   "source": [
    "df.duplicated().sum()# проверка на отсутствие дубликатов"
   ]
  },
  {
   "cell_type": "markdown",
   "metadata": {
    "id": "QlFBsxAr_Zct"
   },
   "source": [
    "Теперь избавьтесь от неявных дубликатов в колонке `genre`. Например, название одного и того же жанра может быть записано немного по-разному. Такие ошибки тоже повлияют на результат исследования."
   ]
  },
  {
   "cell_type": "markdown",
   "metadata": {
    "id": "eSjWwsOh_Zct"
   },
   "source": [
    "Выведите на экран список уникальных названий жанров, отсортированный в алфавитном порядке. Для этого:\n",
    "* извлеките нужный столбец датафрейма, \n",
    "* примените к нему метод сортировки,\n",
    "* для отсортированного столбца вызовите метод, который вернёт уникальные значения из столбца."
   ]
  },
  {
   "cell_type": "code",
   "execution_count": 14,
   "metadata": {
    "id": "JIUcqzZN_Zct"
   },
   "outputs": [
    {
     "data": {
      "text/plain": [
       "array(['acid', 'acoustic', 'action', 'adult', 'africa', 'afrikaans',\n",
       "       'alternative', 'alternativepunk', 'ambient', 'americana',\n",
       "       'animated', 'anime', 'arabesk', 'arabic', 'arena',\n",
       "       'argentinetango', 'art', 'audiobook', 'author', 'avantgarde',\n",
       "       'axé', 'baile', 'balkan', 'beats', 'bigroom', 'black', 'bluegrass',\n",
       "       'blues', 'bollywood', 'bossa', 'brazilian', 'breakbeat', 'breaks',\n",
       "       'broadway', 'cantautori', 'cantopop', 'canzone', 'caribbean',\n",
       "       'caucasian', 'celtic', 'chamber', 'chanson', 'children', 'chill',\n",
       "       'chinese', 'choral', 'christian', 'christmas', 'classical',\n",
       "       'classicmetal', 'club', 'colombian', 'comedy', 'conjazz',\n",
       "       'contemporary', 'country', 'cuban', 'dance', 'dancehall',\n",
       "       'dancepop', 'dark', 'death', 'deep', 'deutschrock', 'deutschspr',\n",
       "       'dirty', 'disco', 'dnb', 'documentary', 'downbeat', 'downtempo',\n",
       "       'drum', 'dub', 'dubstep', 'eastern', 'easy', 'electronic',\n",
       "       'electropop', 'emo', 'entehno', 'epicmetal', 'estrada', 'ethnic',\n",
       "       'eurofolk', 'european', 'experimental', 'extrememetal', 'fado',\n",
       "       'fairytail', 'film', 'fitness', 'flamenco', 'folk', 'folklore',\n",
       "       'folkmetal', 'folkrock', 'folktronica', 'forró', 'frankreich',\n",
       "       'französisch', 'french', 'funk', 'future', 'gangsta', 'garage',\n",
       "       'german', 'ghazal', 'gitarre', 'glitch', 'gospel', 'gothic',\n",
       "       'grime', 'grunge', 'gypsy', 'handsup', \"hard'n'heavy\", 'hardcore',\n",
       "       'hardstyle', 'hardtechno', 'hip', 'hip-hop', 'hiphop',\n",
       "       'historisch', 'holiday', 'hop', 'horror', 'house', 'hymn', 'idm',\n",
       "       'independent', 'indian', 'indie', 'indipop', 'industrial',\n",
       "       'inspirational', 'instrumental', 'international', 'irish', 'jam',\n",
       "       'japanese', 'jazz', 'jewish', 'jpop', 'jungle', 'k-pop',\n",
       "       'karadeniz', 'karaoke', 'kayokyoku', 'korean', 'laiko', 'latin',\n",
       "       'latino', 'leftfield', 'local', 'lounge', 'loungeelectronic',\n",
       "       'lovers', 'malaysian', 'mandopop', 'marschmusik', 'meditative',\n",
       "       'mediterranean', 'melodic', 'metal', 'metalcore', 'mexican',\n",
       "       'middle', 'minimal', 'miscellaneous', 'modern', 'mood', 'mpb',\n",
       "       'muslim', 'native', 'neoklassik', 'neue', 'new', 'newage',\n",
       "       'newwave', 'nu', 'nujazz', 'numetal', 'oceania', 'old', 'opera',\n",
       "       'orchestral', 'other', 'piano', 'podcasts', 'pop', 'popdance',\n",
       "       'popelectronic', 'popeurodance', 'poprussian', 'post',\n",
       "       'posthardcore', 'postrock', 'power', 'progmetal', 'progressive',\n",
       "       'psychedelic', 'punjabi', 'punk', 'quebecois', 'ragga', 'ram',\n",
       "       'rancheras', 'rap', 'rave', 'reggae', 'reggaeton', 'regional',\n",
       "       'relax', 'religious', 'retro', 'rhythm', 'rnb', 'rnr', 'rock',\n",
       "       'rockabilly', 'rockalternative', 'rockindie', 'rockother',\n",
       "       'romance', 'roots', 'ruspop', 'rusrap', 'rusrock', 'russian',\n",
       "       'salsa', 'samba', 'scenic', 'schlager', 'self', 'sertanejo',\n",
       "       'shanson', 'shoegazing', 'showtunes', 'singer', 'ska', 'skarock',\n",
       "       'slow', 'smooth', 'soft', 'soul', 'soulful', 'sound', 'soundtrack',\n",
       "       'southern', 'specialty', 'speech', 'spiritual', 'sport',\n",
       "       'stonerrock', 'surf', 'swing', 'synthpop', 'synthrock',\n",
       "       'sängerportrait', 'tango', 'tanzorchester', 'taraftar', 'tatar',\n",
       "       'tech', 'techno', 'teen', 'thrash', 'top', 'traditional',\n",
       "       'tradjazz', 'trance', 'tribal', 'trip', 'triphop', 'tropical',\n",
       "       'türk', 'türkçe', 'ukrrock', 'unknown', 'urban', 'uzbek',\n",
       "       'variété', 'vi', 'videogame', 'vocal', 'western', 'world',\n",
       "       'worldbeat', 'ïîï', 'электроника'], dtype=object)"
      ]
     },
     "execution_count": 14,
     "metadata": {},
     "output_type": "execute_result"
    }
   ],
   "source": [
    "df['genre'].sort_values().unique() #просмотр уникальных названий жанров"
   ]
  },
  {
   "cell_type": "markdown",
   "metadata": {
    "id": "qej-Qmuo_Zct"
   },
   "source": [
    "Просмотрите список и найдите неявные дубликаты названия `hiphop`. Это могут быть названия с ошибками или альтернативные названия того же жанра.\n",
    "\n",
    "Вы увидите следующие неявные дубликаты:\n",
    "* *hip*,\n",
    "* *hop*,\n",
    "* *hip-hop*.\n",
    "\n",
    "Чтобы очистить от них таблицу, напишите функцию `replace_wrong_genres()` с двумя параметрами: \n",
    "* `wrong_genres` — список дубликатов,\n",
    "* `correct_genre` — строка с правильным значением.\n",
    "\n",
    "Функция должна исправить колонку `genre` в таблице `df`: заменить каждое значение из списка `wrong_genres` на значение из `correct_genre`."
   ]
  },
  {
   "cell_type": "code",
   "execution_count": 15,
   "metadata": {
    "id": "ErNDkmns_Zct"
   },
   "outputs": [],
   "source": [
    "def replace_wrong_genres(wrong_genres, correct_genre):\n",
    "    for wrong_genre in wrong_genres:\n",
    "        df['genre'] = df['genre'].replace(wrong_genre, correct_genre) #функция для замены неявных дубликатов"
   ]
  },
  {
   "cell_type": "markdown",
   "metadata": {
    "id": "aDoBJxbA_Zct"
   },
   "source": [
    "Вызовите `replace_wrong_genres()` и передайте ей такие аргументы, чтобы она устранила неявные дубликаты: вместо `hip`, `hop` и `hip-hop` в таблице должно быть значение `hiphop`:"
   ]
  },
  {
   "cell_type": "code",
   "execution_count": 16,
   "metadata": {
    "id": "YN5i2hpmSo09"
   },
   "outputs": [
    {
     "data": {
      "text/html": [
       "<div>\n",
       "<style scoped>\n",
       "    .dataframe tbody tr th:only-of-type {\n",
       "        vertical-align: middle;\n",
       "    }\n",
       "\n",
       "    .dataframe tbody tr th {\n",
       "        vertical-align: top;\n",
       "    }\n",
       "\n",
       "    .dataframe thead th {\n",
       "        text-align: right;\n",
       "    }\n",
       "</style>\n",
       "<table border=\"1\" class=\"dataframe\">\n",
       "  <thead>\n",
       "    <tr style=\"text-align: right;\">\n",
       "      <th></th>\n",
       "      <th>user_id</th>\n",
       "      <th>track</th>\n",
       "      <th>artist</th>\n",
       "      <th>genre</th>\n",
       "      <th>city</th>\n",
       "      <th>time</th>\n",
       "      <th>day</th>\n",
       "    </tr>\n",
       "  </thead>\n",
       "  <tbody>\n",
       "    <tr>\n",
       "      <th>0</th>\n",
       "      <td>FFB692EC</td>\n",
       "      <td>Kamigata To Boots</td>\n",
       "      <td>The Mass Missile</td>\n",
       "      <td>rock</td>\n",
       "      <td>Saint-Petersburg</td>\n",
       "      <td>20:28:33</td>\n",
       "      <td>Wednesday</td>\n",
       "    </tr>\n",
       "    <tr>\n",
       "      <th>1</th>\n",
       "      <td>55204538</td>\n",
       "      <td>Delayed Because of Accident</td>\n",
       "      <td>Andreas Rönnberg</td>\n",
       "      <td>rock</td>\n",
       "      <td>Moscow</td>\n",
       "      <td>14:07:09</td>\n",
       "      <td>Friday</td>\n",
       "    </tr>\n",
       "    <tr>\n",
       "      <th>2</th>\n",
       "      <td>20EC38</td>\n",
       "      <td>Funiculì funiculà</td>\n",
       "      <td>Mario Lanza</td>\n",
       "      <td>pop</td>\n",
       "      <td>Saint-Petersburg</td>\n",
       "      <td>20:58:07</td>\n",
       "      <td>Wednesday</td>\n",
       "    </tr>\n",
       "    <tr>\n",
       "      <th>3</th>\n",
       "      <td>A3DD03C9</td>\n",
       "      <td>Dragons in the Sunset</td>\n",
       "      <td>Fire + Ice</td>\n",
       "      <td>folk</td>\n",
       "      <td>Saint-Petersburg</td>\n",
       "      <td>08:37:09</td>\n",
       "      <td>Monday</td>\n",
       "    </tr>\n",
       "    <tr>\n",
       "      <th>4</th>\n",
       "      <td>E2DC1FAE</td>\n",
       "      <td>Soul People</td>\n",
       "      <td>Space Echo</td>\n",
       "      <td>dance</td>\n",
       "      <td>Moscow</td>\n",
       "      <td>08:34:34</td>\n",
       "      <td>Monday</td>\n",
       "    </tr>\n",
       "    <tr>\n",
       "      <th>...</th>\n",
       "      <td>...</td>\n",
       "      <td>...</td>\n",
       "      <td>...</td>\n",
       "      <td>...</td>\n",
       "      <td>...</td>\n",
       "      <td>...</td>\n",
       "      <td>...</td>\n",
       "    </tr>\n",
       "    <tr>\n",
       "      <th>61248</th>\n",
       "      <td>729CBB09</td>\n",
       "      <td>My Name</td>\n",
       "      <td>McLean</td>\n",
       "      <td>rnb</td>\n",
       "      <td>Moscow</td>\n",
       "      <td>13:32:28</td>\n",
       "      <td>Wednesday</td>\n",
       "    </tr>\n",
       "    <tr>\n",
       "      <th>61249</th>\n",
       "      <td>D08D4A55</td>\n",
       "      <td>Maybe One Day (feat. Black Spade)</td>\n",
       "      <td>Blu &amp; Exile</td>\n",
       "      <td>hiphop</td>\n",
       "      <td>Saint-Petersburg</td>\n",
       "      <td>10:00:00</td>\n",
       "      <td>Monday</td>\n",
       "    </tr>\n",
       "    <tr>\n",
       "      <th>61250</th>\n",
       "      <td>C5E3A0D5</td>\n",
       "      <td>Jalopiina</td>\n",
       "      <td>unknown</td>\n",
       "      <td>industrial</td>\n",
       "      <td>Moscow</td>\n",
       "      <td>20:09:26</td>\n",
       "      <td>Friday</td>\n",
       "    </tr>\n",
       "    <tr>\n",
       "      <th>61251</th>\n",
       "      <td>321D0506</td>\n",
       "      <td>Freight Train</td>\n",
       "      <td>Chas McDevitt</td>\n",
       "      <td>rock</td>\n",
       "      <td>Moscow</td>\n",
       "      <td>21:43:59</td>\n",
       "      <td>Friday</td>\n",
       "    </tr>\n",
       "    <tr>\n",
       "      <th>61252</th>\n",
       "      <td>3A64EF84</td>\n",
       "      <td>Tell Me Sweet Little Lies</td>\n",
       "      <td>Monica Lopez</td>\n",
       "      <td>country</td>\n",
       "      <td>Moscow</td>\n",
       "      <td>21:59:46</td>\n",
       "      <td>Friday</td>\n",
       "    </tr>\n",
       "  </tbody>\n",
       "</table>\n",
       "<p>61253 rows × 7 columns</p>\n",
       "</div>"
      ],
      "text/plain": [
       "        user_id                              track            artist  \\\n",
       "0      FFB692EC                  Kamigata To Boots  The Mass Missile   \n",
       "1      55204538        Delayed Because of Accident  Andreas Rönnberg   \n",
       "2        20EC38                  Funiculì funiculà       Mario Lanza   \n",
       "3      A3DD03C9              Dragons in the Sunset        Fire + Ice   \n",
       "4      E2DC1FAE                        Soul People        Space Echo   \n",
       "...         ...                                ...               ...   \n",
       "61248  729CBB09                            My Name            McLean   \n",
       "61249  D08D4A55  Maybe One Day (feat. Black Spade)       Blu & Exile   \n",
       "61250  C5E3A0D5                          Jalopiina           unknown   \n",
       "61251  321D0506                      Freight Train     Chas McDevitt   \n",
       "61252  3A64EF84          Tell Me Sweet Little Lies      Monica Lopez   \n",
       "\n",
       "            genre              city      time        day  \n",
       "0            rock  Saint-Petersburg  20:28:33  Wednesday  \n",
       "1            rock            Moscow  14:07:09     Friday  \n",
       "2             pop  Saint-Petersburg  20:58:07  Wednesday  \n",
       "3            folk  Saint-Petersburg  08:37:09     Monday  \n",
       "4           dance            Moscow  08:34:34     Monday  \n",
       "...           ...               ...       ...        ...  \n",
       "61248         rnb            Moscow  13:32:28  Wednesday  \n",
       "61249      hiphop  Saint-Petersburg  10:00:00     Monday  \n",
       "61250  industrial            Moscow  20:09:26     Friday  \n",
       "61251        rock            Moscow  21:43:59     Friday  \n",
       "61252     country            Moscow  21:59:46     Friday  \n",
       "\n",
       "[61253 rows x 7 columns]"
      ]
     },
     "execution_count": 16,
     "metadata": {},
     "output_type": "execute_result"
    }
   ],
   "source": [
    "wrong_genres = ['hip', 'hop', 'hip-hop']\n",
    "correct_genre = 'hiphop'\n",
    "replace_wrong_genres(wrong_genres, correct_genre)\n",
    "df #устранение неявных дубликатов"
   ]
  },
  {
   "cell_type": "markdown",
   "metadata": {
    "id": "zQKF16_RG15m"
   },
   "source": [
    "Проверьте, что заменили неправильные названия:\n",
    "\n",
    "*   hip\n",
    "*   hop\n",
    "*   hip-hop\n",
    "\n",
    "Выведите отсортированный список уникальных значений столбца `genre`:"
   ]
  },
  {
   "cell_type": "code",
   "execution_count": 17,
   "metadata": {
    "id": "wvixALnFG15m"
   },
   "outputs": [
    {
     "data": {
      "text/plain": [
       "array(['acid', 'acoustic', 'action', 'adult', 'africa', 'afrikaans',\n",
       "       'alternative', 'alternativepunk', 'ambient', 'americana',\n",
       "       'animated', 'anime', 'arabesk', 'arabic', 'arena',\n",
       "       'argentinetango', 'art', 'audiobook', 'author', 'avantgarde',\n",
       "       'axé', 'baile', 'balkan', 'beats', 'bigroom', 'black', 'bluegrass',\n",
       "       'blues', 'bollywood', 'bossa', 'brazilian', 'breakbeat', 'breaks',\n",
       "       'broadway', 'cantautori', 'cantopop', 'canzone', 'caribbean',\n",
       "       'caucasian', 'celtic', 'chamber', 'chanson', 'children', 'chill',\n",
       "       'chinese', 'choral', 'christian', 'christmas', 'classical',\n",
       "       'classicmetal', 'club', 'colombian', 'comedy', 'conjazz',\n",
       "       'contemporary', 'country', 'cuban', 'dance', 'dancehall',\n",
       "       'dancepop', 'dark', 'death', 'deep', 'deutschrock', 'deutschspr',\n",
       "       'dirty', 'disco', 'dnb', 'documentary', 'downbeat', 'downtempo',\n",
       "       'drum', 'dub', 'dubstep', 'eastern', 'easy', 'electronic',\n",
       "       'electropop', 'emo', 'entehno', 'epicmetal', 'estrada', 'ethnic',\n",
       "       'eurofolk', 'european', 'experimental', 'extrememetal', 'fado',\n",
       "       'fairytail', 'film', 'fitness', 'flamenco', 'folk', 'folklore',\n",
       "       'folkmetal', 'folkrock', 'folktronica', 'forró', 'frankreich',\n",
       "       'französisch', 'french', 'funk', 'future', 'gangsta', 'garage',\n",
       "       'german', 'ghazal', 'gitarre', 'glitch', 'gospel', 'gothic',\n",
       "       'grime', 'grunge', 'gypsy', 'handsup', \"hard'n'heavy\", 'hardcore',\n",
       "       'hardstyle', 'hardtechno', 'hiphop', 'historisch', 'holiday',\n",
       "       'horror', 'house', 'hymn', 'idm', 'independent', 'indian', 'indie',\n",
       "       'indipop', 'industrial', 'inspirational', 'instrumental',\n",
       "       'international', 'irish', 'jam', 'japanese', 'jazz', 'jewish',\n",
       "       'jpop', 'jungle', 'k-pop', 'karadeniz', 'karaoke', 'kayokyoku',\n",
       "       'korean', 'laiko', 'latin', 'latino', 'leftfield', 'local',\n",
       "       'lounge', 'loungeelectronic', 'lovers', 'malaysian', 'mandopop',\n",
       "       'marschmusik', 'meditative', 'mediterranean', 'melodic', 'metal',\n",
       "       'metalcore', 'mexican', 'middle', 'minimal', 'miscellaneous',\n",
       "       'modern', 'mood', 'mpb', 'muslim', 'native', 'neoklassik', 'neue',\n",
       "       'new', 'newage', 'newwave', 'nu', 'nujazz', 'numetal', 'oceania',\n",
       "       'old', 'opera', 'orchestral', 'other', 'piano', 'podcasts', 'pop',\n",
       "       'popdance', 'popelectronic', 'popeurodance', 'poprussian', 'post',\n",
       "       'posthardcore', 'postrock', 'power', 'progmetal', 'progressive',\n",
       "       'psychedelic', 'punjabi', 'punk', 'quebecois', 'ragga', 'ram',\n",
       "       'rancheras', 'rap', 'rave', 'reggae', 'reggaeton', 'regional',\n",
       "       'relax', 'religious', 'retro', 'rhythm', 'rnb', 'rnr', 'rock',\n",
       "       'rockabilly', 'rockalternative', 'rockindie', 'rockother',\n",
       "       'romance', 'roots', 'ruspop', 'rusrap', 'rusrock', 'russian',\n",
       "       'salsa', 'samba', 'scenic', 'schlager', 'self', 'sertanejo',\n",
       "       'shanson', 'shoegazing', 'showtunes', 'singer', 'ska', 'skarock',\n",
       "       'slow', 'smooth', 'soft', 'soul', 'soulful', 'sound', 'soundtrack',\n",
       "       'southern', 'specialty', 'speech', 'spiritual', 'sport',\n",
       "       'stonerrock', 'surf', 'swing', 'synthpop', 'synthrock',\n",
       "       'sängerportrait', 'tango', 'tanzorchester', 'taraftar', 'tatar',\n",
       "       'tech', 'techno', 'teen', 'thrash', 'top', 'traditional',\n",
       "       'tradjazz', 'trance', 'tribal', 'trip', 'triphop', 'tropical',\n",
       "       'türk', 'türkçe', 'ukrrock', 'unknown', 'urban', 'uzbek',\n",
       "       'variété', 'vi', 'videogame', 'vocal', 'western', 'world',\n",
       "       'worldbeat', 'ïîï', 'электроника'], dtype=object)"
      ]
     },
     "execution_count": 17,
     "metadata": {},
     "output_type": "execute_result"
    }
   ],
   "source": [
    "df['genre'].sort_values().unique()#проверка на неявные дубликаты"
   ]
  },
  {
   "cell_type": "markdown",
   "metadata": {
    "id": "jz6a9-7HQUDd"
   },
   "source": [
    "### Выводы\n",
    "\n",
    "Предобработка обнаружила три проблемы в данных:\n",
    "\n",
    "- нарушения в стиле заголовков,\n",
    "- пропущенные значения,\n",
    "- дубликаты — явные и неявные.\n",
    "\n",
    "Вы исправили заголовки, чтобы упростить работу с таблицей. Без дубликатов исследование станет более точным.\n",
    "\n",
    "Пропущенные значения вы заменили на `'unknown'`. Ещё предстоит увидеть, не повредят ли исследованию пропуски в колонке `genre`.\n",
    "\n",
    "Теперь можно перейти к проверке гипотез. "
   ]
  },
  {
   "cell_type": "markdown",
   "metadata": {
    "id": "WttZHXH0SqKk"
   },
   "source": [
    "## Проверка гипотез"
   ]
  },
  {
   "cell_type": "markdown",
   "metadata": {
    "id": "Im936VVi_Zcu"
   },
   "source": [
    "### Сравнение поведения пользователей двух столиц"
   ]
  },
  {
   "cell_type": "markdown",
   "metadata": {
    "id": "nwt_MuaL_Zcu"
   },
   "source": [
    "Первая гипотеза утверждает, что пользователи по-разному слушают музыку в Москве и Санкт-Петербурге. Проверьте это предположение по данным о трёх днях недели — понедельнике, среде и пятнице. Для этого:\n",
    "\n",
    "* Разделите пользователей Москвы и Санкт-Петербурга\n",
    "* Сравните, сколько треков послушала каждая группа пользователей в понедельник, среду и пятницу.\n"
   ]
  },
  {
   "cell_type": "markdown",
   "metadata": {
    "id": "8Dw_YMmT_Zcu"
   },
   "source": [
    "Для тренировки сначала выполните каждый из расчётов по отдельности. \n",
    "\n",
    "Оцените активность пользователей в каждом городе. Сгруппируйте данные по городу и посчитайте прослушивания в каждой группе.\n",
    "\n"
   ]
  },
  {
   "cell_type": "code",
   "execution_count": 18,
   "metadata": {
    "id": "0_Qs96oh_Zcu"
   },
   "outputs": [
    {
     "data": {
      "text/plain": [
       "city\n",
       "Moscow              42741\n",
       "Saint-Petersburg    18512\n",
       "Name: user_id, dtype: int64"
      ]
     },
     "execution_count": 18,
     "metadata": {},
     "output_type": "execute_result"
    }
   ],
   "source": [
    "df.groupby('city')['user_id'].count()#подсчёт прослушиваний в каждом городе"
   ]
  },
  {
   "cell_type": "markdown",
   "metadata": {
    "id": "dzli3w8o_Zcu"
   },
   "source": [
    "В Москве прослушиваний больше, чем в Петербурге. Из этого не следует, что московские пользователи чаще слушают музыку. Просто самих пользователей в Москве больше.\n",
    "\n",
    "Теперь сгруппируйте данные по дню недели и подсчитайте прослушивания в понедельник, среду и пятницу. Учтите, что в данных есть информация только о прослушиваниях только за эти дни.\n"
   ]
  },
  {
   "cell_type": "code",
   "execution_count": 19,
   "metadata": {
    "id": "uZMKjiJz_Zcu"
   },
   "outputs": [
    {
     "data": {
      "text/plain": [
       "day\n",
       "Friday       21840\n",
       "Monday       21354\n",
       "Wednesday    18059\n",
       "Name: user_id, dtype: int64"
      ]
     },
     "execution_count": 19,
     "metadata": {},
     "output_type": "execute_result"
    }
   ],
   "source": [
    "df.groupby('day')['user_id'].count()#подсчёт прослушиваний в каждый из трёх дней"
   ]
  },
  {
   "cell_type": "markdown",
   "metadata": {
    "id": "cC2tNrlL_Zcu"
   },
   "source": [
    "В среднем пользователи из двух городов менее активны по средам. Но картина может измениться, если рассмотреть каждый город в отдельности."
   ]
  },
  {
   "cell_type": "markdown",
   "metadata": {
    "id": "POzs8bGa_Zcu"
   },
   "source": [
    "Вы видели, как работает группировка по городу и по дням недели. Теперь напишите функцию, которая объединит два эти расчёта.\n",
    "\n",
    "Создайте функцию `number_tracks()`, которая посчитает прослушивания для заданного дня и города. Ей понадобятся два параметра:\n",
    "* день недели,\n",
    "* название города.\n",
    "\n",
    "В функции сохраните в переменную строки исходной таблицы, у которых значение:\n",
    "  * в колонке `day` равно параметру `day`,\n",
    "  * в колонке `city` равно параметру `city`.\n",
    "\n",
    "Для этого примените последовательную фильтрацию с логической индексацией.\n",
    "\n",
    "Затем посчитайте значения в столбце `user_id` получившейся таблицы. Результат сохраните в новую переменную. Верните эту переменную из функции."
   ]
  },
  {
   "cell_type": "code",
   "execution_count": 20,
   "metadata": {
    "id": "Nz3GdQB1_Zcu"
   },
   "outputs": [],
   "source": [
    "def number_tracks(day, city):\n",
    "    track_list = df[\n",
    "        (df['day'] == day)\n",
    "        & (df['city'] == city)\n",
    "    ]\n",
    "# <создание функции number_tracks()>\n",
    "# Объявляется функция с двумя параметрами: day, city.\n",
    "# В переменной track_list сохраняются те строки таблицы df, для которых \n",
    "# значение в столбце 'day' равно параметру day и одновременно значение\n",
    "# в столбце 'city' равно параметру city (используйте последовательную фильтрацию\n",
    "# с помощью логической индексации).\n",
    "    track_list_count = track_list['user_id'].count()\n",
    "# В переменной track_list_count сохраняется число значений столбца 'user_id',\n",
    "# рассчитанное методом count() для таблицы track_list.\n",
    "# Функция возвращает число - значение track_list_count.\n",
    "    return track_list_count\n",
    "# Функция для подсчёта прослушиваний для конкретного города и дня.\n",
    "# С помощью последовательной фильтрации с логической индексацией она \n",
    "# сначала получит из исходной таблицы строки с нужным днём,\n",
    "# затем из результата отфильтрует строки с нужным городом,\n",
    "# методом count() посчитает количество значений в колонке user_id. \n",
    "# Это количество функция вернёт в качестве результата"
   ]
  },
  {
   "cell_type": "markdown",
   "metadata": {
    "id": "ytf7xFrFJQ2r"
   },
   "source": [
    "Вызовите `number_tracks()` шесть раз, меняя значение параметров — так, чтобы получить данные для каждого города в каждый из трёх дней."
   ]
  },
  {
   "cell_type": "code",
   "execution_count": 21,
   "metadata": {
    "id": "rJcRATNQ_Zcu"
   },
   "outputs": [
    {
     "data": {
      "text/plain": [
       "15740"
      ]
     },
     "execution_count": 21,
     "metadata": {},
     "output_type": "execute_result"
    }
   ],
   "source": [
    "number_tracks('Monday', 'Moscow')# количество прослушиваний в Москве по понедельникам"
   ]
  },
  {
   "cell_type": "code",
   "execution_count": 22,
   "metadata": {
    "id": "hq_ncZ5T_Zcu"
   },
   "outputs": [
    {
     "data": {
      "text/plain": [
       "5614"
      ]
     },
     "execution_count": 22,
     "metadata": {},
     "output_type": "execute_result"
    }
   ],
   "source": [
    "number_tracks('Monday', 'Saint-Petersburg')# количество прослушиваний в Санкт-Петербурге по понедельникам"
   ]
  },
  {
   "cell_type": "code",
   "execution_count": 23,
   "metadata": {
    "id": "_NTy2VPU_Zcu"
   },
   "outputs": [
    {
     "data": {
      "text/plain": [
       "11056"
      ]
     },
     "execution_count": 23,
     "metadata": {},
     "output_type": "execute_result"
    }
   ],
   "source": [
    "number_tracks('Wednesday', 'Moscow')# количество прослушиваний в Москве по средам"
   ]
  },
  {
   "cell_type": "code",
   "execution_count": 24,
   "metadata": {
    "id": "j2y3TAwo_Zcu"
   },
   "outputs": [
    {
     "data": {
      "text/plain": [
       "7003"
      ]
     },
     "execution_count": 24,
     "metadata": {},
     "output_type": "execute_result"
    }
   ],
   "source": [
    "number_tracks('Wednesday', 'Saint-Petersburg')# количество прослушиваний в Санкт-Петербурге по средам"
   ]
  },
  {
   "cell_type": "code",
   "execution_count": 25,
   "metadata": {
    "id": "vYDw5u_K_Zcu"
   },
   "outputs": [
    {
     "data": {
      "text/plain": [
       "15945"
      ]
     },
     "execution_count": 25,
     "metadata": {},
     "output_type": "execute_result"
    }
   ],
   "source": [
    "number_tracks('Friday', 'Moscow')# количество прослушиваний в Москве по пятницам"
   ]
  },
  {
   "cell_type": "code",
   "execution_count": 26,
   "metadata": {
    "id": "8_yzFtW3_Zcu"
   },
   "outputs": [
    {
     "data": {
      "text/plain": [
       "5895"
      ]
     },
     "execution_count": 26,
     "metadata": {},
     "output_type": "execute_result"
    }
   ],
   "source": [
    "number_tracks('Friday', 'Saint-Petersburg')# количество прослушиваний в Санкт-Петербурге по пятницам"
   ]
  },
  {
   "cell_type": "markdown",
   "metadata": {
    "id": "7QXffbO-_Zcu"
   },
   "source": [
    "Создайте c помощью конструктора `pd.DataFrame` таблицу, где\n",
    "* названия колонок — `['city', 'monday', 'wednesday', 'friday']`;\n",
    "* данные — результаты, которые вы получили с помощью `number_tracks`."
   ]
  },
  {
   "cell_type": "code",
   "execution_count": 27,
   "metadata": {
    "id": "APAcLpOr_Zcu"
   },
   "outputs": [
    {
     "data": {
      "text/html": [
       "<div>\n",
       "<style scoped>\n",
       "    .dataframe tbody tr th:only-of-type {\n",
       "        vertical-align: middle;\n",
       "    }\n",
       "\n",
       "    .dataframe tbody tr th {\n",
       "        vertical-align: top;\n",
       "    }\n",
       "\n",
       "    .dataframe thead th {\n",
       "        text-align: right;\n",
       "    }\n",
       "</style>\n",
       "<table border=\"1\" class=\"dataframe\">\n",
       "  <thead>\n",
       "    <tr style=\"text-align: right;\">\n",
       "      <th></th>\n",
       "      <th>city</th>\n",
       "      <th>monday</th>\n",
       "      <th>wednesday</th>\n",
       "      <th>friday</th>\n",
       "    </tr>\n",
       "  </thead>\n",
       "  <tbody>\n",
       "    <tr>\n",
       "      <th>0</th>\n",
       "      <td>Moscow</td>\n",
       "      <td>15740</td>\n",
       "      <td>11056</td>\n",
       "      <td>15945</td>\n",
       "    </tr>\n",
       "    <tr>\n",
       "      <th>1</th>\n",
       "      <td>Saint-Petersburg</td>\n",
       "      <td>5614</td>\n",
       "      <td>7003</td>\n",
       "      <td>5895</td>\n",
       "    </tr>\n",
       "  </tbody>\n",
       "</table>\n",
       "</div>"
      ],
      "text/plain": [
       "               city monday wednesday friday\n",
       "0            Moscow  15740     11056  15945\n",
       "1  Saint-Petersburg   5614      7003   5895"
      ]
     },
     "execution_count": 27,
     "metadata": {},
     "output_type": "execute_result"
    }
   ],
   "source": [
    "columns = ['city', 'monday', 'wednesday', 'friday']\n",
    "result = pd.DataFrame(data=[\n",
    "    ['Moscow', '15740', '11056', '15945'], \n",
    "    ['Saint-Petersburg', '5614', '7003', '5895']\n",
    "], columns=columns)\n",
    "result# Таблица с результатами"
   ]
  },
  {
   "cell_type": "markdown",
   "metadata": {
    "id": "-EgPIHYu_Zcu"
   },
   "source": [
    "### Выводы\n",
    "\n",
    "Данные показывают разницу поведения пользователей:\n",
    "\n",
    "- В Москве пик прослушиваний приходится на понедельник и пятницу, а в среду заметен спад.\n",
    "- В Петербурге, наоборот, больше слушают музыку по средам. Активность в понедельник и пятницу здесь почти в равной мере уступает среде.\n",
    "\n",
    "Значит, данные говорят в пользу первой гипотезы."
   ]
  },
  {
   "cell_type": "markdown",
   "metadata": {
    "id": "atZAxtq4_Zcu"
   },
   "source": [
    "### Музыка в начале и в конце недели"
   ]
  },
  {
   "cell_type": "markdown",
   "metadata": {
    "id": "eXrQqXFH_Zcu"
   },
   "source": [
    "Согласно второй гипотезе, утром в понедельник в Москве преобладают одни жанры, а в Петербурге — другие. Так же и вечером пятницы преобладают разные жанры — в зависимости от города."
   ]
  },
  {
   "cell_type": "markdown",
   "metadata": {
    "id": "S8UcW6Hw_Zcu"
   },
   "source": [
    "Сохраните таблицы с данными в две переменные:\n",
    "* по Москве — в `moscow_general`;\n",
    "* по Санкт-Петербургу — в `spb_general`."
   ]
  },
  {
   "cell_type": "code",
   "execution_count": 28,
   "metadata": {
    "id": "qeaFfM_P_Zcu"
   },
   "outputs": [
    {
     "data": {
      "text/html": [
       "<div>\n",
       "<style scoped>\n",
       "    .dataframe tbody tr th:only-of-type {\n",
       "        vertical-align: middle;\n",
       "    }\n",
       "\n",
       "    .dataframe tbody tr th {\n",
       "        vertical-align: top;\n",
       "    }\n",
       "\n",
       "    .dataframe thead th {\n",
       "        text-align: right;\n",
       "    }\n",
       "</style>\n",
       "<table border=\"1\" class=\"dataframe\">\n",
       "  <thead>\n",
       "    <tr style=\"text-align: right;\">\n",
       "      <th></th>\n",
       "      <th>user_id</th>\n",
       "      <th>track</th>\n",
       "      <th>artist</th>\n",
       "      <th>genre</th>\n",
       "      <th>city</th>\n",
       "      <th>time</th>\n",
       "      <th>day</th>\n",
       "    </tr>\n",
       "  </thead>\n",
       "  <tbody>\n",
       "    <tr>\n",
       "      <th>1</th>\n",
       "      <td>55204538</td>\n",
       "      <td>Delayed Because of Accident</td>\n",
       "      <td>Andreas Rönnberg</td>\n",
       "      <td>rock</td>\n",
       "      <td>Moscow</td>\n",
       "      <td>14:07:09</td>\n",
       "      <td>Friday</td>\n",
       "    </tr>\n",
       "    <tr>\n",
       "      <th>4</th>\n",
       "      <td>E2DC1FAE</td>\n",
       "      <td>Soul People</td>\n",
       "      <td>Space Echo</td>\n",
       "      <td>dance</td>\n",
       "      <td>Moscow</td>\n",
       "      <td>08:34:34</td>\n",
       "      <td>Monday</td>\n",
       "    </tr>\n",
       "    <tr>\n",
       "      <th>6</th>\n",
       "      <td>4CB90AA5</td>\n",
       "      <td>True</td>\n",
       "      <td>Roman Messer</td>\n",
       "      <td>dance</td>\n",
       "      <td>Moscow</td>\n",
       "      <td>13:00:07</td>\n",
       "      <td>Wednesday</td>\n",
       "    </tr>\n",
       "    <tr>\n",
       "      <th>7</th>\n",
       "      <td>F03E1C1F</td>\n",
       "      <td>Feeling This Way</td>\n",
       "      <td>Polina Griffith</td>\n",
       "      <td>dance</td>\n",
       "      <td>Moscow</td>\n",
       "      <td>20:47:49</td>\n",
       "      <td>Wednesday</td>\n",
       "    </tr>\n",
       "    <tr>\n",
       "      <th>8</th>\n",
       "      <td>8FA1D3BE</td>\n",
       "      <td>И вновь продолжается бой</td>\n",
       "      <td>unknown</td>\n",
       "      <td>ruspop</td>\n",
       "      <td>Moscow</td>\n",
       "      <td>09:17:40</td>\n",
       "      <td>Friday</td>\n",
       "    </tr>\n",
       "  </tbody>\n",
       "</table>\n",
       "</div>"
      ],
      "text/plain": [
       "    user_id                        track            artist   genre    city  \\\n",
       "1  55204538  Delayed Because of Accident  Andreas Rönnberg    rock  Moscow   \n",
       "4  E2DC1FAE                  Soul People        Space Echo   dance  Moscow   \n",
       "6  4CB90AA5                         True      Roman Messer   dance  Moscow   \n",
       "7  F03E1C1F             Feeling This Way   Polina Griffith   dance  Moscow   \n",
       "8  8FA1D3BE     И вновь продолжается бой           unknown  ruspop  Moscow   \n",
       "\n",
       "       time        day  \n",
       "1  14:07:09     Friday  \n",
       "4  08:34:34     Monday  \n",
       "6  13:00:07  Wednesday  \n",
       "7  20:47:49  Wednesday  \n",
       "8  09:17:40     Friday  "
      ]
     },
     "execution_count": 28,
     "metadata": {},
     "output_type": "execute_result"
    }
   ],
   "source": [
    "moscow_general = df[df['city']=='Moscow']\n",
    "moscow_general.head()\n",
    "#получение таблицы moscow_general из тех строк таблицы df, \n",
    "#для которых значение в столбце 'city' равно 'Moscow'\n"
   ]
  },
  {
   "cell_type": "code",
   "execution_count": 29,
   "metadata": {
    "id": "ORaVRKto_Zcu"
   },
   "outputs": [
    {
     "data": {
      "text/html": [
       "<div>\n",
       "<style scoped>\n",
       "    .dataframe tbody tr th:only-of-type {\n",
       "        vertical-align: middle;\n",
       "    }\n",
       "\n",
       "    .dataframe tbody tr th {\n",
       "        vertical-align: top;\n",
       "    }\n",
       "\n",
       "    .dataframe thead th {\n",
       "        text-align: right;\n",
       "    }\n",
       "</style>\n",
       "<table border=\"1\" class=\"dataframe\">\n",
       "  <thead>\n",
       "    <tr style=\"text-align: right;\">\n",
       "      <th></th>\n",
       "      <th>user_id</th>\n",
       "      <th>track</th>\n",
       "      <th>artist</th>\n",
       "      <th>genre</th>\n",
       "      <th>city</th>\n",
       "      <th>time</th>\n",
       "      <th>day</th>\n",
       "    </tr>\n",
       "  </thead>\n",
       "  <tbody>\n",
       "    <tr>\n",
       "      <th>0</th>\n",
       "      <td>FFB692EC</td>\n",
       "      <td>Kamigata To Boots</td>\n",
       "      <td>The Mass Missile</td>\n",
       "      <td>rock</td>\n",
       "      <td>Saint-Petersburg</td>\n",
       "      <td>20:28:33</td>\n",
       "      <td>Wednesday</td>\n",
       "    </tr>\n",
       "    <tr>\n",
       "      <th>2</th>\n",
       "      <td>20EC38</td>\n",
       "      <td>Funiculì funiculà</td>\n",
       "      <td>Mario Lanza</td>\n",
       "      <td>pop</td>\n",
       "      <td>Saint-Petersburg</td>\n",
       "      <td>20:58:07</td>\n",
       "      <td>Wednesday</td>\n",
       "    </tr>\n",
       "    <tr>\n",
       "      <th>3</th>\n",
       "      <td>A3DD03C9</td>\n",
       "      <td>Dragons in the Sunset</td>\n",
       "      <td>Fire + Ice</td>\n",
       "      <td>folk</td>\n",
       "      <td>Saint-Petersburg</td>\n",
       "      <td>08:37:09</td>\n",
       "      <td>Monday</td>\n",
       "    </tr>\n",
       "    <tr>\n",
       "      <th>5</th>\n",
       "      <td>842029A1</td>\n",
       "      <td>Преданная</td>\n",
       "      <td>IMPERVTOR</td>\n",
       "      <td>rusrap</td>\n",
       "      <td>Saint-Petersburg</td>\n",
       "      <td>13:09:41</td>\n",
       "      <td>Friday</td>\n",
       "    </tr>\n",
       "    <tr>\n",
       "      <th>9</th>\n",
       "      <td>E772D5C0</td>\n",
       "      <td>Pessimist</td>\n",
       "      <td>unknown</td>\n",
       "      <td>dance</td>\n",
       "      <td>Saint-Petersburg</td>\n",
       "      <td>21:20:49</td>\n",
       "      <td>Wednesday</td>\n",
       "    </tr>\n",
       "  </tbody>\n",
       "</table>\n",
       "</div>"
      ],
      "text/plain": [
       "    user_id                  track            artist   genre  \\\n",
       "0  FFB692EC      Kamigata To Boots  The Mass Missile    rock   \n",
       "2    20EC38      Funiculì funiculà       Mario Lanza     pop   \n",
       "3  A3DD03C9  Dragons in the Sunset        Fire + Ice    folk   \n",
       "5  842029A1              Преданная         IMPERVTOR  rusrap   \n",
       "9  E772D5C0              Pessimist           unknown   dance   \n",
       "\n",
       "               city      time        day  \n",
       "0  Saint-Petersburg  20:28:33  Wednesday  \n",
       "2  Saint-Petersburg  20:58:07  Wednesday  \n",
       "3  Saint-Petersburg  08:37:09     Monday  \n",
       "5  Saint-Petersburg  13:09:41     Friday  \n",
       "9  Saint-Petersburg  21:20:49  Wednesday  "
      ]
     },
     "execution_count": 29,
     "metadata": {},
     "output_type": "execute_result"
    }
   ],
   "source": [
    "spb_general = df[df['city']=='Saint-Petersburg']\n",
    "spb_general.head()#получение таблицы spb_general из тех строк таблицы df,\n",
    "#для которых значение в столбце 'city' равно 'Saint-Petersburg'\n"
   ]
  },
  {
   "cell_type": "markdown",
   "metadata": {
    "id": "MEJV-CX2_Zcu"
   },
   "source": [
    "Создайте функцию `genre_weekday()` с четырьмя параметрами:\n",
    "* таблица (датафрейм) с данными,\n",
    "* день недели,\n",
    "* начальная временная метка в формате 'hh:mm', \n",
    "* последняя временная метка в формате 'hh:mm'.\n",
    "\n",
    "Функция должна вернуть информацию о топ-10 жанров тех треков, которые прослушивали в указанный день, в промежутке между двумя отметками времени."
   ]
  },
  {
   "cell_type": "code",
   "execution_count": 30,
   "metadata": {
    "id": "laJT9BYl_Zcu"
   },
   "outputs": [],
   "source": [
    "# Объявление функции genre_weekday() с параметрами table, day, time1, time2,\n",
    "# которая возвращает информацию о самых популярных жанрах в указанный день в\n",
    "# заданное время:\n",
    "def genre_weekday (table, day, time1, time2):\n",
    "# 1) в переменную genre_df сохраняются те строки переданного датафрейма table, для\n",
    "#    которых одновременно:\n",
    "    genre_df = table[table['day']==day] #    - значение в столбце day равно значению аргумента day\n",
    "    genre_df = genre_df[genre_df['time']>time1] #    - значение в столбце time больше значения аргумента time1\n",
    "    genre_df = genre_df[genre_df['time']<time2] #    - значение в столбце time меньше значения аргумента time2\n",
    "    genre_df_count = genre_df.groupby('genre')['day'].count()\n",
    "    genre_df_sorted = genre_df_count.sort_values(ascending=False)\n",
    "    return genre_df_sorted.head(10)\n",
    "#    Используйте последовательную фильтрацию с помощью логической индексации.\n",
    "# 2) сгруппировать датафрейм genre_df по столбцу genre, взять один из его\n",
    "#    столбцов и посчитать методом count() количество записей для каждого из\n",
    "#    присутствующих жанров, получившийся Series записать в переменную\n",
    "#    genre_df_count\n",
    "   \n",
    "# 3) отсортировать genre_df_count по убыванию встречаемости и сохранить\n",
    "#    в переменную genre_df_sorted\n",
    "   \n",
    "# 4) вернуть Series из 10 первых значений genre_df_sorted, это будут топ-10\n",
    "#    популярных жанров (в указанный день, в заданное время)\n",
    "    "
   ]
  },
  {
   "cell_type": "markdown",
   "metadata": {
    "id": "la2s2_PF_Zcu"
   },
   "source": [
    "Cравните результаты функции `genre_weekday()` для Москвы и Санкт-Петербурга в понедельник утром (с 7:00 до 11:00) и в пятницу вечером (с 17:00 до 23:00):"
   ]
  },
  {
   "cell_type": "code",
   "execution_count": 31,
   "metadata": {
    "id": "yz7itPUQ_Zcu"
   },
   "outputs": [
    {
     "data": {
      "text/plain": [
       "genre\n",
       "pop            781\n",
       "dance          549\n",
       "electronic     480\n",
       "rock           474\n",
       "hiphop         286\n",
       "ruspop         186\n",
       "world          181\n",
       "rusrap         175\n",
       "alternative    164\n",
       "unknown        161\n",
       "Name: day, dtype: int64"
      ]
     },
     "execution_count": 31,
     "metadata": {},
     "output_type": "execute_result"
    }
   ],
   "source": [
    "genre_weekday(moscow_general, 'Monday', '07:00', '11:00')# вызов функции для утра понедельника в Москве (вместо df — таблица moscow_general)\n",
    "# объекты, хранящие время, являются строками и сравниваются как строки\n",
    "# пример вызова: genre_weekday(moscow_general, 'Monday', '07:00', '11:00')"
   ]
  },
  {
   "cell_type": "code",
   "execution_count": 32,
   "metadata": {
    "id": "kwUcHPdy_Zcu"
   },
   "outputs": [
    {
     "data": {
      "text/plain": [
       "genre\n",
       "pop            218\n",
       "dance          182\n",
       "rock           162\n",
       "electronic     147\n",
       "hiphop          80\n",
       "ruspop          64\n",
       "alternative     58\n",
       "rusrap          55\n",
       "jazz            44\n",
       "classical       40\n",
       "Name: day, dtype: int64"
      ]
     },
     "execution_count": 32,
     "metadata": {},
     "output_type": "execute_result"
    }
   ],
   "source": [
    "genre_weekday(spb_general, 'Monday', '07:00', '11:00')# вызов функции для утра понедельника в Петербурге (вместо df — таблица spb_general)"
   ]
  },
  {
   "cell_type": "code",
   "execution_count": 33,
   "metadata": {
    "id": "EzXVRE1o_Zcu"
   },
   "outputs": [
    {
     "data": {
      "text/plain": [
       "genre\n",
       "pop            713\n",
       "rock           517\n",
       "dance          495\n",
       "electronic     482\n",
       "hiphop         273\n",
       "world          208\n",
       "ruspop         170\n",
       "alternative    163\n",
       "classical      163\n",
       "rusrap         142\n",
       "Name: day, dtype: int64"
      ]
     },
     "execution_count": 33,
     "metadata": {},
     "output_type": "execute_result"
    }
   ],
   "source": [
    "genre_weekday(moscow_general, 'Friday', '17:00', '23:00')# вызов функции для вечера пятницы в Москве"
   ]
  },
  {
   "cell_type": "code",
   "execution_count": 34,
   "metadata": {
    "id": "JZaEKu5v_Zcu"
   },
   "outputs": [
    {
     "data": {
      "text/plain": [
       "genre\n",
       "pop            256\n",
       "electronic     216\n",
       "rock           216\n",
       "dance          210\n",
       "hiphop          97\n",
       "alternative     63\n",
       "jazz            61\n",
       "classical       60\n",
       "rusrap          59\n",
       "world           54\n",
       "Name: day, dtype: int64"
      ]
     },
     "execution_count": 34,
     "metadata": {},
     "output_type": "execute_result"
    }
   ],
   "source": [
    "genre_weekday(spb_general, 'Friday', '17:00', '23:00')# вызов функции для вечера пятницы в Петербурге"
   ]
  },
  {
   "cell_type": "markdown",
   "metadata": {
    "id": "wrCe4MNX_Zcu"
   },
   "source": [
    "### Выводы\n",
    "\n",
    "Если сравнить топ-10 жанров в понедельник утром, можно сделать такие выводы:\n",
    "\n",
    "1. В Москве и Петербурге слушают похожую музыку. Единственное отличие — в московский рейтинг вошёл жанр “world”, а в петербургский — джаз и классика.\n",
    "\n",
    "2. В Москве пропущенных значений оказалось так много, что значение `'unknown'` заняло десятое место среди самых популярных жанров. Значит, пропущенные значения занимают существенную долю в данных и угрожают достоверности исследования.\n",
    "\n",
    "Вечер пятницы не меняет эту картину. Некоторые жанры поднимаются немного выше, другие спускаются, но в целом топ-10 остаётся тем же самым.\n",
    "\n",
    "Таким образом, вторая гипотеза подтвердилась лишь частично:\n",
    "* Пользователи слушают похожую музыку в начале недели и в конце.\n",
    "* Разница между Москвой и Петербургом не слишком выражена. В Москве чаще слушают русскую популярную музыку, в Петербурге — джаз.\n",
    "\n",
    "Однако пропуски в данных ставят под сомнение этот результат. В Москве их так много, что рейтинг топ-10 мог бы выглядеть иначе, если бы не утерянные  данные о жанрах."
   ]
  },
  {
   "cell_type": "markdown",
   "metadata": {
    "id": "JolODAqr_Zcu"
   },
   "source": [
    "### Жанровые предпочтения в Москве и Петербурге\n",
    "\n",
    "Гипотеза: Петербург — столица рэпа, музыку этого жанра там слушают чаще, чем в Москве.  А Москва — город контрастов, в котором, тем не менее, преобладает поп-музыка."
   ]
  },
  {
   "cell_type": "markdown",
   "metadata": {
    "id": "DlegSvaT_Zcu"
   },
   "source": [
    "Сгруппируйте таблицу `moscow_general` по жанру и посчитайте прослушивания треков каждого жанра методом `count()`. Затем отсортируйте результат в порядке убывания и сохраните его в таблице `moscow_genres`."
   ]
  },
  {
   "cell_type": "code",
   "execution_count": 35,
   "metadata": {
    "id": "r19lIPke_Zcu"
   },
   "outputs": [],
   "source": [
    "moscow_genres = moscow_general.groupby('genre')['genre'].count().sort_values(ascending=False)\n",
    "# одной строкой: группировка таблицы moscow_general по столбцу 'genre', \n",
    "# подсчёт числа значений 'genre' в этой группировке методом count(), \n",
    "# сортировка получившегося Series в порядке убывания и сохранение в moscow_genres"
   ]
  },
  {
   "cell_type": "markdown",
   "metadata": {
    "id": "6kMuomxTiIr8"
   },
   "source": [
    "Выведите на экран первые десять строк `moscow_genres`:"
   ]
  },
  {
   "cell_type": "code",
   "execution_count": 36,
   "metadata": {
    "id": "WhCSooF8_Zcv"
   },
   "outputs": [
    {
     "data": {
      "text/plain": [
       "genre\n",
       "pop            5892\n",
       "dance          4435\n",
       "rock           3965\n",
       "electronic     3786\n",
       "hiphop         2096\n",
       "classical      1616\n",
       "world          1432\n",
       "alternative    1379\n",
       "ruspop         1372\n",
       "rusrap         1161\n",
       "Name: genre, dtype: int64"
      ]
     },
     "execution_count": 36,
     "metadata": {},
     "output_type": "execute_result"
    }
   ],
   "source": [
    "moscow_genres.head(10)#просмотр первых 10 строк moscow_genres"
   ]
  },
  {
   "cell_type": "markdown",
   "metadata": {
    "id": "cnPG2vnN_Zcv"
   },
   "source": [
    "Теперь повторите то же и для Петербурга.\n",
    "\n",
    "Сгруппируйте таблицу `spb_general` по жанру. Посчитайте прослушивания треков каждого жанра. Результат отсортируйте в порядке убывания и сохраните в таблице `spb_genres`:\n"
   ]
  },
  {
   "cell_type": "code",
   "execution_count": 37,
   "metadata": {
    "id": "gluLIpE7_Zcv"
   },
   "outputs": [],
   "source": [
    "spb_genres = spb_general.groupby('genre')['genre'].count().sort_values(ascending=False)# одной строкой: группировка таблицы spb_general по столбцу 'genre', \n",
    "# подсчёт числа значений 'genre' в этой группировке методом count(), \n",
    "# сортировка получившегося Series в порядке убывания и сохранение в spb_genres"
   ]
  },
  {
   "cell_type": "markdown",
   "metadata": {
    "id": "5Doha_ODgyQ8"
   },
   "source": [
    "Выведите на экран первые десять строк `spb_genres`:"
   ]
  },
  {
   "cell_type": "code",
   "execution_count": 38,
   "metadata": {
    "id": "uaGJHjVU_Zcv"
   },
   "outputs": [
    {
     "data": {
      "text/plain": [
       "genre\n",
       "pop            2431\n",
       "dance          1932\n",
       "rock           1879\n",
       "electronic     1736\n",
       "hiphop          960\n",
       "alternative     649\n",
       "classical       646\n",
       "rusrap          564\n",
       "ruspop          538\n",
       "world           515\n",
       "Name: genre, dtype: int64"
      ]
     },
     "execution_count": 38,
     "metadata": {},
     "output_type": "execute_result"
    }
   ],
   "source": [
    "spb_genres.head(10)#просмотр первых 10 строк spb_genres"
   ]
  },
  {
   "cell_type": "markdown",
   "metadata": {
    "id": "RY51YJYu_Zcv"
   },
   "source": [
    "### Выводы"
   ]
  },
  {
   "cell_type": "markdown",
   "metadata": {
    "id": "nVhnJEm__Zcv"
   },
   "source": [
    "Гипотеза частично подтвердилась:\n",
    "* Поп-музыка — самый популярный жанр в Москве, как и предполагала гипотеза. Более того, в топ-10 жанров встречается близкий жанр — русская популярная музыка.\n",
    "* Вопреки ожиданиям, рэп одинаково популярен в Москве и Петербурге. \n"
   ]
  },
  {
   "cell_type": "markdown",
   "metadata": {
    "id": "ykKQ0N65_Zcv"
   },
   "source": [
    "## Итоги исследования"
   ]
  },
  {
   "cell_type": "markdown",
   "metadata": {
    "id": "tjUwbHb3_Zcv"
   },
   "source": [
    "Вы проверили три гипотезы и установили:\n",
    "\n",
    "1. День недели по-разному влияет на активность пользователей в Москве и Петербурге. \n",
    "\n",
    "Первая гипотеза полностью подтвердилась.\n",
    "\n",
    "2. Музыкальные предпочтения не сильно меняются в течение недели — будь то Москва или Петербург. Небольшие различия заметны в начале недели, по понедельникам:\n",
    "* в Москве слушают музыку жанра “world”,\n",
    "* в Петербурге — джаз и классику.\n",
    "\n",
    "Таким образом, вторая гипотеза подтвердилась лишь отчасти. Этот результат мог оказаться иным, если бы не пропуски в данных.\n",
    "\n",
    "3. Во вкусах пользователей Москвы и Петербурга больше общего чем различий. Вопреки ожиданиям, предпочтения жанров в Петербурге напоминают московские.\n",
    "\n",
    "Третья гипотеза не подтвердилась. Если различия в предпочтениях и существуют, на основной массе пользователей они незаметны.\n",
    "\n",
    "**На практике исследования содержат проверки статистических гипотез.**\n",
    "Из данных одного сервиса не всегда можно сделать вывод о всех жителях города.\n",
    "Проверки статистических гипотез покажут, насколько они достоверны, исходя из имеющихся данных. \n",
    "С методами проверок гипотез вы ещё познакомитесь в следующих темах."
   ]
  }
 ],
 "metadata": {
  "ExecuteTimeLog": [
   {
    "duration": 663,
    "start_time": "2022-02-22T10:17:41.709Z"
   },
   {
    "duration": 103,
    "start_time": "2022-02-22T10:18:39.654Z"
   },
   {
    "duration": 130,
    "start_time": "2022-02-22T10:18:54.605Z"
   },
   {
    "duration": 137,
    "start_time": "2022-02-22T10:18:58.966Z"
   },
   {
    "duration": 135,
    "start_time": "2022-02-22T10:20:00.568Z"
   },
   {
    "duration": 15,
    "start_time": "2022-02-22T10:20:33.016Z"
   },
   {
    "duration": 9,
    "start_time": "2022-02-22T10:24:35.064Z"
   },
   {
    "duration": 8,
    "start_time": "2022-02-22T10:24:58.968Z"
   },
   {
    "duration": 5,
    "start_time": "2022-02-22T10:27:51.644Z"
   },
   {
    "duration": 18,
    "start_time": "2022-02-22T10:30:26.732Z"
   },
   {
    "duration": 4,
    "start_time": "2022-02-22T10:30:34.859Z"
   },
   {
    "duration": 17,
    "start_time": "2022-02-22T10:31:15.478Z"
   },
   {
    "duration": 4,
    "start_time": "2022-02-22T10:31:19.731Z"
   },
   {
    "duration": 21,
    "start_time": "2022-02-22T10:32:38.009Z"
   },
   {
    "duration": 100,
    "start_time": "2022-02-22T10:44:00.799Z"
   },
   {
    "duration": 109,
    "start_time": "2022-02-22T10:44:09.982Z"
   },
   {
    "duration": 364,
    "start_time": "2022-02-22T10:44:23.183Z"
   },
   {
    "duration": 8004,
    "start_time": "2022-02-22T10:45:54.937Z"
   },
   {
    "duration": 2735,
    "start_time": "2022-02-22T10:47:40.285Z"
   },
   {
    "duration": 2736,
    "start_time": "2022-02-22T10:47:53.031Z"
   },
   {
    "duration": 22,
    "start_time": "2022-02-22T10:48:14.885Z"
   },
   {
    "duration": 2738,
    "start_time": "2022-02-22T10:53:01.795Z"
   },
   {
    "duration": 37,
    "start_time": "2022-02-22T10:53:05.412Z"
   },
   {
    "duration": 8344,
    "start_time": "2022-02-22T10:53:50.580Z"
   },
   {
    "duration": 2734,
    "start_time": "2022-02-22T10:53:56.192Z"
   },
   {
    "duration": 16,
    "start_time": "2022-02-22T10:54:38.877Z"
   },
   {
    "duration": 14,
    "start_time": "2022-02-22T10:54:41.669Z"
   },
   {
    "duration": 20,
    "start_time": "2022-02-22T10:54:48.126Z"
   },
   {
    "duration": 48,
    "start_time": "2022-02-22T10:56:43.577Z"
   },
   {
    "duration": 54,
    "start_time": "2022-02-22T10:58:49.599Z"
   },
   {
    "duration": 47,
    "start_time": "2022-02-22T10:58:59.971Z"
   },
   {
    "duration": 7,
    "start_time": "2022-02-22T11:39:20.043Z"
   },
   {
    "duration": 2110,
    "start_time": "2022-02-22T11:40:36.296Z"
   },
   {
    "duration": 7,
    "start_time": "2022-02-22T11:43:49.650Z"
   },
   {
    "duration": 5,
    "start_time": "2022-02-22T11:46:29.630Z"
   },
   {
    "duration": 310,
    "start_time": "2022-02-22T11:46:59.142Z"
   },
   {
    "duration": 49,
    "start_time": "2022-02-22T11:47:57.457Z"
   },
   {
    "duration": 47,
    "start_time": "2022-02-22T11:48:20.664Z"
   },
   {
    "duration": 351,
    "start_time": "2022-02-22T11:48:35.937Z"
   },
   {
    "duration": 348,
    "start_time": "2022-02-22T11:48:46.128Z"
   },
   {
    "duration": 49,
    "start_time": "2022-02-22T11:48:50.609Z"
   },
   {
    "duration": 347,
    "start_time": "2022-02-22T11:49:24.516Z"
   },
   {
    "duration": 401,
    "start_time": "2022-02-22T11:49:35.901Z"
   },
   {
    "duration": 49,
    "start_time": "2022-02-22T11:49:51.076Z"
   },
   {
    "duration": 43,
    "start_time": "2022-02-22T11:50:58.407Z"
   },
   {
    "duration": 3,
    "start_time": "2022-02-22T11:57:18.276Z"
   },
   {
    "duration": 107,
    "start_time": "2022-02-22T11:58:33.264Z"
   },
   {
    "duration": 92,
    "start_time": "2022-02-22T11:59:24.209Z"
   },
   {
    "duration": 107,
    "start_time": "2022-02-22T11:59:42.175Z"
   },
   {
    "duration": 3,
    "start_time": "2022-02-22T12:30:15.699Z"
   },
   {
    "duration": 16,
    "start_time": "2022-02-22T12:30:52.964Z"
   },
   {
    "duration": 47,
    "start_time": "2022-02-22T12:31:11.212Z"
   },
   {
    "duration": 16,
    "start_time": "2022-02-22T12:31:40.325Z"
   },
   {
    "duration": 46,
    "start_time": "2022-02-22T12:31:42.900Z"
   },
   {
    "duration": 29,
    "start_time": "2022-02-22T12:36:37.949Z"
   },
   {
    "duration": 10,
    "start_time": "2022-02-22T12:38:03.389Z"
   },
   {
    "duration": 423,
    "start_time": "2022-02-22T13:18:14.309Z"
   },
   {
    "duration": 3,
    "start_time": "2022-02-22T13:20:38.495Z"
   },
   {
    "duration": 218,
    "start_time": "2022-02-22T19:33:11.240Z"
   },
   {
    "duration": 212,
    "start_time": "2022-02-22T19:33:30.314Z"
   },
   {
    "duration": 176,
    "start_time": "2022-02-22T19:34:04.832Z"
   },
   {
    "duration": 190,
    "start_time": "2022-02-22T19:34:29.228Z"
   },
   {
    "duration": 176,
    "start_time": "2022-02-22T19:35:04.008Z"
   },
   {
    "duration": 181,
    "start_time": "2022-02-22T19:36:21.120Z"
   },
   {
    "duration": 181,
    "start_time": "2022-02-22T19:36:23.503Z"
   },
   {
    "duration": 173,
    "start_time": "2022-02-22T19:36:32.071Z"
   },
   {
    "duration": 675,
    "start_time": "2022-02-22T19:39:19.886Z"
   },
   {
    "duration": 143,
    "start_time": "2022-02-22T19:39:23.296Z"
   },
   {
    "duration": 18,
    "start_time": "2022-02-22T19:39:25.687Z"
   },
   {
    "duration": 9,
    "start_time": "2022-02-22T19:39:29.454Z"
   },
   {
    "duration": 4,
    "start_time": "2022-02-22T19:39:33.930Z"
   },
   {
    "duration": 21,
    "start_time": "2022-02-22T19:39:37.804Z"
   },
   {
    "duration": 4,
    "start_time": "2022-02-22T19:39:41.084Z"
   },
   {
    "duration": 25,
    "start_time": "2022-02-22T19:39:45.781Z"
   },
   {
    "duration": 18,
    "start_time": "2022-02-22T19:39:48.529Z"
   },
   {
    "duration": 22,
    "start_time": "2022-02-22T19:39:51.524Z"
   },
   {
    "duration": 57,
    "start_time": "2022-02-22T19:39:54.382Z"
   },
   {
    "duration": 67,
    "start_time": "2022-02-22T19:39:57.220Z"
   },
   {
    "duration": 53,
    "start_time": "2022-02-22T19:39:59.439Z"
   },
   {
    "duration": 52,
    "start_time": "2022-02-22T19:40:03.677Z"
   },
   {
    "duration": 3,
    "start_time": "2022-02-22T19:40:08.773Z"
   },
   {
    "duration": 19,
    "start_time": "2022-02-22T19:40:11.131Z"
   },
   {
    "duration": 55,
    "start_time": "2022-02-22T19:40:16.406Z"
   },
   {
    "duration": 34,
    "start_time": "2022-02-22T19:40:20.939Z"
   },
   {
    "duration": 31,
    "start_time": "2022-02-22T19:40:23.743Z"
   },
   {
    "duration": 199,
    "start_time": "2022-02-22T19:41:55.289Z"
   },
   {
    "duration": 189,
    "start_time": "2022-02-22T19:42:10.742Z"
   },
   {
    "duration": 4,
    "start_time": "2022-02-22T19:42:16.367Z"
   },
   {
    "duration": 35,
    "start_time": "2022-02-22T19:45:24.730Z"
   },
   {
    "duration": 3,
    "start_time": "2022-02-22T19:54:07.266Z"
   },
   {
    "duration": 52,
    "start_time": "2022-02-22T19:54:55.169Z"
   },
   {
    "duration": 172,
    "start_time": "2022-02-22T19:55:15.472Z"
   },
   {
    "duration": 13,
    "start_time": "2022-02-22T19:55:28.643Z"
   },
   {
    "duration": 17,
    "start_time": "2022-02-22T19:56:37.711Z"
   },
   {
    "duration": 14,
    "start_time": "2022-02-22T19:58:14.308Z"
   },
   {
    "duration": 15,
    "start_time": "2022-02-22T19:58:16.844Z"
   },
   {
    "duration": 15,
    "start_time": "2022-02-22T19:58:20.962Z"
   },
   {
    "duration": 16,
    "start_time": "2022-02-22T19:58:23.998Z"
   },
   {
    "duration": 15,
    "start_time": "2022-02-22T19:58:26.771Z"
   },
   {
    "duration": 432,
    "start_time": "2022-02-22T20:04:25.649Z"
   },
   {
    "duration": 173,
    "start_time": "2022-02-22T20:05:00.700Z"
   },
   {
    "duration": 190,
    "start_time": "2022-02-22T20:05:09.400Z"
   },
   {
    "duration": 176,
    "start_time": "2022-02-22T20:05:14.309Z"
   },
   {
    "duration": 208,
    "start_time": "2022-02-22T20:05:29.818Z"
   },
   {
    "duration": 186,
    "start_time": "2022-02-22T20:05:39.039Z"
   },
   {
    "duration": 178,
    "start_time": "2022-02-22T20:06:07.376Z"
   },
   {
    "duration": 4,
    "start_time": "2022-02-22T20:07:03.553Z"
   },
   {
    "duration": 2252,
    "start_time": "2022-02-22T20:15:33.230Z"
   },
   {
    "duration": 9,
    "start_time": "2022-02-22T20:16:34.544Z"
   },
   {
    "duration": 3,
    "start_time": "2022-02-22T20:18:29.167Z"
   },
   {
    "duration": 171,
    "start_time": "2022-02-22T20:18:29.172Z"
   },
   {
    "duration": 11,
    "start_time": "2022-02-22T20:18:29.346Z"
   },
   {
    "duration": 11,
    "start_time": "2022-02-22T20:18:29.359Z"
   },
   {
    "duration": 7,
    "start_time": "2022-02-22T20:18:29.371Z"
   },
   {
    "duration": 41,
    "start_time": "2022-02-22T20:18:29.379Z"
   },
   {
    "duration": 9,
    "start_time": "2022-02-22T20:18:29.421Z"
   },
   {
    "duration": 25,
    "start_time": "2022-02-22T20:18:29.432Z"
   },
   {
    "duration": 29,
    "start_time": "2022-02-22T20:18:29.460Z"
   },
   {
    "duration": 41,
    "start_time": "2022-02-22T20:18:29.491Z"
   },
   {
    "duration": 60,
    "start_time": "2022-02-22T20:18:29.533Z"
   },
   {
    "duration": 87,
    "start_time": "2022-02-22T20:18:29.594Z"
   },
   {
    "duration": 61,
    "start_time": "2022-02-22T20:18:29.683Z"
   },
   {
    "duration": 51,
    "start_time": "2022-02-22T20:18:29.746Z"
   },
   {
    "duration": 2,
    "start_time": "2022-02-22T20:18:29.799Z"
   },
   {
    "duration": 35,
    "start_time": "2022-02-22T20:18:29.803Z"
   },
   {
    "duration": 54,
    "start_time": "2022-02-22T20:18:29.840Z"
   },
   {
    "duration": 50,
    "start_time": "2022-02-22T20:18:29.895Z"
   },
   {
    "duration": 32,
    "start_time": "2022-02-22T20:18:29.946Z"
   },
   {
    "duration": 3,
    "start_time": "2022-02-22T20:18:29.980Z"
   },
   {
    "duration": 38,
    "start_time": "2022-02-22T20:18:29.985Z"
   },
   {
    "duration": 15,
    "start_time": "2022-02-22T20:18:30.025Z"
   },
   {
    "duration": 16,
    "start_time": "2022-02-22T20:18:30.043Z"
   },
   {
    "duration": 13,
    "start_time": "2022-02-22T20:18:30.061Z"
   },
   {
    "duration": 45,
    "start_time": "2022-02-22T20:18:30.076Z"
   },
   {
    "duration": 15,
    "start_time": "2022-02-22T20:18:30.122Z"
   },
   {
    "duration": 9,
    "start_time": "2022-02-22T20:18:30.139Z"
   },
   {
    "duration": 2357,
    "start_time": "2022-02-22T20:18:30.150Z"
   },
   {
    "duration": 5,
    "start_time": "2022-02-22T20:18:32.504Z"
   },
   {
    "duration": -1,
    "start_time": "2022-02-22T20:18:32.511Z"
   },
   {
    "duration": -5,
    "start_time": "2022-02-22T20:18:32.516Z"
   },
   {
    "duration": -10,
    "start_time": "2022-02-22T20:18:32.522Z"
   },
   {
    "duration": -13,
    "start_time": "2022-02-22T20:18:32.526Z"
   },
   {
    "duration": -16,
    "start_time": "2022-02-22T20:18:32.530Z"
   },
   {
    "duration": -23,
    "start_time": "2022-02-22T20:18:32.538Z"
   },
   {
    "duration": -29,
    "start_time": "2022-02-22T20:18:32.545Z"
   },
   {
    "duration": -33,
    "start_time": "2022-02-22T20:18:32.551Z"
   },
   {
    "duration": -37,
    "start_time": "2022-02-22T20:18:32.556Z"
   },
   {
    "duration": 187,
    "start_time": "2022-02-22T20:23:08.424Z"
   },
   {
    "duration": 192,
    "start_time": "2022-02-22T20:23:21.301Z"
   },
   {
    "duration": 12,
    "start_time": "2022-02-22T20:26:16.857Z"
   },
   {
    "duration": 10,
    "start_time": "2022-02-22T20:27:23.904Z"
   },
   {
    "duration": 55,
    "start_time": "2022-02-22T20:36:25.375Z"
   },
   {
    "duration": 64,
    "start_time": "2022-02-22T20:36:48.550Z"
   },
   {
    "duration": 64,
    "start_time": "2022-02-22T20:36:59.570Z"
   },
   {
    "duration": 64,
    "start_time": "2022-02-22T20:37:25.544Z"
   },
   {
    "duration": 64,
    "start_time": "2022-02-22T20:37:54.303Z"
   },
   {
    "duration": 55,
    "start_time": "2022-02-22T20:37:57.510Z"
   },
   {
    "duration": 661,
    "start_time": "2022-02-23T05:36:00.169Z"
   },
   {
    "duration": 180,
    "start_time": "2022-02-23T05:36:00.832Z"
   },
   {
    "duration": 20,
    "start_time": "2022-02-23T05:36:01.015Z"
   },
   {
    "duration": 26,
    "start_time": "2022-02-23T05:36:01.037Z"
   },
   {
    "duration": 5,
    "start_time": "2022-02-23T05:36:01.070Z"
   },
   {
    "duration": 33,
    "start_time": "2022-02-23T05:36:01.077Z"
   },
   {
    "duration": 13,
    "start_time": "2022-02-23T05:36:01.112Z"
   },
   {
    "duration": 42,
    "start_time": "2022-02-23T05:36:01.128Z"
   },
   {
    "duration": 38,
    "start_time": "2022-02-23T05:36:01.172Z"
   },
   {
    "duration": 31,
    "start_time": "2022-02-23T05:36:01.212Z"
   },
   {
    "duration": 85,
    "start_time": "2022-02-23T05:36:01.245Z"
   },
   {
    "duration": 81,
    "start_time": "2022-02-23T05:36:01.332Z"
   },
   {
    "duration": 73,
    "start_time": "2022-02-23T05:36:01.415Z"
   },
   {
    "duration": 55,
    "start_time": "2022-02-23T05:36:01.490Z"
   },
   {
    "duration": 4,
    "start_time": "2022-02-23T05:36:01.547Z"
   },
   {
    "duration": 23,
    "start_time": "2022-02-23T05:36:01.570Z"
   },
   {
    "duration": 75,
    "start_time": "2022-02-23T05:36:01.596Z"
   },
   {
    "duration": 39,
    "start_time": "2022-02-23T05:36:01.673Z"
   },
   {
    "duration": 59,
    "start_time": "2022-02-23T05:36:01.714Z"
   },
   {
    "duration": 4,
    "start_time": "2022-02-23T05:36:01.774Z"
   },
   {
    "duration": 29,
    "start_time": "2022-02-23T05:36:01.780Z"
   },
   {
    "duration": 17,
    "start_time": "2022-02-23T05:36:01.811Z"
   },
   {
    "duration": 43,
    "start_time": "2022-02-23T05:36:01.832Z"
   },
   {
    "duration": 15,
    "start_time": "2022-02-23T05:36:01.878Z"
   },
   {
    "duration": 32,
    "start_time": "2022-02-23T05:36:01.896Z"
   },
   {
    "duration": 44,
    "start_time": "2022-02-23T05:36:01.930Z"
   },
   {
    "duration": 13,
    "start_time": "2022-02-23T05:36:01.976Z"
   },
   {
    "duration": 21,
    "start_time": "2022-02-23T05:36:01.991Z"
   },
   {
    "duration": 13,
    "start_time": "2022-02-23T05:36:02.014Z"
   },
   {
    "duration": 83,
    "start_time": "2022-02-23T05:36:02.029Z"
   },
   {
    "duration": 7,
    "start_time": "2022-02-23T05:36:02.108Z"
   },
   {
    "duration": 6,
    "start_time": "2022-02-23T05:36:02.111Z"
   },
   {
    "duration": 5,
    "start_time": "2022-02-23T05:36:02.113Z"
   },
   {
    "duration": 3,
    "start_time": "2022-02-23T05:36:02.117Z"
   },
   {
    "duration": 3,
    "start_time": "2022-02-23T05:36:02.119Z"
   },
   {
    "duration": 2,
    "start_time": "2022-02-23T05:36:02.121Z"
   },
   {
    "duration": 1,
    "start_time": "2022-02-23T05:36:02.124Z"
   },
   {
    "duration": 1,
    "start_time": "2022-02-23T05:36:02.126Z"
   },
   {
    "duration": 4,
    "start_time": "2022-02-23T05:36:29.374Z"
   },
   {
    "duration": 3,
    "start_time": "2022-02-23T05:50:48.079Z"
   },
   {
    "duration": 169,
    "start_time": "2022-02-23T05:50:48.085Z"
   },
   {
    "duration": 16,
    "start_time": "2022-02-23T05:50:48.257Z"
   },
   {
    "duration": 10,
    "start_time": "2022-02-23T05:50:48.275Z"
   },
   {
    "duration": 10,
    "start_time": "2022-02-23T05:50:48.287Z"
   },
   {
    "duration": 22,
    "start_time": "2022-02-23T05:50:48.298Z"
   },
   {
    "duration": 4,
    "start_time": "2022-02-23T05:50:48.322Z"
   },
   {
    "duration": 53,
    "start_time": "2022-02-23T05:50:48.328Z"
   },
   {
    "duration": 21,
    "start_time": "2022-02-23T05:50:48.383Z"
   },
   {
    "duration": 25,
    "start_time": "2022-02-23T05:50:48.406Z"
   },
   {
    "duration": 79,
    "start_time": "2022-02-23T05:50:48.433Z"
   },
   {
    "duration": 78,
    "start_time": "2022-02-23T05:50:48.514Z"
   },
   {
    "duration": 57,
    "start_time": "2022-02-23T05:50:48.594Z"
   },
   {
    "duration": 68,
    "start_time": "2022-02-23T05:50:48.653Z"
   },
   {
    "duration": 3,
    "start_time": "2022-02-23T05:50:48.723Z"
   },
   {
    "duration": 22,
    "start_time": "2022-02-23T05:50:48.728Z"
   },
   {
    "duration": 54,
    "start_time": "2022-02-23T05:50:48.770Z"
   },
   {
    "duration": 57,
    "start_time": "2022-02-23T05:50:48.826Z"
   },
   {
    "duration": 37,
    "start_time": "2022-02-23T05:50:48.886Z"
   },
   {
    "duration": 3,
    "start_time": "2022-02-23T05:50:48.926Z"
   },
   {
    "duration": 42,
    "start_time": "2022-02-23T05:50:48.931Z"
   },
   {
    "duration": 16,
    "start_time": "2022-02-23T05:50:48.974Z"
   },
   {
    "duration": 25,
    "start_time": "2022-02-23T05:50:48.992Z"
   },
   {
    "duration": 16,
    "start_time": "2022-02-23T05:50:49.018Z"
   },
   {
    "duration": 42,
    "start_time": "2022-02-23T05:50:49.036Z"
   },
   {
    "duration": 16,
    "start_time": "2022-02-23T05:50:49.079Z"
   },
   {
    "duration": 12,
    "start_time": "2022-02-23T05:50:49.096Z"
   },
   {
    "duration": 26,
    "start_time": "2022-02-23T05:50:49.110Z"
   },
   {
    "duration": 14,
    "start_time": "2022-02-23T05:50:49.138Z"
   },
   {
    "duration": 16,
    "start_time": "2022-02-23T05:50:49.154Z"
   },
   {
    "duration": 12,
    "start_time": "2022-02-23T05:50:49.172Z"
   },
   {
    "duration": 31,
    "start_time": "2022-02-23T05:50:49.186Z"
   },
   {
    "duration": 21,
    "start_time": "2022-02-23T05:50:49.218Z"
   },
   {
    "duration": 9,
    "start_time": "2022-02-23T05:50:49.241Z"
   },
   {
    "duration": 29,
    "start_time": "2022-02-23T05:50:49.251Z"
   },
   {
    "duration": 22,
    "start_time": "2022-02-23T05:50:49.281Z"
   },
   {
    "duration": 15,
    "start_time": "2022-02-23T05:50:49.305Z"
   },
   {
    "duration": 22,
    "start_time": "2022-02-23T05:50:49.321Z"
   },
   {
    "duration": 556,
    "start_time": "2022-02-23T05:53:17.103Z"
   },
   {
    "duration": 555,
    "start_time": "2022-02-23T05:58:56.615Z"
   },
   {
    "duration": 2,
    "start_time": "2022-02-23T07:55:21.660Z"
   },
   {
    "duration": 168,
    "start_time": "2022-02-23T07:55:21.664Z"
   },
   {
    "duration": 12,
    "start_time": "2022-02-23T07:55:21.835Z"
   },
   {
    "duration": 10,
    "start_time": "2022-02-23T07:55:21.870Z"
   },
   {
    "duration": 8,
    "start_time": "2022-02-23T07:55:21.882Z"
   },
   {
    "duration": 27,
    "start_time": "2022-02-23T07:55:21.892Z"
   },
   {
    "duration": 5,
    "start_time": "2022-02-23T07:55:21.922Z"
   },
   {
    "duration": 60,
    "start_time": "2022-02-23T07:55:21.930Z"
   },
   {
    "duration": 22,
    "start_time": "2022-02-23T07:55:21.993Z"
   },
   {
    "duration": 26,
    "start_time": "2022-02-23T07:55:22.017Z"
   },
   {
    "duration": 85,
    "start_time": "2022-02-23T07:55:22.045Z"
   },
   {
    "duration": 78,
    "start_time": "2022-02-23T07:55:22.132Z"
   },
   {
    "duration": 58,
    "start_time": "2022-02-23T07:55:22.212Z"
   },
   {
    "duration": 54,
    "start_time": "2022-02-23T07:55:22.272Z"
   },
   {
    "duration": 3,
    "start_time": "2022-02-23T07:55:22.328Z"
   },
   {
    "duration": 40,
    "start_time": "2022-02-23T07:55:22.333Z"
   },
   {
    "duration": 54,
    "start_time": "2022-02-23T07:55:22.375Z"
   },
   {
    "duration": 53,
    "start_time": "2022-02-23T07:55:22.431Z"
   },
   {
    "duration": 36,
    "start_time": "2022-02-23T07:55:22.487Z"
   },
   {
    "duration": 4,
    "start_time": "2022-02-23T07:55:22.525Z"
   },
   {
    "duration": 39,
    "start_time": "2022-02-23T07:55:22.530Z"
   },
   {
    "duration": 16,
    "start_time": "2022-02-23T07:55:22.571Z"
   },
   {
    "duration": 19,
    "start_time": "2022-02-23T07:55:22.589Z"
   },
   {
    "duration": 17,
    "start_time": "2022-02-23T07:55:22.610Z"
   },
   {
    "duration": 49,
    "start_time": "2022-02-23T07:55:22.629Z"
   },
   {
    "duration": 16,
    "start_time": "2022-02-23T07:55:22.679Z"
   },
   {
    "duration": 10,
    "start_time": "2022-02-23T07:55:22.697Z"
   },
   {
    "duration": 15,
    "start_time": "2022-02-23T07:55:22.709Z"
   },
   {
    "duration": 11,
    "start_time": "2022-02-23T07:55:22.726Z"
   },
   {
    "duration": 4,
    "start_time": "2022-02-23T07:55:22.769Z"
   },
   {
    "duration": 11,
    "start_time": "2022-02-23T07:55:22.775Z"
   },
   {
    "duration": 7,
    "start_time": "2022-02-23T07:55:22.788Z"
   },
   {
    "duration": 5,
    "start_time": "2022-02-23T07:55:22.797Z"
   },
   {
    "duration": 7,
    "start_time": "2022-02-23T07:55:22.804Z"
   },
   {
    "duration": 5,
    "start_time": "2022-02-23T07:55:22.813Z"
   },
   {
    "duration": 6,
    "start_time": "2022-02-23T07:55:22.820Z"
   },
   {
    "duration": 7,
    "start_time": "2022-02-23T07:55:22.828Z"
   },
   {
    "duration": 4,
    "start_time": "2022-02-23T07:55:22.837Z"
   },
   {
    "duration": 22,
    "start_time": "2022-02-23T07:56:16.827Z"
   },
   {
    "duration": 4,
    "start_time": "2022-02-23T07:57:53.023Z"
   },
   {
    "duration": 519,
    "start_time": "2022-02-23T07:58:43.859Z"
   },
   {
    "duration": 569,
    "start_time": "2022-02-23T08:01:11.926Z"
   },
   {
    "duration": 507,
    "start_time": "2022-02-23T08:01:48.836Z"
   },
   {
    "duration": 6,
    "start_time": "2022-02-23T08:01:57.622Z"
   },
   {
    "duration": 22,
    "start_time": "2022-02-23T08:02:02.555Z"
   },
   {
    "duration": 3,
    "start_time": "2022-02-23T08:02:15.038Z"
   },
   {
    "duration": 171,
    "start_time": "2022-02-23T08:02:15.044Z"
   },
   {
    "duration": 12,
    "start_time": "2022-02-23T08:02:15.217Z"
   },
   {
    "duration": 11,
    "start_time": "2022-02-23T08:02:15.231Z"
   },
   {
    "duration": 5,
    "start_time": "2022-02-23T08:02:15.269Z"
   },
   {
    "duration": 23,
    "start_time": "2022-02-23T08:02:15.277Z"
   },
   {
    "duration": 5,
    "start_time": "2022-02-23T08:02:15.302Z"
   },
   {
    "duration": 28,
    "start_time": "2022-02-23T08:02:15.310Z"
   },
   {
    "duration": 53,
    "start_time": "2022-02-23T08:02:15.341Z"
   },
   {
    "duration": 43,
    "start_time": "2022-02-23T08:02:15.397Z"
   },
   {
    "duration": 82,
    "start_time": "2022-02-23T08:02:15.442Z"
   },
   {
    "duration": 84,
    "start_time": "2022-02-23T08:02:15.526Z"
   },
   {
    "duration": 66,
    "start_time": "2022-02-23T08:02:15.612Z"
   },
   {
    "duration": 55,
    "start_time": "2022-02-23T08:02:15.680Z"
   },
   {
    "duration": 4,
    "start_time": "2022-02-23T08:02:15.737Z"
   },
   {
    "duration": 52,
    "start_time": "2022-02-23T08:02:15.742Z"
   },
   {
    "duration": 83,
    "start_time": "2022-02-23T08:02:15.796Z"
   },
   {
    "duration": 39,
    "start_time": "2022-02-23T08:02:15.881Z"
   },
   {
    "duration": 61,
    "start_time": "2022-02-23T08:02:15.922Z"
   },
   {
    "duration": 4,
    "start_time": "2022-02-23T08:02:15.985Z"
   },
   {
    "duration": 29,
    "start_time": "2022-02-23T08:02:15.991Z"
   },
   {
    "duration": 19,
    "start_time": "2022-02-23T08:02:16.022Z"
   },
   {
    "duration": 38,
    "start_time": "2022-02-23T08:02:16.045Z"
   },
   {
    "duration": 19,
    "start_time": "2022-02-23T08:02:16.086Z"
   },
   {
    "duration": 22,
    "start_time": "2022-02-23T08:02:16.107Z"
   },
   {
    "duration": 49,
    "start_time": "2022-02-23T08:02:16.131Z"
   },
   {
    "duration": 11,
    "start_time": "2022-02-23T08:02:16.182Z"
   },
   {
    "duration": 14,
    "start_time": "2022-02-23T08:02:16.195Z"
   },
   {
    "duration": 10,
    "start_time": "2022-02-23T08:02:16.211Z"
   },
   {
    "duration": 4,
    "start_time": "2022-02-23T08:02:16.223Z"
   },
   {
    "duration": 51,
    "start_time": "2022-02-23T08:02:16.229Z"
   },
   {
    "duration": 3,
    "start_time": "2022-02-23T08:02:16.282Z"
   },
   {
    "duration": 10,
    "start_time": "2022-02-23T08:02:16.287Z"
   },
   {
    "duration": 6,
    "start_time": "2022-02-23T08:02:16.299Z"
   },
   {
    "duration": 5,
    "start_time": "2022-02-23T08:02:16.307Z"
   },
   {
    "duration": 5,
    "start_time": "2022-02-23T08:02:16.314Z"
   },
   {
    "duration": 8,
    "start_time": "2022-02-23T08:02:16.321Z"
   },
   {
    "duration": 11,
    "start_time": "2022-02-23T08:02:16.332Z"
   },
   {
    "duration": 2,
    "start_time": "2022-02-23T08:03:27.699Z"
   },
   {
    "duration": 150,
    "start_time": "2022-02-23T08:03:27.703Z"
   },
   {
    "duration": 12,
    "start_time": "2022-02-23T08:03:27.870Z"
   },
   {
    "duration": 11,
    "start_time": "2022-02-23T08:03:27.884Z"
   },
   {
    "duration": 7,
    "start_time": "2022-02-23T08:03:27.897Z"
   },
   {
    "duration": 22,
    "start_time": "2022-02-23T08:03:27.906Z"
   },
   {
    "duration": 5,
    "start_time": "2022-02-23T08:03:27.930Z"
   },
   {
    "duration": 56,
    "start_time": "2022-02-23T08:03:27.937Z"
   },
   {
    "duration": 19,
    "start_time": "2022-02-23T08:03:27.995Z"
   },
   {
    "duration": 26,
    "start_time": "2022-02-23T08:03:28.016Z"
   },
   {
    "duration": 87,
    "start_time": "2022-02-23T08:03:28.045Z"
   },
   {
    "duration": 93,
    "start_time": "2022-02-23T08:03:28.134Z"
   },
   {
    "duration": 67,
    "start_time": "2022-02-23T08:03:28.229Z"
   },
   {
    "duration": 55,
    "start_time": "2022-02-23T08:03:28.298Z"
   },
   {
    "duration": 16,
    "start_time": "2022-02-23T08:03:28.355Z"
   },
   {
    "duration": 24,
    "start_time": "2022-02-23T08:03:28.373Z"
   },
   {
    "duration": 76,
    "start_time": "2022-02-23T08:03:28.398Z"
   },
   {
    "duration": 50,
    "start_time": "2022-02-23T08:03:28.476Z"
   },
   {
    "duration": 52,
    "start_time": "2022-02-23T08:03:28.530Z"
   },
   {
    "duration": 3,
    "start_time": "2022-02-23T08:03:28.584Z"
   },
   {
    "duration": 27,
    "start_time": "2022-02-23T08:03:28.589Z"
   },
   {
    "duration": 16,
    "start_time": "2022-02-23T08:03:28.617Z"
   },
   {
    "duration": 35,
    "start_time": "2022-02-23T08:03:28.635Z"
   },
   {
    "duration": 15,
    "start_time": "2022-02-23T08:03:28.672Z"
   },
   {
    "duration": 18,
    "start_time": "2022-02-23T08:03:28.689Z"
   },
   {
    "duration": 15,
    "start_time": "2022-02-23T08:03:28.709Z"
   },
   {
    "duration": 45,
    "start_time": "2022-02-23T08:03:28.726Z"
   },
   {
    "duration": 15,
    "start_time": "2022-02-23T08:03:28.773Z"
   },
   {
    "duration": 10,
    "start_time": "2022-02-23T08:03:28.790Z"
   },
   {
    "duration": 7,
    "start_time": "2022-02-23T08:03:28.802Z"
   },
   {
    "duration": 22,
    "start_time": "2022-02-23T08:03:28.811Z"
   },
   {
    "duration": 2,
    "start_time": "2022-02-23T08:03:28.835Z"
   },
   {
    "duration": 4,
    "start_time": "2022-02-23T08:03:28.868Z"
   },
   {
    "duration": 11,
    "start_time": "2022-02-23T08:03:28.874Z"
   },
   {
    "duration": 4,
    "start_time": "2022-02-23T08:03:28.887Z"
   },
   {
    "duration": 7,
    "start_time": "2022-02-23T08:03:28.893Z"
   },
   {
    "duration": 5,
    "start_time": "2022-02-23T08:03:28.902Z"
   },
   {
    "duration": 6,
    "start_time": "2022-02-23T08:03:28.909Z"
   },
   {
    "duration": 3,
    "start_time": "2022-02-23T08:04:09.074Z"
   },
   {
    "duration": 3,
    "start_time": "2022-02-23T08:04:28.426Z"
   },
   {
    "duration": 174,
    "start_time": "2022-02-23T08:04:28.434Z"
   },
   {
    "duration": 11,
    "start_time": "2022-02-23T08:04:28.610Z"
   },
   {
    "duration": 15,
    "start_time": "2022-02-23T08:04:28.623Z"
   },
   {
    "duration": 30,
    "start_time": "2022-02-23T08:04:28.640Z"
   },
   {
    "duration": 12,
    "start_time": "2022-02-23T08:04:28.672Z"
   },
   {
    "duration": 4,
    "start_time": "2022-02-23T08:04:28.686Z"
   },
   {
    "duration": 29,
    "start_time": "2022-02-23T08:04:28.692Z"
   },
   {
    "duration": 19,
    "start_time": "2022-02-23T08:04:28.723Z"
   },
   {
    "duration": 47,
    "start_time": "2022-02-23T08:04:28.745Z"
   },
   {
    "duration": 77,
    "start_time": "2022-02-23T08:04:28.795Z"
   },
   {
    "duration": 72,
    "start_time": "2022-02-23T08:04:28.873Z"
   },
   {
    "duration": 69,
    "start_time": "2022-02-23T08:04:28.947Z"
   },
   {
    "duration": 64,
    "start_time": "2022-02-23T08:04:29.018Z"
   },
   {
    "duration": 3,
    "start_time": "2022-02-23T08:04:29.084Z"
   },
   {
    "duration": 23,
    "start_time": "2022-02-23T08:04:29.089Z"
   },
   {
    "duration": 77,
    "start_time": "2022-02-23T08:04:29.115Z"
   },
   {
    "duration": 37,
    "start_time": "2022-02-23T08:04:29.193Z"
   },
   {
    "duration": 54,
    "start_time": "2022-02-23T08:04:29.232Z"
   },
   {
    "duration": 4,
    "start_time": "2022-02-23T08:04:29.288Z"
   },
   {
    "duration": 24,
    "start_time": "2022-02-23T08:04:29.293Z"
   },
   {
    "duration": 15,
    "start_time": "2022-02-23T08:04:29.319Z"
   },
   {
    "duration": 41,
    "start_time": "2022-02-23T08:04:29.336Z"
   },
   {
    "duration": 21,
    "start_time": "2022-02-23T08:04:29.379Z"
   },
   {
    "duration": 20,
    "start_time": "2022-02-23T08:04:29.402Z"
   },
   {
    "duration": 16,
    "start_time": "2022-02-23T08:04:29.424Z"
   },
   {
    "duration": 32,
    "start_time": "2022-02-23T08:04:29.442Z"
   },
   {
    "duration": 14,
    "start_time": "2022-02-23T08:04:29.478Z"
   },
   {
    "duration": 10,
    "start_time": "2022-02-23T08:04:29.495Z"
   },
   {
    "duration": 4,
    "start_time": "2022-02-23T08:04:29.508Z"
   },
   {
    "duration": 26,
    "start_time": "2022-02-23T08:04:29.514Z"
   },
   {
    "duration": 27,
    "start_time": "2022-02-23T08:04:29.542Z"
   },
   {
    "duration": 6,
    "start_time": "2022-02-23T08:04:29.572Z"
   },
   {
    "duration": 6,
    "start_time": "2022-02-23T08:04:29.580Z"
   },
   {
    "duration": 7,
    "start_time": "2022-02-23T08:04:29.588Z"
   },
   {
    "duration": 8,
    "start_time": "2022-02-23T08:04:29.598Z"
   },
   {
    "duration": 7,
    "start_time": "2022-02-23T08:04:29.607Z"
   },
   {
    "duration": 8,
    "start_time": "2022-02-23T08:04:29.616Z"
   },
   {
    "duration": 2,
    "start_time": "2022-02-23T08:04:44.369Z"
   },
   {
    "duration": 3,
    "start_time": "2022-02-23T08:04:55.422Z"
   },
   {
    "duration": 163,
    "start_time": "2022-02-23T08:04:55.429Z"
   },
   {
    "duration": 11,
    "start_time": "2022-02-23T08:04:55.594Z"
   },
   {
    "duration": 12,
    "start_time": "2022-02-23T08:04:55.608Z"
   },
   {
    "duration": 7,
    "start_time": "2022-02-23T08:04:55.622Z"
   },
   {
    "duration": 43,
    "start_time": "2022-02-23T08:04:55.631Z"
   },
   {
    "duration": 5,
    "start_time": "2022-02-23T08:04:55.676Z"
   },
   {
    "duration": 28,
    "start_time": "2022-02-23T08:04:55.683Z"
   },
   {
    "duration": 19,
    "start_time": "2022-02-23T08:04:55.714Z"
   },
   {
    "duration": 45,
    "start_time": "2022-02-23T08:04:55.736Z"
   },
   {
    "duration": 62,
    "start_time": "2022-02-23T08:04:55.783Z"
   },
   {
    "duration": 86,
    "start_time": "2022-02-23T08:04:55.847Z"
   },
   {
    "duration": 69,
    "start_time": "2022-02-23T08:04:55.935Z"
   },
   {
    "duration": 64,
    "start_time": "2022-02-23T08:04:56.006Z"
   },
   {
    "duration": 3,
    "start_time": "2022-02-23T08:04:56.072Z"
   },
   {
    "duration": 38,
    "start_time": "2022-02-23T08:04:56.077Z"
   },
   {
    "duration": 68,
    "start_time": "2022-02-23T08:04:56.117Z"
   },
   {
    "duration": 34,
    "start_time": "2022-02-23T08:04:56.186Z"
   },
   {
    "duration": 49,
    "start_time": "2022-02-23T08:04:56.221Z"
   },
   {
    "duration": 4,
    "start_time": "2022-02-23T08:04:56.273Z"
   },
   {
    "duration": 21,
    "start_time": "2022-02-23T08:04:56.279Z"
   },
   {
    "duration": 16,
    "start_time": "2022-02-23T08:04:56.303Z"
   },
   {
    "duration": 19,
    "start_time": "2022-02-23T08:04:56.321Z"
   },
   {
    "duration": 16,
    "start_time": "2022-02-23T08:04:56.371Z"
   },
   {
    "duration": 19,
    "start_time": "2022-02-23T08:04:56.389Z"
   },
   {
    "duration": 17,
    "start_time": "2022-02-23T08:04:56.409Z"
   },
   {
    "duration": 10,
    "start_time": "2022-02-23T08:04:56.428Z"
   },
   {
    "duration": 42,
    "start_time": "2022-02-23T08:04:56.440Z"
   },
   {
    "duration": 11,
    "start_time": "2022-02-23T08:04:56.484Z"
   },
   {
    "duration": 5,
    "start_time": "2022-02-23T08:04:56.497Z"
   },
   {
    "duration": 22,
    "start_time": "2022-02-23T08:04:56.503Z"
   },
   {
    "duration": 3,
    "start_time": "2022-02-23T08:04:56.527Z"
   },
   {
    "duration": 5,
    "start_time": "2022-02-23T08:04:56.532Z"
   },
   {
    "duration": 32,
    "start_time": "2022-02-23T08:04:56.538Z"
   },
   {
    "duration": 4,
    "start_time": "2022-02-23T08:04:56.573Z"
   },
   {
    "duration": 6,
    "start_time": "2022-02-23T08:04:56.579Z"
   },
   {
    "duration": 6,
    "start_time": "2022-02-23T08:04:56.587Z"
   },
   {
    "duration": 5,
    "start_time": "2022-02-23T08:04:56.595Z"
   },
   {
    "duration": 22,
    "start_time": "2022-02-23T08:05:39.351Z"
   },
   {
    "duration": 17,
    "start_time": "2022-02-23T08:06:00.696Z"
   },
   {
    "duration": 22,
    "start_time": "2022-02-23T08:07:37.098Z"
   },
   {
    "duration": 14,
    "start_time": "2022-02-23T08:09:05.253Z"
   },
   {
    "duration": 20,
    "start_time": "2022-02-23T08:10:30.467Z"
   },
   {
    "duration": 15,
    "start_time": "2022-02-23T08:11:18.508Z"
   },
   {
    "duration": 35,
    "start_time": "2022-02-23T08:14:13.608Z"
   },
   {
    "duration": 76,
    "start_time": "2022-02-23T08:16:59.927Z"
   },
   {
    "duration": 87,
    "start_time": "2022-02-23T08:17:09.773Z"
   },
   {
    "duration": 2001,
    "start_time": "2022-02-23T08:19:16.113Z"
   },
   {
    "duration": 10,
    "start_time": "2022-02-23T08:19:57.352Z"
   },
   {
    "duration": 5,
    "start_time": "2022-02-23T08:20:14.977Z"
   },
   {
    "duration": 7,
    "start_time": "2022-02-23T08:20:46.106Z"
   },
   {
    "duration": 6,
    "start_time": "2022-02-23T08:21:04.000Z"
   },
   {
    "duration": 23,
    "start_time": "2022-02-23T08:33:31.953Z"
   },
   {
    "duration": 3,
    "start_time": "2022-02-23T08:34:03.050Z"
   },
   {
    "duration": 179,
    "start_time": "2022-02-23T08:34:03.055Z"
   },
   {
    "duration": 11,
    "start_time": "2022-02-23T08:34:03.236Z"
   },
   {
    "duration": 27,
    "start_time": "2022-02-23T08:34:03.250Z"
   },
   {
    "duration": 10,
    "start_time": "2022-02-23T08:34:03.279Z"
   },
   {
    "duration": 16,
    "start_time": "2022-02-23T08:34:03.291Z"
   },
   {
    "duration": 5,
    "start_time": "2022-02-23T08:34:03.309Z"
   },
   {
    "duration": 60,
    "start_time": "2022-02-23T08:34:03.318Z"
   },
   {
    "duration": 22,
    "start_time": "2022-02-23T08:34:03.381Z"
   },
   {
    "duration": 25,
    "start_time": "2022-02-23T08:34:03.405Z"
   },
   {
    "duration": 86,
    "start_time": "2022-02-23T08:34:03.432Z"
   },
   {
    "duration": 79,
    "start_time": "2022-02-23T08:34:03.520Z"
   },
   {
    "duration": 58,
    "start_time": "2022-02-23T08:34:03.600Z"
   },
   {
    "duration": 56,
    "start_time": "2022-02-23T08:34:03.670Z"
   },
   {
    "duration": 3,
    "start_time": "2022-02-23T08:34:03.728Z"
   },
   {
    "duration": 41,
    "start_time": "2022-02-23T08:34:03.732Z"
   },
   {
    "duration": 54,
    "start_time": "2022-02-23T08:34:03.774Z"
   },
   {
    "duration": 53,
    "start_time": "2022-02-23T08:34:03.830Z"
   },
   {
    "duration": 35,
    "start_time": "2022-02-23T08:34:03.885Z"
   },
   {
    "duration": 3,
    "start_time": "2022-02-23T08:34:03.923Z"
   },
   {
    "duration": 25,
    "start_time": "2022-02-23T08:34:03.928Z"
   },
   {
    "duration": 17,
    "start_time": "2022-02-23T08:34:03.970Z"
   },
   {
    "duration": 29,
    "start_time": "2022-02-23T08:34:03.991Z"
   },
   {
    "duration": 20,
    "start_time": "2022-02-23T08:34:04.022Z"
   },
   {
    "duration": 34,
    "start_time": "2022-02-23T08:34:04.044Z"
   },
   {
    "duration": 16,
    "start_time": "2022-02-23T08:34:04.080Z"
   },
   {
    "duration": 10,
    "start_time": "2022-02-23T08:34:04.098Z"
   },
   {
    "duration": 25,
    "start_time": "2022-02-23T08:34:04.110Z"
   },
   {
    "duration": 40,
    "start_time": "2022-02-23T08:34:04.137Z"
   },
   {
    "duration": 5,
    "start_time": "2022-02-23T08:34:04.179Z"
   },
   {
    "duration": 42,
    "start_time": "2022-02-23T08:34:04.185Z"
   },
   {
    "duration": 15,
    "start_time": "2022-02-23T08:34:04.229Z"
   },
   {
    "duration": 34,
    "start_time": "2022-02-23T08:34:04.246Z"
   },
   {
    "duration": 15,
    "start_time": "2022-02-23T08:34:04.281Z"
   },
   {
    "duration": 10,
    "start_time": "2022-02-23T08:34:04.298Z"
   },
   {
    "duration": 7,
    "start_time": "2022-02-23T08:34:04.310Z"
   },
   {
    "duration": 23,
    "start_time": "2022-02-23T08:34:04.318Z"
   },
   {
    "duration": 27,
    "start_time": "2022-02-23T08:34:04.343Z"
   },
   {
    "duration": 3,
    "start_time": "2022-02-23T08:46:26.861Z"
   },
   {
    "duration": 153,
    "start_time": "2022-02-23T08:46:26.869Z"
   },
   {
    "duration": 11,
    "start_time": "2022-02-23T08:46:27.024Z"
   },
   {
    "duration": 37,
    "start_time": "2022-02-23T08:46:27.038Z"
   },
   {
    "duration": 3,
    "start_time": "2022-02-23T08:46:27.077Z"
   },
   {
    "duration": 20,
    "start_time": "2022-02-23T08:46:27.082Z"
   },
   {
    "duration": 5,
    "start_time": "2022-02-23T08:46:27.104Z"
   },
   {
    "duration": 27,
    "start_time": "2022-02-23T08:46:27.111Z"
   },
   {
    "duration": 45,
    "start_time": "2022-02-23T08:46:27.141Z"
   },
   {
    "duration": 25,
    "start_time": "2022-02-23T08:46:27.188Z"
   },
   {
    "duration": 81,
    "start_time": "2022-02-23T08:46:27.215Z"
   },
   {
    "duration": 76,
    "start_time": "2022-02-23T08:46:27.298Z"
   },
   {
    "duration": 53,
    "start_time": "2022-02-23T08:46:27.376Z"
   },
   {
    "duration": 70,
    "start_time": "2022-02-23T08:46:27.431Z"
   },
   {
    "duration": 3,
    "start_time": "2022-02-23T08:46:27.502Z"
   },
   {
    "duration": 27,
    "start_time": "2022-02-23T08:46:27.507Z"
   },
   {
    "duration": 75,
    "start_time": "2022-02-23T08:46:27.536Z"
   },
   {
    "duration": 34,
    "start_time": "2022-02-23T08:46:27.613Z"
   },
   {
    "duration": 52,
    "start_time": "2022-02-23T08:46:27.650Z"
   },
   {
    "duration": 4,
    "start_time": "2022-02-23T08:46:27.704Z"
   },
   {
    "duration": 24,
    "start_time": "2022-02-23T08:46:27.709Z"
   },
   {
    "duration": 37,
    "start_time": "2022-02-23T08:46:27.735Z"
   },
   {
    "duration": 18,
    "start_time": "2022-02-23T08:46:27.774Z"
   },
   {
    "duration": 16,
    "start_time": "2022-02-23T08:46:27.797Z"
   },
   {
    "duration": 17,
    "start_time": "2022-02-23T08:46:27.815Z"
   },
   {
    "duration": 45,
    "start_time": "2022-02-23T08:46:27.833Z"
   },
   {
    "duration": 9,
    "start_time": "2022-02-23T08:46:27.880Z"
   },
   {
    "duration": 21,
    "start_time": "2022-02-23T08:46:27.891Z"
   },
   {
    "duration": 17,
    "start_time": "2022-02-23T08:46:27.914Z"
   },
   {
    "duration": 36,
    "start_time": "2022-02-23T08:46:27.933Z"
   },
   {
    "duration": 27,
    "start_time": "2022-02-23T08:46:27.971Z"
   },
   {
    "duration": 14,
    "start_time": "2022-02-23T08:46:28.000Z"
   },
   {
    "duration": 18,
    "start_time": "2022-02-23T08:46:28.016Z"
   },
   {
    "duration": 40,
    "start_time": "2022-02-23T08:46:28.036Z"
   },
   {
    "duration": 8,
    "start_time": "2022-02-23T08:46:28.078Z"
   },
   {
    "duration": 18,
    "start_time": "2022-02-23T08:46:28.088Z"
   },
   {
    "duration": 16,
    "start_time": "2022-02-23T08:46:28.108Z"
   },
   {
    "duration": 10,
    "start_time": "2022-02-23T08:46:28.126Z"
   },
   {
    "duration": 631,
    "start_time": "2022-03-05T12:16:00.174Z"
   },
   {
    "duration": 139,
    "start_time": "2022-03-05T12:16:00.807Z"
   },
   {
    "duration": 22,
    "start_time": "2022-03-05T12:16:00.948Z"
   },
   {
    "duration": 13,
    "start_time": "2022-03-05T12:16:00.972Z"
   },
   {
    "duration": 21,
    "start_time": "2022-03-05T12:16:00.987Z"
   },
   {
    "duration": 40,
    "start_time": "2022-03-05T12:16:01.009Z"
   },
   {
    "duration": 12,
    "start_time": "2022-03-05T12:16:01.051Z"
   },
   {
    "duration": 26,
    "start_time": "2022-03-05T12:16:01.066Z"
   },
   {
    "duration": 21,
    "start_time": "2022-03-05T12:16:01.094Z"
   },
   {
    "duration": 31,
    "start_time": "2022-03-05T12:16:01.116Z"
   },
   {
    "duration": 67,
    "start_time": "2022-03-05T12:16:01.149Z"
   },
   {
    "duration": 79,
    "start_time": "2022-03-05T12:16:01.218Z"
   },
   {
    "duration": 61,
    "start_time": "2022-03-05T12:16:01.299Z"
   },
   {
    "duration": 51,
    "start_time": "2022-03-05T12:16:01.362Z"
   },
   {
    "duration": 4,
    "start_time": "2022-03-05T12:16:01.415Z"
   },
   {
    "duration": 39,
    "start_time": "2022-03-05T12:16:01.421Z"
   },
   {
    "duration": 56,
    "start_time": "2022-03-05T12:16:01.462Z"
   },
   {
    "duration": 53,
    "start_time": "2022-03-05T12:16:01.520Z"
   },
   {
    "duration": 32,
    "start_time": "2022-03-05T12:16:01.575Z"
   },
   {
    "duration": 4,
    "start_time": "2022-03-05T12:16:01.610Z"
   },
   {
    "duration": 27,
    "start_time": "2022-03-05T12:16:01.616Z"
   },
   {
    "duration": 28,
    "start_time": "2022-03-05T12:16:01.645Z"
   },
   {
    "duration": 24,
    "start_time": "2022-03-05T12:16:01.676Z"
   },
   {
    "duration": 15,
    "start_time": "2022-03-05T12:16:01.703Z"
   },
   {
    "duration": 43,
    "start_time": "2022-03-05T12:16:01.720Z"
   },
   {
    "duration": 15,
    "start_time": "2022-03-05T12:16:01.765Z"
   },
   {
    "duration": 16,
    "start_time": "2022-03-05T12:16:01.782Z"
   },
   {
    "duration": 39,
    "start_time": "2022-03-05T12:16:01.800Z"
   },
   {
    "duration": 27,
    "start_time": "2022-03-05T12:16:01.840Z"
   },
   {
    "duration": 4,
    "start_time": "2022-03-05T12:16:01.869Z"
   },
   {
    "duration": 32,
    "start_time": "2022-03-05T12:16:01.875Z"
   },
   {
    "duration": 12,
    "start_time": "2022-03-05T12:16:01.908Z"
   },
   {
    "duration": 43,
    "start_time": "2022-03-05T12:16:01.921Z"
   },
   {
    "duration": 11,
    "start_time": "2022-03-05T12:16:01.966Z"
   },
   {
    "duration": 8,
    "start_time": "2022-03-05T12:16:01.979Z"
   },
   {
    "duration": 5,
    "start_time": "2022-03-05T12:16:01.989Z"
   },
   {
    "duration": 7,
    "start_time": "2022-03-05T12:16:01.996Z"
   },
   {
    "duration": 6,
    "start_time": "2022-03-05T12:16:02.005Z"
   },
   {
    "duration": 537,
    "start_time": "2022-03-05T12:34:23.219Z"
   },
   {
    "duration": 136,
    "start_time": "2022-03-05T12:34:23.758Z"
   },
   {
    "duration": 17,
    "start_time": "2022-03-05T12:34:23.896Z"
   },
   {
    "duration": 9,
    "start_time": "2022-03-05T12:34:23.915Z"
   },
   {
    "duration": 6,
    "start_time": "2022-03-05T12:34:23.925Z"
   },
   {
    "duration": 44,
    "start_time": "2022-03-05T12:34:23.932Z"
   },
   {
    "duration": 7,
    "start_time": "2022-03-05T12:34:23.977Z"
   },
   {
    "duration": 26,
    "start_time": "2022-03-05T12:34:23.986Z"
   },
   {
    "duration": 19,
    "start_time": "2022-03-05T12:34:24.014Z"
   },
   {
    "duration": 44,
    "start_time": "2022-03-05T12:34:24.035Z"
   },
   {
    "duration": 79,
    "start_time": "2022-03-05T12:34:24.081Z"
   },
   {
    "duration": 66,
    "start_time": "2022-03-05T12:34:24.162Z"
   },
   {
    "duration": 64,
    "start_time": "2022-03-05T12:34:24.230Z"
   },
   {
    "duration": 49,
    "start_time": "2022-03-05T12:34:24.295Z"
   },
   {
    "duration": 14,
    "start_time": "2022-03-05T12:34:24.345Z"
   },
   {
    "duration": 22,
    "start_time": "2022-03-05T12:34:24.361Z"
   },
   {
    "duration": 52,
    "start_time": "2022-03-05T12:34:24.385Z"
   },
   {
    "duration": 29,
    "start_time": "2022-03-05T12:34:24.438Z"
   },
   {
    "duration": 11,
    "start_time": "2022-03-05T12:34:24.469Z"
   },
   {
    "duration": 3,
    "start_time": "2022-03-05T12:34:24.482Z"
   },
   {
    "duration": 21,
    "start_time": "2022-03-05T12:34:24.487Z"
   },
   {
    "duration": 15,
    "start_time": "2022-03-05T12:34:24.509Z"
   },
   {
    "duration": 44,
    "start_time": "2022-03-05T12:34:24.528Z"
   },
   {
    "duration": 14,
    "start_time": "2022-03-05T12:34:24.574Z"
   },
   {
    "duration": 16,
    "start_time": "2022-03-05T12:34:24.590Z"
   },
   {
    "duration": 15,
    "start_time": "2022-03-05T12:34:24.607Z"
   },
   {
    "duration": 42,
    "start_time": "2022-03-05T12:34:24.624Z"
   },
   {
    "duration": 19,
    "start_time": "2022-03-05T12:34:24.668Z"
   },
   {
    "duration": 16,
    "start_time": "2022-03-05T12:34:24.689Z"
   },
   {
    "duration": 3,
    "start_time": "2022-03-05T12:34:24.707Z"
   },
   {
    "duration": 48,
    "start_time": "2022-03-05T12:34:24.712Z"
   },
   {
    "duration": 13,
    "start_time": "2022-03-05T12:34:24.762Z"
   },
   {
    "duration": 20,
    "start_time": "2022-03-05T12:34:24.777Z"
   },
   {
    "duration": 18,
    "start_time": "2022-03-05T12:34:24.799Z"
   },
   {
    "duration": 8,
    "start_time": "2022-03-05T12:34:24.818Z"
   },
   {
    "duration": 5,
    "start_time": "2022-03-05T12:34:24.828Z"
   },
   {
    "duration": 6,
    "start_time": "2022-03-05T12:34:24.860Z"
   },
   {
    "duration": 5,
    "start_time": "2022-03-05T12:34:24.868Z"
   },
   {
    "duration": 363,
    "start_time": "2022-03-09T08:41:34.656Z"
   },
   {
    "duration": 713,
    "start_time": "2022-03-09T08:41:42.008Z"
   },
   {
    "duration": 182,
    "start_time": "2022-03-09T08:41:42.723Z"
   },
   {
    "duration": 24,
    "start_time": "2022-03-09T08:41:42.909Z"
   },
   {
    "duration": 45,
    "start_time": "2022-03-09T08:41:42.936Z"
   },
   {
    "duration": 6,
    "start_time": "2022-03-09T08:41:42.984Z"
   },
   {
    "duration": 23,
    "start_time": "2022-03-09T08:41:42.992Z"
   },
   {
    "duration": 39,
    "start_time": "2022-03-09T08:41:43.017Z"
   },
   {
    "duration": 29,
    "start_time": "2022-03-09T08:41:43.058Z"
   },
   {
    "duration": 20,
    "start_time": "2022-03-09T08:41:43.092Z"
   },
   {
    "duration": 65,
    "start_time": "2022-03-09T08:41:43.115Z"
   },
   {
    "duration": 100,
    "start_time": "2022-03-09T08:41:43.182Z"
   },
   {
    "duration": 99,
    "start_time": "2022-03-09T08:41:43.285Z"
   },
   {
    "duration": 79,
    "start_time": "2022-03-09T08:41:43.386Z"
   },
   {
    "duration": 69,
    "start_time": "2022-03-09T08:41:43.467Z"
   },
   {
    "duration": 4,
    "start_time": "2022-03-09T08:41:43.551Z"
   },
   {
    "duration": 32,
    "start_time": "2022-03-09T08:41:43.558Z"
   },
   {
    "duration": 91,
    "start_time": "2022-03-09T08:41:43.593Z"
   },
   {
    "duration": 14,
    "start_time": "2022-03-09T08:41:43.686Z"
   },
   {
    "duration": 14,
    "start_time": "2022-03-09T08:41:43.703Z"
   },
   {
    "duration": 32,
    "start_time": "2022-03-09T08:41:43.719Z"
   },
   {
    "duration": 20,
    "start_time": "2022-03-09T08:41:43.753Z"
   },
   {
    "duration": 18,
    "start_time": "2022-03-09T08:41:43.776Z"
   },
   {
    "duration": 19,
    "start_time": "2022-03-09T08:41:43.797Z"
   },
   {
    "duration": 27,
    "start_time": "2022-03-09T08:41:43.852Z"
   },
   {
    "duration": 29,
    "start_time": "2022-03-09T08:41:43.882Z"
   },
   {
    "duration": 51,
    "start_time": "2022-03-09T08:41:43.914Z"
   },
   {
    "duration": 18,
    "start_time": "2022-03-09T08:41:43.973Z"
   },
   {
    "duration": 57,
    "start_time": "2022-03-09T08:41:43.994Z"
   },
   {
    "duration": 22,
    "start_time": "2022-03-09T08:41:44.053Z"
   },
   {
    "duration": 5,
    "start_time": "2022-03-09T08:41:44.077Z"
   },
   {
    "duration": 29,
    "start_time": "2022-03-09T08:41:44.084Z"
   },
   {
    "duration": 49,
    "start_time": "2022-03-09T08:41:44.115Z"
   },
   {
    "duration": 20,
    "start_time": "2022-03-09T08:41:44.166Z"
   },
   {
    "duration": 15,
    "start_time": "2022-03-09T08:41:44.188Z"
   },
   {
    "duration": 52,
    "start_time": "2022-03-09T08:41:44.205Z"
   },
   {
    "duration": 7,
    "start_time": "2022-03-09T08:41:44.260Z"
   },
   {
    "duration": 14,
    "start_time": "2022-03-09T08:41:44.270Z"
   },
   {
    "duration": 12,
    "start_time": "2022-03-09T08:41:44.287Z"
   },
   {
    "duration": 44,
    "start_time": "2022-10-12T11:59:01.753Z"
   },
   {
    "duration": 396,
    "start_time": "2022-10-12T11:59:10.422Z"
   },
   {
    "duration": 224,
    "start_time": "2022-10-12T11:59:10.822Z"
   },
   {
    "duration": 18,
    "start_time": "2022-10-12T11:59:11.048Z"
   },
   {
    "duration": 38,
    "start_time": "2022-10-12T11:59:11.068Z"
   },
   {
    "duration": 4,
    "start_time": "2022-10-12T11:59:11.108Z"
   },
   {
    "duration": 12,
    "start_time": "2022-10-12T11:59:11.113Z"
   },
   {
    "duration": 7,
    "start_time": "2022-10-12T11:59:11.127Z"
   },
   {
    "duration": 24,
    "start_time": "2022-10-12T11:59:11.136Z"
   },
   {
    "duration": 28,
    "start_time": "2022-10-12T11:59:11.161Z"
   },
   {
    "duration": 21,
    "start_time": "2022-10-12T11:59:11.190Z"
   },
   {
    "duration": 65,
    "start_time": "2022-10-12T11:59:11.213Z"
   },
   {
    "duration": 77,
    "start_time": "2022-10-12T11:59:11.280Z"
   },
   {
    "duration": 52,
    "start_time": "2022-10-12T11:59:11.358Z"
   },
   {
    "duration": 36,
    "start_time": "2022-10-12T11:59:11.424Z"
   },
   {
    "duration": 2,
    "start_time": "2022-10-12T11:59:11.462Z"
   },
   {
    "duration": 28,
    "start_time": "2022-10-12T11:59:11.466Z"
   },
   {
    "duration": 59,
    "start_time": "2022-10-12T11:59:11.496Z"
   },
   {
    "duration": 12,
    "start_time": "2022-10-12T11:59:11.556Z"
   },
   {
    "duration": 19,
    "start_time": "2022-10-12T11:59:11.570Z"
   },
   {
    "duration": 14,
    "start_time": "2022-10-12T11:59:11.591Z"
   },
   {
    "duration": 45,
    "start_time": "2022-10-12T11:59:11.606Z"
   },
   {
    "duration": 66,
    "start_time": "2022-10-12T11:59:11.653Z"
   },
   {
    "duration": 22,
    "start_time": "2022-10-12T11:59:11.720Z"
   },
   {
    "duration": 14,
    "start_time": "2022-10-12T11:59:11.744Z"
   },
   {
    "duration": 16,
    "start_time": "2022-10-12T11:59:11.760Z"
   },
   {
    "duration": 13,
    "start_time": "2022-10-12T11:59:11.778Z"
   },
   {
    "duration": 13,
    "start_time": "2022-10-12T11:59:11.792Z"
   },
   {
    "duration": 28,
    "start_time": "2022-10-12T11:59:11.806Z"
   },
   {
    "duration": 15,
    "start_time": "2022-10-12T11:59:11.835Z"
   },
   {
    "duration": 4,
    "start_time": "2022-10-12T11:59:11.851Z"
   },
   {
    "duration": 22,
    "start_time": "2022-10-12T11:59:11.856Z"
   },
   {
    "duration": 11,
    "start_time": "2022-10-12T11:59:11.880Z"
   },
   {
    "duration": 42,
    "start_time": "2022-10-12T11:59:11.892Z"
   },
   {
    "duration": 11,
    "start_time": "2022-10-12T11:59:11.935Z"
   },
   {
    "duration": 8,
    "start_time": "2022-10-12T11:59:11.948Z"
   },
   {
    "duration": 4,
    "start_time": "2022-10-12T11:59:11.958Z"
   },
   {
    "duration": 9,
    "start_time": "2022-10-12T11:59:11.964Z"
   },
   {
    "duration": 5,
    "start_time": "2022-10-12T11:59:11.975Z"
   },
   {
    "duration": 349,
    "start_time": "2022-10-12T12:04:22.569Z"
   },
   {
    "duration": 160,
    "start_time": "2022-10-12T12:04:22.920Z"
   },
   {
    "duration": 20,
    "start_time": "2022-10-12T12:04:23.083Z"
   },
   {
    "duration": 35,
    "start_time": "2022-10-12T12:04:23.105Z"
   },
   {
    "duration": 3,
    "start_time": "2022-10-12T12:04:23.142Z"
   },
   {
    "duration": 16,
    "start_time": "2022-10-12T12:04:23.147Z"
   },
   {
    "duration": 6,
    "start_time": "2022-10-12T12:04:23.165Z"
   },
   {
    "duration": 24,
    "start_time": "2022-10-12T12:04:23.173Z"
   },
   {
    "duration": 32,
    "start_time": "2022-10-12T12:04:23.198Z"
   },
   {
    "duration": 26,
    "start_time": "2022-10-12T12:04:23.232Z"
   },
   {
    "duration": 72,
    "start_time": "2022-10-12T12:04:23.260Z"
   },
   {
    "duration": 68,
    "start_time": "2022-10-12T12:04:23.334Z"
   },
   {
    "duration": 66,
    "start_time": "2022-10-12T12:04:23.404Z"
   },
   {
    "duration": 40,
    "start_time": "2022-10-12T12:04:23.471Z"
   },
   {
    "duration": 3,
    "start_time": "2022-10-12T12:04:23.522Z"
   },
   {
    "duration": 32,
    "start_time": "2022-10-12T12:04:23.526Z"
   },
   {
    "duration": 43,
    "start_time": "2022-10-12T12:04:23.559Z"
   },
   {
    "duration": 15,
    "start_time": "2022-10-12T12:04:23.604Z"
   },
   {
    "duration": 29,
    "start_time": "2022-10-12T12:04:23.621Z"
   },
   {
    "duration": 18,
    "start_time": "2022-10-12T12:04:23.652Z"
   },
   {
    "duration": 48,
    "start_time": "2022-10-12T12:04:23.671Z"
   },
   {
    "duration": 19,
    "start_time": "2022-10-12T12:04:23.721Z"
   },
   {
    "duration": 44,
    "start_time": "2022-10-12T12:04:23.741Z"
   },
   {
    "duration": 29,
    "start_time": "2022-10-12T12:04:23.786Z"
   },
   {
    "duration": 34,
    "start_time": "2022-10-12T12:04:23.817Z"
   },
   {
    "duration": 23,
    "start_time": "2022-10-12T12:04:23.853Z"
   },
   {
    "duration": 14,
    "start_time": "2022-10-12T12:04:23.878Z"
   },
   {
    "duration": 31,
    "start_time": "2022-10-12T12:04:23.895Z"
   },
   {
    "duration": 23,
    "start_time": "2022-10-12T12:04:23.928Z"
   },
   {
    "duration": 15,
    "start_time": "2022-10-12T12:04:23.952Z"
   },
   {
    "duration": 45,
    "start_time": "2022-10-12T12:04:23.968Z"
   },
   {
    "duration": 32,
    "start_time": "2022-10-12T12:04:24.014Z"
   },
   {
    "duration": 23,
    "start_time": "2022-10-12T12:04:24.047Z"
   },
   {
    "duration": 12,
    "start_time": "2022-10-12T12:04:24.072Z"
   },
   {
    "duration": 17,
    "start_time": "2022-10-12T12:04:24.086Z"
   },
   {
    "duration": 24,
    "start_time": "2022-10-12T12:04:24.104Z"
   },
   {
    "duration": 10,
    "start_time": "2022-10-12T12:04:24.130Z"
   },
   {
    "duration": 18,
    "start_time": "2022-10-12T12:04:24.141Z"
   }
  ],
  "colab": {
   "collapsed_sections": [
    "E0vqbgi9ay0H",
    "VUC88oWjTJw2"
   ],
   "name": "yandex_music_project_2021.2.ipynb",
   "provenance": []
  },
  "kernelspec": {
   "display_name": "Python 3 (ipykernel)",
   "language": "python",
   "name": "python3"
  },
  "language_info": {
   "codemirror_mode": {
    "name": "ipython",
    "version": 3
   },
   "file_extension": ".py",
   "mimetype": "text/x-python",
   "name": "python",
   "nbconvert_exporter": "python",
   "pygments_lexer": "ipython3",
   "version": "3.9.5"
  },
  "toc": {
   "base_numbering": 1,
   "nav_menu": {},
   "number_sections": true,
   "sideBar": true,
   "skip_h1_title": true,
   "title_cell": "Table of Contents",
   "title_sidebar": "Contents",
   "toc_cell": false,
   "toc_position": {},
   "toc_section_display": true,
   "toc_window_display": false
  }
 },
 "nbformat": 4,
 "nbformat_minor": 1
}
