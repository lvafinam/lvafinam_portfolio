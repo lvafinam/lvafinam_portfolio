{
 "cells": [
  {
   "cell_type": "markdown",
   "id": "7e6a5f7a",
   "metadata": {},
   "source": [
    "# Исследование надежности заемщиков."
   ]
  },
  {
   "cell_type": "markdown",
   "id": "80c78e67",
   "metadata": {},
   "source": [
    "Описание проекта\n",
    "\n",
    "Заказчик — кредитный отдел банка. Входные данные от банка — статистика о платёжеспособности клиентов.\n",
    "\n",
    "Цель исследования — проверить, влияет ли семейное положение и количество детей клиента на факт погашения кредита в срок.\n",
    "Результаты исследования будут учтены при построении модели кредитного скоринга — специальной системы, которая оценивает способность потенциального заёмщика вернуть кредит банку.\n",
    "\n",
    "Ход исследования:"
   ]
  },
  {
   "cell_type": "markdown",
   "id": "d89fbbbc",
   "metadata": {},
   "source": [
    "### Шаг 1. Обзор данных"
   ]
  },
  {
   "cell_type": "markdown",
   "id": "a16fddef",
   "metadata": {},
   "source": [
    "Составление первого представления о данных."
   ]
  },
  {
   "cell_type": "code",
   "execution_count": 1,
   "id": "c3fd5cae",
   "metadata": {},
   "outputs": [],
   "source": [
    "import pandas as pd #импортируем библиотеку pandas"
   ]
  },
  {
   "cell_type": "code",
   "execution_count": 2,
   "id": "52f3a1c7",
   "metadata": {},
   "outputs": [
    {
     "data": {
      "text/html": [
       "<div>\n",
       "<style scoped>\n",
       "    .dataframe tbody tr th:only-of-type {\n",
       "        vertical-align: middle;\n",
       "    }\n",
       "\n",
       "    .dataframe tbody tr th {\n",
       "        vertical-align: top;\n",
       "    }\n",
       "\n",
       "    .dataframe thead th {\n",
       "        text-align: right;\n",
       "    }\n",
       "</style>\n",
       "<table border=\"1\" class=\"dataframe\">\n",
       "  <thead>\n",
       "    <tr style=\"text-align: right;\">\n",
       "      <th></th>\n",
       "      <th>children</th>\n",
       "      <th>days_employed</th>\n",
       "      <th>dob_years</th>\n",
       "      <th>education</th>\n",
       "      <th>education_id</th>\n",
       "      <th>family_status</th>\n",
       "      <th>family_status_id</th>\n",
       "      <th>gender</th>\n",
       "      <th>income_type</th>\n",
       "      <th>debt</th>\n",
       "      <th>total_income</th>\n",
       "      <th>purpose</th>\n",
       "    </tr>\n",
       "  </thead>\n",
       "  <tbody>\n",
       "    <tr>\n",
       "      <th>0</th>\n",
       "      <td>1</td>\n",
       "      <td>-8437.673028</td>\n",
       "      <td>42</td>\n",
       "      <td>высшее</td>\n",
       "      <td>0</td>\n",
       "      <td>женат / замужем</td>\n",
       "      <td>0</td>\n",
       "      <td>F</td>\n",
       "      <td>сотрудник</td>\n",
       "      <td>0</td>\n",
       "      <td>253875.639453</td>\n",
       "      <td>покупка жилья</td>\n",
       "    </tr>\n",
       "    <tr>\n",
       "      <th>1</th>\n",
       "      <td>1</td>\n",
       "      <td>-4024.803754</td>\n",
       "      <td>36</td>\n",
       "      <td>среднее</td>\n",
       "      <td>1</td>\n",
       "      <td>женат / замужем</td>\n",
       "      <td>0</td>\n",
       "      <td>F</td>\n",
       "      <td>сотрудник</td>\n",
       "      <td>0</td>\n",
       "      <td>112080.014102</td>\n",
       "      <td>приобретение автомобиля</td>\n",
       "    </tr>\n",
       "    <tr>\n",
       "      <th>2</th>\n",
       "      <td>0</td>\n",
       "      <td>-5623.422610</td>\n",
       "      <td>33</td>\n",
       "      <td>Среднее</td>\n",
       "      <td>1</td>\n",
       "      <td>женат / замужем</td>\n",
       "      <td>0</td>\n",
       "      <td>M</td>\n",
       "      <td>сотрудник</td>\n",
       "      <td>0</td>\n",
       "      <td>145885.952297</td>\n",
       "      <td>покупка жилья</td>\n",
       "    </tr>\n",
       "    <tr>\n",
       "      <th>3</th>\n",
       "      <td>3</td>\n",
       "      <td>-4124.747207</td>\n",
       "      <td>32</td>\n",
       "      <td>среднее</td>\n",
       "      <td>1</td>\n",
       "      <td>женат / замужем</td>\n",
       "      <td>0</td>\n",
       "      <td>M</td>\n",
       "      <td>сотрудник</td>\n",
       "      <td>0</td>\n",
       "      <td>267628.550329</td>\n",
       "      <td>дополнительное образование</td>\n",
       "    </tr>\n",
       "    <tr>\n",
       "      <th>4</th>\n",
       "      <td>0</td>\n",
       "      <td>340266.072047</td>\n",
       "      <td>53</td>\n",
       "      <td>среднее</td>\n",
       "      <td>1</td>\n",
       "      <td>гражданский брак</td>\n",
       "      <td>1</td>\n",
       "      <td>F</td>\n",
       "      <td>пенсионер</td>\n",
       "      <td>0</td>\n",
       "      <td>158616.077870</td>\n",
       "      <td>сыграть свадьбу</td>\n",
       "    </tr>\n",
       "    <tr>\n",
       "      <th>5</th>\n",
       "      <td>0</td>\n",
       "      <td>-926.185831</td>\n",
       "      <td>27</td>\n",
       "      <td>высшее</td>\n",
       "      <td>0</td>\n",
       "      <td>гражданский брак</td>\n",
       "      <td>1</td>\n",
       "      <td>M</td>\n",
       "      <td>компаньон</td>\n",
       "      <td>0</td>\n",
       "      <td>255763.565419</td>\n",
       "      <td>покупка жилья</td>\n",
       "    </tr>\n",
       "    <tr>\n",
       "      <th>6</th>\n",
       "      <td>0</td>\n",
       "      <td>-2879.202052</td>\n",
       "      <td>43</td>\n",
       "      <td>высшее</td>\n",
       "      <td>0</td>\n",
       "      <td>женат / замужем</td>\n",
       "      <td>0</td>\n",
       "      <td>F</td>\n",
       "      <td>компаньон</td>\n",
       "      <td>0</td>\n",
       "      <td>240525.971920</td>\n",
       "      <td>операции с жильем</td>\n",
       "    </tr>\n",
       "    <tr>\n",
       "      <th>7</th>\n",
       "      <td>0</td>\n",
       "      <td>-152.779569</td>\n",
       "      <td>50</td>\n",
       "      <td>СРЕДНЕЕ</td>\n",
       "      <td>1</td>\n",
       "      <td>женат / замужем</td>\n",
       "      <td>0</td>\n",
       "      <td>M</td>\n",
       "      <td>сотрудник</td>\n",
       "      <td>0</td>\n",
       "      <td>135823.934197</td>\n",
       "      <td>образование</td>\n",
       "    </tr>\n",
       "    <tr>\n",
       "      <th>8</th>\n",
       "      <td>2</td>\n",
       "      <td>-6929.865299</td>\n",
       "      <td>35</td>\n",
       "      <td>ВЫСШЕЕ</td>\n",
       "      <td>0</td>\n",
       "      <td>гражданский брак</td>\n",
       "      <td>1</td>\n",
       "      <td>F</td>\n",
       "      <td>сотрудник</td>\n",
       "      <td>0</td>\n",
       "      <td>95856.832424</td>\n",
       "      <td>на проведение свадьбы</td>\n",
       "    </tr>\n",
       "    <tr>\n",
       "      <th>9</th>\n",
       "      <td>0</td>\n",
       "      <td>-2188.756445</td>\n",
       "      <td>41</td>\n",
       "      <td>среднее</td>\n",
       "      <td>1</td>\n",
       "      <td>женат / замужем</td>\n",
       "      <td>0</td>\n",
       "      <td>M</td>\n",
       "      <td>сотрудник</td>\n",
       "      <td>0</td>\n",
       "      <td>144425.938277</td>\n",
       "      <td>покупка жилья для семьи</td>\n",
       "    </tr>\n",
       "    <tr>\n",
       "      <th>10</th>\n",
       "      <td>2</td>\n",
       "      <td>-4171.483647</td>\n",
       "      <td>36</td>\n",
       "      <td>высшее</td>\n",
       "      <td>0</td>\n",
       "      <td>женат / замужем</td>\n",
       "      <td>0</td>\n",
       "      <td>M</td>\n",
       "      <td>компаньон</td>\n",
       "      <td>0</td>\n",
       "      <td>113943.491460</td>\n",
       "      <td>покупка недвижимости</td>\n",
       "    </tr>\n",
       "    <tr>\n",
       "      <th>11</th>\n",
       "      <td>0</td>\n",
       "      <td>-792.701887</td>\n",
       "      <td>40</td>\n",
       "      <td>среднее</td>\n",
       "      <td>1</td>\n",
       "      <td>женат / замужем</td>\n",
       "      <td>0</td>\n",
       "      <td>F</td>\n",
       "      <td>сотрудник</td>\n",
       "      <td>0</td>\n",
       "      <td>77069.234271</td>\n",
       "      <td>покупка коммерческой недвижимости</td>\n",
       "    </tr>\n",
       "    <tr>\n",
       "      <th>12</th>\n",
       "      <td>0</td>\n",
       "      <td>NaN</td>\n",
       "      <td>65</td>\n",
       "      <td>среднее</td>\n",
       "      <td>1</td>\n",
       "      <td>гражданский брак</td>\n",
       "      <td>1</td>\n",
       "      <td>M</td>\n",
       "      <td>пенсионер</td>\n",
       "      <td>0</td>\n",
       "      <td>NaN</td>\n",
       "      <td>сыграть свадьбу</td>\n",
       "    </tr>\n",
       "    <tr>\n",
       "      <th>13</th>\n",
       "      <td>0</td>\n",
       "      <td>-1846.641941</td>\n",
       "      <td>54</td>\n",
       "      <td>неоконченное высшее</td>\n",
       "      <td>2</td>\n",
       "      <td>женат / замужем</td>\n",
       "      <td>0</td>\n",
       "      <td>F</td>\n",
       "      <td>сотрудник</td>\n",
       "      <td>0</td>\n",
       "      <td>130458.228857</td>\n",
       "      <td>приобретение автомобиля</td>\n",
       "    </tr>\n",
       "    <tr>\n",
       "      <th>14</th>\n",
       "      <td>0</td>\n",
       "      <td>-1844.956182</td>\n",
       "      <td>56</td>\n",
       "      <td>высшее</td>\n",
       "      <td>0</td>\n",
       "      <td>гражданский брак</td>\n",
       "      <td>1</td>\n",
       "      <td>F</td>\n",
       "      <td>компаньон</td>\n",
       "      <td>1</td>\n",
       "      <td>165127.911772</td>\n",
       "      <td>покупка жилой недвижимости</td>\n",
       "    </tr>\n",
       "    <tr>\n",
       "      <th>15</th>\n",
       "      <td>1</td>\n",
       "      <td>-972.364419</td>\n",
       "      <td>26</td>\n",
       "      <td>среднее</td>\n",
       "      <td>1</td>\n",
       "      <td>женат / замужем</td>\n",
       "      <td>0</td>\n",
       "      <td>F</td>\n",
       "      <td>сотрудник</td>\n",
       "      <td>0</td>\n",
       "      <td>116820.904450</td>\n",
       "      <td>строительство собственной недвижимости</td>\n",
       "    </tr>\n",
       "    <tr>\n",
       "      <th>16</th>\n",
       "      <td>0</td>\n",
       "      <td>-1719.934226</td>\n",
       "      <td>35</td>\n",
       "      <td>среднее</td>\n",
       "      <td>1</td>\n",
       "      <td>женат / замужем</td>\n",
       "      <td>0</td>\n",
       "      <td>F</td>\n",
       "      <td>сотрудник</td>\n",
       "      <td>0</td>\n",
       "      <td>289202.704229</td>\n",
       "      <td>недвижимость</td>\n",
       "    </tr>\n",
       "    <tr>\n",
       "      <th>17</th>\n",
       "      <td>0</td>\n",
       "      <td>-2369.999720</td>\n",
       "      <td>33</td>\n",
       "      <td>высшее</td>\n",
       "      <td>0</td>\n",
       "      <td>гражданский брак</td>\n",
       "      <td>1</td>\n",
       "      <td>M</td>\n",
       "      <td>сотрудник</td>\n",
       "      <td>0</td>\n",
       "      <td>90410.586745</td>\n",
       "      <td>строительство недвижимости</td>\n",
       "    </tr>\n",
       "    <tr>\n",
       "      <th>18</th>\n",
       "      <td>0</td>\n",
       "      <td>400281.136913</td>\n",
       "      <td>53</td>\n",
       "      <td>среднее</td>\n",
       "      <td>1</td>\n",
       "      <td>вдовец / вдова</td>\n",
       "      <td>2</td>\n",
       "      <td>F</td>\n",
       "      <td>пенсионер</td>\n",
       "      <td>0</td>\n",
       "      <td>56823.777243</td>\n",
       "      <td>на покупку подержанного автомобиля</td>\n",
       "    </tr>\n",
       "    <tr>\n",
       "      <th>19</th>\n",
       "      <td>0</td>\n",
       "      <td>-10038.818549</td>\n",
       "      <td>48</td>\n",
       "      <td>СРЕДНЕЕ</td>\n",
       "      <td>1</td>\n",
       "      <td>в разводе</td>\n",
       "      <td>3</td>\n",
       "      <td>F</td>\n",
       "      <td>сотрудник</td>\n",
       "      <td>0</td>\n",
       "      <td>242831.107982</td>\n",
       "      <td>на покупку своего автомобиля</td>\n",
       "    </tr>\n",
       "  </tbody>\n",
       "</table>\n",
       "</div>"
      ],
      "text/plain": [
       "    children  days_employed  dob_years            education  education_id  \\\n",
       "0          1   -8437.673028         42               высшее             0   \n",
       "1          1   -4024.803754         36              среднее             1   \n",
       "2          0   -5623.422610         33              Среднее             1   \n",
       "3          3   -4124.747207         32              среднее             1   \n",
       "4          0  340266.072047         53              среднее             1   \n",
       "5          0    -926.185831         27               высшее             0   \n",
       "6          0   -2879.202052         43               высшее             0   \n",
       "7          0    -152.779569         50              СРЕДНЕЕ             1   \n",
       "8          2   -6929.865299         35               ВЫСШЕЕ             0   \n",
       "9          0   -2188.756445         41              среднее             1   \n",
       "10         2   -4171.483647         36               высшее             0   \n",
       "11         0    -792.701887         40              среднее             1   \n",
       "12         0            NaN         65              среднее             1   \n",
       "13         0   -1846.641941         54  неоконченное высшее             2   \n",
       "14         0   -1844.956182         56               высшее             0   \n",
       "15         1    -972.364419         26              среднее             1   \n",
       "16         0   -1719.934226         35              среднее             1   \n",
       "17         0   -2369.999720         33               высшее             0   \n",
       "18         0  400281.136913         53              среднее             1   \n",
       "19         0  -10038.818549         48              СРЕДНЕЕ             1   \n",
       "\n",
       "       family_status  family_status_id gender income_type  debt  \\\n",
       "0    женат / замужем                 0      F   сотрудник     0   \n",
       "1    женат / замужем                 0      F   сотрудник     0   \n",
       "2    женат / замужем                 0      M   сотрудник     0   \n",
       "3    женат / замужем                 0      M   сотрудник     0   \n",
       "4   гражданский брак                 1      F   пенсионер     0   \n",
       "5   гражданский брак                 1      M   компаньон     0   \n",
       "6    женат / замужем                 0      F   компаньон     0   \n",
       "7    женат / замужем                 0      M   сотрудник     0   \n",
       "8   гражданский брак                 1      F   сотрудник     0   \n",
       "9    женат / замужем                 0      M   сотрудник     0   \n",
       "10   женат / замужем                 0      M   компаньон     0   \n",
       "11   женат / замужем                 0      F   сотрудник     0   \n",
       "12  гражданский брак                 1      M   пенсионер     0   \n",
       "13   женат / замужем                 0      F   сотрудник     0   \n",
       "14  гражданский брак                 1      F   компаньон     1   \n",
       "15   женат / замужем                 0      F   сотрудник     0   \n",
       "16   женат / замужем                 0      F   сотрудник     0   \n",
       "17  гражданский брак                 1      M   сотрудник     0   \n",
       "18    вдовец / вдова                 2      F   пенсионер     0   \n",
       "19         в разводе                 3      F   сотрудник     0   \n",
       "\n",
       "     total_income                                 purpose  \n",
       "0   253875.639453                           покупка жилья  \n",
       "1   112080.014102                 приобретение автомобиля  \n",
       "2   145885.952297                           покупка жилья  \n",
       "3   267628.550329              дополнительное образование  \n",
       "4   158616.077870                         сыграть свадьбу  \n",
       "5   255763.565419                           покупка жилья  \n",
       "6   240525.971920                       операции с жильем  \n",
       "7   135823.934197                             образование  \n",
       "8    95856.832424                   на проведение свадьбы  \n",
       "9   144425.938277                 покупка жилья для семьи  \n",
       "10  113943.491460                    покупка недвижимости  \n",
       "11   77069.234271       покупка коммерческой недвижимости  \n",
       "12            NaN                         сыграть свадьбу  \n",
       "13  130458.228857                 приобретение автомобиля  \n",
       "14  165127.911772              покупка жилой недвижимости  \n",
       "15  116820.904450  строительство собственной недвижимости  \n",
       "16  289202.704229                            недвижимость  \n",
       "17   90410.586745              строительство недвижимости  \n",
       "18   56823.777243      на покупку подержанного автомобиля  \n",
       "19  242831.107982            на покупку своего автомобиля  "
      ]
     },
     "execution_count": 2,
     "metadata": {},
     "output_type": "execute_result"
    }
   ],
   "source": [
    "data = pd.read_csv('/datasets/data.csv') #читаем файл csv и присваиваем ему переменную data\n",
    "data.head(20) #смотрим первые 20 строк таблицы"
   ]
  },
  {
   "cell_type": "markdown",
   "id": "de26c1c4",
   "metadata": {},
   "source": [
    "Получаем общее представление о таблице."
   ]
  },
  {
   "cell_type": "code",
   "execution_count": 3,
   "id": "d2e65738",
   "metadata": {},
   "outputs": [
    {
     "name": "stdout",
     "output_type": "stream",
     "text": [
      "<class 'pandas.core.frame.DataFrame'>\n",
      "RangeIndex: 21525 entries, 0 to 21524\n",
      "Data columns (total 12 columns):\n",
      " #   Column            Non-Null Count  Dtype  \n",
      "---  ------            --------------  -----  \n",
      " 0   children          21525 non-null  int64  \n",
      " 1   days_employed     19351 non-null  float64\n",
      " 2   dob_years         21525 non-null  int64  \n",
      " 3   education         21525 non-null  object \n",
      " 4   education_id      21525 non-null  int64  \n",
      " 5   family_status     21525 non-null  object \n",
      " 6   family_status_id  21525 non-null  int64  \n",
      " 7   gender            21525 non-null  object \n",
      " 8   income_type       21525 non-null  object \n",
      " 9   debt              21525 non-null  int64  \n",
      " 10  total_income      19351 non-null  float64\n",
      " 11  purpose           21525 non-null  object \n",
      "dtypes: float64(2), int64(5), object(5)\n",
      "memory usage: 2.0+ MB\n"
     ]
    }
   ],
   "source": [
    "data.info() #открываем основную информацию о таблице"
   ]
  },
  {
   "cell_type": "markdown",
   "id": "a9c91fee",
   "metadata": {},
   "source": [
    "Итак, в таблице 12 столбцов. В них наблюдается три типа данных: object, int64 и float64.\n",
    "\n",
    "Согласно документации к данным:\n",
    "\n",
    "* `children` — количество детей в семье;\n",
    "* `days_employed` — трудовой стаж в днях;\n",
    "* `dob_years` — возраст клиента в годах;\n",
    "* `education` — уровень образования клиента;\n",
    "* `education_id` — идентификатор уровня образования;\n",
    "* `family_status` — семейное положение;\n",
    "* `family_status_id` — идентификатор семейного положения;\n",
    "* `gender` — пол клиента;\n",
    "* `income_type` — тип занятости;\n",
    "* `debt` — наличие задолженности по возврату кредитов;\n",
    "* `total_income` — ежемесячный доход;\n",
    "* `purpose` — цель кредита.\n",
    "\n",
    "Были выявлены следующие нарушения в значениях:\n",
    "* В столбце `days_employed` имеются аномалии (минусовые значения). Стоит заменить вещественный тип данных на целочисленный.\n",
    "* Также значения в `education` не приведены к единому виду ('Среднее', 'ВЫСШЕЕ'). \n",
    "* В столбце `purpose` можно заметить некатегоризированные данные - 'сыграть свадьбу', 'на проведение свадьбы'.\n",
    "* Значения в `total_income` стоит заменить на целочисленные.\n",
    "* Количество значений в столбцах `days_employed` и `total_income` различается. Значит, в данных есть пропущенные значения. С этого и начнем."
   ]
  },
  {
   "cell_type": "markdown",
   "id": "5047c491",
   "metadata": {},
   "source": [
    "### Шаг 2.1 Заполнение пропусков"
   ]
  },
  {
   "cell_type": "markdown",
   "id": "5dd4604d",
   "metadata": {},
   "source": [
    "Мы имеем пропущенные значения NaN в столбцах `days_employed` и `total_income`. Посчитаем пропуски и сверимся с информацией о таблице."
   ]
  },
  {
   "cell_type": "code",
   "execution_count": 4,
   "id": "00cd89d2",
   "metadata": {
    "scrolled": true
   },
   "outputs": [
    {
     "data": {
      "text/plain": [
       "children               0\n",
       "days_employed       2174\n",
       "dob_years              0\n",
       "education              0\n",
       "education_id           0\n",
       "family_status          0\n",
       "family_status_id       0\n",
       "gender                 0\n",
       "income_type            0\n",
       "debt                   0\n",
       "total_income        2174\n",
       "purpose                0\n",
       "dtype: int64"
      ]
     },
     "execution_count": 4,
     "metadata": {},
     "output_type": "execute_result"
    }
   ],
   "source": [
    "data.isna().sum() #считаем количество пропусков в столбцах"
   ]
  },
  {
   "cell_type": "markdown",
   "id": "dc5b53a1",
   "metadata": {},
   "source": [
    "Данные о пропусках сходятся с данными о таблице. Так как мы не можем удалить около 10% строк, заменим пропущенные значения медианой по этим столбцам. Медианное значение будет наиболее справедливым вариантом, так как среднее значение может быть выше или ниже фактического. Возможно, пропуски появились из-за человеческого фактора — забыли внести данные. Благодаря выводу строк с пропущенными значениями в столбцах `days_employed` и `total_income` можно заметить, что информация отсутствует в обоих столбцах. Возможно, закралась какая-то техническая ошибка."
   ]
  },
  {
   "cell_type": "code",
   "execution_count": 5,
   "id": "7a06b798",
   "metadata": {},
   "outputs": [
    {
     "data": {
      "text/html": [
       "<div>\n",
       "<style scoped>\n",
       "    .dataframe tbody tr th:only-of-type {\n",
       "        vertical-align: middle;\n",
       "    }\n",
       "\n",
       "    .dataframe tbody tr th {\n",
       "        vertical-align: top;\n",
       "    }\n",
       "\n",
       "    .dataframe thead th {\n",
       "        text-align: right;\n",
       "    }\n",
       "</style>\n",
       "<table border=\"1\" class=\"dataframe\">\n",
       "  <thead>\n",
       "    <tr style=\"text-align: right;\">\n",
       "      <th></th>\n",
       "      <th>children</th>\n",
       "      <th>days_employed</th>\n",
       "      <th>dob_years</th>\n",
       "      <th>education</th>\n",
       "      <th>education_id</th>\n",
       "      <th>family_status</th>\n",
       "      <th>family_status_id</th>\n",
       "      <th>gender</th>\n",
       "      <th>income_type</th>\n",
       "      <th>debt</th>\n",
       "      <th>total_income</th>\n",
       "      <th>purpose</th>\n",
       "    </tr>\n",
       "  </thead>\n",
       "  <tbody>\n",
       "    <tr>\n",
       "      <th>12</th>\n",
       "      <td>0</td>\n",
       "      <td>NaN</td>\n",
       "      <td>65</td>\n",
       "      <td>среднее</td>\n",
       "      <td>1</td>\n",
       "      <td>гражданский брак</td>\n",
       "      <td>1</td>\n",
       "      <td>M</td>\n",
       "      <td>пенсионер</td>\n",
       "      <td>0</td>\n",
       "      <td>NaN</td>\n",
       "      <td>сыграть свадьбу</td>\n",
       "    </tr>\n",
       "    <tr>\n",
       "      <th>26</th>\n",
       "      <td>0</td>\n",
       "      <td>NaN</td>\n",
       "      <td>41</td>\n",
       "      <td>среднее</td>\n",
       "      <td>1</td>\n",
       "      <td>женат / замужем</td>\n",
       "      <td>0</td>\n",
       "      <td>M</td>\n",
       "      <td>госслужащий</td>\n",
       "      <td>0</td>\n",
       "      <td>NaN</td>\n",
       "      <td>образование</td>\n",
       "    </tr>\n",
       "    <tr>\n",
       "      <th>29</th>\n",
       "      <td>0</td>\n",
       "      <td>NaN</td>\n",
       "      <td>63</td>\n",
       "      <td>среднее</td>\n",
       "      <td>1</td>\n",
       "      <td>Не женат / не замужем</td>\n",
       "      <td>4</td>\n",
       "      <td>F</td>\n",
       "      <td>пенсионер</td>\n",
       "      <td>0</td>\n",
       "      <td>NaN</td>\n",
       "      <td>строительство жилой недвижимости</td>\n",
       "    </tr>\n",
       "    <tr>\n",
       "      <th>41</th>\n",
       "      <td>0</td>\n",
       "      <td>NaN</td>\n",
       "      <td>50</td>\n",
       "      <td>среднее</td>\n",
       "      <td>1</td>\n",
       "      <td>женат / замужем</td>\n",
       "      <td>0</td>\n",
       "      <td>F</td>\n",
       "      <td>госслужащий</td>\n",
       "      <td>0</td>\n",
       "      <td>NaN</td>\n",
       "      <td>сделка с подержанным автомобилем</td>\n",
       "    </tr>\n",
       "    <tr>\n",
       "      <th>55</th>\n",
       "      <td>0</td>\n",
       "      <td>NaN</td>\n",
       "      <td>54</td>\n",
       "      <td>среднее</td>\n",
       "      <td>1</td>\n",
       "      <td>гражданский брак</td>\n",
       "      <td>1</td>\n",
       "      <td>F</td>\n",
       "      <td>пенсионер</td>\n",
       "      <td>1</td>\n",
       "      <td>NaN</td>\n",
       "      <td>сыграть свадьбу</td>\n",
       "    </tr>\n",
       "    <tr>\n",
       "      <th>...</th>\n",
       "      <td>...</td>\n",
       "      <td>...</td>\n",
       "      <td>...</td>\n",
       "      <td>...</td>\n",
       "      <td>...</td>\n",
       "      <td>...</td>\n",
       "      <td>...</td>\n",
       "      <td>...</td>\n",
       "      <td>...</td>\n",
       "      <td>...</td>\n",
       "      <td>...</td>\n",
       "      <td>...</td>\n",
       "    </tr>\n",
       "    <tr>\n",
       "      <th>21489</th>\n",
       "      <td>2</td>\n",
       "      <td>NaN</td>\n",
       "      <td>47</td>\n",
       "      <td>Среднее</td>\n",
       "      <td>1</td>\n",
       "      <td>женат / замужем</td>\n",
       "      <td>0</td>\n",
       "      <td>M</td>\n",
       "      <td>компаньон</td>\n",
       "      <td>0</td>\n",
       "      <td>NaN</td>\n",
       "      <td>сделка с автомобилем</td>\n",
       "    </tr>\n",
       "    <tr>\n",
       "      <th>21495</th>\n",
       "      <td>1</td>\n",
       "      <td>NaN</td>\n",
       "      <td>50</td>\n",
       "      <td>среднее</td>\n",
       "      <td>1</td>\n",
       "      <td>гражданский брак</td>\n",
       "      <td>1</td>\n",
       "      <td>F</td>\n",
       "      <td>сотрудник</td>\n",
       "      <td>0</td>\n",
       "      <td>NaN</td>\n",
       "      <td>свадьба</td>\n",
       "    </tr>\n",
       "    <tr>\n",
       "      <th>21497</th>\n",
       "      <td>0</td>\n",
       "      <td>NaN</td>\n",
       "      <td>48</td>\n",
       "      <td>ВЫСШЕЕ</td>\n",
       "      <td>0</td>\n",
       "      <td>женат / замужем</td>\n",
       "      <td>0</td>\n",
       "      <td>F</td>\n",
       "      <td>компаньон</td>\n",
       "      <td>0</td>\n",
       "      <td>NaN</td>\n",
       "      <td>строительство недвижимости</td>\n",
       "    </tr>\n",
       "    <tr>\n",
       "      <th>21502</th>\n",
       "      <td>1</td>\n",
       "      <td>NaN</td>\n",
       "      <td>42</td>\n",
       "      <td>среднее</td>\n",
       "      <td>1</td>\n",
       "      <td>женат / замужем</td>\n",
       "      <td>0</td>\n",
       "      <td>F</td>\n",
       "      <td>сотрудник</td>\n",
       "      <td>0</td>\n",
       "      <td>NaN</td>\n",
       "      <td>строительство жилой недвижимости</td>\n",
       "    </tr>\n",
       "    <tr>\n",
       "      <th>21510</th>\n",
       "      <td>2</td>\n",
       "      <td>NaN</td>\n",
       "      <td>28</td>\n",
       "      <td>среднее</td>\n",
       "      <td>1</td>\n",
       "      <td>женат / замужем</td>\n",
       "      <td>0</td>\n",
       "      <td>F</td>\n",
       "      <td>сотрудник</td>\n",
       "      <td>0</td>\n",
       "      <td>NaN</td>\n",
       "      <td>приобретение автомобиля</td>\n",
       "    </tr>\n",
       "  </tbody>\n",
       "</table>\n",
       "<p>2174 rows × 12 columns</p>\n",
       "</div>"
      ],
      "text/plain": [
       "       children  days_employed  dob_years education  education_id  \\\n",
       "12            0            NaN         65   среднее             1   \n",
       "26            0            NaN         41   среднее             1   \n",
       "29            0            NaN         63   среднее             1   \n",
       "41            0            NaN         50   среднее             1   \n",
       "55            0            NaN         54   среднее             1   \n",
       "...         ...            ...        ...       ...           ...   \n",
       "21489         2            NaN         47   Среднее             1   \n",
       "21495         1            NaN         50   среднее             1   \n",
       "21497         0            NaN         48    ВЫСШЕЕ             0   \n",
       "21502         1            NaN         42   среднее             1   \n",
       "21510         2            NaN         28   среднее             1   \n",
       "\n",
       "               family_status  family_status_id gender  income_type  debt  \\\n",
       "12          гражданский брак                 1      M    пенсионер     0   \n",
       "26           женат / замужем                 0      M  госслужащий     0   \n",
       "29     Не женат / не замужем                 4      F    пенсионер     0   \n",
       "41           женат / замужем                 0      F  госслужащий     0   \n",
       "55          гражданский брак                 1      F    пенсионер     1   \n",
       "...                      ...               ...    ...          ...   ...   \n",
       "21489        женат / замужем                 0      M    компаньон     0   \n",
       "21495       гражданский брак                 1      F    сотрудник     0   \n",
       "21497        женат / замужем                 0      F    компаньон     0   \n",
       "21502        женат / замужем                 0      F    сотрудник     0   \n",
       "21510        женат / замужем                 0      F    сотрудник     0   \n",
       "\n",
       "       total_income                           purpose  \n",
       "12              NaN                   сыграть свадьбу  \n",
       "26              NaN                       образование  \n",
       "29              NaN  строительство жилой недвижимости  \n",
       "41              NaN  сделка с подержанным автомобилем  \n",
       "55              NaN                   сыграть свадьбу  \n",
       "...             ...                               ...  \n",
       "21489           NaN              сделка с автомобилем  \n",
       "21495           NaN                           свадьба  \n",
       "21497           NaN        строительство недвижимости  \n",
       "21502           NaN  строительство жилой недвижимости  \n",
       "21510           NaN           приобретение автомобиля  \n",
       "\n",
       "[2174 rows x 12 columns]"
      ]
     },
     "execution_count": 5,
     "metadata": {},
     "output_type": "execute_result"
    }
   ],
   "source": [
    "data[(data['days_employed'].isna()) & (data['total_income'].isna())] #выводим строки с пропущенными значениями"
   ]
  },
  {
   "cell_type": "markdown",
   "id": "413f6bdf",
   "metadata": {},
   "source": [
    "Начнем со столбца `total_income`, так как там данные не требуют предобработки."
   ]
  },
  {
   "cell_type": "code",
   "execution_count": 6,
   "id": "c79bd794",
   "metadata": {},
   "outputs": [
    {
     "data": {
      "text/plain": [
       "0"
      ]
     },
     "execution_count": 6,
     "metadata": {},
     "output_type": "execute_result"
    }
   ],
   "source": [
    "data['total_income'] = data['total_income'].fillna(data['total_income'].median()) #заполняем пропуски в столбце 'total_income' на медианное значение по столбцу\n",
    "data['total_income'].isna().sum() #проверяем, заменились ли пропущенные значения"
   ]
  },
  {
   "cell_type": "markdown",
   "id": "11199637",
   "metadata": {},
   "source": [
    "Видим, что пропущенных значений не осталось. Переходим к следующему столбцу."
   ]
  },
  {
   "cell_type": "markdown",
   "id": "3f615b1e",
   "metadata": {},
   "source": [
    "### Шаг 2.2 Проверка данных на аномалии и исправления."
   ]
  },
  {
   "cell_type": "markdown",
   "id": "0e794a7a",
   "metadata": {},
   "source": [
    "В столбе `days_employed` требуется предобработка самих значений из-за присутствия аномалий - минусовых значений. Нужно избавиться от них. Узнаем уникальные значения столбца `income_type` и попробуем найти связь между этим и минусовыми значениями, чтобы установить возможную причину появления аномалий."
   ]
  },
  {
   "cell_type": "code",
   "execution_count": 7,
   "id": "ea3215d0",
   "metadata": {},
   "outputs": [
    {
     "data": {
      "text/plain": [
       "array(['сотрудник', 'пенсионер', 'компаньон', 'госслужащий',\n",
       "       'безработный', 'предприниматель', 'студент', 'в декрете'],\n",
       "      dtype=object)"
      ]
     },
     "execution_count": 7,
     "metadata": {},
     "output_type": "execute_result"
    }
   ],
   "source": [
    "data['income_type'].unique() #выводим уникальные значения"
   ]
  },
  {
   "cell_type": "code",
   "execution_count": 8,
   "id": "e514145e",
   "metadata": {
    "scrolled": true
   },
   "outputs": [
    {
     "data": {
      "text/html": [
       "<div>\n",
       "<style scoped>\n",
       "    .dataframe tbody tr th:only-of-type {\n",
       "        vertical-align: middle;\n",
       "    }\n",
       "\n",
       "    .dataframe tbody tr th {\n",
       "        vertical-align: top;\n",
       "    }\n",
       "\n",
       "    .dataframe thead th {\n",
       "        text-align: right;\n",
       "    }\n",
       "</style>\n",
       "<table border=\"1\" class=\"dataframe\">\n",
       "  <thead>\n",
       "    <tr style=\"text-align: right;\">\n",
       "      <th></th>\n",
       "      <th>children</th>\n",
       "      <th>days_employed</th>\n",
       "      <th>dob_years</th>\n",
       "      <th>education</th>\n",
       "      <th>education_id</th>\n",
       "      <th>family_status</th>\n",
       "      <th>family_status_id</th>\n",
       "      <th>gender</th>\n",
       "      <th>income_type</th>\n",
       "      <th>debt</th>\n",
       "      <th>total_income</th>\n",
       "      <th>purpose</th>\n",
       "    </tr>\n",
       "  </thead>\n",
       "  <tbody>\n",
       "    <tr>\n",
       "      <th>4</th>\n",
       "      <td>0</td>\n",
       "      <td>340266.072047</td>\n",
       "      <td>53</td>\n",
       "      <td>среднее</td>\n",
       "      <td>1</td>\n",
       "      <td>гражданский брак</td>\n",
       "      <td>1</td>\n",
       "      <td>F</td>\n",
       "      <td>пенсионер</td>\n",
       "      <td>0</td>\n",
       "      <td>158616.077870</td>\n",
       "      <td>сыграть свадьбу</td>\n",
       "    </tr>\n",
       "    <tr>\n",
       "      <th>12</th>\n",
       "      <td>0</td>\n",
       "      <td>NaN</td>\n",
       "      <td>65</td>\n",
       "      <td>среднее</td>\n",
       "      <td>1</td>\n",
       "      <td>гражданский брак</td>\n",
       "      <td>1</td>\n",
       "      <td>M</td>\n",
       "      <td>пенсионер</td>\n",
       "      <td>0</td>\n",
       "      <td>145017.937533</td>\n",
       "      <td>сыграть свадьбу</td>\n",
       "    </tr>\n",
       "    <tr>\n",
       "      <th>18</th>\n",
       "      <td>0</td>\n",
       "      <td>400281.136913</td>\n",
       "      <td>53</td>\n",
       "      <td>среднее</td>\n",
       "      <td>1</td>\n",
       "      <td>вдовец / вдова</td>\n",
       "      <td>2</td>\n",
       "      <td>F</td>\n",
       "      <td>пенсионер</td>\n",
       "      <td>0</td>\n",
       "      <td>56823.777243</td>\n",
       "      <td>на покупку подержанного автомобиля</td>\n",
       "    </tr>\n",
       "    <tr>\n",
       "      <th>24</th>\n",
       "      <td>1</td>\n",
       "      <td>338551.952911</td>\n",
       "      <td>57</td>\n",
       "      <td>среднее</td>\n",
       "      <td>1</td>\n",
       "      <td>Не женат / не замужем</td>\n",
       "      <td>4</td>\n",
       "      <td>F</td>\n",
       "      <td>пенсионер</td>\n",
       "      <td>0</td>\n",
       "      <td>290547.235997</td>\n",
       "      <td>операции с коммерческой недвижимостью</td>\n",
       "    </tr>\n",
       "    <tr>\n",
       "      <th>25</th>\n",
       "      <td>0</td>\n",
       "      <td>363548.489348</td>\n",
       "      <td>67</td>\n",
       "      <td>среднее</td>\n",
       "      <td>1</td>\n",
       "      <td>женат / замужем</td>\n",
       "      <td>0</td>\n",
       "      <td>M</td>\n",
       "      <td>пенсионер</td>\n",
       "      <td>0</td>\n",
       "      <td>55112.757732</td>\n",
       "      <td>покупка недвижимости</td>\n",
       "    </tr>\n",
       "  </tbody>\n",
       "</table>\n",
       "</div>"
      ],
      "text/plain": [
       "    children  days_employed  dob_years education  education_id  \\\n",
       "4          0  340266.072047         53   среднее             1   \n",
       "12         0            NaN         65   среднее             1   \n",
       "18         0  400281.136913         53   среднее             1   \n",
       "24         1  338551.952911         57   среднее             1   \n",
       "25         0  363548.489348         67   среднее             1   \n",
       "\n",
       "            family_status  family_status_id gender income_type  debt  \\\n",
       "4        гражданский брак                 1      F   пенсионер     0   \n",
       "12       гражданский брак                 1      M   пенсионер     0   \n",
       "18         вдовец / вдова                 2      F   пенсионер     0   \n",
       "24  Не женат / не замужем                 4      F   пенсионер     0   \n",
       "25        женат / замужем                 0      M   пенсионер     0   \n",
       "\n",
       "     total_income                                purpose  \n",
       "4   158616.077870                        сыграть свадьбу  \n",
       "12  145017.937533                        сыграть свадьбу  \n",
       "18   56823.777243     на покупку подержанного автомобиля  \n",
       "24  290547.235997  операции с коммерческой недвижимостью  \n",
       "25   55112.757732                   покупка недвижимости  "
      ]
     },
     "execution_count": 8,
     "metadata": {},
     "output_type": "execute_result"
    }
   ],
   "source": [
    "data[data['income_type']=='пенсионер'].head() #выводим первые 5 строчек для каждого значения"
   ]
  },
  {
   "cell_type": "code",
   "execution_count": 9,
   "id": "94ed8644",
   "metadata": {},
   "outputs": [
    {
     "data": {
      "text/html": [
       "<div>\n",
       "<style scoped>\n",
       "    .dataframe tbody tr th:only-of-type {\n",
       "        vertical-align: middle;\n",
       "    }\n",
       "\n",
       "    .dataframe tbody tr th {\n",
       "        vertical-align: top;\n",
       "    }\n",
       "\n",
       "    .dataframe thead th {\n",
       "        text-align: right;\n",
       "    }\n",
       "</style>\n",
       "<table border=\"1\" class=\"dataframe\">\n",
       "  <thead>\n",
       "    <tr style=\"text-align: right;\">\n",
       "      <th></th>\n",
       "      <th>children</th>\n",
       "      <th>days_employed</th>\n",
       "      <th>dob_years</th>\n",
       "      <th>education</th>\n",
       "      <th>education_id</th>\n",
       "      <th>family_status</th>\n",
       "      <th>family_status_id</th>\n",
       "      <th>gender</th>\n",
       "      <th>income_type</th>\n",
       "      <th>debt</th>\n",
       "      <th>total_income</th>\n",
       "      <th>purpose</th>\n",
       "    </tr>\n",
       "  </thead>\n",
       "  <tbody>\n",
       "    <tr>\n",
       "      <th>0</th>\n",
       "      <td>1</td>\n",
       "      <td>-8437.673028</td>\n",
       "      <td>42</td>\n",
       "      <td>высшее</td>\n",
       "      <td>0</td>\n",
       "      <td>женат / замужем</td>\n",
       "      <td>0</td>\n",
       "      <td>F</td>\n",
       "      <td>сотрудник</td>\n",
       "      <td>0</td>\n",
       "      <td>253875.639453</td>\n",
       "      <td>покупка жилья</td>\n",
       "    </tr>\n",
       "    <tr>\n",
       "      <th>1</th>\n",
       "      <td>1</td>\n",
       "      <td>-4024.803754</td>\n",
       "      <td>36</td>\n",
       "      <td>среднее</td>\n",
       "      <td>1</td>\n",
       "      <td>женат / замужем</td>\n",
       "      <td>0</td>\n",
       "      <td>F</td>\n",
       "      <td>сотрудник</td>\n",
       "      <td>0</td>\n",
       "      <td>112080.014102</td>\n",
       "      <td>приобретение автомобиля</td>\n",
       "    </tr>\n",
       "    <tr>\n",
       "      <th>2</th>\n",
       "      <td>0</td>\n",
       "      <td>-5623.422610</td>\n",
       "      <td>33</td>\n",
       "      <td>Среднее</td>\n",
       "      <td>1</td>\n",
       "      <td>женат / замужем</td>\n",
       "      <td>0</td>\n",
       "      <td>M</td>\n",
       "      <td>сотрудник</td>\n",
       "      <td>0</td>\n",
       "      <td>145885.952297</td>\n",
       "      <td>покупка жилья</td>\n",
       "    </tr>\n",
       "    <tr>\n",
       "      <th>3</th>\n",
       "      <td>3</td>\n",
       "      <td>-4124.747207</td>\n",
       "      <td>32</td>\n",
       "      <td>среднее</td>\n",
       "      <td>1</td>\n",
       "      <td>женат / замужем</td>\n",
       "      <td>0</td>\n",
       "      <td>M</td>\n",
       "      <td>сотрудник</td>\n",
       "      <td>0</td>\n",
       "      <td>267628.550329</td>\n",
       "      <td>дополнительное образование</td>\n",
       "    </tr>\n",
       "    <tr>\n",
       "      <th>7</th>\n",
       "      <td>0</td>\n",
       "      <td>-152.779569</td>\n",
       "      <td>50</td>\n",
       "      <td>СРЕДНЕЕ</td>\n",
       "      <td>1</td>\n",
       "      <td>женат / замужем</td>\n",
       "      <td>0</td>\n",
       "      <td>M</td>\n",
       "      <td>сотрудник</td>\n",
       "      <td>0</td>\n",
       "      <td>135823.934197</td>\n",
       "      <td>образование</td>\n",
       "    </tr>\n",
       "  </tbody>\n",
       "</table>\n",
       "</div>"
      ],
      "text/plain": [
       "   children  days_employed  dob_years education  education_id  \\\n",
       "0         1   -8437.673028         42    высшее             0   \n",
       "1         1   -4024.803754         36   среднее             1   \n",
       "2         0   -5623.422610         33   Среднее             1   \n",
       "3         3   -4124.747207         32   среднее             1   \n",
       "7         0    -152.779569         50   СРЕДНЕЕ             1   \n",
       "\n",
       "     family_status  family_status_id gender income_type  debt   total_income  \\\n",
       "0  женат / замужем                 0      F   сотрудник     0  253875.639453   \n",
       "1  женат / замужем                 0      F   сотрудник     0  112080.014102   \n",
       "2  женат / замужем                 0      M   сотрудник     0  145885.952297   \n",
       "3  женат / замужем                 0      M   сотрудник     0  267628.550329   \n",
       "7  женат / замужем                 0      M   сотрудник     0  135823.934197   \n",
       "\n",
       "                      purpose  \n",
       "0               покупка жилья  \n",
       "1     приобретение автомобиля  \n",
       "2               покупка жилья  \n",
       "3  дополнительное образование  \n",
       "7                 образование  "
      ]
     },
     "execution_count": 9,
     "metadata": {},
     "output_type": "execute_result"
    }
   ],
   "source": [
    "data[data['income_type']=='сотрудник'].head()"
   ]
  },
  {
   "cell_type": "code",
   "execution_count": 10,
   "id": "7e8970ff",
   "metadata": {},
   "outputs": [
    {
     "data": {
      "text/html": [
       "<div>\n",
       "<style scoped>\n",
       "    .dataframe tbody tr th:only-of-type {\n",
       "        vertical-align: middle;\n",
       "    }\n",
       "\n",
       "    .dataframe tbody tr th {\n",
       "        vertical-align: top;\n",
       "    }\n",
       "\n",
       "    .dataframe thead th {\n",
       "        text-align: right;\n",
       "    }\n",
       "</style>\n",
       "<table border=\"1\" class=\"dataframe\">\n",
       "  <thead>\n",
       "    <tr style=\"text-align: right;\">\n",
       "      <th></th>\n",
       "      <th>children</th>\n",
       "      <th>days_employed</th>\n",
       "      <th>dob_years</th>\n",
       "      <th>education</th>\n",
       "      <th>education_id</th>\n",
       "      <th>family_status</th>\n",
       "      <th>family_status_id</th>\n",
       "      <th>gender</th>\n",
       "      <th>income_type</th>\n",
       "      <th>debt</th>\n",
       "      <th>total_income</th>\n",
       "      <th>purpose</th>\n",
       "    </tr>\n",
       "  </thead>\n",
       "  <tbody>\n",
       "    <tr>\n",
       "      <th>5</th>\n",
       "      <td>0</td>\n",
       "      <td>-926.185831</td>\n",
       "      <td>27</td>\n",
       "      <td>высшее</td>\n",
       "      <td>0</td>\n",
       "      <td>гражданский брак</td>\n",
       "      <td>1</td>\n",
       "      <td>M</td>\n",
       "      <td>компаньон</td>\n",
       "      <td>0</td>\n",
       "      <td>255763.565419</td>\n",
       "      <td>покупка жилья</td>\n",
       "    </tr>\n",
       "    <tr>\n",
       "      <th>6</th>\n",
       "      <td>0</td>\n",
       "      <td>-2879.202052</td>\n",
       "      <td>43</td>\n",
       "      <td>высшее</td>\n",
       "      <td>0</td>\n",
       "      <td>женат / замужем</td>\n",
       "      <td>0</td>\n",
       "      <td>F</td>\n",
       "      <td>компаньон</td>\n",
       "      <td>0</td>\n",
       "      <td>240525.971920</td>\n",
       "      <td>операции с жильем</td>\n",
       "    </tr>\n",
       "    <tr>\n",
       "      <th>10</th>\n",
       "      <td>2</td>\n",
       "      <td>-4171.483647</td>\n",
       "      <td>36</td>\n",
       "      <td>высшее</td>\n",
       "      <td>0</td>\n",
       "      <td>женат / замужем</td>\n",
       "      <td>0</td>\n",
       "      <td>M</td>\n",
       "      <td>компаньон</td>\n",
       "      <td>0</td>\n",
       "      <td>113943.491460</td>\n",
       "      <td>покупка недвижимости</td>\n",
       "    </tr>\n",
       "    <tr>\n",
       "      <th>14</th>\n",
       "      <td>0</td>\n",
       "      <td>-1844.956182</td>\n",
       "      <td>56</td>\n",
       "      <td>высшее</td>\n",
       "      <td>0</td>\n",
       "      <td>гражданский брак</td>\n",
       "      <td>1</td>\n",
       "      <td>F</td>\n",
       "      <td>компаньон</td>\n",
       "      <td>1</td>\n",
       "      <td>165127.911772</td>\n",
       "      <td>покупка жилой недвижимости</td>\n",
       "    </tr>\n",
       "    <tr>\n",
       "      <th>33</th>\n",
       "      <td>0</td>\n",
       "      <td>-1548.637544</td>\n",
       "      <td>48</td>\n",
       "      <td>среднее</td>\n",
       "      <td>1</td>\n",
       "      <td>женат / замужем</td>\n",
       "      <td>0</td>\n",
       "      <td>F</td>\n",
       "      <td>компаньон</td>\n",
       "      <td>0</td>\n",
       "      <td>157245.786233</td>\n",
       "      <td>покупка жилья</td>\n",
       "    </tr>\n",
       "  </tbody>\n",
       "</table>\n",
       "</div>"
      ],
      "text/plain": [
       "    children  days_employed  dob_years education  education_id  \\\n",
       "5          0    -926.185831         27    высшее             0   \n",
       "6          0   -2879.202052         43    высшее             0   \n",
       "10         2   -4171.483647         36    высшее             0   \n",
       "14         0   -1844.956182         56    высшее             0   \n",
       "33         0   -1548.637544         48   среднее             1   \n",
       "\n",
       "       family_status  family_status_id gender income_type  debt  \\\n",
       "5   гражданский брак                 1      M   компаньон     0   \n",
       "6    женат / замужем                 0      F   компаньон     0   \n",
       "10   женат / замужем                 0      M   компаньон     0   \n",
       "14  гражданский брак                 1      F   компаньон     1   \n",
       "33   женат / замужем                 0      F   компаньон     0   \n",
       "\n",
       "     total_income                     purpose  \n",
       "5   255763.565419               покупка жилья  \n",
       "6   240525.971920           операции с жильем  \n",
       "10  113943.491460        покупка недвижимости  \n",
       "14  165127.911772  покупка жилой недвижимости  \n",
       "33  157245.786233               покупка жилья  "
      ]
     },
     "execution_count": 10,
     "metadata": {},
     "output_type": "execute_result"
    }
   ],
   "source": [
    "data[data['income_type']=='компаньон'].head()"
   ]
  },
  {
   "cell_type": "code",
   "execution_count": 11,
   "id": "d836913c",
   "metadata": {},
   "outputs": [
    {
     "data": {
      "text/html": [
       "<div>\n",
       "<style scoped>\n",
       "    .dataframe tbody tr th:only-of-type {\n",
       "        vertical-align: middle;\n",
       "    }\n",
       "\n",
       "    .dataframe tbody tr th {\n",
       "        vertical-align: top;\n",
       "    }\n",
       "\n",
       "    .dataframe thead th {\n",
       "        text-align: right;\n",
       "    }\n",
       "</style>\n",
       "<table border=\"1\" class=\"dataframe\">\n",
       "  <thead>\n",
       "    <tr style=\"text-align: right;\">\n",
       "      <th></th>\n",
       "      <th>children</th>\n",
       "      <th>days_employed</th>\n",
       "      <th>dob_years</th>\n",
       "      <th>education</th>\n",
       "      <th>education_id</th>\n",
       "      <th>family_status</th>\n",
       "      <th>family_status_id</th>\n",
       "      <th>gender</th>\n",
       "      <th>income_type</th>\n",
       "      <th>debt</th>\n",
       "      <th>total_income</th>\n",
       "      <th>purpose</th>\n",
       "    </tr>\n",
       "  </thead>\n",
       "  <tbody>\n",
       "    <tr>\n",
       "      <th>26</th>\n",
       "      <td>0</td>\n",
       "      <td>NaN</td>\n",
       "      <td>41</td>\n",
       "      <td>среднее</td>\n",
       "      <td>1</td>\n",
       "      <td>женат / замужем</td>\n",
       "      <td>0</td>\n",
       "      <td>M</td>\n",
       "      <td>госслужащий</td>\n",
       "      <td>0</td>\n",
       "      <td>145017.937533</td>\n",
       "      <td>образование</td>\n",
       "    </tr>\n",
       "    <tr>\n",
       "      <th>41</th>\n",
       "      <td>0</td>\n",
       "      <td>NaN</td>\n",
       "      <td>50</td>\n",
       "      <td>среднее</td>\n",
       "      <td>1</td>\n",
       "      <td>женат / замужем</td>\n",
       "      <td>0</td>\n",
       "      <td>F</td>\n",
       "      <td>госслужащий</td>\n",
       "      <td>0</td>\n",
       "      <td>145017.937533</td>\n",
       "      <td>сделка с подержанным автомобилем</td>\n",
       "    </tr>\n",
       "    <tr>\n",
       "      <th>47</th>\n",
       "      <td>1</td>\n",
       "      <td>-2689.137274</td>\n",
       "      <td>33</td>\n",
       "      <td>высшее</td>\n",
       "      <td>0</td>\n",
       "      <td>гражданский брак</td>\n",
       "      <td>1</td>\n",
       "      <td>M</td>\n",
       "      <td>госслужащий</td>\n",
       "      <td>0</td>\n",
       "      <td>356277.909345</td>\n",
       "      <td>на проведение свадьбы</td>\n",
       "    </tr>\n",
       "    <tr>\n",
       "      <th>62</th>\n",
       "      <td>0</td>\n",
       "      <td>-7845.649233</td>\n",
       "      <td>48</td>\n",
       "      <td>Высшее</td>\n",
       "      <td>0</td>\n",
       "      <td>Не женат / не замужем</td>\n",
       "      <td>4</td>\n",
       "      <td>M</td>\n",
       "      <td>госслужащий</td>\n",
       "      <td>0</td>\n",
       "      <td>435388.195272</td>\n",
       "      <td>получение высшего образования</td>\n",
       "    </tr>\n",
       "    <tr>\n",
       "      <th>70</th>\n",
       "      <td>1</td>\n",
       "      <td>-2802.226671</td>\n",
       "      <td>28</td>\n",
       "      <td>ВЫСШЕЕ</td>\n",
       "      <td>0</td>\n",
       "      <td>женат / замужем</td>\n",
       "      <td>0</td>\n",
       "      <td>M</td>\n",
       "      <td>госслужащий</td>\n",
       "      <td>0</td>\n",
       "      <td>207561.466998</td>\n",
       "      <td>покупка коммерческой недвижимости</td>\n",
       "    </tr>\n",
       "  </tbody>\n",
       "</table>\n",
       "</div>"
      ],
      "text/plain": [
       "    children  days_employed  dob_years education  education_id  \\\n",
       "26         0            NaN         41   среднее             1   \n",
       "41         0            NaN         50   среднее             1   \n",
       "47         1   -2689.137274         33    высшее             0   \n",
       "62         0   -7845.649233         48    Высшее             0   \n",
       "70         1   -2802.226671         28    ВЫСШЕЕ             0   \n",
       "\n",
       "            family_status  family_status_id gender  income_type  debt  \\\n",
       "26        женат / замужем                 0      M  госслужащий     0   \n",
       "41        женат / замужем                 0      F  госслужащий     0   \n",
       "47       гражданский брак                 1      M  госслужащий     0   \n",
       "62  Не женат / не замужем                 4      M  госслужащий     0   \n",
       "70        женат / замужем                 0      M  госслужащий     0   \n",
       "\n",
       "     total_income                            purpose  \n",
       "26  145017.937533                        образование  \n",
       "41  145017.937533   сделка с подержанным автомобилем  \n",
       "47  356277.909345              на проведение свадьбы  \n",
       "62  435388.195272      получение высшего образования  \n",
       "70  207561.466998  покупка коммерческой недвижимости  "
      ]
     },
     "execution_count": 11,
     "metadata": {},
     "output_type": "execute_result"
    }
   ],
   "source": [
    "data[data['income_type']=='госслужащий'].head()"
   ]
  },
  {
   "cell_type": "code",
   "execution_count": 12,
   "id": "5d807dd6",
   "metadata": {},
   "outputs": [
    {
     "data": {
      "text/html": [
       "<div>\n",
       "<style scoped>\n",
       "    .dataframe tbody tr th:only-of-type {\n",
       "        vertical-align: middle;\n",
       "    }\n",
       "\n",
       "    .dataframe tbody tr th {\n",
       "        vertical-align: top;\n",
       "    }\n",
       "\n",
       "    .dataframe thead th {\n",
       "        text-align: right;\n",
       "    }\n",
       "</style>\n",
       "<table border=\"1\" class=\"dataframe\">\n",
       "  <thead>\n",
       "    <tr style=\"text-align: right;\">\n",
       "      <th></th>\n",
       "      <th>children</th>\n",
       "      <th>days_employed</th>\n",
       "      <th>dob_years</th>\n",
       "      <th>education</th>\n",
       "      <th>education_id</th>\n",
       "      <th>family_status</th>\n",
       "      <th>family_status_id</th>\n",
       "      <th>gender</th>\n",
       "      <th>income_type</th>\n",
       "      <th>debt</th>\n",
       "      <th>total_income</th>\n",
       "      <th>purpose</th>\n",
       "    </tr>\n",
       "  </thead>\n",
       "  <tbody>\n",
       "    <tr>\n",
       "      <th>3133</th>\n",
       "      <td>1</td>\n",
       "      <td>337524.466835</td>\n",
       "      <td>31</td>\n",
       "      <td>среднее</td>\n",
       "      <td>1</td>\n",
       "      <td>женат / замужем</td>\n",
       "      <td>0</td>\n",
       "      <td>M</td>\n",
       "      <td>безработный</td>\n",
       "      <td>1</td>\n",
       "      <td>59956.991984</td>\n",
       "      <td>покупка жилья для сдачи</td>\n",
       "    </tr>\n",
       "    <tr>\n",
       "      <th>14798</th>\n",
       "      <td>0</td>\n",
       "      <td>395302.838654</td>\n",
       "      <td>45</td>\n",
       "      <td>Высшее</td>\n",
       "      <td>0</td>\n",
       "      <td>гражданский брак</td>\n",
       "      <td>1</td>\n",
       "      <td>F</td>\n",
       "      <td>безработный</td>\n",
       "      <td>0</td>\n",
       "      <td>202722.511368</td>\n",
       "      <td>ремонт жилью</td>\n",
       "    </tr>\n",
       "  </tbody>\n",
       "</table>\n",
       "</div>"
      ],
      "text/plain": [
       "       children  days_employed  dob_years education  education_id  \\\n",
       "3133          1  337524.466835         31   среднее             1   \n",
       "14798         0  395302.838654         45    Высшее             0   \n",
       "\n",
       "          family_status  family_status_id gender  income_type  debt  \\\n",
       "3133    женат / замужем                 0      M  безработный     1   \n",
       "14798  гражданский брак                 1      F  безработный     0   \n",
       "\n",
       "        total_income                  purpose  \n",
       "3133    59956.991984  покупка жилья для сдачи  \n",
       "14798  202722.511368             ремонт жилью  "
      ]
     },
     "execution_count": 12,
     "metadata": {},
     "output_type": "execute_result"
    }
   ],
   "source": [
    "data[data['income_type']=='безработный'].head()"
   ]
  },
  {
   "cell_type": "code",
   "execution_count": 13,
   "id": "eeb4bcb0",
   "metadata": {},
   "outputs": [
    {
     "data": {
      "text/html": [
       "<div>\n",
       "<style scoped>\n",
       "    .dataframe tbody tr th:only-of-type {\n",
       "        vertical-align: middle;\n",
       "    }\n",
       "\n",
       "    .dataframe tbody tr th {\n",
       "        vertical-align: top;\n",
       "    }\n",
       "\n",
       "    .dataframe thead th {\n",
       "        text-align: right;\n",
       "    }\n",
       "</style>\n",
       "<table border=\"1\" class=\"dataframe\">\n",
       "  <thead>\n",
       "    <tr style=\"text-align: right;\">\n",
       "      <th></th>\n",
       "      <th>children</th>\n",
       "      <th>days_employed</th>\n",
       "      <th>dob_years</th>\n",
       "      <th>education</th>\n",
       "      <th>education_id</th>\n",
       "      <th>family_status</th>\n",
       "      <th>family_status_id</th>\n",
       "      <th>gender</th>\n",
       "      <th>income_type</th>\n",
       "      <th>debt</th>\n",
       "      <th>total_income</th>\n",
       "      <th>purpose</th>\n",
       "    </tr>\n",
       "  </thead>\n",
       "  <tbody>\n",
       "    <tr>\n",
       "      <th>5936</th>\n",
       "      <td>0</td>\n",
       "      <td>NaN</td>\n",
       "      <td>58</td>\n",
       "      <td>высшее</td>\n",
       "      <td>0</td>\n",
       "      <td>женат / замужем</td>\n",
       "      <td>0</td>\n",
       "      <td>M</td>\n",
       "      <td>предприниматель</td>\n",
       "      <td>0</td>\n",
       "      <td>145017.937533</td>\n",
       "      <td>покупка жилой недвижимости</td>\n",
       "    </tr>\n",
       "    <tr>\n",
       "      <th>18697</th>\n",
       "      <td>0</td>\n",
       "      <td>-520.848083</td>\n",
       "      <td>27</td>\n",
       "      <td>высшее</td>\n",
       "      <td>0</td>\n",
       "      <td>гражданский брак</td>\n",
       "      <td>1</td>\n",
       "      <td>F</td>\n",
       "      <td>предприниматель</td>\n",
       "      <td>0</td>\n",
       "      <td>499163.144947</td>\n",
       "      <td>на проведение свадьбы</td>\n",
       "    </tr>\n",
       "  </tbody>\n",
       "</table>\n",
       "</div>"
      ],
      "text/plain": [
       "       children  days_employed  dob_years education  education_id  \\\n",
       "5936          0            NaN         58    высшее             0   \n",
       "18697         0    -520.848083         27    высшее             0   \n",
       "\n",
       "          family_status  family_status_id gender      income_type  debt  \\\n",
       "5936    женат / замужем                 0      M  предприниматель     0   \n",
       "18697  гражданский брак                 1      F  предприниматель     0   \n",
       "\n",
       "        total_income                     purpose  \n",
       "5936   145017.937533  покупка жилой недвижимости  \n",
       "18697  499163.144947       на проведение свадьбы  "
      ]
     },
     "execution_count": 13,
     "metadata": {},
     "output_type": "execute_result"
    }
   ],
   "source": [
    "data[data['income_type']=='предприниматель'].head()"
   ]
  },
  {
   "cell_type": "code",
   "execution_count": 14,
   "id": "e12f3b4c",
   "metadata": {},
   "outputs": [
    {
     "data": {
      "text/html": [
       "<div>\n",
       "<style scoped>\n",
       "    .dataframe tbody tr th:only-of-type {\n",
       "        vertical-align: middle;\n",
       "    }\n",
       "\n",
       "    .dataframe tbody tr th {\n",
       "        vertical-align: top;\n",
       "    }\n",
       "\n",
       "    .dataframe thead th {\n",
       "        text-align: right;\n",
       "    }\n",
       "</style>\n",
       "<table border=\"1\" class=\"dataframe\">\n",
       "  <thead>\n",
       "    <tr style=\"text-align: right;\">\n",
       "      <th></th>\n",
       "      <th>children</th>\n",
       "      <th>days_employed</th>\n",
       "      <th>dob_years</th>\n",
       "      <th>education</th>\n",
       "      <th>education_id</th>\n",
       "      <th>family_status</th>\n",
       "      <th>family_status_id</th>\n",
       "      <th>gender</th>\n",
       "      <th>income_type</th>\n",
       "      <th>debt</th>\n",
       "      <th>total_income</th>\n",
       "      <th>purpose</th>\n",
       "    </tr>\n",
       "  </thead>\n",
       "  <tbody>\n",
       "    <tr>\n",
       "      <th>9410</th>\n",
       "      <td>0</td>\n",
       "      <td>-578.751554</td>\n",
       "      <td>22</td>\n",
       "      <td>высшее</td>\n",
       "      <td>0</td>\n",
       "      <td>Не женат / не замужем</td>\n",
       "      <td>4</td>\n",
       "      <td>M</td>\n",
       "      <td>студент</td>\n",
       "      <td>0</td>\n",
       "      <td>98201.625314</td>\n",
       "      <td>строительство собственной недвижимости</td>\n",
       "    </tr>\n",
       "  </tbody>\n",
       "</table>\n",
       "</div>"
      ],
      "text/plain": [
       "      children  days_employed  dob_years education  education_id  \\\n",
       "9410         0    -578.751554         22    высшее             0   \n",
       "\n",
       "              family_status  family_status_id gender income_type  debt  \\\n",
       "9410  Не женат / не замужем                 4      M     студент     0   \n",
       "\n",
       "      total_income                                 purpose  \n",
       "9410  98201.625314  строительство собственной недвижимости  "
      ]
     },
     "execution_count": 14,
     "metadata": {},
     "output_type": "execute_result"
    }
   ],
   "source": [
    "data[data['income_type']=='студент'].head()"
   ]
  },
  {
   "cell_type": "code",
   "execution_count": 15,
   "id": "a72a3338",
   "metadata": {
    "scrolled": true
   },
   "outputs": [
    {
     "data": {
      "text/html": [
       "<div>\n",
       "<style scoped>\n",
       "    .dataframe tbody tr th:only-of-type {\n",
       "        vertical-align: middle;\n",
       "    }\n",
       "\n",
       "    .dataframe tbody tr th {\n",
       "        vertical-align: top;\n",
       "    }\n",
       "\n",
       "    .dataframe thead th {\n",
       "        text-align: right;\n",
       "    }\n",
       "</style>\n",
       "<table border=\"1\" class=\"dataframe\">\n",
       "  <thead>\n",
       "    <tr style=\"text-align: right;\">\n",
       "      <th></th>\n",
       "      <th>children</th>\n",
       "      <th>days_employed</th>\n",
       "      <th>dob_years</th>\n",
       "      <th>education</th>\n",
       "      <th>education_id</th>\n",
       "      <th>family_status</th>\n",
       "      <th>family_status_id</th>\n",
       "      <th>gender</th>\n",
       "      <th>income_type</th>\n",
       "      <th>debt</th>\n",
       "      <th>total_income</th>\n",
       "      <th>purpose</th>\n",
       "    </tr>\n",
       "  </thead>\n",
       "  <tbody>\n",
       "    <tr>\n",
       "      <th>20845</th>\n",
       "      <td>2</td>\n",
       "      <td>-3296.759962</td>\n",
       "      <td>39</td>\n",
       "      <td>СРЕДНЕЕ</td>\n",
       "      <td>1</td>\n",
       "      <td>женат / замужем</td>\n",
       "      <td>0</td>\n",
       "      <td>F</td>\n",
       "      <td>в декрете</td>\n",
       "      <td>1</td>\n",
       "      <td>53829.130729</td>\n",
       "      <td>автомобиль</td>\n",
       "    </tr>\n",
       "  </tbody>\n",
       "</table>\n",
       "</div>"
      ],
      "text/plain": [
       "       children  days_employed  dob_years education  education_id  \\\n",
       "20845         2   -3296.759962         39   СРЕДНЕЕ             1   \n",
       "\n",
       "         family_status  family_status_id gender income_type  debt  \\\n",
       "20845  женат / замужем                 0      F   в декрете     1   \n",
       "\n",
       "       total_income     purpose  \n",
       "20845  53829.130729  автомобиль  "
      ]
     },
     "execution_count": 15,
     "metadata": {},
     "output_type": "execute_result"
    }
   ],
   "source": [
    "data[data['income_type']=='в декрете'].head()"
   ]
  },
  {
   "cell_type": "markdown",
   "id": "edc5c78b",
   "metadata": {},
   "source": [
    "Причиной подобной аномалии может являться техническая ошибка, т.к. это не похоже на человеческий фактор - вряд ли кто-то мог начать заполнять данные с минусового знака. Также можно заметить, что данные имеют минусовое значение у всех, кроме пенсионеров и безработных (и значения этих двух групп запредельно высокие, что тоже указывает на аномалию), соответственно, программа может неправильно высчитывать стаж именно в днях. Чтобы решить задачи этого проекта, не требуется изменять именно эти данные, поэтому достаточно будет убрать минусовые значения."
   ]
  },
  {
   "cell_type": "code",
   "execution_count": 16,
   "id": "1097e96b",
   "metadata": {
    "scrolled": true
   },
   "outputs": [
    {
     "data": {
      "text/html": [
       "<div>\n",
       "<style scoped>\n",
       "    .dataframe tbody tr th:only-of-type {\n",
       "        vertical-align: middle;\n",
       "    }\n",
       "\n",
       "    .dataframe tbody tr th {\n",
       "        vertical-align: top;\n",
       "    }\n",
       "\n",
       "    .dataframe thead th {\n",
       "        text-align: right;\n",
       "    }\n",
       "</style>\n",
       "<table border=\"1\" class=\"dataframe\">\n",
       "  <thead>\n",
       "    <tr style=\"text-align: right;\">\n",
       "      <th></th>\n",
       "      <th>children</th>\n",
       "      <th>days_employed</th>\n",
       "      <th>dob_years</th>\n",
       "      <th>education</th>\n",
       "      <th>education_id</th>\n",
       "      <th>family_status</th>\n",
       "      <th>family_status_id</th>\n",
       "      <th>gender</th>\n",
       "      <th>income_type</th>\n",
       "      <th>debt</th>\n",
       "      <th>total_income</th>\n",
       "      <th>purpose</th>\n",
       "    </tr>\n",
       "  </thead>\n",
       "  <tbody>\n",
       "    <tr>\n",
       "      <th>0</th>\n",
       "      <td>1</td>\n",
       "      <td>8437.673028</td>\n",
       "      <td>42</td>\n",
       "      <td>высшее</td>\n",
       "      <td>0</td>\n",
       "      <td>женат / замужем</td>\n",
       "      <td>0</td>\n",
       "      <td>F</td>\n",
       "      <td>сотрудник</td>\n",
       "      <td>0</td>\n",
       "      <td>253875.639453</td>\n",
       "      <td>покупка жилья</td>\n",
       "    </tr>\n",
       "    <tr>\n",
       "      <th>1</th>\n",
       "      <td>1</td>\n",
       "      <td>4024.803754</td>\n",
       "      <td>36</td>\n",
       "      <td>среднее</td>\n",
       "      <td>1</td>\n",
       "      <td>женат / замужем</td>\n",
       "      <td>0</td>\n",
       "      <td>F</td>\n",
       "      <td>сотрудник</td>\n",
       "      <td>0</td>\n",
       "      <td>112080.014102</td>\n",
       "      <td>приобретение автомобиля</td>\n",
       "    </tr>\n",
       "    <tr>\n",
       "      <th>2</th>\n",
       "      <td>0</td>\n",
       "      <td>5623.422610</td>\n",
       "      <td>33</td>\n",
       "      <td>Среднее</td>\n",
       "      <td>1</td>\n",
       "      <td>женат / замужем</td>\n",
       "      <td>0</td>\n",
       "      <td>M</td>\n",
       "      <td>сотрудник</td>\n",
       "      <td>0</td>\n",
       "      <td>145885.952297</td>\n",
       "      <td>покупка жилья</td>\n",
       "    </tr>\n",
       "    <tr>\n",
       "      <th>3</th>\n",
       "      <td>3</td>\n",
       "      <td>4124.747207</td>\n",
       "      <td>32</td>\n",
       "      <td>среднее</td>\n",
       "      <td>1</td>\n",
       "      <td>женат / замужем</td>\n",
       "      <td>0</td>\n",
       "      <td>M</td>\n",
       "      <td>сотрудник</td>\n",
       "      <td>0</td>\n",
       "      <td>267628.550329</td>\n",
       "      <td>дополнительное образование</td>\n",
       "    </tr>\n",
       "    <tr>\n",
       "      <th>4</th>\n",
       "      <td>0</td>\n",
       "      <td>340266.072047</td>\n",
       "      <td>53</td>\n",
       "      <td>среднее</td>\n",
       "      <td>1</td>\n",
       "      <td>гражданский брак</td>\n",
       "      <td>1</td>\n",
       "      <td>F</td>\n",
       "      <td>пенсионер</td>\n",
       "      <td>0</td>\n",
       "      <td>158616.077870</td>\n",
       "      <td>сыграть свадьбу</td>\n",
       "    </tr>\n",
       "  </tbody>\n",
       "</table>\n",
       "</div>"
      ],
      "text/plain": [
       "   children  days_employed  dob_years education  education_id  \\\n",
       "0         1    8437.673028         42    высшее             0   \n",
       "1         1    4024.803754         36   среднее             1   \n",
       "2         0    5623.422610         33   Среднее             1   \n",
       "3         3    4124.747207         32   среднее             1   \n",
       "4         0  340266.072047         53   среднее             1   \n",
       "\n",
       "      family_status  family_status_id gender income_type  debt   total_income  \\\n",
       "0   женат / замужем                 0      F   сотрудник     0  253875.639453   \n",
       "1   женат / замужем                 0      F   сотрудник     0  112080.014102   \n",
       "2   женат / замужем                 0      M   сотрудник     0  145885.952297   \n",
       "3   женат / замужем                 0      M   сотрудник     0  267628.550329   \n",
       "4  гражданский брак                 1      F   пенсионер     0  158616.077870   \n",
       "\n",
       "                      purpose  \n",
       "0               покупка жилья  \n",
       "1     приобретение автомобиля  \n",
       "2               покупка жилья  \n",
       "3  дополнительное образование  \n",
       "4             сыграть свадьбу  "
      ]
     },
     "execution_count": 16,
     "metadata": {},
     "output_type": "execute_result"
    }
   ],
   "source": [
    "data['days_employed']=abs(data['days_employed']) #используем функцию abs для преобразования значений\n",
    "data.head() #выводим первые 5 строк для проверки"
   ]
  },
  {
   "cell_type": "markdown",
   "id": "c716681d",
   "metadata": {},
   "source": [
    "Теперь все значения плюсовые, можно заменять пропуски медианой."
   ]
  },
  {
   "cell_type": "code",
   "execution_count": 17,
   "id": "823172b2",
   "metadata": {},
   "outputs": [
    {
     "data": {
      "text/plain": [
       "0"
      ]
     },
     "execution_count": 17,
     "metadata": {},
     "output_type": "execute_result"
    }
   ],
   "source": [
    "data['days_employed'] = data['days_employed'].fillna(data['days_employed'].median()) #заполняем пропуски в столбце 'total_income' на медианное значение по столбцу\n",
    "data['days_employed'].isna().sum() #проверяем, заменились ли пропущенные значения"
   ]
  },
  {
   "cell_type": "markdown",
   "id": "c11d561e",
   "metadata": {},
   "source": [
    "Также были обнаружены следующие ошибки — в столбце `children` были найдены минусовые значения, которые мы исправили с помощью функции abs."
   ]
  },
  {
   "cell_type": "code",
   "execution_count": 18,
   "id": "9832789a",
   "metadata": {},
   "outputs": [],
   "source": [
    "data['children']=abs(data['children']) #избавляемся от минусов"
   ]
  },
  {
   "cell_type": "code",
   "execution_count": 19,
   "id": "8cad359b",
   "metadata": {
    "scrolled": true
   },
   "outputs": [
    {
     "data": {
      "text/plain": [
       "0     14149\n",
       "1      4865\n",
       "2      2055\n",
       "3       330\n",
       "20       76\n",
       "4        41\n",
       "5         9\n",
       "Name: children, dtype: int64"
      ]
     },
     "execution_count": 19,
     "metadata": {},
     "output_type": "execute_result"
    }
   ],
   "source": [
    "data['children'].value_counts()"
   ]
  },
  {
   "cell_type": "markdown",
   "id": "9b6bdbe2",
   "metadata": {},
   "source": [
    "Видим 76 строчек с клиентами, у которых 20 детей, что составляет очень малую долю от общего числа клиентов. Вероятнее всего, при вводе данных 0 появился случайно (он рядом с 2 на клавиатуре), но у этих людей, вероятнее всего, все равно есть дети, поэтому на исследование эти аномалии не повлияют."
   ]
  },
  {
   "cell_type": "code",
   "execution_count": 20,
   "id": "fc9f14d2",
   "metadata": {
    "scrolled": true
   },
   "outputs": [
    {
     "data": {
      "text/plain": [
       "35    617\n",
       "40    609\n",
       "41    607\n",
       "34    603\n",
       "38    598\n",
       "42    597\n",
       "33    581\n",
       "39    573\n",
       "31    560\n",
       "36    555\n",
       "44    547\n",
       "29    545\n",
       "30    540\n",
       "48    538\n",
       "37    537\n",
       "50    514\n",
       "43    513\n",
       "32    510\n",
       "49    508\n",
       "28    503\n",
       "45    497\n",
       "27    493\n",
       "56    487\n",
       "52    484\n",
       "47    480\n",
       "54    479\n",
       "46    475\n",
       "58    461\n",
       "57    460\n",
       "53    459\n",
       "51    448\n",
       "59    444\n",
       "55    443\n",
       "26    408\n",
       "60    377\n",
       "25    357\n",
       "61    355\n",
       "62    352\n",
       "63    269\n",
       "64    265\n",
       "24    264\n",
       "23    254\n",
       "65    194\n",
       "66    183\n",
       "22    183\n",
       "67    167\n",
       "21    111\n",
       "0     101\n",
       "68     99\n",
       "69     85\n",
       "70     65\n",
       "71     58\n",
       "20     51\n",
       "72     33\n",
       "19     14\n",
       "73      8\n",
       "74      6\n",
       "75      1\n",
       "Name: dob_years, dtype: int64"
      ]
     },
     "execution_count": 20,
     "metadata": {},
     "output_type": "execute_result"
    }
   ],
   "source": [
    "data['dob_years'].value_counts()"
   ]
  },
  {
   "cell_type": "markdown",
   "id": "84e7983b",
   "metadata": {},
   "source": [
    "Людей со нулевым значением в столбце `dob_years` около 0.4%, поэтому заменять эти значения не является необходимым действием."
   ]
  },
  {
   "cell_type": "code",
   "execution_count": 21,
   "id": "9d2c7047",
   "metadata": {
    "scrolled": true
   },
   "outputs": [
    {
     "data": {
      "text/plain": [
       "F      14236\n",
       "M       7288\n",
       "XNA        1\n",
       "Name: gender, dtype: int64"
      ]
     },
     "execution_count": 21,
     "metadata": {},
     "output_type": "execute_result"
    }
   ],
   "source": [
    "data['gender'].value_counts()"
   ]
  },
  {
   "cell_type": "markdown",
   "id": "3e3ab6d1",
   "metadata": {},
   "source": [
    "Присутствует одна строка со странным значением, но мы не можем заменить ее, т.к. ее появление мне непонятно и это всего одна строчка во всем датафрейме."
   ]
  },
  {
   "cell_type": "markdown",
   "id": "1a120ea9",
   "metadata": {},
   "source": [
    "### Шаг 2.3. Изменение типов данных."
   ]
  },
  {
   "cell_type": "code",
   "execution_count": 22,
   "id": "7b23e458",
   "metadata": {},
   "outputs": [
    {
     "name": "stdout",
     "output_type": "stream",
     "text": [
      "<class 'pandas.core.frame.DataFrame'>\n",
      "RangeIndex: 21525 entries, 0 to 21524\n",
      "Data columns (total 12 columns):\n",
      " #   Column            Non-Null Count  Dtype \n",
      "---  ------            --------------  ----- \n",
      " 0   children          21525 non-null  int64 \n",
      " 1   days_employed     21525 non-null  int64 \n",
      " 2   dob_years         21525 non-null  int64 \n",
      " 3   education         21525 non-null  object\n",
      " 4   education_id      21525 non-null  int64 \n",
      " 5   family_status     21525 non-null  object\n",
      " 6   family_status_id  21525 non-null  int64 \n",
      " 7   gender            21525 non-null  object\n",
      " 8   income_type       21525 non-null  object\n",
      " 9   debt              21525 non-null  int64 \n",
      " 10  total_income      21525 non-null  int64 \n",
      " 11  purpose           21525 non-null  object\n",
      "dtypes: int64(7), object(5)\n",
      "memory usage: 2.0+ MB\n"
     ]
    },
    {
     "data": {
      "text/html": [
       "<div>\n",
       "<style scoped>\n",
       "    .dataframe tbody tr th:only-of-type {\n",
       "        vertical-align: middle;\n",
       "    }\n",
       "\n",
       "    .dataframe tbody tr th {\n",
       "        vertical-align: top;\n",
       "    }\n",
       "\n",
       "    .dataframe thead th {\n",
       "        text-align: right;\n",
       "    }\n",
       "</style>\n",
       "<table border=\"1\" class=\"dataframe\">\n",
       "  <thead>\n",
       "    <tr style=\"text-align: right;\">\n",
       "      <th></th>\n",
       "      <th>children</th>\n",
       "      <th>days_employed</th>\n",
       "      <th>dob_years</th>\n",
       "      <th>education</th>\n",
       "      <th>education_id</th>\n",
       "      <th>family_status</th>\n",
       "      <th>family_status_id</th>\n",
       "      <th>gender</th>\n",
       "      <th>income_type</th>\n",
       "      <th>debt</th>\n",
       "      <th>total_income</th>\n",
       "      <th>purpose</th>\n",
       "    </tr>\n",
       "  </thead>\n",
       "  <tbody>\n",
       "    <tr>\n",
       "      <th>0</th>\n",
       "      <td>1</td>\n",
       "      <td>8437</td>\n",
       "      <td>42</td>\n",
       "      <td>высшее</td>\n",
       "      <td>0</td>\n",
       "      <td>женат / замужем</td>\n",
       "      <td>0</td>\n",
       "      <td>F</td>\n",
       "      <td>сотрудник</td>\n",
       "      <td>0</td>\n",
       "      <td>253875</td>\n",
       "      <td>покупка жилья</td>\n",
       "    </tr>\n",
       "    <tr>\n",
       "      <th>1</th>\n",
       "      <td>1</td>\n",
       "      <td>4024</td>\n",
       "      <td>36</td>\n",
       "      <td>среднее</td>\n",
       "      <td>1</td>\n",
       "      <td>женат / замужем</td>\n",
       "      <td>0</td>\n",
       "      <td>F</td>\n",
       "      <td>сотрудник</td>\n",
       "      <td>0</td>\n",
       "      <td>112080</td>\n",
       "      <td>приобретение автомобиля</td>\n",
       "    </tr>\n",
       "    <tr>\n",
       "      <th>2</th>\n",
       "      <td>0</td>\n",
       "      <td>5623</td>\n",
       "      <td>33</td>\n",
       "      <td>Среднее</td>\n",
       "      <td>1</td>\n",
       "      <td>женат / замужем</td>\n",
       "      <td>0</td>\n",
       "      <td>M</td>\n",
       "      <td>сотрудник</td>\n",
       "      <td>0</td>\n",
       "      <td>145885</td>\n",
       "      <td>покупка жилья</td>\n",
       "    </tr>\n",
       "    <tr>\n",
       "      <th>3</th>\n",
       "      <td>3</td>\n",
       "      <td>4124</td>\n",
       "      <td>32</td>\n",
       "      <td>среднее</td>\n",
       "      <td>1</td>\n",
       "      <td>женат / замужем</td>\n",
       "      <td>0</td>\n",
       "      <td>M</td>\n",
       "      <td>сотрудник</td>\n",
       "      <td>0</td>\n",
       "      <td>267628</td>\n",
       "      <td>дополнительное образование</td>\n",
       "    </tr>\n",
       "    <tr>\n",
       "      <th>4</th>\n",
       "      <td>0</td>\n",
       "      <td>340266</td>\n",
       "      <td>53</td>\n",
       "      <td>среднее</td>\n",
       "      <td>1</td>\n",
       "      <td>гражданский брак</td>\n",
       "      <td>1</td>\n",
       "      <td>F</td>\n",
       "      <td>пенсионер</td>\n",
       "      <td>0</td>\n",
       "      <td>158616</td>\n",
       "      <td>сыграть свадьбу</td>\n",
       "    </tr>\n",
       "  </tbody>\n",
       "</table>\n",
       "</div>"
      ],
      "text/plain": [
       "   children  days_employed  dob_years education  education_id  \\\n",
       "0         1           8437         42    высшее             0   \n",
       "1         1           4024         36   среднее             1   \n",
       "2         0           5623         33   Среднее             1   \n",
       "3         3           4124         32   среднее             1   \n",
       "4         0         340266         53   среднее             1   \n",
       "\n",
       "      family_status  family_status_id gender income_type  debt  total_income  \\\n",
       "0   женат / замужем                 0      F   сотрудник     0        253875   \n",
       "1   женат / замужем                 0      F   сотрудник     0        112080   \n",
       "2   женат / замужем                 0      M   сотрудник     0        145885   \n",
       "3   женат / замужем                 0      M   сотрудник     0        267628   \n",
       "4  гражданский брак                 1      F   пенсионер     0        158616   \n",
       "\n",
       "                      purpose  \n",
       "0               покупка жилья  \n",
       "1     приобретение автомобиля  \n",
       "2               покупка жилья  \n",
       "3  дополнительное образование  \n",
       "4             сыграть свадьбу  "
      ]
     },
     "execution_count": 22,
     "metadata": {},
     "output_type": "execute_result"
    }
   ],
   "source": [
    "data['total_income'] = data['total_income'].astype('int') #преобразуем тип данных\n",
    "data['days_employed'] = data['days_employed'].astype('int')\n",
    "data.info()\n",
    "data.head()"
   ]
  },
  {
   "cell_type": "markdown",
   "id": "da5c1da4",
   "metadata": {},
   "source": [
    "Теперь эти столбцы содержат тип данных int64 и не имеют пропусков. Можно двигаться дальше."
   ]
  },
  {
   "cell_type": "markdown",
   "id": "3210e2d4",
   "metadata": {},
   "source": [
    "### Шаг 2.4. Удаление дубликатов."
   ]
  },
  {
   "cell_type": "markdown",
   "id": "ff3c41e6",
   "metadata": {},
   "source": [
    "Займемся обработкой неявных дубликатов. Изменим регистр значений на нижний в столбце `education`."
   ]
  },
  {
   "cell_type": "code",
   "execution_count": 23,
   "id": "7fda846b",
   "metadata": {
    "scrolled": true
   },
   "outputs": [],
   "source": [
    "data['education'] = data['education'].str.lower() #изменяем на нижний регистр, т.к. в этом проблема этих данных"
   ]
  },
  {
   "cell_type": "markdown",
   "id": "03940601",
   "metadata": {},
   "source": [
    "Cтоит проверить наличие явных дубликатов."
   ]
  },
  {
   "cell_type": "code",
   "execution_count": 24,
   "id": "bbdb24e8",
   "metadata": {},
   "outputs": [
    {
     "data": {
      "text/plain": [
       "71"
      ]
     },
     "execution_count": 24,
     "metadata": {},
     "output_type": "execute_result"
    }
   ],
   "source": [
    "data.duplicated().sum() #считаем количество явных дубликатов"
   ]
  },
  {
   "cell_type": "markdown",
   "id": "3f431180",
   "metadata": {},
   "source": [
    "71 строк-дубликатов. 0.3% от всей таблицы, поэтому можно их просто удалить."
   ]
  },
  {
   "cell_type": "code",
   "execution_count": 25,
   "id": "a7ca9017",
   "metadata": {},
   "outputs": [
    {
     "data": {
      "text/plain": [
       "0"
      ]
     },
     "execution_count": 25,
     "metadata": {},
     "output_type": "execute_result"
    }
   ],
   "source": [
    "data = data.drop_duplicates() #удаляем явные дубликаты\n",
    "data.duplicated().sum() #проверяем наличие явных дубликатов"
   ]
  },
  {
   "cell_type": "markdown",
   "id": "d233cf7b",
   "metadata": {},
   "source": [
    "С явными и неявными дубликатами разобрались. Проверяем уникальные значения столбца 'education'."
   ]
  },
  {
   "cell_type": "code",
   "execution_count": 26,
   "id": "4a814c22",
   "metadata": {},
   "outputs": [
    {
     "data": {
      "text/plain": [
       "array(['высшее', 'среднее', 'неоконченное высшее', 'начальное',\n",
       "       'ученая степень'], dtype=object)"
      ]
     },
     "execution_count": 26,
     "metadata": {},
     "output_type": "execute_result"
    }
   ],
   "source": [
    "data['education'].unique() #проверка"
   ]
  },
  {
   "cell_type": "markdown",
   "id": "bae6f50e",
   "metadata": {},
   "source": [
    "Также можно заменить значения в столбце `family_status`, т.к. одно значение начинается с большой буквы"
   ]
  },
  {
   "cell_type": "code",
   "execution_count": 27,
   "id": "c758019f",
   "metadata": {
    "scrolled": true
   },
   "outputs": [
    {
     "data": {
      "text/plain": [
       "array(['женат / замужем', 'гражданский брак', 'вдовец / вдова',\n",
       "       'в разводе', 'Не женат / не замужем'], dtype=object)"
      ]
     },
     "execution_count": 27,
     "metadata": {},
     "output_type": "execute_result"
    }
   ],
   "source": [
    "data['family_status'].unique()"
   ]
  },
  {
   "cell_type": "code",
   "execution_count": 28,
   "id": "94644ada",
   "metadata": {},
   "outputs": [
    {
     "data": {
      "text/plain": [
       "array(['женат / замужем', 'гражданский брак', 'вдовец / вдова',\n",
       "       'в разводе', 'не женат / не замужем'], dtype=object)"
      ]
     },
     "execution_count": 28,
     "metadata": {},
     "output_type": "execute_result"
    }
   ],
   "source": [
    "data['family_status'] = data['family_status'].str.lower()\n",
    "data['family_status'].unique()"
   ]
  },
  {
   "cell_type": "markdown",
   "id": "05294239",
   "metadata": {},
   "source": [
    "Исходные неявные дубликаты были заменены. Вероятно, они заполнялись разными людьми, не имеющих четкой инструкции к заполнению, оттого возникли разные варианты написания."
   ]
  },
  {
   "cell_type": "markdown",
   "id": "c8fb50d3",
   "metadata": {},
   "source": [
    "### Шаг 2.5. Формирование дополнительных датафреймов словарей, декомпозиция исходного датафрейма."
   ]
  },
  {
   "cell_type": "markdown",
   "id": "be5bd0ea",
   "metadata": {},
   "source": [
    "Теперь можно соотнести столбец 'education' и 'education_id, 'family_status' и 'family_status_id', чтобы в дальнейшем обращаться только к идентификаторам."
   ]
  },
  {
   "cell_type": "code",
   "execution_count": 29,
   "id": "868eebfc",
   "metadata": {
    "scrolled": true
   },
   "outputs": [
    {
     "data": {
      "text/html": [
       "<div>\n",
       "<style scoped>\n",
       "    .dataframe tbody tr th:only-of-type {\n",
       "        vertical-align: middle;\n",
       "    }\n",
       "\n",
       "    .dataframe tbody tr th {\n",
       "        vertical-align: top;\n",
       "    }\n",
       "\n",
       "    .dataframe thead th {\n",
       "        text-align: right;\n",
       "    }\n",
       "</style>\n",
       "<table border=\"1\" class=\"dataframe\">\n",
       "  <thead>\n",
       "    <tr style=\"text-align: right;\">\n",
       "      <th></th>\n",
       "      <th>education</th>\n",
       "      <th>education_id</th>\n",
       "    </tr>\n",
       "  </thead>\n",
       "  <tbody>\n",
       "    <tr>\n",
       "      <th>0</th>\n",
       "      <td>высшее</td>\n",
       "      <td>0</td>\n",
       "    </tr>\n",
       "    <tr>\n",
       "      <th>1</th>\n",
       "      <td>среднее</td>\n",
       "      <td>1</td>\n",
       "    </tr>\n",
       "    <tr>\n",
       "      <th>2</th>\n",
       "      <td>неоконченное высшее</td>\n",
       "      <td>2</td>\n",
       "    </tr>\n",
       "    <tr>\n",
       "      <th>3</th>\n",
       "      <td>начальное</td>\n",
       "      <td>3</td>\n",
       "    </tr>\n",
       "    <tr>\n",
       "      <th>4</th>\n",
       "      <td>ученая степень</td>\n",
       "      <td>4</td>\n",
       "    </tr>\n",
       "  </tbody>\n",
       "</table>\n",
       "</div>"
      ],
      "text/plain": [
       "             education  education_id\n",
       "0               высшее             0\n",
       "1              среднее             1\n",
       "2  неоконченное высшее             2\n",
       "3            начальное             3\n",
       "4       ученая степень             4"
      ]
     },
     "execution_count": 29,
     "metadata": {},
     "output_type": "execute_result"
    }
   ],
   "source": [
    "education_log = data[['education', 'education_id']] #создаем датафрейм по двум столбцам\n",
    "education_log.drop_duplicates().reset_index(drop=True) #удаляем дубликаты"
   ]
  },
  {
   "cell_type": "markdown",
   "id": "167872ee",
   "metadata": {},
   "source": [
    "Таким образом, становится ясно, что идентификатор 0 обозначает высшее образование, 1 — среднее, 2 — неоконченное высшее, 3 — начальное, 4 — ученая степень. Мы можем удалить столбец 'education' из таблицы и обращаться к этим значениям по идентификатору."
   ]
  },
  {
   "cell_type": "code",
   "execution_count": 30,
   "id": "465ed875",
   "metadata": {},
   "outputs": [],
   "source": [
    "del data['education'] #удаляем столбец"
   ]
  },
  {
   "cell_type": "markdown",
   "id": "8b909add",
   "metadata": {},
   "source": [
    "Переходим к столбцам 'family_status' и 'family_status_id'."
   ]
  },
  {
   "cell_type": "code",
   "execution_count": 31,
   "id": "1339a9e3",
   "metadata": {},
   "outputs": [
    {
     "data": {
      "text/html": [
       "<div>\n",
       "<style scoped>\n",
       "    .dataframe tbody tr th:only-of-type {\n",
       "        vertical-align: middle;\n",
       "    }\n",
       "\n",
       "    .dataframe tbody tr th {\n",
       "        vertical-align: top;\n",
       "    }\n",
       "\n",
       "    .dataframe thead th {\n",
       "        text-align: right;\n",
       "    }\n",
       "</style>\n",
       "<table border=\"1\" class=\"dataframe\">\n",
       "  <thead>\n",
       "    <tr style=\"text-align: right;\">\n",
       "      <th></th>\n",
       "      <th>family_status</th>\n",
       "      <th>family_status_id</th>\n",
       "    </tr>\n",
       "  </thead>\n",
       "  <tbody>\n",
       "    <tr>\n",
       "      <th>0</th>\n",
       "      <td>женат / замужем</td>\n",
       "      <td>0</td>\n",
       "    </tr>\n",
       "    <tr>\n",
       "      <th>1</th>\n",
       "      <td>гражданский брак</td>\n",
       "      <td>1</td>\n",
       "    </tr>\n",
       "    <tr>\n",
       "      <th>2</th>\n",
       "      <td>вдовец / вдова</td>\n",
       "      <td>2</td>\n",
       "    </tr>\n",
       "    <tr>\n",
       "      <th>3</th>\n",
       "      <td>в разводе</td>\n",
       "      <td>3</td>\n",
       "    </tr>\n",
       "    <tr>\n",
       "      <th>4</th>\n",
       "      <td>не женат / не замужем</td>\n",
       "      <td>4</td>\n",
       "    </tr>\n",
       "  </tbody>\n",
       "</table>\n",
       "</div>"
      ],
      "text/plain": [
       "           family_status  family_status_id\n",
       "0        женат / замужем                 0\n",
       "1       гражданский брак                 1\n",
       "2         вдовец / вдова                 2\n",
       "3              в разводе                 3\n",
       "4  не женат / не замужем                 4"
      ]
     },
     "execution_count": 31,
     "metadata": {},
     "output_type": "execute_result"
    }
   ],
   "source": [
    "family_log = data[['family_status', 'family_status_id']] #создаем датафрейм по двум столбцам\n",
    "family_log.drop_duplicates().reset_index(drop=True) #удаляем дубликаты"
   ]
  },
  {
   "cell_type": "markdown",
   "id": "32fbdb7b",
   "metadata": {},
   "source": [
    "Приходим к выводу, что 0 — женат/замужем, 1 — гражданский брак, 2 — вдовец/вдова, 3 — в разводе, 4 — не женат/не замужем. Мы можем удалить столбец 'family_status' из таблицы и обращаться к этим значениям по идентификатору."
   ]
  },
  {
   "cell_type": "code",
   "execution_count": 32,
   "id": "dc2c4c92",
   "metadata": {},
   "outputs": [],
   "source": [
    "del data['family_status'] #удаляем столбец"
   ]
  },
  {
   "cell_type": "markdown",
   "id": "9d8d078a",
   "metadata": {},
   "source": [
    "### Шаг 2.6. Категоризация дохода."
   ]
  },
  {
   "cell_type": "markdown",
   "id": "f950ff30",
   "metadata": {},
   "source": [
    "Доходы можно категоризировать следующим образом:\n",
    "* 0–30000 — 'E';\n",
    "* 30001–50000 — 'D';\n",
    "* 50001–200000 — 'C';\n",
    "* 200001–1000000 — 'B';\n",
    "* 1000001 и выше — 'A'."
   ]
  },
  {
   "cell_type": "code",
   "execution_count": 33,
   "id": "b060825d",
   "metadata": {
    "scrolled": true
   },
   "outputs": [],
   "source": [
    "def income_cat(money): #создаем функцию для разбивки по категориям\n",
    "    if money<=30000:\n",
    "        return 'E'\n",
    "    elif 30001<=money<=50000:\n",
    "        return 'D'\n",
    "    elif 50001<=money<=200000:\n",
    "        return 'C'\n",
    "    elif 200001<=money<=1000000:\n",
    "        return 'B'\n",
    "    elif money>=1000001:\n",
    "        return 'A'\n",
    "data['total_income_category']=data['total_income'].apply(income_cat) #создаем новый столбец в датафрейме"
   ]
  },
  {
   "cell_type": "markdown",
   "id": "ca8f32bc",
   "metadata": {},
   "source": [
    "### Шаг 2.7. Категоризация целей кредита."
   ]
  },
  {
   "cell_type": "markdown",
   "id": "2acdb216",
   "metadata": {},
   "source": [
    "Выведем уникальные данные столбца `purpose` для того, чтобы категоризировать значения."
   ]
  },
  {
   "cell_type": "code",
   "execution_count": 34,
   "id": "a834d0ba",
   "metadata": {
    "scrolled": true
   },
   "outputs": [
    {
     "data": {
      "text/plain": [
       "array(['покупка жилья', 'приобретение автомобиля',\n",
       "       'дополнительное образование', 'сыграть свадьбу',\n",
       "       'операции с жильем', 'образование', 'на проведение свадьбы',\n",
       "       'покупка жилья для семьи', 'покупка недвижимости',\n",
       "       'покупка коммерческой недвижимости', 'покупка жилой недвижимости',\n",
       "       'строительство собственной недвижимости', 'недвижимость',\n",
       "       'строительство недвижимости', 'на покупку подержанного автомобиля',\n",
       "       'на покупку своего автомобиля',\n",
       "       'операции с коммерческой недвижимостью',\n",
       "       'строительство жилой недвижимости', 'жилье',\n",
       "       'операции со своей недвижимостью', 'автомобили',\n",
       "       'заняться образованием', 'сделка с подержанным автомобилем',\n",
       "       'получение образования', 'автомобиль', 'свадьба',\n",
       "       'получение дополнительного образования', 'покупка своего жилья',\n",
       "       'операции с недвижимостью', 'получение высшего образования',\n",
       "       'свой автомобиль', 'сделка с автомобилем',\n",
       "       'профильное образование', 'высшее образование',\n",
       "       'покупка жилья для сдачи', 'на покупку автомобиля', 'ремонт жилью',\n",
       "       'заняться высшим образованием'], dtype=object)"
      ]
     },
     "execution_count": 34,
     "metadata": {},
     "output_type": "execute_result"
    }
   ],
   "source": [
    "data['purpose'].unique()"
   ]
  },
  {
   "cell_type": "markdown",
   "id": "6953f45b",
   "metadata": {},
   "source": [
    "Cформируем новый столбец `purpose_category`, в который войдут следующие категории:\n",
    "* 'операции с автомобилем',\n",
    "* 'операции с недвижимостью',\n",
    "* 'проведение свадьбы',\n",
    "* 'получение образования'."
   ]
  },
  {
   "cell_type": "code",
   "execution_count": 35,
   "id": "b0c82c70",
   "metadata": {},
   "outputs": [],
   "source": [
    "def purpose_cat(purpose): #создаем функцию для категоризации\n",
    "    if 'авто' in purpose:\n",
    "        return 'операции с автомобилем'\n",
    "    if 'жиль' in purpose or 'недвижимост' in purpose:\n",
    "        return 'операции с недвижимостью'\n",
    "    if 'свадьб' in purpose:\n",
    "        return 'проведение свадьбы'\n",
    "    if 'образовани' in purpose:\n",
    "        return 'получение образования'\n",
    "data['purpose_category']=data['purpose'].apply(purpose_cat) #создаем новый столбец в датафрейме"
   ]
  },
  {
   "cell_type": "markdown",
   "id": "81e28703",
   "metadata": {},
   "source": [
    "### Ответы на вопросы."
   ]
  },
  {
   "cell_type": "markdown",
   "id": "f5616046",
   "metadata": {},
   "source": [
    "##### Вопрос 1: Есть ли зависимость между количеством детей и возвратом кредита в срок?"
   ]
  },
  {
   "cell_type": "markdown",
   "id": "9f3afd29",
   "metadata": {},
   "source": [
    "Для начала посчитаем кол-во клиентов без детей и с детьми."
   ]
  },
  {
   "cell_type": "code",
   "execution_count": 36,
   "id": "f7f0b249",
   "metadata": {},
   "outputs": [
    {
     "data": {
      "text/plain": [
       "14091"
      ]
     },
     "execution_count": 36,
     "metadata": {},
     "output_type": "execute_result"
    }
   ],
   "source": [
    "data['children'].loc[data['children']==0].count() #количество клиентов без детей"
   ]
  },
  {
   "cell_type": "code",
   "execution_count": 37,
   "id": "5eff89a1",
   "metadata": {},
   "outputs": [
    {
     "data": {
      "text/plain": [
       "7363"
      ]
     },
     "execution_count": 37,
     "metadata": {},
     "output_type": "execute_result"
    }
   ],
   "source": [
    "data['children'].loc[data['children']!=0].count() #количетсво клиентов с детьми"
   ]
  },
  {
   "cell_type": "markdown",
   "id": "6d55ad11",
   "metadata": {},
   "source": [
    "Таким образом, мы видим, что кол-во клиентов без детей почти в 2 раза превышает кол-во клиентов с детьми. Значит, нужно искать соотношение в процентах, т.к. абсолютные значения не гарантируют нам верный вывод."
   ]
  },
  {
   "cell_type": "code",
   "execution_count": 38,
   "id": "c1538c14",
   "metadata": {},
   "outputs": [
    {
     "data": {
      "text/html": [
       "<div>\n",
       "<style scoped>\n",
       "    .dataframe tbody tr th:only-of-type {\n",
       "        vertical-align: middle;\n",
       "    }\n",
       "\n",
       "    .dataframe tbody tr th {\n",
       "        vertical-align: top;\n",
       "    }\n",
       "\n",
       "    .dataframe thead th {\n",
       "        text-align: right;\n",
       "    }\n",
       "</style>\n",
       "<table border=\"1\" class=\"dataframe\">\n",
       "  <thead>\n",
       "    <tr style=\"text-align: right;\">\n",
       "      <th>debt</th>\n",
       "      <th>0</th>\n",
       "      <th>1</th>\n",
       "    </tr>\n",
       "    <tr>\n",
       "      <th>children</th>\n",
       "      <th></th>\n",
       "      <th></th>\n",
       "    </tr>\n",
       "  </thead>\n",
       "  <tbody>\n",
       "    <tr>\n",
       "      <th>0</th>\n",
       "      <td>13028.0</td>\n",
       "      <td>1063.0</td>\n",
       "    </tr>\n",
       "    <tr>\n",
       "      <th>1</th>\n",
       "      <td>4410.0</td>\n",
       "      <td>445.0</td>\n",
       "    </tr>\n",
       "    <tr>\n",
       "      <th>2</th>\n",
       "      <td>1858.0</td>\n",
       "      <td>194.0</td>\n",
       "    </tr>\n",
       "    <tr>\n",
       "      <th>3</th>\n",
       "      <td>303.0</td>\n",
       "      <td>27.0</td>\n",
       "    </tr>\n",
       "    <tr>\n",
       "      <th>4</th>\n",
       "      <td>37.0</td>\n",
       "      <td>4.0</td>\n",
       "    </tr>\n",
       "    <tr>\n",
       "      <th>5</th>\n",
       "      <td>9.0</td>\n",
       "      <td>NaN</td>\n",
       "    </tr>\n",
       "    <tr>\n",
       "      <th>20</th>\n",
       "      <td>68.0</td>\n",
       "      <td>8.0</td>\n",
       "    </tr>\n",
       "  </tbody>\n",
       "</table>\n",
       "</div>"
      ],
      "text/plain": [
       "debt            0       1\n",
       "children                 \n",
       "0         13028.0  1063.0\n",
       "1          4410.0   445.0\n",
       "2          1858.0   194.0\n",
       "3           303.0    27.0\n",
       "4            37.0     4.0\n",
       "5             9.0     NaN\n",
       "20           68.0     8.0"
      ]
     },
     "execution_count": 38,
     "metadata": {},
     "output_type": "execute_result"
    }
   ],
   "source": [
    "#делаем сводную таблицу для того, чтобы увидеть кол-во должников\n",
    "data_pivot_children = data.pivot_table(index='children', columns='debt', values='total_income', aggfunc='count') \n",
    "data_pivot_children "
   ]
  },
  {
   "cell_type": "code",
   "execution_count": 39,
   "id": "5050366e",
   "metadata": {
    "scrolled": true
   },
   "outputs": [
    {
     "data": {
      "text/plain": [
       "children\n",
       "0      7.543822\n",
       "1      9.165808\n",
       "2      9.454191\n",
       "3      8.181818\n",
       "4      9.756098\n",
       "5           NaN\n",
       "20    10.526316\n",
       "Name: rate, dtype: float64"
      ]
     },
     "execution_count": 39,
     "metadata": {},
     "output_type": "execute_result"
    }
   ],
   "source": [
    "data_pivot_children['total'] = data['children'].value_counts() #создаем столбец тотал\n",
    "data_pivot_children['rate'] = data_pivot_children[1]/data_pivot_children['total'] #создаем столбец рейт, в кот-м узнаем соотношение должников ко всем клиентам\n",
    "data_pivot_children['rate']*100 #умножаем на 100, чтобы получились проценты"
   ]
  },
  {
   "cell_type": "markdown",
   "id": "2950d673",
   "metadata": {},
   "source": [
    "##### Вывод 1:У должников без детей самый маленький процент, соответственно, у них меньше всего долгов. Можно сделать вывод, что отсутствие детей предполагает более вероятное возвращение кредита в срок."
   ]
  },
  {
   "cell_type": "markdown",
   "id": "194ee569",
   "metadata": {},
   "source": [
    "##### Вопрос 2: Есть ли зависимость между семейным положением и возвратом кредита в срок?"
   ]
  },
  {
   "cell_type": "markdown",
   "id": "157acc5a",
   "metadata": {},
   "source": [
    "Идентификаторы семейного статуса: 0 — женат/замужем, 1 — гражданский брак, 2 — вдовец/вдова, 3 — в разводе, 4 — не женат/не замужем"
   ]
  },
  {
   "cell_type": "code",
   "execution_count": 40,
   "id": "151f1a8d",
   "metadata": {
    "scrolled": true
   },
   "outputs": [
    {
     "data": {
      "text/html": [
       "<div>\n",
       "<style scoped>\n",
       "    .dataframe tbody tr th:only-of-type {\n",
       "        vertical-align: middle;\n",
       "    }\n",
       "\n",
       "    .dataframe tbody tr th {\n",
       "        vertical-align: top;\n",
       "    }\n",
       "\n",
       "    .dataframe thead th {\n",
       "        text-align: right;\n",
       "    }\n",
       "</style>\n",
       "<table border=\"1\" class=\"dataframe\">\n",
       "  <thead>\n",
       "    <tr style=\"text-align: right;\">\n",
       "      <th>debt</th>\n",
       "      <th>0</th>\n",
       "      <th>1</th>\n",
       "    </tr>\n",
       "    <tr>\n",
       "      <th>family_status_id</th>\n",
       "      <th></th>\n",
       "      <th></th>\n",
       "    </tr>\n",
       "  </thead>\n",
       "  <tbody>\n",
       "    <tr>\n",
       "      <th>0</th>\n",
       "      <td>11408</td>\n",
       "      <td>931</td>\n",
       "    </tr>\n",
       "    <tr>\n",
       "      <th>1</th>\n",
       "      <td>3763</td>\n",
       "      <td>388</td>\n",
       "    </tr>\n",
       "    <tr>\n",
       "      <th>2</th>\n",
       "      <td>896</td>\n",
       "      <td>63</td>\n",
       "    </tr>\n",
       "    <tr>\n",
       "      <th>3</th>\n",
       "      <td>1110</td>\n",
       "      <td>85</td>\n",
       "    </tr>\n",
       "    <tr>\n",
       "      <th>4</th>\n",
       "      <td>2536</td>\n",
       "      <td>274</td>\n",
       "    </tr>\n",
       "  </tbody>\n",
       "</table>\n",
       "</div>"
      ],
      "text/plain": [
       "debt                  0    1\n",
       "family_status_id            \n",
       "0                 11408  931\n",
       "1                  3763  388\n",
       "2                   896   63\n",
       "3                  1110   85\n",
       "4                  2536  274"
      ]
     },
     "execution_count": 40,
     "metadata": {},
     "output_type": "execute_result"
    }
   ],
   "source": [
    "data_pivot_family = data.pivot_table(index='family_status_id', columns='debt', values='total_income', aggfunc='count')\n",
    "data_pivot_family "
   ]
  },
  {
   "cell_type": "code",
   "execution_count": 41,
   "id": "c28127d0",
   "metadata": {
    "scrolled": false
   },
   "outputs": [
    {
     "data": {
      "text/plain": [
       "family_status_id\n",
       "0    7.545182\n",
       "1    9.347145\n",
       "2    6.569343\n",
       "3    7.112971\n",
       "4    9.750890\n",
       "Name: rate, dtype: float64"
      ]
     },
     "execution_count": 41,
     "metadata": {},
     "output_type": "execute_result"
    }
   ],
   "source": [
    "data_pivot_family['total'] = data['family_status_id'].value_counts()\n",
    "data_pivot_family['rate'] = data_pivot_family[1]/data_pivot_family['total']\n",
    "data_pivot_family['rate']*100"
   ]
  },
  {
   "cell_type": "markdown",
   "id": "7b96a8b5",
   "metadata": {},
   "source": [
    "##### Вывод 2:Идентификатор 2 имеет самый меньший процент, это означает, что категория вдовцы/вдовы имеет меньше всего долгов, в то время как неженатые/незамужние и люди в гражданском браке имеют больше всего долгов. Можно сделать вывод, что наиболее надежными клиентами являются вдовцы/вдовы, женатые/замужние и люди в разводе."
   ]
  },
  {
   "cell_type": "markdown",
   "id": "11d0fe33",
   "metadata": {},
   "source": [
    "##### Вопрос 3:Есть ли зависимость между уровнем дохода и возвратом кредита в срок?"
   ]
  },
  {
   "cell_type": "markdown",
   "id": "916c3c56",
   "metadata": {},
   "source": [
    "Категории дохода:\n",
    "* 0–30000 — 'E';\n",
    "* 30001–50000 — 'D';\n",
    "* 50001–200000 — 'C';\n",
    "* 200001–1000000 — 'B';\n",
    "* 1000001 и выше — 'A'."
   ]
  },
  {
   "cell_type": "code",
   "execution_count": 42,
   "id": "f4b9ded6",
   "metadata": {
    "scrolled": true
   },
   "outputs": [
    {
     "data": {
      "text/html": [
       "<div>\n",
       "<style scoped>\n",
       "    .dataframe tbody tr th:only-of-type {\n",
       "        vertical-align: middle;\n",
       "    }\n",
       "\n",
       "    .dataframe tbody tr th {\n",
       "        vertical-align: top;\n",
       "    }\n",
       "\n",
       "    .dataframe thead th {\n",
       "        text-align: right;\n",
       "    }\n",
       "</style>\n",
       "<table border=\"1\" class=\"dataframe\">\n",
       "  <thead>\n",
       "    <tr style=\"text-align: right;\">\n",
       "      <th>debt</th>\n",
       "      <th>0</th>\n",
       "      <th>1</th>\n",
       "    </tr>\n",
       "    <tr>\n",
       "      <th>total_income_category</th>\n",
       "      <th></th>\n",
       "      <th></th>\n",
       "    </tr>\n",
       "  </thead>\n",
       "  <tbody>\n",
       "    <tr>\n",
       "      <th>A</th>\n",
       "      <td>23</td>\n",
       "      <td>2</td>\n",
       "    </tr>\n",
       "    <tr>\n",
       "      <th>B</th>\n",
       "      <td>4685</td>\n",
       "      <td>356</td>\n",
       "    </tr>\n",
       "    <tr>\n",
       "      <th>C</th>\n",
       "      <td>14656</td>\n",
       "      <td>1360</td>\n",
       "    </tr>\n",
       "    <tr>\n",
       "      <th>D</th>\n",
       "      <td>329</td>\n",
       "      <td>21</td>\n",
       "    </tr>\n",
       "    <tr>\n",
       "      <th>E</th>\n",
       "      <td>20</td>\n",
       "      <td>2</td>\n",
       "    </tr>\n",
       "  </tbody>\n",
       "</table>\n",
       "</div>"
      ],
      "text/plain": [
       "debt                       0     1\n",
       "total_income_category             \n",
       "A                         23     2\n",
       "B                       4685   356\n",
       "C                      14656  1360\n",
       "D                        329    21\n",
       "E                         20     2"
      ]
     },
     "execution_count": 42,
     "metadata": {},
     "output_type": "execute_result"
    }
   ],
   "source": [
    "data_pivot_income = data.pivot_table(index='total_income_category', columns='debt', values='total_income', aggfunc='count')\n",
    "data_pivot_income "
   ]
  },
  {
   "cell_type": "code",
   "execution_count": 43,
   "id": "d738626b",
   "metadata": {
    "scrolled": true
   },
   "outputs": [
    {
     "data": {
      "text/plain": [
       "total_income_category\n",
       "A    8.000000\n",
       "B    7.062091\n",
       "C    8.491508\n",
       "D    6.000000\n",
       "E    9.090909\n",
       "Name: rate, dtype: float64"
      ]
     },
     "execution_count": 43,
     "metadata": {},
     "output_type": "execute_result"
    }
   ],
   "source": [
    "data_pivot_income['total'] = data['total_income_category'].value_counts()\n",
    "data_pivot_income['rate'] = data_pivot_income[1]/data_pivot_income['total']\n",
    "data_pivot_income['rate']*100"
   ]
  },
  {
   "cell_type": "markdown",
   "id": "b17542fe",
   "metadata": {},
   "source": [
    "##### Вывод 3:Клиенты с доходами от 30000 до 50000 имеют меньше всего задолженностей, в то время как группа с доходностью меньше 30000 - больше всего. Также и клиенты с доходами больше миллиона и от 50000 до 200000 имеют высокий процент задолженностей. Возможно, это связано с тем, что людей в этих категориях около 20, поэтому даже 2 человека дают высокий процент."
   ]
  },
  {
   "cell_type": "markdown",
   "id": "15e2bcd8",
   "metadata": {},
   "source": [
    "##### Вопрос 4:Как разные цели кредита влияют на его возврат в срок?"
   ]
  },
  {
   "cell_type": "code",
   "execution_count": 44,
   "id": "b83a3bdd",
   "metadata": {
    "scrolled": true
   },
   "outputs": [
    {
     "data": {
      "text/html": [
       "<div>\n",
       "<style scoped>\n",
       "    .dataframe tbody tr th:only-of-type {\n",
       "        vertical-align: middle;\n",
       "    }\n",
       "\n",
       "    .dataframe tbody tr th {\n",
       "        vertical-align: top;\n",
       "    }\n",
       "\n",
       "    .dataframe thead th {\n",
       "        text-align: right;\n",
       "    }\n",
       "</style>\n",
       "<table border=\"1\" class=\"dataframe\">\n",
       "  <thead>\n",
       "    <tr style=\"text-align: right;\">\n",
       "      <th>debt</th>\n",
       "      <th>0</th>\n",
       "      <th>1</th>\n",
       "    </tr>\n",
       "    <tr>\n",
       "      <th>purpose_category</th>\n",
       "      <th></th>\n",
       "      <th></th>\n",
       "    </tr>\n",
       "  </thead>\n",
       "  <tbody>\n",
       "    <tr>\n",
       "      <th>операции с автомобилем</th>\n",
       "      <td>3903</td>\n",
       "      <td>403</td>\n",
       "    </tr>\n",
       "    <tr>\n",
       "      <th>операции с недвижимостью</th>\n",
       "      <td>10029</td>\n",
       "      <td>782</td>\n",
       "    </tr>\n",
       "    <tr>\n",
       "      <th>получение образования</th>\n",
       "      <td>3643</td>\n",
       "      <td>370</td>\n",
       "    </tr>\n",
       "    <tr>\n",
       "      <th>проведение свадьбы</th>\n",
       "      <td>2138</td>\n",
       "      <td>186</td>\n",
       "    </tr>\n",
       "  </tbody>\n",
       "</table>\n",
       "</div>"
      ],
      "text/plain": [
       "debt                          0    1\n",
       "purpose_category                    \n",
       "операции с автомобилем     3903  403\n",
       "операции с недвижимостью  10029  782\n",
       "получение образования      3643  370\n",
       "проведение свадьбы         2138  186"
      ]
     },
     "execution_count": 44,
     "metadata": {},
     "output_type": "execute_result"
    }
   ],
   "source": [
    "data_pivot_purpose = data.pivot_table(index='purpose_category', columns='debt', values='total_income', aggfunc='count')\n",
    "data_pivot_purpose "
   ]
  },
  {
   "cell_type": "code",
   "execution_count": 45,
   "id": "1058a2a1",
   "metadata": {
    "scrolled": true
   },
   "outputs": [
    {
     "data": {
      "text/plain": [
       "purpose_category\n",
       "операции с автомобилем      9.359034\n",
       "операции с недвижимостью    7.233373\n",
       "получение образования       9.220035\n",
       "проведение свадьбы          8.003442\n",
       "Name: rate, dtype: float64"
      ]
     },
     "execution_count": 45,
     "metadata": {},
     "output_type": "execute_result"
    }
   ],
   "source": [
    "data_pivot_purpose['total'] = data['purpose_category'].value_counts()\n",
    "data_pivot_purpose['rate'] = data_pivot_purpose[1]/data_pivot_purpose['total']\n",
    "data_pivot_purpose['rate']*100"
   ]
  },
  {
   "cell_type": "markdown",
   "id": "9e53a2ca",
   "metadata": {},
   "source": [
    "##### Вывод 4: Больше всего долгов имеют люди, взявшие кредит для операций с автомобилем и получением образования, меньше всего - для операций с недвижимостью. "
   ]
  },
  {
   "cell_type": "markdown",
   "id": "af5eaece",
   "metadata": {},
   "source": [
    "## Общий вывод:"
   ]
  },
  {
   "cell_type": "markdown",
   "id": "8bfe61f9",
   "metadata": {},
   "source": [
    "Таким образом, среди надежных клиентов можно выделить следующие группы:\n",
    "* бездетные (7.5% должников)\n",
    "* вдовцы/вдовы, женатые/замужние, люди в разводе (6.5-7.5%)\n",
    "* доходность от 30000 до 50000 (6%)\n",
    "* кредит для операций с недвижимостью (7.2%)\n",
    "\n",
    "Следующие группы людей показали себя как ненадежные клиенты:\n",
    "* с детьми (8-10.5%)\n",
    "* неженатые/незамужние (9.7%)\n",
    "* доходы меньше 30000/доходы больше 1000000/доходы от 50000 до 200000 (8-9%)\n",
    "* кредит для операций с автомобилем/получения образования (9.3%)"
   ]
  }
 ],
 "metadata": {
  "ExecuteTimeLog": [
   {
    "duration": 779,
    "start_time": "2022-03-08T19:28:39.978Z"
   },
   {
    "duration": 74,
    "start_time": "2022-03-08T19:29:24.722Z"
   },
   {
    "duration": 71,
    "start_time": "2022-03-08T19:32:38.866Z"
   },
   {
    "duration": 74,
    "start_time": "2022-03-08T19:33:44.692Z"
   },
   {
    "duration": 70,
    "start_time": "2022-03-08T19:39:44.517Z"
   },
   {
    "duration": 69,
    "start_time": "2022-03-09T08:38:57.770Z"
   },
   {
    "duration": 16,
    "start_time": "2022-03-09T08:40:14.945Z"
   },
   {
    "duration": 70,
    "start_time": "2022-03-09T09:50:49.711Z"
   },
   {
    "duration": 68,
    "start_time": "2022-03-09T09:50:55.485Z"
   },
   {
    "duration": 69,
    "start_time": "2022-03-09T09:53:07.936Z"
   },
   {
    "duration": 70,
    "start_time": "2022-03-09T09:55:38.395Z"
   },
   {
    "duration": 74,
    "start_time": "2022-03-09T09:55:44.498Z"
   },
   {
    "duration": 98,
    "start_time": "2022-03-09T09:55:53.398Z"
   },
   {
    "duration": 799,
    "start_time": "2022-03-09T10:24:53.365Z"
   },
   {
    "duration": 16,
    "start_time": "2022-03-09T10:24:54.167Z"
   },
   {
    "duration": 74,
    "start_time": "2022-03-09T11:33:04.802Z"
   },
   {
    "duration": 13,
    "start_time": "2022-03-09T11:34:52.993Z"
   },
   {
    "duration": 8,
    "start_time": "2022-03-09T11:48:21.897Z"
   },
   {
    "duration": 24,
    "start_time": "2022-03-09T11:48:46.216Z"
   },
   {
    "duration": 25,
    "start_time": "2022-03-09T11:48:52.335Z"
   },
   {
    "duration": 8,
    "start_time": "2022-03-09T11:49:19.791Z"
   },
   {
    "duration": 17,
    "start_time": "2022-03-09T11:57:46.247Z"
   },
   {
    "duration": 790,
    "start_time": "2022-03-09T12:00:58.108Z"
   },
   {
    "duration": 15,
    "start_time": "2022-03-09T12:00:58.901Z"
   },
   {
    "duration": 32,
    "start_time": "2022-03-09T12:00:58.919Z"
   },
   {
    "duration": 7,
    "start_time": "2022-03-09T12:00:58.954Z"
   },
   {
    "duration": 19,
    "start_time": "2022-03-09T12:00:58.963Z"
   },
   {
    "duration": 12,
    "start_time": "2022-03-09T12:00:58.984Z"
   },
   {
    "duration": 25,
    "start_time": "2022-03-09T12:01:16.080Z"
   },
   {
    "duration": 10,
    "start_time": "2022-03-09T12:01:48.891Z"
   },
   {
    "duration": 20,
    "start_time": "2022-03-09T12:04:14.318Z"
   },
   {
    "duration": 32,
    "start_time": "2022-03-09T12:04:26.623Z"
   },
   {
    "duration": 17,
    "start_time": "2022-03-09T12:08:36.646Z"
   },
   {
    "duration": 9,
    "start_time": "2022-03-09T12:09:40.608Z"
   },
   {
    "duration": 29,
    "start_time": "2022-03-09T12:10:38.812Z"
   },
   {
    "duration": 1081,
    "start_time": "2022-03-09T12:12:45.477Z"
   },
   {
    "duration": 23,
    "start_time": "2022-03-09T12:12:46.561Z"
   },
   {
    "duration": 17,
    "start_time": "2022-03-09T12:12:46.588Z"
   },
   {
    "duration": 47,
    "start_time": "2022-03-09T12:12:46.608Z"
   },
   {
    "duration": 26,
    "start_time": "2022-03-09T12:12:46.658Z"
   },
   {
    "duration": 10,
    "start_time": "2022-03-09T12:12:46.686Z"
   },
   {
    "duration": 83,
    "start_time": "2022-03-09T12:12:46.699Z"
   },
   {
    "duration": 22,
    "start_time": "2022-03-09T12:15:55.507Z"
   },
   {
    "duration": 33,
    "start_time": "2022-03-09T12:18:23.684Z"
   },
   {
    "duration": 42,
    "start_time": "2022-03-09T12:19:38.295Z"
   },
   {
    "duration": 6,
    "start_time": "2022-03-09T12:22:06.433Z"
   },
   {
    "duration": 10,
    "start_time": "2022-03-09T12:22:35.479Z"
   },
   {
    "duration": 23,
    "start_time": "2022-03-09T12:27:39.723Z"
   },
   {
    "duration": 30,
    "start_time": "2022-03-09T12:27:50.238Z"
   },
   {
    "duration": 9,
    "start_time": "2022-03-09T12:28:11.833Z"
   },
   {
    "duration": 13,
    "start_time": "2022-03-09T12:29:29.144Z"
   },
   {
    "duration": 17,
    "start_time": "2022-03-09T12:31:15.681Z"
   },
   {
    "duration": 27,
    "start_time": "2022-03-09T12:32:22.470Z"
   },
   {
    "duration": 45,
    "start_time": "2022-03-09T12:33:52.828Z"
   },
   {
    "duration": 73,
    "start_time": "2022-03-09T12:39:20.095Z"
   },
   {
    "duration": 14,
    "start_time": "2022-03-09T12:39:20.171Z"
   },
   {
    "duration": 12,
    "start_time": "2022-03-09T12:39:20.188Z"
   },
   {
    "duration": 8,
    "start_time": "2022-03-09T12:39:20.203Z"
   },
   {
    "duration": 57,
    "start_time": "2022-03-09T12:39:20.213Z"
   },
   {
    "duration": 11,
    "start_time": "2022-03-09T12:39:20.273Z"
   },
   {
    "duration": 69,
    "start_time": "2022-03-09T12:39:20.286Z"
   },
   {
    "duration": 22,
    "start_time": "2022-03-09T12:39:20.360Z"
   },
   {
    "duration": 72,
    "start_time": "2022-03-09T12:39:20.385Z"
   },
   {
    "duration": 7,
    "start_time": "2022-03-09T12:39:20.459Z"
   },
   {
    "duration": 7,
    "start_time": "2022-03-09T12:39:20.468Z"
   },
   {
    "duration": 439,
    "start_time": "2022-03-09T12:40:10.783Z"
   },
   {
    "duration": 812,
    "start_time": "2022-03-09T12:40:35.864Z"
   },
   {
    "duration": 24,
    "start_time": "2022-03-09T12:40:36.680Z"
   },
   {
    "duration": 43,
    "start_time": "2022-03-09T12:40:36.713Z"
   },
   {
    "duration": 10,
    "start_time": "2022-03-09T12:40:36.760Z"
   },
   {
    "duration": 23,
    "start_time": "2022-03-09T12:40:36.773Z"
   },
   {
    "duration": 13,
    "start_time": "2022-03-09T12:40:36.799Z"
   },
   {
    "duration": 71,
    "start_time": "2022-03-09T12:40:36.816Z"
   },
   {
    "duration": 23,
    "start_time": "2022-03-09T12:40:36.890Z"
   },
   {
    "duration": 74,
    "start_time": "2022-03-09T12:40:36.916Z"
   },
   {
    "duration": 6,
    "start_time": "2022-03-09T12:40:36.993Z"
   },
   {
    "duration": 9,
    "start_time": "2022-03-09T12:40:37.003Z"
   },
   {
    "duration": 76,
    "start_time": "2022-03-09T12:40:37.015Z"
   },
   {
    "duration": 45,
    "start_time": "2022-03-09T12:40:55.050Z"
   },
   {
    "duration": 44,
    "start_time": "2022-03-09T12:41:15.954Z"
   },
   {
    "duration": 54,
    "start_time": "2022-03-09T12:41:22.373Z"
   },
   {
    "duration": 23,
    "start_time": "2022-03-09T12:41:34.553Z"
   },
   {
    "duration": 7,
    "start_time": "2022-03-09T12:42:37.897Z"
   },
   {
    "duration": 873,
    "start_time": "2022-03-09T12:47:32.734Z"
   },
   {
    "duration": 15,
    "start_time": "2022-03-09T12:47:33.610Z"
   },
   {
    "duration": 29,
    "start_time": "2022-03-09T12:47:33.628Z"
   },
   {
    "duration": 8,
    "start_time": "2022-03-09T12:47:33.660Z"
   },
   {
    "duration": 19,
    "start_time": "2022-03-09T12:47:33.671Z"
   },
   {
    "duration": 10,
    "start_time": "2022-03-09T12:47:33.693Z"
   },
   {
    "duration": 31,
    "start_time": "2022-03-09T12:47:33.751Z"
   },
   {
    "duration": 21,
    "start_time": "2022-03-09T12:47:33.785Z"
   },
   {
    "duration": 74,
    "start_time": "2022-03-09T12:47:33.808Z"
   },
   {
    "duration": 6,
    "start_time": "2022-03-09T12:47:33.885Z"
   },
   {
    "duration": 25,
    "start_time": "2022-03-09T12:47:33.893Z"
   },
   {
    "duration": 32,
    "start_time": "2022-03-09T12:47:33.921Z"
   },
   {
    "duration": 10,
    "start_time": "2022-03-09T14:51:23.083Z"
   },
   {
    "duration": 7,
    "start_time": "2022-03-09T14:52:45.055Z"
   },
   {
    "duration": 105,
    "start_time": "2022-03-09T14:54:11.193Z"
   },
   {
    "duration": 12,
    "start_time": "2022-03-09T14:54:15.979Z"
   },
   {
    "duration": 13,
    "start_time": "2022-03-09T14:54:22.034Z"
   },
   {
    "duration": 15,
    "start_time": "2022-03-09T14:54:27.602Z"
   },
   {
    "duration": 17,
    "start_time": "2022-03-09T14:54:33.848Z"
   },
   {
    "duration": 17,
    "start_time": "2022-03-09T14:54:48.403Z"
   },
   {
    "duration": 14,
    "start_time": "2022-03-09T14:54:59.584Z"
   },
   {
    "duration": 13,
    "start_time": "2022-03-09T14:55:57.610Z"
   },
   {
    "duration": 87,
    "start_time": "2022-03-09T15:00:27.563Z"
   },
   {
    "duration": 14,
    "start_time": "2022-03-09T15:00:27.653Z"
   },
   {
    "duration": 14,
    "start_time": "2022-03-09T15:00:27.670Z"
   },
   {
    "duration": 8,
    "start_time": "2022-03-09T15:00:27.687Z"
   },
   {
    "duration": 60,
    "start_time": "2022-03-09T15:00:27.698Z"
   },
   {
    "duration": 17,
    "start_time": "2022-03-09T15:00:27.760Z"
   },
   {
    "duration": 34,
    "start_time": "2022-03-09T15:00:27.780Z"
   },
   {
    "duration": 53,
    "start_time": "2022-03-09T15:00:27.817Z"
   },
   {
    "duration": 43,
    "start_time": "2022-03-09T15:00:27.873Z"
   },
   {
    "duration": 7,
    "start_time": "2022-03-09T15:00:27.918Z"
   },
   {
    "duration": 17,
    "start_time": "2022-03-09T15:00:31.597Z"
   },
   {
    "duration": 16,
    "start_time": "2022-03-09T15:00:46.902Z"
   },
   {
    "duration": 31,
    "start_time": "2022-03-09T15:00:51.828Z"
   },
   {
    "duration": 36,
    "start_time": "2022-03-09T15:00:58.193Z"
   },
   {
    "duration": 762,
    "start_time": "2022-03-09T15:13:11.184Z"
   },
   {
    "duration": 15,
    "start_time": "2022-03-09T15:13:11.949Z"
   },
   {
    "duration": 12,
    "start_time": "2022-03-09T15:13:11.967Z"
   },
   {
    "duration": 8,
    "start_time": "2022-03-09T15:13:11.981Z"
   },
   {
    "duration": 17,
    "start_time": "2022-03-09T15:13:11.992Z"
   },
   {
    "duration": 8,
    "start_time": "2022-03-09T15:13:12.051Z"
   },
   {
    "duration": 31,
    "start_time": "2022-03-09T15:13:12.061Z"
   },
   {
    "duration": 56,
    "start_time": "2022-03-09T15:13:12.095Z"
   },
   {
    "duration": 41,
    "start_time": "2022-03-09T15:13:12.154Z"
   },
   {
    "duration": 6,
    "start_time": "2022-03-09T15:13:12.197Z"
   },
   {
    "duration": 45,
    "start_time": "2022-03-09T15:13:12.206Z"
   },
   {
    "duration": 9,
    "start_time": "2022-03-09T15:13:12.254Z"
   },
   {
    "duration": 14,
    "start_time": "2022-03-09T15:13:12.265Z"
   },
   {
    "duration": 46,
    "start_time": "2022-03-09T15:21:47.959Z"
   },
   {
    "duration": 21,
    "start_time": "2022-03-09T15:22:18.840Z"
   },
   {
    "duration": 78,
    "start_time": "2022-03-09T15:22:29.225Z"
   },
   {
    "duration": 15,
    "start_time": "2022-03-09T15:22:29.305Z"
   },
   {
    "duration": 34,
    "start_time": "2022-03-09T15:22:29.323Z"
   },
   {
    "duration": 9,
    "start_time": "2022-03-09T15:22:29.360Z"
   },
   {
    "duration": 18,
    "start_time": "2022-03-09T15:22:29.372Z"
   },
   {
    "duration": 9,
    "start_time": "2022-03-09T15:22:29.393Z"
   },
   {
    "duration": 73,
    "start_time": "2022-03-09T15:22:29.404Z"
   },
   {
    "duration": 24,
    "start_time": "2022-03-09T15:22:35.441Z"
   },
   {
    "duration": 818,
    "start_time": "2022-03-09T15:23:02.216Z"
   },
   {
    "duration": 20,
    "start_time": "2022-03-09T15:23:03.037Z"
   },
   {
    "duration": 13,
    "start_time": "2022-03-09T15:23:03.060Z"
   },
   {
    "duration": 11,
    "start_time": "2022-03-09T15:23:03.076Z"
   },
   {
    "duration": 19,
    "start_time": "2022-03-09T15:23:03.089Z"
   },
   {
    "duration": 42,
    "start_time": "2022-03-09T15:23:03.111Z"
   },
   {
    "duration": 34,
    "start_time": "2022-03-09T15:23:03.156Z"
   },
   {
    "duration": 22,
    "start_time": "2022-03-09T15:23:03.194Z"
   },
   {
    "duration": 40,
    "start_time": "2022-03-09T15:23:03.250Z"
   },
   {
    "duration": 6,
    "start_time": "2022-03-09T15:23:03.292Z"
   },
   {
    "duration": 17,
    "start_time": "2022-03-09T15:23:03.301Z"
   },
   {
    "duration": 36,
    "start_time": "2022-03-09T15:23:03.320Z"
   },
   {
    "duration": 13,
    "start_time": "2022-03-09T15:23:03.359Z"
   },
   {
    "duration": 2154,
    "start_time": "2022-03-09T15:26:39.934Z"
   },
   {
    "duration": 330,
    "start_time": "2022-03-09T15:26:57.525Z"
   },
   {
    "duration": 17,
    "start_time": "2022-03-09T15:31:04.452Z"
   },
   {
    "duration": 19,
    "start_time": "2022-03-09T15:31:24.928Z"
   },
   {
    "duration": 18,
    "start_time": "2022-03-09T15:31:52.609Z"
   },
   {
    "duration": 14,
    "start_time": "2022-03-09T15:33:53.212Z"
   },
   {
    "duration": 11,
    "start_time": "2022-03-09T15:34:21.469Z"
   },
   {
    "duration": 8,
    "start_time": "2022-03-09T15:35:06.964Z"
   },
   {
    "duration": 14,
    "start_time": "2022-03-09T15:36:18.680Z"
   },
   {
    "duration": 246,
    "start_time": "2022-03-09T15:36:56.172Z"
   },
   {
    "duration": 286,
    "start_time": "2022-03-09T15:37:30.867Z"
   },
   {
    "duration": 838,
    "start_time": "2022-03-09T15:37:57.318Z"
   },
   {
    "duration": 20,
    "start_time": "2022-03-09T15:37:58.159Z"
   },
   {
    "duration": 17,
    "start_time": "2022-03-09T15:37:58.182Z"
   },
   {
    "duration": 8,
    "start_time": "2022-03-09T15:37:58.202Z"
   },
   {
    "duration": 55,
    "start_time": "2022-03-09T15:37:58.213Z"
   },
   {
    "duration": 9,
    "start_time": "2022-03-09T15:37:58.270Z"
   },
   {
    "duration": 31,
    "start_time": "2022-03-09T15:37:58.281Z"
   },
   {
    "duration": 54,
    "start_time": "2022-03-09T15:37:58.317Z"
   },
   {
    "duration": 39,
    "start_time": "2022-03-09T15:37:58.375Z"
   },
   {
    "duration": 6,
    "start_time": "2022-03-09T15:37:58.417Z"
   },
   {
    "duration": 18,
    "start_time": "2022-03-09T15:37:58.452Z"
   },
   {
    "duration": 13,
    "start_time": "2022-03-09T15:37:58.472Z"
   },
   {
    "duration": 5,
    "start_time": "2022-03-09T15:37:58.488Z"
   },
   {
    "duration": 60,
    "start_time": "2022-03-09T15:37:58.496Z"
   },
   {
    "duration": 9,
    "start_time": "2022-03-09T15:37:58.559Z"
   },
   {
    "duration": 12,
    "start_time": "2022-03-09T15:37:58.570Z"
   },
   {
    "duration": 127,
    "start_time": "2022-03-09T15:39:36.534Z"
   },
   {
    "duration": 18,
    "start_time": "2022-03-09T15:41:58.413Z"
   },
   {
    "duration": 298,
    "start_time": "2022-03-11T09:16:55.798Z"
   },
   {
    "duration": 231,
    "start_time": "2022-03-11T09:17:36.407Z"
   },
   {
    "duration": 659,
    "start_time": "2022-03-11T09:17:42.617Z"
   },
   {
    "duration": 12,
    "start_time": "2022-03-11T09:17:43.279Z"
   },
   {
    "duration": 11,
    "start_time": "2022-03-11T09:17:43.293Z"
   },
   {
    "duration": 27,
    "start_time": "2022-03-11T09:17:43.306Z"
   },
   {
    "duration": 7,
    "start_time": "2022-03-11T09:17:43.335Z"
   },
   {
    "duration": 13,
    "start_time": "2022-03-11T09:17:43.344Z"
   },
   {
    "duration": 5,
    "start_time": "2022-03-11T09:17:43.360Z"
   },
   {
    "duration": 48,
    "start_time": "2022-03-11T09:17:43.368Z"
   },
   {
    "duration": 16,
    "start_time": "2022-03-11T09:17:43.418Z"
   },
   {
    "duration": 29,
    "start_time": "2022-03-11T09:17:43.436Z"
   },
   {
    "duration": 35,
    "start_time": "2022-03-11T09:17:43.467Z"
   },
   {
    "duration": 12,
    "start_time": "2022-03-11T09:17:43.504Z"
   },
   {
    "duration": 25,
    "start_time": "2022-03-11T09:17:43.517Z"
   },
   {
    "duration": 5,
    "start_time": "2022-03-11T09:17:43.544Z"
   },
   {
    "duration": 16,
    "start_time": "2022-03-11T09:17:43.551Z"
   },
   {
    "duration": 6,
    "start_time": "2022-03-11T09:17:43.569Z"
   },
   {
    "duration": 32,
    "start_time": "2022-03-11T09:17:43.576Z"
   },
   {
    "duration": 12,
    "start_time": "2022-03-11T09:17:43.610Z"
   },
   {
    "duration": 10,
    "start_time": "2022-03-11T09:20:58.645Z"
   },
   {
    "duration": 60,
    "start_time": "2022-03-11T09:21:13.095Z"
   },
   {
    "duration": 12,
    "start_time": "2022-03-11T09:21:13.157Z"
   },
   {
    "duration": 36,
    "start_time": "2022-03-11T09:21:13.171Z"
   },
   {
    "duration": 31,
    "start_time": "2022-03-11T09:21:13.210Z"
   },
   {
    "duration": 7,
    "start_time": "2022-03-11T09:21:13.243Z"
   },
   {
    "duration": 18,
    "start_time": "2022-03-11T09:21:13.251Z"
   },
   {
    "duration": 30,
    "start_time": "2022-03-11T09:21:13.272Z"
   },
   {
    "duration": 31,
    "start_time": "2022-03-11T09:21:13.305Z"
   },
   {
    "duration": 15,
    "start_time": "2022-03-11T09:21:13.339Z"
   },
   {
    "duration": 54,
    "start_time": "2022-03-11T09:21:13.356Z"
   },
   {
    "duration": 4,
    "start_time": "2022-03-11T09:21:13.412Z"
   },
   {
    "duration": 14,
    "start_time": "2022-03-11T09:21:13.418Z"
   },
   {
    "duration": 9,
    "start_time": "2022-03-11T09:21:13.434Z"
   },
   {
    "duration": 7,
    "start_time": "2022-03-11T09:21:13.445Z"
   },
   {
    "duration": 27,
    "start_time": "2022-03-11T09:21:13.453Z"
   },
   {
    "duration": 6,
    "start_time": "2022-03-11T09:21:13.501Z"
   },
   {
    "duration": 13,
    "start_time": "2022-03-11T09:21:13.509Z"
   },
   {
    "duration": 14,
    "start_time": "2022-03-11T09:21:13.524Z"
   },
   {
    "duration": 272,
    "start_time": "2022-03-11T09:30:05.551Z"
   },
   {
    "duration": 14,
    "start_time": "2022-03-11T09:30:21.691Z"
   },
   {
    "duration": 11,
    "start_time": "2022-03-11T09:30:33.058Z"
   },
   {
    "duration": 63,
    "start_time": "2022-03-11T09:30:36.945Z"
   },
   {
    "duration": 13,
    "start_time": "2022-03-11T09:30:37.011Z"
   },
   {
    "duration": 23,
    "start_time": "2022-03-11T09:30:37.027Z"
   },
   {
    "duration": 29,
    "start_time": "2022-03-11T09:30:37.052Z"
   },
   {
    "duration": 13,
    "start_time": "2022-03-11T09:30:37.083Z"
   },
   {
    "duration": 26,
    "start_time": "2022-03-11T09:30:37.097Z"
   },
   {
    "duration": 10,
    "start_time": "2022-03-11T09:30:37.125Z"
   },
   {
    "duration": 1607,
    "start_time": "2022-03-11T09:30:37.136Z"
   },
   {
    "duration": -507,
    "start_time": "2022-03-11T09:30:39.252Z"
   },
   {
    "duration": -526,
    "start_time": "2022-03-11T09:30:39.273Z"
   },
   {
    "duration": -559,
    "start_time": "2022-03-11T09:30:39.306Z"
   },
   {
    "duration": -561,
    "start_time": "2022-03-11T09:30:39.310Z"
   },
   {
    "duration": -575,
    "start_time": "2022-03-11T09:30:39.325Z"
   },
   {
    "duration": -594,
    "start_time": "2022-03-11T09:30:39.344Z"
   },
   {
    "duration": -605,
    "start_time": "2022-03-11T09:30:39.356Z"
   },
   {
    "duration": -608,
    "start_time": "2022-03-11T09:30:39.361Z"
   },
   {
    "duration": -623,
    "start_time": "2022-03-11T09:30:39.377Z"
   },
   {
    "duration": -635,
    "start_time": "2022-03-11T09:30:39.390Z"
   },
   {
    "duration": -641,
    "start_time": "2022-03-11T09:30:39.397Z"
   },
   {
    "duration": 25,
    "start_time": "2022-03-11T09:31:39.098Z"
   },
   {
    "duration": 17,
    "start_time": "2022-03-11T09:31:59.307Z"
   },
   {
    "duration": 19,
    "start_time": "2022-03-11T09:32:23.809Z"
   },
   {
    "duration": 16,
    "start_time": "2022-03-11T09:32:58.166Z"
   },
   {
    "duration": 6,
    "start_time": "2022-03-11T09:34:05.002Z"
   },
   {
    "duration": 62,
    "start_time": "2022-03-11T09:36:58.809Z"
   },
   {
    "duration": 29,
    "start_time": "2022-03-11T09:36:58.873Z"
   },
   {
    "duration": 16,
    "start_time": "2022-03-11T09:36:58.907Z"
   },
   {
    "duration": 33,
    "start_time": "2022-03-11T09:36:58.925Z"
   },
   {
    "duration": 6,
    "start_time": "2022-03-11T09:36:58.960Z"
   },
   {
    "duration": 18,
    "start_time": "2022-03-11T09:36:58.967Z"
   },
   {
    "duration": 34,
    "start_time": "2022-03-11T09:36:58.986Z"
   },
   {
    "duration": 16,
    "start_time": "2022-03-11T09:36:59.021Z"
   },
   {
    "duration": 14,
    "start_time": "2022-03-11T09:36:59.040Z"
   },
   {
    "duration": 48,
    "start_time": "2022-03-11T09:36:59.057Z"
   },
   {
    "duration": 17,
    "start_time": "2022-03-11T09:36:59.108Z"
   },
   {
    "duration": 19,
    "start_time": "2022-03-11T09:36:59.127Z"
   },
   {
    "duration": 27,
    "start_time": "2022-03-11T09:36:59.147Z"
   },
   {
    "duration": 28,
    "start_time": "2022-03-11T09:36:59.175Z"
   },
   {
    "duration": 17,
    "start_time": "2022-03-11T09:36:59.207Z"
   },
   {
    "duration": 7,
    "start_time": "2022-03-11T09:36:59.226Z"
   },
   {
    "duration": 21,
    "start_time": "2022-03-11T09:36:59.235Z"
   },
   {
    "duration": 16,
    "start_time": "2022-03-11T09:36:59.258Z"
   },
   {
    "duration": 31,
    "start_time": "2022-03-11T09:36:59.301Z"
   },
   {
    "duration": 19,
    "start_time": "2022-03-11T09:36:59.334Z"
   },
   {
    "duration": 66,
    "start_time": "2022-03-11T09:36:59.355Z"
   },
   {
    "duration": 4,
    "start_time": "2022-03-11T09:36:59.423Z"
   },
   {
    "duration": 18,
    "start_time": "2022-03-11T09:36:59.429Z"
   },
   {
    "duration": 10,
    "start_time": "2022-03-11T09:36:59.449Z"
   },
   {
    "duration": 9,
    "start_time": "2022-03-11T09:36:59.461Z"
   },
   {
    "duration": 39,
    "start_time": "2022-03-11T09:36:59.472Z"
   },
   {
    "duration": 7,
    "start_time": "2022-03-11T09:36:59.514Z"
   },
   {
    "duration": 18,
    "start_time": "2022-03-11T09:36:59.523Z"
   },
   {
    "duration": 16,
    "start_time": "2022-03-11T09:36:59.543Z"
   },
   {
    "duration": 15,
    "start_time": "2022-03-11T09:41:09.961Z"
   },
   {
    "duration": -444,
    "start_time": "2022-03-11T09:46:08.414Z"
   },
   {
    "duration": 68,
    "start_time": "2022-03-11T09:46:11.582Z"
   },
   {
    "duration": 11,
    "start_time": "2022-03-11T09:46:11.651Z"
   },
   {
    "duration": 36,
    "start_time": "2022-03-11T09:46:11.666Z"
   },
   {
    "duration": 25,
    "start_time": "2022-03-11T09:46:11.705Z"
   },
   {
    "duration": 8,
    "start_time": "2022-03-11T09:46:11.732Z"
   },
   {
    "duration": 6,
    "start_time": "2022-03-11T09:46:11.742Z"
   },
   {
    "duration": 53,
    "start_time": "2022-03-11T09:46:11.749Z"
   },
   {
    "duration": 16,
    "start_time": "2022-03-11T09:46:11.804Z"
   },
   {
    "duration": 15,
    "start_time": "2022-03-11T09:46:11.822Z"
   },
   {
    "duration": 15,
    "start_time": "2022-03-11T09:46:11.838Z"
   },
   {
    "duration": 14,
    "start_time": "2022-03-11T09:46:11.855Z"
   },
   {
    "duration": 15,
    "start_time": "2022-03-11T09:46:11.902Z"
   },
   {
    "duration": 18,
    "start_time": "2022-03-11T09:46:11.919Z"
   },
   {
    "duration": 15,
    "start_time": "2022-03-11T09:46:11.939Z"
   },
   {
    "duration": 52,
    "start_time": "2022-03-11T09:46:11.956Z"
   },
   {
    "duration": 11,
    "start_time": "2022-03-11T09:46:12.009Z"
   },
   {
    "duration": 34,
    "start_time": "2022-03-11T09:46:12.022Z"
   },
   {
    "duration": 16,
    "start_time": "2022-03-11T09:46:12.058Z"
   },
   {
    "duration": 30,
    "start_time": "2022-03-11T09:46:12.101Z"
   },
   {
    "duration": 5,
    "start_time": "2022-03-11T09:46:12.133Z"
   },
   {
    "duration": 14,
    "start_time": "2022-03-11T09:46:12.140Z"
   },
   {
    "duration": 9,
    "start_time": "2022-03-11T09:46:12.156Z"
   },
   {
    "duration": 50,
    "start_time": "2022-03-11T09:46:12.168Z"
   },
   {
    "duration": 7,
    "start_time": "2022-03-11T09:46:12.220Z"
   },
   {
    "duration": 19,
    "start_time": "2022-03-11T09:46:12.229Z"
   },
   {
    "duration": 8,
    "start_time": "2022-03-11T09:46:12.250Z"
   },
   {
    "duration": 15,
    "start_time": "2022-03-11T09:46:12.260Z"
   },
   {
    "duration": 32,
    "start_time": "2022-03-11T09:46:12.276Z"
   },
   {
    "duration": -412,
    "start_time": "2022-03-11T09:46:37.785Z"
   },
   {
    "duration": -425,
    "start_time": "2022-03-11T09:46:37.799Z"
   },
   {
    "duration": -431,
    "start_time": "2022-03-11T09:46:37.806Z"
   },
   {
    "duration": -434,
    "start_time": "2022-03-11T09:46:37.811Z"
   },
   {
    "duration": -438,
    "start_time": "2022-03-11T09:46:37.816Z"
   },
   {
    "duration": -442,
    "start_time": "2022-03-11T09:46:37.821Z"
   },
   {
    "duration": -446,
    "start_time": "2022-03-11T09:46:37.826Z"
   },
   {
    "duration": -449,
    "start_time": "2022-03-11T09:46:37.831Z"
   },
   {
    "duration": -452,
    "start_time": "2022-03-11T09:46:37.835Z"
   },
   {
    "duration": -456,
    "start_time": "2022-03-11T09:46:37.840Z"
   },
   {
    "duration": -459,
    "start_time": "2022-03-11T09:46:37.845Z"
   },
   {
    "duration": -462,
    "start_time": "2022-03-11T09:46:37.849Z"
   },
   {
    "duration": -466,
    "start_time": "2022-03-11T09:46:37.854Z"
   },
   {
    "duration": -470,
    "start_time": "2022-03-11T09:46:37.859Z"
   },
   {
    "duration": -474,
    "start_time": "2022-03-11T09:46:37.864Z"
   },
   {
    "duration": -476,
    "start_time": "2022-03-11T09:46:37.868Z"
   },
   {
    "duration": -481,
    "start_time": "2022-03-11T09:46:37.874Z"
   },
   {
    "duration": -484,
    "start_time": "2022-03-11T09:46:37.878Z"
   },
   {
    "duration": -488,
    "start_time": "2022-03-11T09:46:37.883Z"
   },
   {
    "duration": -492,
    "start_time": "2022-03-11T09:46:37.888Z"
   },
   {
    "duration": -496,
    "start_time": "2022-03-11T09:46:37.893Z"
   },
   {
    "duration": -512,
    "start_time": "2022-03-11T09:46:37.910Z"
   },
   {
    "duration": -527,
    "start_time": "2022-03-11T09:46:37.926Z"
   },
   {
    "duration": -538,
    "start_time": "2022-03-11T09:46:37.939Z"
   },
   {
    "duration": -556,
    "start_time": "2022-03-11T09:46:37.958Z"
   },
   {
    "duration": -583,
    "start_time": "2022-03-11T09:46:37.986Z"
   },
   {
    "duration": -598,
    "start_time": "2022-03-11T09:46:38.001Z"
   },
   {
    "duration": -603,
    "start_time": "2022-03-11T09:46:38.007Z"
   },
   {
    "duration": -393,
    "start_time": "2022-03-11T09:46:49.491Z"
   },
   {
    "duration": -467,
    "start_time": "2022-03-11T09:46:58.298Z"
   },
   {
    "duration": 684,
    "start_time": "2022-03-11T09:47:06.572Z"
   },
   {
    "duration": 12,
    "start_time": "2022-03-11T09:47:07.258Z"
   },
   {
    "duration": 11,
    "start_time": "2022-03-11T09:47:07.273Z"
   },
   {
    "duration": 38,
    "start_time": "2022-03-11T09:47:07.286Z"
   },
   {
    "duration": 7,
    "start_time": "2022-03-11T09:47:07.326Z"
   },
   {
    "duration": 8,
    "start_time": "2022-03-11T09:47:07.335Z"
   },
   {
    "duration": 17,
    "start_time": "2022-03-11T09:47:07.345Z"
   },
   {
    "duration": 44,
    "start_time": "2022-03-11T09:47:07.364Z"
   },
   {
    "duration": 15,
    "start_time": "2022-03-11T09:47:07.411Z"
   },
   {
    "duration": 15,
    "start_time": "2022-03-11T09:47:07.428Z"
   },
   {
    "duration": 14,
    "start_time": "2022-03-11T09:47:07.445Z"
   },
   {
    "duration": 48,
    "start_time": "2022-03-11T09:47:07.461Z"
   },
   {
    "duration": 14,
    "start_time": "2022-03-11T09:47:07.511Z"
   },
   {
    "duration": 18,
    "start_time": "2022-03-11T09:47:07.527Z"
   },
   {
    "duration": 17,
    "start_time": "2022-03-11T09:47:07.547Z"
   },
   {
    "duration": 7,
    "start_time": "2022-03-11T09:47:07.566Z"
   },
   {
    "duration": 24,
    "start_time": "2022-03-11T09:47:07.602Z"
   },
   {
    "duration": 16,
    "start_time": "2022-03-11T09:47:07.628Z"
   },
   {
    "duration": 31,
    "start_time": "2022-03-11T09:47:07.646Z"
   },
   {
    "duration": 6,
    "start_time": "2022-03-11T09:47:07.702Z"
   },
   {
    "duration": 22,
    "start_time": "2022-03-11T09:47:07.710Z"
   },
   {
    "duration": 17,
    "start_time": "2022-03-11T09:47:07.734Z"
   },
   {
    "duration": 6,
    "start_time": "2022-03-11T09:47:07.755Z"
   },
   {
    "duration": 30,
    "start_time": "2022-03-11T09:47:07.763Z"
   },
   {
    "duration": 19,
    "start_time": "2022-03-11T09:47:07.795Z"
   },
   {
    "duration": 9,
    "start_time": "2022-03-11T09:47:07.816Z"
   },
   {
    "duration": 13,
    "start_time": "2022-03-11T09:47:07.827Z"
   },
   {
    "duration": 16,
    "start_time": "2022-03-11T09:47:07.842Z"
   },
   {
    "duration": 68,
    "start_time": "2022-03-11T09:47:38.016Z"
   },
   {
    "duration": 23,
    "start_time": "2022-03-11T09:47:38.086Z"
   },
   {
    "duration": 13,
    "start_time": "2022-03-11T09:47:38.111Z"
   },
   {
    "duration": 26,
    "start_time": "2022-03-11T09:47:38.127Z"
   },
   {
    "duration": 8,
    "start_time": "2022-03-11T09:47:38.155Z"
   },
   {
    "duration": 42,
    "start_time": "2022-03-11T09:47:38.165Z"
   },
   {
    "duration": 22,
    "start_time": "2022-03-11T09:47:38.209Z"
   },
   {
    "duration": 16,
    "start_time": "2022-03-11T09:47:38.235Z"
   },
   {
    "duration": 15,
    "start_time": "2022-03-11T09:47:38.253Z"
   },
   {
    "duration": 45,
    "start_time": "2022-03-11T09:47:38.270Z"
   },
   {
    "duration": 14,
    "start_time": "2022-03-11T09:47:38.316Z"
   },
   {
    "duration": 21,
    "start_time": "2022-03-11T09:47:38.332Z"
   },
   {
    "duration": 26,
    "start_time": "2022-03-11T09:47:38.355Z"
   },
   {
    "duration": 33,
    "start_time": "2022-03-11T09:47:38.383Z"
   },
   {
    "duration": 18,
    "start_time": "2022-03-11T09:47:38.418Z"
   },
   {
    "duration": 6,
    "start_time": "2022-03-11T09:47:38.438Z"
   },
   {
    "duration": 32,
    "start_time": "2022-03-11T09:47:38.446Z"
   },
   {
    "duration": 34,
    "start_time": "2022-03-11T09:47:38.480Z"
   },
   {
    "duration": 30,
    "start_time": "2022-03-11T09:47:38.516Z"
   },
   {
    "duration": 4,
    "start_time": "2022-03-11T09:47:38.548Z"
   },
   {
    "duration": 28,
    "start_time": "2022-03-11T09:47:38.554Z"
   },
   {
    "duration": 23,
    "start_time": "2022-03-11T09:47:38.584Z"
   },
   {
    "duration": 14,
    "start_time": "2022-03-11T09:47:38.610Z"
   },
   {
    "duration": 21,
    "start_time": "2022-03-11T09:47:38.626Z"
   },
   {
    "duration": 9,
    "start_time": "2022-03-11T09:47:38.650Z"
   },
   {
    "duration": 19,
    "start_time": "2022-03-11T09:47:38.661Z"
   },
   {
    "duration": 20,
    "start_time": "2022-03-11T09:47:38.682Z"
   },
   {
    "duration": 15,
    "start_time": "2022-03-11T09:47:38.704Z"
   },
   {
    "duration": 18,
    "start_time": "2022-03-11T09:47:38.721Z"
   },
   {
    "duration": 692,
    "start_time": "2022-03-11T11:12:56.524Z"
   },
   {
    "duration": 13,
    "start_time": "2022-03-11T11:12:57.218Z"
   },
   {
    "duration": 18,
    "start_time": "2022-03-11T11:12:57.233Z"
   },
   {
    "duration": 46,
    "start_time": "2022-03-11T11:12:57.253Z"
   },
   {
    "duration": 9,
    "start_time": "2022-03-11T11:12:57.302Z"
   },
   {
    "duration": 21,
    "start_time": "2022-03-11T11:12:57.313Z"
   },
   {
    "duration": 42,
    "start_time": "2022-03-11T11:12:57.335Z"
   },
   {
    "duration": 17,
    "start_time": "2022-03-11T11:12:57.380Z"
   },
   {
    "duration": 22,
    "start_time": "2022-03-11T11:12:57.399Z"
   },
   {
    "duration": 27,
    "start_time": "2022-03-11T11:12:57.423Z"
   },
   {
    "duration": 17,
    "start_time": "2022-03-11T11:12:57.452Z"
   },
   {
    "duration": 30,
    "start_time": "2022-03-11T11:12:57.471Z"
   },
   {
    "duration": 136,
    "start_time": "2022-03-11T11:12:57.503Z"
   },
   {
    "duration": 19,
    "start_time": "2022-03-11T11:12:57.641Z"
   },
   {
    "duration": 20,
    "start_time": "2022-03-11T11:12:57.662Z"
   },
   {
    "duration": 131,
    "start_time": "2022-03-11T11:12:57.684Z"
   },
   {
    "duration": 51,
    "start_time": "2022-03-11T11:12:57.816Z"
   },
   {
    "duration": 27,
    "start_time": "2022-03-11T11:12:57.869Z"
   },
   {
    "duration": 38,
    "start_time": "2022-03-11T11:12:57.898Z"
   },
   {
    "duration": 6,
    "start_time": "2022-03-11T11:12:57.938Z"
   },
   {
    "duration": 42,
    "start_time": "2022-03-11T11:12:57.946Z"
   },
   {
    "duration": 42,
    "start_time": "2022-03-11T11:12:57.990Z"
   },
   {
    "duration": 13,
    "start_time": "2022-03-11T11:12:58.036Z"
   },
   {
    "duration": 54,
    "start_time": "2022-03-11T11:12:58.051Z"
   },
   {
    "duration": 946,
    "start_time": "2022-03-11T11:12:58.107Z"
   },
   {
    "duration": 1484,
    "start_time": "2022-03-11T11:13:11.750Z"
   },
   {
    "duration": 735,
    "start_time": "2022-03-11T11:13:23.070Z"
   },
   {
    "duration": 16,
    "start_time": "2022-03-11T11:13:23.808Z"
   },
   {
    "duration": 22,
    "start_time": "2022-03-11T11:13:23.827Z"
   },
   {
    "duration": 54,
    "start_time": "2022-03-11T11:13:23.852Z"
   },
   {
    "duration": 7,
    "start_time": "2022-03-11T11:13:23.908Z"
   },
   {
    "duration": 50,
    "start_time": "2022-03-11T11:13:23.917Z"
   },
   {
    "duration": 19,
    "start_time": "2022-03-11T11:13:23.970Z"
   },
   {
    "duration": 21,
    "start_time": "2022-03-11T11:13:23.992Z"
   },
   {
    "duration": 19,
    "start_time": "2022-03-11T11:13:24.016Z"
   },
   {
    "duration": 23,
    "start_time": "2022-03-11T11:13:24.038Z"
   },
   {
    "duration": 48,
    "start_time": "2022-03-11T11:13:24.064Z"
   },
   {
    "duration": 18,
    "start_time": "2022-03-11T11:13:24.114Z"
   },
   {
    "duration": 18,
    "start_time": "2022-03-11T11:13:24.134Z"
   },
   {
    "duration": 24,
    "start_time": "2022-03-11T11:13:24.154Z"
   },
   {
    "duration": 39,
    "start_time": "2022-03-11T11:13:24.180Z"
   },
   {
    "duration": 12,
    "start_time": "2022-03-11T11:13:24.222Z"
   },
   {
    "duration": 28,
    "start_time": "2022-03-11T11:13:24.236Z"
   },
   {
    "duration": 43,
    "start_time": "2022-03-11T11:13:24.266Z"
   },
   {
    "duration": 34,
    "start_time": "2022-03-11T11:13:24.311Z"
   },
   {
    "duration": 6,
    "start_time": "2022-03-11T11:13:24.347Z"
   },
   {
    "duration": 20,
    "start_time": "2022-03-11T11:13:24.354Z"
   },
   {
    "duration": 36,
    "start_time": "2022-03-11T11:13:24.376Z"
   },
   {
    "duration": 24,
    "start_time": "2022-03-11T11:13:24.417Z"
   },
   {
    "duration": 21,
    "start_time": "2022-03-11T11:13:24.443Z"
   },
   {
    "duration": 946,
    "start_time": "2022-03-11T11:13:24.466Z"
   },
   {
    "duration": 967,
    "start_time": "2022-03-11T11:13:32.325Z"
   },
   {
    "duration": 937,
    "start_time": "2022-03-11T11:14:33.433Z"
   },
   {
    "duration": 1435,
    "start_time": "2022-03-11T11:15:48.642Z"
   },
   {
    "duration": 925,
    "start_time": "2022-03-11T11:15:55.233Z"
   },
   {
    "duration": 969,
    "start_time": "2022-03-11T11:16:07.481Z"
   },
   {
    "duration": 230,
    "start_time": "2022-03-11T11:16:35.067Z"
   },
   {
    "duration": 920,
    "start_time": "2022-03-11T11:16:45.850Z"
   },
   {
    "duration": 341,
    "start_time": "2022-03-11T11:19:23.267Z"
   },
   {
    "duration": 926,
    "start_time": "2022-03-11T11:19:28.697Z"
   },
   {
    "duration": 1060,
    "start_time": "2022-03-11T11:48:14.569Z"
   },
   {
    "duration": 972,
    "start_time": "2022-03-11T11:48:17.983Z"
   },
   {
    "duration": 961,
    "start_time": "2022-03-11T11:48:58.819Z"
   },
   {
    "duration": 941,
    "start_time": "2022-03-11T11:50:59.073Z"
   },
   {
    "duration": 12,
    "start_time": "2022-03-11T11:57:54.334Z"
   },
   {
    "duration": 14,
    "start_time": "2022-03-11T11:59:13.352Z"
   },
   {
    "duration": 15,
    "start_time": "2022-03-11T11:59:20.846Z"
   },
   {
    "duration": 78,
    "start_time": "2022-03-11T11:59:23.204Z"
   },
   {
    "duration": 24,
    "start_time": "2022-03-11T11:59:23.285Z"
   },
   {
    "duration": 17,
    "start_time": "2022-03-11T11:59:23.312Z"
   },
   {
    "duration": 32,
    "start_time": "2022-03-11T11:59:23.332Z"
   },
   {
    "duration": 7,
    "start_time": "2022-03-11T11:59:23.366Z"
   },
   {
    "duration": 6,
    "start_time": "2022-03-11T11:59:23.375Z"
   },
   {
    "duration": 24,
    "start_time": "2022-03-11T11:59:23.407Z"
   },
   {
    "duration": 16,
    "start_time": "2022-03-11T11:59:23.435Z"
   },
   {
    "duration": 18,
    "start_time": "2022-03-11T11:59:23.453Z"
   },
   {
    "duration": 47,
    "start_time": "2022-03-11T11:59:23.473Z"
   },
   {
    "duration": 17,
    "start_time": "2022-03-11T11:59:23.524Z"
   },
   {
    "duration": 31,
    "start_time": "2022-03-11T11:59:23.544Z"
   },
   {
    "duration": 34,
    "start_time": "2022-03-11T11:59:23.577Z"
   },
   {
    "duration": 28,
    "start_time": "2022-03-11T11:59:23.614Z"
   },
   {
    "duration": 14,
    "start_time": "2022-03-11T11:59:23.644Z"
   },
   {
    "duration": 7,
    "start_time": "2022-03-11T11:59:23.659Z"
   },
   {
    "duration": 50,
    "start_time": "2022-03-11T11:59:23.668Z"
   },
   {
    "duration": 25,
    "start_time": "2022-03-11T11:59:23.721Z"
   },
   {
    "duration": 67,
    "start_time": "2022-03-11T11:59:23.748Z"
   },
   {
    "duration": 7,
    "start_time": "2022-03-11T11:59:23.817Z"
   },
   {
    "duration": 25,
    "start_time": "2022-03-11T11:59:23.826Z"
   },
   {
    "duration": 13,
    "start_time": "2022-03-11T11:59:23.853Z"
   },
   {
    "duration": 6,
    "start_time": "2022-03-11T11:59:23.869Z"
   },
   {
    "duration": 42,
    "start_time": "2022-03-11T11:59:23.877Z"
   },
   {
    "duration": 22,
    "start_time": "2022-03-11T11:59:23.922Z"
   },
   {
    "duration": 25,
    "start_time": "2022-03-11T12:00:30.796Z"
   },
   {
    "duration": 19,
    "start_time": "2022-03-11T12:03:32.479Z"
   },
   {
    "duration": 6410,
    "start_time": "2022-03-11T12:04:36.427Z"
   },
   {
    "duration": 741,
    "start_time": "2022-03-11T12:05:02.433Z"
   },
   {
    "duration": 12,
    "start_time": "2022-03-11T12:05:03.176Z"
   },
   {
    "duration": 57,
    "start_time": "2022-03-11T12:05:03.191Z"
   },
   {
    "duration": 60,
    "start_time": "2022-03-11T12:05:03.250Z"
   },
   {
    "duration": 11,
    "start_time": "2022-03-11T12:05:03.315Z"
   },
   {
    "duration": 36,
    "start_time": "2022-03-11T12:05:03.329Z"
   },
   {
    "duration": 45,
    "start_time": "2022-03-11T12:05:03.366Z"
   },
   {
    "duration": 38,
    "start_time": "2022-03-11T12:05:03.414Z"
   },
   {
    "duration": 21,
    "start_time": "2022-03-11T12:05:03.454Z"
   },
   {
    "duration": 36,
    "start_time": "2022-03-11T12:05:03.477Z"
   },
   {
    "duration": 39,
    "start_time": "2022-03-11T12:05:03.516Z"
   },
   {
    "duration": 52,
    "start_time": "2022-03-11T12:05:03.558Z"
   },
   {
    "duration": 28,
    "start_time": "2022-03-11T12:05:03.613Z"
   },
   {
    "duration": 35,
    "start_time": "2022-03-11T12:05:03.643Z"
   },
   {
    "duration": 38,
    "start_time": "2022-03-11T12:05:03.680Z"
   },
   {
    "duration": 36,
    "start_time": "2022-03-11T12:05:03.720Z"
   },
   {
    "duration": 76,
    "start_time": "2022-03-11T12:05:03.758Z"
   },
   {
    "duration": 32,
    "start_time": "2022-03-11T12:05:03.836Z"
   },
   {
    "duration": 43,
    "start_time": "2022-03-11T12:05:03.870Z"
   },
   {
    "duration": 6,
    "start_time": "2022-03-11T12:05:03.915Z"
   },
   {
    "duration": 23,
    "start_time": "2022-03-11T12:05:03.923Z"
   },
   {
    "duration": 21,
    "start_time": "2022-03-11T12:05:03.948Z"
   },
   {
    "duration": 19,
    "start_time": "2022-03-11T12:05:03.972Z"
   },
   {
    "duration": 37,
    "start_time": "2022-03-11T12:05:03.992Z"
   },
   {
    "duration": 33,
    "start_time": "2022-03-11T12:05:04.030Z"
   },
   {
    "duration": 44,
    "start_time": "2022-03-11T12:05:04.065Z"
   },
   {
    "duration": 27,
    "start_time": "2022-03-11T12:05:04.112Z"
   },
   {
    "duration": 13,
    "start_time": "2022-03-11T12:06:07.298Z"
   },
   {
    "duration": 13,
    "start_time": "2022-03-11T12:06:11.361Z"
   },
   {
    "duration": 409,
    "start_time": "2022-03-11T12:06:26.647Z"
   },
   {
    "duration": 5,
    "start_time": "2022-03-11T12:07:27.822Z"
   },
   {
    "duration": 717,
    "start_time": "2022-03-11T12:07:34.080Z"
   },
   {
    "duration": 16,
    "start_time": "2022-03-11T12:07:34.800Z"
   },
   {
    "duration": 26,
    "start_time": "2022-03-11T12:07:34.818Z"
   },
   {
    "duration": 30,
    "start_time": "2022-03-11T12:07:34.847Z"
   },
   {
    "duration": 7,
    "start_time": "2022-03-11T12:07:34.879Z"
   },
   {
    "duration": 8,
    "start_time": "2022-03-11T12:07:34.887Z"
   },
   {
    "duration": 23,
    "start_time": "2022-03-11T12:07:34.897Z"
   },
   {
    "duration": 19,
    "start_time": "2022-03-11T12:07:34.923Z"
   },
   {
    "duration": 16,
    "start_time": "2022-03-11T12:07:34.944Z"
   },
   {
    "duration": 45,
    "start_time": "2022-03-11T12:07:34.962Z"
   },
   {
    "duration": 19,
    "start_time": "2022-03-11T12:07:35.010Z"
   },
   {
    "duration": 19,
    "start_time": "2022-03-11T12:07:35.031Z"
   },
   {
    "duration": 15,
    "start_time": "2022-03-11T12:07:35.052Z"
   },
   {
    "duration": 49,
    "start_time": "2022-03-11T12:07:35.070Z"
   },
   {
    "duration": 25,
    "start_time": "2022-03-11T12:07:35.121Z"
   },
   {
    "duration": 7,
    "start_time": "2022-03-11T12:07:35.148Z"
   },
   {
    "duration": 27,
    "start_time": "2022-03-11T12:07:35.157Z"
   },
   {
    "duration": 21,
    "start_time": "2022-03-11T12:07:35.203Z"
   },
   {
    "duration": 78,
    "start_time": "2022-03-11T12:07:35.226Z"
   },
   {
    "duration": 6,
    "start_time": "2022-03-11T12:07:35.306Z"
   },
   {
    "duration": 21,
    "start_time": "2022-03-11T12:07:35.315Z"
   },
   {
    "duration": 11,
    "start_time": "2022-03-11T12:07:35.338Z"
   },
   {
    "duration": 14,
    "start_time": "2022-03-11T12:07:35.352Z"
   },
   {
    "duration": 37,
    "start_time": "2022-03-11T12:07:35.368Z"
   },
   {
    "duration": 26,
    "start_time": "2022-03-11T12:07:35.408Z"
   },
   {
    "duration": 32,
    "start_time": "2022-03-11T12:07:35.435Z"
   },
   {
    "duration": 18,
    "start_time": "2022-03-11T12:07:35.469Z"
   },
   {
    "duration": 8,
    "start_time": "2022-03-11T12:07:35.489Z"
   },
   {
    "duration": 63,
    "start_time": "2022-03-11T12:15:53.851Z"
   },
   {
    "duration": 16,
    "start_time": "2022-03-11T12:15:53.917Z"
   },
   {
    "duration": 19,
    "start_time": "2022-03-11T12:15:53.935Z"
   },
   {
    "duration": 45,
    "start_time": "2022-03-11T12:15:53.956Z"
   },
   {
    "duration": 17,
    "start_time": "2022-03-11T12:15:54.004Z"
   },
   {
    "duration": 26,
    "start_time": "2022-03-11T12:15:54.024Z"
   },
   {
    "duration": 31,
    "start_time": "2022-03-11T12:15:54.052Z"
   },
   {
    "duration": 23,
    "start_time": "2022-03-11T12:15:54.085Z"
   },
   {
    "duration": 36,
    "start_time": "2022-03-11T12:15:54.112Z"
   },
   {
    "duration": 24,
    "start_time": "2022-03-11T12:15:54.150Z"
   },
   {
    "duration": 20,
    "start_time": "2022-03-11T12:15:54.176Z"
   },
   {
    "duration": 42,
    "start_time": "2022-03-11T12:15:54.198Z"
   },
   {
    "duration": 42,
    "start_time": "2022-03-11T12:15:54.242Z"
   },
   {
    "duration": 27,
    "start_time": "2022-03-11T12:15:54.287Z"
   },
   {
    "duration": 33,
    "start_time": "2022-03-11T12:15:54.319Z"
   },
   {
    "duration": 24,
    "start_time": "2022-03-11T12:15:54.355Z"
   },
   {
    "duration": 45,
    "start_time": "2022-03-11T12:15:54.381Z"
   },
   {
    "duration": 32,
    "start_time": "2022-03-11T12:15:54.429Z"
   },
   {
    "duration": 31,
    "start_time": "2022-03-11T12:15:54.463Z"
   },
   {
    "duration": 6,
    "start_time": "2022-03-11T12:15:54.496Z"
   },
   {
    "duration": 42,
    "start_time": "2022-03-11T12:15:54.505Z"
   },
   {
    "duration": 21,
    "start_time": "2022-03-11T12:15:54.549Z"
   },
   {
    "duration": 21,
    "start_time": "2022-03-11T12:15:54.572Z"
   },
   {
    "duration": 31,
    "start_time": "2022-03-11T12:15:54.595Z"
   },
   {
    "duration": 14,
    "start_time": "2022-03-11T12:15:56.574Z"
   },
   {
    "duration": 67,
    "start_time": "2022-03-11T12:16:14.969Z"
   },
   {
    "duration": 13,
    "start_time": "2022-03-11T12:16:15.038Z"
   },
   {
    "duration": 18,
    "start_time": "2022-03-11T12:16:15.054Z"
   },
   {
    "duration": 54,
    "start_time": "2022-03-11T12:16:15.074Z"
   },
   {
    "duration": 9,
    "start_time": "2022-03-11T12:16:15.130Z"
   },
   {
    "duration": 5,
    "start_time": "2022-03-11T12:16:15.141Z"
   },
   {
    "duration": 18,
    "start_time": "2022-03-11T12:16:15.148Z"
   },
   {
    "duration": 44,
    "start_time": "2022-03-11T12:16:15.169Z"
   },
   {
    "duration": 23,
    "start_time": "2022-03-11T12:16:15.216Z"
   },
   {
    "duration": 15,
    "start_time": "2022-03-11T12:16:15.241Z"
   },
   {
    "duration": 20,
    "start_time": "2022-03-11T12:16:15.258Z"
   },
   {
    "duration": 38,
    "start_time": "2022-03-11T12:16:15.280Z"
   },
   {
    "duration": 18,
    "start_time": "2022-03-11T12:16:15.320Z"
   },
   {
    "duration": 26,
    "start_time": "2022-03-11T12:16:15.340Z"
   },
   {
    "duration": 20,
    "start_time": "2022-03-11T12:16:15.368Z"
   },
   {
    "duration": 21,
    "start_time": "2022-03-11T12:16:15.389Z"
   },
   {
    "duration": 33,
    "start_time": "2022-03-11T12:16:15.413Z"
   },
   {
    "duration": 15,
    "start_time": "2022-03-11T12:16:15.448Z"
   },
   {
    "duration": 56,
    "start_time": "2022-03-11T12:16:15.465Z"
   },
   {
    "duration": 6,
    "start_time": "2022-03-11T12:16:15.522Z"
   },
   {
    "duration": 17,
    "start_time": "2022-03-11T12:16:15.530Z"
   },
   {
    "duration": 12,
    "start_time": "2022-03-11T12:16:15.549Z"
   },
   {
    "duration": 9,
    "start_time": "2022-03-11T12:16:15.564Z"
   },
   {
    "duration": 44,
    "start_time": "2022-03-11T12:16:15.575Z"
   },
   {
    "duration": 15,
    "start_time": "2022-03-11T12:16:15.621Z"
   },
   {
    "duration": 3,
    "start_time": "2022-03-11T12:16:15.638Z"
   },
   {
    "duration": 14,
    "start_time": "2022-03-11T12:16:18.330Z"
   },
   {
    "duration": 9,
    "start_time": "2022-03-11T13:14:54.755Z"
   },
   {
    "duration": 713,
    "start_time": "2022-03-11T13:15:07.628Z"
   },
   {
    "duration": 13,
    "start_time": "2022-03-11T13:15:08.343Z"
   },
   {
    "duration": 11,
    "start_time": "2022-03-11T13:15:08.358Z"
   },
   {
    "duration": 46,
    "start_time": "2022-03-11T13:15:08.371Z"
   },
   {
    "duration": 6,
    "start_time": "2022-03-11T13:15:08.420Z"
   },
   {
    "duration": 10,
    "start_time": "2022-03-11T13:15:08.428Z"
   },
   {
    "duration": 16,
    "start_time": "2022-03-11T13:15:08.440Z"
   },
   {
    "duration": 51,
    "start_time": "2022-03-11T13:15:08.458Z"
   },
   {
    "duration": 17,
    "start_time": "2022-03-11T13:15:08.513Z"
   },
   {
    "duration": 16,
    "start_time": "2022-03-11T13:15:08.533Z"
   },
   {
    "duration": 19,
    "start_time": "2022-03-11T13:15:08.551Z"
   },
   {
    "duration": 39,
    "start_time": "2022-03-11T13:15:08.573Z"
   },
   {
    "duration": 23,
    "start_time": "2022-03-11T13:15:08.614Z"
   },
   {
    "duration": 29,
    "start_time": "2022-03-11T13:15:08.639Z"
   },
   {
    "duration": 16,
    "start_time": "2022-03-11T13:15:08.671Z"
   },
   {
    "duration": 16,
    "start_time": "2022-03-11T13:15:08.689Z"
   },
   {
    "duration": 24,
    "start_time": "2022-03-11T13:15:08.707Z"
   },
   {
    "duration": 18,
    "start_time": "2022-03-11T13:15:08.733Z"
   },
   {
    "duration": 64,
    "start_time": "2022-03-11T13:15:08.753Z"
   },
   {
    "duration": 5,
    "start_time": "2022-03-11T13:15:08.819Z"
   },
   {
    "duration": 13,
    "start_time": "2022-03-11T13:15:08.826Z"
   },
   {
    "duration": 10,
    "start_time": "2022-03-11T13:15:08.842Z"
   },
   {
    "duration": 14,
    "start_time": "2022-03-11T13:15:08.853Z"
   },
   {
    "duration": 46,
    "start_time": "2022-03-11T13:15:08.869Z"
   },
   {
    "duration": 14,
    "start_time": "2022-03-11T13:15:08.917Z"
   },
   {
    "duration": 4,
    "start_time": "2022-03-11T13:15:08.933Z"
   },
   {
    "duration": 14,
    "start_time": "2022-03-11T13:15:08.940Z"
   },
   {
    "duration": 4,
    "start_time": "2022-03-11T13:15:08.956Z"
   },
   {
    "duration": 80,
    "start_time": "2022-03-11T13:15:08.962Z"
   },
   {
    "duration": 6,
    "start_time": "2022-03-11T13:15:26.684Z"
   },
   {
    "duration": 5,
    "start_time": "2022-03-11T13:16:35.876Z"
   },
   {
    "duration": 293,
    "start_time": "2022-03-11T13:17:51.182Z"
   },
   {
    "duration": 240,
    "start_time": "2022-03-11T13:19:29.495Z"
   },
   {
    "duration": 222,
    "start_time": "2022-03-11T13:19:36.584Z"
   },
   {
    "duration": 7,
    "start_time": "2022-03-11T13:19:44.978Z"
   },
   {
    "duration": 6,
    "start_time": "2022-03-11T13:20:07.949Z"
   },
   {
    "duration": 232,
    "start_time": "2022-03-11T13:20:30.092Z"
   },
   {
    "duration": 222,
    "start_time": "2022-03-11T13:20:34.398Z"
   },
   {
    "duration": 257,
    "start_time": "2022-03-11T13:20:59.017Z"
   },
   {
    "duration": 15,
    "start_time": "2022-03-11T13:21:12.704Z"
   },
   {
    "duration": 7,
    "start_time": "2022-03-11T13:21:25.678Z"
   },
   {
    "duration": 6,
    "start_time": "2022-03-11T13:21:33.485Z"
   },
   {
    "duration": 240,
    "start_time": "2022-03-11T13:30:51.265Z"
   },
   {
    "duration": 21,
    "start_time": "2022-03-11T13:31:00.708Z"
   },
   {
    "duration": 20,
    "start_time": "2022-03-11T13:31:46.625Z"
   },
   {
    "duration": 30,
    "start_time": "2022-03-11T13:31:51.676Z"
   },
   {
    "duration": 29,
    "start_time": "2022-03-11T13:32:20.839Z"
   },
   {
    "duration": 30,
    "start_time": "2022-03-11T13:32:40.152Z"
   },
   {
    "duration": 32,
    "start_time": "2022-03-11T13:36:32.652Z"
   },
   {
    "duration": 33,
    "start_time": "2022-03-11T13:36:47.710Z"
   },
   {
    "duration": 23,
    "start_time": "2022-03-11T13:37:08.802Z"
   },
   {
    "duration": 7,
    "start_time": "2022-03-11T13:39:16.624Z"
   },
   {
    "duration": 24,
    "start_time": "2022-03-11T13:48:30.864Z"
   },
   {
    "duration": 655,
    "start_time": "2022-03-11T13:49:55.733Z"
   },
   {
    "duration": 12,
    "start_time": "2022-03-11T13:49:56.390Z"
   },
   {
    "duration": 10,
    "start_time": "2022-03-11T13:49:56.405Z"
   },
   {
    "duration": 23,
    "start_time": "2022-03-11T13:49:56.417Z"
   },
   {
    "duration": 7,
    "start_time": "2022-03-11T13:49:56.442Z"
   },
   {
    "duration": 14,
    "start_time": "2022-03-11T13:49:56.451Z"
   },
   {
    "duration": 50,
    "start_time": "2022-03-11T13:49:56.467Z"
   },
   {
    "duration": 22,
    "start_time": "2022-03-11T13:49:56.519Z"
   },
   {
    "duration": 16,
    "start_time": "2022-03-11T13:49:56.543Z"
   },
   {
    "duration": 40,
    "start_time": "2022-03-11T13:49:56.561Z"
   },
   {
    "duration": 14,
    "start_time": "2022-03-11T13:49:56.603Z"
   },
   {
    "duration": 18,
    "start_time": "2022-03-11T13:49:56.619Z"
   },
   {
    "duration": 18,
    "start_time": "2022-03-11T13:49:56.638Z"
   },
   {
    "duration": 22,
    "start_time": "2022-03-11T13:49:56.658Z"
   },
   {
    "duration": 27,
    "start_time": "2022-03-11T13:49:56.682Z"
   },
   {
    "duration": 16,
    "start_time": "2022-03-11T13:49:56.711Z"
   },
   {
    "duration": 4,
    "start_time": "2022-03-11T13:49:56.728Z"
   },
   {
    "duration": 11,
    "start_time": "2022-03-11T13:49:56.734Z"
   },
   {
    "duration": 24,
    "start_time": "2022-03-11T13:49:56.747Z"
   },
   {
    "duration": 38,
    "start_time": "2022-03-11T13:49:56.773Z"
   },
   {
    "duration": 31,
    "start_time": "2022-03-11T13:49:56.812Z"
   },
   {
    "duration": 22,
    "start_time": "2022-03-11T13:49:56.845Z"
   },
   {
    "duration": 20,
    "start_time": "2022-03-11T13:49:56.871Z"
   },
   {
    "duration": 27,
    "start_time": "2022-03-11T13:49:56.893Z"
   },
   {
    "duration": 11,
    "start_time": "2022-03-11T13:49:56.922Z"
   },
   {
    "duration": 24,
    "start_time": "2022-03-11T13:49:56.935Z"
   },
   {
    "duration": 21,
    "start_time": "2022-03-11T13:49:56.960Z"
   },
   {
    "duration": 19,
    "start_time": "2022-03-11T13:49:56.982Z"
   },
   {
    "duration": 27,
    "start_time": "2022-03-11T13:49:57.004Z"
   },
   {
    "duration": 18,
    "start_time": "2022-03-11T13:49:57.033Z"
   },
   {
    "duration": 47,
    "start_time": "2022-03-11T13:49:57.054Z"
   },
   {
    "duration": 7,
    "start_time": "2022-03-11T13:49:57.103Z"
   },
   {
    "duration": 42,
    "start_time": "2022-03-11T13:49:57.112Z"
   },
   {
    "duration": 13,
    "start_time": "2022-03-11T13:55:21.507Z"
   },
   {
    "duration": 11,
    "start_time": "2022-03-11T13:55:43.481Z"
   },
   {
    "duration": 408,
    "start_time": "2022-03-11T14:00:06.856Z"
   },
   {
    "duration": 8,
    "start_time": "2022-03-11T14:00:18.010Z"
   },
   {
    "duration": 7,
    "start_time": "2022-03-11T14:01:09.677Z"
   },
   {
    "duration": 10,
    "start_time": "2022-03-11T14:01:22.951Z"
   },
   {
    "duration": 20,
    "start_time": "2022-03-11T14:02:53.416Z"
   },
   {
    "duration": 13,
    "start_time": "2022-03-11T14:03:05.511Z"
   },
   {
    "duration": 280,
    "start_time": "2022-03-11T14:13:12.366Z"
   },
   {
    "duration": 265,
    "start_time": "2022-03-11T14:13:23.822Z"
   },
   {
    "duration": 12,
    "start_time": "2022-03-11T14:13:30.223Z"
   },
   {
    "duration": 13,
    "start_time": "2022-03-11T14:13:45.471Z"
   },
   {
    "duration": 6,
    "start_time": "2022-03-11T14:13:53.779Z"
   },
   {
    "duration": 6,
    "start_time": "2022-03-11T14:14:13.149Z"
   },
   {
    "duration": 14,
    "start_time": "2022-03-11T14:17:44.873Z"
   },
   {
    "duration": 372,
    "start_time": "2022-03-11T14:57:02.198Z"
   },
   {
    "duration": 19,
    "start_time": "2022-03-11T14:57:12.780Z"
   },
   {
    "duration": 5731,
    "start_time": "2022-03-11T17:16:50.640Z"
   },
   {
    "duration": 5586,
    "start_time": "2022-03-11T17:17:35.732Z"
   },
   {
    "duration": 5466,
    "start_time": "2022-03-11T17:18:28.649Z"
   },
   {
    "duration": 6116,
    "start_time": "2022-03-11T17:18:58.128Z"
   },
   {
    "duration": 5528,
    "start_time": "2022-03-11T17:19:37.897Z"
   },
   {
    "duration": 1597,
    "start_time": "2022-03-11T17:20:17.074Z"
   },
   {
    "duration": 14,
    "start_time": "2022-03-11T17:20:34.328Z"
   },
   {
    "duration": 14,
    "start_time": "2022-03-11T17:22:48.665Z"
   },
   {
    "duration": 20,
    "start_time": "2022-03-11T17:37:52.309Z"
   },
   {
    "duration": 13,
    "start_time": "2022-03-11T17:37:57.310Z"
   },
   {
    "duration": 9,
    "start_time": "2022-03-11T17:45:45.289Z"
   },
   {
    "duration": 255,
    "start_time": "2022-03-11T17:46:57.454Z"
   },
   {
    "duration": 292,
    "start_time": "2022-03-11T17:48:25.527Z"
   },
   {
    "duration": 9,
    "start_time": "2022-03-11T17:48:49.805Z"
   },
   {
    "duration": 9,
    "start_time": "2022-03-11T17:49:20.383Z"
   },
   {
    "duration": 245,
    "start_time": "2022-03-11T17:50:00.126Z"
   },
   {
    "duration": 9,
    "start_time": "2022-03-11T17:50:43.650Z"
   },
   {
    "duration": 242,
    "start_time": "2022-03-11T17:50:49.596Z"
   },
   {
    "duration": 214,
    "start_time": "2022-03-11T17:51:09.203Z"
   },
   {
    "duration": 10,
    "start_time": "2022-03-11T17:51:15.719Z"
   },
   {
    "duration": 682,
    "start_time": "2022-03-11T17:52:25.906Z"
   },
   {
    "duration": 12,
    "start_time": "2022-03-11T17:52:26.590Z"
   },
   {
    "duration": 13,
    "start_time": "2022-03-11T17:52:26.605Z"
   },
   {
    "duration": 31,
    "start_time": "2022-03-11T17:52:26.620Z"
   },
   {
    "duration": 7,
    "start_time": "2022-03-11T17:52:26.652Z"
   },
   {
    "duration": 7,
    "start_time": "2022-03-11T17:52:26.660Z"
   },
   {
    "duration": 39,
    "start_time": "2022-03-11T17:52:26.669Z"
   },
   {
    "duration": 16,
    "start_time": "2022-03-11T17:52:26.711Z"
   },
   {
    "duration": 24,
    "start_time": "2022-03-11T17:52:26.730Z"
   },
   {
    "duration": 20,
    "start_time": "2022-03-11T17:52:26.755Z"
   },
   {
    "duration": 31,
    "start_time": "2022-03-11T17:52:26.777Z"
   },
   {
    "duration": 20,
    "start_time": "2022-03-11T17:52:26.810Z"
   },
   {
    "duration": 22,
    "start_time": "2022-03-11T17:52:26.832Z"
   },
   {
    "duration": 19,
    "start_time": "2022-03-11T17:52:26.855Z"
   },
   {
    "duration": 26,
    "start_time": "2022-03-11T17:52:26.876Z"
   },
   {
    "duration": 7,
    "start_time": "2022-03-11T17:52:26.904Z"
   },
   {
    "duration": 8,
    "start_time": "2022-03-11T17:52:26.913Z"
   },
   {
    "duration": 15,
    "start_time": "2022-03-11T17:52:26.923Z"
   },
   {
    "duration": 29,
    "start_time": "2022-03-11T17:52:26.940Z"
   },
   {
    "duration": 44,
    "start_time": "2022-03-11T17:52:26.970Z"
   },
   {
    "duration": 37,
    "start_time": "2022-03-11T17:52:27.016Z"
   },
   {
    "duration": 17,
    "start_time": "2022-03-11T17:52:27.055Z"
   },
   {
    "duration": 27,
    "start_time": "2022-03-11T17:52:27.076Z"
   },
   {
    "duration": 12,
    "start_time": "2022-03-11T17:52:27.105Z"
   },
   {
    "duration": 8,
    "start_time": "2022-03-11T17:52:27.118Z"
   },
   {
    "duration": 21,
    "start_time": "2022-03-11T17:52:27.127Z"
   },
   {
    "duration": 15,
    "start_time": "2022-03-11T17:52:27.150Z"
   },
   {
    "duration": 35,
    "start_time": "2022-03-11T17:52:27.166Z"
   },
   {
    "duration": 19,
    "start_time": "2022-03-11T17:52:27.203Z"
   },
   {
    "duration": 4,
    "start_time": "2022-03-11T17:52:27.224Z"
   },
   {
    "duration": 27,
    "start_time": "2022-03-11T17:52:27.229Z"
   },
   {
    "duration": 12,
    "start_time": "2022-03-11T17:52:27.258Z"
   },
   {
    "duration": 39,
    "start_time": "2022-03-11T17:52:27.271Z"
   },
   {
    "duration": 7,
    "start_time": "2022-03-11T17:52:27.312Z"
   },
   {
    "duration": 12,
    "start_time": "2022-03-11T17:52:27.321Z"
   },
   {
    "duration": 41,
    "start_time": "2022-03-11T17:52:27.335Z"
   },
   {
    "duration": 15,
    "start_time": "2022-03-11T17:52:27.378Z"
   },
   {
    "duration": 296,
    "start_time": "2022-03-11T17:52:41.802Z"
   },
   {
    "duration": 334,
    "start_time": "2022-03-11T17:54:39.719Z"
   },
   {
    "duration": 302,
    "start_time": "2022-03-11T17:54:51.385Z"
   },
   {
    "duration": 13,
    "start_time": "2022-03-11T17:55:07.647Z"
   },
   {
    "duration": 9,
    "start_time": "2022-03-11T17:55:13.591Z"
   },
   {
    "duration": 15,
    "start_time": "2022-03-11T17:55:20.600Z"
   },
   {
    "duration": 17,
    "start_time": "2022-03-11T17:55:36.580Z"
   },
   {
    "duration": 12,
    "start_time": "2022-03-11T17:55:51.637Z"
   },
   {
    "duration": 12,
    "start_time": "2022-03-11T17:55:57.322Z"
   },
   {
    "duration": 10,
    "start_time": "2022-03-11T17:56:03.473Z"
   },
   {
    "duration": 7,
    "start_time": "2022-03-11T18:01:36.582Z"
   },
   {
    "duration": 7,
    "start_time": "2022-03-11T18:01:49.760Z"
   },
   {
    "duration": 6,
    "start_time": "2022-03-11T18:01:59.614Z"
   },
   {
    "duration": 6,
    "start_time": "2022-03-11T18:02:09.939Z"
   },
   {
    "duration": 7,
    "start_time": "2022-03-11T18:02:20.310Z"
   },
   {
    "duration": 18,
    "start_time": "2022-03-11T18:03:35.077Z"
   },
   {
    "duration": 9,
    "start_time": "2022-03-11T18:04:17.025Z"
   },
   {
    "duration": 215,
    "start_time": "2022-03-11T18:06:45.583Z"
   },
   {
    "duration": 8,
    "start_time": "2022-03-11T18:07:09.031Z"
   },
   {
    "duration": 8,
    "start_time": "2022-03-11T18:07:23.609Z"
   },
   {
    "duration": 7,
    "start_time": "2022-03-11T18:07:28.517Z"
   },
   {
    "duration": 21,
    "start_time": "2022-03-11T18:07:48.905Z"
   },
   {
    "duration": 674,
    "start_time": "2022-03-11T18:07:57.022Z"
   },
   {
    "duration": 14,
    "start_time": "2022-03-11T18:07:57.701Z"
   },
   {
    "duration": 12,
    "start_time": "2022-03-11T18:07:57.718Z"
   },
   {
    "duration": 26,
    "start_time": "2022-03-11T18:07:57.733Z"
   },
   {
    "duration": 41,
    "start_time": "2022-03-11T18:07:57.761Z"
   },
   {
    "duration": 5,
    "start_time": "2022-03-11T18:07:57.805Z"
   },
   {
    "duration": 17,
    "start_time": "2022-03-11T18:07:57.811Z"
   },
   {
    "duration": 20,
    "start_time": "2022-03-11T18:07:57.830Z"
   },
   {
    "duration": 15,
    "start_time": "2022-03-11T18:07:57.853Z"
   },
   {
    "duration": 45,
    "start_time": "2022-03-11T18:07:57.871Z"
   },
   {
    "duration": 16,
    "start_time": "2022-03-11T18:07:57.919Z"
   },
   {
    "duration": 19,
    "start_time": "2022-03-11T18:07:57.937Z"
   },
   {
    "duration": 43,
    "start_time": "2022-03-11T18:07:57.958Z"
   },
   {
    "duration": 16,
    "start_time": "2022-03-11T18:07:58.003Z"
   },
   {
    "duration": 30,
    "start_time": "2022-03-11T18:07:58.021Z"
   },
   {
    "duration": 7,
    "start_time": "2022-03-11T18:07:58.053Z"
   },
   {
    "duration": 11,
    "start_time": "2022-03-11T18:07:58.062Z"
   },
   {
    "duration": 14,
    "start_time": "2022-03-11T18:07:58.075Z"
   },
   {
    "duration": 49,
    "start_time": "2022-03-11T18:07:58.091Z"
   },
   {
    "duration": 24,
    "start_time": "2022-03-11T18:07:58.142Z"
   },
   {
    "duration": 64,
    "start_time": "2022-03-11T18:07:58.169Z"
   },
   {
    "duration": 6,
    "start_time": "2022-03-11T18:07:58.235Z"
   },
   {
    "duration": 21,
    "start_time": "2022-03-11T18:07:58.243Z"
   },
   {
    "duration": 10,
    "start_time": "2022-03-11T18:07:58.266Z"
   },
   {
    "duration": 28,
    "start_time": "2022-03-11T18:07:58.278Z"
   },
   {
    "duration": 29,
    "start_time": "2022-03-11T18:07:58.308Z"
   },
   {
    "duration": 13,
    "start_time": "2022-03-11T18:07:58.340Z"
   },
   {
    "duration": 5,
    "start_time": "2022-03-11T18:07:58.355Z"
   },
   {
    "duration": 38,
    "start_time": "2022-03-11T18:07:58.362Z"
   },
   {
    "duration": 5,
    "start_time": "2022-03-11T18:07:58.402Z"
   },
   {
    "duration": 27,
    "start_time": "2022-03-11T18:07:58.409Z"
   },
   {
    "duration": 8,
    "start_time": "2022-03-11T18:07:58.439Z"
   },
   {
    "duration": 52,
    "start_time": "2022-03-11T18:07:58.449Z"
   },
   {
    "duration": 7,
    "start_time": "2022-03-11T18:07:58.503Z"
   },
   {
    "duration": 8,
    "start_time": "2022-03-11T18:07:58.512Z"
   },
   {
    "duration": 22,
    "start_time": "2022-03-11T18:07:58.523Z"
   },
   {
    "duration": 12,
    "start_time": "2022-03-11T18:07:58.547Z"
   },
   {
    "duration": 41,
    "start_time": "2022-03-11T18:07:58.561Z"
   },
   {
    "duration": 5,
    "start_time": "2022-03-11T18:07:58.604Z"
   },
   {
    "duration": 6,
    "start_time": "2022-03-11T18:07:58.611Z"
   },
   {
    "duration": 7,
    "start_time": "2022-03-11T18:07:58.619Z"
   },
   {
    "duration": 13,
    "start_time": "2022-03-11T18:07:58.628Z"
   },
   {
    "duration": 22,
    "start_time": "2022-03-11T18:07:58.643Z"
   },
   {
    "duration": 39,
    "start_time": "2022-03-11T18:07:58.666Z"
   },
   {
    "duration": 10,
    "start_time": "2022-03-11T18:07:58.707Z"
   },
   {
    "duration": 8,
    "start_time": "2022-03-11T18:07:58.719Z"
   },
   {
    "duration": 10,
    "start_time": "2022-03-11T18:07:58.729Z"
   },
   {
    "duration": 7,
    "start_time": "2022-03-11T18:08:05.471Z"
   },
   {
    "duration": 7,
    "start_time": "2022-03-11T18:08:11.716Z"
   },
   {
    "duration": 20,
    "start_time": "2022-03-11T18:08:45.561Z"
   },
   {
    "duration": 11,
    "start_time": "2022-03-11T18:09:22.330Z"
   },
   {
    "duration": 8,
    "start_time": "2022-03-11T18:13:08.713Z"
   },
   {
    "duration": 6,
    "start_time": "2022-03-11T18:13:23.819Z"
   },
   {
    "duration": 8,
    "start_time": "2022-03-11T18:13:30.902Z"
   },
   {
    "duration": 7,
    "start_time": "2022-03-11T18:13:44.381Z"
   },
   {
    "duration": 7,
    "start_time": "2022-03-11T18:14:00.505Z"
   },
   {
    "duration": 21,
    "start_time": "2022-03-11T18:14:27.488Z"
   },
   {
    "duration": 12,
    "start_time": "2022-03-11T18:15:00.848Z"
   },
   {
    "duration": 651,
    "start_time": "2022-03-14T06:55:24.580Z"
   },
   {
    "duration": 11,
    "start_time": "2022-03-14T06:55:25.232Z"
   },
   {
    "duration": 11,
    "start_time": "2022-03-14T06:55:25.245Z"
   },
   {
    "duration": 27,
    "start_time": "2022-03-14T06:55:25.258Z"
   },
   {
    "duration": 6,
    "start_time": "2022-03-14T06:55:25.286Z"
   },
   {
    "duration": 13,
    "start_time": "2022-03-14T06:55:25.293Z"
   },
   {
    "duration": 26,
    "start_time": "2022-03-14T06:55:25.307Z"
   },
   {
    "duration": 11,
    "start_time": "2022-03-14T06:55:25.335Z"
   },
   {
    "duration": 18,
    "start_time": "2022-03-14T06:55:25.348Z"
   },
   {
    "duration": 13,
    "start_time": "2022-03-14T06:55:25.367Z"
   },
   {
    "duration": 25,
    "start_time": "2022-03-14T06:55:25.381Z"
   },
   {
    "duration": 22,
    "start_time": "2022-03-14T06:55:25.407Z"
   },
   {
    "duration": 27,
    "start_time": "2022-03-14T06:55:25.430Z"
   },
   {
    "duration": 11,
    "start_time": "2022-03-14T06:55:25.458Z"
   },
   {
    "duration": 18,
    "start_time": "2022-03-14T06:55:25.470Z"
   },
   {
    "duration": 6,
    "start_time": "2022-03-14T06:55:25.490Z"
   },
   {
    "duration": 16,
    "start_time": "2022-03-14T06:55:25.497Z"
   },
   {
    "duration": 22,
    "start_time": "2022-03-14T06:55:25.514Z"
   },
   {
    "duration": 28,
    "start_time": "2022-03-14T06:55:25.537Z"
   },
   {
    "duration": 12,
    "start_time": "2022-03-14T06:55:25.566Z"
   },
   {
    "duration": 32,
    "start_time": "2022-03-14T06:55:25.580Z"
   },
   {
    "duration": 4,
    "start_time": "2022-03-14T06:55:25.613Z"
   },
   {
    "duration": 16,
    "start_time": "2022-03-14T06:55:25.620Z"
   },
   {
    "duration": 20,
    "start_time": "2022-03-14T06:55:25.638Z"
   },
   {
    "duration": 11,
    "start_time": "2022-03-14T06:55:25.659Z"
   },
   {
    "duration": 28,
    "start_time": "2022-03-14T06:55:25.672Z"
   },
   {
    "duration": 25,
    "start_time": "2022-03-14T06:55:25.701Z"
   },
   {
    "duration": 19,
    "start_time": "2022-03-14T06:55:25.728Z"
   },
   {
    "duration": 28,
    "start_time": "2022-03-14T06:55:25.748Z"
   },
   {
    "duration": 18,
    "start_time": "2022-03-14T06:55:25.777Z"
   },
   {
    "duration": 53,
    "start_time": "2022-03-14T06:55:25.796Z"
   },
   {
    "duration": 19,
    "start_time": "2022-03-14T06:55:25.850Z"
   },
   {
    "duration": 33,
    "start_time": "2022-03-14T06:55:25.871Z"
   },
   {
    "duration": 19,
    "start_time": "2022-03-14T06:55:25.905Z"
   },
   {
    "duration": 17,
    "start_time": "2022-03-14T06:55:25.926Z"
   },
   {
    "duration": 24,
    "start_time": "2022-03-14T06:55:25.945Z"
   },
   {
    "duration": 15,
    "start_time": "2022-03-14T06:55:25.970Z"
   },
   {
    "duration": 46,
    "start_time": "2022-03-14T06:55:25.987Z"
   },
   {
    "duration": 14,
    "start_time": "2022-03-14T06:55:26.035Z"
   },
   {
    "duration": 27,
    "start_time": "2022-03-14T06:55:26.050Z"
   },
   {
    "duration": 25,
    "start_time": "2022-03-14T06:55:26.078Z"
   },
   {
    "duration": 29,
    "start_time": "2022-03-14T06:55:26.105Z"
   },
   {
    "duration": 13,
    "start_time": "2022-03-14T06:55:26.136Z"
   },
   {
    "duration": 560,
    "start_time": "2022-03-24T07:40:52.313Z"
   },
   {
    "duration": 20,
    "start_time": "2022-03-24T07:40:52.876Z"
   },
   {
    "duration": 13,
    "start_time": "2022-03-24T07:40:52.898Z"
   },
   {
    "duration": 62,
    "start_time": "2022-03-24T07:40:52.913Z"
   },
   {
    "duration": 8,
    "start_time": "2022-03-24T07:40:52.978Z"
   },
   {
    "duration": 8,
    "start_time": "2022-03-24T07:40:52.988Z"
   },
   {
    "duration": 20,
    "start_time": "2022-03-24T07:40:52.998Z"
   },
   {
    "duration": 60,
    "start_time": "2022-03-24T07:40:53.020Z"
   },
   {
    "duration": 24,
    "start_time": "2022-03-24T07:40:53.082Z"
   },
   {
    "duration": 20,
    "start_time": "2022-03-24T07:40:53.108Z"
   },
   {
    "duration": 52,
    "start_time": "2022-03-24T07:40:53.131Z"
   },
   {
    "duration": 20,
    "start_time": "2022-03-24T07:40:53.185Z"
   },
   {
    "duration": 20,
    "start_time": "2022-03-24T07:40:53.208Z"
   },
   {
    "duration": 48,
    "start_time": "2022-03-24T07:40:53.232Z"
   },
   {
    "duration": 20,
    "start_time": "2022-03-24T07:40:53.282Z"
   },
   {
    "duration": 9,
    "start_time": "2022-03-24T07:40:53.304Z"
   },
   {
    "duration": 27,
    "start_time": "2022-03-24T07:40:53.315Z"
   },
   {
    "duration": 24,
    "start_time": "2022-03-24T07:40:53.344Z"
   },
   {
    "duration": 35,
    "start_time": "2022-03-24T07:40:53.370Z"
   },
   {
    "duration": 25,
    "start_time": "2022-03-24T07:40:53.407Z"
   },
   {
    "duration": 80,
    "start_time": "2022-03-24T07:40:53.434Z"
   },
   {
    "duration": 7,
    "start_time": "2022-03-24T07:40:53.516Z"
   },
   {
    "duration": 44,
    "start_time": "2022-03-24T07:40:53.525Z"
   },
   {
    "duration": 8,
    "start_time": "2022-03-24T07:40:53.572Z"
   },
   {
    "duration": 8,
    "start_time": "2022-03-24T07:40:53.582Z"
   },
   {
    "duration": 23,
    "start_time": "2022-03-24T07:40:53.592Z"
   },
   {
    "duration": 53,
    "start_time": "2022-03-24T07:40:53.618Z"
   },
   {
    "duration": 5,
    "start_time": "2022-03-24T07:40:53.673Z"
   },
   {
    "duration": 20,
    "start_time": "2022-03-24T07:40:53.680Z"
   },
   {
    "duration": 5,
    "start_time": "2022-03-24T07:40:53.702Z"
   },
   {
    "duration": 60,
    "start_time": "2022-03-24T07:40:53.709Z"
   },
   {
    "duration": 8,
    "start_time": "2022-03-24T07:40:53.771Z"
   },
   {
    "duration": 26,
    "start_time": "2022-03-24T07:40:53.782Z"
   },
   {
    "duration": 8,
    "start_time": "2022-03-24T07:40:53.811Z"
   },
   {
    "duration": 49,
    "start_time": "2022-03-24T07:40:53.821Z"
   },
   {
    "duration": 25,
    "start_time": "2022-03-24T07:40:53.873Z"
   },
   {
    "duration": 11,
    "start_time": "2022-03-24T07:40:53.900Z"
   },
   {
    "duration": 56,
    "start_time": "2022-03-24T07:40:53.913Z"
   },
   {
    "duration": 11,
    "start_time": "2022-03-24T07:40:53.971Z"
   },
   {
    "duration": 24,
    "start_time": "2022-03-24T07:40:53.984Z"
   },
   {
    "duration": 12,
    "start_time": "2022-03-24T07:40:54.014Z"
   },
   {
    "duration": 59,
    "start_time": "2022-03-24T07:40:54.028Z"
   },
   {
    "duration": 12,
    "start_time": "2022-03-24T07:40:54.089Z"
   },
   {
    "duration": 16,
    "start_time": "2022-03-24T07:47:09.548Z"
   },
   {
    "duration": 17,
    "start_time": "2022-03-24T07:47:14.128Z"
   },
   {
    "duration": 20,
    "start_time": "2022-03-24T07:47:20.397Z"
   },
   {
    "duration": 19,
    "start_time": "2022-03-24T07:47:21.805Z"
   },
   {
    "duration": 223,
    "start_time": "2022-03-24T10:16:36.080Z"
   },
   {
    "duration": 218,
    "start_time": "2022-03-24T10:20:51.204Z"
   },
   {
    "duration": 65,
    "start_time": "2022-03-24T10:20:58.234Z"
   },
   {
    "duration": 523,
    "start_time": "2022-03-24T10:21:08.775Z"
   },
   {
    "duration": 105,
    "start_time": "2022-03-24T10:21:09.300Z"
   },
   {
    "duration": 21,
    "start_time": "2022-03-24T10:21:09.407Z"
   },
   {
    "duration": 12,
    "start_time": "2022-03-24T10:21:09.444Z"
   },
   {
    "duration": 31,
    "start_time": "2022-03-24T10:21:09.458Z"
   },
   {
    "duration": 9,
    "start_time": "2022-03-24T10:21:09.491Z"
   },
   {
    "duration": 8,
    "start_time": "2022-03-24T10:21:09.502Z"
   },
   {
    "duration": 28,
    "start_time": "2022-03-24T10:21:09.544Z"
   },
   {
    "duration": 23,
    "start_time": "2022-03-24T10:21:09.574Z"
   },
   {
    "duration": 50,
    "start_time": "2022-03-24T10:21:09.602Z"
   },
   {
    "duration": 22,
    "start_time": "2022-03-24T10:21:09.654Z"
   },
   {
    "duration": 18,
    "start_time": "2022-03-24T10:21:09.678Z"
   },
   {
    "duration": 47,
    "start_time": "2022-03-24T10:21:09.698Z"
   },
   {
    "duration": 26,
    "start_time": "2022-03-24T10:21:09.747Z"
   },
   {
    "duration": 27,
    "start_time": "2022-03-24T10:21:09.776Z"
   },
   {
    "duration": 41,
    "start_time": "2022-03-24T10:21:09.805Z"
   },
   {
    "duration": 9,
    "start_time": "2022-03-24T10:21:09.848Z"
   },
   {
    "duration": 9,
    "start_time": "2022-03-24T10:21:09.859Z"
   },
   {
    "duration": 29,
    "start_time": "2022-03-24T10:21:09.870Z"
   },
   {
    "duration": 19,
    "start_time": "2022-03-24T10:21:09.901Z"
   },
   {
    "duration": 48,
    "start_time": "2022-03-24T10:21:09.922Z"
   },
   {
    "duration": 27,
    "start_time": "2022-03-24T10:21:09.972Z"
   },
   {
    "duration": 78,
    "start_time": "2022-03-24T10:21:10.002Z"
   },
   {
    "duration": 7,
    "start_time": "2022-03-24T10:21:10.082Z"
   },
   {
    "duration": 26,
    "start_time": "2022-03-24T10:21:10.091Z"
   },
   {
    "duration": 24,
    "start_time": "2022-03-24T10:21:10.120Z"
   },
   {
    "duration": 8,
    "start_time": "2022-03-24T10:21:10.146Z"
   },
   {
    "duration": 36,
    "start_time": "2022-03-24T10:21:10.161Z"
   },
   {
    "duration": 17,
    "start_time": "2022-03-24T10:21:10.199Z"
   },
   {
    "duration": 5,
    "start_time": "2022-03-24T10:21:10.243Z"
   },
   {
    "duration": 20,
    "start_time": "2022-03-24T10:21:10.251Z"
   },
   {
    "duration": 6,
    "start_time": "2022-03-24T10:21:10.274Z"
   },
   {
    "duration": 66,
    "start_time": "2022-03-24T10:21:10.283Z"
   },
   {
    "duration": 9,
    "start_time": "2022-03-24T10:21:10.352Z"
   },
   {
    "duration": 31,
    "start_time": "2022-03-24T10:21:10.363Z"
   },
   {
    "duration": 8,
    "start_time": "2022-03-24T10:21:10.396Z"
   },
   {
    "duration": 7,
    "start_time": "2022-03-24T10:21:10.444Z"
   },
   {
    "duration": 31,
    "start_time": "2022-03-24T10:21:10.453Z"
   },
   {
    "duration": 11,
    "start_time": "2022-03-24T10:21:10.487Z"
   },
   {
    "duration": 48,
    "start_time": "2022-03-24T10:21:10.501Z"
   },
   {
    "duration": 18,
    "start_time": "2022-03-24T10:21:10.552Z"
   },
   {
    "duration": 17,
    "start_time": "2022-03-24T10:21:10.572Z"
   },
   {
    "duration": 66,
    "start_time": "2022-03-24T10:21:10.592Z"
   },
   {
    "duration": 13,
    "start_time": "2022-03-24T10:21:10.660Z"
   },
   {
    "duration": 23,
    "start_time": "2022-03-24T10:21:10.675Z"
   },
   {
    "duration": 50,
    "start_time": "2022-03-24T10:21:10.700Z"
   },
   {
    "duration": 28,
    "start_time": "2022-03-24T10:21:10.752Z"
   },
   {
    "duration": 13,
    "start_time": "2022-03-24T10:21:10.782Z"
   },
   {
    "duration": 96,
    "start_time": "2022-03-24T10:21:29.753Z"
   },
   {
    "duration": 206,
    "start_time": "2022-03-24T10:21:44.428Z"
   },
   {
    "duration": 6,
    "start_time": "2022-03-24T10:22:00.147Z"
   },
   {
    "duration": 12,
    "start_time": "2022-03-24T11:19:04.891Z"
   },
   {
    "duration": 493,
    "start_time": "2022-03-24T11:19:29.168Z"
   },
   {
    "duration": 104,
    "start_time": "2022-03-24T11:19:29.664Z"
   },
   {
    "duration": 20,
    "start_time": "2022-03-24T11:19:29.771Z"
   },
   {
    "duration": 12,
    "start_time": "2022-03-24T11:19:29.794Z"
   },
   {
    "duration": 61,
    "start_time": "2022-03-24T11:19:29.808Z"
   },
   {
    "duration": 9,
    "start_time": "2022-03-24T11:19:29.871Z"
   },
   {
    "duration": 8,
    "start_time": "2022-03-24T11:19:29.882Z"
   },
   {
    "duration": 54,
    "start_time": "2022-03-24T11:19:29.892Z"
   },
   {
    "duration": 21,
    "start_time": "2022-03-24T11:19:29.949Z"
   },
   {
    "duration": 21,
    "start_time": "2022-03-24T11:19:29.975Z"
   },
   {
    "duration": 53,
    "start_time": "2022-03-24T11:19:29.998Z"
   },
   {
    "duration": 19,
    "start_time": "2022-03-24T11:19:30.053Z"
   },
   {
    "duration": 22,
    "start_time": "2022-03-24T11:19:30.074Z"
   },
   {
    "duration": 47,
    "start_time": "2022-03-24T11:19:30.098Z"
   },
   {
    "duration": 21,
    "start_time": "2022-03-24T11:19:30.148Z"
   },
   {
    "duration": 21,
    "start_time": "2022-03-24T11:19:30.171Z"
   },
   {
    "duration": 8,
    "start_time": "2022-03-24T11:19:30.194Z"
   },
   {
    "duration": 8,
    "start_time": "2022-03-24T11:19:30.204Z"
   },
   {
    "duration": 8,
    "start_time": "2022-03-24T11:19:30.243Z"
   },
   {
    "duration": 17,
    "start_time": "2022-03-24T11:19:30.253Z"
   },
   {
    "duration": 46,
    "start_time": "2022-03-24T11:19:30.272Z"
   },
   {
    "duration": 46,
    "start_time": "2022-03-24T11:19:30.320Z"
   },
   {
    "duration": 51,
    "start_time": "2022-03-24T11:19:30.368Z"
   },
   {
    "duration": 24,
    "start_time": "2022-03-24T11:19:30.422Z"
   },
   {
    "duration": 21,
    "start_time": "2022-03-24T11:19:30.448Z"
   },
   {
    "duration": 21,
    "start_time": "2022-03-24T11:19:30.472Z"
   },
   {
    "duration": 9,
    "start_time": "2022-03-24T11:19:30.495Z"
   },
   {
    "duration": 47,
    "start_time": "2022-03-24T11:19:30.511Z"
   },
   {
    "duration": 36,
    "start_time": "2022-03-24T11:19:30.561Z"
   },
   {
    "duration": 5,
    "start_time": "2022-03-24T11:19:30.600Z"
   },
   {
    "duration": 21,
    "start_time": "2022-03-24T11:19:30.607Z"
   },
   {
    "duration": 4,
    "start_time": "2022-03-24T11:19:30.643Z"
   },
   {
    "duration": 35,
    "start_time": "2022-03-24T11:19:30.649Z"
   },
   {
    "duration": 8,
    "start_time": "2022-03-24T11:19:30.686Z"
   },
   {
    "duration": 63,
    "start_time": "2022-03-24T11:19:30.696Z"
   },
   {
    "duration": 9,
    "start_time": "2022-03-24T11:19:30.762Z"
   },
   {
    "duration": 11,
    "start_time": "2022-03-24T11:19:30.773Z"
   },
   {
    "duration": 30,
    "start_time": "2022-03-24T11:19:30.786Z"
   },
   {
    "duration": 12,
    "start_time": "2022-03-24T11:19:30.844Z"
   },
   {
    "duration": 24,
    "start_time": "2022-03-24T11:19:30.859Z"
   },
   {
    "duration": 19,
    "start_time": "2022-03-24T11:19:30.885Z"
   },
   {
    "duration": 50,
    "start_time": "2022-03-24T11:19:30.906Z"
   },
   {
    "duration": 23,
    "start_time": "2022-03-24T11:19:30.958Z"
   },
   {
    "duration": 11,
    "start_time": "2022-03-24T11:19:30.983Z"
   },
   {
    "duration": 61,
    "start_time": "2022-03-24T11:19:30.996Z"
   },
   {
    "duration": 14,
    "start_time": "2022-03-24T11:19:31.059Z"
   },
   {
    "duration": 36,
    "start_time": "2022-03-24T11:19:31.075Z"
   },
   {
    "duration": 32,
    "start_time": "2022-03-24T11:19:31.113Z"
   },
   {
    "duration": 51,
    "start_time": "2022-03-25T08:04:13.314Z"
   },
   {
    "duration": 444,
    "start_time": "2022-03-25T08:04:20.533Z"
   },
   {
    "duration": 90,
    "start_time": "2022-03-25T08:04:20.979Z"
   },
   {
    "duration": 16,
    "start_time": "2022-03-25T08:04:21.071Z"
   },
   {
    "duration": 18,
    "start_time": "2022-03-25T08:04:21.089Z"
   },
   {
    "duration": 37,
    "start_time": "2022-03-25T08:04:21.110Z"
   },
   {
    "duration": 8,
    "start_time": "2022-03-25T08:04:21.149Z"
   },
   {
    "duration": 7,
    "start_time": "2022-03-25T08:04:21.159Z"
   },
   {
    "duration": 17,
    "start_time": "2022-03-25T08:04:21.168Z"
   },
   {
    "duration": 51,
    "start_time": "2022-03-25T08:04:21.187Z"
   },
   {
    "duration": 16,
    "start_time": "2022-03-25T08:04:21.239Z"
   },
   {
    "duration": 15,
    "start_time": "2022-03-25T08:04:21.257Z"
   },
   {
    "duration": 17,
    "start_time": "2022-03-25T08:04:21.274Z"
   },
   {
    "duration": 41,
    "start_time": "2022-03-25T08:04:21.292Z"
   },
   {
    "duration": 14,
    "start_time": "2022-03-25T08:04:21.336Z"
   },
   {
    "duration": 18,
    "start_time": "2022-03-25T08:04:21.351Z"
   },
   {
    "duration": 17,
    "start_time": "2022-03-25T08:04:21.371Z"
   },
   {
    "duration": 8,
    "start_time": "2022-03-25T08:04:21.389Z"
   },
   {
    "duration": 34,
    "start_time": "2022-03-25T08:04:21.398Z"
   },
   {
    "duration": 12,
    "start_time": "2022-03-25T08:04:21.434Z"
   },
   {
    "duration": 8,
    "start_time": "2022-03-25T08:04:21.448Z"
   },
   {
    "duration": 28,
    "start_time": "2022-03-25T08:04:21.458Z"
   },
   {
    "duration": 45,
    "start_time": "2022-03-25T08:04:21.489Z"
   },
   {
    "duration": 36,
    "start_time": "2022-03-25T08:04:21.536Z"
   },
   {
    "duration": 6,
    "start_time": "2022-03-25T08:04:21.574Z"
   },
   {
    "duration": 16,
    "start_time": "2022-03-25T08:04:21.582Z"
   },
   {
    "duration": 39,
    "start_time": "2022-03-25T08:04:21.600Z"
   },
   {
    "duration": 8,
    "start_time": "2022-03-25T08:04:21.642Z"
   },
   {
    "duration": 21,
    "start_time": "2022-03-25T08:04:21.652Z"
   },
   {
    "duration": 13,
    "start_time": "2022-03-25T08:04:21.675Z"
   },
   {
    "duration": 4,
    "start_time": "2022-03-25T08:04:21.690Z"
   },
   {
    "duration": 48,
    "start_time": "2022-03-25T08:04:21.695Z"
   },
   {
    "duration": 5,
    "start_time": "2022-03-25T08:04:21.745Z"
   },
   {
    "duration": 23,
    "start_time": "2022-03-25T08:04:21.751Z"
   },
   {
    "duration": 11,
    "start_time": "2022-03-25T08:04:21.777Z"
   },
   {
    "duration": 50,
    "start_time": "2022-03-25T08:04:21.790Z"
   },
   {
    "duration": 7,
    "start_time": "2022-03-25T08:04:21.842Z"
   },
   {
    "duration": 6,
    "start_time": "2022-03-25T08:04:21.850Z"
   },
   {
    "duration": 20,
    "start_time": "2022-03-25T08:04:21.858Z"
   },
   {
    "duration": 10,
    "start_time": "2022-03-25T08:04:21.880Z"
   },
   {
    "duration": 50,
    "start_time": "2022-03-25T08:04:21.892Z"
   },
   {
    "duration": 15,
    "start_time": "2022-03-25T08:04:21.947Z"
   },
   {
    "duration": 14,
    "start_time": "2022-03-25T08:04:21.964Z"
   },
   {
    "duration": 16,
    "start_time": "2022-03-25T08:04:21.980Z"
   },
   {
    "duration": 42,
    "start_time": "2022-03-25T08:04:21.997Z"
   },
   {
    "duration": 17,
    "start_time": "2022-03-25T08:04:22.041Z"
   },
   {
    "duration": 11,
    "start_time": "2022-03-25T08:04:22.059Z"
   },
   {
    "duration": 25,
    "start_time": "2022-03-25T08:04:22.072Z"
   },
   {
    "duration": 39,
    "start_time": "2022-03-25T08:04:22.099Z"
   },
   {
    "duration": 6,
    "start_time": "2022-03-25T08:04:52.643Z"
   },
   {
    "duration": 8,
    "start_time": "2022-03-25T08:05:16.335Z"
   },
   {
    "duration": 454,
    "start_time": "2022-03-25T08:05:47.615Z"
   },
   {
    "duration": 85,
    "start_time": "2022-03-25T08:05:48.071Z"
   },
   {
    "duration": 16,
    "start_time": "2022-03-25T08:05:48.157Z"
   },
   {
    "duration": 11,
    "start_time": "2022-03-25T08:05:48.175Z"
   },
   {
    "duration": 44,
    "start_time": "2022-03-25T08:05:48.188Z"
   },
   {
    "duration": 8,
    "start_time": "2022-03-25T08:05:48.233Z"
   },
   {
    "duration": 7,
    "start_time": "2022-03-25T08:05:48.242Z"
   },
   {
    "duration": 16,
    "start_time": "2022-03-25T08:05:48.251Z"
   },
   {
    "duration": 16,
    "start_time": "2022-03-25T08:05:48.268Z"
   },
   {
    "duration": 46,
    "start_time": "2022-03-25T08:05:48.287Z"
   },
   {
    "duration": 15,
    "start_time": "2022-03-25T08:05:48.335Z"
   },
   {
    "duration": 18,
    "start_time": "2022-03-25T08:05:48.352Z"
   },
   {
    "duration": 17,
    "start_time": "2022-03-25T08:05:48.372Z"
   },
   {
    "duration": 42,
    "start_time": "2022-03-25T08:05:48.391Z"
   },
   {
    "duration": 16,
    "start_time": "2022-03-25T08:05:48.435Z"
   },
   {
    "duration": 20,
    "start_time": "2022-03-25T08:05:48.453Z"
   },
   {
    "duration": 14,
    "start_time": "2022-03-25T08:05:48.474Z"
   },
   {
    "duration": 9,
    "start_time": "2022-03-25T08:05:48.489Z"
   },
   {
    "duration": 9,
    "start_time": "2022-03-25T08:05:48.499Z"
   },
   {
    "duration": 4,
    "start_time": "2022-03-25T08:05:48.510Z"
   },
   {
    "duration": 18,
    "start_time": "2022-03-25T08:05:48.516Z"
   },
   {
    "duration": 32,
    "start_time": "2022-03-25T08:05:48.536Z"
   },
   {
    "duration": 18,
    "start_time": "2022-03-25T08:05:48.570Z"
   },
   {
    "duration": 56,
    "start_time": "2022-03-25T08:05:48.589Z"
   },
   {
    "duration": 6,
    "start_time": "2022-03-25T08:05:48.647Z"
   },
   {
    "duration": 14,
    "start_time": "2022-03-25T08:05:48.655Z"
   },
   {
    "duration": 10,
    "start_time": "2022-03-25T08:05:48.671Z"
   },
   {
    "duration": 8,
    "start_time": "2022-03-25T08:05:48.685Z"
   },
   {
    "duration": 45,
    "start_time": "2022-03-25T08:05:48.695Z"
   },
   {
    "duration": 12,
    "start_time": "2022-03-25T08:05:48.741Z"
   },
   {
    "duration": 6,
    "start_time": "2022-03-25T08:05:48.755Z"
   },
   {
    "duration": 15,
    "start_time": "2022-03-25T08:05:48.762Z"
   },
   {
    "duration": 7,
    "start_time": "2022-03-25T08:05:48.778Z"
   },
   {
    "duration": 22,
    "start_time": "2022-03-25T08:05:48.786Z"
   },
   {
    "duration": 6,
    "start_time": "2022-03-25T08:05:48.832Z"
   },
   {
    "duration": 23,
    "start_time": "2022-03-25T08:05:48.839Z"
   },
   {
    "duration": 8,
    "start_time": "2022-03-25T08:05:48.864Z"
   },
   {
    "duration": 7,
    "start_time": "2022-03-25T08:05:48.873Z"
   },
   {
    "duration": 50,
    "start_time": "2022-03-25T08:05:48.881Z"
   },
   {
    "duration": 9,
    "start_time": "2022-03-25T08:05:48.932Z"
   },
   {
    "duration": 16,
    "start_time": "2022-03-25T08:05:48.943Z"
   },
   {
    "duration": 12,
    "start_time": "2022-03-25T08:05:48.961Z"
   },
   {
    "duration": 11,
    "start_time": "2022-03-25T08:05:48.975Z"
   },
   {
    "duration": 46,
    "start_time": "2022-03-25T08:05:48.987Z"
   },
   {
    "duration": 8,
    "start_time": "2022-03-25T08:05:49.034Z"
   },
   {
    "duration": 19,
    "start_time": "2022-03-25T08:05:49.044Z"
   },
   {
    "duration": 10,
    "start_time": "2022-03-25T08:05:49.064Z"
   },
   {
    "duration": 23,
    "start_time": "2022-03-25T08:05:49.076Z"
   },
   {
    "duration": 38,
    "start_time": "2022-03-25T08:05:49.101Z"
   },
   {
    "duration": 177,
    "start_time": "2022-03-25T08:07:30.934Z"
   },
   {
    "duration": 1951,
    "start_time": "2022-03-25T08:07:38.060Z"
   },
   {
    "duration": 165,
    "start_time": "2022-03-25T08:07:42.313Z"
   },
   {
    "duration": 98,
    "start_time": "2022-03-25T08:07:52.555Z"
   },
   {
    "duration": 15,
    "start_time": "2022-03-25T08:08:17.468Z"
   },
   {
    "duration": 7,
    "start_time": "2022-03-25T08:08:26.190Z"
   },
   {
    "duration": 6,
    "start_time": "2022-03-25T08:08:52.328Z"
   },
   {
    "duration": 4,
    "start_time": "2022-03-25T08:09:12.927Z"
   },
   {
    "duration": 5,
    "start_time": "2022-03-25T08:09:19.793Z"
   },
   {
    "duration": 10,
    "start_time": "2022-03-25T08:09:32.006Z"
   },
   {
    "duration": 5,
    "start_time": "2022-03-25T08:10:26.372Z"
   },
   {
    "duration": 6,
    "start_time": "2022-03-25T08:10:39.146Z"
   },
   {
    "duration": 7,
    "start_time": "2022-03-25T08:10:56.336Z"
   },
   {
    "duration": 9,
    "start_time": "2022-03-25T08:11:05.237Z"
   },
   {
    "duration": 7,
    "start_time": "2022-03-25T08:11:09.918Z"
   },
   {
    "duration": 8,
    "start_time": "2022-03-25T08:12:04.274Z"
   },
   {
    "duration": 7,
    "start_time": "2022-03-25T08:12:28.283Z"
   },
   {
    "duration": 414,
    "start_time": "2022-03-25T08:12:36.264Z"
   },
   {
    "duration": 100,
    "start_time": "2022-03-25T08:12:36.680Z"
   },
   {
    "duration": 17,
    "start_time": "2022-03-25T08:12:36.782Z"
   },
   {
    "duration": 11,
    "start_time": "2022-03-25T08:12:36.801Z"
   },
   {
    "duration": 36,
    "start_time": "2022-03-25T08:12:36.814Z"
   },
   {
    "duration": 7,
    "start_time": "2022-03-25T08:12:36.851Z"
   },
   {
    "duration": 6,
    "start_time": "2022-03-25T08:12:36.860Z"
   },
   {
    "duration": 17,
    "start_time": "2022-03-25T08:12:36.868Z"
   },
   {
    "duration": 47,
    "start_time": "2022-03-25T08:12:36.886Z"
   },
   {
    "duration": 18,
    "start_time": "2022-03-25T08:12:36.935Z"
   },
   {
    "duration": 18,
    "start_time": "2022-03-25T08:12:36.955Z"
   },
   {
    "duration": 14,
    "start_time": "2022-03-25T08:12:36.975Z"
   },
   {
    "duration": 46,
    "start_time": "2022-03-25T08:12:36.990Z"
   },
   {
    "duration": 18,
    "start_time": "2022-03-25T08:12:37.038Z"
   },
   {
    "duration": 16,
    "start_time": "2022-03-25T08:12:37.058Z"
   },
   {
    "duration": 17,
    "start_time": "2022-03-25T08:12:37.076Z"
   },
   {
    "duration": 6,
    "start_time": "2022-03-25T08:12:37.095Z"
   },
   {
    "duration": 4,
    "start_time": "2022-03-25T08:12:37.103Z"
   },
   {
    "duration": 5,
    "start_time": "2022-03-25T08:12:37.132Z"
   },
   {
    "duration": 7,
    "start_time": "2022-03-25T08:12:37.139Z"
   },
   {
    "duration": 85,
    "start_time": "2022-03-25T08:12:37.147Z"
   },
   {
    "duration": 0,
    "start_time": "2022-03-25T08:12:37.235Z"
   },
   {
    "duration": 0,
    "start_time": "2022-03-25T08:12:37.236Z"
   },
   {
    "duration": 0,
    "start_time": "2022-03-25T08:12:37.238Z"
   },
   {
    "duration": 0,
    "start_time": "2022-03-25T08:12:37.239Z"
   },
   {
    "duration": 0,
    "start_time": "2022-03-25T08:12:37.240Z"
   },
   {
    "duration": 0,
    "start_time": "2022-03-25T08:12:37.241Z"
   },
   {
    "duration": 0,
    "start_time": "2022-03-25T08:12:37.243Z"
   },
   {
    "duration": 0,
    "start_time": "2022-03-25T08:12:37.244Z"
   },
   {
    "duration": 0,
    "start_time": "2022-03-25T08:12:37.245Z"
   },
   {
    "duration": 0,
    "start_time": "2022-03-25T08:12:37.246Z"
   },
   {
    "duration": 0,
    "start_time": "2022-03-25T08:12:37.247Z"
   },
   {
    "duration": 0,
    "start_time": "2022-03-25T08:12:37.248Z"
   },
   {
    "duration": 0,
    "start_time": "2022-03-25T08:12:37.250Z"
   },
   {
    "duration": 0,
    "start_time": "2022-03-25T08:12:37.252Z"
   },
   {
    "duration": 0,
    "start_time": "2022-03-25T08:12:37.253Z"
   },
   {
    "duration": 0,
    "start_time": "2022-03-25T08:12:37.254Z"
   },
   {
    "duration": 0,
    "start_time": "2022-03-25T08:12:37.255Z"
   },
   {
    "duration": 0,
    "start_time": "2022-03-25T08:12:37.257Z"
   },
   {
    "duration": 0,
    "start_time": "2022-03-25T08:12:37.258Z"
   },
   {
    "duration": 0,
    "start_time": "2022-03-25T08:12:37.259Z"
   },
   {
    "duration": 0,
    "start_time": "2022-03-25T08:12:37.261Z"
   },
   {
    "duration": 0,
    "start_time": "2022-03-25T08:12:37.262Z"
   },
   {
    "duration": 0,
    "start_time": "2022-03-25T08:12:37.263Z"
   },
   {
    "duration": 0,
    "start_time": "2022-03-25T08:12:37.265Z"
   },
   {
    "duration": 0,
    "start_time": "2022-03-25T08:12:37.266Z"
   },
   {
    "duration": 0,
    "start_time": "2022-03-25T08:12:37.267Z"
   },
   {
    "duration": 0,
    "start_time": "2022-03-25T08:12:37.269Z"
   },
   {
    "duration": 0,
    "start_time": "2022-03-25T08:12:37.270Z"
   },
   {
    "duration": 8,
    "start_time": "2022-03-25T08:13:19.412Z"
   },
   {
    "duration": 25,
    "start_time": "2022-03-25T08:13:29.915Z"
   },
   {
    "duration": 6,
    "start_time": "2022-03-25T08:15:03.355Z"
   },
   {
    "duration": 8,
    "start_time": "2022-03-25T08:19:40.994Z"
   },
   {
    "duration": 17,
    "start_time": "2022-03-25T08:25:28.582Z"
   },
   {
    "duration": 23,
    "start_time": "2022-03-25T08:25:31.365Z"
   },
   {
    "duration": 38,
    "start_time": "2022-03-25T08:25:37.341Z"
   },
   {
    "duration": 464,
    "start_time": "2022-03-25T08:25:52.649Z"
   },
   {
    "duration": 97,
    "start_time": "2022-03-25T08:25:53.115Z"
   },
   {
    "duration": 18,
    "start_time": "2022-03-25T08:25:53.214Z"
   },
   {
    "duration": 13,
    "start_time": "2022-03-25T08:25:53.235Z"
   },
   {
    "duration": 25,
    "start_time": "2022-03-25T08:25:53.249Z"
   },
   {
    "duration": 7,
    "start_time": "2022-03-25T08:25:53.276Z"
   },
   {
    "duration": 7,
    "start_time": "2022-03-25T08:25:53.285Z"
   },
   {
    "duration": 47,
    "start_time": "2022-03-25T08:25:53.294Z"
   },
   {
    "duration": 18,
    "start_time": "2022-03-25T08:25:53.343Z"
   },
   {
    "duration": 16,
    "start_time": "2022-03-25T08:25:53.363Z"
   },
   {
    "duration": 16,
    "start_time": "2022-03-25T08:25:53.381Z"
   },
   {
    "duration": 43,
    "start_time": "2022-03-25T08:25:53.399Z"
   },
   {
    "duration": 15,
    "start_time": "2022-03-25T08:25:53.445Z"
   },
   {
    "duration": 15,
    "start_time": "2022-03-25T08:25:53.462Z"
   },
   {
    "duration": 17,
    "start_time": "2022-03-25T08:25:53.479Z"
   },
   {
    "duration": 43,
    "start_time": "2022-03-25T08:25:53.498Z"
   },
   {
    "duration": 7,
    "start_time": "2022-03-25T08:25:53.543Z"
   },
   {
    "duration": 6,
    "start_time": "2022-03-25T08:25:53.552Z"
   },
   {
    "duration": 10,
    "start_time": "2022-03-25T08:25:53.559Z"
   },
   {
    "duration": 6,
    "start_time": "2022-03-25T08:25:53.570Z"
   },
   {
    "duration": 9,
    "start_time": "2022-03-25T08:25:53.577Z"
   },
   {
    "duration": 9,
    "start_time": "2022-03-25T08:25:53.588Z"
   },
   {
    "duration": 59,
    "start_time": "2022-03-25T08:25:53.599Z"
   },
   {
    "duration": 13,
    "start_time": "2022-03-25T08:25:53.661Z"
   },
   {
    "duration": 25,
    "start_time": "2022-03-25T08:25:53.676Z"
   },
   {
    "duration": 36,
    "start_time": "2022-03-25T08:25:53.731Z"
   },
   {
    "duration": 5,
    "start_time": "2022-03-25T08:25:53.769Z"
   },
   {
    "duration": 8,
    "start_time": "2022-03-25T08:25:53.778Z"
   },
   {
    "duration": 47,
    "start_time": "2022-03-25T08:25:53.787Z"
   },
   {
    "duration": 13,
    "start_time": "2022-03-25T08:25:53.836Z"
   },
   {
    "duration": 4,
    "start_time": "2022-03-25T08:25:53.851Z"
   },
   {
    "duration": 18,
    "start_time": "2022-03-25T08:25:53.857Z"
   },
   {
    "duration": 4,
    "start_time": "2022-03-25T08:25:53.877Z"
   },
   {
    "duration": 22,
    "start_time": "2022-03-25T08:25:53.883Z"
   },
   {
    "duration": 28,
    "start_time": "2022-03-25T08:25:53.906Z"
   },
   {
    "duration": 20,
    "start_time": "2022-03-25T08:25:53.936Z"
   },
   {
    "duration": 10,
    "start_time": "2022-03-25T08:25:53.958Z"
   },
   {
    "duration": 7,
    "start_time": "2022-03-25T08:25:53.969Z"
   },
   {
    "duration": 60,
    "start_time": "2022-03-25T08:25:53.977Z"
   },
   {
    "duration": 10,
    "start_time": "2022-03-25T08:25:54.038Z"
   },
   {
    "duration": 19,
    "start_time": "2022-03-25T08:25:54.050Z"
   },
   {
    "duration": 13,
    "start_time": "2022-03-25T08:25:54.071Z"
   },
   {
    "duration": 47,
    "start_time": "2022-03-25T08:25:54.085Z"
   },
   {
    "duration": 17,
    "start_time": "2022-03-25T08:25:54.134Z"
   },
   {
    "duration": 8,
    "start_time": "2022-03-25T08:25:54.153Z"
   },
   {
    "duration": 20,
    "start_time": "2022-03-25T08:25:54.163Z"
   },
   {
    "duration": 52,
    "start_time": "2022-03-25T08:25:54.185Z"
   },
   {
    "duration": 19,
    "start_time": "2022-03-25T08:25:54.239Z"
   },
   {
    "duration": 10,
    "start_time": "2022-03-25T08:25:54.260Z"
   },
   {
    "duration": 12,
    "start_time": "2022-03-25T08:29:24.028Z"
   },
   {
    "duration": 483,
    "start_time": "2022-03-25T08:47:01.823Z"
   },
   {
    "duration": 92,
    "start_time": "2022-03-25T08:47:02.309Z"
   },
   {
    "duration": 29,
    "start_time": "2022-03-25T08:47:02.403Z"
   },
   {
    "duration": 13,
    "start_time": "2022-03-25T08:47:02.435Z"
   },
   {
    "duration": 30,
    "start_time": "2022-03-25T08:47:02.451Z"
   },
   {
    "duration": 8,
    "start_time": "2022-03-25T08:47:02.483Z"
   },
   {
    "duration": 43,
    "start_time": "2022-03-25T08:47:02.493Z"
   },
   {
    "duration": 55,
    "start_time": "2022-03-25T08:47:02.537Z"
   },
   {
    "duration": 26,
    "start_time": "2022-03-25T08:47:02.594Z"
   },
   {
    "duration": 17,
    "start_time": "2022-03-25T08:47:02.624Z"
   },
   {
    "duration": 27,
    "start_time": "2022-03-25T08:47:02.643Z"
   },
   {
    "duration": 14,
    "start_time": "2022-03-25T08:47:02.672Z"
   },
   {
    "duration": 28,
    "start_time": "2022-03-25T08:47:02.688Z"
   },
   {
    "duration": 24,
    "start_time": "2022-03-25T08:47:02.717Z"
   },
   {
    "duration": 25,
    "start_time": "2022-03-25T08:47:02.743Z"
   },
   {
    "duration": 24,
    "start_time": "2022-03-25T08:47:02.770Z"
   },
   {
    "duration": 6,
    "start_time": "2022-03-25T08:47:02.796Z"
   },
   {
    "duration": 11,
    "start_time": "2022-03-25T08:47:02.804Z"
   },
   {
    "duration": 18,
    "start_time": "2022-03-25T08:47:02.816Z"
   },
   {
    "duration": 9,
    "start_time": "2022-03-25T08:47:02.837Z"
   },
   {
    "duration": 16,
    "start_time": "2022-03-25T08:47:02.848Z"
   },
   {
    "duration": 25,
    "start_time": "2022-03-25T08:47:02.867Z"
   },
   {
    "duration": 64,
    "start_time": "2022-03-25T08:47:02.894Z"
   },
   {
    "duration": 14,
    "start_time": "2022-03-25T08:47:02.959Z"
   },
   {
    "duration": 57,
    "start_time": "2022-03-25T08:47:02.975Z"
   },
   {
    "duration": 42,
    "start_time": "2022-03-25T08:47:03.034Z"
   },
   {
    "duration": 21,
    "start_time": "2022-03-25T08:47:03.078Z"
   },
   {
    "duration": 38,
    "start_time": "2022-03-25T08:47:03.103Z"
   },
   {
    "duration": 55,
    "start_time": "2022-03-25T08:47:03.143Z"
   },
   {
    "duration": 37,
    "start_time": "2022-03-25T08:47:03.199Z"
   },
   {
    "duration": 17,
    "start_time": "2022-03-25T08:47:03.238Z"
   },
   {
    "duration": 26,
    "start_time": "2022-03-25T08:47:03.257Z"
   },
   {
    "duration": 19,
    "start_time": "2022-03-25T08:47:03.285Z"
   },
   {
    "duration": 62,
    "start_time": "2022-03-25T08:47:03.306Z"
   },
   {
    "duration": 27,
    "start_time": "2022-03-25T08:47:03.370Z"
   },
   {
    "duration": 45,
    "start_time": "2022-03-25T08:47:03.399Z"
   },
   {
    "duration": 49,
    "start_time": "2022-03-25T08:47:03.446Z"
   },
   {
    "duration": 28,
    "start_time": "2022-03-25T08:47:03.497Z"
   },
   {
    "duration": 44,
    "start_time": "2022-03-25T08:47:03.527Z"
   },
   {
    "duration": 49,
    "start_time": "2022-03-25T08:47:03.573Z"
   },
   {
    "duration": 42,
    "start_time": "2022-03-25T08:47:03.624Z"
   },
   {
    "duration": 44,
    "start_time": "2022-03-25T08:47:03.668Z"
   },
   {
    "duration": 32,
    "start_time": "2022-03-25T08:47:03.714Z"
   },
   {
    "duration": 26,
    "start_time": "2022-03-25T08:47:03.747Z"
   },
   {
    "duration": 26,
    "start_time": "2022-03-25T08:47:03.775Z"
   },
   {
    "duration": 22,
    "start_time": "2022-03-25T08:47:03.802Z"
   },
   {
    "duration": 21,
    "start_time": "2022-03-25T08:47:03.826Z"
   },
   {
    "duration": 49,
    "start_time": "2022-03-25T08:47:03.849Z"
   },
   {
    "duration": 17,
    "start_time": "2022-03-25T08:47:03.899Z"
   },
   {
    "duration": 10,
    "start_time": "2022-03-25T08:50:04.793Z"
   },
   {
    "duration": 446,
    "start_time": "2022-03-25T08:51:48.932Z"
   },
   {
    "duration": 96,
    "start_time": "2022-03-25T08:51:49.380Z"
   },
   {
    "duration": 16,
    "start_time": "2022-03-25T08:51:49.478Z"
   },
   {
    "duration": 11,
    "start_time": "2022-03-25T08:51:49.497Z"
   },
   {
    "duration": 39,
    "start_time": "2022-03-25T08:51:49.510Z"
   },
   {
    "duration": 9,
    "start_time": "2022-03-25T08:51:49.551Z"
   },
   {
    "duration": 10,
    "start_time": "2022-03-25T08:51:49.561Z"
   },
   {
    "duration": 19,
    "start_time": "2022-03-25T08:51:49.573Z"
   },
   {
    "duration": 40,
    "start_time": "2022-03-25T08:51:49.593Z"
   },
   {
    "duration": 18,
    "start_time": "2022-03-25T08:51:49.636Z"
   },
   {
    "duration": 16,
    "start_time": "2022-03-25T08:51:49.656Z"
   },
   {
    "duration": 17,
    "start_time": "2022-03-25T08:51:49.674Z"
   },
   {
    "duration": 40,
    "start_time": "2022-03-25T08:51:49.693Z"
   },
   {
    "duration": 14,
    "start_time": "2022-03-25T08:51:49.735Z"
   },
   {
    "duration": 14,
    "start_time": "2022-03-25T08:51:49.751Z"
   },
   {
    "duration": 16,
    "start_time": "2022-03-25T08:51:49.767Z"
   },
   {
    "duration": 7,
    "start_time": "2022-03-25T08:51:49.784Z"
   },
   {
    "duration": 4,
    "start_time": "2022-03-25T08:51:49.793Z"
   },
   {
    "duration": 5,
    "start_time": "2022-03-25T08:51:49.832Z"
   },
   {
    "duration": 3,
    "start_time": "2022-03-25T08:51:49.839Z"
   },
   {
    "duration": 8,
    "start_time": "2022-03-25T08:51:49.844Z"
   },
   {
    "duration": 9,
    "start_time": "2022-03-25T08:51:49.853Z"
   },
   {
    "duration": 27,
    "start_time": "2022-03-25T08:51:49.864Z"
   },
   {
    "duration": 41,
    "start_time": "2022-03-25T08:51:49.893Z"
   },
   {
    "duration": 24,
    "start_time": "2022-03-25T08:51:49.936Z"
   },
   {
    "duration": 37,
    "start_time": "2022-03-25T08:51:49.961Z"
   },
   {
    "duration": 5,
    "start_time": "2022-03-25T08:51:50.000Z"
   },
   {
    "duration": 28,
    "start_time": "2022-03-25T08:51:50.009Z"
   },
   {
    "duration": 24,
    "start_time": "2022-03-25T08:51:50.038Z"
   },
   {
    "duration": 16,
    "start_time": "2022-03-25T08:51:50.064Z"
   },
   {
    "duration": 4,
    "start_time": "2022-03-25T08:51:50.082Z"
   },
   {
    "duration": 17,
    "start_time": "2022-03-25T08:51:50.087Z"
   },
   {
    "duration": 30,
    "start_time": "2022-03-25T08:51:50.105Z"
   },
   {
    "duration": 13,
    "start_time": "2022-03-25T08:51:50.137Z"
   },
   {
    "duration": 10,
    "start_time": "2022-03-25T08:51:50.152Z"
   },
   {
    "duration": 14,
    "start_time": "2022-03-25T08:51:50.163Z"
   },
   {
    "duration": 15,
    "start_time": "2022-03-25T08:51:50.178Z"
   },
   {
    "duration": 14,
    "start_time": "2022-03-25T08:51:50.195Z"
   },
   {
    "duration": 33,
    "start_time": "2022-03-25T08:51:50.211Z"
   },
   {
    "duration": 8,
    "start_time": "2022-03-25T08:51:50.245Z"
   },
   {
    "duration": 13,
    "start_time": "2022-03-25T08:51:50.255Z"
   },
   {
    "duration": 12,
    "start_time": "2022-03-25T08:51:50.270Z"
   },
   {
    "duration": 12,
    "start_time": "2022-03-25T08:51:50.284Z"
   },
   {
    "duration": 49,
    "start_time": "2022-03-25T08:51:50.297Z"
   },
   {
    "duration": 8,
    "start_time": "2022-03-25T08:51:50.347Z"
   },
   {
    "duration": 18,
    "start_time": "2022-03-25T08:51:50.357Z"
   },
   {
    "duration": 9,
    "start_time": "2022-03-25T08:51:50.376Z"
   },
   {
    "duration": 46,
    "start_time": "2022-03-25T08:51:50.387Z"
   },
   {
    "duration": 10,
    "start_time": "2022-03-25T08:51:50.434Z"
   },
   {
    "duration": 376,
    "start_time": "2022-10-12T19:46:25.639Z"
   },
   {
    "duration": 112,
    "start_time": "2022-10-12T19:46:26.017Z"
   },
   {
    "duration": 13,
    "start_time": "2022-10-12T19:46:26.131Z"
   },
   {
    "duration": 8,
    "start_time": "2022-10-12T19:46:26.145Z"
   },
   {
    "duration": 20,
    "start_time": "2022-10-12T19:46:26.155Z"
   },
   {
    "duration": 7,
    "start_time": "2022-10-12T19:46:26.177Z"
   },
   {
    "duration": 28,
    "start_time": "2022-10-12T19:46:26.185Z"
   },
   {
    "duration": 13,
    "start_time": "2022-10-12T19:46:26.214Z"
   },
   {
    "duration": 13,
    "start_time": "2022-10-12T19:46:26.229Z"
   },
   {
    "duration": 17,
    "start_time": "2022-10-12T19:46:26.244Z"
   },
   {
    "duration": 14,
    "start_time": "2022-10-12T19:46:26.262Z"
   },
   {
    "duration": 43,
    "start_time": "2022-10-12T19:46:26.278Z"
   },
   {
    "duration": 12,
    "start_time": "2022-10-12T19:46:26.323Z"
   },
   {
    "duration": 11,
    "start_time": "2022-10-12T19:46:26.336Z"
   },
   {
    "duration": 13,
    "start_time": "2022-10-12T19:46:26.349Z"
   },
   {
    "duration": 12,
    "start_time": "2022-10-12T19:46:26.363Z"
   },
   {
    "duration": 5,
    "start_time": "2022-10-12T19:46:26.376Z"
   },
   {
    "duration": 28,
    "start_time": "2022-10-12T19:46:26.382Z"
   },
   {
    "duration": 7,
    "start_time": "2022-10-12T19:46:26.412Z"
   },
   {
    "duration": 6,
    "start_time": "2022-10-12T19:46:26.420Z"
   },
   {
    "duration": 5,
    "start_time": "2022-10-12T19:46:26.428Z"
   },
   {
    "duration": 24,
    "start_time": "2022-10-12T19:46:26.435Z"
   },
   {
    "duration": 11,
    "start_time": "2022-10-12T19:46:26.461Z"
   },
   {
    "duration": 49,
    "start_time": "2022-10-12T19:46:26.474Z"
   },
   {
    "duration": 35,
    "start_time": "2022-10-12T19:46:26.525Z"
   },
   {
    "duration": 7,
    "start_time": "2022-10-12T19:46:26.561Z"
   },
   {
    "duration": 16,
    "start_time": "2022-10-12T19:46:26.569Z"
   },
   {
    "duration": 34,
    "start_time": "2022-10-12T19:46:26.588Z"
   },
   {
    "duration": 11,
    "start_time": "2022-10-12T19:46:26.625Z"
   },
   {
    "duration": 3,
    "start_time": "2022-10-12T19:46:26.638Z"
   },
   {
    "duration": 11,
    "start_time": "2022-10-12T19:46:26.643Z"
   },
   {
    "duration": 5,
    "start_time": "2022-10-12T19:46:26.655Z"
   },
   {
    "duration": 9,
    "start_time": "2022-10-12T19:46:26.662Z"
   },
   {
    "duration": 40,
    "start_time": "2022-10-12T19:46:26.673Z"
   },
   {
    "duration": 10,
    "start_time": "2022-10-12T19:46:26.715Z"
   },
   {
    "duration": 11,
    "start_time": "2022-10-12T19:46:26.727Z"
   },
   {
    "duration": 5,
    "start_time": "2022-10-12T19:46:26.739Z"
   },
   {
    "duration": 20,
    "start_time": "2022-10-12T19:46:26.745Z"
   },
   {
    "duration": 7,
    "start_time": "2022-10-12T19:46:26.766Z"
   },
   {
    "duration": 45,
    "start_time": "2022-10-12T19:46:26.775Z"
   },
   {
    "duration": 8,
    "start_time": "2022-10-12T19:46:26.822Z"
   },
   {
    "duration": 15,
    "start_time": "2022-10-12T19:46:26.832Z"
   },
   {
    "duration": 8,
    "start_time": "2022-10-12T19:46:26.849Z"
   },
   {
    "duration": 19,
    "start_time": "2022-10-12T19:46:26.859Z"
   },
   {
    "duration": 35,
    "start_time": "2022-10-12T19:46:26.880Z"
   }
  ],
  "kernelspec": {
   "display_name": "Python 3 (ipykernel)",
   "language": "python",
   "name": "python3"
  },
  "language_info": {
   "codemirror_mode": {
    "name": "ipython",
    "version": 3
   },
   "file_extension": ".py",
   "mimetype": "text/x-python",
   "name": "python",
   "nbconvert_exporter": "python",
   "pygments_lexer": "ipython3",
   "version": "3.9.5"
  },
  "toc": {
   "base_numbering": 1,
   "nav_menu": {},
   "number_sections": true,
   "sideBar": true,
   "skip_h1_title": true,
   "title_cell": "Table of Contents",
   "title_sidebar": "Contents",
   "toc_cell": false,
   "toc_position": {
    "height": "calc(100% - 180px)",
    "left": "10px",
    "top": "150px",
    "width": "257px"
   },
   "toc_section_display": true,
   "toc_window_display": false
  }
 },
 "nbformat": 4,
 "nbformat_minor": 5
}
