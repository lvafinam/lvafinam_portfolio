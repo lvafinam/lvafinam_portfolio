{
 "cells": [
  {
   "cell_type": "markdown",
   "metadata": {},
   "source": [
    "# Определение перспективного тарифа для телеком-компании"
   ]
  },
  {
   "cell_type": "markdown",
   "metadata": {},
   "source": [
    "Вы аналитик компании «Мегалайн» — федерального оператора сотовой связи. Клиентам предлагают два тарифных плана: «Смарт» и «Ультра». Чтобы скорректировать рекламный бюджет, коммерческий департамент хочет понять, какой тариф приносит больше денег.\n",
    "Вам предстоит сделать предварительный анализ тарифов на небольшой выборке клиентов. В вашем распоряжении данные 500 пользователей «Мегалайна»: кто они, откуда, каким тарифом пользуются, сколько звонков и сообщений каждый отправил за 2018 год. Нужно проанализировать поведение клиентов и сделать вывод — какой тариф лучше."
   ]
  },
  {
   "cell_type": "markdown",
   "metadata": {},
   "source": [
    "## Изучение данных из файла"
   ]
  },
  {
   "cell_type": "code",
   "execution_count": 1,
   "metadata": {},
   "outputs": [],
   "source": [
    "import pandas as pd\n",
    "import numpy as np\n",
    "import matplotlib as plt\n",
    "from scipy import stats as st"
   ]
  },
  {
   "cell_type": "code",
   "execution_count": 2,
   "metadata": {
    "scrolled": true
   },
   "outputs": [
    {
     "name": "stdout",
     "output_type": "stream",
     "text": [
      "<class 'pandas.core.frame.DataFrame'>\n",
      "RangeIndex: 500 entries, 0 to 499\n",
      "Data columns (total 8 columns):\n",
      " #   Column      Non-Null Count  Dtype \n",
      "---  ------      --------------  ----- \n",
      " 0   user_id     500 non-null    int64 \n",
      " 1   age         500 non-null    int64 \n",
      " 2   churn_date  38 non-null     object\n",
      " 3   city        500 non-null    object\n",
      " 4   first_name  500 non-null    object\n",
      " 5   last_name   500 non-null    object\n",
      " 6   reg_date    500 non-null    object\n",
      " 7   tariff      500 non-null    object\n",
      "dtypes: int64(2), object(6)\n",
      "memory usage: 31.4+ KB\n"
     ]
    },
    {
     "data": {
      "text/html": [
       "<div>\n",
       "<style scoped>\n",
       "    .dataframe tbody tr th:only-of-type {\n",
       "        vertical-align: middle;\n",
       "    }\n",
       "\n",
       "    .dataframe tbody tr th {\n",
       "        vertical-align: top;\n",
       "    }\n",
       "\n",
       "    .dataframe thead th {\n",
       "        text-align: right;\n",
       "    }\n",
       "</style>\n",
       "<table border=\"1\" class=\"dataframe\">\n",
       "  <thead>\n",
       "    <tr style=\"text-align: right;\">\n",
       "      <th></th>\n",
       "      <th>user_id</th>\n",
       "      <th>age</th>\n",
       "      <th>churn_date</th>\n",
       "      <th>city</th>\n",
       "      <th>first_name</th>\n",
       "      <th>last_name</th>\n",
       "      <th>reg_date</th>\n",
       "      <th>tariff</th>\n",
       "    </tr>\n",
       "  </thead>\n",
       "  <tbody>\n",
       "    <tr>\n",
       "      <th>0</th>\n",
       "      <td>1000</td>\n",
       "      <td>52</td>\n",
       "      <td>NaN</td>\n",
       "      <td>Краснодар</td>\n",
       "      <td>Рафаил</td>\n",
       "      <td>Верещагин</td>\n",
       "      <td>2018-05-25</td>\n",
       "      <td>ultra</td>\n",
       "    </tr>\n",
       "    <tr>\n",
       "      <th>1</th>\n",
       "      <td>1001</td>\n",
       "      <td>41</td>\n",
       "      <td>NaN</td>\n",
       "      <td>Москва</td>\n",
       "      <td>Иван</td>\n",
       "      <td>Ежов</td>\n",
       "      <td>2018-11-01</td>\n",
       "      <td>smart</td>\n",
       "    </tr>\n",
       "    <tr>\n",
       "      <th>2</th>\n",
       "      <td>1002</td>\n",
       "      <td>59</td>\n",
       "      <td>NaN</td>\n",
       "      <td>Стерлитамак</td>\n",
       "      <td>Евгений</td>\n",
       "      <td>Абрамович</td>\n",
       "      <td>2018-06-17</td>\n",
       "      <td>smart</td>\n",
       "    </tr>\n",
       "    <tr>\n",
       "      <th>3</th>\n",
       "      <td>1003</td>\n",
       "      <td>23</td>\n",
       "      <td>NaN</td>\n",
       "      <td>Москва</td>\n",
       "      <td>Белла</td>\n",
       "      <td>Белякова</td>\n",
       "      <td>2018-08-17</td>\n",
       "      <td>ultra</td>\n",
       "    </tr>\n",
       "    <tr>\n",
       "      <th>4</th>\n",
       "      <td>1004</td>\n",
       "      <td>68</td>\n",
       "      <td>NaN</td>\n",
       "      <td>Новокузнецк</td>\n",
       "      <td>Татьяна</td>\n",
       "      <td>Авдеенко</td>\n",
       "      <td>2018-05-14</td>\n",
       "      <td>ultra</td>\n",
       "    </tr>\n",
       "  </tbody>\n",
       "</table>\n",
       "</div>"
      ],
      "text/plain": [
       "   user_id  age churn_date         city first_name  last_name    reg_date  \\\n",
       "0     1000   52        NaN    Краснодар     Рафаил  Верещагин  2018-05-25   \n",
       "1     1001   41        NaN       Москва       Иван       Ежов  2018-11-01   \n",
       "2     1002   59        NaN  Стерлитамак    Евгений  Абрамович  2018-06-17   \n",
       "3     1003   23        NaN       Москва      Белла   Белякова  2018-08-17   \n",
       "4     1004   68        NaN  Новокузнецк    Татьяна   Авдеенко  2018-05-14   \n",
       "\n",
       "  tariff  \n",
       "0  ultra  \n",
       "1  smart  \n",
       "2  smart  \n",
       "3  ultra  \n",
       "4  ultra  "
      ]
     },
     "execution_count": 2,
     "metadata": {},
     "output_type": "execute_result"
    }
   ],
   "source": [
    "users = pd.read_csv('/datasets/users.csv')\n",
    "users.info()\n",
    "users.head()"
   ]
  },
  {
   "cell_type": "markdown",
   "metadata": {},
   "source": [
    "Таблица users (информация о пользователях):\n",
    "* `user_id` — уникальный идентификатор пользователя\n",
    "* `first_name` — имя пользователя\n",
    "* `last_name` — фамилия пользователя\n",
    "* `age` — возраст пользователя (годы)\n",
    "* `reg_date` — дата подключения тарифа (день, месяц, год)\n",
    "* `churn_date` — дата прекращения пользования тарифом (если значение пропущено, то тариф ещё действовал на момент выгрузки данных)\n",
    "* `city` — город проживания пользователя\n",
    "* `tariff` — название тарифного плана"
   ]
  },
  {
   "cell_type": "code",
   "execution_count": 3,
   "metadata": {
    "scrolled": false
   },
   "outputs": [
    {
     "name": "stdout",
     "output_type": "stream",
     "text": [
      "<class 'pandas.core.frame.DataFrame'>\n",
      "RangeIndex: 202607 entries, 0 to 202606\n",
      "Data columns (total 4 columns):\n",
      " #   Column     Non-Null Count   Dtype  \n",
      "---  ------     --------------   -----  \n",
      " 0   id         202607 non-null  object \n",
      " 1   call_date  202607 non-null  object \n",
      " 2   duration   202607 non-null  float64\n",
      " 3   user_id    202607 non-null  int64  \n",
      "dtypes: float64(1), int64(1), object(2)\n",
      "memory usage: 6.2+ MB\n"
     ]
    },
    {
     "data": {
      "text/html": [
       "<div>\n",
       "<style scoped>\n",
       "    .dataframe tbody tr th:only-of-type {\n",
       "        vertical-align: middle;\n",
       "    }\n",
       "\n",
       "    .dataframe tbody tr th {\n",
       "        vertical-align: top;\n",
       "    }\n",
       "\n",
       "    .dataframe thead th {\n",
       "        text-align: right;\n",
       "    }\n",
       "</style>\n",
       "<table border=\"1\" class=\"dataframe\">\n",
       "  <thead>\n",
       "    <tr style=\"text-align: right;\">\n",
       "      <th></th>\n",
       "      <th>id</th>\n",
       "      <th>call_date</th>\n",
       "      <th>duration</th>\n",
       "      <th>user_id</th>\n",
       "    </tr>\n",
       "  </thead>\n",
       "  <tbody>\n",
       "    <tr>\n",
       "      <th>0</th>\n",
       "      <td>1000_0</td>\n",
       "      <td>2018-07-25</td>\n",
       "      <td>0.00</td>\n",
       "      <td>1000</td>\n",
       "    </tr>\n",
       "    <tr>\n",
       "      <th>1</th>\n",
       "      <td>1000_1</td>\n",
       "      <td>2018-08-17</td>\n",
       "      <td>0.00</td>\n",
       "      <td>1000</td>\n",
       "    </tr>\n",
       "    <tr>\n",
       "      <th>2</th>\n",
       "      <td>1000_2</td>\n",
       "      <td>2018-06-11</td>\n",
       "      <td>2.85</td>\n",
       "      <td>1000</td>\n",
       "    </tr>\n",
       "    <tr>\n",
       "      <th>3</th>\n",
       "      <td>1000_3</td>\n",
       "      <td>2018-09-21</td>\n",
       "      <td>13.80</td>\n",
       "      <td>1000</td>\n",
       "    </tr>\n",
       "    <tr>\n",
       "      <th>4</th>\n",
       "      <td>1000_4</td>\n",
       "      <td>2018-12-15</td>\n",
       "      <td>5.18</td>\n",
       "      <td>1000</td>\n",
       "    </tr>\n",
       "  </tbody>\n",
       "</table>\n",
       "</div>"
      ],
      "text/plain": [
       "       id   call_date  duration  user_id\n",
       "0  1000_0  2018-07-25      0.00     1000\n",
       "1  1000_1  2018-08-17      0.00     1000\n",
       "2  1000_2  2018-06-11      2.85     1000\n",
       "3  1000_3  2018-09-21     13.80     1000\n",
       "4  1000_4  2018-12-15      5.18     1000"
      ]
     },
     "execution_count": 3,
     "metadata": {},
     "output_type": "execute_result"
    }
   ],
   "source": [
    "calls = pd.read_csv('/datasets/calls.csv') \n",
    "calls.info()\n",
    "calls.head()"
   ]
  },
  {
   "cell_type": "markdown",
   "metadata": {},
   "source": [
    "Таблица calls (информация о звонках):\n",
    "* `id` — уникальный номер звонка\n",
    "* `call_date` — дата звонка\n",
    "* `duration` — длительность звонка в минутах\n",
    "* `user_id` — идентификатор пользователя, сделавшего звонок"
   ]
  },
  {
   "cell_type": "code",
   "execution_count": 4,
   "metadata": {
    "scrolled": false
   },
   "outputs": [
    {
     "name": "stdout",
     "output_type": "stream",
     "text": [
      "<class 'pandas.core.frame.DataFrame'>\n",
      "Int64Index: 149396 entries, 0 to 149395\n",
      "Data columns (total 4 columns):\n",
      " #   Column        Non-Null Count   Dtype  \n",
      "---  ------        --------------   -----  \n",
      " 0   id            149396 non-null  object \n",
      " 1   mb_used       149396 non-null  float64\n",
      " 2   session_date  149396 non-null  object \n",
      " 3   user_id       149396 non-null  int64  \n",
      "dtypes: float64(1), int64(1), object(2)\n",
      "memory usage: 5.7+ MB\n"
     ]
    },
    {
     "data": {
      "text/html": [
       "<div>\n",
       "<style scoped>\n",
       "    .dataframe tbody tr th:only-of-type {\n",
       "        vertical-align: middle;\n",
       "    }\n",
       "\n",
       "    .dataframe tbody tr th {\n",
       "        vertical-align: top;\n",
       "    }\n",
       "\n",
       "    .dataframe thead th {\n",
       "        text-align: right;\n",
       "    }\n",
       "</style>\n",
       "<table border=\"1\" class=\"dataframe\">\n",
       "  <thead>\n",
       "    <tr style=\"text-align: right;\">\n",
       "      <th></th>\n",
       "      <th>id</th>\n",
       "      <th>mb_used</th>\n",
       "      <th>session_date</th>\n",
       "      <th>user_id</th>\n",
       "    </tr>\n",
       "  </thead>\n",
       "  <tbody>\n",
       "    <tr>\n",
       "      <th>0</th>\n",
       "      <td>1000_0</td>\n",
       "      <td>112.95</td>\n",
       "      <td>2018-11-25</td>\n",
       "      <td>1000</td>\n",
       "    </tr>\n",
       "    <tr>\n",
       "      <th>1</th>\n",
       "      <td>1000_1</td>\n",
       "      <td>1052.81</td>\n",
       "      <td>2018-09-07</td>\n",
       "      <td>1000</td>\n",
       "    </tr>\n",
       "    <tr>\n",
       "      <th>2</th>\n",
       "      <td>1000_2</td>\n",
       "      <td>1197.26</td>\n",
       "      <td>2018-06-25</td>\n",
       "      <td>1000</td>\n",
       "    </tr>\n",
       "    <tr>\n",
       "      <th>3</th>\n",
       "      <td>1000_3</td>\n",
       "      <td>550.27</td>\n",
       "      <td>2018-08-22</td>\n",
       "      <td>1000</td>\n",
       "    </tr>\n",
       "    <tr>\n",
       "      <th>4</th>\n",
       "      <td>1000_4</td>\n",
       "      <td>302.56</td>\n",
       "      <td>2018-09-24</td>\n",
       "      <td>1000</td>\n",
       "    </tr>\n",
       "  </tbody>\n",
       "</table>\n",
       "</div>"
      ],
      "text/plain": [
       "       id  mb_used session_date  user_id\n",
       "0  1000_0   112.95   2018-11-25     1000\n",
       "1  1000_1  1052.81   2018-09-07     1000\n",
       "2  1000_2  1197.26   2018-06-25     1000\n",
       "3  1000_3   550.27   2018-08-22     1000\n",
       "4  1000_4   302.56   2018-09-24     1000"
      ]
     },
     "execution_count": 4,
     "metadata": {},
     "output_type": "execute_result"
    }
   ],
   "source": [
    "internet = pd.read_csv('/datasets/internet.csv', index_col=0)\n",
    "internet.info()\n",
    "internet.head()"
   ]
  },
  {
   "cell_type": "markdown",
   "metadata": {},
   "source": [
    "Таблица internet (информация об интернет-сессиях):\n",
    "* `id` — уникальный номер сессии\n",
    "* `mb_used` — объём потраченного за сессию интернет-трафика (в мегабайтах)\n",
    "* `session_date` — дата интернет-сессии\n",
    "* `user_id` — идентификатор пользователя"
   ]
  },
  {
   "cell_type": "code",
   "execution_count": 5,
   "metadata": {
    "scrolled": false
   },
   "outputs": [
    {
     "name": "stdout",
     "output_type": "stream",
     "text": [
      "<class 'pandas.core.frame.DataFrame'>\n",
      "RangeIndex: 123036 entries, 0 to 123035\n",
      "Data columns (total 3 columns):\n",
      " #   Column        Non-Null Count   Dtype \n",
      "---  ------        --------------   ----- \n",
      " 0   id            123036 non-null  object\n",
      " 1   message_date  123036 non-null  object\n",
      " 2   user_id       123036 non-null  int64 \n",
      "dtypes: int64(1), object(2)\n",
      "memory usage: 2.8+ MB\n"
     ]
    },
    {
     "data": {
      "text/html": [
       "<div>\n",
       "<style scoped>\n",
       "    .dataframe tbody tr th:only-of-type {\n",
       "        vertical-align: middle;\n",
       "    }\n",
       "\n",
       "    .dataframe tbody tr th {\n",
       "        vertical-align: top;\n",
       "    }\n",
       "\n",
       "    .dataframe thead th {\n",
       "        text-align: right;\n",
       "    }\n",
       "</style>\n",
       "<table border=\"1\" class=\"dataframe\">\n",
       "  <thead>\n",
       "    <tr style=\"text-align: right;\">\n",
       "      <th></th>\n",
       "      <th>id</th>\n",
       "      <th>message_date</th>\n",
       "      <th>user_id</th>\n",
       "    </tr>\n",
       "  </thead>\n",
       "  <tbody>\n",
       "    <tr>\n",
       "      <th>0</th>\n",
       "      <td>1000_0</td>\n",
       "      <td>2018-06-27</td>\n",
       "      <td>1000</td>\n",
       "    </tr>\n",
       "    <tr>\n",
       "      <th>1</th>\n",
       "      <td>1000_1</td>\n",
       "      <td>2018-10-08</td>\n",
       "      <td>1000</td>\n",
       "    </tr>\n",
       "    <tr>\n",
       "      <th>2</th>\n",
       "      <td>1000_2</td>\n",
       "      <td>2018-08-04</td>\n",
       "      <td>1000</td>\n",
       "    </tr>\n",
       "    <tr>\n",
       "      <th>3</th>\n",
       "      <td>1000_3</td>\n",
       "      <td>2018-06-16</td>\n",
       "      <td>1000</td>\n",
       "    </tr>\n",
       "    <tr>\n",
       "      <th>4</th>\n",
       "      <td>1000_4</td>\n",
       "      <td>2018-12-05</td>\n",
       "      <td>1000</td>\n",
       "    </tr>\n",
       "  </tbody>\n",
       "</table>\n",
       "</div>"
      ],
      "text/plain": [
       "       id message_date  user_id\n",
       "0  1000_0   2018-06-27     1000\n",
       "1  1000_1   2018-10-08     1000\n",
       "2  1000_2   2018-08-04     1000\n",
       "3  1000_3   2018-06-16     1000\n",
       "4  1000_4   2018-12-05     1000"
      ]
     },
     "execution_count": 5,
     "metadata": {},
     "output_type": "execute_result"
    }
   ],
   "source": [
    "messages = pd.read_csv('/datasets/messages.csv')\n",
    "messages.info()\n",
    "messages.head()"
   ]
  },
  {
   "cell_type": "markdown",
   "metadata": {},
   "source": [
    "Таблица messages (информация о сообщениях):\n",
    "* `id` — уникальный номер сообщения\n",
    "* `message_date` — дата сообщения\n",
    "* `user_id` — идентификатор пользователя, отправившего сообщение"
   ]
  },
  {
   "cell_type": "code",
   "execution_count": 6,
   "metadata": {
    "scrolled": false
   },
   "outputs": [
    {
     "name": "stdout",
     "output_type": "stream",
     "text": [
      "<class 'pandas.core.frame.DataFrame'>\n",
      "RangeIndex: 2 entries, 0 to 1\n",
      "Data columns (total 8 columns):\n",
      " #   Column                 Non-Null Count  Dtype \n",
      "---  ------                 --------------  ----- \n",
      " 0   messages_included      2 non-null      int64 \n",
      " 1   mb_per_month_included  2 non-null      int64 \n",
      " 2   minutes_included       2 non-null      int64 \n",
      " 3   rub_monthly_fee        2 non-null      int64 \n",
      " 4   rub_per_gb             2 non-null      int64 \n",
      " 5   rub_per_message        2 non-null      int64 \n",
      " 6   rub_per_minute         2 non-null      int64 \n",
      " 7   tariff_name            2 non-null      object\n",
      "dtypes: int64(7), object(1)\n",
      "memory usage: 256.0+ bytes\n"
     ]
    },
    {
     "data": {
      "text/html": [
       "<div>\n",
       "<style scoped>\n",
       "    .dataframe tbody tr th:only-of-type {\n",
       "        vertical-align: middle;\n",
       "    }\n",
       "\n",
       "    .dataframe tbody tr th {\n",
       "        vertical-align: top;\n",
       "    }\n",
       "\n",
       "    .dataframe thead th {\n",
       "        text-align: right;\n",
       "    }\n",
       "</style>\n",
       "<table border=\"1\" class=\"dataframe\">\n",
       "  <thead>\n",
       "    <tr style=\"text-align: right;\">\n",
       "      <th></th>\n",
       "      <th>messages_included</th>\n",
       "      <th>mb_per_month_included</th>\n",
       "      <th>minutes_included</th>\n",
       "      <th>rub_monthly_fee</th>\n",
       "      <th>rub_per_gb</th>\n",
       "      <th>rub_per_message</th>\n",
       "      <th>rub_per_minute</th>\n",
       "      <th>tariff_name</th>\n",
       "    </tr>\n",
       "  </thead>\n",
       "  <tbody>\n",
       "    <tr>\n",
       "      <th>0</th>\n",
       "      <td>50</td>\n",
       "      <td>15360</td>\n",
       "      <td>500</td>\n",
       "      <td>550</td>\n",
       "      <td>200</td>\n",
       "      <td>3</td>\n",
       "      <td>3</td>\n",
       "      <td>smart</td>\n",
       "    </tr>\n",
       "    <tr>\n",
       "      <th>1</th>\n",
       "      <td>1000</td>\n",
       "      <td>30720</td>\n",
       "      <td>3000</td>\n",
       "      <td>1950</td>\n",
       "      <td>150</td>\n",
       "      <td>1</td>\n",
       "      <td>1</td>\n",
       "      <td>ultra</td>\n",
       "    </tr>\n",
       "  </tbody>\n",
       "</table>\n",
       "</div>"
      ],
      "text/plain": [
       "   messages_included  mb_per_month_included  minutes_included  \\\n",
       "0                 50                  15360               500   \n",
       "1               1000                  30720              3000   \n",
       "\n",
       "   rub_monthly_fee  rub_per_gb  rub_per_message  rub_per_minute tariff_name  \n",
       "0              550         200                3               3       smart  \n",
       "1             1950         150                1               1       ultra  "
      ]
     },
     "execution_count": 6,
     "metadata": {},
     "output_type": "execute_result"
    }
   ],
   "source": [
    "tariffs = pd.read_csv('/datasets/tariffs.csv')\n",
    "tariffs.info()\n",
    "tariffs"
   ]
  },
  {
   "cell_type": "markdown",
   "metadata": {},
   "source": [
    "Таблица tariffs (информация о тарифах):\n",
    "* `tariff_name` — название тарифа\n",
    "* `rub_monthly_fee` — ежемесячная абонентская плата в рублях\n",
    "* `minutes_included` — количество минут разговора в месяц, включённых в абонентскую плату\n",
    "* `messages_included` — количество сообщений в месяц, включённых в абонентскую плату\n",
    "* `mb_per_month_included` — объём интернет-трафика, включённого в абонентскую плату (в мегабайтах)\n",
    "* `rub_per_minute` — стоимость минуты разговора сверх тарифного пакета (например, если в тарифе 100 минут разговора в месяц, то со 101 минуты будет взиматься плата)\n",
    "* `rub_per_message` — стоимость отправки сообщения сверх тарифного пакета\n",
    "* `rub_per_gb` — стоимость дополнительного гигабайта интернет-трафика сверх тарифного пакета (1 гигабайт = 1024 мегабайта)"
   ]
  },
  {
   "cell_type": "markdown",
   "metadata": {},
   "source": [
    "Описание тарифов\\\n",
    "Тариф «Смарт»\\\n",
    "Ежемесячная плата: 550 рублей\\\n",
    "Включено 500 минут разговора, 50 сообщений и 15 Гб интернет-трафика\\\n",
    "Стоимость услуг сверх тарифного пакета:\\\n",
    "минута разговора: 3 рубля\\\n",
    "сообщение: 3 рубля\\\n",
    "1 Гб интернет-трафика: 200 рублей\n",
    "\n",
    "Тариф «Ультра»\\\n",
    "Ежемесячная плата: 1950 рублей\\\n",
    "Включено 3000 минут разговора, 1000 сообщений и 30 Гб интернет-трафика\\\n",
    "Стоимость услуг сверх тарифного пакета:\\\n",
    "минута разговора: 1 рубль\\\n",
    "сообщение: 1 рубль\\\n",
    "1 Гб интернет-трафика: 150 рублей\\\n",
    "\\\n",
    "Примечание:\\\n",
    "«Мегалайн» всегда округляет секунды до минут, а мегабайты — до гигабайт. Каждый звонок округляется отдельно: даже если он длился всего 1 секунду, будет засчитан как 1 минута.\\\n",
    "Для веб-трафика отдельные сессии не считаются. Вместо этого общая сумма за месяц округляется в бо́льшую сторону. Если абонент использует 1025 мегабайт в этом месяце, с него возьмут плату за 2 гигабайта."
   ]
  },
  {
   "cell_type": "markdown",
   "metadata": {},
   "source": [
    "### Вывод"
   ]
  },
  {
   "cell_type": "markdown",
   "metadata": {},
   "source": [
    "* Ни одна таблица не содержит столбцы с форматом datetime, нужно исправить это\n",
    "* Есть ненужный столбец Unnamed, который не прописан в описании к таблицам, его следует удалить. Также присутсвуют столбцы 'id', которые тоже не несут в себе ценной информации\n",
    "* Есть смысл округлить значения в столбцах с минутами, т.к.это облегчит дальнейший анализ\n",
    "* Явных дубликатов обнаружено не было, пропущенных значений для замены тоже"
   ]
  },
  {
   "cell_type": "markdown",
   "metadata": {},
   "source": [
    "## Предобработка данных"
   ]
  },
  {
   "cell_type": "markdown",
   "metadata": {},
   "source": [
    "### Формат даты"
   ]
  },
  {
   "cell_type": "code",
   "execution_count": 7,
   "metadata": {},
   "outputs": [],
   "source": [
    "users['reg_date']=pd.to_datetime(users['reg_date'], format='%Y-%m-%d')\n",
    "calls['call_date']=pd.to_datetime(calls['call_date'], format='%Y-%m-%d')\n",
    "internet['session_date']=pd.to_datetime(internet['session_date'], format='%Y-%m-%d')\n",
    "messages['message_date']=pd.to_datetime(messages['message_date'], format='%Y-%m-%d')\n",
    "users['churn_date']=pd.to_datetime(users['churn_date'], format='%Y-%m-%d')"
   ]
  },
  {
   "cell_type": "markdown",
   "metadata": {},
   "source": [
    "### Удаление столбца"
   ]
  },
  {
   "cell_type": "code",
   "execution_count": 8,
   "metadata": {},
   "outputs": [],
   "source": [
    "internet.drop('id', axis=1, inplace=True)\n",
    "calls.drop('id', axis=1, inplace=True)\n",
    "messages.drop('id', axis=1, inplace=True)"
   ]
  },
  {
   "cell_type": "markdown",
   "metadata": {},
   "source": [
    "### Округление"
   ]
  },
  {
   "cell_type": "code",
   "execution_count": 9,
   "metadata": {
    "scrolled": true
   },
   "outputs": [],
   "source": [
    "calls['duration'] = np.ceil(calls['duration'])"
   ]
  },
  {
   "cell_type": "markdown",
   "metadata": {},
   "source": [
    "### Преобразование"
   ]
  },
  {
   "cell_type": "code",
   "execution_count": 10,
   "metadata": {
    "scrolled": false
   },
   "outputs": [
    {
     "data": {
      "text/html": [
       "<div>\n",
       "<style scoped>\n",
       "    .dataframe tbody tr th:only-of-type {\n",
       "        vertical-align: middle;\n",
       "    }\n",
       "\n",
       "    .dataframe tbody tr th {\n",
       "        vertical-align: top;\n",
       "    }\n",
       "\n",
       "    .dataframe thead th {\n",
       "        text-align: right;\n",
       "    }\n",
       "</style>\n",
       "<table border=\"1\" class=\"dataframe\">\n",
       "  <thead>\n",
       "    <tr style=\"text-align: right;\">\n",
       "      <th></th>\n",
       "      <th>messages_included</th>\n",
       "      <th>gb_per_month_included</th>\n",
       "      <th>minutes_included</th>\n",
       "      <th>rub_monthly_fee</th>\n",
       "      <th>rub_per_gb</th>\n",
       "      <th>rub_per_message</th>\n",
       "      <th>rub_per_minute</th>\n",
       "      <th>tariff_name</th>\n",
       "    </tr>\n",
       "  </thead>\n",
       "  <tbody>\n",
       "    <tr>\n",
       "      <th>0</th>\n",
       "      <td>50</td>\n",
       "      <td>15</td>\n",
       "      <td>500</td>\n",
       "      <td>550</td>\n",
       "      <td>200</td>\n",
       "      <td>3</td>\n",
       "      <td>3</td>\n",
       "      <td>smart</td>\n",
       "    </tr>\n",
       "    <tr>\n",
       "      <th>1</th>\n",
       "      <td>1000</td>\n",
       "      <td>30</td>\n",
       "      <td>3000</td>\n",
       "      <td>1950</td>\n",
       "      <td>150</td>\n",
       "      <td>1</td>\n",
       "      <td>1</td>\n",
       "      <td>ultra</td>\n",
       "    </tr>\n",
       "  </tbody>\n",
       "</table>\n",
       "</div>"
      ],
      "text/plain": [
       "   messages_included  gb_per_month_included  minutes_included  \\\n",
       "0                 50                     15               500   \n",
       "1               1000                     30              3000   \n",
       "\n",
       "   rub_monthly_fee  rub_per_gb  rub_per_message  rub_per_minute tariff_name  \n",
       "0              550         200                3               3       smart  \n",
       "1             1950         150                1               1       ultra  "
      ]
     },
     "execution_count": 10,
     "metadata": {},
     "output_type": "execute_result"
    }
   ],
   "source": [
    "tariffs['mb_per_month_included']=tariffs['mb_per_month_included']/1024\n",
    "tariffs = tariffs.rename(columns={'mb_per_month_included': 'gb_per_month_included'})\n",
    "tariffs['gb_per_month_included'] = tariffs['gb_per_month_included'].astype('int')\n",
    "tariffs"
   ]
  },
  {
   "cell_type": "markdown",
   "metadata": {},
   "source": [
    "### Вывод"
   ]
  },
  {
   "cell_type": "markdown",
   "metadata": {},
   "source": [
    "Мы подготовили данные для расчета выручки."
   ]
  },
  {
   "cell_type": "markdown",
   "metadata": {},
   "source": [
    "## Подготовка пользовательских данных"
   ]
  },
  {
   "cell_type": "markdown",
   "metadata": {},
   "source": [
    "### Добавляем столбец `month`"
   ]
  },
  {
   "cell_type": "code",
   "execution_count": 11,
   "metadata": {
    "scrolled": true
   },
   "outputs": [],
   "source": [
    "calls['month'] = calls['call_date'].dt.month\n",
    "messages['month'] = messages['message_date'].dt.month\n",
    "internet['month'] = internet['session_date'].dt.month"
   ]
  },
  {
   "cell_type": "markdown",
   "metadata": {},
   "source": [
    "### Группировка данных"
   ]
  },
  {
   "cell_type": "markdown",
   "metadata": {},
   "source": [
    "Группируем таблицу так, чтобы можно было увидеть кол-во звонков каждого пользователя за каждый месяц."
   ]
  },
  {
   "cell_type": "code",
   "execution_count": 12,
   "metadata": {
    "scrolled": true
   },
   "outputs": [
    {
     "data": {
      "text/html": [
       "<div>\n",
       "<style scoped>\n",
       "    .dataframe tbody tr th:only-of-type {\n",
       "        vertical-align: middle;\n",
       "    }\n",
       "\n",
       "    .dataframe tbody tr th {\n",
       "        vertical-align: top;\n",
       "    }\n",
       "\n",
       "    .dataframe thead th {\n",
       "        text-align: right;\n",
       "    }\n",
       "</style>\n",
       "<table border=\"1\" class=\"dataframe\">\n",
       "  <thead>\n",
       "    <tr style=\"text-align: right;\">\n",
       "      <th></th>\n",
       "      <th></th>\n",
       "      <th>number_of_calls</th>\n",
       "    </tr>\n",
       "    <tr>\n",
       "      <th>user_id</th>\n",
       "      <th>month</th>\n",
       "      <th></th>\n",
       "    </tr>\n",
       "  </thead>\n",
       "  <tbody>\n",
       "    <tr>\n",
       "      <th rowspan=\"5\" valign=\"top\">1000</th>\n",
       "      <th>5</th>\n",
       "      <td>22</td>\n",
       "    </tr>\n",
       "    <tr>\n",
       "      <th>6</th>\n",
       "      <td>43</td>\n",
       "    </tr>\n",
       "    <tr>\n",
       "      <th>7</th>\n",
       "      <td>47</td>\n",
       "    </tr>\n",
       "    <tr>\n",
       "      <th>8</th>\n",
       "      <td>52</td>\n",
       "    </tr>\n",
       "    <tr>\n",
       "      <th>9</th>\n",
       "      <td>58</td>\n",
       "    </tr>\n",
       "    <tr>\n",
       "      <th>...</th>\n",
       "      <th>...</th>\n",
       "      <td>...</td>\n",
       "    </tr>\n",
       "    <tr>\n",
       "      <th>1498</th>\n",
       "      <th>10</th>\n",
       "      <td>41</td>\n",
       "    </tr>\n",
       "    <tr>\n",
       "      <th rowspan=\"4\" valign=\"top\">1499</th>\n",
       "      <th>9</th>\n",
       "      <td>9</td>\n",
       "    </tr>\n",
       "    <tr>\n",
       "      <th>10</th>\n",
       "      <td>68</td>\n",
       "    </tr>\n",
       "    <tr>\n",
       "      <th>11</th>\n",
       "      <td>74</td>\n",
       "    </tr>\n",
       "    <tr>\n",
       "      <th>12</th>\n",
       "      <td>69</td>\n",
       "    </tr>\n",
       "  </tbody>\n",
       "</table>\n",
       "<p>3174 rows × 1 columns</p>\n",
       "</div>"
      ],
      "text/plain": [
       "               number_of_calls\n",
       "user_id month                 \n",
       "1000    5                   22\n",
       "        6                   43\n",
       "        7                   47\n",
       "        8                   52\n",
       "        9                   58\n",
       "...                        ...\n",
       "1498    10                  41\n",
       "1499    9                    9\n",
       "        10                  68\n",
       "        11                  74\n",
       "        12                  69\n",
       "\n",
       "[3174 rows x 1 columns]"
      ]
     },
     "execution_count": 12,
     "metadata": {},
     "output_type": "execute_result"
    }
   ],
   "source": [
    "calls_number = calls.groupby(['user_id', 'month'])[['call_date']].count()\n",
    "calls_number.columns = ['number_of_calls']\n",
    "calls_number"
   ]
  },
  {
   "cell_type": "markdown",
   "metadata": {},
   "source": [
    "Теперь узнаем длительность их звонков."
   ]
  },
  {
   "cell_type": "code",
   "execution_count": 13,
   "metadata": {
    "scrolled": false
   },
   "outputs": [
    {
     "data": {
      "text/html": [
       "<div>\n",
       "<style scoped>\n",
       "    .dataframe tbody tr th:only-of-type {\n",
       "        vertical-align: middle;\n",
       "    }\n",
       "\n",
       "    .dataframe tbody tr th {\n",
       "        vertical-align: top;\n",
       "    }\n",
       "\n",
       "    .dataframe thead th {\n",
       "        text-align: right;\n",
       "    }\n",
       "</style>\n",
       "<table border=\"1\" class=\"dataframe\">\n",
       "  <thead>\n",
       "    <tr style=\"text-align: right;\">\n",
       "      <th></th>\n",
       "      <th>user_id</th>\n",
       "      <th>month</th>\n",
       "      <th>calls_count</th>\n",
       "      <th>calls_sum</th>\n",
       "    </tr>\n",
       "  </thead>\n",
       "  <tbody>\n",
       "    <tr>\n",
       "      <th>0</th>\n",
       "      <td>1000</td>\n",
       "      <td>5</td>\n",
       "      <td>22</td>\n",
       "      <td>159.0</td>\n",
       "    </tr>\n",
       "    <tr>\n",
       "      <th>1</th>\n",
       "      <td>1000</td>\n",
       "      <td>6</td>\n",
       "      <td>43</td>\n",
       "      <td>172.0</td>\n",
       "    </tr>\n",
       "    <tr>\n",
       "      <th>2</th>\n",
       "      <td>1000</td>\n",
       "      <td>7</td>\n",
       "      <td>47</td>\n",
       "      <td>340.0</td>\n",
       "    </tr>\n",
       "    <tr>\n",
       "      <th>3</th>\n",
       "      <td>1000</td>\n",
       "      <td>8</td>\n",
       "      <td>52</td>\n",
       "      <td>408.0</td>\n",
       "    </tr>\n",
       "    <tr>\n",
       "      <th>4</th>\n",
       "      <td>1000</td>\n",
       "      <td>9</td>\n",
       "      <td>58</td>\n",
       "      <td>466.0</td>\n",
       "    </tr>\n",
       "    <tr>\n",
       "      <th>...</th>\n",
       "      <td>...</td>\n",
       "      <td>...</td>\n",
       "      <td>...</td>\n",
       "      <td>...</td>\n",
       "    </tr>\n",
       "    <tr>\n",
       "      <th>3169</th>\n",
       "      <td>1498</td>\n",
       "      <td>10</td>\n",
       "      <td>41</td>\n",
       "      <td>247.0</td>\n",
       "    </tr>\n",
       "    <tr>\n",
       "      <th>3170</th>\n",
       "      <td>1499</td>\n",
       "      <td>9</td>\n",
       "      <td>9</td>\n",
       "      <td>70.0</td>\n",
       "    </tr>\n",
       "    <tr>\n",
       "      <th>3171</th>\n",
       "      <td>1499</td>\n",
       "      <td>10</td>\n",
       "      <td>68</td>\n",
       "      <td>449.0</td>\n",
       "    </tr>\n",
       "    <tr>\n",
       "      <th>3172</th>\n",
       "      <td>1499</td>\n",
       "      <td>11</td>\n",
       "      <td>74</td>\n",
       "      <td>612.0</td>\n",
       "    </tr>\n",
       "    <tr>\n",
       "      <th>3173</th>\n",
       "      <td>1499</td>\n",
       "      <td>12</td>\n",
       "      <td>69</td>\n",
       "      <td>492.0</td>\n",
       "    </tr>\n",
       "  </tbody>\n",
       "</table>\n",
       "<p>3174 rows × 4 columns</p>\n",
       "</div>"
      ],
      "text/plain": [
       "      user_id  month  calls_count  calls_sum\n",
       "0        1000      5           22      159.0\n",
       "1        1000      6           43      172.0\n",
       "2        1000      7           47      340.0\n",
       "3        1000      8           52      408.0\n",
       "4        1000      9           58      466.0\n",
       "...       ...    ...          ...        ...\n",
       "3169     1498     10           41      247.0\n",
       "3170     1499      9            9       70.0\n",
       "3171     1499     10           68      449.0\n",
       "3172     1499     11           74      612.0\n",
       "3173     1499     12           69      492.0\n",
       "\n",
       "[3174 rows x 4 columns]"
      ]
     },
     "execution_count": 13,
     "metadata": {},
     "output_type": "execute_result"
    }
   ],
   "source": [
    "calls = calls.pivot_table(index=['user_id', 'month'], values='duration', aggfunc=['count', 'sum']).reset_index() \n",
    "calls.columns = ['user_id', 'month', 'calls_count', 'calls_sum']\n",
    "calls"
   ]
  },
  {
   "cell_type": "markdown",
   "metadata": {},
   "source": [
    "Стоит сложить все использованные мегабайты, после этого превратим их в гигабайты и приведем в целочисленный формат."
   ]
  },
  {
   "cell_type": "code",
   "execution_count": 14,
   "metadata": {},
   "outputs": [
    {
     "data": {
      "text/html": [
       "<div>\n",
       "<style scoped>\n",
       "    .dataframe tbody tr th:only-of-type {\n",
       "        vertical-align: middle;\n",
       "    }\n",
       "\n",
       "    .dataframe tbody tr th {\n",
       "        vertical-align: top;\n",
       "    }\n",
       "\n",
       "    .dataframe thead th {\n",
       "        text-align: right;\n",
       "    }\n",
       "</style>\n",
       "<table border=\"1\" class=\"dataframe\">\n",
       "  <thead>\n",
       "    <tr style=\"text-align: right;\">\n",
       "      <th></th>\n",
       "      <th></th>\n",
       "      <th>gb_used</th>\n",
       "    </tr>\n",
       "    <tr>\n",
       "      <th>user_id</th>\n",
       "      <th>month</th>\n",
       "      <th></th>\n",
       "    </tr>\n",
       "  </thead>\n",
       "  <tbody>\n",
       "    <tr>\n",
       "      <th rowspan=\"5\" valign=\"top\">1000</th>\n",
       "      <th>5</th>\n",
       "      <td>3</td>\n",
       "    </tr>\n",
       "    <tr>\n",
       "      <th>6</th>\n",
       "      <td>23</td>\n",
       "    </tr>\n",
       "    <tr>\n",
       "      <th>7</th>\n",
       "      <td>14</td>\n",
       "    </tr>\n",
       "    <tr>\n",
       "      <th>8</th>\n",
       "      <td>14</td>\n",
       "    </tr>\n",
       "    <tr>\n",
       "      <th>9</th>\n",
       "      <td>15</td>\n",
       "    </tr>\n",
       "    <tr>\n",
       "      <th>...</th>\n",
       "      <th>...</th>\n",
       "      <td>...</td>\n",
       "    </tr>\n",
       "    <tr>\n",
       "      <th>1498</th>\n",
       "      <th>10</th>\n",
       "      <td>21</td>\n",
       "    </tr>\n",
       "    <tr>\n",
       "      <th rowspan=\"4\" valign=\"top\">1499</th>\n",
       "      <th>9</th>\n",
       "      <td>2</td>\n",
       "    </tr>\n",
       "    <tr>\n",
       "      <th>10</th>\n",
       "      <td>18</td>\n",
       "    </tr>\n",
       "    <tr>\n",
       "      <th>11</th>\n",
       "      <td>18</td>\n",
       "    </tr>\n",
       "    <tr>\n",
       "      <th>12</th>\n",
       "      <td>13</td>\n",
       "    </tr>\n",
       "  </tbody>\n",
       "</table>\n",
       "<p>3203 rows × 1 columns</p>\n",
       "</div>"
      ],
      "text/plain": [
       "               gb_used\n",
       "user_id month         \n",
       "1000    5            3\n",
       "        6           23\n",
       "        7           14\n",
       "        8           14\n",
       "        9           15\n",
       "...                ...\n",
       "1498    10          21\n",
       "1499    9            2\n",
       "        10          18\n",
       "        11          18\n",
       "        12          13\n",
       "\n",
       "[3203 rows x 1 columns]"
      ]
     },
     "execution_count": 14,
     "metadata": {},
     "output_type": "execute_result"
    }
   ],
   "source": [
    "internet_used = internet.groupby(['user_id', 'month'])[['mb_used']].sum()\n",
    "internet_used['gb_used'] = internet_used['mb_used']/1024\n",
    "internet_used['gb_used'] = np.ceil(internet_used['gb_used'])\n",
    "internet_used.drop('mb_used', axis=1, inplace=True)\n",
    "internet_used['gb_used'] = internet_used['gb_used'].astype('int')\n",
    "internet_used"
   ]
  },
  {
   "cell_type": "markdown",
   "metadata": {},
   "source": [
    "Снова соединяем все данные."
   ]
  },
  {
   "cell_type": "code",
   "execution_count": 15,
   "metadata": {},
   "outputs": [
    {
     "data": {
      "text/html": [
       "<div>\n",
       "<style scoped>\n",
       "    .dataframe tbody tr th:only-of-type {\n",
       "        vertical-align: middle;\n",
       "    }\n",
       "\n",
       "    .dataframe tbody tr th {\n",
       "        vertical-align: top;\n",
       "    }\n",
       "\n",
       "    .dataframe thead th {\n",
       "        text-align: right;\n",
       "    }\n",
       "</style>\n",
       "<table border=\"1\" class=\"dataframe\">\n",
       "  <thead>\n",
       "    <tr style=\"text-align: right;\">\n",
       "      <th></th>\n",
       "      <th>user_id</th>\n",
       "      <th>month</th>\n",
       "      <th>gb_used</th>\n",
       "      <th>calls_count</th>\n",
       "      <th>calls_sum</th>\n",
       "    </tr>\n",
       "  </thead>\n",
       "  <tbody>\n",
       "    <tr>\n",
       "      <th>0</th>\n",
       "      <td>1000</td>\n",
       "      <td>5</td>\n",
       "      <td>3</td>\n",
       "      <td>22</td>\n",
       "      <td>159.0</td>\n",
       "    </tr>\n",
       "    <tr>\n",
       "      <th>1</th>\n",
       "      <td>1000</td>\n",
       "      <td>6</td>\n",
       "      <td>23</td>\n",
       "      <td>43</td>\n",
       "      <td>172.0</td>\n",
       "    </tr>\n",
       "    <tr>\n",
       "      <th>2</th>\n",
       "      <td>1000</td>\n",
       "      <td>7</td>\n",
       "      <td>14</td>\n",
       "      <td>47</td>\n",
       "      <td>340.0</td>\n",
       "    </tr>\n",
       "    <tr>\n",
       "      <th>3</th>\n",
       "      <td>1000</td>\n",
       "      <td>8</td>\n",
       "      <td>14</td>\n",
       "      <td>52</td>\n",
       "      <td>408.0</td>\n",
       "    </tr>\n",
       "    <tr>\n",
       "      <th>4</th>\n",
       "      <td>1000</td>\n",
       "      <td>9</td>\n",
       "      <td>15</td>\n",
       "      <td>58</td>\n",
       "      <td>466.0</td>\n",
       "    </tr>\n",
       "    <tr>\n",
       "      <th>...</th>\n",
       "      <td>...</td>\n",
       "      <td>...</td>\n",
       "      <td>...</td>\n",
       "      <td>...</td>\n",
       "      <td>...</td>\n",
       "    </tr>\n",
       "    <tr>\n",
       "      <th>3158</th>\n",
       "      <td>1498</td>\n",
       "      <td>10</td>\n",
       "      <td>21</td>\n",
       "      <td>41</td>\n",
       "      <td>247.0</td>\n",
       "    </tr>\n",
       "    <tr>\n",
       "      <th>3159</th>\n",
       "      <td>1499</td>\n",
       "      <td>9</td>\n",
       "      <td>2</td>\n",
       "      <td>9</td>\n",
       "      <td>70.0</td>\n",
       "    </tr>\n",
       "    <tr>\n",
       "      <th>3160</th>\n",
       "      <td>1499</td>\n",
       "      <td>10</td>\n",
       "      <td>18</td>\n",
       "      <td>68</td>\n",
       "      <td>449.0</td>\n",
       "    </tr>\n",
       "    <tr>\n",
       "      <th>3161</th>\n",
       "      <td>1499</td>\n",
       "      <td>11</td>\n",
       "      <td>18</td>\n",
       "      <td>74</td>\n",
       "      <td>612.0</td>\n",
       "    </tr>\n",
       "    <tr>\n",
       "      <th>3162</th>\n",
       "      <td>1499</td>\n",
       "      <td>12</td>\n",
       "      <td>13</td>\n",
       "      <td>69</td>\n",
       "      <td>492.0</td>\n",
       "    </tr>\n",
       "  </tbody>\n",
       "</table>\n",
       "<p>3163 rows × 5 columns</p>\n",
       "</div>"
      ],
      "text/plain": [
       "      user_id  month  gb_used  calls_count  calls_sum\n",
       "0        1000      5        3           22      159.0\n",
       "1        1000      6       23           43      172.0\n",
       "2        1000      7       14           47      340.0\n",
       "3        1000      8       14           52      408.0\n",
       "4        1000      9       15           58      466.0\n",
       "...       ...    ...      ...          ...        ...\n",
       "3158     1498     10       21           41      247.0\n",
       "3159     1499      9        2            9       70.0\n",
       "3160     1499     10       18           68      449.0\n",
       "3161     1499     11       18           74      612.0\n",
       "3162     1499     12       13           69      492.0\n",
       "\n",
       "[3163 rows x 5 columns]"
      ]
     },
     "execution_count": 15,
     "metadata": {},
     "output_type": "execute_result"
    }
   ],
   "source": [
    "internet = internet_used.merge(calls, on=['user_id', 'month'])\n",
    "internet"
   ]
  },
  {
   "cell_type": "markdown",
   "metadata": {},
   "source": [
    "Считаем кол-во отправленных сообщений."
   ]
  },
  {
   "cell_type": "code",
   "execution_count": 16,
   "metadata": {
    "scrolled": true
   },
   "outputs": [
    {
     "data": {
      "text/html": [
       "<div>\n",
       "<style scoped>\n",
       "    .dataframe tbody tr th:only-of-type {\n",
       "        vertical-align: middle;\n",
       "    }\n",
       "\n",
       "    .dataframe tbody tr th {\n",
       "        vertical-align: top;\n",
       "    }\n",
       "\n",
       "    .dataframe thead th {\n",
       "        text-align: right;\n",
       "    }\n",
       "</style>\n",
       "<table border=\"1\" class=\"dataframe\">\n",
       "  <thead>\n",
       "    <tr style=\"text-align: right;\">\n",
       "      <th></th>\n",
       "      <th></th>\n",
       "      <th>number_of_msg</th>\n",
       "    </tr>\n",
       "    <tr>\n",
       "      <th>user_id</th>\n",
       "      <th>month</th>\n",
       "      <th></th>\n",
       "    </tr>\n",
       "  </thead>\n",
       "  <tbody>\n",
       "    <tr>\n",
       "      <th rowspan=\"5\" valign=\"top\">1000</th>\n",
       "      <th>5</th>\n",
       "      <td>22</td>\n",
       "    </tr>\n",
       "    <tr>\n",
       "      <th>6</th>\n",
       "      <td>60</td>\n",
       "    </tr>\n",
       "    <tr>\n",
       "      <th>7</th>\n",
       "      <td>75</td>\n",
       "    </tr>\n",
       "    <tr>\n",
       "      <th>8</th>\n",
       "      <td>81</td>\n",
       "    </tr>\n",
       "    <tr>\n",
       "      <th>9</th>\n",
       "      <td>57</td>\n",
       "    </tr>\n",
       "    <tr>\n",
       "      <th>...</th>\n",
       "      <th>...</th>\n",
       "      <td>...</td>\n",
       "    </tr>\n",
       "    <tr>\n",
       "      <th>1498</th>\n",
       "      <th>10</th>\n",
       "      <td>42</td>\n",
       "    </tr>\n",
       "    <tr>\n",
       "      <th rowspan=\"4\" valign=\"top\">1499</th>\n",
       "      <th>9</th>\n",
       "      <td>11</td>\n",
       "    </tr>\n",
       "    <tr>\n",
       "      <th>10</th>\n",
       "      <td>48</td>\n",
       "    </tr>\n",
       "    <tr>\n",
       "      <th>11</th>\n",
       "      <td>59</td>\n",
       "    </tr>\n",
       "    <tr>\n",
       "      <th>12</th>\n",
       "      <td>66</td>\n",
       "    </tr>\n",
       "  </tbody>\n",
       "</table>\n",
       "<p>2717 rows × 1 columns</p>\n",
       "</div>"
      ],
      "text/plain": [
       "               number_of_msg\n",
       "user_id month               \n",
       "1000    5                 22\n",
       "        6                 60\n",
       "        7                 75\n",
       "        8                 81\n",
       "        9                 57\n",
       "...                      ...\n",
       "1498    10                42\n",
       "1499    9                 11\n",
       "        10                48\n",
       "        11                59\n",
       "        12                66\n",
       "\n",
       "[2717 rows x 1 columns]"
      ]
     },
     "execution_count": 16,
     "metadata": {},
     "output_type": "execute_result"
    }
   ],
   "source": [
    "messages_number = messages.groupby(['user_id', 'month'])[['month']].count()\n",
    "messages_number.columns = ['number_of_msg']\n",
    "messages_number"
   ]
  },
  {
   "cell_type": "markdown",
   "metadata": {},
   "source": [
    "Делаем общую таблицу."
   ]
  },
  {
   "cell_type": "code",
   "execution_count": 17,
   "metadata": {},
   "outputs": [
    {
     "data": {
      "text/html": [
       "<div>\n",
       "<style scoped>\n",
       "    .dataframe tbody tr th:only-of-type {\n",
       "        vertical-align: middle;\n",
       "    }\n",
       "\n",
       "    .dataframe tbody tr th {\n",
       "        vertical-align: top;\n",
       "    }\n",
       "\n",
       "    .dataframe thead th {\n",
       "        text-align: right;\n",
       "    }\n",
       "</style>\n",
       "<table border=\"1\" class=\"dataframe\">\n",
       "  <thead>\n",
       "    <tr style=\"text-align: right;\">\n",
       "      <th></th>\n",
       "      <th>user_id</th>\n",
       "      <th>month</th>\n",
       "      <th>gb_used</th>\n",
       "      <th>calls_count</th>\n",
       "      <th>calls_sum</th>\n",
       "      <th>number_of_msg</th>\n",
       "    </tr>\n",
       "  </thead>\n",
       "  <tbody>\n",
       "    <tr>\n",
       "      <th>0</th>\n",
       "      <td>1000</td>\n",
       "      <td>5</td>\n",
       "      <td>3</td>\n",
       "      <td>22</td>\n",
       "      <td>159.0</td>\n",
       "      <td>22</td>\n",
       "    </tr>\n",
       "    <tr>\n",
       "      <th>1</th>\n",
       "      <td>1000</td>\n",
       "      <td>6</td>\n",
       "      <td>23</td>\n",
       "      <td>43</td>\n",
       "      <td>172.0</td>\n",
       "      <td>60</td>\n",
       "    </tr>\n",
       "    <tr>\n",
       "      <th>2</th>\n",
       "      <td>1000</td>\n",
       "      <td>7</td>\n",
       "      <td>14</td>\n",
       "      <td>47</td>\n",
       "      <td>340.0</td>\n",
       "      <td>75</td>\n",
       "    </tr>\n",
       "    <tr>\n",
       "      <th>3</th>\n",
       "      <td>1000</td>\n",
       "      <td>8</td>\n",
       "      <td>14</td>\n",
       "      <td>52</td>\n",
       "      <td>408.0</td>\n",
       "      <td>81</td>\n",
       "    </tr>\n",
       "    <tr>\n",
       "      <th>4</th>\n",
       "      <td>1000</td>\n",
       "      <td>9</td>\n",
       "      <td>15</td>\n",
       "      <td>58</td>\n",
       "      <td>466.0</td>\n",
       "      <td>57</td>\n",
       "    </tr>\n",
       "    <tr>\n",
       "      <th>...</th>\n",
       "      <td>...</td>\n",
       "      <td>...</td>\n",
       "      <td>...</td>\n",
       "      <td>...</td>\n",
       "      <td>...</td>\n",
       "      <td>...</td>\n",
       "    </tr>\n",
       "    <tr>\n",
       "      <th>2662</th>\n",
       "      <td>1498</td>\n",
       "      <td>10</td>\n",
       "      <td>21</td>\n",
       "      <td>41</td>\n",
       "      <td>247.0</td>\n",
       "      <td>42</td>\n",
       "    </tr>\n",
       "    <tr>\n",
       "      <th>2663</th>\n",
       "      <td>1499</td>\n",
       "      <td>9</td>\n",
       "      <td>2</td>\n",
       "      <td>9</td>\n",
       "      <td>70.0</td>\n",
       "      <td>11</td>\n",
       "    </tr>\n",
       "    <tr>\n",
       "      <th>2664</th>\n",
       "      <td>1499</td>\n",
       "      <td>10</td>\n",
       "      <td>18</td>\n",
       "      <td>68</td>\n",
       "      <td>449.0</td>\n",
       "      <td>48</td>\n",
       "    </tr>\n",
       "    <tr>\n",
       "      <th>2665</th>\n",
       "      <td>1499</td>\n",
       "      <td>11</td>\n",
       "      <td>18</td>\n",
       "      <td>74</td>\n",
       "      <td>612.0</td>\n",
       "      <td>59</td>\n",
       "    </tr>\n",
       "    <tr>\n",
       "      <th>2666</th>\n",
       "      <td>1499</td>\n",
       "      <td>12</td>\n",
       "      <td>13</td>\n",
       "      <td>69</td>\n",
       "      <td>492.0</td>\n",
       "      <td>66</td>\n",
       "    </tr>\n",
       "  </tbody>\n",
       "</table>\n",
       "<p>2667 rows × 6 columns</p>\n",
       "</div>"
      ],
      "text/plain": [
       "      user_id  month  gb_used  calls_count  calls_sum  number_of_msg\n",
       "0        1000      5        3           22      159.0             22\n",
       "1        1000      6       23           43      172.0             60\n",
       "2        1000      7       14           47      340.0             75\n",
       "3        1000      8       14           52      408.0             81\n",
       "4        1000      9       15           58      466.0             57\n",
       "...       ...    ...      ...          ...        ...            ...\n",
       "2662     1498     10       21           41      247.0             42\n",
       "2663     1499      9        2            9       70.0             11\n",
       "2664     1499     10       18           68      449.0             48\n",
       "2665     1499     11       18           74      612.0             59\n",
       "2666     1499     12       13           69      492.0             66\n",
       "\n",
       "[2667 rows x 6 columns]"
      ]
     },
     "execution_count": 17,
     "metadata": {},
     "output_type": "execute_result"
    }
   ],
   "source": [
    "users_merged = internet.merge(messages_number, on=['user_id', 'month'])\n",
    "users_merged"
   ]
  },
  {
   "cell_type": "markdown",
   "metadata": {},
   "source": [
    "Теперь стоит соединить с таблицей с общей информацией о пользователях."
   ]
  },
  {
   "cell_type": "code",
   "execution_count": 18,
   "metadata": {
    "scrolled": false
   },
   "outputs": [],
   "source": [
    "users_merged = users_merged.reset_index()\n",
    "data = users_merged.merge(users, on='user_id', how='outer')\n",
    "data = data.rename(columns={'tariff': 'tariff_name'})"
   ]
  },
  {
   "cell_type": "markdown",
   "metadata": {},
   "source": [
    "Соединяем с таблицей о тарифах."
   ]
  },
  {
   "cell_type": "code",
   "execution_count": 19,
   "metadata": {},
   "outputs": [
    {
     "data": {
      "text/html": [
       "<div>\n",
       "<style scoped>\n",
       "    .dataframe tbody tr th:only-of-type {\n",
       "        vertical-align: middle;\n",
       "    }\n",
       "\n",
       "    .dataframe tbody tr th {\n",
       "        vertical-align: top;\n",
       "    }\n",
       "\n",
       "    .dataframe thead th {\n",
       "        text-align: right;\n",
       "    }\n",
       "</style>\n",
       "<table border=\"1\" class=\"dataframe\">\n",
       "  <thead>\n",
       "    <tr style=\"text-align: right;\">\n",
       "      <th></th>\n",
       "      <th>index</th>\n",
       "      <th>user_id</th>\n",
       "      <th>month</th>\n",
       "      <th>gb_used</th>\n",
       "      <th>calls_count</th>\n",
       "      <th>calls_sum</th>\n",
       "      <th>number_of_msg</th>\n",
       "      <th>age</th>\n",
       "      <th>churn_date</th>\n",
       "      <th>city</th>\n",
       "      <th>...</th>\n",
       "      <th>last_name</th>\n",
       "      <th>reg_date</th>\n",
       "      <th>tariff_name</th>\n",
       "      <th>messages_included</th>\n",
       "      <th>gb_per_month_included</th>\n",
       "      <th>minutes_included</th>\n",
       "      <th>rub_monthly_fee</th>\n",
       "      <th>rub_per_gb</th>\n",
       "      <th>rub_per_message</th>\n",
       "      <th>rub_per_minute</th>\n",
       "    </tr>\n",
       "  </thead>\n",
       "  <tbody>\n",
       "    <tr>\n",
       "      <th>0</th>\n",
       "      <td>0.0</td>\n",
       "      <td>1000</td>\n",
       "      <td>5.0</td>\n",
       "      <td>3.0</td>\n",
       "      <td>22.0</td>\n",
       "      <td>159.0</td>\n",
       "      <td>22.0</td>\n",
       "      <td>52</td>\n",
       "      <td>NaT</td>\n",
       "      <td>Краснодар</td>\n",
       "      <td>...</td>\n",
       "      <td>Верещагин</td>\n",
       "      <td>2018-05-25</td>\n",
       "      <td>ultra</td>\n",
       "      <td>1000</td>\n",
       "      <td>30</td>\n",
       "      <td>3000</td>\n",
       "      <td>1950</td>\n",
       "      <td>150</td>\n",
       "      <td>1</td>\n",
       "      <td>1</td>\n",
       "    </tr>\n",
       "    <tr>\n",
       "      <th>1</th>\n",
       "      <td>1.0</td>\n",
       "      <td>1000</td>\n",
       "      <td>6.0</td>\n",
       "      <td>23.0</td>\n",
       "      <td>43.0</td>\n",
       "      <td>172.0</td>\n",
       "      <td>60.0</td>\n",
       "      <td>52</td>\n",
       "      <td>NaT</td>\n",
       "      <td>Краснодар</td>\n",
       "      <td>...</td>\n",
       "      <td>Верещагин</td>\n",
       "      <td>2018-05-25</td>\n",
       "      <td>ultra</td>\n",
       "      <td>1000</td>\n",
       "      <td>30</td>\n",
       "      <td>3000</td>\n",
       "      <td>1950</td>\n",
       "      <td>150</td>\n",
       "      <td>1</td>\n",
       "      <td>1</td>\n",
       "    </tr>\n",
       "    <tr>\n",
       "      <th>2</th>\n",
       "      <td>2.0</td>\n",
       "      <td>1000</td>\n",
       "      <td>7.0</td>\n",
       "      <td>14.0</td>\n",
       "      <td>47.0</td>\n",
       "      <td>340.0</td>\n",
       "      <td>75.0</td>\n",
       "      <td>52</td>\n",
       "      <td>NaT</td>\n",
       "      <td>Краснодар</td>\n",
       "      <td>...</td>\n",
       "      <td>Верещагин</td>\n",
       "      <td>2018-05-25</td>\n",
       "      <td>ultra</td>\n",
       "      <td>1000</td>\n",
       "      <td>30</td>\n",
       "      <td>3000</td>\n",
       "      <td>1950</td>\n",
       "      <td>150</td>\n",
       "      <td>1</td>\n",
       "      <td>1</td>\n",
       "    </tr>\n",
       "    <tr>\n",
       "      <th>3</th>\n",
       "      <td>3.0</td>\n",
       "      <td>1000</td>\n",
       "      <td>8.0</td>\n",
       "      <td>14.0</td>\n",
       "      <td>52.0</td>\n",
       "      <td>408.0</td>\n",
       "      <td>81.0</td>\n",
       "      <td>52</td>\n",
       "      <td>NaT</td>\n",
       "      <td>Краснодар</td>\n",
       "      <td>...</td>\n",
       "      <td>Верещагин</td>\n",
       "      <td>2018-05-25</td>\n",
       "      <td>ultra</td>\n",
       "      <td>1000</td>\n",
       "      <td>30</td>\n",
       "      <td>3000</td>\n",
       "      <td>1950</td>\n",
       "      <td>150</td>\n",
       "      <td>1</td>\n",
       "      <td>1</td>\n",
       "    </tr>\n",
       "    <tr>\n",
       "      <th>4</th>\n",
       "      <td>4.0</td>\n",
       "      <td>1000</td>\n",
       "      <td>9.0</td>\n",
       "      <td>15.0</td>\n",
       "      <td>58.0</td>\n",
       "      <td>466.0</td>\n",
       "      <td>57.0</td>\n",
       "      <td>52</td>\n",
       "      <td>NaT</td>\n",
       "      <td>Краснодар</td>\n",
       "      <td>...</td>\n",
       "      <td>Верещагин</td>\n",
       "      <td>2018-05-25</td>\n",
       "      <td>ultra</td>\n",
       "      <td>1000</td>\n",
       "      <td>30</td>\n",
       "      <td>3000</td>\n",
       "      <td>1950</td>\n",
       "      <td>150</td>\n",
       "      <td>1</td>\n",
       "      <td>1</td>\n",
       "    </tr>\n",
       "    <tr>\n",
       "      <th>...</th>\n",
       "      <td>...</td>\n",
       "      <td>...</td>\n",
       "      <td>...</td>\n",
       "      <td>...</td>\n",
       "      <td>...</td>\n",
       "      <td>...</td>\n",
       "      <td>...</td>\n",
       "      <td>...</td>\n",
       "      <td>...</td>\n",
       "      <td>...</td>\n",
       "      <td>...</td>\n",
       "      <td>...</td>\n",
       "      <td>...</td>\n",
       "      <td>...</td>\n",
       "      <td>...</td>\n",
       "      <td>...</td>\n",
       "      <td>...</td>\n",
       "      <td>...</td>\n",
       "      <td>...</td>\n",
       "      <td>...</td>\n",
       "      <td>...</td>\n",
       "    </tr>\n",
       "    <tr>\n",
       "      <th>2743</th>\n",
       "      <td>NaN</td>\n",
       "      <td>1456</td>\n",
       "      <td>NaN</td>\n",
       "      <td>NaN</td>\n",
       "      <td>NaN</td>\n",
       "      <td>NaN</td>\n",
       "      <td>NaN</td>\n",
       "      <td>40</td>\n",
       "      <td>NaT</td>\n",
       "      <td>Санкт-Петербург</td>\n",
       "      <td>...</td>\n",
       "      <td>Андропова</td>\n",
       "      <td>2018-08-25</td>\n",
       "      <td>smart</td>\n",
       "      <td>50</td>\n",
       "      <td>15</td>\n",
       "      <td>500</td>\n",
       "      <td>550</td>\n",
       "      <td>200</td>\n",
       "      <td>3</td>\n",
       "      <td>3</td>\n",
       "    </tr>\n",
       "    <tr>\n",
       "      <th>2744</th>\n",
       "      <td>NaN</td>\n",
       "      <td>1462</td>\n",
       "      <td>NaN</td>\n",
       "      <td>NaN</td>\n",
       "      <td>NaN</td>\n",
       "      <td>NaN</td>\n",
       "      <td>NaN</td>\n",
       "      <td>72</td>\n",
       "      <td>NaT</td>\n",
       "      <td>Тольятти</td>\n",
       "      <td>...</td>\n",
       "      <td>Абрамычева</td>\n",
       "      <td>2018-10-29</td>\n",
       "      <td>smart</td>\n",
       "      <td>50</td>\n",
       "      <td>15</td>\n",
       "      <td>500</td>\n",
       "      <td>550</td>\n",
       "      <td>200</td>\n",
       "      <td>3</td>\n",
       "      <td>3</td>\n",
       "    </tr>\n",
       "    <tr>\n",
       "      <th>2745</th>\n",
       "      <td>NaN</td>\n",
       "      <td>1479</td>\n",
       "      <td>NaN</td>\n",
       "      <td>NaN</td>\n",
       "      <td>NaN</td>\n",
       "      <td>NaN</td>\n",
       "      <td>NaN</td>\n",
       "      <td>40</td>\n",
       "      <td>NaT</td>\n",
       "      <td>Хабаровск</td>\n",
       "      <td>...</td>\n",
       "      <td>Богданов</td>\n",
       "      <td>2018-07-03</td>\n",
       "      <td>smart</td>\n",
       "      <td>50</td>\n",
       "      <td>15</td>\n",
       "      <td>500</td>\n",
       "      <td>550</td>\n",
       "      <td>200</td>\n",
       "      <td>3</td>\n",
       "      <td>3</td>\n",
       "    </tr>\n",
       "    <tr>\n",
       "      <th>2746</th>\n",
       "      <td>NaN</td>\n",
       "      <td>1489</td>\n",
       "      <td>NaN</td>\n",
       "      <td>NaN</td>\n",
       "      <td>NaN</td>\n",
       "      <td>NaN</td>\n",
       "      <td>NaN</td>\n",
       "      <td>35</td>\n",
       "      <td>NaT</td>\n",
       "      <td>Санкт-Петербург</td>\n",
       "      <td>...</td>\n",
       "      <td>Гончаров</td>\n",
       "      <td>2018-08-15</td>\n",
       "      <td>smart</td>\n",
       "      <td>50</td>\n",
       "      <td>15</td>\n",
       "      <td>500</td>\n",
       "      <td>550</td>\n",
       "      <td>200</td>\n",
       "      <td>3</td>\n",
       "      <td>3</td>\n",
       "    </tr>\n",
       "    <tr>\n",
       "      <th>2747</th>\n",
       "      <td>NaN</td>\n",
       "      <td>1494</td>\n",
       "      <td>NaN</td>\n",
       "      <td>NaN</td>\n",
       "      <td>NaN</td>\n",
       "      <td>NaN</td>\n",
       "      <td>NaN</td>\n",
       "      <td>62</td>\n",
       "      <td>NaT</td>\n",
       "      <td>Омск</td>\n",
       "      <td>...</td>\n",
       "      <td>Андропов</td>\n",
       "      <td>2018-08-17</td>\n",
       "      <td>smart</td>\n",
       "      <td>50</td>\n",
       "      <td>15</td>\n",
       "      <td>500</td>\n",
       "      <td>550</td>\n",
       "      <td>200</td>\n",
       "      <td>3</td>\n",
       "      <td>3</td>\n",
       "    </tr>\n",
       "  </tbody>\n",
       "</table>\n",
       "<p>2748 rows × 21 columns</p>\n",
       "</div>"
      ],
      "text/plain": [
       "      index  user_id  month  gb_used  calls_count  calls_sum  number_of_msg  \\\n",
       "0       0.0     1000    5.0      3.0         22.0      159.0           22.0   \n",
       "1       1.0     1000    6.0     23.0         43.0      172.0           60.0   \n",
       "2       2.0     1000    7.0     14.0         47.0      340.0           75.0   \n",
       "3       3.0     1000    8.0     14.0         52.0      408.0           81.0   \n",
       "4       4.0     1000    9.0     15.0         58.0      466.0           57.0   \n",
       "...     ...      ...    ...      ...          ...        ...            ...   \n",
       "2743    NaN     1456    NaN      NaN          NaN        NaN            NaN   \n",
       "2744    NaN     1462    NaN      NaN          NaN        NaN            NaN   \n",
       "2745    NaN     1479    NaN      NaN          NaN        NaN            NaN   \n",
       "2746    NaN     1489    NaN      NaN          NaN        NaN            NaN   \n",
       "2747    NaN     1494    NaN      NaN          NaN        NaN            NaN   \n",
       "\n",
       "      age churn_date             city  ...   last_name   reg_date tariff_name  \\\n",
       "0      52        NaT        Краснодар  ...   Верещагин 2018-05-25       ultra   \n",
       "1      52        NaT        Краснодар  ...   Верещагин 2018-05-25       ultra   \n",
       "2      52        NaT        Краснодар  ...   Верещагин 2018-05-25       ultra   \n",
       "3      52        NaT        Краснодар  ...   Верещагин 2018-05-25       ultra   \n",
       "4      52        NaT        Краснодар  ...   Верещагин 2018-05-25       ultra   \n",
       "...   ...        ...              ...  ...         ...        ...         ...   \n",
       "2743   40        NaT  Санкт-Петербург  ...   Андропова 2018-08-25       smart   \n",
       "2744   72        NaT         Тольятти  ...  Абрамычева 2018-10-29       smart   \n",
       "2745   40        NaT        Хабаровск  ...    Богданов 2018-07-03       smart   \n",
       "2746   35        NaT  Санкт-Петербург  ...    Гончаров 2018-08-15       smart   \n",
       "2747   62        NaT             Омск  ...    Андропов 2018-08-17       smart   \n",
       "\n",
       "     messages_included  gb_per_month_included  minutes_included  \\\n",
       "0                 1000                     30              3000   \n",
       "1                 1000                     30              3000   \n",
       "2                 1000                     30              3000   \n",
       "3                 1000                     30              3000   \n",
       "4                 1000                     30              3000   \n",
       "...                ...                    ...               ...   \n",
       "2743                50                     15               500   \n",
       "2744                50                     15               500   \n",
       "2745                50                     15               500   \n",
       "2746                50                     15               500   \n",
       "2747                50                     15               500   \n",
       "\n",
       "      rub_monthly_fee  rub_per_gb  rub_per_message  rub_per_minute  \n",
       "0                1950         150                1               1  \n",
       "1                1950         150                1               1  \n",
       "2                1950         150                1               1  \n",
       "3                1950         150                1               1  \n",
       "4                1950         150                1               1  \n",
       "...               ...         ...              ...             ...  \n",
       "2743              550         200                3               3  \n",
       "2744              550         200                3               3  \n",
       "2745              550         200                3               3  \n",
       "2746              550         200                3               3  \n",
       "2747              550         200                3               3  \n",
       "\n",
       "[2748 rows x 21 columns]"
      ]
     },
     "execution_count": 19,
     "metadata": {},
     "output_type": "execute_result"
    }
   ],
   "source": [
    "data = data.merge(tariffs, on=\"tariff_name\")\n",
    "data"
   ]
  },
  {
   "cell_type": "markdown",
   "metadata": {},
   "source": [
    "### Подсчет выручки"
   ]
  },
  {
   "cell_type": "markdown",
   "metadata": {},
   "source": [
    "Считаем, сколько денег принес компании пользователь за каждый месяц и добавляем эти данные в датафрейм."
   ]
  },
  {
   "cell_type": "code",
   "execution_count": 20,
   "metadata": {},
   "outputs": [],
   "source": [
    "def monthly_income(row):\n",
    "    revenue = 0\n",
    "    if row['calls_sum'] > row['minutes_included']:\n",
    "        revenue+=((row['calls_sum']-row['minutes_included'])*row['rub_per_minute'])\n",
    "    if row['gb_used'] > row['gb_per_month_included']:\n",
    "        revenue+=((row['gb_used']-row['gb_per_month_included'])*row['rub_per_gb'])\n",
    "    if row['number_of_msg'] > row['messages_included']:\n",
    "        revenue+=((row['number_of_msg'])-row['messages_included']*row['rub_per_message'])\n",
    "    else:\n",
    "        revenue+=0\n",
    "    return revenue"
   ]
  },
  {
   "cell_type": "code",
   "execution_count": 21,
   "metadata": {
    "scrolled": false
   },
   "outputs": [
    {
     "data": {
      "text/html": [
       "<div>\n",
       "<style scoped>\n",
       "    .dataframe tbody tr th:only-of-type {\n",
       "        vertical-align: middle;\n",
       "    }\n",
       "\n",
       "    .dataframe tbody tr th {\n",
       "        vertical-align: top;\n",
       "    }\n",
       "\n",
       "    .dataframe thead th {\n",
       "        text-align: right;\n",
       "    }\n",
       "</style>\n",
       "<table border=\"1\" class=\"dataframe\">\n",
       "  <thead>\n",
       "    <tr style=\"text-align: right;\">\n",
       "      <th></th>\n",
       "      <th>index</th>\n",
       "      <th>user_id</th>\n",
       "      <th>month</th>\n",
       "      <th>gb_used</th>\n",
       "      <th>calls_count</th>\n",
       "      <th>calls_sum</th>\n",
       "      <th>number_of_msg</th>\n",
       "      <th>age</th>\n",
       "      <th>churn_date</th>\n",
       "      <th>city</th>\n",
       "      <th>...</th>\n",
       "      <th>reg_date</th>\n",
       "      <th>tariff_name</th>\n",
       "      <th>messages_included</th>\n",
       "      <th>gb_per_month_included</th>\n",
       "      <th>minutes_included</th>\n",
       "      <th>rub_monthly_fee</th>\n",
       "      <th>rub_per_gb</th>\n",
       "      <th>rub_per_message</th>\n",
       "      <th>rub_per_minute</th>\n",
       "      <th>monthly_income</th>\n",
       "    </tr>\n",
       "  </thead>\n",
       "  <tbody>\n",
       "    <tr>\n",
       "      <th>0</th>\n",
       "      <td>0.0</td>\n",
       "      <td>1000</td>\n",
       "      <td>5.0</td>\n",
       "      <td>3.0</td>\n",
       "      <td>22.0</td>\n",
       "      <td>159.0</td>\n",
       "      <td>22.0</td>\n",
       "      <td>52</td>\n",
       "      <td>NaT</td>\n",
       "      <td>Краснодар</td>\n",
       "      <td>...</td>\n",
       "      <td>2018-05-25</td>\n",
       "      <td>ultra</td>\n",
       "      <td>1000</td>\n",
       "      <td>30</td>\n",
       "      <td>3000</td>\n",
       "      <td>1950</td>\n",
       "      <td>150</td>\n",
       "      <td>1</td>\n",
       "      <td>1</td>\n",
       "      <td>1950.0</td>\n",
       "    </tr>\n",
       "    <tr>\n",
       "      <th>1</th>\n",
       "      <td>1.0</td>\n",
       "      <td>1000</td>\n",
       "      <td>6.0</td>\n",
       "      <td>23.0</td>\n",
       "      <td>43.0</td>\n",
       "      <td>172.0</td>\n",
       "      <td>60.0</td>\n",
       "      <td>52</td>\n",
       "      <td>NaT</td>\n",
       "      <td>Краснодар</td>\n",
       "      <td>...</td>\n",
       "      <td>2018-05-25</td>\n",
       "      <td>ultra</td>\n",
       "      <td>1000</td>\n",
       "      <td>30</td>\n",
       "      <td>3000</td>\n",
       "      <td>1950</td>\n",
       "      <td>150</td>\n",
       "      <td>1</td>\n",
       "      <td>1</td>\n",
       "      <td>1950.0</td>\n",
       "    </tr>\n",
       "    <tr>\n",
       "      <th>2</th>\n",
       "      <td>2.0</td>\n",
       "      <td>1000</td>\n",
       "      <td>7.0</td>\n",
       "      <td>14.0</td>\n",
       "      <td>47.0</td>\n",
       "      <td>340.0</td>\n",
       "      <td>75.0</td>\n",
       "      <td>52</td>\n",
       "      <td>NaT</td>\n",
       "      <td>Краснодар</td>\n",
       "      <td>...</td>\n",
       "      <td>2018-05-25</td>\n",
       "      <td>ultra</td>\n",
       "      <td>1000</td>\n",
       "      <td>30</td>\n",
       "      <td>3000</td>\n",
       "      <td>1950</td>\n",
       "      <td>150</td>\n",
       "      <td>1</td>\n",
       "      <td>1</td>\n",
       "      <td>1950.0</td>\n",
       "    </tr>\n",
       "    <tr>\n",
       "      <th>3</th>\n",
       "      <td>3.0</td>\n",
       "      <td>1000</td>\n",
       "      <td>8.0</td>\n",
       "      <td>14.0</td>\n",
       "      <td>52.0</td>\n",
       "      <td>408.0</td>\n",
       "      <td>81.0</td>\n",
       "      <td>52</td>\n",
       "      <td>NaT</td>\n",
       "      <td>Краснодар</td>\n",
       "      <td>...</td>\n",
       "      <td>2018-05-25</td>\n",
       "      <td>ultra</td>\n",
       "      <td>1000</td>\n",
       "      <td>30</td>\n",
       "      <td>3000</td>\n",
       "      <td>1950</td>\n",
       "      <td>150</td>\n",
       "      <td>1</td>\n",
       "      <td>1</td>\n",
       "      <td>1950.0</td>\n",
       "    </tr>\n",
       "    <tr>\n",
       "      <th>4</th>\n",
       "      <td>4.0</td>\n",
       "      <td>1000</td>\n",
       "      <td>9.0</td>\n",
       "      <td>15.0</td>\n",
       "      <td>58.0</td>\n",
       "      <td>466.0</td>\n",
       "      <td>57.0</td>\n",
       "      <td>52</td>\n",
       "      <td>NaT</td>\n",
       "      <td>Краснодар</td>\n",
       "      <td>...</td>\n",
       "      <td>2018-05-25</td>\n",
       "      <td>ultra</td>\n",
       "      <td>1000</td>\n",
       "      <td>30</td>\n",
       "      <td>3000</td>\n",
       "      <td>1950</td>\n",
       "      <td>150</td>\n",
       "      <td>1</td>\n",
       "      <td>1</td>\n",
       "      <td>1950.0</td>\n",
       "    </tr>\n",
       "    <tr>\n",
       "      <th>...</th>\n",
       "      <td>...</td>\n",
       "      <td>...</td>\n",
       "      <td>...</td>\n",
       "      <td>...</td>\n",
       "      <td>...</td>\n",
       "      <td>...</td>\n",
       "      <td>...</td>\n",
       "      <td>...</td>\n",
       "      <td>...</td>\n",
       "      <td>...</td>\n",
       "      <td>...</td>\n",
       "      <td>...</td>\n",
       "      <td>...</td>\n",
       "      <td>...</td>\n",
       "      <td>...</td>\n",
       "      <td>...</td>\n",
       "      <td>...</td>\n",
       "      <td>...</td>\n",
       "      <td>...</td>\n",
       "      <td>...</td>\n",
       "      <td>...</td>\n",
       "    </tr>\n",
       "    <tr>\n",
       "      <th>2743</th>\n",
       "      <td>NaN</td>\n",
       "      <td>1456</td>\n",
       "      <td>NaN</td>\n",
       "      <td>NaN</td>\n",
       "      <td>NaN</td>\n",
       "      <td>NaN</td>\n",
       "      <td>NaN</td>\n",
       "      <td>40</td>\n",
       "      <td>NaT</td>\n",
       "      <td>Санкт-Петербург</td>\n",
       "      <td>...</td>\n",
       "      <td>2018-08-25</td>\n",
       "      <td>smart</td>\n",
       "      <td>50</td>\n",
       "      <td>15</td>\n",
       "      <td>500</td>\n",
       "      <td>550</td>\n",
       "      <td>200</td>\n",
       "      <td>3</td>\n",
       "      <td>3</td>\n",
       "      <td>550.0</td>\n",
       "    </tr>\n",
       "    <tr>\n",
       "      <th>2744</th>\n",
       "      <td>NaN</td>\n",
       "      <td>1462</td>\n",
       "      <td>NaN</td>\n",
       "      <td>NaN</td>\n",
       "      <td>NaN</td>\n",
       "      <td>NaN</td>\n",
       "      <td>NaN</td>\n",
       "      <td>72</td>\n",
       "      <td>NaT</td>\n",
       "      <td>Тольятти</td>\n",
       "      <td>...</td>\n",
       "      <td>2018-10-29</td>\n",
       "      <td>smart</td>\n",
       "      <td>50</td>\n",
       "      <td>15</td>\n",
       "      <td>500</td>\n",
       "      <td>550</td>\n",
       "      <td>200</td>\n",
       "      <td>3</td>\n",
       "      <td>3</td>\n",
       "      <td>550.0</td>\n",
       "    </tr>\n",
       "    <tr>\n",
       "      <th>2745</th>\n",
       "      <td>NaN</td>\n",
       "      <td>1479</td>\n",
       "      <td>NaN</td>\n",
       "      <td>NaN</td>\n",
       "      <td>NaN</td>\n",
       "      <td>NaN</td>\n",
       "      <td>NaN</td>\n",
       "      <td>40</td>\n",
       "      <td>NaT</td>\n",
       "      <td>Хабаровск</td>\n",
       "      <td>...</td>\n",
       "      <td>2018-07-03</td>\n",
       "      <td>smart</td>\n",
       "      <td>50</td>\n",
       "      <td>15</td>\n",
       "      <td>500</td>\n",
       "      <td>550</td>\n",
       "      <td>200</td>\n",
       "      <td>3</td>\n",
       "      <td>3</td>\n",
       "      <td>550.0</td>\n",
       "    </tr>\n",
       "    <tr>\n",
       "      <th>2746</th>\n",
       "      <td>NaN</td>\n",
       "      <td>1489</td>\n",
       "      <td>NaN</td>\n",
       "      <td>NaN</td>\n",
       "      <td>NaN</td>\n",
       "      <td>NaN</td>\n",
       "      <td>NaN</td>\n",
       "      <td>35</td>\n",
       "      <td>NaT</td>\n",
       "      <td>Санкт-Петербург</td>\n",
       "      <td>...</td>\n",
       "      <td>2018-08-15</td>\n",
       "      <td>smart</td>\n",
       "      <td>50</td>\n",
       "      <td>15</td>\n",
       "      <td>500</td>\n",
       "      <td>550</td>\n",
       "      <td>200</td>\n",
       "      <td>3</td>\n",
       "      <td>3</td>\n",
       "      <td>550.0</td>\n",
       "    </tr>\n",
       "    <tr>\n",
       "      <th>2747</th>\n",
       "      <td>NaN</td>\n",
       "      <td>1494</td>\n",
       "      <td>NaN</td>\n",
       "      <td>NaN</td>\n",
       "      <td>NaN</td>\n",
       "      <td>NaN</td>\n",
       "      <td>NaN</td>\n",
       "      <td>62</td>\n",
       "      <td>NaT</td>\n",
       "      <td>Омск</td>\n",
       "      <td>...</td>\n",
       "      <td>2018-08-17</td>\n",
       "      <td>smart</td>\n",
       "      <td>50</td>\n",
       "      <td>15</td>\n",
       "      <td>500</td>\n",
       "      <td>550</td>\n",
       "      <td>200</td>\n",
       "      <td>3</td>\n",
       "      <td>3</td>\n",
       "      <td>550.0</td>\n",
       "    </tr>\n",
       "  </tbody>\n",
       "</table>\n",
       "<p>2748 rows × 22 columns</p>\n",
       "</div>"
      ],
      "text/plain": [
       "      index  user_id  month  gb_used  calls_count  calls_sum  number_of_msg  \\\n",
       "0       0.0     1000    5.0      3.0         22.0      159.0           22.0   \n",
       "1       1.0     1000    6.0     23.0         43.0      172.0           60.0   \n",
       "2       2.0     1000    7.0     14.0         47.0      340.0           75.0   \n",
       "3       3.0     1000    8.0     14.0         52.0      408.0           81.0   \n",
       "4       4.0     1000    9.0     15.0         58.0      466.0           57.0   \n",
       "...     ...      ...    ...      ...          ...        ...            ...   \n",
       "2743    NaN     1456    NaN      NaN          NaN        NaN            NaN   \n",
       "2744    NaN     1462    NaN      NaN          NaN        NaN            NaN   \n",
       "2745    NaN     1479    NaN      NaN          NaN        NaN            NaN   \n",
       "2746    NaN     1489    NaN      NaN          NaN        NaN            NaN   \n",
       "2747    NaN     1494    NaN      NaN          NaN        NaN            NaN   \n",
       "\n",
       "      age churn_date             city  ...   reg_date tariff_name  \\\n",
       "0      52        NaT        Краснодар  ... 2018-05-25       ultra   \n",
       "1      52        NaT        Краснодар  ... 2018-05-25       ultra   \n",
       "2      52        NaT        Краснодар  ... 2018-05-25       ultra   \n",
       "3      52        NaT        Краснодар  ... 2018-05-25       ultra   \n",
       "4      52        NaT        Краснодар  ... 2018-05-25       ultra   \n",
       "...   ...        ...              ...  ...        ...         ...   \n",
       "2743   40        NaT  Санкт-Петербург  ... 2018-08-25       smart   \n",
       "2744   72        NaT         Тольятти  ... 2018-10-29       smart   \n",
       "2745   40        NaT        Хабаровск  ... 2018-07-03       smart   \n",
       "2746   35        NaT  Санкт-Петербург  ... 2018-08-15       smart   \n",
       "2747   62        NaT             Омск  ... 2018-08-17       smart   \n",
       "\n",
       "     messages_included gb_per_month_included  minutes_included  \\\n",
       "0                 1000                    30              3000   \n",
       "1                 1000                    30              3000   \n",
       "2                 1000                    30              3000   \n",
       "3                 1000                    30              3000   \n",
       "4                 1000                    30              3000   \n",
       "...                ...                   ...               ...   \n",
       "2743                50                    15               500   \n",
       "2744                50                    15               500   \n",
       "2745                50                    15               500   \n",
       "2746                50                    15               500   \n",
       "2747                50                    15               500   \n",
       "\n",
       "      rub_monthly_fee  rub_per_gb  rub_per_message  rub_per_minute  \\\n",
       "0                1950         150                1               1   \n",
       "1                1950         150                1               1   \n",
       "2                1950         150                1               1   \n",
       "3                1950         150                1               1   \n",
       "4                1950         150                1               1   \n",
       "...               ...         ...              ...             ...   \n",
       "2743              550         200                3               3   \n",
       "2744              550         200                3               3   \n",
       "2745              550         200                3               3   \n",
       "2746              550         200                3               3   \n",
       "2747              550         200                3               3   \n",
       "\n",
       "      monthly_income  \n",
       "0             1950.0  \n",
       "1             1950.0  \n",
       "2             1950.0  \n",
       "3             1950.0  \n",
       "4             1950.0  \n",
       "...              ...  \n",
       "2743           550.0  \n",
       "2744           550.0  \n",
       "2745           550.0  \n",
       "2746           550.0  \n",
       "2747           550.0  \n",
       "\n",
       "[2748 rows x 22 columns]"
      ]
     },
     "execution_count": 21,
     "metadata": {},
     "output_type": "execute_result"
    }
   ],
   "source": [
    "data['monthly_income'] = (data.apply(monthly_income, axis=1)) + data['rub_monthly_fee']\n",
    "data"
   ]
  },
  {
   "cell_type": "markdown",
   "metadata": {},
   "source": [
    "### Вывод"
   ]
  },
  {
   "cell_type": "markdown",
   "metadata": {},
   "source": [
    "Мы включили в датафрейм данные о выручке для каждого пользователя в каждом месяце."
   ]
  },
  {
   "cell_type": "markdown",
   "metadata": {},
   "source": [
    "## Анализ данных"
   ]
  },
  {
   "cell_type": "markdown",
   "metadata": {},
   "source": [
    "### Гистограммы для общего кол-ва трафика"
   ]
  },
  {
   "cell_type": "markdown",
   "metadata": {},
   "source": [
    "Группируем данные по типу тарифа и суммируем весь израсходованный пользователями трафик."
   ]
  },
  {
   "cell_type": "code",
   "execution_count": 22,
   "metadata": {
    "scrolled": true
   },
   "outputs": [],
   "source": [
    "tariff_smart_sum = (data\n",
    "                .query('tariff_name == \"smart\"')\n",
    "                .pivot_table(\n",
    "                    index='month', \n",
    "                    values = ('calls_sum', 'number_of_msg', 'gb_used'), \n",
    "                    aggfunc = ('sum')\n",
    "                )\n",
    ")"
   ]
  },
  {
   "cell_type": "code",
   "execution_count": 23,
   "metadata": {},
   "outputs": [],
   "source": [
    "tariff_ultra_sum = (data\n",
    "                .query('tariff_name == \"ultra\"')\n",
    "                .pivot_table(\n",
    "                    index='month', \n",
    "                    values = ('calls_sum', 'number_of_msg', 'gb_used'), \n",
    "                    aggfunc = ('sum')\n",
    "                )\n",
    ")"
   ]
  },
  {
   "cell_type": "markdown",
   "metadata": {},
   "source": [
    "Построим график по общему распределению трафика за весь период."
   ]
  },
  {
   "cell_type": "code",
   "execution_count": 24,
   "metadata": {
    "scrolled": true
   },
   "outputs": [
    {
     "data": {
      "text/plain": [
       "<AxesSubplot:ylabel='Frequency'>"
      ]
     },
     "execution_count": 24,
     "metadata": {},
     "output_type": "execute_result"
    },
    {
     "data": {
      "image/png": "[encoded data removed]",
      "text/plain": [
       "<Figure size 432x288 with 1 Axes>"
      ]
     },
     "metadata": {
      "needs_background": "light"
     },
     "output_type": "display_data"
    }
   ],
   "source": [
    "ax = data[data['tariff_name']=='smart']['calls_sum'].plot(kind='hist', bins=10, label='smart', grid=True, histtype='step', linewidth=5, legend=True)\n",
    "data[data['tariff_name']=='ultra']['calls_sum'].plot(\n",
    "    ax=ax,\n",
    "    kind='hist',\n",
    "    bins=10,\n",
    "    label='ultra',\n",
    "    grid=True,\n",
    "    histtype='step', \n",
    "    linewidth=5,\n",
    "    legend=True,\n",
    "    color='C6'\n",
    ")\n"
   ]
  },
  {
   "cell_type": "code",
   "execution_count": 25,
   "metadata": {
    "scrolled": true
   },
   "outputs": [
    {
     "data": {
      "text/plain": [
       "<AxesSubplot:ylabel='Frequency'>"
      ]
     },
     "execution_count": 25,
     "metadata": {},
     "output_type": "execute_result"
    },
    {
     "data": {
      "image/png": "[encoded data removed]",
      "text/plain": [
       "<Figure size 432x288 with 1 Axes>"
      ]
     },
     "metadata": {
      "needs_background": "light"
     },
     "output_type": "display_data"
    }
   ],
   "source": [
    "ax = data[data['tariff_name']=='smart']['number_of_msg'].plot(kind='hist', bins=10, label='smart', grid=True, histtype='step', linewidth=5, legend=True)\n",
    "data[data['tariff_name']=='ultra']['number_of_msg'].plot(\n",
    "    kind='hist',\n",
    "    bins=10,\n",
    "    label='ultra',\n",
    "    grid=True,\n",
    "    histtype='step', \n",
    "    linewidth=5,\n",
    "    legend=True,\n",
    "    color='C6'\n",
    ")"
   ]
  },
  {
   "cell_type": "code",
   "execution_count": 26,
   "metadata": {
    "scrolled": true
   },
   "outputs": [
    {
     "data": {
      "text/plain": [
       "<AxesSubplot:ylabel='Frequency'>"
      ]
     },
     "execution_count": 26,
     "metadata": {},
     "output_type": "execute_result"
    },
    {
     "data": {
      "image/png": "[encoded data removed]",
      "text/plain": [
       "<Figure size 432x288 with 1 Axes>"
      ]
     },
     "metadata": {
      "needs_background": "light"
     },
     "output_type": "display_data"
    }
   ],
   "source": [
    "ax = data[data['tariff_name']=='smart']['gb_used'].plot(kind='hist', bins=10, label='smart', grid=True, histtype='step', linewidth=5, legend=True)\n",
    "data[data['tariff_name']=='ultra']['gb_used'].plot(\n",
    "    kind='hist',\n",
    "    bins=10,\n",
    "    label='smart',\n",
    "    grid=True,\n",
    "    histtype='step', \n",
    "    linewidth=5,\n",
    "    legend=True,\n",
    "    color='C6'\n",
    ")"
   ]
  },
  {
   "cell_type": "markdown",
   "metadata": {},
   "source": [
    "Пользователи тарифа smart израсходовали намного больше трафика, чем пользователи тарифа ultra во всех сферах: минутах, сообщениях и интернет-трафике."
   ]
  },
  {
   "cell_type": "markdown",
   "metadata": {},
   "source": [
    "Строим гистограмму по длительности звонков за каждый месяц."
   ]
  },
  {
   "cell_type": "code",
   "execution_count": 27,
   "metadata": {
    "scrolled": true
   },
   "outputs": [
    {
     "data": {
      "text/plain": [
       "<AxesSubplot:xlabel='month'>"
      ]
     },
     "execution_count": 27,
     "metadata": {},
     "output_type": "execute_result"
    },
    {
     "data": {
      "image/png": "[encoded data removed]",
      "text/plain": [
       "<Figure size 432x288 with 1 Axes>"
      ]
     },
     "metadata": {
      "needs_background": "light"
     },
     "output_type": "display_data"
    }
   ],
   "source": [
    "sum_calls_smart = tariff_smart_sum.pivot_table(index='month', values='calls_sum', aggfunc='sum')\n",
    "sum_calls_ultra = tariff_ultra_sum.pivot_table(index='month', values='calls_sum', aggfunc='sum')\n",
    "ax = sum_calls_smart.plot(kind='bar', y='calls_sum', label='smart')\n",
    "sum_calls_ultra.plot(\n",
    "    kind='bar',\n",
    "    y='calls_sum',\n",
    "    label='ultra',\n",
    "    ax=ax, alpha=0.7,\n",
    "    color='C6',\n",
    "    grid=True,\n",
    "    legend=True\n",
    ")"
   ]
  },
  {
   "cell_type": "markdown",
   "metadata": {},
   "source": [
    "Видим, что кол-во пользователей сильно выросло в течение года, а также можем сделать вывод, что на тарифе smart разговоры длятся дольше."
   ]
  },
  {
   "cell_type": "code",
   "execution_count": 28,
   "metadata": {
    "scrolled": true
   },
   "outputs": [
    {
     "data": {
      "text/plain": [
       "<AxesSubplot:xlabel='month'>"
      ]
     },
     "execution_count": 28,
     "metadata": {},
     "output_type": "execute_result"
    },
    {
     "data": {
      "image/png": "[encoded data removed]",
      "text/plain": [
       "<Figure size 432x288 with 1 Axes>"
      ]
     },
     "metadata": {
      "needs_background": "light"
     },
     "output_type": "display_data"
    }
   ],
   "source": [
    "sum_msg_smart = tariff_smart_sum.pivot_table(index='month', values='number_of_msg', aggfunc='sum')\n",
    "sum_msg_ultra = tariff_ultra_sum.pivot_table(index='month', values='number_of_msg', aggfunc='sum')\n",
    "ax = sum_msg_smart.plot(kind='bar', y='number_of_msg', label='smart')\n",
    "sum_msg_ultra.plot(\n",
    "    kind='bar',\n",
    "    y='number_of_msg',\n",
    "    label='ultra',\n",
    "    ax=ax, alpha=0.7,\n",
    "    color='C6',\n",
    "    grid=True,\n",
    "    legend=True\n",
    ")"
   ]
  },
  {
   "cell_type": "markdown",
   "metadata": {},
   "source": [
    "Также дела обстоят и с сообщениями - их кол-во растет с каждым месяцем, но при этом на тарифе smart их снова больше."
   ]
  },
  {
   "cell_type": "code",
   "execution_count": 29,
   "metadata": {},
   "outputs": [
    {
     "data": {
      "text/plain": [
       "<AxesSubplot:xlabel='month'>"
      ]
     },
     "execution_count": 29,
     "metadata": {},
     "output_type": "execute_result"
    },
    {
     "data": {
      "image/png": "[encoded data removed]",
      "text/plain": [
       "<Figure size 432x288 with 1 Axes>"
      ]
     },
     "metadata": {
      "needs_background": "light"
     },
     "output_type": "display_data"
    }
   ],
   "source": [
    "sum_gb_smart = tariff_smart_sum.pivot_table(index='month', values='gb_used', aggfunc='sum')\n",
    "sum_gb_ultra = tariff_ultra_sum.pivot_table(index='month', values='gb_used', aggfunc='sum')\n",
    "ax = sum_gb_smart.plot(kind='bar', y='gb_used', label='smart')\n",
    "sum_gb_ultra.plot(\n",
    "    kind='bar',\n",
    "    y='gb_used',\n",
    "    label='ultra',\n",
    "    ax=ax, alpha=0.7,\n",
    "    color='C6',\n",
    "    grid=True,\n",
    "    legend=True\n",
    ")"
   ]
  },
  {
   "cell_type": "markdown",
   "metadata": {},
   "source": [
    "Замечаем такую же тенденцию с израсходованным интернет-трафиком."
   ]
  },
  {
   "cell_type": "markdown",
   "metadata": {},
   "source": [
    "### Гистограммы для средних значений"
   ]
  },
  {
   "cell_type": "code",
   "execution_count": 30,
   "metadata": {},
   "outputs": [],
   "source": [
    "tariff_smart_median = (data\n",
    "                .query('tariff_name == \"smart\"')\n",
    "                .pivot_table(\n",
    "                    index='month', \n",
    "                    values = ('calls_sum', 'number_of_msg', 'gb_used'), \n",
    "                    aggfunc = ('median')\n",
    "                )\n",
    ")"
   ]
  },
  {
   "cell_type": "code",
   "execution_count": 31,
   "metadata": {},
   "outputs": [],
   "source": [
    "tariff_ultra_median = (data\n",
    "                .query('tariff_name == \"ultra\"')\n",
    "                .pivot_table(\n",
    "                    index='month', \n",
    "                    values = ('calls_sum', 'number_of_msg', 'gb_used'), \n",
    "                    aggfunc = ('median')\n",
    "                )\n",
    ")"
   ]
  },
  {
   "cell_type": "code",
   "execution_count": 32,
   "metadata": {
    "scrolled": true
   },
   "outputs": [
    {
     "data": {
      "text/plain": [
       "<AxesSubplot:xlabel='month'>"
      ]
     },
     "execution_count": 32,
     "metadata": {},
     "output_type": "execute_result"
    },
    {
     "data": {
      "image/png": "[encoded data removed]",
      "text/plain": [
       "<Figure size 432x288 with 1 Axes>"
      ]
     },
     "metadata": {
      "needs_background": "light"
     },
     "output_type": "display_data"
    }
   ],
   "source": [
    "median_calls_smart = tariff_smart_median.pivot_table(index='month', values='calls_sum', aggfunc='median')\n",
    "median_calls_ultra = tariff_ultra_median.pivot_table(index='month', values='calls_sum', aggfunc='median')\n",
    "ax = median_calls_smart.plot(kind='bar', y='calls_sum', label='smart')\n",
    "median_calls_ultra.plot(\n",
    "    kind='bar',\n",
    "    y='calls_sum',\n",
    "    label='ultra',\n",
    "    ax=ax, alpha=0.7,\n",
    "    color='C6',\n",
    "    grid=True,\n",
    "    legend=True,\n",
    ")"
   ]
  },
  {
   "cell_type": "markdown",
   "metadata": {},
   "source": [
    "Здесть ситуация меняется — средние значения по длительности звонков у пользователей тарифа ultra выше."
   ]
  },
  {
   "cell_type": "code",
   "execution_count": 33,
   "metadata": {},
   "outputs": [],
   "source": [
    "data_smart_median = (data\n",
    "                .query('tariff_name == \"smart\"')\n",
    "                .pivot_table(\n",
    "                    index='user_id', \n",
    "                    values = ('calls_sum', 'number_of_msg', 'gb_used'), \n",
    "                    aggfunc = ('median')\n",
    "                )\n",
    ")"
   ]
  },
  {
   "cell_type": "code",
   "execution_count": 34,
   "metadata": {},
   "outputs": [],
   "source": [
    "data_ultra_median = (data\n",
    "                .query('tariff_name == \"ultra\"')\n",
    "                .pivot_table(\n",
    "                    index='user_id', \n",
    "                    values = ('calls_sum', 'number_of_msg', 'gb_used'), \n",
    "                    aggfunc = ('median')\n",
    "                )\n",
    ")"
   ]
  },
  {
   "cell_type": "code",
   "execution_count": 35,
   "metadata": {
    "scrolled": true
   },
   "outputs": [
    {
     "data": {
      "text/plain": [
       "<AxesSubplot:ylabel='Frequency'>"
      ]
     },
     "execution_count": 35,
     "metadata": {},
     "output_type": "execute_result"
    },
    {
     "data": {
      "image/png": "[encoded data removed]",
      "text/plain": [
       "<Figure size 432x288 with 1 Axes>"
      ]
     },
     "metadata": {
      "needs_background": "light"
     },
     "output_type": "display_data"
    }
   ],
   "source": [
    "ax=data_smart_median['calls_sum'].plot(kind='hist', bins=10, label='smart', grid=True, histtype='step', linewidth=5, legend=True)\n",
    "data_ultra_median['calls_sum'].plot(\n",
    "    kind='hist',\n",
    "    bins=10,\n",
    "    label='ultra',\n",
    "    ax=ax, grid=True,\n",
    "    histtype='step', \n",
    "    linewidth=5,\n",
    "    legend=True,\n",
    "    color='C6'\n",
    ")"
   ]
  },
  {
   "cell_type": "markdown",
   "metadata": {},
   "source": [
    "График по общему распределению это подтверждает — хоть истраченного трафика больше у пользователей smart, средние значения выше у пользователей ultra."
   ]
  },
  {
   "cell_type": "code",
   "execution_count": 36,
   "metadata": {
    "scrolled": true
   },
   "outputs": [
    {
     "data": {
      "text/plain": [
       "<AxesSubplot:xlabel='month'>"
      ]
     },
     "execution_count": 36,
     "metadata": {},
     "output_type": "execute_result"
    },
    {
     "data": {
      "image/png": "[encoded data removed]",
      "text/plain": [
       "<Figure size 432x288 with 1 Axes>"
      ]
     },
     "metadata": {
      "needs_background": "light"
     },
     "output_type": "display_data"
    }
   ],
   "source": [
    "median_msg_smart = tariff_smart_median.pivot_table(index='month', values='number_of_msg', aggfunc='median')\n",
    "median_msg_ultra = tariff_ultra_median.pivot_table(index='month', values='number_of_msg', aggfunc='median')\n",
    "ax = median_msg_smart.plot(kind='bar', y='number_of_msg', label='smart')\n",
    "median_msg_ultra.plot(\n",
    "    kind='bar',\n",
    "    y='number_of_msg',\n",
    "    label='ultra',\n",
    "    ax=ax, alpha=0.7,\n",
    "    color='C6',\n",
    "    grid=True,\n",
    "    legend=True\n",
    ")"
   ]
  },
  {
   "cell_type": "markdown",
   "metadata": {},
   "source": [
    "Почти такая же ситуация с сообщениями — почти всегда у тарифа ultra выше средние значения, только в марте значения тарифа smart их обошли."
   ]
  },
  {
   "cell_type": "code",
   "execution_count": 37,
   "metadata": {
    "scrolled": true
   },
   "outputs": [
    {
     "data": {
      "text/plain": [
       "<AxesSubplot:ylabel='Frequency'>"
      ]
     },
     "execution_count": 37,
     "metadata": {},
     "output_type": "execute_result"
    },
    {
     "data": {
      "image/png": "[encoded data removed]",
      "text/plain": [
       "<Figure size 432x288 with 1 Axes>"
      ]
     },
     "metadata": {
      "needs_background": "light"
     },
     "output_type": "display_data"
    }
   ],
   "source": [
    "ax=data_smart_median['number_of_msg'].plot(kind='hist', bins=10, label='smart', grid=True, histtype='step', linewidth=5, legend=True)\n",
    "data_ultra_median['number_of_msg'].plot(\n",
    "    kind='hist',\n",
    "    bins=10,\n",
    "    label='ultra',\n",
    "    ax=ax, grid=True,\n",
    "    histtype='step', \n",
    "    linewidth=5,\n",
    "    legend=True,\n",
    "    color='C6'\n",
    ")"
   ]
  },
  {
   "cell_type": "markdown",
   "metadata": {},
   "source": [
    "Здесь видим потверждение тенденции."
   ]
  },
  {
   "cell_type": "code",
   "execution_count": 38,
   "metadata": {
    "scrolled": false
   },
   "outputs": [
    {
     "data": {
      "text/plain": [
       "<AxesSubplot:xlabel='month'>"
      ]
     },
     "execution_count": 38,
     "metadata": {},
     "output_type": "execute_result"
    },
    {
     "data": {
      "image/png": "[encoded data removed]",
      "text/plain": [
       "<Figure size 432x288 with 1 Axes>"
      ]
     },
     "metadata": {
      "needs_background": "light"
     },
     "output_type": "display_data"
    }
   ],
   "source": [
    "median_gb_smart = tariff_smart_median.pivot_table(index='month', values='gb_used', aggfunc='median')\n",
    "median_gb_ultra = tariff_ultra_median.pivot_table(index='month', values='gb_used', aggfunc='median')\n",
    "ax = median_gb_smart.plot(kind='bar', y='gb_used', label='smart')\n",
    "median_gb_ultra.plot(\n",
    "    kind='bar',\n",
    "    y='gb_used',\n",
    "    label='ultra',\n",
    "    ax=ax, alpha=0.7,\n",
    "    color='C6',\n",
    "    grid=True,\n",
    "    legend=True\n",
    ")"
   ]
  },
  {
   "cell_type": "markdown",
   "metadata": {},
   "source": [
    "С интернет-трафиком разница в средних показателях не такая большая, но все же есть. Почти везде лидирует ultra."
   ]
  },
  {
   "cell_type": "code",
   "execution_count": 39,
   "metadata": {
    "scrolled": true
   },
   "outputs": [
    {
     "data": {
      "text/plain": [
       "<AxesSubplot:ylabel='Frequency'>"
      ]
     },
     "execution_count": 39,
     "metadata": {},
     "output_type": "execute_result"
    },
    {
     "data": {
      "image/png": "[encoded data removed]",
      "text/plain": [
       "<Figure size 432x288 with 1 Axes>"
      ]
     },
     "metadata": {
      "needs_background": "light"
     },
     "output_type": "display_data"
    }
   ],
   "source": [
    "ax=data_smart_median['gb_used'].plot(kind='hist', bins=10, label='smart', grid=True, histtype='step', linewidth=5, legend=True)\n",
    "data_ultra_median['gb_used'].plot(\n",
    "    kind='hist',\n",
    "    bins=10,\n",
    "    label='ultra',\n",
    "    ax=ax, grid=True,\n",
    "    histtype='step', \n",
    "    linewidth=5,\n",
    "    legend=True,\n",
    "    color='C6'\n",
    ")"
   ]
  },
  {
   "cell_type": "markdown",
   "metadata": {},
   "source": [
    "В интернет-трафике разница куда менее значительна, но тем не менее у ultra средние показатели немного выше."
   ]
  },
  {
   "cell_type": "markdown",
   "metadata": {},
   "source": [
    "### Дисперсия и стандартное отклонение"
   ]
  },
  {
   "cell_type": "code",
   "execution_count": 40,
   "metadata": {},
   "outputs": [],
   "source": [
    "smart = data.query('tariff_name==\"smart\"')\n",
    "ultra = data.query('tariff_name==\"ultra\"')"
   ]
  },
  {
   "cell_type": "markdown",
   "metadata": {},
   "source": [
    "Среднее, дисперсия и стандартное отклонение для обоих тарифов."
   ]
  },
  {
   "cell_type": "code",
   "execution_count": 41,
   "metadata": {
    "scrolled": false
   },
   "outputs": [
    {
     "data": {
      "text/html": [
       "<div>\n",
       "<style scoped>\n",
       "    .dataframe tbody tr th:only-of-type {\n",
       "        vertical-align: middle;\n",
       "    }\n",
       "\n",
       "    .dataframe tbody tr th {\n",
       "        vertical-align: top;\n",
       "    }\n",
       "\n",
       "    .dataframe thead tr th {\n",
       "        text-align: left;\n",
       "    }\n",
       "\n",
       "    .dataframe thead tr:last-of-type th {\n",
       "        text-align: right;\n",
       "    }\n",
       "</style>\n",
       "<table border=\"1\" class=\"dataframe\">\n",
       "  <thead>\n",
       "    <tr>\n",
       "      <th></th>\n",
       "      <th>mean</th>\n",
       "      <th>var</th>\n",
       "      <th>std</th>\n",
       "    </tr>\n",
       "    <tr>\n",
       "      <th></th>\n",
       "      <th>calls_sum</th>\n",
       "      <th>calls_sum</th>\n",
       "      <th>calls_sum</th>\n",
       "    </tr>\n",
       "    <tr>\n",
       "      <th>tariff_name</th>\n",
       "      <th></th>\n",
       "      <th></th>\n",
       "      <th></th>\n",
       "    </tr>\n",
       "  </thead>\n",
       "  <tbody>\n",
       "    <tr>\n",
       "      <th>smart</th>\n",
       "      <td>421.034987</td>\n",
       "      <td>35236.097521</td>\n",
       "      <td>187.712806</td>\n",
       "    </tr>\n",
       "  </tbody>\n",
       "</table>\n",
       "</div>"
      ],
      "text/plain": [
       "                   mean           var         std\n",
       "              calls_sum     calls_sum   calls_sum\n",
       "tariff_name                                      \n",
       "smart        421.034987  35236.097521  187.712806"
      ]
     },
     "execution_count": 41,
     "metadata": {},
     "output_type": "execute_result"
    }
   ],
   "source": [
    "smart.pivot_table(index= 'tariff_name', values= 'calls_sum', aggfunc= ['mean', 'var','std'])"
   ]
  },
  {
   "cell_type": "code",
   "execution_count": 42,
   "metadata": {
    "scrolled": true
   },
   "outputs": [
    {
     "data": {
      "text/html": [
       "<div>\n",
       "<style scoped>\n",
       "    .dataframe tbody tr th:only-of-type {\n",
       "        vertical-align: middle;\n",
       "    }\n",
       "\n",
       "    .dataframe tbody tr th {\n",
       "        vertical-align: top;\n",
       "    }\n",
       "\n",
       "    .dataframe thead tr th {\n",
       "        text-align: left;\n",
       "    }\n",
       "\n",
       "    .dataframe thead tr:last-of-type th {\n",
       "        text-align: right;\n",
       "    }\n",
       "</style>\n",
       "<table border=\"1\" class=\"dataframe\">\n",
       "  <thead>\n",
       "    <tr>\n",
       "      <th></th>\n",
       "      <th>mean</th>\n",
       "      <th>var</th>\n",
       "      <th>std</th>\n",
       "    </tr>\n",
       "    <tr>\n",
       "      <th></th>\n",
       "      <th>calls_sum</th>\n",
       "      <th>calls_sum</th>\n",
       "      <th>calls_sum</th>\n",
       "    </tr>\n",
       "    <tr>\n",
       "      <th>tariff_name</th>\n",
       "      <th></th>\n",
       "      <th></th>\n",
       "      <th></th>\n",
       "    </tr>\n",
       "  </thead>\n",
       "  <tbody>\n",
       "    <tr>\n",
       "      <th>ultra</th>\n",
       "      <td>556.857713</td>\n",
       "      <td>97258.412484</td>\n",
       "      <td>311.86281</td>\n",
       "    </tr>\n",
       "  </tbody>\n",
       "</table>\n",
       "</div>"
      ],
      "text/plain": [
       "                   mean           var        std\n",
       "              calls_sum     calls_sum  calls_sum\n",
       "tariff_name                                     \n",
       "ultra        556.857713  97258.412484  311.86281"
      ]
     },
     "execution_count": 42,
     "metadata": {},
     "output_type": "execute_result"
    }
   ],
   "source": [
    "ultra.pivot_table(index= 'tariff_name', values= 'calls_sum', aggfunc= ['mean', 'var','std'])"
   ]
  },
  {
   "cell_type": "code",
   "execution_count": 43,
   "metadata": {
    "scrolled": false
   },
   "outputs": [
    {
     "data": {
      "text/html": [
       "<div>\n",
       "<style scoped>\n",
       "    .dataframe tbody tr th:only-of-type {\n",
       "        vertical-align: middle;\n",
       "    }\n",
       "\n",
       "    .dataframe tbody tr th {\n",
       "        vertical-align: top;\n",
       "    }\n",
       "\n",
       "    .dataframe thead tr th {\n",
       "        text-align: left;\n",
       "    }\n",
       "\n",
       "    .dataframe thead tr:last-of-type th {\n",
       "        text-align: right;\n",
       "    }\n",
       "</style>\n",
       "<table border=\"1\" class=\"dataframe\">\n",
       "  <thead>\n",
       "    <tr>\n",
       "      <th></th>\n",
       "      <th>mean</th>\n",
       "      <th>var</th>\n",
       "      <th>std</th>\n",
       "    </tr>\n",
       "    <tr>\n",
       "      <th></th>\n",
       "      <th>number_of_msg</th>\n",
       "      <th>number_of_msg</th>\n",
       "      <th>number_of_msg</th>\n",
       "    </tr>\n",
       "    <tr>\n",
       "      <th>tariff_name</th>\n",
       "      <th></th>\n",
       "      <th></th>\n",
       "      <th></th>\n",
       "    </tr>\n",
       "  </thead>\n",
       "  <tbody>\n",
       "    <tr>\n",
       "      <th>smart</th>\n",
       "      <td>38.767102</td>\n",
       "      <td>718.803619</td>\n",
       "      <td>26.810513</td>\n",
       "    </tr>\n",
       "  </tbody>\n",
       "</table>\n",
       "</div>"
      ],
      "text/plain": [
       "                     mean           var           std\n",
       "            number_of_msg number_of_msg number_of_msg\n",
       "tariff_name                                          \n",
       "smart           38.767102    718.803619     26.810513"
      ]
     },
     "execution_count": 43,
     "metadata": {},
     "output_type": "execute_result"
    }
   ],
   "source": [
    "smart.pivot_table(index= 'tariff_name', values= 'number_of_msg', aggfunc= ['mean', 'var','std'])"
   ]
  },
  {
   "cell_type": "code",
   "execution_count": 44,
   "metadata": {},
   "outputs": [
    {
     "data": {
      "text/html": [
       "<div>\n",
       "<style scoped>\n",
       "    .dataframe tbody tr th:only-of-type {\n",
       "        vertical-align: middle;\n",
       "    }\n",
       "\n",
       "    .dataframe tbody tr th {\n",
       "        vertical-align: top;\n",
       "    }\n",
       "\n",
       "    .dataframe thead tr th {\n",
       "        text-align: left;\n",
       "    }\n",
       "\n",
       "    .dataframe thead tr:last-of-type th {\n",
       "        text-align: right;\n",
       "    }\n",
       "</style>\n",
       "<table border=\"1\" class=\"dataframe\">\n",
       "  <thead>\n",
       "    <tr>\n",
       "      <th></th>\n",
       "      <th>mean</th>\n",
       "      <th>var</th>\n",
       "      <th>std</th>\n",
       "    </tr>\n",
       "    <tr>\n",
       "      <th></th>\n",
       "      <th>number_of_msg</th>\n",
       "      <th>number_of_msg</th>\n",
       "      <th>number_of_msg</th>\n",
       "    </tr>\n",
       "    <tr>\n",
       "      <th>tariff_name</th>\n",
       "      <th></th>\n",
       "      <th></th>\n",
       "      <th></th>\n",
       "    </tr>\n",
       "  </thead>\n",
       "  <tbody>\n",
       "    <tr>\n",
       "      <th>ultra</th>\n",
       "      <td>61.640957</td>\n",
       "      <td>2008.550011</td>\n",
       "      <td>44.81685</td>\n",
       "    </tr>\n",
       "  </tbody>\n",
       "</table>\n",
       "</div>"
      ],
      "text/plain": [
       "                     mean           var           std\n",
       "            number_of_msg number_of_msg number_of_msg\n",
       "tariff_name                                          \n",
       "ultra           61.640957   2008.550011      44.81685"
      ]
     },
     "execution_count": 44,
     "metadata": {},
     "output_type": "execute_result"
    }
   ],
   "source": [
    "ultra.pivot_table(index= 'tariff_name', values= 'number_of_msg', aggfunc= ['mean', 'var','std'])"
   ]
  },
  {
   "cell_type": "code",
   "execution_count": 45,
   "metadata": {
    "scrolled": true
   },
   "outputs": [
    {
     "data": {
      "text/html": [
       "<div>\n",
       "<style scoped>\n",
       "    .dataframe tbody tr th:only-of-type {\n",
       "        vertical-align: middle;\n",
       "    }\n",
       "\n",
       "    .dataframe tbody tr th {\n",
       "        vertical-align: top;\n",
       "    }\n",
       "\n",
       "    .dataframe thead tr th {\n",
       "        text-align: left;\n",
       "    }\n",
       "\n",
       "    .dataframe thead tr:last-of-type th {\n",
       "        text-align: right;\n",
       "    }\n",
       "</style>\n",
       "<table border=\"1\" class=\"dataframe\">\n",
       "  <thead>\n",
       "    <tr>\n",
       "      <th></th>\n",
       "      <th>mean</th>\n",
       "      <th>var</th>\n",
       "      <th>std</th>\n",
       "    </tr>\n",
       "    <tr>\n",
       "      <th></th>\n",
       "      <th>gb_used</th>\n",
       "      <th>gb_used</th>\n",
       "      <th>gb_used</th>\n",
       "    </tr>\n",
       "    <tr>\n",
       "      <th>tariff_name</th>\n",
       "      <th></th>\n",
       "      <th></th>\n",
       "      <th></th>\n",
       "    </tr>\n",
       "  </thead>\n",
       "  <tbody>\n",
       "    <tr>\n",
       "      <th>smart</th>\n",
       "      <td>16.362924</td>\n",
       "      <td>32.16341</td>\n",
       "      <td>5.671279</td>\n",
       "    </tr>\n",
       "  </tbody>\n",
       "</table>\n",
       "</div>"
      ],
      "text/plain": [
       "                  mean       var       std\n",
       "               gb_used   gb_used   gb_used\n",
       "tariff_name                               \n",
       "smart        16.362924  32.16341  5.671279"
      ]
     },
     "execution_count": 45,
     "metadata": {},
     "output_type": "execute_result"
    }
   ],
   "source": [
    "smart.pivot_table(index= 'tariff_name', values= 'gb_used', aggfunc= ['mean', 'var','std'])"
   ]
  },
  {
   "cell_type": "code",
   "execution_count": 46,
   "metadata": {
    "scrolled": true
   },
   "outputs": [
    {
     "data": {
      "text/html": [
       "<div>\n",
       "<style scoped>\n",
       "    .dataframe tbody tr th:only-of-type {\n",
       "        vertical-align: middle;\n",
       "    }\n",
       "\n",
       "    .dataframe tbody tr th {\n",
       "        vertical-align: top;\n",
       "    }\n",
       "\n",
       "    .dataframe thead tr th {\n",
       "        text-align: left;\n",
       "    }\n",
       "\n",
       "    .dataframe thead tr:last-of-type th {\n",
       "        text-align: right;\n",
       "    }\n",
       "</style>\n",
       "<table border=\"1\" class=\"dataframe\">\n",
       "  <thead>\n",
       "    <tr>\n",
       "      <th></th>\n",
       "      <th>mean</th>\n",
       "      <th>var</th>\n",
       "      <th>std</th>\n",
       "    </tr>\n",
       "    <tr>\n",
       "      <th></th>\n",
       "      <th>gb_used</th>\n",
       "      <th>gb_used</th>\n",
       "      <th>gb_used</th>\n",
       "    </tr>\n",
       "    <tr>\n",
       "      <th>tariff_name</th>\n",
       "      <th></th>\n",
       "      <th></th>\n",
       "      <th></th>\n",
       "    </tr>\n",
       "  </thead>\n",
       "  <tbody>\n",
       "    <tr>\n",
       "      <th>ultra</th>\n",
       "      <td>19.618351</td>\n",
       "      <td>88.132446</td>\n",
       "      <td>9.387888</td>\n",
       "    </tr>\n",
       "  </tbody>\n",
       "</table>\n",
       "</div>"
      ],
      "text/plain": [
       "                  mean        var       std\n",
       "               gb_used    gb_used   gb_used\n",
       "tariff_name                                \n",
       "ultra        19.618351  88.132446  9.387888"
      ]
     },
     "execution_count": 46,
     "metadata": {},
     "output_type": "execute_result"
    }
   ],
   "source": [
    "ultra.pivot_table(index= 'tariff_name', values= 'gb_used', aggfunc= ['mean', 'var','std'])"
   ]
  },
  {
   "cell_type": "markdown",
   "metadata": {},
   "source": [
    "Все показатели выше у тарифа ultra."
   ]
  },
  {
   "cell_type": "markdown",
   "metadata": {},
   "source": [
    "### Вывод"
   ]
  },
  {
   "cell_type": "markdown",
   "metadata": {},
   "source": [
    "Были построены гистограммы и с их помощью выяснилось, что пользователи тарифа smart потребляют больше трафика, но средние значения больше у пользователей ultra. Что является логичным, т.к. тариф ultra включает в себя большее кол-во минут, сообщений и гигабайт, а пользователей тарифа smart просто больше количественно."
   ]
  },
  {
   "cell_type": "markdown",
   "metadata": {},
   "source": [
    "## Проверьте гипотезы"
   ]
  },
  {
   "cell_type": "markdown",
   "metadata": {},
   "source": [
    "### Средняя выручка пользователей тарифов «Ультра» и «Смарт» различаются;"
   ]
  },
  {
   "cell_type": "markdown",
   "metadata": {},
   "source": [
    "Нулевая гипотеза: Средняя выручка среди пользователей двух тарифов не различается.\\\n",
    "Альтернативная гипотеза: Средняя выручка среди пользователей ultra выше, чем среди пользователей smart."
   ]
  },
  {
   "cell_type": "code",
   "execution_count": 47,
   "metadata": {
    "scrolled": true
   },
   "outputs": [
    {
     "data": {
      "text/plain": [
       "1229.9704834605598"
      ]
     },
     "metadata": {},
     "output_type": "display_data"
    },
    {
     "data": {
      "text/plain": [
       "2045.0191570881227"
      ]
     },
     "metadata": {},
     "output_type": "display_data"
    }
   ],
   "source": [
    "smart = data.query('tariff_name==\"smart\"')\n",
    "ultra = data.query('tariff_name==\"ultra\"')\n",
    "display(smart['monthly_income'].mean())\n",
    "display(ultra['monthly_income'].mean())"
   ]
  },
  {
   "cell_type": "code",
   "execution_count": 48,
   "metadata": {
    "scrolled": true
   },
   "outputs": [
    {
     "name": "stdout",
     "output_type": "stream",
     "text": [
      "p-значение: 2.0874735803476676e-144\n",
      "Принимаем альтернативную гипотезу\n"
     ]
    }
   ],
   "source": [
    "alpha=0.05\n",
    "results = st.ttest_ind(\n",
    "    ultra['monthly_income'], smart['monthly_income'])\n",
    "\n",
    "print ('p-значение:', results.pvalue)\n",
    "\n",
    "if results.pvalue < alpha:\n",
    "    print ('Принимаем альтернативную гипотезу')\n",
    "else:\n",
    "    print ('Опровергнуть нулевую гипотезу нельзя')"
   ]
  },
  {
   "cell_type": "markdown",
   "metadata": {},
   "source": [
    "### Средняя выручка пользователей из Москвы отличается от выручки пользователей из других регионов."
   ]
  },
  {
   "cell_type": "markdown",
   "metadata": {},
   "source": [
    "Нулевая гипотеза: Средняя выручка пользователей из Москвы не отличается от средней выручки пользователей из регионов.\\\n",
    "Альтернативная гипотеза: Средняя выручка пользователей из Москвы выше, чем средняя выручка пользователей из регионов."
   ]
  },
  {
   "cell_type": "code",
   "execution_count": 49,
   "metadata": {
    "scrolled": true
   },
   "outputs": [],
   "source": [
    "data_moscow = data.query('city==\"Москва\"')\n",
    "data_regions = data.query('city!=\"Москва\"')"
   ]
  },
  {
   "cell_type": "code",
   "execution_count": 50,
   "metadata": {},
   "outputs": [
    {
     "name": "stdout",
     "output_type": "stream",
     "text": [
      "p-значение: 0.11191393418561396\n",
      "Опровергнуть нулевую гипотезу нельзя\n"
     ]
    }
   ],
   "source": [
    "alpha=0.05\n",
    "results2 = st.ttest_ind(\n",
    "    data_moscow['monthly_income'], data_regions['monthly_income'])\n",
    "\n",
    "print ('p-значение:', results2.pvalue)\n",
    "\n",
    "if results2.pvalue < alpha:\n",
    "    print ('Принимаем альтернативную гипотезу')\n",
    "else:\n",
    "    print ('Опровергнуть нулевую гипотезу нельзя')"
   ]
  },
  {
   "cell_type": "markdown",
   "metadata": {},
   "source": [
    "### Вывод"
   ]
  },
  {
   "cell_type": "markdown",
   "metadata": {},
   "source": [
    "Таким образом, можно сделать вывод, что пользователи тарифа ultra приносят бОльшую выручку, а регион проживания пользователей не играет особой роли в этом."
   ]
  },
  {
   "cell_type": "markdown",
   "metadata": {},
   "source": [
    "## Общий вывод"
   ]
  },
  {
   "cell_type": "markdown",
   "metadata": {},
   "source": [
    "В процентном соотношении пользователей smart больше, чем ultra (приблизительно 70% к 30%). Пользователи smart потребляют больше трафика, но средние значения выше у тарифа ultra. В среднем больше выручки приност тариф ultra(2045 р.), в то время как smart — около 1230 р. Но так как кол-во пользователей smart гораздо больше, нельзя отрицать тот факт, что этот тариф популярен и не стоит от него отказываться. Гипотеза о том, что выручка от пользователей из Москвы выше, чем из регионов, не подтвердилась."
   ]
  }
 ],
 "metadata": {
  "ExecuteTimeLog": [
   {
    "duration": 671,
    "start_time": "2022-04-18T19:53:51.822Z"
   },
   {
    "duration": 403,
    "start_time": "2022-04-18T19:54:14.810Z"
   },
   {
    "duration": 458,
    "start_time": "2022-04-20T10:12:18.932Z"
   },
   {
    "duration": 227,
    "start_time": "2022-04-20T10:13:22.050Z"
   },
   {
    "duration": 174,
    "start_time": "2022-04-20T10:17:37.882Z"
   },
   {
    "duration": 124,
    "start_time": "2022-04-20T10:19:50.175Z"
   },
   {
    "duration": 25,
    "start_time": "2022-04-20T10:22:02.638Z"
   },
   {
    "duration": 26,
    "start_time": "2022-04-20T10:22:10.460Z"
   },
   {
    "duration": 49,
    "start_time": "2022-04-20T10:23:15.455Z"
   },
   {
    "duration": 236,
    "start_time": "2022-04-20T11:54:37.973Z"
   },
   {
    "duration": 50,
    "start_time": "2022-04-21T09:35:12.346Z"
   },
   {
    "duration": 411,
    "start_time": "2022-04-21T09:35:23.612Z"
   },
   {
    "duration": 159,
    "start_time": "2022-04-21T09:35:24.025Z"
   },
   {
    "duration": 132,
    "start_time": "2022-04-21T09:35:24.186Z"
   },
   {
    "duration": 81,
    "start_time": "2022-04-21T09:35:24.319Z"
   },
   {
    "duration": 14,
    "start_time": "2022-04-21T09:35:24.402Z"
   },
   {
    "duration": 22,
    "start_time": "2022-04-21T09:35:24.417Z"
   },
   {
    "duration": 182,
    "start_time": "2022-04-21T09:35:44.016Z"
   },
   {
    "duration": 145,
    "start_time": "2022-04-21T09:36:03.974Z"
   },
   {
    "duration": 98,
    "start_time": "2022-04-21T09:36:22.284Z"
   },
   {
    "duration": 26,
    "start_time": "2022-04-21T09:36:40.715Z"
   },
   {
    "duration": 30,
    "start_time": "2022-04-21T09:36:56.915Z"
   },
   {
    "duration": 164,
    "start_time": "2022-04-21T09:37:43.070Z"
   },
   {
    "duration": 175,
    "start_time": "2022-04-21T09:38:26.400Z"
   },
   {
    "duration": 151,
    "start_time": "2022-04-21T09:40:10.218Z"
   },
   {
    "duration": 143,
    "start_time": "2022-04-21T09:40:17.064Z"
   },
   {
    "duration": 37,
    "start_time": "2022-04-21T09:41:21.800Z"
   },
   {
    "duration": 158,
    "start_time": "2022-04-21T09:42:11.044Z"
   },
   {
    "duration": 29,
    "start_time": "2022-04-21T09:45:04.245Z"
   },
   {
    "duration": 425,
    "start_time": "2022-04-21T09:45:44.239Z"
   },
   {
    "duration": 42,
    "start_time": "2022-04-21T09:45:44.666Z"
   },
   {
    "duration": 169,
    "start_time": "2022-04-21T09:45:44.709Z"
   },
   {
    "duration": 147,
    "start_time": "2022-04-21T09:45:44.879Z"
   },
   {
    "duration": 112,
    "start_time": "2022-04-21T09:45:45.029Z"
   },
   {
    "duration": 22,
    "start_time": "2022-04-21T09:45:45.143Z"
   },
   {
    "duration": 5,
    "start_time": "2022-04-21T10:01:15.878Z"
   },
   {
    "duration": 73,
    "start_time": "2022-04-21T10:03:31.786Z"
   },
   {
    "duration": 75,
    "start_time": "2022-04-21T10:05:28.869Z"
   },
   {
    "duration": 45,
    "start_time": "2022-04-21T10:06:05.818Z"
   },
   {
    "duration": 414,
    "start_time": "2022-04-21T10:06:33.338Z"
   },
   {
    "duration": 40,
    "start_time": "2022-04-21T10:06:33.755Z"
   },
   {
    "duration": 167,
    "start_time": "2022-04-21T10:06:33.796Z"
   },
   {
    "duration": 141,
    "start_time": "2022-04-21T10:06:33.964Z"
   },
   {
    "duration": 103,
    "start_time": "2022-04-21T10:06:34.108Z"
   },
   {
    "duration": 20,
    "start_time": "2022-04-21T10:06:34.213Z"
   },
   {
    "duration": 91,
    "start_time": "2022-04-21T10:06:34.235Z"
   },
   {
    "duration": 2704,
    "start_time": "2022-04-21T10:07:42.737Z"
   },
   {
    "duration": 22,
    "start_time": "2022-04-21T10:08:04.658Z"
   },
   {
    "duration": 9,
    "start_time": "2022-04-21T10:09:19.710Z"
   },
   {
    "duration": 14,
    "start_time": "2022-04-21T10:09:30.662Z"
   },
   {
    "duration": 11,
    "start_time": "2022-04-21T10:09:43.531Z"
   },
   {
    "duration": 11,
    "start_time": "2022-04-21T10:10:10.231Z"
   },
   {
    "duration": 408,
    "start_time": "2022-04-21T10:10:18.547Z"
   },
   {
    "duration": 36,
    "start_time": "2022-04-21T10:10:18.957Z"
   },
   {
    "duration": 175,
    "start_time": "2022-04-21T10:10:18.994Z"
   },
   {
    "duration": 146,
    "start_time": "2022-04-21T10:10:19.171Z"
   },
   {
    "duration": 107,
    "start_time": "2022-04-21T10:10:19.320Z"
   },
   {
    "duration": 26,
    "start_time": "2022-04-21T10:10:19.428Z"
   },
   {
    "duration": 76,
    "start_time": "2022-04-21T10:10:19.456Z"
   },
   {
    "duration": 9,
    "start_time": "2022-04-21T10:10:19.534Z"
   },
   {
    "duration": 11,
    "start_time": "2022-04-21T10:10:44.021Z"
   },
   {
    "duration": 2,
    "start_time": "2022-04-21T10:14:35.391Z"
   },
   {
    "duration": 63,
    "start_time": "2022-04-21T10:14:56.626Z"
   },
   {
    "duration": 3,
    "start_time": "2022-04-21T10:16:13.231Z"
   },
   {
    "duration": 7,
    "start_time": "2022-04-21T10:16:43.200Z"
   },
   {
    "duration": 7,
    "start_time": "2022-04-21T10:18:20.347Z"
   },
   {
    "duration": 9,
    "start_time": "2022-04-21T10:19:40.777Z"
   },
   {
    "duration": 16,
    "start_time": "2022-04-21T10:19:46.971Z"
   },
   {
    "duration": 16,
    "start_time": "2022-04-21T10:20:10.611Z"
   },
   {
    "duration": 433,
    "start_time": "2022-04-21T10:20:24.222Z"
   },
   {
    "duration": 35,
    "start_time": "2022-04-21T10:20:24.659Z"
   },
   {
    "duration": 171,
    "start_time": "2022-04-21T10:20:24.696Z"
   },
   {
    "duration": 144,
    "start_time": "2022-04-21T10:20:24.868Z"
   },
   {
    "duration": 108,
    "start_time": "2022-04-21T10:20:25.014Z"
   },
   {
    "duration": 20,
    "start_time": "2022-04-21T10:20:25.124Z"
   },
   {
    "duration": 76,
    "start_time": "2022-04-21T10:20:25.145Z"
   },
   {
    "duration": 9,
    "start_time": "2022-04-21T10:20:25.223Z"
   },
   {
    "duration": 26,
    "start_time": "2022-04-21T10:20:25.234Z"
   },
   {
    "duration": 6,
    "start_time": "2022-04-21T10:20:25.262Z"
   },
   {
    "duration": 20,
    "start_time": "2022-04-21T10:20:25.269Z"
   },
   {
    "duration": 5,
    "start_time": "2022-04-21T10:20:50.742Z"
   },
   {
    "duration": 3,
    "start_time": "2022-04-21T10:20:58.222Z"
   },
   {
    "duration": 65,
    "start_time": "2022-04-21T10:21:04.412Z"
   },
   {
    "duration": 396,
    "start_time": "2022-04-21T10:21:15.855Z"
   },
   {
    "duration": 37,
    "start_time": "2022-04-21T10:21:16.253Z"
   },
   {
    "duration": 170,
    "start_time": "2022-04-21T10:21:16.291Z"
   },
   {
    "duration": 140,
    "start_time": "2022-04-21T10:21:16.463Z"
   },
   {
    "duration": 101,
    "start_time": "2022-04-21T10:21:16.604Z"
   },
   {
    "duration": 19,
    "start_time": "2022-04-21T10:21:16.707Z"
   },
   {
    "duration": 78,
    "start_time": "2022-04-21T10:21:16.728Z"
   },
   {
    "duration": 9,
    "start_time": "2022-04-21T10:21:16.808Z"
   },
   {
    "duration": 32,
    "start_time": "2022-04-21T10:21:16.819Z"
   },
   {
    "duration": 19,
    "start_time": "2022-04-21T10:21:16.853Z"
   },
   {
    "duration": 84,
    "start_time": "2022-04-21T10:21:16.874Z"
   },
   {
    "duration": 10,
    "start_time": "2022-04-21T10:21:31.495Z"
   },
   {
    "duration": 6,
    "start_time": "2022-04-21T10:21:34.460Z"
   },
   {
    "duration": 9,
    "start_time": "2022-04-21T10:22:01.385Z"
   },
   {
    "duration": 385,
    "start_time": "2022-04-21T10:22:13.978Z"
   },
   {
    "duration": 39,
    "start_time": "2022-04-21T10:22:14.365Z"
   },
   {
    "duration": 279,
    "start_time": "2022-04-21T10:22:14.406Z"
   },
   {
    "duration": 287,
    "start_time": "2022-04-21T10:22:14.687Z"
   },
   {
    "duration": 211,
    "start_time": "2022-04-21T10:22:14.976Z"
   },
   {
    "duration": 71,
    "start_time": "2022-04-21T10:22:15.188Z"
   },
   {
    "duration": 128,
    "start_time": "2022-04-21T10:22:15.261Z"
   },
   {
    "duration": 65,
    "start_time": "2022-04-21T10:22:15.390Z"
   },
   {
    "duration": 10,
    "start_time": "2022-04-21T10:22:15.456Z"
   },
   {
    "duration": 5,
    "start_time": "2022-04-21T10:22:15.467Z"
   },
   {
    "duration": 22,
    "start_time": "2022-04-21T10:22:15.473Z"
   },
   {
    "duration": 5,
    "start_time": "2022-04-21T10:24:19.679Z"
   },
   {
    "duration": 4,
    "start_time": "2022-04-21T10:24:57.600Z"
   },
   {
    "duration": 14,
    "start_time": "2022-04-21T10:25:04.772Z"
   },
   {
    "duration": 155,
    "start_time": "2022-04-21T10:26:55.282Z"
   },
   {
    "duration": 223,
    "start_time": "2022-04-21T10:27:08.932Z"
   },
   {
    "duration": 15,
    "start_time": "2022-04-21T10:27:22.562Z"
   },
   {
    "duration": 551,
    "start_time": "2022-04-21T10:27:36.022Z"
   },
   {
    "duration": 54,
    "start_time": "2022-04-21T10:27:36.576Z"
   },
   {
    "duration": 179,
    "start_time": "2022-04-21T10:27:36.632Z"
   },
   {
    "duration": 152,
    "start_time": "2022-04-21T10:27:36.813Z"
   },
   {
    "duration": 102,
    "start_time": "2022-04-21T10:27:36.967Z"
   },
   {
    "duration": 20,
    "start_time": "2022-04-21T10:27:37.070Z"
   },
   {
    "duration": 102,
    "start_time": "2022-04-21T10:27:37.092Z"
   },
   {
    "duration": 10,
    "start_time": "2022-04-21T10:27:37.196Z"
   },
   {
    "duration": 12,
    "start_time": "2022-04-21T10:27:37.207Z"
   },
   {
    "duration": 22,
    "start_time": "2022-04-21T10:27:37.222Z"
   },
   {
    "duration": 11,
    "start_time": "2022-04-21T10:27:37.245Z"
   },
   {
    "duration": 410,
    "start_time": "2022-04-21T12:11:21.749Z"
   },
   {
    "duration": 40,
    "start_time": "2022-04-21T12:11:22.161Z"
   },
   {
    "duration": 178,
    "start_time": "2022-04-21T12:11:22.203Z"
   },
   {
    "duration": 158,
    "start_time": "2022-04-21T12:11:22.384Z"
   },
   {
    "duration": 112,
    "start_time": "2022-04-21T12:11:22.543Z"
   },
   {
    "duration": 19,
    "start_time": "2022-04-21T12:11:22.657Z"
   },
   {
    "duration": 91,
    "start_time": "2022-04-21T12:11:22.678Z"
   },
   {
    "duration": 9,
    "start_time": "2022-04-21T12:11:22.771Z"
   },
   {
    "duration": 23,
    "start_time": "2022-04-21T12:11:22.781Z"
   },
   {
    "duration": 32,
    "start_time": "2022-04-21T12:11:22.806Z"
   },
   {
    "duration": 15,
    "start_time": "2022-04-21T12:11:22.840Z"
   },
   {
    "duration": 10,
    "start_time": "2022-04-21T12:12:17.711Z"
   },
   {
    "duration": 8,
    "start_time": "2022-04-21T12:12:56.661Z"
   },
   {
    "duration": 30,
    "start_time": "2022-04-21T12:13:47.407Z"
   },
   {
    "duration": 15,
    "start_time": "2022-04-21T12:28:28.369Z"
   },
   {
    "duration": 20,
    "start_time": "2022-04-21T12:29:34.644Z"
   },
   {
    "duration": 55,
    "start_time": "2022-04-21T12:29:34.666Z"
   },
   {
    "duration": 242,
    "start_time": "2022-04-21T12:29:34.722Z"
   },
   {
    "duration": 219,
    "start_time": "2022-04-21T12:29:34.966Z"
   },
   {
    "duration": 144,
    "start_time": "2022-04-21T12:29:35.187Z"
   },
   {
    "duration": 21,
    "start_time": "2022-04-21T12:29:35.334Z"
   },
   {
    "duration": 67,
    "start_time": "2022-04-21T12:29:35.357Z"
   },
   {
    "duration": 8,
    "start_time": "2022-04-21T12:29:35.426Z"
   },
   {
    "duration": 25,
    "start_time": "2022-04-21T12:29:35.436Z"
   },
   {
    "duration": 27,
    "start_time": "2022-04-21T12:29:35.462Z"
   },
   {
    "duration": 9,
    "start_time": "2022-04-21T12:29:35.491Z"
   },
   {
    "duration": 19,
    "start_time": "2022-04-21T12:30:27.082Z"
   },
   {
    "duration": 513,
    "start_time": "2022-04-21T12:30:35.613Z"
   },
   {
    "duration": 48,
    "start_time": "2022-04-21T12:30:36.128Z"
   },
   {
    "duration": 261,
    "start_time": "2022-04-21T12:30:36.182Z"
   },
   {
    "duration": 242,
    "start_time": "2022-04-21T12:30:36.445Z"
   },
   {
    "duration": 82,
    "start_time": "2022-04-21T12:30:36.689Z"
   },
   {
    "duration": 206,
    "start_time": "2022-04-21T12:30:36.772Z"
   },
   {
    "duration": 81,
    "start_time": "2022-04-21T12:30:36.979Z"
   },
   {
    "duration": 230,
    "start_time": "2022-04-21T12:30:37.062Z"
   },
   {
    "duration": 65,
    "start_time": "2022-04-21T12:30:37.295Z"
   },
   {
    "duration": 7,
    "start_time": "2022-04-21T12:30:37.362Z"
   },
   {
    "duration": 29,
    "start_time": "2022-04-21T12:30:37.371Z"
   },
   {
    "duration": 59,
    "start_time": "2022-04-21T12:30:37.402Z"
   },
   {
    "duration": 9,
    "start_time": "2022-04-21T12:33:29.604Z"
   },
   {
    "duration": 388,
    "start_time": "2022-04-21T12:33:38.775Z"
   },
   {
    "duration": 36,
    "start_time": "2022-04-21T12:33:39.165Z"
   },
   {
    "duration": 174,
    "start_time": "2022-04-21T12:33:39.203Z"
   },
   {
    "duration": 149,
    "start_time": "2022-04-21T12:33:39.379Z"
   },
   {
    "duration": 105,
    "start_time": "2022-04-21T12:33:39.530Z"
   },
   {
    "duration": 29,
    "start_time": "2022-04-21T12:33:39.636Z"
   },
   {
    "duration": 71,
    "start_time": "2022-04-21T12:33:39.667Z"
   },
   {
    "duration": 21,
    "start_time": "2022-04-21T12:33:39.740Z"
   },
   {
    "duration": 8,
    "start_time": "2022-04-21T12:33:39.763Z"
   },
   {
    "duration": 11,
    "start_time": "2022-04-21T12:33:39.773Z"
   },
   {
    "duration": 85,
    "start_time": "2022-04-21T12:41:47.493Z"
   },
   {
    "duration": 27,
    "start_time": "2022-04-21T12:45:56.630Z"
   },
   {
    "duration": 274,
    "start_time": "2022-04-21T12:46:08.924Z"
   },
   {
    "duration": 201,
    "start_time": "2022-04-21T12:46:51.531Z"
   },
   {
    "duration": 151,
    "start_time": "2022-04-21T12:47:01.299Z"
   },
   {
    "duration": 30,
    "start_time": "2022-04-21T12:49:55.668Z"
   },
   {
    "duration": 29,
    "start_time": "2022-04-21T12:50:44.084Z"
   },
   {
    "duration": 24,
    "start_time": "2022-04-21T12:51:05.442Z"
   },
   {
    "duration": 25,
    "start_time": "2022-04-21T12:51:54.210Z"
   },
   {
    "duration": 29,
    "start_time": "2022-04-21T12:52:16.585Z"
   },
   {
    "duration": 193,
    "start_time": "2022-04-21T12:52:59.623Z"
   },
   {
    "duration": 287,
    "start_time": "2022-04-21T12:53:08.475Z"
   },
   {
    "duration": 149,
    "start_time": "2022-04-21T12:53:27.277Z"
   },
   {
    "duration": 226,
    "start_time": "2022-04-21T12:53:36.247Z"
   },
   {
    "duration": 126,
    "start_time": "2022-04-21T12:53:44.699Z"
   },
   {
    "duration": 2171,
    "start_time": "2022-04-21T14:18:22.993Z"
   },
   {
    "duration": 2289,
    "start_time": "2022-04-21T14:30:55.930Z"
   },
   {
    "duration": 11,
    "start_time": "2022-04-21T14:31:26.071Z"
   },
   {
    "duration": 378,
    "start_time": "2022-04-21T14:31:35.106Z"
   },
   {
    "duration": 40,
    "start_time": "2022-04-21T14:31:35.486Z"
   },
   {
    "duration": 201,
    "start_time": "2022-04-21T14:31:35.528Z"
   },
   {
    "duration": 165,
    "start_time": "2022-04-21T14:31:35.730Z"
   },
   {
    "duration": 118,
    "start_time": "2022-04-21T14:31:35.898Z"
   },
   {
    "duration": 23,
    "start_time": "2022-04-21T14:31:36.018Z"
   },
   {
    "duration": 88,
    "start_time": "2022-04-21T14:31:36.054Z"
   },
   {
    "duration": 23,
    "start_time": "2022-04-21T14:31:36.144Z"
   },
   {
    "duration": 10,
    "start_time": "2022-04-21T14:31:36.169Z"
   },
   {
    "duration": 22,
    "start_time": "2022-04-21T14:31:36.181Z"
   },
   {
    "duration": 88,
    "start_time": "2022-04-21T14:31:36.205Z"
   },
   {
    "duration": 0,
    "start_time": "2022-04-21T14:31:36.295Z"
   },
   {
    "duration": 426,
    "start_time": "2022-04-21T14:32:39.440Z"
   },
   {
    "duration": 35,
    "start_time": "2022-04-21T14:32:39.869Z"
   },
   {
    "duration": 402,
    "start_time": "2022-04-21T14:32:39.905Z"
   },
   {
    "duration": 154,
    "start_time": "2022-04-21T14:32:40.309Z"
   },
   {
    "duration": 118,
    "start_time": "2022-04-21T14:32:40.465Z"
   },
   {
    "duration": 21,
    "start_time": "2022-04-21T14:32:40.584Z"
   },
   {
    "duration": 85,
    "start_time": "2022-04-21T14:32:40.606Z"
   },
   {
    "duration": 10,
    "start_time": "2022-04-21T14:32:40.692Z"
   },
   {
    "duration": 11,
    "start_time": "2022-04-21T14:32:40.703Z"
   },
   {
    "duration": 15,
    "start_time": "2022-04-21T14:32:40.716Z"
   },
   {
    "duration": 80,
    "start_time": "2022-04-21T14:32:40.732Z"
   },
   {
    "duration": 0,
    "start_time": "2022-04-21T14:32:40.813Z"
   },
   {
    "duration": 49,
    "start_time": "2022-04-22T12:05:10.420Z"
   },
   {
    "duration": 524,
    "start_time": "2022-04-22T12:05:16.986Z"
   },
   {
    "duration": 52,
    "start_time": "2022-04-22T12:05:17.512Z"
   },
   {
    "duration": 254,
    "start_time": "2022-04-22T12:05:17.566Z"
   },
   {
    "duration": 232,
    "start_time": "2022-04-22T12:05:17.823Z"
   },
   {
    "duration": 160,
    "start_time": "2022-04-22T12:05:18.058Z"
   },
   {
    "duration": 31,
    "start_time": "2022-04-22T12:05:18.220Z"
   },
   {
    "duration": 135,
    "start_time": "2022-04-22T12:05:18.255Z"
   },
   {
    "duration": 12,
    "start_time": "2022-04-22T12:05:18.392Z"
   },
   {
    "duration": 17,
    "start_time": "2022-04-22T12:05:18.406Z"
   },
   {
    "duration": 21,
    "start_time": "2022-04-22T12:05:18.426Z"
   },
   {
    "duration": 142,
    "start_time": "2022-04-22T12:05:18.455Z"
   },
   {
    "duration": 0,
    "start_time": "2022-04-22T12:05:18.599Z"
   },
   {
    "duration": 13,
    "start_time": "2022-04-22T12:06:31.002Z"
   },
   {
    "duration": 10,
    "start_time": "2022-04-22T12:07:04.506Z"
   },
   {
    "duration": 11,
    "start_time": "2022-04-22T12:07:28.343Z"
   },
   {
    "duration": 375,
    "start_time": "2022-04-22T12:07:36.188Z"
   },
   {
    "duration": 36,
    "start_time": "2022-04-22T12:07:36.565Z"
   },
   {
    "duration": 164,
    "start_time": "2022-04-22T12:07:36.602Z"
   },
   {
    "duration": 140,
    "start_time": "2022-04-22T12:07:36.768Z"
   },
   {
    "duration": 102,
    "start_time": "2022-04-22T12:07:36.910Z"
   },
   {
    "duration": 20,
    "start_time": "2022-04-22T12:07:37.014Z"
   },
   {
    "duration": 84,
    "start_time": "2022-04-22T12:07:37.036Z"
   },
   {
    "duration": 9,
    "start_time": "2022-04-22T12:07:37.122Z"
   },
   {
    "duration": 8,
    "start_time": "2022-04-22T12:07:37.133Z"
   },
   {
    "duration": 10,
    "start_time": "2022-04-22T12:07:37.154Z"
   },
   {
    "duration": 16,
    "start_time": "2022-04-22T12:07:37.166Z"
   },
   {
    "duration": 20,
    "start_time": "2022-04-22T12:07:37.184Z"
   },
   {
    "duration": 85,
    "start_time": "2022-04-22T12:07:37.205Z"
   },
   {
    "duration": 12,
    "start_time": "2022-04-22T12:07:51.570Z"
   },
   {
    "duration": 458,
    "start_time": "2022-04-22T12:08:04.344Z"
   },
   {
    "duration": 39,
    "start_time": "2022-04-22T12:08:04.804Z"
   },
   {
    "duration": 247,
    "start_time": "2022-04-22T12:08:04.845Z"
   },
   {
    "duration": 172,
    "start_time": "2022-04-22T12:08:05.095Z"
   },
   {
    "duration": 123,
    "start_time": "2022-04-22T12:08:05.270Z"
   },
   {
    "duration": 22,
    "start_time": "2022-04-22T12:08:05.395Z"
   },
   {
    "duration": 95,
    "start_time": "2022-04-22T12:08:05.419Z"
   },
   {
    "duration": 10,
    "start_time": "2022-04-22T12:08:05.516Z"
   },
   {
    "duration": 50,
    "start_time": "2022-04-22T12:08:05.529Z"
   },
   {
    "duration": 79,
    "start_time": "2022-04-22T12:08:05.583Z"
   },
   {
    "duration": 20,
    "start_time": "2022-04-22T12:08:05.664Z"
   },
   {
    "duration": 31,
    "start_time": "2022-04-22T12:08:05.686Z"
   },
   {
    "duration": 77,
    "start_time": "2022-04-22T12:08:05.718Z"
   },
   {
    "duration": 51,
    "start_time": "2022-04-22T12:09:31.696Z"
   },
   {
    "duration": 505,
    "start_time": "2022-04-26T14:16:19.996Z"
   },
   {
    "duration": 75,
    "start_time": "2022-04-26T14:16:20.504Z"
   },
   {
    "duration": 249,
    "start_time": "2022-04-26T14:16:20.581Z"
   },
   {
    "duration": 313,
    "start_time": "2022-04-26T14:16:20.834Z"
   },
   {
    "duration": 149,
    "start_time": "2022-04-26T14:16:21.149Z"
   },
   {
    "duration": 35,
    "start_time": "2022-04-26T14:16:21.300Z"
   },
   {
    "duration": 130,
    "start_time": "2022-04-26T14:16:21.337Z"
   },
   {
    "duration": 12,
    "start_time": "2022-04-26T14:16:21.470Z"
   },
   {
    "duration": 6,
    "start_time": "2022-04-26T14:16:21.493Z"
   },
   {
    "duration": 20,
    "start_time": "2022-04-26T14:16:21.503Z"
   },
   {
    "duration": 98,
    "start_time": "2022-04-26T14:16:21.525Z"
   },
   {
    "duration": 169,
    "start_time": "2022-04-26T14:16:21.625Z"
   },
   {
    "duration": 478,
    "start_time": "2022-04-27T10:58:36.966Z"
   },
   {
    "duration": 77,
    "start_time": "2022-04-27T10:58:37.447Z"
   },
   {
    "duration": 292,
    "start_time": "2022-04-27T10:58:37.527Z"
   },
   {
    "duration": 235,
    "start_time": "2022-04-27T10:58:37.822Z"
   },
   {
    "duration": 116,
    "start_time": "2022-04-27T10:58:38.059Z"
   },
   {
    "duration": 28,
    "start_time": "2022-04-27T10:58:38.177Z"
   },
   {
    "duration": 86,
    "start_time": "2022-04-27T10:58:38.207Z"
   },
   {
    "duration": 9,
    "start_time": "2022-04-27T10:58:38.295Z"
   },
   {
    "duration": 20,
    "start_time": "2022-04-27T10:58:38.306Z"
   },
   {
    "duration": 17,
    "start_time": "2022-04-27T10:58:38.329Z"
   },
   {
    "duration": 50,
    "start_time": "2022-04-27T10:58:38.347Z"
   },
   {
    "duration": 89,
    "start_time": "2022-04-27T10:58:38.398Z"
   },
   {
    "duration": 4,
    "start_time": "2022-04-27T11:02:12.555Z"
   },
   {
    "duration": 61,
    "start_time": "2022-04-27T11:02:47.822Z"
   },
   {
    "duration": 61,
    "start_time": "2022-04-27T11:03:17.806Z"
   },
   {
    "duration": 4,
    "start_time": "2022-04-27T11:06:12.325Z"
   },
   {
    "duration": 4,
    "start_time": "2022-04-27T11:06:20.938Z"
   },
   {
    "duration": 7,
    "start_time": "2022-04-27T11:06:37.463Z"
   },
   {
    "duration": 564,
    "start_time": "2022-04-27T11:06:56.474Z"
   },
   {
    "duration": 97,
    "start_time": "2022-04-27T11:06:57.040Z"
   },
   {
    "duration": 398,
    "start_time": "2022-04-27T11:06:57.139Z"
   },
   {
    "duration": 318,
    "start_time": "2022-04-27T11:06:57.540Z"
   },
   {
    "duration": 274,
    "start_time": "2022-04-27T11:06:57.859Z"
   },
   {
    "duration": 27,
    "start_time": "2022-04-27T11:06:58.134Z"
   },
   {
    "duration": 186,
    "start_time": "2022-04-27T11:06:58.163Z"
   },
   {
    "duration": 9,
    "start_time": "2022-04-27T11:06:58.351Z"
   },
   {
    "duration": 68,
    "start_time": "2022-04-27T11:06:58.361Z"
   },
   {
    "duration": 15,
    "start_time": "2022-04-27T11:06:58.432Z"
   },
   {
    "duration": 101,
    "start_time": "2022-04-27T11:06:58.448Z"
   },
   {
    "duration": 113,
    "start_time": "2022-04-27T11:06:58.551Z"
   },
   {
    "duration": 0,
    "start_time": "2022-04-27T11:06:58.665Z"
   },
   {
    "duration": 5,
    "start_time": "2022-04-27T11:07:10.873Z"
   },
   {
    "duration": 221,
    "start_time": "2022-04-27T11:14:17.372Z"
   },
   {
    "duration": 218,
    "start_time": "2022-04-27T11:14:21.006Z"
   },
   {
    "duration": 30,
    "start_time": "2022-04-27T11:14:30.110Z"
   },
   {
    "duration": 30,
    "start_time": "2022-04-27T11:15:45.305Z"
   },
   {
    "duration": 29,
    "start_time": "2022-04-27T11:19:52.570Z"
   },
   {
    "duration": 35,
    "start_time": "2022-04-27T11:20:01.626Z"
   },
   {
    "duration": 4,
    "start_time": "2022-04-27T11:20:47.652Z"
   },
   {
    "duration": 6,
    "start_time": "2022-04-27T11:21:12.179Z"
   },
   {
    "duration": 23,
    "start_time": "2022-04-27T11:21:16.691Z"
   },
   {
    "duration": 423,
    "start_time": "2022-04-27T11:21:25.183Z"
   },
   {
    "duration": 65,
    "start_time": "2022-04-27T11:21:25.608Z"
   },
   {
    "duration": 173,
    "start_time": "2022-04-27T11:21:25.675Z"
   },
   {
    "duration": 143,
    "start_time": "2022-04-27T11:21:25.849Z"
   },
   {
    "duration": 110,
    "start_time": "2022-04-27T11:21:25.994Z"
   },
   {
    "duration": 28,
    "start_time": "2022-04-27T11:21:26.106Z"
   },
   {
    "duration": 74,
    "start_time": "2022-04-27T11:21:26.136Z"
   },
   {
    "duration": 18,
    "start_time": "2022-04-27T11:21:26.211Z"
   },
   {
    "duration": 21,
    "start_time": "2022-04-27T11:21:26.231Z"
   },
   {
    "duration": 27,
    "start_time": "2022-04-27T11:21:26.254Z"
   },
   {
    "duration": 49,
    "start_time": "2022-04-27T11:21:26.283Z"
   },
   {
    "duration": 33,
    "start_time": "2022-04-27T11:21:26.334Z"
   },
   {
    "duration": 30,
    "start_time": "2022-04-27T11:21:26.368Z"
   },
   {
    "duration": 46,
    "start_time": "2022-04-27T11:21:26.400Z"
   },
   {
    "duration": 76,
    "start_time": "2022-04-27T11:21:26.448Z"
   },
   {
    "duration": 145,
    "start_time": "2022-04-27T11:23:52.817Z"
   },
   {
    "duration": 150,
    "start_time": "2022-04-27T11:24:00.689Z"
   },
   {
    "duration": 148,
    "start_time": "2022-04-27T11:24:16.119Z"
   },
   {
    "duration": 526,
    "start_time": "2022-04-27T12:26:05.393Z"
   },
   {
    "duration": 61,
    "start_time": "2022-04-27T12:26:05.921Z"
   },
   {
    "duration": 274,
    "start_time": "2022-04-27T12:26:05.985Z"
   },
   {
    "duration": 222,
    "start_time": "2022-04-27T12:26:06.262Z"
   },
   {
    "duration": 158,
    "start_time": "2022-04-27T12:26:06.486Z"
   },
   {
    "duration": 35,
    "start_time": "2022-04-27T12:26:06.646Z"
   },
   {
    "duration": 107,
    "start_time": "2022-04-27T12:26:06.684Z"
   },
   {
    "duration": 9,
    "start_time": "2022-04-27T12:26:06.793Z"
   },
   {
    "duration": 9,
    "start_time": "2022-04-27T12:26:06.804Z"
   },
   {
    "duration": 16,
    "start_time": "2022-04-27T12:26:06.824Z"
   },
   {
    "duration": 78,
    "start_time": "2022-04-27T12:26:06.845Z"
   },
   {
    "duration": 35,
    "start_time": "2022-04-27T12:26:06.928Z"
   },
   {
    "duration": 31,
    "start_time": "2022-04-27T12:26:06.965Z"
   },
   {
    "duration": 93,
    "start_time": "2022-04-27T12:26:06.997Z"
   },
   {
    "duration": 0,
    "start_time": "2022-04-27T12:26:07.092Z"
   },
   {
    "duration": 36,
    "start_time": "2022-04-27T12:26:18.138Z"
   },
   {
    "duration": 413,
    "start_time": "2022-04-28T11:14:02.031Z"
   },
   {
    "duration": 43,
    "start_time": "2022-04-28T11:14:02.446Z"
   },
   {
    "duration": 192,
    "start_time": "2022-04-28T11:14:02.491Z"
   },
   {
    "duration": 160,
    "start_time": "2022-04-28T11:14:02.685Z"
   },
   {
    "duration": 116,
    "start_time": "2022-04-28T11:14:02.847Z"
   },
   {
    "duration": 22,
    "start_time": "2022-04-28T11:14:02.965Z"
   },
   {
    "duration": 95,
    "start_time": "2022-04-28T11:14:02.989Z"
   },
   {
    "duration": 21,
    "start_time": "2022-04-28T11:14:03.086Z"
   },
   {
    "duration": 7,
    "start_time": "2022-04-28T11:14:03.109Z"
   },
   {
    "duration": 12,
    "start_time": "2022-04-28T11:14:03.118Z"
   },
   {
    "duration": 75,
    "start_time": "2022-04-28T11:14:03.132Z"
   },
   {
    "duration": 33,
    "start_time": "2022-04-28T11:14:03.209Z"
   },
   {
    "duration": 29,
    "start_time": "2022-04-28T11:14:03.244Z"
   },
   {
    "duration": 61,
    "start_time": "2022-04-28T11:14:03.274Z"
   },
   {
    "duration": 78,
    "start_time": "2022-04-28T11:14:03.337Z"
   },
   {
    "duration": 23,
    "start_time": "2022-04-28T11:15:50.559Z"
   },
   {
    "duration": 583,
    "start_time": "2022-05-04T11:01:52.147Z"
   },
   {
    "duration": 70,
    "start_time": "2022-05-04T11:01:52.733Z"
   },
   {
    "duration": 358,
    "start_time": "2022-05-04T11:01:52.806Z"
   },
   {
    "duration": 305,
    "start_time": "2022-05-04T11:01:53.168Z"
   },
   {
    "duration": 201,
    "start_time": "2022-05-04T11:01:53.482Z"
   },
   {
    "duration": 30,
    "start_time": "2022-05-04T11:01:53.685Z"
   },
   {
    "duration": 135,
    "start_time": "2022-05-04T11:01:53.718Z"
   },
   {
    "duration": 14,
    "start_time": "2022-05-04T11:01:53.855Z"
   },
   {
    "duration": 8,
    "start_time": "2022-05-04T11:01:53.882Z"
   },
   {
    "duration": 19,
    "start_time": "2022-05-04T11:01:53.894Z"
   },
   {
    "duration": 97,
    "start_time": "2022-05-04T11:01:53.915Z"
   },
   {
    "duration": 40,
    "start_time": "2022-05-04T11:01:54.014Z"
   },
   {
    "duration": 54,
    "start_time": "2022-05-04T11:01:54.056Z"
   },
   {
    "duration": 105,
    "start_time": "2022-05-04T11:01:54.113Z"
   },
   {
    "duration": 35,
    "start_time": "2022-05-04T11:04:09.313Z"
   },
   {
    "duration": 33,
    "start_time": "2022-05-04T11:04:17.053Z"
   },
   {
    "duration": 41,
    "start_time": "2022-05-04T11:08:03.593Z"
   },
   {
    "duration": 7,
    "start_time": "2022-05-04T11:13:46.661Z"
   },
   {
    "duration": 482,
    "start_time": "2022-05-04T11:14:02.513Z"
   },
   {
    "duration": 51,
    "start_time": "2022-05-04T11:14:02.998Z"
   },
   {
    "duration": 241,
    "start_time": "2022-05-04T11:14:03.052Z"
   },
   {
    "duration": 211,
    "start_time": "2022-05-04T11:14:03.297Z"
   },
   {
    "duration": 29,
    "start_time": "2022-05-04T11:14:03.511Z"
   },
   {
    "duration": 150,
    "start_time": "2022-05-04T11:14:03.542Z"
   },
   {
    "duration": 31,
    "start_time": "2022-05-04T11:14:03.695Z"
   },
   {
    "duration": 136,
    "start_time": "2022-05-04T11:14:03.728Z"
   },
   {
    "duration": 18,
    "start_time": "2022-05-04T11:14:03.866Z"
   },
   {
    "duration": 7,
    "start_time": "2022-05-04T11:14:03.888Z"
   },
   {
    "duration": 23,
    "start_time": "2022-05-04T11:14:03.897Z"
   },
   {
    "duration": 89,
    "start_time": "2022-05-04T11:14:03.921Z"
   },
   {
    "duration": 40,
    "start_time": "2022-05-04T11:14:04.012Z"
   },
   {
    "duration": 53,
    "start_time": "2022-05-04T11:14:04.055Z"
   },
   {
    "duration": 36,
    "start_time": "2022-05-04T11:14:04.110Z"
   },
   {
    "duration": 7,
    "start_time": "2022-05-04T11:14:04.148Z"
   },
   {
    "duration": 265,
    "start_time": "2022-05-04T11:14:04.157Z"
   },
   {
    "duration": 514,
    "start_time": "2022-05-04T11:19:02.762Z"
   },
   {
    "duration": 1615,
    "start_time": "2022-05-04T11:19:03.279Z"
   },
   {
    "duration": 331,
    "start_time": "2022-05-04T11:19:04.896Z"
   },
   {
    "duration": 1303,
    "start_time": "2022-05-04T11:19:05.282Z"
   },
   {
    "duration": 30,
    "start_time": "2022-05-04T11:19:06.588Z"
   },
   {
    "duration": 296,
    "start_time": "2022-05-04T11:19:06.620Z"
   },
   {
    "duration": 84,
    "start_time": "2022-05-04T11:19:06.918Z"
   },
   {
    "duration": 720,
    "start_time": "2022-05-04T11:19:07.004Z"
   },
   {
    "duration": 16,
    "start_time": "2022-05-04T11:19:07.727Z"
   },
   {
    "duration": 17,
    "start_time": "2022-05-04T11:19:07.746Z"
   },
   {
    "duration": 47,
    "start_time": "2022-05-04T11:19:07.767Z"
   },
   {
    "duration": 77,
    "start_time": "2022-05-04T11:19:07.816Z"
   },
   {
    "duration": 46,
    "start_time": "2022-05-04T11:19:07.895Z"
   },
   {
    "duration": 59,
    "start_time": "2022-05-04T11:19:07.944Z"
   },
   {
    "duration": 37,
    "start_time": "2022-05-04T11:19:08.005Z"
   },
   {
    "duration": 121,
    "start_time": "2022-05-04T11:19:08.044Z"
   },
   {
    "duration": 16,
    "start_time": "2022-05-04T11:21:42.115Z"
   },
   {
    "duration": 511,
    "start_time": "2022-05-04T11:21:51.968Z"
   },
   {
    "duration": 89,
    "start_time": "2022-05-04T11:21:52.483Z"
   },
   {
    "duration": 344,
    "start_time": "2022-05-04T11:21:52.574Z"
   },
   {
    "duration": 303,
    "start_time": "2022-05-04T11:21:52.922Z"
   },
   {
    "duration": 53,
    "start_time": "2022-05-04T11:21:53.228Z"
   },
   {
    "duration": 341,
    "start_time": "2022-05-04T11:21:53.284Z"
   },
   {
    "duration": 40,
    "start_time": "2022-05-04T11:21:53.681Z"
   },
   {
    "duration": 377,
    "start_time": "2022-05-04T11:21:53.724Z"
   },
   {
    "duration": 16,
    "start_time": "2022-05-04T11:21:54.103Z"
   },
   {
    "duration": 59,
    "start_time": "2022-05-04T11:21:54.123Z"
   },
   {
    "duration": 30,
    "start_time": "2022-05-04T11:21:54.185Z"
   },
   {
    "duration": 189,
    "start_time": "2022-05-04T11:21:54.217Z"
   },
   {
    "duration": 107,
    "start_time": "2022-05-04T11:21:54.409Z"
   },
   {
    "duration": 364,
    "start_time": "2022-05-04T11:21:54.519Z"
   },
   {
    "duration": 0,
    "start_time": "2022-05-04T11:21:54.886Z"
   },
   {
    "duration": 0,
    "start_time": "2022-05-04T11:21:54.888Z"
   },
   {
    "duration": 54,
    "start_time": "2022-05-04T11:22:35.941Z"
   },
   {
    "duration": 116,
    "start_time": "2022-05-04T11:22:42.758Z"
   },
   {
    "duration": 46,
    "start_time": "2022-05-04T11:23:25.472Z"
   },
   {
    "duration": 49,
    "start_time": "2022-05-04T11:24:46.557Z"
   },
   {
    "duration": 37,
    "start_time": "2022-05-04T11:25:44.259Z"
   },
   {
    "duration": 39,
    "start_time": "2022-05-04T11:25:59.757Z"
   },
   {
    "duration": 41,
    "start_time": "2022-05-04T11:27:56.822Z"
   },
   {
    "duration": 27,
    "start_time": "2022-05-04T11:28:11.739Z"
   },
   {
    "duration": 44,
    "start_time": "2022-05-04T11:28:21.575Z"
   },
   {
    "duration": 37,
    "start_time": "2022-05-04T11:30:14.295Z"
   },
   {
    "duration": 536,
    "start_time": "2022-05-04T11:30:42.400Z"
   },
   {
    "duration": 60,
    "start_time": "2022-05-04T11:30:42.939Z"
   },
   {
    "duration": 250,
    "start_time": "2022-05-04T11:30:43.001Z"
   },
   {
    "duration": 275,
    "start_time": "2022-05-04T11:30:43.254Z"
   },
   {
    "duration": 38,
    "start_time": "2022-05-04T11:30:43.532Z"
   },
   {
    "duration": 184,
    "start_time": "2022-05-04T11:30:43.587Z"
   },
   {
    "duration": 55,
    "start_time": "2022-05-04T11:30:43.774Z"
   },
   {
    "duration": 135,
    "start_time": "2022-05-04T11:30:43.832Z"
   },
   {
    "duration": 17,
    "start_time": "2022-05-04T11:30:43.969Z"
   },
   {
    "duration": 19,
    "start_time": "2022-05-04T11:30:43.991Z"
   },
   {
    "duration": 28,
    "start_time": "2022-05-04T11:30:44.012Z"
   },
   {
    "duration": 94,
    "start_time": "2022-05-04T11:30:44.042Z"
   },
   {
    "duration": 66,
    "start_time": "2022-05-04T11:30:44.139Z"
   },
   {
    "duration": 39,
    "start_time": "2022-05-04T11:30:44.207Z"
   },
   {
    "duration": 68,
    "start_time": "2022-05-04T11:30:44.248Z"
   },
   {
    "duration": 29,
    "start_time": "2022-05-04T11:30:44.319Z"
   },
   {
    "duration": 136,
    "start_time": "2022-05-04T11:30:44.350Z"
   },
   {
    "duration": 22,
    "start_time": "2022-05-04T13:05:21.589Z"
   },
   {
    "duration": 500,
    "start_time": "2022-05-04T13:05:27.679Z"
   },
   {
    "duration": 66,
    "start_time": "2022-05-04T13:05:28.183Z"
   },
   {
    "duration": 237,
    "start_time": "2022-05-04T13:05:28.252Z"
   },
   {
    "duration": 203,
    "start_time": "2022-05-04T13:05:28.492Z"
   },
   {
    "duration": 31,
    "start_time": "2022-05-04T13:05:28.697Z"
   },
   {
    "duration": 154,
    "start_time": "2022-05-04T13:05:28.730Z"
   },
   {
    "duration": 38,
    "start_time": "2022-05-04T13:05:28.887Z"
   },
   {
    "duration": 190,
    "start_time": "2022-05-04T13:05:28.928Z"
   },
   {
    "duration": 35,
    "start_time": "2022-05-04T13:05:29.121Z"
   },
   {
    "duration": 22,
    "start_time": "2022-05-04T13:05:29.160Z"
   },
   {
    "duration": 23,
    "start_time": "2022-05-04T13:05:29.185Z"
   },
   {
    "duration": 114,
    "start_time": "2022-05-04T13:05:29.210Z"
   },
   {
    "duration": 64,
    "start_time": "2022-05-04T13:05:29.326Z"
   },
   {
    "duration": 48,
    "start_time": "2022-05-04T13:05:29.392Z"
   },
   {
    "duration": 56,
    "start_time": "2022-05-04T13:05:29.443Z"
   },
   {
    "duration": 30,
    "start_time": "2022-05-04T13:05:29.502Z"
   },
   {
    "duration": 42,
    "start_time": "2022-05-04T13:09:41.729Z"
   },
   {
    "duration": 3220,
    "start_time": "2022-05-04T13:10:14.408Z"
   },
   {
    "duration": 31,
    "start_time": "2022-05-04T13:10:25.527Z"
   },
   {
    "duration": 26,
    "start_time": "2022-05-04T13:10:39.598Z"
   },
   {
    "duration": 517,
    "start_time": "2022-05-04T13:10:46.137Z"
   },
   {
    "duration": 80,
    "start_time": "2022-05-04T13:10:46.657Z"
   },
   {
    "duration": 239,
    "start_time": "2022-05-04T13:10:46.739Z"
   },
   {
    "duration": 204,
    "start_time": "2022-05-04T13:10:46.982Z"
   },
   {
    "duration": 29,
    "start_time": "2022-05-04T13:10:47.190Z"
   },
   {
    "duration": 159,
    "start_time": "2022-05-04T13:10:47.222Z"
   },
   {
    "duration": 30,
    "start_time": "2022-05-04T13:10:47.383Z"
   },
   {
    "duration": 131,
    "start_time": "2022-05-04T13:10:47.416Z"
   },
   {
    "duration": 40,
    "start_time": "2022-05-04T13:10:47.550Z"
   },
   {
    "duration": 11,
    "start_time": "2022-05-04T13:10:47.594Z"
   },
   {
    "duration": 25,
    "start_time": "2022-05-04T13:10:47.607Z"
   },
   {
    "duration": 82,
    "start_time": "2022-05-04T13:10:47.634Z"
   },
   {
    "duration": 42,
    "start_time": "2022-05-04T13:10:47.718Z"
   },
   {
    "duration": 55,
    "start_time": "2022-05-04T13:10:47.762Z"
   },
   {
    "duration": 137,
    "start_time": "2022-05-04T13:10:47.819Z"
   },
   {
    "duration": 0,
    "start_time": "2022-05-04T13:10:47.958Z"
   },
   {
    "duration": 530,
    "start_time": "2022-05-04T13:11:11.538Z"
   },
   {
    "duration": 57,
    "start_time": "2022-05-04T13:11:12.071Z"
   },
   {
    "duration": 241,
    "start_time": "2022-05-04T13:11:12.131Z"
   },
   {
    "duration": 218,
    "start_time": "2022-05-04T13:11:12.374Z"
   },
   {
    "duration": 30,
    "start_time": "2022-05-04T13:11:12.594Z"
   },
   {
    "duration": 165,
    "start_time": "2022-05-04T13:11:12.627Z"
   },
   {
    "duration": 32,
    "start_time": "2022-05-04T13:11:12.795Z"
   },
   {
    "duration": 187,
    "start_time": "2022-05-04T13:11:12.829Z"
   },
   {
    "duration": 39,
    "start_time": "2022-05-04T13:11:13.019Z"
   },
   {
    "duration": 19,
    "start_time": "2022-05-04T13:11:13.063Z"
   },
   {
    "duration": 20,
    "start_time": "2022-05-04T13:11:13.085Z"
   },
   {
    "duration": 92,
    "start_time": "2022-05-04T13:11:13.107Z"
   },
   {
    "duration": 42,
    "start_time": "2022-05-04T13:11:13.201Z"
   },
   {
    "duration": 70,
    "start_time": "2022-05-04T13:11:13.245Z"
   },
   {
    "duration": 71,
    "start_time": "2022-05-04T13:11:13.317Z"
   },
   {
    "duration": 37,
    "start_time": "2022-05-04T13:11:13.390Z"
   },
   {
    "duration": 110,
    "start_time": "2022-05-04T13:13:27.218Z"
   },
   {
    "duration": 13,
    "start_time": "2022-05-04T13:16:53.152Z"
   },
   {
    "duration": 13,
    "start_time": "2022-05-04T13:16:58.873Z"
   },
   {
    "duration": 29,
    "start_time": "2022-05-04T13:17:16.243Z"
   },
   {
    "duration": 33,
    "start_time": "2022-05-04T13:18:33.649Z"
   },
   {
    "duration": 14,
    "start_time": "2022-05-04T13:18:58.802Z"
   },
   {
    "duration": 49,
    "start_time": "2022-05-04T13:19:26.483Z"
   },
   {
    "duration": 500,
    "start_time": "2022-05-04T13:21:30.423Z"
   },
   {
    "duration": 517,
    "start_time": "2022-05-04T13:21:40.279Z"
   },
   {
    "duration": 69,
    "start_time": "2022-05-04T13:21:40.799Z"
   },
   {
    "duration": 255,
    "start_time": "2022-05-04T13:21:40.871Z"
   },
   {
    "duration": 354,
    "start_time": "2022-05-04T13:21:41.129Z"
   },
   {
    "duration": 30,
    "start_time": "2022-05-04T13:21:41.485Z"
   },
   {
    "duration": 296,
    "start_time": "2022-05-04T13:21:41.517Z"
   },
   {
    "duration": 84,
    "start_time": "2022-05-04T13:21:41.815Z"
   },
   {
    "duration": 214,
    "start_time": "2022-05-04T13:21:41.901Z"
   },
   {
    "duration": 84,
    "start_time": "2022-05-04T13:21:42.117Z"
   },
   {
    "duration": 6,
    "start_time": "2022-05-04T13:21:42.206Z"
   },
   {
    "duration": 75,
    "start_time": "2022-05-04T13:21:42.215Z"
   },
   {
    "duration": 190,
    "start_time": "2022-05-04T13:21:42.293Z"
   },
   {
    "duration": 1029,
    "start_time": "2022-05-04T13:21:42.486Z"
   },
   {
    "duration": 0,
    "start_time": "2022-05-04T13:21:43.517Z"
   },
   {
    "duration": 0,
    "start_time": "2022-05-04T13:21:43.519Z"
   },
   {
    "duration": 0,
    "start_time": "2022-05-04T13:21:43.521Z"
   },
   {
    "duration": 0,
    "start_time": "2022-05-04T13:21:43.522Z"
   },
   {
    "duration": 35,
    "start_time": "2022-05-04T13:22:07.158Z"
   },
   {
    "duration": 36,
    "start_time": "2022-05-04T13:22:20.841Z"
   },
   {
    "duration": 38,
    "start_time": "2022-05-04T13:22:30.738Z"
   },
   {
    "duration": 39,
    "start_time": "2022-05-04T13:22:56.852Z"
   },
   {
    "duration": 80,
    "start_time": "2022-05-04T13:24:32.593Z"
   },
   {
    "duration": 69,
    "start_time": "2022-05-04T13:24:55.763Z"
   },
   {
    "duration": 89,
    "start_time": "2022-05-04T13:25:13.281Z"
   },
   {
    "duration": 84,
    "start_time": "2022-05-04T13:25:21.242Z"
   },
   {
    "duration": 19,
    "start_time": "2022-05-04T13:25:35.948Z"
   },
   {
    "duration": 19,
    "start_time": "2022-05-04T13:31:09.992Z"
   },
   {
    "duration": 715,
    "start_time": "2022-05-04T13:31:22.336Z"
   },
   {
    "duration": 92,
    "start_time": "2022-05-04T13:31:23.054Z"
   },
   {
    "duration": 251,
    "start_time": "2022-05-04T13:31:23.148Z"
   },
   {
    "duration": 414,
    "start_time": "2022-05-04T13:31:23.401Z"
   },
   {
    "duration": 31,
    "start_time": "2022-05-04T13:31:23.820Z"
   },
   {
    "duration": 230,
    "start_time": "2022-05-04T13:31:23.853Z"
   },
   {
    "duration": 42,
    "start_time": "2022-05-04T13:31:24.086Z"
   },
   {
    "duration": 132,
    "start_time": "2022-05-04T13:31:24.130Z"
   },
   {
    "duration": 41,
    "start_time": "2022-05-04T13:31:24.264Z"
   },
   {
    "duration": 15,
    "start_time": "2022-05-04T13:31:24.308Z"
   },
   {
    "duration": 28,
    "start_time": "2022-05-04T13:31:24.325Z"
   },
   {
    "duration": 89,
    "start_time": "2022-05-04T13:31:24.357Z"
   },
   {
    "duration": 51,
    "start_time": "2022-05-04T13:31:24.449Z"
   },
   {
    "duration": 37,
    "start_time": "2022-05-04T13:31:24.504Z"
   },
   {
    "duration": 123,
    "start_time": "2022-05-04T13:31:24.544Z"
   },
   {
    "duration": 0,
    "start_time": "2022-05-04T13:31:24.669Z"
   },
   {
    "duration": 0,
    "start_time": "2022-05-04T13:31:24.682Z"
   },
   {
    "duration": 0,
    "start_time": "2022-05-04T13:31:24.684Z"
   },
   {
    "duration": 18,
    "start_time": "2022-05-04T13:31:40.109Z"
   },
   {
    "duration": 21,
    "start_time": "2022-05-04T13:32:10.238Z"
   },
   {
    "duration": 9,
    "start_time": "2022-05-04T13:33:11.511Z"
   },
   {
    "duration": 499,
    "start_time": "2022-05-04T13:33:19.831Z"
   },
   {
    "duration": 54,
    "start_time": "2022-05-04T13:33:20.333Z"
   },
   {
    "duration": 256,
    "start_time": "2022-05-04T13:33:20.390Z"
   },
   {
    "duration": 303,
    "start_time": "2022-05-04T13:33:20.650Z"
   },
   {
    "duration": 34,
    "start_time": "2022-05-04T13:33:20.955Z"
   },
   {
    "duration": 208,
    "start_time": "2022-05-04T13:33:20.991Z"
   },
   {
    "duration": 95,
    "start_time": "2022-05-04T13:33:21.202Z"
   },
   {
    "duration": 387,
    "start_time": "2022-05-04T13:33:21.300Z"
   },
   {
    "duration": 92,
    "start_time": "2022-05-04T13:33:21.690Z"
   },
   {
    "duration": 6,
    "start_time": "2022-05-04T13:33:21.787Z"
   },
   {
    "duration": 21,
    "start_time": "2022-05-04T13:33:21.796Z"
   },
   {
    "duration": 169,
    "start_time": "2022-05-04T13:33:21.819Z"
   },
   {
    "duration": 99,
    "start_time": "2022-05-04T13:33:21.991Z"
   },
   {
    "duration": 97,
    "start_time": "2022-05-04T13:33:22.092Z"
   },
   {
    "duration": 20,
    "start_time": "2022-05-04T13:33:22.191Z"
   },
   {
    "duration": 92,
    "start_time": "2022-05-04T13:33:22.213Z"
   },
   {
    "duration": 80,
    "start_time": "2022-05-04T13:33:22.308Z"
   },
   {
    "duration": 26,
    "start_time": "2022-05-04T13:33:22.390Z"
   },
   {
    "duration": 535,
    "start_time": "2022-05-04T13:33:22.418Z"
   },
   {
    "duration": 74,
    "start_time": "2022-05-04T13:34:21.775Z"
   },
   {
    "duration": 25,
    "start_time": "2022-05-04T13:35:28.015Z"
   },
   {
    "duration": 25,
    "start_time": "2022-05-04T13:35:30.700Z"
   },
   {
    "duration": 109,
    "start_time": "2022-05-04T13:36:42.530Z"
   },
   {
    "duration": 25,
    "start_time": "2022-05-04T13:36:59.576Z"
   },
   {
    "duration": 23,
    "start_time": "2022-05-04T13:37:20.840Z"
   },
   {
    "duration": 14,
    "start_time": "2022-05-04T13:37:47.145Z"
   },
   {
    "duration": 13,
    "start_time": "2022-05-04T13:37:55.523Z"
   },
   {
    "duration": 45,
    "start_time": "2022-05-04T13:38:00.771Z"
   },
   {
    "duration": 18,
    "start_time": "2022-05-04T13:38:29.926Z"
   },
   {
    "duration": 61,
    "start_time": "2022-05-04T13:38:39.166Z"
   },
   {
    "duration": 46,
    "start_time": "2022-05-04T13:40:16.095Z"
   },
   {
    "duration": 16,
    "start_time": "2022-05-04T14:58:46.815Z"
   },
   {
    "duration": 19,
    "start_time": "2022-05-04T14:59:06.682Z"
   },
   {
    "duration": 494,
    "start_time": "2022-05-04T14:59:22.124Z"
   },
   {
    "duration": 60,
    "start_time": "2022-05-04T14:59:22.621Z"
   },
   {
    "duration": 264,
    "start_time": "2022-05-04T14:59:22.683Z"
   },
   {
    "duration": 225,
    "start_time": "2022-05-04T14:59:22.951Z"
   },
   {
    "duration": 34,
    "start_time": "2022-05-04T14:59:23.183Z"
   },
   {
    "duration": 175,
    "start_time": "2022-05-04T14:59:23.220Z"
   },
   {
    "duration": 32,
    "start_time": "2022-05-04T14:59:23.398Z"
   },
   {
    "duration": 292,
    "start_time": "2022-05-04T14:59:23.432Z"
   },
   {
    "duration": 79,
    "start_time": "2022-05-04T14:59:23.726Z"
   },
   {
    "duration": 5,
    "start_time": "2022-05-04T14:59:23.810Z"
   },
   {
    "duration": 81,
    "start_time": "2022-05-04T14:59:23.818Z"
   },
   {
    "duration": 133,
    "start_time": "2022-05-04T14:59:23.901Z"
   },
   {
    "duration": 101,
    "start_time": "2022-05-04T14:59:24.036Z"
   },
   {
    "duration": 47,
    "start_time": "2022-05-04T14:59:24.182Z"
   },
   {
    "duration": 75,
    "start_time": "2022-05-04T14:59:24.232Z"
   },
   {
    "duration": 95,
    "start_time": "2022-05-04T14:59:24.309Z"
   },
   {
    "duration": 23,
    "start_time": "2022-05-04T14:59:24.407Z"
   },
   {
    "duration": 85,
    "start_time": "2022-05-04T14:59:24.432Z"
   },
   {
    "duration": 187,
    "start_time": "2022-05-04T14:59:24.520Z"
   },
   {
    "duration": 104,
    "start_time": "2022-05-04T14:59:24.709Z"
   },
   {
    "duration": 93,
    "start_time": "2022-05-04T14:59:24.815Z"
   },
   {
    "duration": 291,
    "start_time": "2022-05-04T14:59:24.910Z"
   },
   {
    "duration": 17,
    "start_time": "2022-05-04T15:00:03.117Z"
   },
   {
    "duration": 557,
    "start_time": "2022-05-04T15:00:11.053Z"
   },
   {
    "duration": 57,
    "start_time": "2022-05-04T15:00:11.613Z"
   },
   {
    "duration": 436,
    "start_time": "2022-05-04T15:00:11.672Z"
   },
   {
    "duration": 408,
    "start_time": "2022-05-04T15:00:12.110Z"
   },
   {
    "duration": 99,
    "start_time": "2022-05-04T15:00:12.523Z"
   },
   {
    "duration": 301,
    "start_time": "2022-05-04T15:00:12.625Z"
   },
   {
    "duration": 91,
    "start_time": "2022-05-04T15:00:12.928Z"
   },
   {
    "duration": 274,
    "start_time": "2022-05-04T15:00:13.021Z"
   },
   {
    "duration": 87,
    "start_time": "2022-05-04T15:00:13.299Z"
   },
   {
    "duration": 10,
    "start_time": "2022-05-04T15:00:13.389Z"
   },
   {
    "duration": 25,
    "start_time": "2022-05-04T15:00:13.401Z"
   },
   {
    "duration": 185,
    "start_time": "2022-05-04T15:00:13.427Z"
   },
   {
    "duration": 99,
    "start_time": "2022-05-04T15:00:13.614Z"
   },
   {
    "duration": 178,
    "start_time": "2022-05-04T15:00:13.719Z"
   },
   {
    "duration": 27,
    "start_time": "2022-05-04T15:00:13.900Z"
   },
   {
    "duration": 167,
    "start_time": "2022-05-04T15:00:13.930Z"
   },
   {
    "duration": 24,
    "start_time": "2022-05-04T15:00:14.101Z"
   },
   {
    "duration": 90,
    "start_time": "2022-05-04T15:00:14.127Z"
   },
   {
    "duration": 187,
    "start_time": "2022-05-04T15:00:14.219Z"
   },
   {
    "duration": 102,
    "start_time": "2022-05-04T15:00:14.408Z"
   },
   {
    "duration": 86,
    "start_time": "2022-05-04T15:00:14.513Z"
   },
   {
    "duration": 223,
    "start_time": "2022-05-04T15:00:14.602Z"
   },
   {
    "duration": 20,
    "start_time": "2022-05-04T15:02:44.153Z"
   },
   {
    "duration": 571,
    "start_time": "2022-05-04T15:02:54.699Z"
   },
   {
    "duration": 76,
    "start_time": "2022-05-04T15:02:55.273Z"
   },
   {
    "duration": 256,
    "start_time": "2022-05-04T15:02:55.351Z"
   },
   {
    "duration": 219,
    "start_time": "2022-05-04T15:02:55.609Z"
   },
   {
    "duration": 54,
    "start_time": "2022-05-04T15:02:55.831Z"
   },
   {
    "duration": 179,
    "start_time": "2022-05-04T15:02:55.894Z"
   },
   {
    "duration": 41,
    "start_time": "2022-05-04T15:02:56.075Z"
   },
   {
    "duration": 122,
    "start_time": "2022-05-04T15:02:56.118Z"
   },
   {
    "duration": 44,
    "start_time": "2022-05-04T15:02:56.242Z"
   },
   {
    "duration": 11,
    "start_time": "2022-05-04T15:02:56.289Z"
   },
   {
    "duration": 28,
    "start_time": "2022-05-04T15:02:56.303Z"
   },
   {
    "duration": 116,
    "start_time": "2022-05-04T15:02:56.334Z"
   },
   {
    "duration": 70,
    "start_time": "2022-05-04T15:02:56.453Z"
   },
   {
    "duration": 68,
    "start_time": "2022-05-04T15:02:56.529Z"
   },
   {
    "duration": 21,
    "start_time": "2022-05-04T15:02:56.599Z"
   },
   {
    "duration": 67,
    "start_time": "2022-05-04T15:02:56.622Z"
   },
   {
    "duration": 37,
    "start_time": "2022-05-04T15:02:56.692Z"
   },
   {
    "duration": 69,
    "start_time": "2022-05-04T15:02:56.732Z"
   },
   {
    "duration": 62,
    "start_time": "2022-05-04T15:02:56.803Z"
   },
   {
    "duration": 64,
    "start_time": "2022-05-04T15:02:56.867Z"
   },
   {
    "duration": 16,
    "start_time": "2022-05-04T15:02:56.934Z"
   },
   {
    "duration": 34,
    "start_time": "2022-05-04T15:03:21.911Z"
   },
   {
    "duration": 31,
    "start_time": "2022-05-04T15:04:02.507Z"
   },
   {
    "duration": 102,
    "start_time": "2022-05-04T15:14:01.650Z"
   },
   {
    "duration": 561,
    "start_time": "2022-05-04T15:14:08.453Z"
   },
   {
    "duration": 57,
    "start_time": "2022-05-04T15:14:09.017Z"
   },
   {
    "duration": 255,
    "start_time": "2022-05-04T15:14:09.076Z"
   },
   {
    "duration": 221,
    "start_time": "2022-05-04T15:14:09.334Z"
   },
   {
    "duration": 46,
    "start_time": "2022-05-04T15:14:09.558Z"
   },
   {
    "duration": 149,
    "start_time": "2022-05-04T15:14:09.607Z"
   },
   {
    "duration": 48,
    "start_time": "2022-05-04T15:14:09.758Z"
   },
   {
    "duration": 278,
    "start_time": "2022-05-04T15:14:09.808Z"
   },
   {
    "duration": 31,
    "start_time": "2022-05-04T15:14:10.091Z"
   },
   {
    "duration": 7,
    "start_time": "2022-05-04T15:14:10.126Z"
   },
   {
    "duration": 69,
    "start_time": "2022-05-04T15:14:10.135Z"
   },
   {
    "duration": 187,
    "start_time": "2022-05-04T15:14:10.206Z"
   },
   {
    "duration": 103,
    "start_time": "2022-05-04T15:14:10.396Z"
   },
   {
    "duration": 98,
    "start_time": "2022-05-04T15:14:10.501Z"
   },
   {
    "duration": 20,
    "start_time": "2022-05-04T15:14:10.601Z"
   },
   {
    "duration": 100,
    "start_time": "2022-05-04T15:14:10.623Z"
   },
   {
    "duration": 72,
    "start_time": "2022-05-04T15:14:10.725Z"
   },
   {
    "duration": 28,
    "start_time": "2022-05-04T15:14:10.799Z"
   },
   {
    "duration": 206,
    "start_time": "2022-05-04T15:14:10.830Z"
   },
   {
    "duration": 157,
    "start_time": "2022-05-04T15:14:11.038Z"
   },
   {
    "duration": 21,
    "start_time": "2022-05-04T15:14:11.198Z"
   },
   {
    "duration": 109,
    "start_time": "2022-05-04T15:14:11.222Z"
   },
   {
    "duration": 163,
    "start_time": "2022-05-04T15:14:11.334Z"
   },
   {
    "duration": 8,
    "start_time": "2022-05-04T15:14:11.501Z"
   },
   {
    "duration": 605,
    "start_time": "2022-05-04T15:14:11.512Z"
   },
   {
    "duration": 506,
    "start_time": "2022-05-04T15:14:56.427Z"
   },
   {
    "duration": 118,
    "start_time": "2022-05-04T15:14:56.936Z"
   },
   {
    "duration": 292,
    "start_time": "2022-05-04T15:14:57.056Z"
   },
   {
    "duration": 240,
    "start_time": "2022-05-04T15:14:57.352Z"
   },
   {
    "duration": 30,
    "start_time": "2022-05-04T15:14:57.594Z"
   },
   {
    "duration": 160,
    "start_time": "2022-05-04T15:14:57.627Z"
   },
   {
    "duration": 51,
    "start_time": "2022-05-04T15:14:57.790Z"
   },
   {
    "duration": 131,
    "start_time": "2022-05-04T15:14:57.844Z"
   },
   {
    "duration": 36,
    "start_time": "2022-05-04T15:14:57.978Z"
   },
   {
    "duration": 5,
    "start_time": "2022-05-04T15:14:58.018Z"
   },
   {
    "duration": 20,
    "start_time": "2022-05-04T15:14:58.026Z"
   },
   {
    "duration": 111,
    "start_time": "2022-05-04T15:14:58.048Z"
   },
   {
    "duration": 52,
    "start_time": "2022-05-04T15:14:58.161Z"
   },
   {
    "duration": 40,
    "start_time": "2022-05-04T15:14:58.215Z"
   },
   {
    "duration": 45,
    "start_time": "2022-05-04T15:14:58.258Z"
   },
   {
    "duration": 41,
    "start_time": "2022-05-04T15:14:58.305Z"
   },
   {
    "duration": 50,
    "start_time": "2022-05-04T15:14:58.348Z"
   },
   {
    "duration": 28,
    "start_time": "2022-05-04T15:14:58.400Z"
   },
   {
    "duration": 88,
    "start_time": "2022-05-04T15:14:58.430Z"
   },
   {
    "duration": 45,
    "start_time": "2022-05-04T15:14:58.520Z"
   },
   {
    "duration": 34,
    "start_time": "2022-05-04T15:14:58.567Z"
   },
   {
    "duration": 41,
    "start_time": "2022-05-04T15:14:58.604Z"
   },
   {
    "duration": 9,
    "start_time": "2022-05-04T15:14:58.647Z"
   },
   {
    "duration": 31,
    "start_time": "2022-05-04T15:14:58.658Z"
   },
   {
    "duration": 182,
    "start_time": "2022-05-04T15:14:58.692Z"
   },
   {
    "duration": 574,
    "start_time": "2022-05-04T15:15:26.057Z"
   },
   {
    "duration": 64,
    "start_time": "2022-05-04T15:15:26.633Z"
   },
   {
    "duration": 263,
    "start_time": "2022-05-04T15:15:26.699Z"
   },
   {
    "duration": 221,
    "start_time": "2022-05-04T15:15:26.964Z"
   },
   {
    "duration": 30,
    "start_time": "2022-05-04T15:15:27.189Z"
   },
   {
    "duration": 158,
    "start_time": "2022-05-04T15:15:27.221Z"
   },
   {
    "duration": 36,
    "start_time": "2022-05-04T15:15:27.390Z"
   },
   {
    "duration": 126,
    "start_time": "2022-05-04T15:15:27.428Z"
   },
   {
    "duration": 39,
    "start_time": "2022-05-04T15:15:27.556Z"
   },
   {
    "duration": 9,
    "start_time": "2022-05-04T15:15:27.598Z"
   },
   {
    "duration": 18,
    "start_time": "2022-05-04T15:15:27.609Z"
   },
   {
    "duration": 101,
    "start_time": "2022-05-04T15:15:27.630Z"
   },
   {
    "duration": 50,
    "start_time": "2022-05-04T15:15:27.733Z"
   },
   {
    "duration": 41,
    "start_time": "2022-05-04T15:15:27.788Z"
   },
   {
    "duration": 20,
    "start_time": "2022-05-04T15:15:27.832Z"
   },
   {
    "duration": 44,
    "start_time": "2022-05-04T15:15:27.886Z"
   },
   {
    "duration": 22,
    "start_time": "2022-05-04T15:15:27.932Z"
   },
   {
    "duration": 55,
    "start_time": "2022-05-04T15:15:27.957Z"
   },
   {
    "duration": 87,
    "start_time": "2022-05-04T15:15:28.014Z"
   },
   {
    "duration": 41,
    "start_time": "2022-05-04T15:15:28.103Z"
   },
   {
    "duration": 40,
    "start_time": "2022-05-04T15:15:28.146Z"
   },
   {
    "duration": 33,
    "start_time": "2022-05-04T15:15:28.188Z"
   },
   {
    "duration": 3,
    "start_time": "2022-05-04T15:15:28.223Z"
   },
   {
    "duration": 9,
    "start_time": "2022-05-04T15:15:28.228Z"
   },
   {
    "duration": 220,
    "start_time": "2022-05-04T15:15:28.239Z"
   },
   {
    "duration": 411,
    "start_time": "2022-05-05T07:20:20.685Z"
   },
   {
    "duration": 40,
    "start_time": "2022-05-05T07:20:21.097Z"
   },
   {
    "duration": 159,
    "start_time": "2022-05-05T07:20:21.139Z"
   },
   {
    "duration": 137,
    "start_time": "2022-05-05T07:20:21.300Z"
   },
   {
    "duration": 22,
    "start_time": "2022-05-05T07:20:21.438Z"
   },
   {
    "duration": 97,
    "start_time": "2022-05-05T07:20:21.462Z"
   },
   {
    "duration": 20,
    "start_time": "2022-05-05T07:20:21.561Z"
   },
   {
    "duration": 78,
    "start_time": "2022-05-05T07:20:21.583Z"
   },
   {
    "duration": 18,
    "start_time": "2022-05-05T07:20:21.663Z"
   },
   {
    "duration": 6,
    "start_time": "2022-05-05T07:20:21.684Z"
   },
   {
    "duration": 15,
    "start_time": "2022-05-05T07:20:21.691Z"
   },
   {
    "duration": 48,
    "start_time": "2022-05-05T07:20:21.723Z"
   },
   {
    "duration": 28,
    "start_time": "2022-05-05T07:20:21.773Z"
   },
   {
    "duration": 39,
    "start_time": "2022-05-05T07:20:21.803Z"
   },
   {
    "duration": 10,
    "start_time": "2022-05-05T07:20:21.844Z"
   },
   {
    "duration": 25,
    "start_time": "2022-05-05T07:20:21.856Z"
   },
   {
    "duration": 41,
    "start_time": "2022-05-05T07:20:21.883Z"
   },
   {
    "duration": 17,
    "start_time": "2022-05-05T07:20:21.926Z"
   },
   {
    "duration": 43,
    "start_time": "2022-05-05T07:20:21.945Z"
   },
   {
    "duration": 45,
    "start_time": "2022-05-05T07:20:21.989Z"
   },
   {
    "duration": 9,
    "start_time": "2022-05-05T07:20:22.036Z"
   },
   {
    "duration": 19,
    "start_time": "2022-05-05T07:20:22.046Z"
   },
   {
    "duration": 2,
    "start_time": "2022-05-05T07:20:22.067Z"
   },
   {
    "duration": 7,
    "start_time": "2022-05-05T07:20:22.070Z"
   },
   {
    "duration": 123,
    "start_time": "2022-05-05T07:20:22.079Z"
   },
   {
    "duration": 15,
    "start_time": "2022-05-05T07:37:28.995Z"
   },
   {
    "duration": 13,
    "start_time": "2022-05-05T07:38:53.511Z"
   },
   {
    "duration": 659,
    "start_time": "2022-05-07T18:36:05.907Z"
   },
   {
    "duration": 124,
    "start_time": "2022-05-07T18:36:06.570Z"
   },
   {
    "duration": 344,
    "start_time": "2022-05-07T18:36:06.696Z"
   },
   {
    "duration": 300,
    "start_time": "2022-05-07T18:36:07.044Z"
   },
   {
    "duration": 53,
    "start_time": "2022-05-07T18:36:07.346Z"
   },
   {
    "duration": 194,
    "start_time": "2022-05-07T18:36:07.402Z"
   },
   {
    "duration": 45,
    "start_time": "2022-05-07T18:36:07.599Z"
   },
   {
    "duration": 147,
    "start_time": "2022-05-07T18:36:07.647Z"
   },
   {
    "duration": 29,
    "start_time": "2022-05-07T18:36:07.797Z"
   },
   {
    "duration": 5,
    "start_time": "2022-05-07T18:36:07.830Z"
   },
   {
    "duration": 31,
    "start_time": "2022-05-07T18:36:07.838Z"
   },
   {
    "duration": 85,
    "start_time": "2022-05-07T18:36:07.872Z"
   },
   {
    "duration": 63,
    "start_time": "2022-05-07T18:36:07.960Z"
   },
   {
    "duration": 67,
    "start_time": "2022-05-07T18:36:08.026Z"
   },
   {
    "duration": 26,
    "start_time": "2022-05-07T18:36:08.096Z"
   },
   {
    "duration": 41,
    "start_time": "2022-05-07T18:36:08.124Z"
   },
   {
    "duration": 52,
    "start_time": "2022-05-07T18:36:08.169Z"
   },
   {
    "duration": 37,
    "start_time": "2022-05-07T18:36:08.224Z"
   },
   {
    "duration": 85,
    "start_time": "2022-05-07T18:36:08.264Z"
   },
   {
    "duration": 70,
    "start_time": "2022-05-07T18:36:08.351Z"
   },
   {
    "duration": 19,
    "start_time": "2022-05-07T18:36:08.423Z"
   },
   {
    "duration": 65,
    "start_time": "2022-05-07T18:36:08.445Z"
   },
   {
    "duration": 4,
    "start_time": "2022-05-07T18:36:08.512Z"
   },
   {
    "duration": 9,
    "start_time": "2022-05-07T18:36:08.518Z"
   },
   {
    "duration": 202,
    "start_time": "2022-05-07T18:36:08.530Z"
   },
   {
    "duration": 20,
    "start_time": "2022-05-07T18:36:08.734Z"
   },
   {
    "duration": 50,
    "start_time": "2022-05-07T18:36:08.757Z"
   },
   {
    "duration": 141,
    "start_time": "2022-05-07T18:39:58.696Z"
   },
   {
    "duration": 12,
    "start_time": "2022-05-07T18:43:42.122Z"
   },
   {
    "duration": 3253,
    "start_time": "2022-05-07T18:45:47.444Z"
   },
   {
    "duration": 669,
    "start_time": "2022-05-07T18:46:08.768Z"
   },
   {
    "duration": 75,
    "start_time": "2022-05-07T18:46:09.440Z"
   },
   {
    "duration": 237,
    "start_time": "2022-05-07T18:46:09.517Z"
   },
   {
    "duration": 272,
    "start_time": "2022-05-07T18:46:09.758Z"
   },
   {
    "duration": 285,
    "start_time": "2022-05-07T18:46:10.032Z"
   },
   {
    "duration": 79,
    "start_time": "2022-05-07T18:46:10.320Z"
   },
   {
    "duration": 212,
    "start_time": "2022-05-07T18:46:10.401Z"
   },
   {
    "duration": 83,
    "start_time": "2022-05-07T18:46:10.616Z"
   },
   {
    "duration": 6,
    "start_time": "2022-05-07T18:46:10.701Z"
   },
   {
    "duration": 20,
    "start_time": "2022-05-07T18:46:10.710Z"
   },
   {
    "duration": 166,
    "start_time": "2022-05-07T18:46:10.732Z"
   },
   {
    "duration": 98,
    "start_time": "2022-05-07T18:46:10.901Z"
   },
   {
    "duration": 91,
    "start_time": "2022-05-07T18:46:11.001Z"
   },
   {
    "duration": 21,
    "start_time": "2022-05-07T18:46:11.095Z"
   },
   {
    "duration": 90,
    "start_time": "2022-05-07T18:46:11.118Z"
   },
   {
    "duration": 24,
    "start_time": "2022-05-07T18:46:11.210Z"
   },
   {
    "duration": 81,
    "start_time": "2022-05-07T18:46:11.236Z"
   },
   {
    "duration": 112,
    "start_time": "2022-05-07T18:46:11.319Z"
   },
   {
    "duration": 98,
    "start_time": "2022-05-07T18:46:11.433Z"
   },
   {
    "duration": 64,
    "start_time": "2022-05-07T18:46:11.534Z"
   },
   {
    "duration": 30,
    "start_time": "2022-05-07T18:46:11.600Z"
   },
   {
    "duration": 77,
    "start_time": "2022-05-07T18:46:11.632Z"
   },
   {
    "duration": 525,
    "start_time": "2022-05-07T18:46:11.712Z"
   },
   {
    "duration": 3664,
    "start_time": "2022-05-07T18:46:12.294Z"
   },
   {
    "duration": 3185,
    "start_time": "2022-05-07T18:46:34.033Z"
   },
   {
    "duration": 210,
    "start_time": "2022-05-07T18:46:48.742Z"
   },
   {
    "duration": 209,
    "start_time": "2022-05-07T18:46:59.227Z"
   },
   {
    "duration": 2298,
    "start_time": "2022-05-07T18:47:13.287Z"
   },
   {
    "duration": 713,
    "start_time": "2022-05-07T18:48:17.252Z"
   },
   {
    "duration": 79,
    "start_time": "2022-05-07T18:48:17.968Z"
   },
   {
    "duration": 332,
    "start_time": "2022-05-07T18:48:18.049Z"
   },
   {
    "duration": 232,
    "start_time": "2022-05-07T18:48:18.383Z"
   },
   {
    "duration": 153,
    "start_time": "2022-05-07T18:48:18.618Z"
   },
   {
    "duration": 66,
    "start_time": "2022-05-07T18:48:18.774Z"
   },
   {
    "duration": 300,
    "start_time": "2022-05-07T18:48:18.843Z"
   },
   {
    "duration": 112,
    "start_time": "2022-05-07T18:48:19.146Z"
   },
   {
    "duration": 172,
    "start_time": "2022-05-07T18:48:19.261Z"
   },
   {
    "duration": 162,
    "start_time": "2022-05-07T18:48:19.436Z"
   },
   {
    "duration": 227,
    "start_time": "2022-05-07T18:48:19.600Z"
   },
   {
    "duration": 113,
    "start_time": "2022-05-07T18:48:19.830Z"
   },
   {
    "duration": 159,
    "start_time": "2022-05-07T18:48:19.946Z"
   },
   {
    "duration": 151,
    "start_time": "2022-05-07T18:48:20.111Z"
   },
   {
    "duration": 264,
    "start_time": "2022-05-07T18:48:20.265Z"
   },
   {
    "duration": 108,
    "start_time": "2022-05-07T18:48:20.531Z"
   },
   {
    "duration": 150,
    "start_time": "2022-05-07T18:48:20.642Z"
   },
   {
    "duration": 138,
    "start_time": "2022-05-07T18:48:20.795Z"
   },
   {
    "duration": 322,
    "start_time": "2022-05-07T18:48:20.936Z"
   },
   {
    "duration": 102,
    "start_time": "2022-05-07T18:48:21.260Z"
   },
   {
    "duration": 175,
    "start_time": "2022-05-07T18:48:21.365Z"
   },
   {
    "duration": 9,
    "start_time": "2022-05-07T18:48:21.542Z"
   },
   {
    "duration": 300,
    "start_time": "2022-05-07T18:48:21.554Z"
   },
   {
    "duration": 1759,
    "start_time": "2022-05-07T18:48:21.857Z"
   },
   {
    "duration": 1192,
    "start_time": "2022-05-07T18:49:03.053Z"
   },
   {
    "duration": 875,
    "start_time": "2022-05-07T18:49:15.123Z"
   },
   {
    "duration": 657,
    "start_time": "2022-05-07T18:49:44.331Z"
   },
   {
    "duration": 523,
    "start_time": "2022-05-07T18:49:48.536Z"
   },
   {
    "duration": 421,
    "start_time": "2022-05-07T18:50:01.895Z"
   },
   {
    "duration": 422,
    "start_time": "2022-05-07T18:50:59.677Z"
   },
   {
    "duration": 540,
    "start_time": "2022-05-07T18:51:14.773Z"
   },
   {
    "duration": 604,
    "start_time": "2022-05-07T18:51:45.326Z"
   },
   {
    "duration": 445,
    "start_time": "2022-05-07T18:51:55.182Z"
   },
   {
    "duration": 304,
    "start_time": "2022-05-07T18:52:21.058Z"
   },
   {
    "duration": 210,
    "start_time": "2022-05-07T18:55:21.600Z"
   },
   {
    "duration": 2420,
    "start_time": "2022-05-07T18:55:33.992Z"
   },
   {
    "duration": 888,
    "start_time": "2022-05-07T18:56:01.940Z"
   },
   {
    "duration": 87,
    "start_time": "2022-05-07T18:56:02.832Z"
   },
   {
    "duration": 671,
    "start_time": "2022-05-07T18:56:02.922Z"
   },
   {
    "duration": 618,
    "start_time": "2022-05-07T18:56:03.596Z"
   },
   {
    "duration": 292,
    "start_time": "2022-05-07T18:56:04.218Z"
   },
   {
    "duration": 82,
    "start_time": "2022-05-07T18:56:04.512Z"
   },
   {
    "duration": 296,
    "start_time": "2022-05-07T18:56:04.597Z"
   },
   {
    "duration": 30,
    "start_time": "2022-05-07T18:56:04.896Z"
   },
   {
    "duration": 5,
    "start_time": "2022-05-07T18:56:04.929Z"
   },
   {
    "duration": 73,
    "start_time": "2022-05-07T18:56:04.936Z"
   },
   {
    "duration": 118,
    "start_time": "2022-05-07T18:56:05.012Z"
   },
   {
    "duration": 100,
    "start_time": "2022-05-07T18:56:05.132Z"
   },
   {
    "duration": 92,
    "start_time": "2022-05-07T18:56:05.234Z"
   },
   {
    "duration": 75,
    "start_time": "2022-05-07T18:56:05.330Z"
   },
   {
    "duration": 97,
    "start_time": "2022-05-07T18:56:05.407Z"
   },
   {
    "duration": 25,
    "start_time": "2022-05-07T18:56:05.506Z"
   },
   {
    "duration": 108,
    "start_time": "2022-05-07T18:56:05.533Z"
   },
   {
    "duration": 75,
    "start_time": "2022-05-07T18:56:05.643Z"
   },
   {
    "duration": 113,
    "start_time": "2022-05-07T18:56:05.721Z"
   },
   {
    "duration": 72,
    "start_time": "2022-05-07T18:56:05.836Z"
   },
   {
    "duration": 94,
    "start_time": "2022-05-07T18:56:05.911Z"
   },
   {
    "duration": 8,
    "start_time": "2022-05-07T18:56:06.008Z"
   },
   {
    "duration": 377,
    "start_time": "2022-05-07T18:56:06.018Z"
   },
   {
    "duration": 2657,
    "start_time": "2022-05-07T18:56:06.398Z"
   },
   {
    "duration": 0,
    "start_time": "2022-05-07T18:56:09.058Z"
   },
   {
    "duration": 0,
    "start_time": "2022-05-07T18:56:09.060Z"
   },
   {
    "duration": 0,
    "start_time": "2022-05-07T18:56:09.062Z"
   },
   {
    "duration": 0,
    "start_time": "2022-05-07T18:56:09.064Z"
   },
   {
    "duration": 0,
    "start_time": "2022-05-07T18:56:09.066Z"
   },
   {
    "duration": 234,
    "start_time": "2022-05-07T18:56:29.973Z"
   },
   {
    "duration": 1065,
    "start_time": "2022-05-07T18:56:42.048Z"
   },
   {
    "duration": 98,
    "start_time": "2022-05-07T18:56:43.116Z"
   },
   {
    "duration": 489,
    "start_time": "2022-05-07T18:56:43.216Z"
   },
   {
    "duration": 401,
    "start_time": "2022-05-07T18:56:43.708Z"
   },
   {
    "duration": 284,
    "start_time": "2022-05-07T18:56:44.111Z"
   },
   {
    "duration": 36,
    "start_time": "2022-05-07T18:56:44.398Z"
   },
   {
    "duration": 288,
    "start_time": "2022-05-07T18:56:44.436Z"
   },
   {
    "duration": 82,
    "start_time": "2022-05-07T18:56:44.726Z"
   },
   {
    "duration": 11,
    "start_time": "2022-05-07T18:56:44.811Z"
   },
   {
    "duration": 68,
    "start_time": "2022-05-07T18:56:44.826Z"
   },
   {
    "duration": 127,
    "start_time": "2022-05-07T18:56:44.897Z"
   },
   {
    "duration": 93,
    "start_time": "2022-05-07T18:56:45.027Z"
   },
   {
    "duration": 90,
    "start_time": "2022-05-07T18:56:45.123Z"
   },
   {
    "duration": 21,
    "start_time": "2022-05-07T18:56:45.216Z"
   },
   {
    "duration": 43,
    "start_time": "2022-05-07T18:56:45.294Z"
   },
   {
    "duration": 24,
    "start_time": "2022-05-07T18:56:45.394Z"
   },
   {
    "duration": 81,
    "start_time": "2022-05-07T18:56:45.420Z"
   },
   {
    "duration": 26,
    "start_time": "2022-05-07T18:56:45.504Z"
   },
   {
    "duration": 98,
    "start_time": "2022-05-07T18:56:45.532Z"
   },
   {
    "duration": 71,
    "start_time": "2022-05-07T18:56:45.632Z"
   },
   {
    "duration": 33,
    "start_time": "2022-05-07T18:56:45.705Z"
   },
   {
    "duration": 54,
    "start_time": "2022-05-07T18:56:45.741Z"
   },
   {
    "duration": 336,
    "start_time": "2022-05-07T18:56:45.798Z"
   },
   {
    "duration": 199,
    "start_time": "2022-05-07T18:56:46.137Z"
   },
   {
    "duration": 0,
    "start_time": "2022-05-07T18:56:46.339Z"
   },
   {
    "duration": 0,
    "start_time": "2022-05-07T18:56:46.341Z"
   },
   {
    "duration": 0,
    "start_time": "2022-05-07T18:56:46.343Z"
   },
   {
    "duration": 0,
    "start_time": "2022-05-07T18:56:46.344Z"
   },
   {
    "duration": 0,
    "start_time": "2022-05-07T18:56:46.346Z"
   },
   {
    "duration": 212,
    "start_time": "2022-05-07T18:56:59.543Z"
   },
   {
    "duration": 810,
    "start_time": "2022-05-07T18:57:08.761Z"
   },
   {
    "duration": 91,
    "start_time": "2022-05-07T18:57:09.574Z"
   },
   {
    "duration": 347,
    "start_time": "2022-05-07T18:57:09.668Z"
   },
   {
    "duration": 209,
    "start_time": "2022-05-07T18:57:10.018Z"
   },
   {
    "duration": 142,
    "start_time": "2022-05-07T18:57:10.230Z"
   },
   {
    "duration": 40,
    "start_time": "2022-05-07T18:57:10.374Z"
   },
   {
    "duration": 195,
    "start_time": "2022-05-07T18:57:10.417Z"
   },
   {
    "duration": 38,
    "start_time": "2022-05-07T18:57:10.614Z"
   },
   {
    "duration": 7,
    "start_time": "2022-05-07T18:57:10.655Z"
   },
   {
    "duration": 47,
    "start_time": "2022-05-07T18:57:10.667Z"
   },
   {
    "duration": 103,
    "start_time": "2022-05-07T18:57:10.717Z"
   },
   {
    "duration": 69,
    "start_time": "2022-05-07T18:57:10.823Z"
   },
   {
    "duration": 52,
    "start_time": "2022-05-07T18:57:10.895Z"
   },
   {
    "duration": 48,
    "start_time": "2022-05-07T18:57:10.950Z"
   },
   {
    "duration": 56,
    "start_time": "2022-05-07T18:57:11.001Z"
   },
   {
    "duration": 55,
    "start_time": "2022-05-07T18:57:11.060Z"
   },
   {
    "duration": 28,
    "start_time": "2022-05-07T18:57:11.118Z"
   },
   {
    "duration": 54,
    "start_time": "2022-05-07T18:57:11.148Z"
   },
   {
    "duration": 40,
    "start_time": "2022-05-07T18:57:11.204Z"
   },
   {
    "duration": 14,
    "start_time": "2022-05-07T18:57:11.246Z"
   },
   {
    "duration": 56,
    "start_time": "2022-05-07T18:57:11.262Z"
   },
   {
    "duration": 5,
    "start_time": "2022-05-07T18:57:11.320Z"
   },
   {
    "duration": 200,
    "start_time": "2022-05-07T18:57:11.327Z"
   },
   {
    "duration": 203,
    "start_time": "2022-05-07T18:57:11.530Z"
   },
   {
    "duration": 0,
    "start_time": "2022-05-07T18:57:11.736Z"
   },
   {
    "duration": 0,
    "start_time": "2022-05-07T18:57:11.737Z"
   },
   {
    "duration": 0,
    "start_time": "2022-05-07T18:57:11.739Z"
   },
   {
    "duration": 0,
    "start_time": "2022-05-07T18:57:11.740Z"
   },
   {
    "duration": 1,
    "start_time": "2022-05-07T18:57:11.741Z"
   },
   {
    "duration": 612,
    "start_time": "2022-05-07T18:57:22.935Z"
   },
   {
    "duration": 132,
    "start_time": "2022-05-07T19:03:09.732Z"
   },
   {
    "duration": 662,
    "start_time": "2022-05-07T19:04:35.006Z"
   },
   {
    "duration": 79,
    "start_time": "2022-05-07T19:04:35.671Z"
   },
   {
    "duration": 274,
    "start_time": "2022-05-07T19:04:35.753Z"
   },
   {
    "duration": 202,
    "start_time": "2022-05-07T19:04:36.031Z"
   },
   {
    "duration": 211,
    "start_time": "2022-05-07T19:04:36.236Z"
   },
   {
    "duration": 35,
    "start_time": "2022-05-07T19:04:36.449Z"
   },
   {
    "duration": 225,
    "start_time": "2022-05-07T19:04:36.493Z"
   },
   {
    "duration": 94,
    "start_time": "2022-05-07T19:04:36.721Z"
   },
   {
    "duration": 6,
    "start_time": "2022-05-07T19:04:36.818Z"
   },
   {
    "duration": 80,
    "start_time": "2022-05-07T19:04:36.829Z"
   },
   {
    "duration": 191,
    "start_time": "2022-05-07T19:04:36.912Z"
   },
   {
    "duration": 111,
    "start_time": "2022-05-07T19:04:37.106Z"
   },
   {
    "duration": 93,
    "start_time": "2022-05-07T19:04:37.220Z"
   },
   {
    "duration": 80,
    "start_time": "2022-05-07T19:04:37.316Z"
   },
   {
    "duration": 109,
    "start_time": "2022-05-07T19:04:37.399Z"
   },
   {
    "duration": 82,
    "start_time": "2022-05-07T19:04:37.511Z"
   },
   {
    "duration": 41,
    "start_time": "2022-05-07T19:04:37.596Z"
   },
   {
    "duration": 29,
    "start_time": "2022-05-07T19:04:37.695Z"
   },
   {
    "duration": 367,
    "start_time": "2022-05-07T19:04:37.727Z"
   },
   {
    "duration": 0,
    "start_time": "2022-05-07T19:04:38.097Z"
   },
   {
    "duration": 0,
    "start_time": "2022-05-07T19:04:38.099Z"
   },
   {
    "duration": 0,
    "start_time": "2022-05-07T19:04:38.101Z"
   },
   {
    "duration": 0,
    "start_time": "2022-05-07T19:04:38.102Z"
   },
   {
    "duration": 0,
    "start_time": "2022-05-07T19:04:38.104Z"
   },
   {
    "duration": 0,
    "start_time": "2022-05-07T19:04:38.105Z"
   },
   {
    "duration": 11,
    "start_time": "2022-05-07T19:04:59.044Z"
   },
   {
    "duration": 718,
    "start_time": "2022-05-07T19:05:06.049Z"
   },
   {
    "duration": 83,
    "start_time": "2022-05-07T19:05:06.771Z"
   },
   {
    "duration": 364,
    "start_time": "2022-05-07T19:05:06.856Z"
   },
   {
    "duration": 600,
    "start_time": "2022-05-07T19:05:07.223Z"
   },
   {
    "duration": 468,
    "start_time": "2022-05-07T19:05:07.827Z"
   },
   {
    "duration": 95,
    "start_time": "2022-05-07T19:05:08.298Z"
   },
   {
    "duration": 415,
    "start_time": "2022-05-07T19:05:08.396Z"
   },
   {
    "duration": 91,
    "start_time": "2022-05-07T19:05:08.814Z"
   },
   {
    "duration": 6,
    "start_time": "2022-05-07T19:05:08.908Z"
   },
   {
    "duration": 79,
    "start_time": "2022-05-07T19:05:08.917Z"
   },
   {
    "duration": 133,
    "start_time": "2022-05-07T19:05:08.999Z"
   },
   {
    "duration": 95,
    "start_time": "2022-05-07T19:05:09.134Z"
   },
   {
    "duration": 109,
    "start_time": "2022-05-07T19:05:09.232Z"
   },
   {
    "duration": 64,
    "start_time": "2022-05-07T19:05:09.344Z"
   },
   {
    "duration": 99,
    "start_time": "2022-05-07T19:05:09.411Z"
   },
   {
    "duration": 89,
    "start_time": "2022-05-07T19:05:09.512Z"
   },
   {
    "duration": 98,
    "start_time": "2022-05-07T19:05:09.604Z"
   },
   {
    "duration": 90,
    "start_time": "2022-05-07T19:05:09.705Z"
   },
   {
    "duration": 317,
    "start_time": "2022-05-07T19:05:09.797Z"
   },
   {
    "duration": 0,
    "start_time": "2022-05-07T19:05:10.117Z"
   },
   {
    "duration": 0,
    "start_time": "2022-05-07T19:05:10.119Z"
   },
   {
    "duration": 0,
    "start_time": "2022-05-07T19:05:10.122Z"
   },
   {
    "duration": 0,
    "start_time": "2022-05-07T19:05:10.124Z"
   },
   {
    "duration": 0,
    "start_time": "2022-05-07T19:05:10.126Z"
   },
   {
    "duration": 0,
    "start_time": "2022-05-07T19:05:10.128Z"
   },
   {
    "duration": 49,
    "start_time": "2022-05-07T19:05:38.553Z"
   },
   {
    "duration": 687,
    "start_time": "2022-05-07T19:05:46.165Z"
   },
   {
    "duration": 66,
    "start_time": "2022-05-07T19:05:46.855Z"
   },
   {
    "duration": 305,
    "start_time": "2022-05-07T19:05:46.924Z"
   },
   {
    "duration": 304,
    "start_time": "2022-05-07T19:05:47.233Z"
   },
   {
    "duration": 169,
    "start_time": "2022-05-07T19:05:47.540Z"
   },
   {
    "duration": 38,
    "start_time": "2022-05-07T19:05:47.711Z"
   },
   {
    "duration": 247,
    "start_time": "2022-05-07T19:05:47.752Z"
   },
   {
    "duration": 38,
    "start_time": "2022-05-07T19:05:48.001Z"
   },
   {
    "duration": 6,
    "start_time": "2022-05-07T19:05:48.042Z"
   },
   {
    "duration": 51,
    "start_time": "2022-05-07T19:05:48.053Z"
   },
   {
    "duration": 70,
    "start_time": "2022-05-07T19:05:48.107Z"
   },
   {
    "duration": 47,
    "start_time": "2022-05-07T19:05:48.193Z"
   },
   {
    "duration": 64,
    "start_time": "2022-05-07T19:05:48.243Z"
   },
   {
    "duration": 21,
    "start_time": "2022-05-07T19:05:48.309Z"
   },
   {
    "duration": 79,
    "start_time": "2022-05-07T19:05:48.333Z"
   },
   {
    "duration": 32,
    "start_time": "2022-05-07T19:05:48.415Z"
   },
   {
    "duration": 62,
    "start_time": "2022-05-07T19:05:48.449Z"
   },
   {
    "duration": 30,
    "start_time": "2022-05-07T19:05:48.513Z"
   },
   {
    "duration": 70,
    "start_time": "2022-05-07T19:05:48.545Z"
   },
   {
    "duration": 19,
    "start_time": "2022-05-07T19:05:48.617Z"
   },
   {
    "duration": 66,
    "start_time": "2022-05-07T19:05:48.639Z"
   },
   {
    "duration": 9,
    "start_time": "2022-05-07T19:05:48.707Z"
   },
   {
    "duration": 197,
    "start_time": "2022-05-07T19:05:48.719Z"
   },
   {
    "duration": 46,
    "start_time": "2022-05-07T19:05:48.919Z"
   },
   {
    "duration": 198,
    "start_time": "2022-05-07T19:05:48.967Z"
   },
   {
    "duration": 31,
    "start_time": "2022-05-07T19:06:41.006Z"
   },
   {
    "duration": 96,
    "start_time": "2022-05-07T19:08:13.204Z"
   },
   {
    "duration": 18,
    "start_time": "2022-05-07T19:08:27.410Z"
   },
   {
    "duration": 685,
    "start_time": "2022-05-07T19:09:26.312Z"
   },
   {
    "duration": 245,
    "start_time": "2022-05-07T19:10:38.107Z"
   },
   {
    "duration": 243,
    "start_time": "2022-05-07T19:13:16.161Z"
   },
   {
    "duration": 211,
    "start_time": "2022-05-07T19:13:18.759Z"
   },
   {
    "duration": 24,
    "start_time": "2022-05-07T19:13:31.216Z"
   },
   {
    "duration": 11,
    "start_time": "2022-05-07T19:13:41.377Z"
   },
   {
    "duration": 33,
    "start_time": "2022-05-07T19:13:59.790Z"
   },
   {
    "duration": 683,
    "start_time": "2022-05-07T19:14:13.648Z"
   },
   {
    "duration": 89,
    "start_time": "2022-05-07T19:14:14.335Z"
   },
   {
    "duration": 241,
    "start_time": "2022-05-07T19:14:14.426Z"
   },
   {
    "duration": 205,
    "start_time": "2022-05-07T19:14:14.670Z"
   },
   {
    "duration": 150,
    "start_time": "2022-05-07T19:14:14.877Z"
   },
   {
    "duration": 36,
    "start_time": "2022-05-07T19:14:15.029Z"
   },
   {
    "duration": 227,
    "start_time": "2022-05-07T19:14:15.068Z"
   },
   {
    "duration": 38,
    "start_time": "2022-05-07T19:14:15.297Z"
   },
   {
    "duration": 6,
    "start_time": "2022-05-07T19:14:15.338Z"
   },
   {
    "duration": 50,
    "start_time": "2022-05-07T19:14:15.350Z"
   },
   {
    "duration": 105,
    "start_time": "2022-05-07T19:14:15.403Z"
   },
   {
    "duration": 60,
    "start_time": "2022-05-07T19:14:15.511Z"
   },
   {
    "duration": 71,
    "start_time": "2022-05-07T19:14:15.574Z"
   },
   {
    "duration": 49,
    "start_time": "2022-05-07T19:14:15.648Z"
   },
   {
    "duration": 55,
    "start_time": "2022-05-07T19:14:15.700Z"
   },
   {
    "duration": 61,
    "start_time": "2022-05-07T19:14:15.758Z"
   },
   {
    "duration": 37,
    "start_time": "2022-05-07T19:14:15.821Z"
   },
   {
    "duration": 58,
    "start_time": "2022-05-07T19:14:15.861Z"
   },
   {
    "duration": 76,
    "start_time": "2022-05-07T19:14:15.922Z"
   },
   {
    "duration": 19,
    "start_time": "2022-05-07T19:14:16.001Z"
   },
   {
    "duration": 71,
    "start_time": "2022-05-07T19:14:16.023Z"
   },
   {
    "duration": 8,
    "start_time": "2022-05-07T19:14:16.097Z"
   },
   {
    "duration": 193,
    "start_time": "2022-05-07T19:14:16.108Z"
   },
   {
    "duration": 40,
    "start_time": "2022-05-07T19:14:16.304Z"
   },
   {
    "duration": 69,
    "start_time": "2022-05-07T19:14:16.347Z"
   },
   {
    "duration": 23,
    "start_time": "2022-05-07T19:14:16.419Z"
   },
   {
    "duration": 129,
    "start_time": "2022-05-07T19:14:16.445Z"
   },
   {
    "duration": 19,
    "start_time": "2022-05-07T19:14:54.943Z"
   },
   {
    "duration": 26,
    "start_time": "2022-05-07T19:15:35.067Z"
   },
   {
    "duration": 603,
    "start_time": "2022-05-12T06:50:16.192Z"
   },
   {
    "duration": 47,
    "start_time": "2022-05-12T06:50:16.801Z"
   },
   {
    "duration": 207,
    "start_time": "2022-05-12T06:50:16.850Z"
   },
   {
    "duration": 203,
    "start_time": "2022-05-12T06:50:17.059Z"
   },
   {
    "duration": 148,
    "start_time": "2022-05-12T06:50:17.264Z"
   },
   {
    "duration": 20,
    "start_time": "2022-05-12T06:50:17.414Z"
   },
   {
    "duration": 146,
    "start_time": "2022-05-12T06:50:17.435Z"
   },
   {
    "duration": 40,
    "start_time": "2022-05-12T06:50:17.584Z"
   },
   {
    "duration": 4,
    "start_time": "2022-05-12T06:50:17.626Z"
   },
   {
    "duration": 18,
    "start_time": "2022-05-12T06:50:17.632Z"
   },
   {
    "duration": 72,
    "start_time": "2022-05-12T06:50:17.651Z"
   },
   {
    "duration": 29,
    "start_time": "2022-05-12T06:50:17.725Z"
   },
   {
    "duration": 35,
    "start_time": "2022-05-12T06:50:17.756Z"
   },
   {
    "duration": 23,
    "start_time": "2022-05-12T06:50:17.794Z"
   },
   {
    "duration": 28,
    "start_time": "2022-05-12T06:50:17.819Z"
   },
   {
    "duration": 39,
    "start_time": "2022-05-12T06:50:17.849Z"
   },
   {
    "duration": 33,
    "start_time": "2022-05-12T06:50:17.889Z"
   },
   {
    "duration": 18,
    "start_time": "2022-05-12T06:50:17.923Z"
   },
   {
    "duration": 49,
    "start_time": "2022-05-12T06:50:17.943Z"
   },
   {
    "duration": 16,
    "start_time": "2022-05-12T06:50:17.994Z"
   },
   {
    "duration": 28,
    "start_time": "2022-05-12T06:50:18.014Z"
   },
   {
    "duration": 4,
    "start_time": "2022-05-12T06:50:18.044Z"
   },
   {
    "duration": 150,
    "start_time": "2022-05-12T06:50:18.050Z"
   },
   {
    "duration": 29,
    "start_time": "2022-05-12T06:50:18.201Z"
   },
   {
    "duration": 18,
    "start_time": "2022-05-12T06:50:18.232Z"
   },
   {
    "duration": 32,
    "start_time": "2022-05-12T06:50:18.252Z"
   },
   {
    "duration": 86,
    "start_time": "2022-05-12T06:50:18.286Z"
   },
   {
    "duration": 509,
    "start_time": "2022-05-12T07:02:50.913Z"
   },
   {
    "duration": 37,
    "start_time": "2022-05-12T07:02:51.424Z"
   },
   {
    "duration": 187,
    "start_time": "2022-05-12T07:02:51.463Z"
   },
   {
    "duration": 173,
    "start_time": "2022-05-12T07:02:51.653Z"
   },
   {
    "duration": 112,
    "start_time": "2022-05-12T07:02:51.828Z"
   },
   {
    "duration": 21,
    "start_time": "2022-05-12T07:02:51.942Z"
   },
   {
    "duration": 134,
    "start_time": "2022-05-12T07:02:51.977Z"
   },
   {
    "duration": 20,
    "start_time": "2022-05-12T07:02:52.113Z"
   },
   {
    "duration": 4,
    "start_time": "2022-05-12T07:02:52.135Z"
   },
   {
    "duration": 14,
    "start_time": "2022-05-12T07:02:52.141Z"
   },
   {
    "duration": 55,
    "start_time": "2022-05-12T07:02:52.172Z"
   },
   {
    "duration": 29,
    "start_time": "2022-05-12T07:02:52.228Z"
   },
   {
    "duration": 44,
    "start_time": "2022-05-12T07:02:52.270Z"
   },
   {
    "duration": 12,
    "start_time": "2022-05-12T07:02:52.317Z"
   },
   {
    "duration": 26,
    "start_time": "2022-05-12T07:02:52.331Z"
   },
   {
    "duration": 35,
    "start_time": "2022-05-12T07:02:52.359Z"
   },
   {
    "duration": 32,
    "start_time": "2022-05-12T07:02:52.400Z"
   },
   {
    "duration": 15,
    "start_time": "2022-05-12T07:02:52.434Z"
   },
   {
    "duration": 30,
    "start_time": "2022-05-12T07:02:52.451Z"
   },
   {
    "duration": 15,
    "start_time": "2022-05-12T07:02:52.484Z"
   },
   {
    "duration": 29,
    "start_time": "2022-05-12T07:02:52.501Z"
   },
   {
    "duration": 3,
    "start_time": "2022-05-12T07:02:52.532Z"
   },
   {
    "duration": 115,
    "start_time": "2022-05-12T07:02:52.537Z"
   },
   {
    "duration": 41,
    "start_time": "2022-05-12T07:02:52.654Z"
   },
   {
    "duration": 25,
    "start_time": "2022-05-12T07:02:52.696Z"
   },
   {
    "duration": 15,
    "start_time": "2022-05-12T07:02:52.723Z"
   },
   {
    "duration": 85,
    "start_time": "2022-05-12T07:02:52.739Z"
   },
   {
    "duration": 7,
    "start_time": "2022-05-12T07:03:06.757Z"
   },
   {
    "duration": 14,
    "start_time": "2022-05-12T07:03:19.330Z"
   },
   {
    "duration": 7,
    "start_time": "2022-05-12T07:05:36.604Z"
   },
   {
    "duration": 11,
    "start_time": "2022-05-12T07:05:44.449Z"
   },
   {
    "duration": 14,
    "start_time": "2022-05-12T07:06:40.895Z"
   },
   {
    "duration": 23,
    "start_time": "2022-05-12T07:07:16.301Z"
   },
   {
    "duration": 449,
    "start_time": "2022-05-12T07:07:29.510Z"
   },
   {
    "duration": 66,
    "start_time": "2022-05-12T07:07:29.961Z"
   },
   {
    "duration": 190,
    "start_time": "2022-05-12T07:07:30.029Z"
   },
   {
    "duration": 143,
    "start_time": "2022-05-12T07:07:30.221Z"
   },
   {
    "duration": 105,
    "start_time": "2022-05-12T07:07:30.370Z"
   },
   {
    "duration": 31,
    "start_time": "2022-05-12T07:07:30.479Z"
   },
   {
    "duration": 116,
    "start_time": "2022-05-12T07:07:30.512Z"
   },
   {
    "duration": 20,
    "start_time": "2022-05-12T07:07:30.630Z"
   },
   {
    "duration": 4,
    "start_time": "2022-05-12T07:07:30.651Z"
   },
   {
    "duration": 38,
    "start_time": "2022-05-12T07:07:30.657Z"
   },
   {
    "duration": 48,
    "start_time": "2022-05-12T07:07:30.697Z"
   },
   {
    "duration": 36,
    "start_time": "2022-05-12T07:07:30.746Z"
   },
   {
    "duration": 28,
    "start_time": "2022-05-12T07:07:30.784Z"
   },
   {
    "duration": 11,
    "start_time": "2022-05-12T07:07:30.816Z"
   },
   {
    "duration": 59,
    "start_time": "2022-05-12T07:07:30.829Z"
   },
   {
    "duration": 16,
    "start_time": "2022-05-12T07:07:30.889Z"
   },
   {
    "duration": 17,
    "start_time": "2022-05-12T07:07:30.907Z"
   },
   {
    "duration": 15,
    "start_time": "2022-05-12T07:07:30.926Z"
   },
   {
    "duration": 55,
    "start_time": "2022-05-12T07:07:30.943Z"
   },
   {
    "duration": 10,
    "start_time": "2022-05-12T07:07:31.001Z"
   },
   {
    "duration": 20,
    "start_time": "2022-05-12T07:07:31.013Z"
   },
   {
    "duration": 4,
    "start_time": "2022-05-12T07:07:31.035Z"
   },
   {
    "duration": 140,
    "start_time": "2022-05-12T07:07:31.040Z"
   },
   {
    "duration": 22,
    "start_time": "2022-05-12T07:07:31.182Z"
   },
   {
    "duration": 22,
    "start_time": "2022-05-12T07:07:31.205Z"
   },
   {
    "duration": 91,
    "start_time": "2022-05-12T07:07:31.229Z"
   },
   {
    "duration": 25,
    "start_time": "2022-05-12T07:08:38.213Z"
   },
   {
    "duration": 22,
    "start_time": "2022-05-12T07:08:47.290Z"
   },
   {
    "duration": 498,
    "start_time": "2022-05-12T07:08:55.154Z"
   },
   {
    "duration": 43,
    "start_time": "2022-05-12T07:08:55.654Z"
   },
   {
    "duration": 183,
    "start_time": "2022-05-12T07:08:55.699Z"
   },
   {
    "duration": 166,
    "start_time": "2022-05-12T07:08:55.884Z"
   },
   {
    "duration": 109,
    "start_time": "2022-05-12T07:08:56.052Z"
   },
   {
    "duration": 35,
    "start_time": "2022-05-12T07:08:56.163Z"
   },
   {
    "duration": 129,
    "start_time": "2022-05-12T07:08:56.201Z"
   },
   {
    "duration": 20,
    "start_time": "2022-05-12T07:08:56.332Z"
   },
   {
    "duration": 4,
    "start_time": "2022-05-12T07:08:56.354Z"
   },
   {
    "duration": 15,
    "start_time": "2022-05-12T07:08:56.376Z"
   },
   {
    "duration": 65,
    "start_time": "2022-05-12T07:08:56.396Z"
   },
   {
    "duration": 39,
    "start_time": "2022-05-12T07:08:56.462Z"
   },
   {
    "duration": 26,
    "start_time": "2022-05-12T07:08:56.505Z"
   },
   {
    "duration": 11,
    "start_time": "2022-05-12T07:08:56.533Z"
   },
   {
    "duration": 48,
    "start_time": "2022-05-12T07:08:56.546Z"
   },
   {
    "duration": 17,
    "start_time": "2022-05-12T07:08:56.595Z"
   },
   {
    "duration": 25,
    "start_time": "2022-05-12T07:08:56.614Z"
   },
   {
    "duration": 16,
    "start_time": "2022-05-12T07:08:56.640Z"
   },
   {
    "duration": 52,
    "start_time": "2022-05-12T07:08:56.658Z"
   },
   {
    "duration": 9,
    "start_time": "2022-05-12T07:08:56.712Z"
   },
   {
    "duration": 22,
    "start_time": "2022-05-12T07:08:56.723Z"
   },
   {
    "duration": 4,
    "start_time": "2022-05-12T07:08:56.746Z"
   },
   {
    "duration": 133,
    "start_time": "2022-05-12T07:08:56.752Z"
   },
   {
    "duration": 25,
    "start_time": "2022-05-12T07:08:56.894Z"
   },
   {
    "duration": 17,
    "start_time": "2022-05-12T07:08:56.921Z"
   },
   {
    "duration": 85,
    "start_time": "2022-05-12T07:08:56.940Z"
   },
   {
    "duration": 24,
    "start_time": "2022-05-12T07:09:07.051Z"
   },
   {
    "duration": 27,
    "start_time": "2022-05-12T07:09:35.488Z"
   },
   {
    "duration": 542,
    "start_time": "2022-05-12T07:13:21.741Z"
   },
   {
    "duration": 17,
    "start_time": "2022-05-12T07:15:40.322Z"
   },
   {
    "duration": 18,
    "start_time": "2022-05-12T07:15:51.197Z"
   },
   {
    "duration": 25,
    "start_time": "2022-05-12T07:15:55.001Z"
   },
   {
    "duration": 207,
    "start_time": "2022-05-12T07:15:59.698Z"
   },
   {
    "duration": 295,
    "start_time": "2022-05-12T07:16:19.698Z"
   },
   {
    "duration": 220,
    "start_time": "2022-05-12T07:16:30.950Z"
   },
   {
    "duration": 216,
    "start_time": "2022-05-12T07:16:33.809Z"
   },
   {
    "duration": 210,
    "start_time": "2022-05-12T07:16:37.202Z"
   },
   {
    "duration": 207,
    "start_time": "2022-05-12T07:16:49.699Z"
   },
   {
    "duration": 197,
    "start_time": "2022-05-12T07:16:53.495Z"
   },
   {
    "duration": 210,
    "start_time": "2022-05-12T07:16:58.069Z"
   },
   {
    "duration": 12,
    "start_time": "2022-05-12T07:17:08.627Z"
   },
   {
    "duration": 12,
    "start_time": "2022-05-12T07:17:14.097Z"
   },
   {
    "duration": 224,
    "start_time": "2022-05-12T07:18:37.188Z"
   },
   {
    "duration": 226,
    "start_time": "2022-05-12T07:18:45.076Z"
   },
   {
    "duration": 209,
    "start_time": "2022-05-12T07:18:58.323Z"
   },
   {
    "duration": 2,
    "start_time": "2022-05-12T07:21:26.745Z"
   },
   {
    "duration": 55,
    "start_time": "2022-05-12T07:21:26.749Z"
   },
   {
    "duration": 200,
    "start_time": "2022-05-12T07:21:26.810Z"
   },
   {
    "duration": 150,
    "start_time": "2022-05-12T07:21:27.016Z"
   },
   {
    "duration": 120,
    "start_time": "2022-05-12T07:21:27.171Z"
   },
   {
    "duration": 31,
    "start_time": "2022-05-12T07:21:27.293Z"
   },
   {
    "duration": 88,
    "start_time": "2022-05-12T07:21:27.326Z"
   },
   {
    "duration": 24,
    "start_time": "2022-05-12T07:21:27.416Z"
   },
   {
    "duration": 5,
    "start_time": "2022-05-12T07:21:27.446Z"
   },
   {
    "duration": 34,
    "start_time": "2022-05-12T07:21:27.453Z"
   },
   {
    "duration": 128,
    "start_time": "2022-05-12T07:21:27.489Z"
   },
   {
    "duration": 81,
    "start_time": "2022-05-12T07:21:27.619Z"
   },
   {
    "duration": 82,
    "start_time": "2022-05-12T07:21:27.709Z"
   },
   {
    "duration": 17,
    "start_time": "2022-05-12T07:21:27.793Z"
   },
   {
    "duration": 75,
    "start_time": "2022-05-12T07:21:27.814Z"
   },
   {
    "duration": 20,
    "start_time": "2022-05-12T07:21:27.907Z"
   },
   {
    "duration": 57,
    "start_time": "2022-05-12T07:21:27.929Z"
   },
   {
    "duration": 22,
    "start_time": "2022-05-12T07:21:27.988Z"
   },
   {
    "duration": 95,
    "start_time": "2022-05-12T07:21:28.011Z"
   },
   {
    "duration": 11,
    "start_time": "2022-05-12T07:21:28.110Z"
   },
   {
    "duration": 29,
    "start_time": "2022-05-12T07:21:28.174Z"
   },
   {
    "duration": 21,
    "start_time": "2022-05-12T07:21:28.205Z"
   },
   {
    "duration": 282,
    "start_time": "2022-05-12T07:21:28.228Z"
   },
   {
    "duration": 74,
    "start_time": "2022-05-12T07:21:28.512Z"
   },
   {
    "duration": 32,
    "start_time": "2022-05-12T07:21:28.594Z"
   },
   {
    "duration": 582,
    "start_time": "2022-05-12T07:21:28.627Z"
   },
   {
    "duration": 484,
    "start_time": "2022-05-12T07:21:29.213Z"
   },
   {
    "duration": 502,
    "start_time": "2022-05-12T07:21:29.704Z"
   },
   {
    "duration": 69,
    "start_time": "2022-05-12T07:21:30.208Z"
   },
   {
    "duration": 26,
    "start_time": "2022-05-12T07:21:30.279Z"
   },
   {
    "duration": 510,
    "start_time": "2022-05-12T07:21:30.307Z"
   },
   {
    "duration": 12,
    "start_time": "2022-05-12T07:22:30.057Z"
   },
   {
    "duration": 12,
    "start_time": "2022-05-12T07:22:35.486Z"
   },
   {
    "duration": 205,
    "start_time": "2022-05-12T07:22:49.397Z"
   },
   {
    "duration": 204,
    "start_time": "2022-05-12T07:24:09.304Z"
   },
   {
    "duration": 194,
    "start_time": "2022-05-12T07:25:05.094Z"
   },
   {
    "duration": 475,
    "start_time": "2022-05-12T07:25:13.407Z"
   },
   {
    "duration": 47,
    "start_time": "2022-05-12T07:25:13.887Z"
   },
   {
    "duration": 185,
    "start_time": "2022-05-12T07:25:13.935Z"
   },
   {
    "duration": 151,
    "start_time": "2022-05-12T07:25:14.122Z"
   },
   {
    "duration": 109,
    "start_time": "2022-05-12T07:25:14.276Z"
   },
   {
    "duration": 23,
    "start_time": "2022-05-12T07:25:14.387Z"
   },
   {
    "duration": 125,
    "start_time": "2022-05-12T07:25:14.412Z"
   },
   {
    "duration": 20,
    "start_time": "2022-05-12T07:25:14.539Z"
   },
   {
    "duration": 18,
    "start_time": "2022-05-12T07:25:14.561Z"
   },
   {
    "duration": 33,
    "start_time": "2022-05-12T07:25:14.580Z"
   },
   {
    "duration": 47,
    "start_time": "2022-05-12T07:25:14.615Z"
   },
   {
    "duration": 43,
    "start_time": "2022-05-12T07:25:14.663Z"
   },
   {
    "duration": 24,
    "start_time": "2022-05-12T07:25:14.707Z"
   },
   {
    "duration": 11,
    "start_time": "2022-05-12T07:25:14.734Z"
   },
   {
    "duration": 44,
    "start_time": "2022-05-12T07:25:14.747Z"
   },
   {
    "duration": 15,
    "start_time": "2022-05-12T07:25:14.793Z"
   },
   {
    "duration": 18,
    "start_time": "2022-05-12T07:25:14.810Z"
   },
   {
    "duration": 16,
    "start_time": "2022-05-12T07:25:14.829Z"
   },
   {
    "duration": 57,
    "start_time": "2022-05-12T07:25:14.847Z"
   },
   {
    "duration": 9,
    "start_time": "2022-05-12T07:25:14.906Z"
   },
   {
    "duration": 19,
    "start_time": "2022-05-12T07:25:14.916Z"
   },
   {
    "duration": 3,
    "start_time": "2022-05-12T07:25:14.937Z"
   },
   {
    "duration": 134,
    "start_time": "2022-05-12T07:25:14.942Z"
   },
   {
    "duration": 19,
    "start_time": "2022-05-12T07:25:15.077Z"
   },
   {
    "duration": 16,
    "start_time": "2022-05-12T07:25:15.098Z"
   },
   {
    "duration": 340,
    "start_time": "2022-05-12T07:25:15.115Z"
   },
   {
    "duration": 209,
    "start_time": "2022-05-12T07:25:15.457Z"
   },
   {
    "duration": 251,
    "start_time": "2022-05-12T07:25:15.667Z"
   },
   {
    "duration": 11,
    "start_time": "2022-05-12T07:25:15.920Z"
   },
   {
    "duration": 13,
    "start_time": "2022-05-12T07:25:15.932Z"
   },
   {
    "duration": 211,
    "start_time": "2022-05-12T07:25:15.947Z"
   },
   {
    "duration": 213,
    "start_time": "2022-05-12T07:25:16.161Z"
   },
   {
    "duration": 217,
    "start_time": "2022-05-12T07:25:16.376Z"
   },
   {
    "duration": 190,
    "start_time": "2022-05-12T07:25:27.494Z"
   },
   {
    "duration": 200,
    "start_time": "2022-05-12T07:25:39.660Z"
   },
   {
    "duration": 202,
    "start_time": "2022-05-12T07:25:43.643Z"
   },
   {
    "duration": 206,
    "start_time": "2022-05-12T07:25:47.290Z"
   },
   {
    "duration": 194,
    "start_time": "2022-05-12T07:25:52.910Z"
   },
   {
    "duration": 6,
    "start_time": "2022-05-12T07:36:58.955Z"
   },
   {
    "duration": 84,
    "start_time": "2022-05-12T07:41:02.665Z"
   },
   {
    "duration": 7,
    "start_time": "2022-05-12T07:41:12.852Z"
   },
   {
    "duration": 5,
    "start_time": "2022-05-12T07:44:28.947Z"
   },
   {
    "duration": 5,
    "start_time": "2022-05-12T07:45:00.186Z"
   },
   {
    "duration": 6,
    "start_time": "2022-05-12T07:45:40.199Z"
   },
   {
    "duration": 5,
    "start_time": "2022-05-12T07:45:54.095Z"
   },
   {
    "duration": 6,
    "start_time": "2022-05-12T07:45:59.717Z"
   },
   {
    "duration": 6,
    "start_time": "2022-05-12T07:46:46.715Z"
   },
   {
    "duration": 6,
    "start_time": "2022-05-12T07:47:22.944Z"
   },
   {
    "duration": 6,
    "start_time": "2022-05-12T07:54:58.987Z"
   },
   {
    "duration": 7,
    "start_time": "2022-05-12T07:55:26.096Z"
   },
   {
    "duration": 5,
    "start_time": "2022-05-12T07:55:56.266Z"
   },
   {
    "duration": 5,
    "start_time": "2022-05-12T07:56:12.627Z"
   },
   {
    "duration": 16,
    "start_time": "2022-05-12T08:01:56.300Z"
   },
   {
    "duration": 587,
    "start_time": "2022-05-12T08:02:02.749Z"
   },
   {
    "duration": 53,
    "start_time": "2022-05-12T08:02:03.338Z"
   },
   {
    "duration": 225,
    "start_time": "2022-05-12T08:02:03.393Z"
   },
   {
    "duration": 164,
    "start_time": "2022-05-12T08:02:03.620Z"
   },
   {
    "duration": 149,
    "start_time": "2022-05-12T08:02:03.787Z"
   },
   {
    "duration": 35,
    "start_time": "2022-05-12T08:02:03.938Z"
   },
   {
    "duration": 143,
    "start_time": "2022-05-12T08:02:03.975Z"
   },
   {
    "duration": 21,
    "start_time": "2022-05-12T08:02:04.120Z"
   },
   {
    "duration": 4,
    "start_time": "2022-05-12T08:02:04.143Z"
   },
   {
    "duration": 26,
    "start_time": "2022-05-12T08:02:04.149Z"
   },
   {
    "duration": 57,
    "start_time": "2022-05-12T08:02:04.176Z"
   },
   {
    "duration": 55,
    "start_time": "2022-05-12T08:02:04.234Z"
   },
   {
    "duration": 34,
    "start_time": "2022-05-12T08:02:04.290Z"
   },
   {
    "duration": 14,
    "start_time": "2022-05-12T08:02:04.326Z"
   },
   {
    "duration": 59,
    "start_time": "2022-05-12T08:02:04.342Z"
   },
   {
    "duration": 16,
    "start_time": "2022-05-12T08:02:04.406Z"
   },
   {
    "duration": 19,
    "start_time": "2022-05-12T08:02:04.423Z"
   },
   {
    "duration": 32,
    "start_time": "2022-05-12T08:02:04.443Z"
   },
   {
    "duration": 39,
    "start_time": "2022-05-12T08:02:04.477Z"
   },
   {
    "duration": 9,
    "start_time": "2022-05-12T08:02:04.519Z"
   },
   {
    "duration": 22,
    "start_time": "2022-05-12T08:02:04.530Z"
   },
   {
    "duration": 33,
    "start_time": "2022-05-12T08:02:04.554Z"
   },
   {
    "duration": 127,
    "start_time": "2022-05-12T08:02:04.592Z"
   },
   {
    "duration": 14,
    "start_time": "2022-05-12T08:02:04.721Z"
   },
   {
    "duration": 12,
    "start_time": "2022-05-12T08:02:04.737Z"
   },
   {
    "duration": 379,
    "start_time": "2022-05-12T08:02:04.751Z"
   },
   {
    "duration": 221,
    "start_time": "2022-05-12T08:02:05.131Z"
   },
   {
    "duration": 315,
    "start_time": "2022-05-12T08:02:05.355Z"
   },
   {
    "duration": 12,
    "start_time": "2022-05-12T08:02:05.672Z"
   },
   {
    "duration": 31,
    "start_time": "2022-05-12T08:02:05.686Z"
   },
   {
    "duration": 209,
    "start_time": "2022-05-12T08:02:05.719Z"
   },
   {
    "duration": 230,
    "start_time": "2022-05-12T08:02:05.929Z"
   },
   {
    "duration": 205,
    "start_time": "2022-05-12T08:02:06.161Z"
   },
   {
    "duration": 8,
    "start_time": "2022-05-12T08:02:06.368Z"
   },
   {
    "duration": 34,
    "start_time": "2022-05-12T08:02:06.377Z"
   },
   {
    "duration": 6,
    "start_time": "2022-05-12T08:02:06.412Z"
   },
   {
    "duration": 6,
    "start_time": "2022-05-12T08:02:06.420Z"
   },
   {
    "duration": 2388,
    "start_time": "2022-05-12T08:22:33.012Z"
   },
   {
    "duration": 2455,
    "start_time": "2022-05-12T08:22:40.981Z"
   },
   {
    "duration": 8,
    "start_time": "2022-05-12T08:23:16.711Z"
   },
   {
    "duration": 31,
    "start_time": "2022-05-12T08:24:31.097Z"
   },
   {
    "duration": 31,
    "start_time": "2022-05-12T08:26:04.061Z"
   },
   {
    "duration": 531,
    "start_time": "2022-05-12T08:26:13.083Z"
   },
   {
    "duration": 61,
    "start_time": "2022-05-12T08:26:13.616Z"
   },
   {
    "duration": 235,
    "start_time": "2022-05-12T08:26:13.679Z"
   },
   {
    "duration": 200,
    "start_time": "2022-05-12T08:26:13.917Z"
   },
   {
    "duration": 110,
    "start_time": "2022-05-12T08:26:14.119Z"
   },
   {
    "duration": 48,
    "start_time": "2022-05-12T08:26:14.231Z"
   },
   {
    "duration": 149,
    "start_time": "2022-05-12T08:26:14.281Z"
   },
   {
    "duration": 27,
    "start_time": "2022-05-12T08:26:14.432Z"
   },
   {
    "duration": 18,
    "start_time": "2022-05-12T08:26:14.460Z"
   },
   {
    "duration": 31,
    "start_time": "2022-05-12T08:26:14.481Z"
   },
   {
    "duration": 64,
    "start_time": "2022-05-12T08:26:14.514Z"
   },
   {
    "duration": 41,
    "start_time": "2022-05-12T08:26:14.580Z"
   },
   {
    "duration": 35,
    "start_time": "2022-05-12T08:26:14.623Z"
   },
   {
    "duration": 21,
    "start_time": "2022-05-12T08:26:14.675Z"
   },
   {
    "duration": 31,
    "start_time": "2022-05-12T08:26:14.698Z"
   },
   {
    "duration": 22,
    "start_time": "2022-05-12T08:26:14.731Z"
   },
   {
    "duration": 26,
    "start_time": "2022-05-12T08:26:14.779Z"
   },
   {
    "duration": 18,
    "start_time": "2022-05-12T08:26:14.807Z"
   },
   {
    "duration": 67,
    "start_time": "2022-05-12T08:26:14.827Z"
   },
   {
    "duration": 11,
    "start_time": "2022-05-12T08:26:14.896Z"
   },
   {
    "duration": 24,
    "start_time": "2022-05-12T08:26:14.909Z"
   },
   {
    "duration": 5,
    "start_time": "2022-05-12T08:26:14.934Z"
   },
   {
    "duration": 202,
    "start_time": "2022-05-12T08:26:14.940Z"
   },
   {
    "duration": 13,
    "start_time": "2022-05-12T08:26:15.144Z"
   },
   {
    "duration": 33,
    "start_time": "2022-05-12T08:26:15.158Z"
   },
   {
    "duration": 467,
    "start_time": "2022-05-12T08:26:15.193Z"
   },
   {
    "duration": 301,
    "start_time": "2022-05-12T08:26:15.662Z"
   },
   {
    "duration": 365,
    "start_time": "2022-05-12T08:26:15.972Z"
   },
   {
    "duration": 15,
    "start_time": "2022-05-12T08:26:16.339Z"
   },
   {
    "duration": 35,
    "start_time": "2022-05-12T08:26:16.356Z"
   },
   {
    "duration": 214,
    "start_time": "2022-05-12T08:26:16.393Z"
   },
   {
    "duration": 213,
    "start_time": "2022-05-12T08:26:16.609Z"
   },
   {
    "duration": 208,
    "start_time": "2022-05-12T08:26:16.824Z"
   },
   {
    "duration": 6,
    "start_time": "2022-05-12T08:26:17.034Z"
   },
   {
    "duration": 8,
    "start_time": "2022-05-12T08:26:17.042Z"
   },
   {
    "duration": 17,
    "start_time": "2022-05-12T08:26:17.071Z"
   },
   {
    "duration": 17,
    "start_time": "2022-05-12T08:26:17.090Z"
   },
   {
    "duration": 102,
    "start_time": "2022-05-12T08:26:17.109Z"
   },
   {
    "duration": 6,
    "start_time": "2022-05-12T08:27:42.741Z"
   },
   {
    "duration": 29,
    "start_time": "2022-05-12T08:27:50.487Z"
   },
   {
    "duration": 7,
    "start_time": "2022-05-12T08:28:14.423Z"
   },
   {
    "duration": 15,
    "start_time": "2022-05-12T08:28:59.782Z"
   },
   {
    "duration": 8,
    "start_time": "2022-05-12T08:31:20.664Z"
   },
   {
    "duration": 10,
    "start_time": "2022-05-12T08:32:38.390Z"
   },
   {
    "duration": 534,
    "start_time": "2022-05-12T08:32:44.763Z"
   },
   {
    "duration": 46,
    "start_time": "2022-05-12T08:32:45.299Z"
   },
   {
    "duration": 205,
    "start_time": "2022-05-12T08:32:45.346Z"
   },
   {
    "duration": 161,
    "start_time": "2022-05-12T08:32:45.554Z"
   },
   {
    "duration": 106,
    "start_time": "2022-05-12T08:32:45.717Z"
   },
   {
    "duration": 20,
    "start_time": "2022-05-12T08:32:45.825Z"
   },
   {
    "duration": 116,
    "start_time": "2022-05-12T08:32:45.846Z"
   },
   {
    "duration": 26,
    "start_time": "2022-05-12T08:32:45.970Z"
   },
   {
    "duration": 7,
    "start_time": "2022-05-12T08:32:45.998Z"
   },
   {
    "duration": 16,
    "start_time": "2022-05-12T08:32:46.008Z"
   },
   {
    "duration": 79,
    "start_time": "2022-05-12T08:32:46.025Z"
   },
   {
    "duration": 31,
    "start_time": "2022-05-12T08:32:46.106Z"
   },
   {
    "duration": 41,
    "start_time": "2022-05-12T08:32:46.138Z"
   },
   {
    "duration": 15,
    "start_time": "2022-05-12T08:32:46.181Z"
   },
   {
    "duration": 28,
    "start_time": "2022-05-12T08:32:46.198Z"
   },
   {
    "duration": 14,
    "start_time": "2022-05-12T08:32:46.228Z"
   },
   {
    "duration": 22,
    "start_time": "2022-05-12T08:32:46.277Z"
   },
   {
    "duration": 16,
    "start_time": "2022-05-12T08:32:46.301Z"
   },
   {
    "duration": 25,
    "start_time": "2022-05-12T08:32:46.319Z"
   },
   {
    "duration": 31,
    "start_time": "2022-05-12T08:32:46.346Z"
   },
   {
    "duration": 22,
    "start_time": "2022-05-12T08:32:46.380Z"
   },
   {
    "duration": 4,
    "start_time": "2022-05-12T08:32:46.404Z"
   },
   {
    "duration": 119,
    "start_time": "2022-05-12T08:32:46.409Z"
   },
   {
    "duration": 11,
    "start_time": "2022-05-12T08:32:46.529Z"
   },
   {
    "duration": 11,
    "start_time": "2022-05-12T08:32:46.542Z"
   },
   {
    "duration": 353,
    "start_time": "2022-05-12T08:32:46.555Z"
   },
   {
    "duration": 208,
    "start_time": "2022-05-12T08:32:46.910Z"
   },
   {
    "duration": 268,
    "start_time": "2022-05-12T08:32:47.121Z"
   },
   {
    "duration": 11,
    "start_time": "2022-05-12T08:32:47.390Z"
   },
   {
    "duration": 11,
    "start_time": "2022-05-12T08:32:47.402Z"
   },
   {
    "duration": 204,
    "start_time": "2022-05-12T08:32:47.415Z"
   },
   {
    "duration": 212,
    "start_time": "2022-05-12T08:32:47.621Z"
   },
   {
    "duration": 212,
    "start_time": "2022-05-12T08:32:47.835Z"
   },
   {
    "duration": 6,
    "start_time": "2022-05-12T08:32:48.049Z"
   },
   {
    "duration": 20,
    "start_time": "2022-05-12T08:32:48.056Z"
   },
   {
    "duration": 14,
    "start_time": "2022-05-12T08:32:48.077Z"
   },
   {
    "duration": 12,
    "start_time": "2022-05-12T08:32:48.094Z"
   },
   {
    "duration": 26,
    "start_time": "2022-05-12T08:32:48.107Z"
   },
   {
    "duration": 82,
    "start_time": "2022-05-12T08:32:48.135Z"
   },
   {
    "duration": 11,
    "start_time": "2022-05-12T08:33:12.724Z"
   },
   {
    "duration": 12,
    "start_time": "2022-05-12T08:37:19.939Z"
   },
   {
    "duration": 8,
    "start_time": "2022-05-12T08:37:45.299Z"
   },
   {
    "duration": 363,
    "start_time": "2022-05-12T08:38:10.911Z"
   },
   {
    "duration": 5,
    "start_time": "2022-05-12T08:38:14.517Z"
   },
   {
    "duration": 1026,
    "start_time": "2022-05-12T08:38:58.435Z"
   },
   {
    "duration": 55,
    "start_time": "2022-05-12T08:38:59.463Z"
   },
   {
    "duration": 176,
    "start_time": "2022-05-12T08:38:59.520Z"
   },
   {
    "duration": 147,
    "start_time": "2022-05-12T08:38:59.698Z"
   },
   {
    "duration": 105,
    "start_time": "2022-05-12T08:38:59.848Z"
   },
   {
    "duration": 31,
    "start_time": "2022-05-12T08:38:59.955Z"
   },
   {
    "duration": 85,
    "start_time": "2022-05-12T08:38:59.989Z"
   },
   {
    "duration": 23,
    "start_time": "2022-05-12T08:39:00.076Z"
   },
   {
    "duration": 5,
    "start_time": "2022-05-12T08:39:00.101Z"
   },
   {
    "duration": 12,
    "start_time": "2022-05-12T08:39:00.108Z"
   },
   {
    "duration": 70,
    "start_time": "2022-05-12T08:39:00.122Z"
   },
   {
    "duration": 30,
    "start_time": "2022-05-12T08:39:00.194Z"
   },
   {
    "duration": 48,
    "start_time": "2022-05-12T08:39:00.226Z"
   },
   {
    "duration": 15,
    "start_time": "2022-05-12T08:39:00.278Z"
   },
   {
    "duration": 36,
    "start_time": "2022-05-12T08:39:00.294Z"
   },
   {
    "duration": 15,
    "start_time": "2022-05-12T08:39:00.332Z"
   },
   {
    "duration": 39,
    "start_time": "2022-05-12T08:39:00.349Z"
   },
   {
    "duration": 16,
    "start_time": "2022-05-12T08:39:00.390Z"
   },
   {
    "duration": 28,
    "start_time": "2022-05-12T08:39:00.408Z"
   },
   {
    "duration": 38,
    "start_time": "2022-05-12T08:39:00.438Z"
   },
   {
    "duration": 25,
    "start_time": "2022-05-12T08:39:00.479Z"
   },
   {
    "duration": 4,
    "start_time": "2022-05-12T08:39:00.505Z"
   },
   {
    "duration": 117,
    "start_time": "2022-05-12T08:39:00.511Z"
   },
   {
    "duration": 13,
    "start_time": "2022-05-12T08:39:00.630Z"
   },
   {
    "duration": 31,
    "start_time": "2022-05-12T08:39:00.644Z"
   },
   {
    "duration": 399,
    "start_time": "2022-05-12T08:39:00.677Z"
   },
   {
    "duration": 194,
    "start_time": "2022-05-12T08:39:01.078Z"
   },
   {
    "duration": 202,
    "start_time": "2022-05-12T08:39:01.274Z"
   },
   {
    "duration": 20,
    "start_time": "2022-05-12T08:39:01.480Z"
   },
   {
    "duration": 11,
    "start_time": "2022-05-12T08:39:01.501Z"
   },
   {
    "duration": 212,
    "start_time": "2022-05-12T08:39:01.513Z"
   },
   {
    "duration": 211,
    "start_time": "2022-05-12T08:39:01.727Z"
   },
   {
    "duration": 202,
    "start_time": "2022-05-12T08:39:01.940Z"
   },
   {
    "duration": 6,
    "start_time": "2022-05-12T08:39:02.144Z"
   },
   {
    "duration": 21,
    "start_time": "2022-05-12T08:39:02.152Z"
   },
   {
    "duration": 16,
    "start_time": "2022-05-12T08:39:02.177Z"
   },
   {
    "duration": 6,
    "start_time": "2022-05-12T08:39:02.195Z"
   },
   {
    "duration": 13,
    "start_time": "2022-05-12T08:39:02.203Z"
   },
   {
    "duration": 6,
    "start_time": "2022-05-12T08:39:02.218Z"
   },
   {
    "duration": 96,
    "start_time": "2022-05-12T12:44:35.096Z"
   },
   {
    "duration": 910,
    "start_time": "2022-05-12T12:44:42.249Z"
   },
   {
    "duration": 39,
    "start_time": "2022-05-12T12:44:43.161Z"
   },
   {
    "duration": 169,
    "start_time": "2022-05-12T12:44:43.202Z"
   },
   {
    "duration": 141,
    "start_time": "2022-05-12T12:44:43.374Z"
   },
   {
    "duration": 102,
    "start_time": "2022-05-12T12:44:43.516Z"
   },
   {
    "duration": 20,
    "start_time": "2022-05-12T12:44:43.620Z"
   },
   {
    "duration": 83,
    "start_time": "2022-05-12T12:44:43.641Z"
   },
   {
    "duration": 21,
    "start_time": "2022-05-12T12:44:43.726Z"
   },
   {
    "duration": 22,
    "start_time": "2022-05-12T12:44:43.749Z"
   },
   {
    "duration": 13,
    "start_time": "2022-05-12T12:44:43.774Z"
   },
   {
    "duration": 47,
    "start_time": "2022-05-12T12:44:43.789Z"
   },
   {
    "duration": 52,
    "start_time": "2022-05-12T12:44:43.838Z"
   },
   {
    "duration": 26,
    "start_time": "2022-05-12T12:44:43.892Z"
   },
   {
    "duration": 13,
    "start_time": "2022-05-12T12:44:43.920Z"
   },
   {
    "duration": 51,
    "start_time": "2022-05-12T12:44:43.934Z"
   },
   {
    "duration": 15,
    "start_time": "2022-05-12T12:44:43.987Z"
   },
   {
    "duration": 18,
    "start_time": "2022-05-12T12:44:44.004Z"
   },
   {
    "duration": 15,
    "start_time": "2022-05-12T12:44:44.024Z"
   },
   {
    "duration": 56,
    "start_time": "2022-05-12T12:44:44.041Z"
   },
   {
    "duration": 9,
    "start_time": "2022-05-12T12:44:44.099Z"
   },
   {
    "duration": 22,
    "start_time": "2022-05-12T12:44:44.110Z"
   },
   {
    "duration": 4,
    "start_time": "2022-05-12T12:44:44.133Z"
   },
   {
    "duration": 124,
    "start_time": "2022-05-12T12:44:44.139Z"
   },
   {
    "duration": 17,
    "start_time": "2022-05-12T12:44:44.264Z"
   },
   {
    "duration": 12,
    "start_time": "2022-05-12T12:44:44.282Z"
   },
   {
    "duration": 387,
    "start_time": "2022-05-12T12:44:44.296Z"
   },
   {
    "duration": 205,
    "start_time": "2022-05-12T12:44:44.685Z"
   },
   {
    "duration": 207,
    "start_time": "2022-05-12T12:44:44.893Z"
   },
   {
    "duration": 11,
    "start_time": "2022-05-12T12:44:45.102Z"
   },
   {
    "duration": 11,
    "start_time": "2022-05-12T12:44:45.115Z"
   },
   {
    "duration": 199,
    "start_time": "2022-05-12T12:44:45.128Z"
   },
   {
    "duration": 206,
    "start_time": "2022-05-12T12:44:45.329Z"
   },
   {
    "duration": 204,
    "start_time": "2022-05-12T12:44:45.537Z"
   },
   {
    "duration": 6,
    "start_time": "2022-05-12T12:44:45.743Z"
   },
   {
    "duration": 21,
    "start_time": "2022-05-12T12:44:45.751Z"
   },
   {
    "duration": 6,
    "start_time": "2022-05-12T12:44:45.774Z"
   },
   {
    "duration": 7,
    "start_time": "2022-05-12T12:44:45.782Z"
   },
   {
    "duration": 15,
    "start_time": "2022-05-12T12:44:45.791Z"
   },
   {
    "duration": 6,
    "start_time": "2022-05-12T12:44:45.808Z"
   },
   {
    "duration": 170,
    "start_time": "2022-05-12T12:44:45.816Z"
   },
   {
    "duration": 11,
    "start_time": "2022-05-12T12:44:50.508Z"
   },
   {
    "duration": 5,
    "start_time": "2022-05-12T12:45:39.709Z"
   },
   {
    "duration": 160,
    "start_time": "2022-05-12T12:56:01.010Z"
   },
   {
    "duration": 12,
    "start_time": "2022-05-12T13:09:15.010Z"
   },
   {
    "duration": 10,
    "start_time": "2022-05-12T13:09:17.492Z"
   },
   {
    "duration": 202,
    "start_time": "2022-05-12T13:09:19.790Z"
   },
   {
    "duration": 186,
    "start_time": "2022-05-12T13:09:58.863Z"
   },
   {
    "duration": 261,
    "start_time": "2022-05-12T13:10:23.775Z"
   },
   {
    "duration": 188,
    "start_time": "2022-05-12T13:10:26.969Z"
   },
   {
    "duration": 186,
    "start_time": "2022-05-12T13:10:34.144Z"
   },
   {
    "duration": 893,
    "start_time": "2022-05-12T13:10:40.102Z"
   },
   {
    "duration": 35,
    "start_time": "2022-05-12T13:10:40.997Z"
   },
   {
    "duration": 170,
    "start_time": "2022-05-12T13:10:41.033Z"
   },
   {
    "duration": 154,
    "start_time": "2022-05-12T13:10:41.205Z"
   },
   {
    "duration": 97,
    "start_time": "2022-05-12T13:10:41.361Z"
   },
   {
    "duration": 25,
    "start_time": "2022-05-12T13:10:41.460Z"
   },
   {
    "duration": 84,
    "start_time": "2022-05-12T13:10:41.486Z"
   },
   {
    "duration": 22,
    "start_time": "2022-05-12T13:10:41.572Z"
   },
   {
    "duration": 5,
    "start_time": "2022-05-12T13:10:41.595Z"
   },
   {
    "duration": 11,
    "start_time": "2022-05-12T13:10:41.603Z"
   },
   {
    "duration": 71,
    "start_time": "2022-05-12T13:10:41.615Z"
   },
   {
    "duration": 32,
    "start_time": "2022-05-12T13:10:41.687Z"
   },
   {
    "duration": 26,
    "start_time": "2022-05-12T13:10:41.721Z"
   },
   {
    "duration": 29,
    "start_time": "2022-05-12T13:10:41.748Z"
   },
   {
    "duration": 28,
    "start_time": "2022-05-12T13:10:41.779Z"
   },
   {
    "duration": 15,
    "start_time": "2022-05-12T13:10:41.809Z"
   },
   {
    "duration": 46,
    "start_time": "2022-05-12T13:10:41.826Z"
   },
   {
    "duration": 16,
    "start_time": "2022-05-12T13:10:41.873Z"
   },
   {
    "duration": 27,
    "start_time": "2022-05-12T13:10:41.891Z"
   },
   {
    "duration": 106,
    "start_time": "2022-05-12T13:10:41.920Z"
   },
   {
    "duration": 0,
    "start_time": "2022-05-12T13:10:42.028Z"
   },
   {
    "duration": 0,
    "start_time": "2022-05-12T13:10:42.029Z"
   },
   {
    "duration": 0,
    "start_time": "2022-05-12T13:10:42.030Z"
   },
   {
    "duration": 0,
    "start_time": "2022-05-12T13:10:42.031Z"
   },
   {
    "duration": 0,
    "start_time": "2022-05-12T13:10:42.033Z"
   },
   {
    "duration": 0,
    "start_time": "2022-05-12T13:10:42.034Z"
   },
   {
    "duration": 0,
    "start_time": "2022-05-12T13:10:42.035Z"
   },
   {
    "duration": 0,
    "start_time": "2022-05-12T13:10:42.035Z"
   },
   {
    "duration": 0,
    "start_time": "2022-05-12T13:10:42.036Z"
   },
   {
    "duration": 0,
    "start_time": "2022-05-12T13:10:42.037Z"
   },
   {
    "duration": 0,
    "start_time": "2022-05-12T13:10:42.038Z"
   },
   {
    "duration": 0,
    "start_time": "2022-05-12T13:10:42.039Z"
   },
   {
    "duration": 0,
    "start_time": "2022-05-12T13:10:42.040Z"
   },
   {
    "duration": 0,
    "start_time": "2022-05-12T13:10:42.041Z"
   },
   {
    "duration": 0,
    "start_time": "2022-05-12T13:10:42.071Z"
   },
   {
    "duration": 0,
    "start_time": "2022-05-12T13:10:42.072Z"
   },
   {
    "duration": 0,
    "start_time": "2022-05-12T13:10:42.073Z"
   },
   {
    "duration": 0,
    "start_time": "2022-05-12T13:10:42.074Z"
   },
   {
    "duration": 0,
    "start_time": "2022-05-12T13:10:42.074Z"
   },
   {
    "duration": 0,
    "start_time": "2022-05-12T13:10:42.075Z"
   },
   {
    "duration": 941,
    "start_time": "2022-05-12T13:13:13.444Z"
   },
   {
    "duration": 34,
    "start_time": "2022-05-12T13:13:14.387Z"
   },
   {
    "duration": 165,
    "start_time": "2022-05-12T13:13:14.423Z"
   },
   {
    "duration": 147,
    "start_time": "2022-05-12T13:13:14.591Z"
   },
   {
    "duration": 101,
    "start_time": "2022-05-12T13:13:14.740Z"
   },
   {
    "duration": 20,
    "start_time": "2022-05-12T13:13:14.843Z"
   },
   {
    "duration": 73,
    "start_time": "2022-05-12T13:13:14.871Z"
   },
   {
    "duration": 34,
    "start_time": "2022-05-12T13:13:14.945Z"
   },
   {
    "duration": 9,
    "start_time": "2022-05-12T13:13:14.980Z"
   },
   {
    "duration": 13,
    "start_time": "2022-05-12T13:13:14.992Z"
   },
   {
    "duration": 66,
    "start_time": "2022-05-12T13:13:15.007Z"
   },
   {
    "duration": 33,
    "start_time": "2022-05-12T13:13:15.074Z"
   },
   {
    "duration": 26,
    "start_time": "2022-05-12T13:13:15.109Z"
   },
   {
    "duration": 34,
    "start_time": "2022-05-12T13:13:15.137Z"
   },
   {
    "duration": 28,
    "start_time": "2022-05-12T13:13:15.173Z"
   },
   {
    "duration": 16,
    "start_time": "2022-05-12T13:13:15.203Z"
   },
   {
    "duration": 51,
    "start_time": "2022-05-12T13:13:15.221Z"
   },
   {
    "duration": 24,
    "start_time": "2022-05-12T13:13:15.274Z"
   },
   {
    "duration": 28,
    "start_time": "2022-05-12T13:13:15.300Z"
   },
   {
    "duration": 108,
    "start_time": "2022-05-12T13:13:15.329Z"
   },
   {
    "duration": 0,
    "start_time": "2022-05-12T13:13:15.440Z"
   },
   {
    "duration": 0,
    "start_time": "2022-05-12T13:13:15.441Z"
   },
   {
    "duration": 0,
    "start_time": "2022-05-12T13:13:15.442Z"
   },
   {
    "duration": 0,
    "start_time": "2022-05-12T13:13:15.443Z"
   },
   {
    "duration": 0,
    "start_time": "2022-05-12T13:13:15.444Z"
   },
   {
    "duration": 0,
    "start_time": "2022-05-12T13:13:15.445Z"
   },
   {
    "duration": 0,
    "start_time": "2022-05-12T13:13:15.446Z"
   },
   {
    "duration": 0,
    "start_time": "2022-05-12T13:13:15.447Z"
   },
   {
    "duration": 0,
    "start_time": "2022-05-12T13:13:15.448Z"
   },
   {
    "duration": 0,
    "start_time": "2022-05-12T13:13:15.470Z"
   },
   {
    "duration": 0,
    "start_time": "2022-05-12T13:13:15.471Z"
   },
   {
    "duration": 0,
    "start_time": "2022-05-12T13:13:15.472Z"
   },
   {
    "duration": 0,
    "start_time": "2022-05-12T13:13:15.473Z"
   },
   {
    "duration": 0,
    "start_time": "2022-05-12T13:13:15.474Z"
   },
   {
    "duration": 0,
    "start_time": "2022-05-12T13:13:15.475Z"
   },
   {
    "duration": 0,
    "start_time": "2022-05-12T13:13:15.477Z"
   },
   {
    "duration": 0,
    "start_time": "2022-05-12T13:13:15.477Z"
   },
   {
    "duration": 0,
    "start_time": "2022-05-12T13:13:15.479Z"
   },
   {
    "duration": 0,
    "start_time": "2022-05-12T13:13:15.479Z"
   },
   {
    "duration": 0,
    "start_time": "2022-05-12T13:13:15.481Z"
   },
   {
    "duration": 13,
    "start_time": "2022-05-12T13:14:28.806Z"
   },
   {
    "duration": 14,
    "start_time": "2022-05-12T13:14:45.042Z"
   },
   {
    "duration": 12,
    "start_time": "2022-05-12T13:15:12.924Z"
   },
   {
    "duration": 12,
    "start_time": "2022-05-12T13:15:28.504Z"
   },
   {
    "duration": 1190,
    "start_time": "2022-05-12T13:19:44.491Z"
   },
   {
    "duration": 95,
    "start_time": "2022-05-12T13:19:45.683Z"
   },
   {
    "duration": 412,
    "start_time": "2022-05-12T13:19:45.780Z"
   },
   {
    "duration": 377,
    "start_time": "2022-05-12T13:19:46.194Z"
   },
   {
    "duration": 206,
    "start_time": "2022-05-12T13:19:46.573Z"
   },
   {
    "duration": 22,
    "start_time": "2022-05-12T13:19:46.780Z"
   },
   {
    "duration": 168,
    "start_time": "2022-05-12T13:19:46.803Z"
   },
   {
    "duration": 22,
    "start_time": "2022-05-12T13:19:46.972Z"
   },
   {
    "duration": 5,
    "start_time": "2022-05-12T13:19:46.996Z"
   },
   {
    "duration": 67,
    "start_time": "2022-05-12T13:19:47.005Z"
   },
   {
    "duration": 113,
    "start_time": "2022-05-12T13:19:47.074Z"
   },
   {
    "duration": 93,
    "start_time": "2022-05-12T13:19:47.189Z"
   },
   {
    "duration": 88,
    "start_time": "2022-05-12T13:19:47.284Z"
   },
   {
    "duration": 19,
    "start_time": "2022-05-12T13:19:47.374Z"
   },
   {
    "duration": 89,
    "start_time": "2022-05-12T13:19:47.395Z"
   },
   {
    "duration": 21,
    "start_time": "2022-05-12T13:19:47.486Z"
   },
   {
    "duration": 75,
    "start_time": "2022-05-12T13:19:47.509Z"
   },
   {
    "duration": 16,
    "start_time": "2022-05-12T13:19:47.586Z"
   },
   {
    "duration": 81,
    "start_time": "2022-05-12T13:19:47.604Z"
   },
   {
    "duration": 190,
    "start_time": "2022-05-12T13:19:47.687Z"
   },
   {
    "duration": 0,
    "start_time": "2022-05-12T13:19:47.880Z"
   },
   {
    "duration": 0,
    "start_time": "2022-05-12T13:19:47.881Z"
   },
   {
    "duration": 0,
    "start_time": "2022-05-12T13:19:47.883Z"
   },
   {
    "duration": 0,
    "start_time": "2022-05-12T13:19:47.884Z"
   },
   {
    "duration": 0,
    "start_time": "2022-05-12T13:19:47.885Z"
   },
   {
    "duration": 0,
    "start_time": "2022-05-12T13:19:47.885Z"
   },
   {
    "duration": 0,
    "start_time": "2022-05-12T13:19:47.886Z"
   },
   {
    "duration": 0,
    "start_time": "2022-05-12T13:19:47.888Z"
   },
   {
    "duration": 0,
    "start_time": "2022-05-12T13:19:47.890Z"
   },
   {
    "duration": 0,
    "start_time": "2022-05-12T13:19:47.892Z"
   },
   {
    "duration": 0,
    "start_time": "2022-05-12T13:19:47.893Z"
   },
   {
    "duration": 0,
    "start_time": "2022-05-12T13:19:47.894Z"
   },
   {
    "duration": 0,
    "start_time": "2022-05-12T13:19:47.896Z"
   },
   {
    "duration": 0,
    "start_time": "2022-05-12T13:19:47.897Z"
   },
   {
    "duration": 0,
    "start_time": "2022-05-12T13:19:47.899Z"
   },
   {
    "duration": 0,
    "start_time": "2022-05-12T13:19:47.900Z"
   },
   {
    "duration": 0,
    "start_time": "2022-05-12T13:19:47.902Z"
   },
   {
    "duration": 0,
    "start_time": "2022-05-12T13:19:47.903Z"
   },
   {
    "duration": 0,
    "start_time": "2022-05-12T13:19:47.904Z"
   },
   {
    "duration": 0,
    "start_time": "2022-05-12T13:19:47.905Z"
   },
   {
    "duration": 1492,
    "start_time": "2022-05-12T13:37:48.604Z"
   },
   {
    "duration": 67,
    "start_time": "2022-05-12T13:37:50.098Z"
   },
   {
    "duration": 312,
    "start_time": "2022-05-12T13:37:50.166Z"
   },
   {
    "duration": 691,
    "start_time": "2022-05-12T13:37:50.480Z"
   },
   {
    "duration": 168,
    "start_time": "2022-05-12T13:37:51.173Z"
   },
   {
    "duration": 37,
    "start_time": "2022-05-12T13:37:51.342Z"
   },
   {
    "duration": 137,
    "start_time": "2022-05-12T13:37:51.380Z"
   },
   {
    "duration": 29,
    "start_time": "2022-05-12T13:37:51.519Z"
   },
   {
    "duration": 5,
    "start_time": "2022-05-12T13:37:51.550Z"
   },
   {
    "duration": 16,
    "start_time": "2022-05-12T13:37:51.570Z"
   },
   {
    "duration": 58,
    "start_time": "2022-05-12T13:37:51.588Z"
   },
   {
    "duration": 56,
    "start_time": "2022-05-12T13:37:51.647Z"
   },
   {
    "duration": 35,
    "start_time": "2022-05-12T13:37:51.705Z"
   },
   {
    "duration": 35,
    "start_time": "2022-05-12T13:37:51.742Z"
   },
   {
    "duration": 29,
    "start_time": "2022-05-12T13:37:51.779Z"
   },
   {
    "duration": 22,
    "start_time": "2022-05-12T13:37:51.810Z"
   },
   {
    "duration": 54,
    "start_time": "2022-05-12T13:37:51.834Z"
   },
   {
    "duration": 21,
    "start_time": "2022-05-12T13:37:51.891Z"
   },
   {
    "duration": 29,
    "start_time": "2022-05-12T13:37:51.914Z"
   },
   {
    "duration": 124,
    "start_time": "2022-05-12T13:37:51.944Z"
   },
   {
    "duration": 0,
    "start_time": "2022-05-12T13:37:52.070Z"
   },
   {
    "duration": 0,
    "start_time": "2022-05-12T13:37:52.072Z"
   },
   {
    "duration": 0,
    "start_time": "2022-05-12T13:37:52.073Z"
   },
   {
    "duration": 0,
    "start_time": "2022-05-12T13:37:52.075Z"
   },
   {
    "duration": 0,
    "start_time": "2022-05-12T13:37:52.076Z"
   },
   {
    "duration": 0,
    "start_time": "2022-05-12T13:37:52.078Z"
   },
   {
    "duration": 0,
    "start_time": "2022-05-12T13:37:52.080Z"
   },
   {
    "duration": 0,
    "start_time": "2022-05-12T13:37:52.081Z"
   },
   {
    "duration": 0,
    "start_time": "2022-05-12T13:37:52.083Z"
   },
   {
    "duration": 0,
    "start_time": "2022-05-12T13:37:52.084Z"
   },
   {
    "duration": 0,
    "start_time": "2022-05-12T13:37:52.086Z"
   },
   {
    "duration": 0,
    "start_time": "2022-05-12T13:37:52.087Z"
   },
   {
    "duration": 0,
    "start_time": "2022-05-12T13:37:52.088Z"
   },
   {
    "duration": 0,
    "start_time": "2022-05-12T13:37:52.090Z"
   },
   {
    "duration": 0,
    "start_time": "2022-05-12T13:37:52.092Z"
   },
   {
    "duration": 0,
    "start_time": "2022-05-12T13:37:52.092Z"
   },
   {
    "duration": 0,
    "start_time": "2022-05-12T13:37:52.094Z"
   },
   {
    "duration": 0,
    "start_time": "2022-05-12T13:37:52.095Z"
   },
   {
    "duration": 0,
    "start_time": "2022-05-12T13:37:52.096Z"
   },
   {
    "duration": 0,
    "start_time": "2022-05-12T13:37:52.098Z"
   },
   {
    "duration": 17,
    "start_time": "2022-05-12T13:38:17.217Z"
   },
   {
    "duration": 14,
    "start_time": "2022-05-12T13:39:28.399Z"
   },
   {
    "duration": 53,
    "start_time": "2022-05-12T13:39:32.449Z"
   },
   {
    "duration": 896,
    "start_time": "2022-05-12T13:39:38.067Z"
   },
   {
    "duration": 37,
    "start_time": "2022-05-12T13:39:38.965Z"
   },
   {
    "duration": 170,
    "start_time": "2022-05-12T13:39:39.003Z"
   },
   {
    "duration": 142,
    "start_time": "2022-05-12T13:39:39.175Z"
   },
   {
    "duration": 131,
    "start_time": "2022-05-12T13:39:39.319Z"
   },
   {
    "duration": 31,
    "start_time": "2022-05-12T13:39:39.452Z"
   },
   {
    "duration": 136,
    "start_time": "2022-05-12T13:39:39.485Z"
   },
   {
    "duration": 29,
    "start_time": "2022-05-12T13:39:39.623Z"
   },
   {
    "duration": 17,
    "start_time": "2022-05-12T13:39:39.654Z"
   },
   {
    "duration": 15,
    "start_time": "2022-05-12T13:39:39.673Z"
   },
   {
    "duration": 58,
    "start_time": "2022-05-12T13:39:39.690Z"
   },
   {
    "duration": 55,
    "start_time": "2022-05-12T13:39:39.751Z"
   },
   {
    "duration": 36,
    "start_time": "2022-05-12T13:39:39.808Z"
   },
   {
    "duration": 29,
    "start_time": "2022-05-12T13:39:39.848Z"
   },
   {
    "duration": 28,
    "start_time": "2022-05-12T13:39:39.878Z"
   },
   {
    "duration": 16,
    "start_time": "2022-05-12T13:39:39.907Z"
   },
   {
    "duration": 17,
    "start_time": "2022-05-12T13:39:39.925Z"
   },
   {
    "duration": 17,
    "start_time": "2022-05-12T13:39:39.971Z"
   },
   {
    "duration": 12,
    "start_time": "2022-05-12T13:39:39.990Z"
   },
   {
    "duration": 31,
    "start_time": "2022-05-12T13:39:40.003Z"
   },
   {
    "duration": 35,
    "start_time": "2022-05-12T13:39:40.036Z"
   },
   {
    "duration": 131,
    "start_time": "2022-05-12T13:39:40.073Z"
   },
   {
    "duration": 12,
    "start_time": "2022-05-12T13:39:40.205Z"
   },
   {
    "duration": 15,
    "start_time": "2022-05-12T13:39:40.218Z"
   },
   {
    "duration": 406,
    "start_time": "2022-05-12T13:39:40.235Z"
   },
   {
    "duration": 197,
    "start_time": "2022-05-12T13:39:40.643Z"
   },
   {
    "duration": 200,
    "start_time": "2022-05-12T13:39:40.842Z"
   },
   {
    "duration": 11,
    "start_time": "2022-05-12T13:39:41.044Z"
   },
   {
    "duration": 24,
    "start_time": "2022-05-12T13:39:41.056Z"
   },
   {
    "duration": 205,
    "start_time": "2022-05-12T13:39:41.082Z"
   },
   {
    "duration": 109,
    "start_time": "2022-05-12T13:39:41.289Z"
   },
   {
    "duration": 0,
    "start_time": "2022-05-12T13:39:41.399Z"
   },
   {
    "duration": 0,
    "start_time": "2022-05-12T13:39:41.401Z"
   },
   {
    "duration": 0,
    "start_time": "2022-05-12T13:39:41.402Z"
   },
   {
    "duration": 0,
    "start_time": "2022-05-12T13:39:41.403Z"
   },
   {
    "duration": 0,
    "start_time": "2022-05-12T13:39:41.404Z"
   },
   {
    "duration": 1,
    "start_time": "2022-05-12T13:39:41.404Z"
   },
   {
    "duration": 0,
    "start_time": "2022-05-12T13:39:41.406Z"
   },
   {
    "duration": 0,
    "start_time": "2022-05-12T13:39:41.407Z"
   },
   {
    "duration": 0,
    "start_time": "2022-05-12T13:39:41.408Z"
   },
   {
    "duration": 189,
    "start_time": "2022-05-12T13:41:04.461Z"
   },
   {
    "duration": 913,
    "start_time": "2022-05-12T13:41:12.146Z"
   },
   {
    "duration": 36,
    "start_time": "2022-05-12T13:41:13.060Z"
   },
   {
    "duration": 168,
    "start_time": "2022-05-12T13:41:13.097Z"
   },
   {
    "duration": 148,
    "start_time": "2022-05-12T13:41:13.270Z"
   },
   {
    "duration": 110,
    "start_time": "2022-05-12T13:41:13.419Z"
   },
   {
    "duration": 21,
    "start_time": "2022-05-12T13:41:13.531Z"
   },
   {
    "duration": 88,
    "start_time": "2022-05-12T13:41:13.554Z"
   },
   {
    "duration": 37,
    "start_time": "2022-05-12T13:41:13.644Z"
   },
   {
    "duration": 7,
    "start_time": "2022-05-12T13:41:13.687Z"
   },
   {
    "duration": 24,
    "start_time": "2022-05-12T13:41:13.698Z"
   },
   {
    "duration": 59,
    "start_time": "2022-05-12T13:41:13.723Z"
   },
   {
    "duration": 39,
    "start_time": "2022-05-12T13:41:13.784Z"
   },
   {
    "duration": 47,
    "start_time": "2022-05-12T13:41:13.825Z"
   },
   {
    "duration": 14,
    "start_time": "2022-05-12T13:41:13.874Z"
   },
   {
    "duration": 30,
    "start_time": "2022-05-12T13:41:13.890Z"
   },
   {
    "duration": 16,
    "start_time": "2022-05-12T13:41:13.921Z"
   },
   {
    "duration": 56,
    "start_time": "2022-05-12T13:41:13.939Z"
   },
   {
    "duration": 17,
    "start_time": "2022-05-12T13:41:13.997Z"
   },
   {
    "duration": 11,
    "start_time": "2022-05-12T13:41:14.016Z"
   },
   {
    "duration": 60,
    "start_time": "2022-05-12T13:41:14.028Z"
   },
   {
    "duration": 5,
    "start_time": "2022-05-12T13:41:14.090Z"
   },
   {
    "duration": 306,
    "start_time": "2022-05-12T13:41:14.096Z"
   },
   {
    "duration": 74,
    "start_time": "2022-05-12T13:41:14.404Z"
   },
   {
    "duration": 11,
    "start_time": "2022-05-12T13:41:14.481Z"
   },
   {
    "duration": 781,
    "start_time": "2022-05-12T13:41:14.494Z"
   },
   {
    "duration": 428,
    "start_time": "2022-05-12T13:41:15.277Z"
   },
   {
    "duration": 255,
    "start_time": "2022-05-12T13:41:15.707Z"
   },
   {
    "duration": 15,
    "start_time": "2022-05-12T13:41:15.966Z"
   },
   {
    "duration": 13,
    "start_time": "2022-05-12T13:41:15.983Z"
   },
   {
    "duration": 210,
    "start_time": "2022-05-12T13:41:15.998Z"
   },
   {
    "duration": 209,
    "start_time": "2022-05-12T13:41:16.210Z"
   },
   {
    "duration": 197,
    "start_time": "2022-05-12T13:41:16.421Z"
   },
   {
    "duration": 151,
    "start_time": "2022-05-12T13:41:16.620Z"
   },
   {
    "duration": 0,
    "start_time": "2022-05-12T13:41:16.772Z"
   },
   {
    "duration": 0,
    "start_time": "2022-05-12T13:41:16.774Z"
   },
   {
    "duration": 0,
    "start_time": "2022-05-12T13:41:16.775Z"
   },
   {
    "duration": 0,
    "start_time": "2022-05-12T13:41:16.776Z"
   },
   {
    "duration": 0,
    "start_time": "2022-05-12T13:41:16.777Z"
   },
   {
    "duration": 0,
    "start_time": "2022-05-12T13:41:16.779Z"
   },
   {
    "duration": 0,
    "start_time": "2022-05-12T13:41:16.780Z"
   },
   {
    "duration": 6,
    "start_time": "2022-05-12T13:41:53.128Z"
   },
   {
    "duration": 6,
    "start_time": "2022-05-12T13:41:55.168Z"
   },
   {
    "duration": 7,
    "start_time": "2022-05-12T13:41:57.714Z"
   },
   {
    "duration": 6,
    "start_time": "2022-05-12T13:42:00.033Z"
   },
   {
    "duration": 16,
    "start_time": "2022-05-12T13:42:04.289Z"
   },
   {
    "duration": 5,
    "start_time": "2022-05-12T13:42:06.329Z"
   },
   {
    "duration": 14,
    "start_time": "2022-05-12T13:42:09.121Z"
   },
   {
    "duration": 6,
    "start_time": "2022-05-12T13:42:10.953Z"
   },
   {
    "duration": 928,
    "start_time": "2022-05-12T13:42:24.985Z"
   },
   {
    "duration": 37,
    "start_time": "2022-05-12T13:42:25.915Z"
   },
   {
    "duration": 174,
    "start_time": "2022-05-12T13:42:25.954Z"
   },
   {
    "duration": 152,
    "start_time": "2022-05-12T13:42:26.130Z"
   },
   {
    "duration": 103,
    "start_time": "2022-05-12T13:42:26.283Z"
   },
   {
    "duration": 21,
    "start_time": "2022-05-12T13:42:26.387Z"
   },
   {
    "duration": 84,
    "start_time": "2022-05-12T13:42:26.409Z"
   },
   {
    "duration": 23,
    "start_time": "2022-05-12T13:42:26.495Z"
   },
   {
    "duration": 6,
    "start_time": "2022-05-12T13:42:26.520Z"
   },
   {
    "duration": 12,
    "start_time": "2022-05-12T13:42:26.529Z"
   },
   {
    "duration": 72,
    "start_time": "2022-05-12T13:42:26.542Z"
   },
   {
    "duration": 32,
    "start_time": "2022-05-12T13:42:26.615Z"
   },
   {
    "duration": 37,
    "start_time": "2022-05-12T13:42:26.649Z"
   },
   {
    "duration": 12,
    "start_time": "2022-05-12T13:42:26.688Z"
   },
   {
    "duration": 28,
    "start_time": "2022-05-12T13:42:26.701Z"
   },
   {
    "duration": 47,
    "start_time": "2022-05-12T13:42:26.731Z"
   },
   {
    "duration": 17,
    "start_time": "2022-05-12T13:42:26.780Z"
   },
   {
    "duration": 15,
    "start_time": "2022-05-12T13:42:26.799Z"
   },
   {
    "duration": 10,
    "start_time": "2022-05-12T13:42:26.815Z"
   },
   {
    "duration": 60,
    "start_time": "2022-05-12T13:42:26.827Z"
   },
   {
    "duration": 4,
    "start_time": "2022-05-12T13:42:26.889Z"
   },
   {
    "duration": 130,
    "start_time": "2022-05-12T13:42:26.894Z"
   },
   {
    "duration": 12,
    "start_time": "2022-05-12T13:42:27.025Z"
   },
   {
    "duration": 12,
    "start_time": "2022-05-12T13:42:27.039Z"
   },
   {
    "duration": 393,
    "start_time": "2022-05-12T13:42:27.053Z"
   },
   {
    "duration": 213,
    "start_time": "2022-05-12T13:42:27.447Z"
   },
   {
    "duration": 210,
    "start_time": "2022-05-12T13:42:27.662Z"
   },
   {
    "duration": 11,
    "start_time": "2022-05-12T13:42:27.876Z"
   },
   {
    "duration": 11,
    "start_time": "2022-05-12T13:42:27.889Z"
   },
   {
    "duration": 208,
    "start_time": "2022-05-12T13:42:27.901Z"
   },
   {
    "duration": 210,
    "start_time": "2022-05-12T13:42:28.110Z"
   },
   {
    "duration": 199,
    "start_time": "2022-05-12T13:42:28.323Z"
   },
   {
    "duration": 6,
    "start_time": "2022-05-12T13:42:28.523Z"
   },
   {
    "duration": 11,
    "start_time": "2022-05-12T13:42:28.531Z"
   },
   {
    "duration": 13,
    "start_time": "2022-05-12T13:42:28.544Z"
   },
   {
    "duration": 14,
    "start_time": "2022-05-12T13:42:28.558Z"
   },
   {
    "duration": 12,
    "start_time": "2022-05-12T13:42:28.573Z"
   },
   {
    "duration": 7,
    "start_time": "2022-05-12T13:42:28.586Z"
   },
   {
    "duration": 12,
    "start_time": "2022-05-12T13:42:28.594Z"
   },
   {
    "duration": 5,
    "start_time": "2022-05-12T13:42:28.608Z"
   },
   {
    "duration": 183,
    "start_time": "2022-05-12T13:47:42.621Z"
   },
   {
    "duration": 278,
    "start_time": "2022-05-12T13:48:19.839Z"
   },
   {
    "duration": 912,
    "start_time": "2022-05-12T13:48:37.141Z"
   },
   {
    "duration": 35,
    "start_time": "2022-05-12T13:48:38.055Z"
   },
   {
    "duration": 248,
    "start_time": "2022-05-12T13:48:38.091Z"
   },
   {
    "duration": 375,
    "start_time": "2022-05-12T13:48:38.341Z"
   },
   {
    "duration": 206,
    "start_time": "2022-05-12T13:48:38.771Z"
   },
   {
    "duration": 22,
    "start_time": "2022-05-12T13:48:38.979Z"
   },
   {
    "duration": 168,
    "start_time": "2022-05-12T13:48:39.003Z"
   },
   {
    "duration": 23,
    "start_time": "2022-05-12T13:48:39.173Z"
   },
   {
    "duration": 4,
    "start_time": "2022-05-12T13:48:39.198Z"
   },
   {
    "duration": 67,
    "start_time": "2022-05-12T13:48:39.205Z"
   },
   {
    "duration": 106,
    "start_time": "2022-05-12T13:48:39.274Z"
   },
   {
    "duration": 97,
    "start_time": "2022-05-12T13:48:39.383Z"
   },
   {
    "duration": 30,
    "start_time": "2022-05-12T13:48:39.482Z"
   },
   {
    "duration": 67,
    "start_time": "2022-05-12T13:48:39.513Z"
   },
   {
    "duration": 28,
    "start_time": "2022-05-12T13:48:39.582Z"
   },
   {
    "duration": 81,
    "start_time": "2022-05-12T13:48:39.612Z"
   },
   {
    "duration": 81,
    "start_time": "2022-05-12T13:48:39.695Z"
   },
   {
    "duration": 15,
    "start_time": "2022-05-12T13:48:39.778Z"
   },
   {
    "duration": 11,
    "start_time": "2022-05-12T13:48:39.794Z"
   },
   {
    "duration": 82,
    "start_time": "2022-05-12T13:48:39.807Z"
   },
   {
    "duration": 4,
    "start_time": "2022-05-12T13:48:39.890Z"
   },
   {
    "duration": 276,
    "start_time": "2022-05-12T13:48:39.896Z"
   },
   {
    "duration": 11,
    "start_time": "2022-05-12T13:48:40.174Z"
   },
   {
    "duration": 11,
    "start_time": "2022-05-12T13:48:40.187Z"
   },
   {
    "duration": 472,
    "start_time": "2022-05-12T13:48:40.200Z"
   },
   {
    "duration": 201,
    "start_time": "2022-05-12T13:48:40.673Z"
   },
   {
    "duration": 207,
    "start_time": "2022-05-12T13:48:40.876Z"
   },
   {
    "duration": 12,
    "start_time": "2022-05-12T13:48:41.086Z"
   },
   {
    "duration": 12,
    "start_time": "2022-05-12T13:48:41.099Z"
   },
   {
    "duration": 207,
    "start_time": "2022-05-12T13:48:41.112Z"
   },
   {
    "duration": 203,
    "start_time": "2022-05-12T13:48:41.321Z"
   },
   {
    "duration": 193,
    "start_time": "2022-05-12T13:48:41.525Z"
   },
   {
    "duration": 6,
    "start_time": "2022-05-12T13:48:41.720Z"
   },
   {
    "duration": 11,
    "start_time": "2022-05-12T13:48:41.728Z"
   },
   {
    "duration": 6,
    "start_time": "2022-05-12T13:48:41.741Z"
   },
   {
    "duration": 23,
    "start_time": "2022-05-12T13:48:41.749Z"
   },
   {
    "duration": 12,
    "start_time": "2022-05-12T13:48:41.773Z"
   },
   {
    "duration": 5,
    "start_time": "2022-05-12T13:48:41.787Z"
   },
   {
    "duration": 15,
    "start_time": "2022-05-12T13:48:41.793Z"
   },
   {
    "duration": 4,
    "start_time": "2022-05-12T13:48:41.810Z"
   },
   {
    "duration": 107,
    "start_time": "2022-05-12T13:49:21.463Z"
   },
   {
    "duration": 118,
    "start_time": "2022-05-12T13:49:58.614Z"
   },
   {
    "duration": 192,
    "start_time": "2022-05-12T13:50:03.423Z"
   },
   {
    "duration": 508,
    "start_time": "2022-05-12T13:50:25.120Z"
   },
   {
    "duration": 201,
    "start_time": "2022-05-12T13:50:30.440Z"
   },
   {
    "duration": 192,
    "start_time": "2022-05-12T13:51:22.146Z"
   },
   {
    "duration": 27,
    "start_time": "2022-05-12T13:51:27.985Z"
   },
   {
    "duration": 102,
    "start_time": "2022-05-12T13:51:36.289Z"
   },
   {
    "duration": 189,
    "start_time": "2022-05-12T13:51:39.481Z"
   },
   {
    "duration": 970,
    "start_time": "2022-05-12T13:51:57.167Z"
   },
   {
    "duration": 38,
    "start_time": "2022-05-12T13:51:58.139Z"
   },
   {
    "duration": 178,
    "start_time": "2022-05-12T13:51:58.178Z"
   },
   {
    "duration": 149,
    "start_time": "2022-05-12T13:51:58.359Z"
   },
   {
    "duration": 193,
    "start_time": "2022-05-12T13:51:58.510Z"
   },
   {
    "duration": 74,
    "start_time": "2022-05-12T13:51:58.705Z"
   },
   {
    "duration": 127,
    "start_time": "2022-05-12T13:51:58.781Z"
   },
   {
    "duration": 72,
    "start_time": "2022-05-12T13:51:58.909Z"
   },
   {
    "duration": 6,
    "start_time": "2022-05-12T13:51:58.983Z"
   },
   {
    "duration": 12,
    "start_time": "2022-05-12T13:51:58.992Z"
   },
   {
    "duration": 104,
    "start_time": "2022-05-12T13:51:59.006Z"
   },
   {
    "duration": 80,
    "start_time": "2022-05-12T13:51:59.112Z"
   },
   {
    "duration": 80,
    "start_time": "2022-05-12T13:51:59.194Z"
   },
   {
    "duration": 19,
    "start_time": "2022-05-12T13:51:59.277Z"
   },
   {
    "duration": 96,
    "start_time": "2022-05-12T13:51:59.298Z"
   },
   {
    "duration": 77,
    "start_time": "2022-05-12T13:51:59.396Z"
   },
   {
    "duration": 27,
    "start_time": "2022-05-12T13:51:59.476Z"
   },
   {
    "duration": 78,
    "start_time": "2022-05-12T13:51:59.505Z"
   },
   {
    "duration": 14,
    "start_time": "2022-05-12T13:51:59.586Z"
   },
   {
    "duration": 94,
    "start_time": "2022-05-12T13:51:59.602Z"
   },
   {
    "duration": 5,
    "start_time": "2022-05-12T13:51:59.698Z"
   },
   {
    "duration": 400,
    "start_time": "2022-05-12T13:51:59.705Z"
   },
   {
    "duration": 68,
    "start_time": "2022-05-12T13:52:00.107Z"
   },
   {
    "duration": 13,
    "start_time": "2022-05-12T13:52:00.177Z"
   },
   {
    "duration": 494,
    "start_time": "2022-05-12T13:52:00.191Z"
   },
   {
    "duration": 205,
    "start_time": "2022-05-12T13:52:00.687Z"
   },
   {
    "duration": 211,
    "start_time": "2022-05-12T13:52:00.894Z"
   },
   {
    "duration": 12,
    "start_time": "2022-05-12T13:52:01.109Z"
   },
   {
    "duration": 11,
    "start_time": "2022-05-12T13:52:01.123Z"
   },
   {
    "duration": 209,
    "start_time": "2022-05-12T13:52:01.135Z"
   },
   {
    "duration": 212,
    "start_time": "2022-05-12T13:52:01.346Z"
   },
   {
    "duration": 302,
    "start_time": "2022-05-12T13:52:01.560Z"
   },
   {
    "duration": 12,
    "start_time": "2022-05-12T13:52:01.864Z"
   },
   {
    "duration": 15,
    "start_time": "2022-05-12T13:52:01.879Z"
   },
   {
    "duration": 8,
    "start_time": "2022-05-12T13:52:01.896Z"
   },
   {
    "duration": 7,
    "start_time": "2022-05-12T13:52:01.906Z"
   },
   {
    "duration": 15,
    "start_time": "2022-05-12T13:52:01.914Z"
   },
   {
    "duration": 5,
    "start_time": "2022-05-12T13:52:01.930Z"
   },
   {
    "duration": 12,
    "start_time": "2022-05-12T13:52:01.971Z"
   },
   {
    "duration": 5,
    "start_time": "2022-05-12T13:52:01.984Z"
   },
   {
    "duration": 193,
    "start_time": "2022-05-12T13:52:18.463Z"
   },
   {
    "duration": 1771,
    "start_time": "2022-05-12T13:52:38.914Z"
   },
   {
    "duration": 265,
    "start_time": "2022-05-12T13:52:49.481Z"
   },
   {
    "duration": 1158,
    "start_time": "2022-05-12T13:53:29.782Z"
   },
   {
    "duration": 61,
    "start_time": "2022-05-12T13:53:30.943Z"
   },
   {
    "duration": 177,
    "start_time": "2022-05-12T13:53:31.005Z"
   },
   {
    "duration": 153,
    "start_time": "2022-05-12T13:53:31.184Z"
   },
   {
    "duration": 105,
    "start_time": "2022-05-12T13:53:31.339Z"
   },
   {
    "duration": 27,
    "start_time": "2022-05-12T13:53:31.445Z"
   },
   {
    "duration": 71,
    "start_time": "2022-05-12T13:53:31.474Z"
   },
   {
    "duration": 34,
    "start_time": "2022-05-12T13:53:31.547Z"
   },
   {
    "duration": 7,
    "start_time": "2022-05-12T13:53:31.583Z"
   },
   {
    "duration": 11,
    "start_time": "2022-05-12T13:53:31.594Z"
   },
   {
    "duration": 70,
    "start_time": "2022-05-12T13:53:31.607Z"
   },
   {
    "duration": 32,
    "start_time": "2022-05-12T13:53:31.679Z"
   },
   {
    "duration": 28,
    "start_time": "2022-05-12T13:53:31.713Z"
   },
   {
    "duration": 37,
    "start_time": "2022-05-12T13:53:31.743Z"
   },
   {
    "duration": 29,
    "start_time": "2022-05-12T13:53:31.782Z"
   },
   {
    "duration": 15,
    "start_time": "2022-05-12T13:53:31.813Z"
   },
   {
    "duration": 48,
    "start_time": "2022-05-12T13:53:31.830Z"
   },
   {
    "duration": 16,
    "start_time": "2022-05-12T13:53:31.880Z"
   },
   {
    "duration": 10,
    "start_time": "2022-05-12T13:53:31.898Z"
   },
   {
    "duration": 29,
    "start_time": "2022-05-12T13:53:31.909Z"
   },
   {
    "duration": 32,
    "start_time": "2022-05-12T13:53:31.940Z"
   },
   {
    "duration": 239,
    "start_time": "2022-05-12T13:53:31.975Z"
   },
   {
    "duration": 62,
    "start_time": "2022-05-12T13:53:32.216Z"
   },
   {
    "duration": 12,
    "start_time": "2022-05-12T13:53:32.279Z"
   },
   {
    "duration": 723,
    "start_time": "2022-05-12T13:53:32.293Z"
   },
   {
    "duration": 392,
    "start_time": "2022-05-12T13:53:33.018Z"
   },
   {
    "duration": 394,
    "start_time": "2022-05-12T13:53:33.411Z"
   },
   {
    "duration": 66,
    "start_time": "2022-05-12T13:53:33.808Z"
   },
   {
    "duration": 13,
    "start_time": "2022-05-12T13:53:33.875Z"
   },
   {
    "duration": 386,
    "start_time": "2022-05-12T13:53:33.889Z"
   },
   {
    "duration": 336,
    "start_time": "2022-05-12T13:53:34.276Z"
   },
   {
    "duration": 210,
    "start_time": "2022-05-12T13:53:34.614Z"
   },
   {
    "duration": 6,
    "start_time": "2022-05-12T13:53:34.826Z"
   },
   {
    "duration": 10,
    "start_time": "2022-05-12T13:53:34.834Z"
   },
   {
    "duration": 7,
    "start_time": "2022-05-12T13:53:34.845Z"
   },
   {
    "duration": 5,
    "start_time": "2022-05-12T13:53:34.871Z"
   },
   {
    "duration": 12,
    "start_time": "2022-05-12T13:53:34.878Z"
   },
   {
    "duration": 5,
    "start_time": "2022-05-12T13:53:34.892Z"
   },
   {
    "duration": 15,
    "start_time": "2022-05-12T13:53:34.898Z"
   },
   {
    "duration": 5,
    "start_time": "2022-05-12T13:53:34.915Z"
   },
   {
    "duration": 187,
    "start_time": "2022-05-12T13:53:48.434Z"
   },
   {
    "duration": 280,
    "start_time": "2022-05-12T13:53:52.694Z"
   },
   {
    "duration": 185,
    "start_time": "2022-05-12T13:53:59.020Z"
   },
   {
    "duration": 182,
    "start_time": "2022-05-12T13:54:01.430Z"
   },
   {
    "duration": 232,
    "start_time": "2022-05-12T13:54:05.852Z"
   },
   {
    "duration": 180,
    "start_time": "2022-05-12T13:54:09.580Z"
   },
   {
    "duration": 202,
    "start_time": "2022-05-12T13:54:13.374Z"
   },
   {
    "duration": 582,
    "start_time": "2022-05-12T13:54:17.174Z"
   },
   {
    "duration": 195,
    "start_time": "2022-05-12T13:54:20.740Z"
   },
   {
    "duration": 188,
    "start_time": "2022-05-12T13:54:25.708Z"
   },
   {
    "duration": 179,
    "start_time": "2022-05-12T13:54:37.990Z"
   },
   {
    "duration": 187,
    "start_time": "2022-05-12T13:54:43.261Z"
   },
   {
    "duration": 348,
    "start_time": "2022-05-12T13:54:47.246Z"
   },
   {
    "duration": 259,
    "start_time": "2022-05-12T13:54:54.041Z"
   },
   {
    "duration": 301,
    "start_time": "2022-05-12T13:54:59.759Z"
   },
   {
    "duration": 320,
    "start_time": "2022-05-12T13:55:24.478Z"
   },
   {
    "duration": 184,
    "start_time": "2022-05-12T13:55:30.743Z"
   },
   {
    "duration": 276,
    "start_time": "2022-05-12T13:55:34.623Z"
   },
   {
    "duration": 5,
    "start_time": "2022-05-12T14:07:23.085Z"
   },
   {
    "duration": 5,
    "start_time": "2022-05-12T14:07:39.706Z"
   },
   {
    "duration": 4,
    "start_time": "2022-05-12T14:09:34.499Z"
   },
   {
    "duration": 6,
    "start_time": "2022-05-12T14:09:38.164Z"
   },
   {
    "duration": 7,
    "start_time": "2022-05-12T14:09:41.851Z"
   },
   {
    "duration": 6,
    "start_time": "2022-05-12T14:09:44.557Z"
   },
   {
    "duration": 13,
    "start_time": "2022-05-12T14:13:08.714Z"
   },
   {
    "duration": 9,
    "start_time": "2022-05-12T14:13:28.961Z"
   },
   {
    "duration": 5,
    "start_time": "2022-05-12T14:13:35.921Z"
   },
   {
    "duration": 5,
    "start_time": "2022-05-12T14:14:36.828Z"
   },
   {
    "duration": 5,
    "start_time": "2022-05-12T14:15:27.955Z"
   },
   {
    "duration": 10,
    "start_time": "2022-05-12T14:22:56.711Z"
   },
   {
    "duration": 8,
    "start_time": "2022-05-12T14:23:16.287Z"
   },
   {
    "duration": 10,
    "start_time": "2022-05-12T14:25:18.290Z"
   },
   {
    "duration": 5,
    "start_time": "2022-05-12T14:25:29.403Z"
   },
   {
    "duration": 19,
    "start_time": "2022-05-12T14:31:14.946Z"
   },
   {
    "duration": 12,
    "start_time": "2022-05-12T14:31:27.994Z"
   },
   {
    "duration": 12,
    "start_time": "2022-05-12T14:31:33.969Z"
   },
   {
    "duration": 20,
    "start_time": "2022-05-12T14:32:00.843Z"
   },
   {
    "duration": 13,
    "start_time": "2022-05-12T14:32:03.658Z"
   },
   {
    "duration": 34,
    "start_time": "2022-05-12T14:32:17.708Z"
   },
   {
    "duration": 48,
    "start_time": "2022-05-12T14:32:23.720Z"
   },
   {
    "duration": 8,
    "start_time": "2022-05-12T14:32:30.101Z"
   },
   {
    "duration": 916,
    "start_time": "2022-05-12T14:40:55.252Z"
   },
   {
    "duration": 40,
    "start_time": "2022-05-12T14:40:56.170Z"
   },
   {
    "duration": 171,
    "start_time": "2022-05-12T14:40:56.212Z"
   },
   {
    "duration": 150,
    "start_time": "2022-05-12T14:40:56.385Z"
   },
   {
    "duration": 115,
    "start_time": "2022-05-12T14:40:56.537Z"
   },
   {
    "duration": 25,
    "start_time": "2022-05-12T14:40:56.655Z"
   },
   {
    "duration": 70,
    "start_time": "2022-05-12T14:40:56.681Z"
   },
   {
    "duration": 31,
    "start_time": "2022-05-12T14:40:56.753Z"
   },
   {
    "duration": 5,
    "start_time": "2022-05-12T14:40:56.785Z"
   },
   {
    "duration": 16,
    "start_time": "2022-05-12T14:40:56.794Z"
   },
   {
    "duration": 67,
    "start_time": "2022-05-12T14:40:56.812Z"
   },
   {
    "duration": 33,
    "start_time": "2022-05-12T14:40:56.881Z"
   },
   {
    "duration": 28,
    "start_time": "2022-05-12T14:40:56.916Z"
   },
   {
    "duration": 35,
    "start_time": "2022-05-12T14:40:56.946Z"
   },
   {
    "duration": 30,
    "start_time": "2022-05-12T14:40:56.983Z"
   },
   {
    "duration": 18,
    "start_time": "2022-05-12T14:40:57.015Z"
   },
   {
    "duration": 49,
    "start_time": "2022-05-12T14:40:57.035Z"
   },
   {
    "duration": 17,
    "start_time": "2022-05-12T14:40:57.086Z"
   },
   {
    "duration": 11,
    "start_time": "2022-05-12T14:40:57.105Z"
   },
   {
    "duration": 57,
    "start_time": "2022-05-12T14:40:57.118Z"
   },
   {
    "duration": 5,
    "start_time": "2022-05-12T14:40:57.177Z"
   },
   {
    "duration": 135,
    "start_time": "2022-05-12T14:40:57.183Z"
   },
   {
    "duration": 15,
    "start_time": "2022-05-12T14:40:57.320Z"
   },
   {
    "duration": 13,
    "start_time": "2022-05-12T14:40:57.336Z"
   },
   {
    "duration": 376,
    "start_time": "2022-05-12T14:40:57.370Z"
   },
   {
    "duration": 204,
    "start_time": "2022-05-12T14:40:57.747Z"
   },
   {
    "duration": 211,
    "start_time": "2022-05-12T14:40:57.952Z"
   },
   {
    "duration": 11,
    "start_time": "2022-05-12T14:40:58.172Z"
   },
   {
    "duration": 10,
    "start_time": "2022-05-12T14:40:58.185Z"
   },
   {
    "duration": 210,
    "start_time": "2022-05-12T14:40:58.197Z"
   },
   {
    "duration": 210,
    "start_time": "2022-05-12T14:40:58.408Z"
   },
   {
    "duration": 299,
    "start_time": "2022-05-12T14:40:58.619Z"
   },
   {
    "duration": 8,
    "start_time": "2022-05-12T14:40:58.921Z"
   },
   {
    "duration": 8,
    "start_time": "2022-05-12T14:40:58.931Z"
   },
   {
    "duration": 7,
    "start_time": "2022-05-12T14:40:58.941Z"
   },
   {
    "duration": 24,
    "start_time": "2022-05-12T14:40:58.950Z"
   },
   {
    "duration": 8,
    "start_time": "2022-05-12T14:40:58.976Z"
   },
   {
    "duration": 6,
    "start_time": "2022-05-12T14:40:58.986Z"
   },
   {
    "duration": 13,
    "start_time": "2022-05-12T14:40:58.993Z"
   },
   {
    "duration": 8,
    "start_time": "2022-05-12T14:40:59.007Z"
   },
   {
    "duration": 1017,
    "start_time": "2022-05-12T16:57:17.216Z"
   },
   {
    "duration": 53,
    "start_time": "2022-05-12T16:57:18.235Z"
   },
   {
    "duration": 470,
    "start_time": "2022-05-12T16:57:18.290Z"
   },
   {
    "duration": 223,
    "start_time": "2022-05-12T16:57:18.763Z"
   },
   {
    "duration": 297,
    "start_time": "2022-05-12T16:57:18.988Z"
   },
   {
    "duration": 25,
    "start_time": "2022-05-12T16:57:19.287Z"
   },
   {
    "duration": 85,
    "start_time": "2022-05-12T16:57:19.313Z"
   },
   {
    "duration": 35,
    "start_time": "2022-05-12T16:57:19.400Z"
   },
   {
    "duration": 5,
    "start_time": "2022-05-12T16:57:20.585Z"
   },
   {
    "duration": 12,
    "start_time": "2022-05-12T16:57:21.979Z"
   },
   {
    "duration": 52,
    "start_time": "2022-05-12T16:57:23.251Z"
   },
   {
    "duration": 32,
    "start_time": "2022-05-12T16:57:24.140Z"
   },
   {
    "duration": 26,
    "start_time": "2022-05-12T16:57:25.818Z"
   },
   {
    "duration": 20,
    "start_time": "2022-05-12T16:57:42.685Z"
   },
   {
    "duration": 23,
    "start_time": "2022-05-12T16:57:44.953Z"
   },
   {
    "duration": 47,
    "start_time": "2022-05-12T16:58:52.958Z"
   },
   {
    "duration": 47,
    "start_time": "2022-05-13T06:19:30.600Z"
   },
   {
    "duration": 890,
    "start_time": "2022-05-13T06:19:38.036Z"
   },
   {
    "duration": 39,
    "start_time": "2022-05-13T06:19:38.928Z"
   },
   {
    "duration": 173,
    "start_time": "2022-05-13T06:19:38.968Z"
   },
   {
    "duration": 263,
    "start_time": "2022-05-13T06:19:39.143Z"
   },
   {
    "duration": 208,
    "start_time": "2022-05-13T06:19:39.408Z"
   },
   {
    "duration": 72,
    "start_time": "2022-05-13T06:19:39.617Z"
   },
   {
    "duration": 123,
    "start_time": "2022-05-13T06:19:39.691Z"
   },
   {
    "duration": 193,
    "start_time": "2022-05-13T06:19:39.816Z"
   },
   {
    "duration": 0,
    "start_time": "2022-05-13T06:19:40.014Z"
   },
   {
    "duration": 0,
    "start_time": "2022-05-13T06:19:40.016Z"
   },
   {
    "duration": 0,
    "start_time": "2022-05-13T06:19:40.017Z"
   },
   {
    "duration": 0,
    "start_time": "2022-05-13T06:19:40.019Z"
   },
   {
    "duration": 0,
    "start_time": "2022-05-13T06:19:40.021Z"
   },
   {
    "duration": 0,
    "start_time": "2022-05-13T06:19:40.022Z"
   },
   {
    "duration": 1,
    "start_time": "2022-05-13T06:19:40.023Z"
   },
   {
    "duration": 0,
    "start_time": "2022-05-13T06:19:40.025Z"
   },
   {
    "duration": 0,
    "start_time": "2022-05-13T06:19:40.026Z"
   },
   {
    "duration": 0,
    "start_time": "2022-05-13T06:19:40.028Z"
   },
   {
    "duration": 0,
    "start_time": "2022-05-13T06:19:40.029Z"
   },
   {
    "duration": 0,
    "start_time": "2022-05-13T06:19:40.030Z"
   },
   {
    "duration": 0,
    "start_time": "2022-05-13T06:19:40.088Z"
   },
   {
    "duration": 0,
    "start_time": "2022-05-13T06:19:40.090Z"
   },
   {
    "duration": 0,
    "start_time": "2022-05-13T06:19:40.091Z"
   },
   {
    "duration": 0,
    "start_time": "2022-05-13T06:19:40.093Z"
   },
   {
    "duration": 0,
    "start_time": "2022-05-13T06:19:40.094Z"
   },
   {
    "duration": 0,
    "start_time": "2022-05-13T06:19:40.096Z"
   },
   {
    "duration": 0,
    "start_time": "2022-05-13T06:19:40.097Z"
   },
   {
    "duration": 0,
    "start_time": "2022-05-13T06:19:40.098Z"
   },
   {
    "duration": 0,
    "start_time": "2022-05-13T06:19:40.100Z"
   },
   {
    "duration": 0,
    "start_time": "2022-05-13T06:19:40.101Z"
   },
   {
    "duration": 0,
    "start_time": "2022-05-13T06:19:40.103Z"
   },
   {
    "duration": 0,
    "start_time": "2022-05-13T06:19:40.104Z"
   },
   {
    "duration": 0,
    "start_time": "2022-05-13T06:19:40.105Z"
   },
   {
    "duration": 0,
    "start_time": "2022-05-13T06:19:40.107Z"
   },
   {
    "duration": 0,
    "start_time": "2022-05-13T06:19:40.108Z"
   },
   {
    "duration": 0,
    "start_time": "2022-05-13T06:19:40.109Z"
   },
   {
    "duration": 0,
    "start_time": "2022-05-13T06:19:40.111Z"
   },
   {
    "duration": 0,
    "start_time": "2022-05-13T06:19:40.112Z"
   },
   {
    "duration": 0,
    "start_time": "2022-05-13T06:19:40.113Z"
   },
   {
    "duration": 0,
    "start_time": "2022-05-13T06:19:40.115Z"
   },
   {
    "duration": 32,
    "start_time": "2022-05-13T06:20:00.120Z"
   },
   {
    "duration": 928,
    "start_time": "2022-05-13T06:20:09.349Z"
   },
   {
    "duration": 929,
    "start_time": "2022-05-13T06:20:10.279Z"
   },
   {
    "duration": 394,
    "start_time": "2022-05-13T06:20:11.210Z"
   },
   {
    "duration": 311,
    "start_time": "2022-05-13T06:20:11.606Z"
   },
   {
    "duration": 203,
    "start_time": "2022-05-13T06:20:11.918Z"
   },
   {
    "duration": 71,
    "start_time": "2022-05-13T06:20:12.122Z"
   },
   {
    "duration": 134,
    "start_time": "2022-05-13T06:20:12.194Z"
   },
   {
    "duration": 149,
    "start_time": "2022-05-13T06:20:12.329Z"
   },
   {
    "duration": 0,
    "start_time": "2022-05-13T06:20:12.488Z"
   },
   {
    "duration": 0,
    "start_time": "2022-05-13T06:20:12.490Z"
   },
   {
    "duration": 0,
    "start_time": "2022-05-13T06:20:12.491Z"
   },
   {
    "duration": 0,
    "start_time": "2022-05-13T06:20:12.493Z"
   },
   {
    "duration": 1,
    "start_time": "2022-05-13T06:20:12.494Z"
   },
   {
    "duration": 0,
    "start_time": "2022-05-13T06:20:12.496Z"
   },
   {
    "duration": 0,
    "start_time": "2022-05-13T06:20:12.498Z"
   },
   {
    "duration": 0,
    "start_time": "2022-05-13T06:20:12.500Z"
   },
   {
    "duration": 0,
    "start_time": "2022-05-13T06:20:12.502Z"
   },
   {
    "duration": 0,
    "start_time": "2022-05-13T06:20:12.504Z"
   },
   {
    "duration": 0,
    "start_time": "2022-05-13T06:20:12.506Z"
   },
   {
    "duration": 0,
    "start_time": "2022-05-13T06:20:12.507Z"
   },
   {
    "duration": 0,
    "start_time": "2022-05-13T06:20:12.509Z"
   },
   {
    "duration": 0,
    "start_time": "2022-05-13T06:20:12.511Z"
   },
   {
    "duration": 0,
    "start_time": "2022-05-13T06:20:12.512Z"
   },
   {
    "duration": 0,
    "start_time": "2022-05-13T06:20:12.514Z"
   },
   {
    "duration": 0,
    "start_time": "2022-05-13T06:20:12.516Z"
   },
   {
    "duration": 0,
    "start_time": "2022-05-13T06:20:12.517Z"
   },
   {
    "duration": 0,
    "start_time": "2022-05-13T06:20:12.519Z"
   },
   {
    "duration": 0,
    "start_time": "2022-05-13T06:20:12.521Z"
   },
   {
    "duration": 0,
    "start_time": "2022-05-13T06:20:12.522Z"
   },
   {
    "duration": 0,
    "start_time": "2022-05-13T06:20:12.524Z"
   },
   {
    "duration": 0,
    "start_time": "2022-05-13T06:20:12.525Z"
   },
   {
    "duration": 0,
    "start_time": "2022-05-13T06:20:12.527Z"
   },
   {
    "duration": 0,
    "start_time": "2022-05-13T06:20:12.528Z"
   },
   {
    "duration": 0,
    "start_time": "2022-05-13T06:20:12.528Z"
   },
   {
    "duration": 0,
    "start_time": "2022-05-13T06:20:12.588Z"
   },
   {
    "duration": 0,
    "start_time": "2022-05-13T06:20:12.590Z"
   },
   {
    "duration": 0,
    "start_time": "2022-05-13T06:20:12.591Z"
   },
   {
    "duration": 0,
    "start_time": "2022-05-13T06:20:12.592Z"
   },
   {
    "duration": 0,
    "start_time": "2022-05-13T06:20:12.593Z"
   },
   {
    "duration": 0,
    "start_time": "2022-05-13T06:20:12.594Z"
   },
   {
    "duration": 12,
    "start_time": "2022-05-13T06:21:18.917Z"
   },
   {
    "duration": 897,
    "start_time": "2022-05-13T06:21:26.099Z"
   },
   {
    "duration": 46,
    "start_time": "2022-05-13T06:21:26.998Z"
   },
   {
    "duration": 179,
    "start_time": "2022-05-13T06:21:27.046Z"
   },
   {
    "duration": 277,
    "start_time": "2022-05-13T06:21:27.227Z"
   },
   {
    "duration": 213,
    "start_time": "2022-05-13T06:21:27.506Z"
   },
   {
    "duration": 74,
    "start_time": "2022-05-13T06:21:27.721Z"
   },
   {
    "duration": 134,
    "start_time": "2022-05-13T06:21:27.797Z"
   },
   {
    "duration": 71,
    "start_time": "2022-05-13T06:21:27.933Z"
   },
   {
    "duration": 8,
    "start_time": "2022-05-13T06:21:28.006Z"
   },
   {
    "duration": 16,
    "start_time": "2022-05-13T06:21:28.017Z"
   },
   {
    "duration": 98,
    "start_time": "2022-05-13T06:21:28.034Z"
   },
   {
    "duration": 36,
    "start_time": "2022-05-13T06:21:28.187Z"
   },
   {
    "duration": 76,
    "start_time": "2022-05-13T06:21:28.225Z"
   },
   {
    "duration": 13,
    "start_time": "2022-05-13T06:21:28.302Z"
   },
   {
    "duration": 87,
    "start_time": "2022-05-13T06:21:28.317Z"
   },
   {
    "duration": 17,
    "start_time": "2022-05-13T06:21:28.406Z"
   },
   {
    "duration": 72,
    "start_time": "2022-05-13T06:21:28.424Z"
   },
   {
    "duration": 17,
    "start_time": "2022-05-13T06:21:28.497Z"
   },
   {
    "duration": 11,
    "start_time": "2022-05-13T06:21:28.516Z"
   },
   {
    "duration": 89,
    "start_time": "2022-05-13T06:21:28.529Z"
   },
   {
    "duration": 4,
    "start_time": "2022-05-13T06:21:28.619Z"
   },
   {
    "duration": 284,
    "start_time": "2022-05-13T06:21:28.625Z"
   },
   {
    "duration": 15,
    "start_time": "2022-05-13T06:21:28.910Z"
   },
   {
    "duration": 14,
    "start_time": "2022-05-13T06:21:28.926Z"
   },
   {
    "duration": 615,
    "start_time": "2022-05-13T06:21:28.942Z"
   },
   {
    "duration": 239,
    "start_time": "2022-05-13T06:21:29.559Z"
   },
   {
    "duration": 225,
    "start_time": "2022-05-13T06:21:29.800Z"
   },
   {
    "duration": 13,
    "start_time": "2022-05-13T06:21:30.028Z"
   },
   {
    "duration": 24,
    "start_time": "2022-05-13T06:21:30.043Z"
   },
   {
    "duration": 229,
    "start_time": "2022-05-13T06:21:30.069Z"
   },
   {
    "duration": 236,
    "start_time": "2022-05-13T06:21:30.301Z"
   },
   {
    "duration": 209,
    "start_time": "2022-05-13T06:21:30.538Z"
   },
   {
    "duration": 8,
    "start_time": "2022-05-13T06:21:30.748Z"
   },
   {
    "duration": 8,
    "start_time": "2022-05-13T06:21:30.758Z"
   },
   {
    "duration": 23,
    "start_time": "2022-05-13T06:21:30.768Z"
   },
   {
    "duration": 18,
    "start_time": "2022-05-13T06:21:30.792Z"
   },
   {
    "duration": 12,
    "start_time": "2022-05-13T06:21:30.812Z"
   },
   {
    "duration": 11,
    "start_time": "2022-05-13T06:21:30.825Z"
   },
   {
    "duration": 13,
    "start_time": "2022-05-13T06:21:30.838Z"
   },
   {
    "duration": 7,
    "start_time": "2022-05-13T06:21:30.853Z"
   },
   {
    "duration": 54,
    "start_time": "2022-05-13T06:22:42.357Z"
   },
   {
    "duration": 99,
    "start_time": "2022-05-13T06:22:52.700Z"
   },
   {
    "duration": 15,
    "start_time": "2022-05-13T06:23:43.759Z"
   },
   {
    "duration": 907,
    "start_time": "2022-05-13T06:23:56.619Z"
   },
   {
    "duration": 37,
    "start_time": "2022-05-13T06:23:57.528Z"
   },
   {
    "duration": 180,
    "start_time": "2022-05-13T06:23:57.567Z"
   },
   {
    "duration": 175,
    "start_time": "2022-05-13T06:23:57.750Z"
   },
   {
    "duration": 108,
    "start_time": "2022-05-13T06:23:57.926Z"
   },
   {
    "duration": 20,
    "start_time": "2022-05-13T06:23:58.035Z"
   },
   {
    "duration": 89,
    "start_time": "2022-05-13T06:23:58.057Z"
   },
   {
    "duration": 17,
    "start_time": "2022-05-13T06:23:58.148Z"
   },
   {
    "duration": 21,
    "start_time": "2022-05-13T06:23:58.167Z"
   },
   {
    "duration": 12,
    "start_time": "2022-05-13T06:23:58.190Z"
   },
   {
    "duration": 46,
    "start_time": "2022-05-13T06:23:58.204Z"
   },
   {
    "duration": 54,
    "start_time": "2022-05-13T06:23:58.252Z"
   },
   {
    "duration": 57,
    "start_time": "2022-05-13T06:23:58.308Z"
   },
   {
    "duration": 97,
    "start_time": "2022-05-13T06:23:58.367Z"
   },
   {
    "duration": 0,
    "start_time": "2022-05-13T06:23:58.466Z"
   },
   {
    "duration": 0,
    "start_time": "2022-05-13T06:23:58.467Z"
   },
   {
    "duration": 0,
    "start_time": "2022-05-13T06:23:58.468Z"
   },
   {
    "duration": 0,
    "start_time": "2022-05-13T06:23:58.469Z"
   },
   {
    "duration": 0,
    "start_time": "2022-05-13T06:23:58.470Z"
   },
   {
    "duration": 0,
    "start_time": "2022-05-13T06:23:58.488Z"
   },
   {
    "duration": 0,
    "start_time": "2022-05-13T06:23:58.489Z"
   },
   {
    "duration": 0,
    "start_time": "2022-05-13T06:23:58.490Z"
   },
   {
    "duration": 0,
    "start_time": "2022-05-13T06:23:58.491Z"
   },
   {
    "duration": 0,
    "start_time": "2022-05-13T06:23:58.492Z"
   },
   {
    "duration": 0,
    "start_time": "2022-05-13T06:23:58.492Z"
   },
   {
    "duration": 0,
    "start_time": "2022-05-13T06:23:58.493Z"
   },
   {
    "duration": 0,
    "start_time": "2022-05-13T06:23:58.495Z"
   },
   {
    "duration": 1,
    "start_time": "2022-05-13T06:23:58.495Z"
   },
   {
    "duration": 1,
    "start_time": "2022-05-13T06:23:58.496Z"
   },
   {
    "duration": 0,
    "start_time": "2022-05-13T06:23:58.497Z"
   },
   {
    "duration": 0,
    "start_time": "2022-05-13T06:23:58.498Z"
   },
   {
    "duration": 0,
    "start_time": "2022-05-13T06:23:58.499Z"
   },
   {
    "duration": 0,
    "start_time": "2022-05-13T06:23:58.500Z"
   },
   {
    "duration": 0,
    "start_time": "2022-05-13T06:23:58.501Z"
   },
   {
    "duration": 0,
    "start_time": "2022-05-13T06:23:58.502Z"
   },
   {
    "duration": 0,
    "start_time": "2022-05-13T06:23:58.503Z"
   },
   {
    "duration": 0,
    "start_time": "2022-05-13T06:23:58.504Z"
   },
   {
    "duration": 0,
    "start_time": "2022-05-13T06:23:58.505Z"
   },
   {
    "duration": 0,
    "start_time": "2022-05-13T06:23:58.506Z"
   },
   {
    "duration": 0,
    "start_time": "2022-05-13T06:23:58.507Z"
   },
   {
    "duration": 31,
    "start_time": "2022-05-13T06:24:45.085Z"
   },
   {
    "duration": 16,
    "start_time": "2022-05-13T06:24:48.376Z"
   },
   {
    "duration": 1032,
    "start_time": "2022-05-13T06:25:03.166Z"
   },
   {
    "duration": 43,
    "start_time": "2022-05-13T06:25:04.200Z"
   },
   {
    "duration": 180,
    "start_time": "2022-05-13T06:25:04.245Z"
   },
   {
    "duration": 162,
    "start_time": "2022-05-13T06:25:04.427Z"
   },
   {
    "duration": 112,
    "start_time": "2022-05-13T06:25:04.590Z"
   },
   {
    "duration": 23,
    "start_time": "2022-05-13T06:25:04.703Z"
   },
   {
    "duration": 89,
    "start_time": "2022-05-13T06:25:04.728Z"
   },
   {
    "duration": 21,
    "start_time": "2022-05-13T06:25:04.819Z"
   },
   {
    "duration": 12,
    "start_time": "2022-05-13T06:25:04.842Z"
   },
   {
    "duration": 23,
    "start_time": "2022-05-13T06:25:04.857Z"
   },
   {
    "duration": 57,
    "start_time": "2022-05-13T06:25:04.882Z"
   },
   {
    "duration": 47,
    "start_time": "2022-05-13T06:25:04.941Z"
   },
   {
    "duration": 63,
    "start_time": "2022-05-13T06:25:04.990Z"
   },
   {
    "duration": 48,
    "start_time": "2022-05-13T06:25:05.054Z"
   },
   {
    "duration": 99,
    "start_time": "2022-05-13T06:25:05.104Z"
   },
   {
    "duration": 0,
    "start_time": "2022-05-13T06:25:05.206Z"
   },
   {
    "duration": 0,
    "start_time": "2022-05-13T06:25:05.207Z"
   },
   {
    "duration": 0,
    "start_time": "2022-05-13T06:25:05.207Z"
   },
   {
    "duration": 0,
    "start_time": "2022-05-13T06:25:05.208Z"
   },
   {
    "duration": 0,
    "start_time": "2022-05-13T06:25:05.209Z"
   },
   {
    "duration": 0,
    "start_time": "2022-05-13T06:25:05.211Z"
   },
   {
    "duration": 0,
    "start_time": "2022-05-13T06:25:05.212Z"
   },
   {
    "duration": 0,
    "start_time": "2022-05-13T06:25:05.213Z"
   },
   {
    "duration": 0,
    "start_time": "2022-05-13T06:25:05.214Z"
   },
   {
    "duration": 0,
    "start_time": "2022-05-13T06:25:05.215Z"
   },
   {
    "duration": 0,
    "start_time": "2022-05-13T06:25:05.216Z"
   },
   {
    "duration": 0,
    "start_time": "2022-05-13T06:25:05.217Z"
   },
   {
    "duration": 0,
    "start_time": "2022-05-13T06:25:05.218Z"
   },
   {
    "duration": 0,
    "start_time": "2022-05-13T06:25:05.219Z"
   },
   {
    "duration": 0,
    "start_time": "2022-05-13T06:25:05.220Z"
   },
   {
    "duration": 0,
    "start_time": "2022-05-13T06:25:05.221Z"
   },
   {
    "duration": 0,
    "start_time": "2022-05-13T06:25:05.222Z"
   },
   {
    "duration": 0,
    "start_time": "2022-05-13T06:25:05.223Z"
   },
   {
    "duration": 0,
    "start_time": "2022-05-13T06:25:05.224Z"
   },
   {
    "duration": 0,
    "start_time": "2022-05-13T06:25:05.225Z"
   },
   {
    "duration": 0,
    "start_time": "2022-05-13T06:25:05.226Z"
   },
   {
    "duration": 0,
    "start_time": "2022-05-13T06:25:05.227Z"
   },
   {
    "duration": 0,
    "start_time": "2022-05-13T06:25:05.228Z"
   },
   {
    "duration": 0,
    "start_time": "2022-05-13T06:25:05.230Z"
   },
   {
    "duration": 15,
    "start_time": "2022-05-13T06:25:21.125Z"
   },
   {
    "duration": 12,
    "start_time": "2022-05-13T06:30:16.445Z"
   },
   {
    "duration": 17,
    "start_time": "2022-05-13T06:30:53.355Z"
   },
   {
    "duration": 17,
    "start_time": "2022-05-13T06:31:01.701Z"
   },
   {
    "duration": 15,
    "start_time": "2022-05-13T06:31:50.854Z"
   },
   {
    "duration": 18,
    "start_time": "2022-05-13T06:31:56.401Z"
   },
   {
    "duration": 1027,
    "start_time": "2022-05-13T06:33:27.116Z"
   },
   {
    "duration": 34,
    "start_time": "2022-05-13T06:33:28.145Z"
   },
   {
    "duration": 189,
    "start_time": "2022-05-13T06:33:28.181Z"
   },
   {
    "duration": 185,
    "start_time": "2022-05-13T06:33:28.372Z"
   },
   {
    "duration": 113,
    "start_time": "2022-05-13T06:33:28.559Z"
   },
   {
    "duration": 35,
    "start_time": "2022-05-13T06:33:28.673Z"
   },
   {
    "duration": 81,
    "start_time": "2022-05-13T06:33:28.710Z"
   },
   {
    "duration": 25,
    "start_time": "2022-05-13T06:33:28.794Z"
   },
   {
    "duration": 9,
    "start_time": "2022-05-13T06:33:28.820Z"
   },
   {
    "duration": 11,
    "start_time": "2022-05-13T06:33:28.832Z"
   },
   {
    "duration": 78,
    "start_time": "2022-05-13T06:33:28.845Z"
   },
   {
    "duration": 32,
    "start_time": "2022-05-13T06:33:28.925Z"
   },
   {
    "duration": 81,
    "start_time": "2022-05-13T06:33:28.958Z"
   },
   {
    "duration": 28,
    "start_time": "2022-05-13T06:33:29.041Z"
   },
   {
    "duration": 39,
    "start_time": "2022-05-13T06:33:29.070Z"
   },
   {
    "duration": 20,
    "start_time": "2022-05-13T06:33:29.111Z"
   },
   {
    "duration": 114,
    "start_time": "2022-05-13T06:33:29.133Z"
   },
   {
    "duration": 0,
    "start_time": "2022-05-13T06:33:29.251Z"
   },
   {
    "duration": 0,
    "start_time": "2022-05-13T06:33:29.252Z"
   },
   {
    "duration": 0,
    "start_time": "2022-05-13T06:33:29.254Z"
   },
   {
    "duration": 0,
    "start_time": "2022-05-13T06:33:29.255Z"
   },
   {
    "duration": 0,
    "start_time": "2022-05-13T06:33:29.256Z"
   },
   {
    "duration": 0,
    "start_time": "2022-05-13T06:33:29.257Z"
   },
   {
    "duration": 0,
    "start_time": "2022-05-13T06:33:29.258Z"
   },
   {
    "duration": 0,
    "start_time": "2022-05-13T06:33:29.260Z"
   },
   {
    "duration": 0,
    "start_time": "2022-05-13T06:33:29.261Z"
   },
   {
    "duration": 0,
    "start_time": "2022-05-13T06:33:29.262Z"
   },
   {
    "duration": 0,
    "start_time": "2022-05-13T06:33:29.289Z"
   },
   {
    "duration": 0,
    "start_time": "2022-05-13T06:33:29.290Z"
   },
   {
    "duration": 0,
    "start_time": "2022-05-13T06:33:29.292Z"
   },
   {
    "duration": 0,
    "start_time": "2022-05-13T06:33:29.294Z"
   },
   {
    "duration": 0,
    "start_time": "2022-05-13T06:33:29.296Z"
   },
   {
    "duration": 0,
    "start_time": "2022-05-13T06:33:29.298Z"
   },
   {
    "duration": 0,
    "start_time": "2022-05-13T06:33:29.300Z"
   },
   {
    "duration": 0,
    "start_time": "2022-05-13T06:33:29.301Z"
   },
   {
    "duration": 0,
    "start_time": "2022-05-13T06:33:29.303Z"
   },
   {
    "duration": 0,
    "start_time": "2022-05-13T06:33:29.304Z"
   },
   {
    "duration": 0,
    "start_time": "2022-05-13T06:33:29.306Z"
   },
   {
    "duration": 0,
    "start_time": "2022-05-13T06:33:29.308Z"
   },
   {
    "duration": 24,
    "start_time": "2022-05-13T06:34:15.897Z"
   },
   {
    "duration": 90,
    "start_time": "2022-05-13T06:34:26.703Z"
   },
   {
    "duration": 24,
    "start_time": "2022-05-13T06:34:44.392Z"
   },
   {
    "duration": 27,
    "start_time": "2022-05-13T06:36:12.938Z"
   },
   {
    "duration": 12,
    "start_time": "2022-05-13T06:36:28.172Z"
   },
   {
    "duration": 13,
    "start_time": "2022-05-13T06:36:37.382Z"
   },
   {
    "duration": 13,
    "start_time": "2022-05-13T06:37:49.853Z"
   },
   {
    "duration": 9,
    "start_time": "2022-05-13T06:38:33.623Z"
   },
   {
    "duration": 9,
    "start_time": "2022-05-13T06:39:02.561Z"
   },
   {
    "duration": 8,
    "start_time": "2022-05-13T06:39:08.840Z"
   },
   {
    "duration": 9,
    "start_time": "2022-05-13T06:39:23.678Z"
   },
   {
    "duration": 116,
    "start_time": "2022-05-13T06:39:53.266Z"
   },
   {
    "duration": 13,
    "start_time": "2022-05-13T06:40:08.299Z"
   },
   {
    "duration": 12,
    "start_time": "2022-05-13T06:40:22.484Z"
   },
   {
    "duration": 17,
    "start_time": "2022-05-13T06:41:36.132Z"
   },
   {
    "duration": 127,
    "start_time": "2022-05-13T06:41:44.158Z"
   },
   {
    "duration": 17,
    "start_time": "2022-05-13T06:41:48.230Z"
   },
   {
    "duration": 914,
    "start_time": "2022-05-13T06:42:49.669Z"
   },
   {
    "duration": 42,
    "start_time": "2022-05-13T06:42:50.585Z"
   },
   {
    "duration": 176,
    "start_time": "2022-05-13T06:42:50.629Z"
   },
   {
    "duration": 156,
    "start_time": "2022-05-13T06:42:50.807Z"
   },
   {
    "duration": 104,
    "start_time": "2022-05-13T06:42:50.965Z"
   },
   {
    "duration": 25,
    "start_time": "2022-05-13T06:42:51.071Z"
   },
   {
    "duration": 118,
    "start_time": "2022-05-13T06:42:51.097Z"
   },
   {
    "duration": 72,
    "start_time": "2022-05-13T06:42:51.216Z"
   },
   {
    "duration": 8,
    "start_time": "2022-05-13T06:42:51.290Z"
   },
   {
    "duration": 11,
    "start_time": "2022-05-13T06:42:51.301Z"
   },
   {
    "duration": 96,
    "start_time": "2022-05-13T06:42:51.314Z"
   },
   {
    "duration": 95,
    "start_time": "2022-05-13T06:42:51.412Z"
   },
   {
    "duration": 115,
    "start_time": "2022-05-13T06:42:51.509Z"
   },
   {
    "duration": 82,
    "start_time": "2022-05-13T06:42:51.625Z"
   },
   {
    "duration": 15,
    "start_time": "2022-05-13T06:42:51.709Z"
   },
   {
    "duration": 74,
    "start_time": "2022-05-13T06:42:51.725Z"
   },
   {
    "duration": 135,
    "start_time": "2022-05-13T06:42:51.801Z"
   },
   {
    "duration": 0,
    "start_time": "2022-05-13T06:42:51.988Z"
   },
   {
    "duration": 0,
    "start_time": "2022-05-13T06:42:51.990Z"
   },
   {
    "duration": 0,
    "start_time": "2022-05-13T06:42:51.991Z"
   },
   {
    "duration": 0,
    "start_time": "2022-05-13T06:42:51.992Z"
   },
   {
    "duration": 0,
    "start_time": "2022-05-13T06:42:51.993Z"
   },
   {
    "duration": 0,
    "start_time": "2022-05-13T06:42:51.993Z"
   },
   {
    "duration": 0,
    "start_time": "2022-05-13T06:42:51.995Z"
   },
   {
    "duration": 0,
    "start_time": "2022-05-13T06:42:51.995Z"
   },
   {
    "duration": 0,
    "start_time": "2022-05-13T06:42:51.996Z"
   },
   {
    "duration": 0,
    "start_time": "2022-05-13T06:42:51.997Z"
   },
   {
    "duration": 0,
    "start_time": "2022-05-13T06:42:51.998Z"
   },
   {
    "duration": 0,
    "start_time": "2022-05-13T06:42:51.999Z"
   },
   {
    "duration": 0,
    "start_time": "2022-05-13T06:42:52.000Z"
   },
   {
    "duration": 0,
    "start_time": "2022-05-13T06:42:52.001Z"
   },
   {
    "duration": 0,
    "start_time": "2022-05-13T06:42:52.001Z"
   },
   {
    "duration": 0,
    "start_time": "2022-05-13T06:42:52.002Z"
   },
   {
    "duration": 0,
    "start_time": "2022-05-13T06:42:52.003Z"
   },
   {
    "duration": 0,
    "start_time": "2022-05-13T06:42:52.004Z"
   },
   {
    "duration": 0,
    "start_time": "2022-05-13T06:42:52.005Z"
   },
   {
    "duration": 0,
    "start_time": "2022-05-13T06:42:52.005Z"
   },
   {
    "duration": 0,
    "start_time": "2022-05-13T06:42:52.007Z"
   },
   {
    "duration": 0,
    "start_time": "2022-05-13T06:42:52.008Z"
   },
   {
    "duration": 16,
    "start_time": "2022-05-13T06:43:07.298Z"
   },
   {
    "duration": 9,
    "start_time": "2022-05-13T06:44:28.162Z"
   },
   {
    "duration": 17,
    "start_time": "2022-05-13T06:44:33.576Z"
   },
   {
    "duration": 989,
    "start_time": "2022-05-13T06:44:41.483Z"
   },
   {
    "duration": 36,
    "start_time": "2022-05-13T06:44:42.475Z"
   },
   {
    "duration": 178,
    "start_time": "2022-05-13T06:44:42.513Z"
   },
   {
    "duration": 159,
    "start_time": "2022-05-13T06:44:42.693Z"
   },
   {
    "duration": 235,
    "start_time": "2022-05-13T06:44:42.854Z"
   },
   {
    "duration": 21,
    "start_time": "2022-05-13T06:44:43.091Z"
   },
   {
    "duration": 179,
    "start_time": "2022-05-13T06:44:43.113Z"
   },
   {
    "duration": 18,
    "start_time": "2022-05-13T06:44:43.293Z"
   },
   {
    "duration": 8,
    "start_time": "2022-05-13T06:44:43.313Z"
   },
   {
    "duration": 12,
    "start_time": "2022-05-13T06:44:43.324Z"
   },
   {
    "duration": 46,
    "start_time": "2022-05-13T06:44:43.389Z"
   },
   {
    "duration": 33,
    "start_time": "2022-05-13T06:44:43.488Z"
   },
   {
    "duration": 107,
    "start_time": "2022-05-13T06:44:43.523Z"
   },
   {
    "duration": 82,
    "start_time": "2022-05-13T06:44:43.632Z"
   },
   {
    "duration": 15,
    "start_time": "2022-05-13T06:44:43.715Z"
   },
   {
    "duration": 73,
    "start_time": "2022-05-13T06:44:43.731Z"
   },
   {
    "duration": 15,
    "start_time": "2022-05-13T06:44:43.806Z"
   },
   {
    "duration": 192,
    "start_time": "2022-05-13T06:44:43.822Z"
   },
   {
    "duration": 0,
    "start_time": "2022-05-13T06:44:44.016Z"
   },
   {
    "duration": 0,
    "start_time": "2022-05-13T06:44:44.017Z"
   },
   {
    "duration": 0,
    "start_time": "2022-05-13T06:44:44.018Z"
   },
   {
    "duration": 0,
    "start_time": "2022-05-13T06:44:44.019Z"
   },
   {
    "duration": 0,
    "start_time": "2022-05-13T06:44:44.020Z"
   },
   {
    "duration": 0,
    "start_time": "2022-05-13T06:44:44.021Z"
   },
   {
    "duration": 0,
    "start_time": "2022-05-13T06:44:44.022Z"
   },
   {
    "duration": 0,
    "start_time": "2022-05-13T06:44:44.023Z"
   },
   {
    "duration": 0,
    "start_time": "2022-05-13T06:44:44.024Z"
   },
   {
    "duration": 0,
    "start_time": "2022-05-13T06:44:44.025Z"
   },
   {
    "duration": 0,
    "start_time": "2022-05-13T06:44:44.026Z"
   },
   {
    "duration": 0,
    "start_time": "2022-05-13T06:44:44.027Z"
   },
   {
    "duration": 0,
    "start_time": "2022-05-13T06:44:44.028Z"
   },
   {
    "duration": 0,
    "start_time": "2022-05-13T06:44:44.029Z"
   },
   {
    "duration": 0,
    "start_time": "2022-05-13T06:44:44.030Z"
   },
   {
    "duration": 0,
    "start_time": "2022-05-13T06:44:44.031Z"
   },
   {
    "duration": 0,
    "start_time": "2022-05-13T06:44:44.089Z"
   },
   {
    "duration": 0,
    "start_time": "2022-05-13T06:44:44.090Z"
   },
   {
    "duration": 0,
    "start_time": "2022-05-13T06:44:44.091Z"
   },
   {
    "duration": 0,
    "start_time": "2022-05-13T06:44:44.092Z"
   },
   {
    "duration": 0,
    "start_time": "2022-05-13T06:44:44.093Z"
   },
   {
    "duration": 16,
    "start_time": "2022-05-13T06:45:16.562Z"
   },
   {
    "duration": 11,
    "start_time": "2022-05-13T06:45:33.644Z"
   },
   {
    "duration": 17,
    "start_time": "2022-05-13T06:45:37.972Z"
   },
   {
    "duration": 940,
    "start_time": "2022-05-13T06:45:48.044Z"
   },
   {
    "duration": 44,
    "start_time": "2022-05-13T06:45:48.986Z"
   },
   {
    "duration": 178,
    "start_time": "2022-05-13T06:45:49.032Z"
   },
   {
    "duration": 280,
    "start_time": "2022-05-13T06:45:49.212Z"
   },
   {
    "duration": 212,
    "start_time": "2022-05-13T06:45:49.494Z"
   },
   {
    "duration": 21,
    "start_time": "2022-05-13T06:45:49.707Z"
   },
   {
    "duration": 178,
    "start_time": "2022-05-13T06:45:49.730Z"
   },
   {
    "duration": 18,
    "start_time": "2022-05-13T06:45:49.909Z"
   },
   {
    "duration": 59,
    "start_time": "2022-05-13T06:45:49.929Z"
   },
   {
    "duration": 16,
    "start_time": "2022-05-13T06:45:49.990Z"
   },
   {
    "duration": 103,
    "start_time": "2022-05-13T06:45:50.008Z"
   },
   {
    "duration": 88,
    "start_time": "2022-05-13T06:45:50.112Z"
   },
   {
    "duration": 116,
    "start_time": "2022-05-13T06:45:50.202Z"
   },
   {
    "duration": 80,
    "start_time": "2022-05-13T06:45:50.321Z"
   },
   {
    "duration": 22,
    "start_time": "2022-05-13T06:45:50.403Z"
   },
   {
    "duration": 80,
    "start_time": "2022-05-13T06:45:50.427Z"
   },
   {
    "duration": 19,
    "start_time": "2022-05-13T06:45:50.509Z"
   },
   {
    "duration": 64,
    "start_time": "2022-05-13T06:45:50.529Z"
   },
   {
    "duration": 36,
    "start_time": "2022-05-13T06:45:50.594Z"
   },
   {
    "duration": 57,
    "start_time": "2022-05-13T06:45:50.632Z"
   },
   {
    "duration": 2091,
    "start_time": "2022-05-13T06:45:50.690Z"
   },
   {
    "duration": 0,
    "start_time": "2022-05-13T06:45:52.783Z"
   },
   {
    "duration": 0,
    "start_time": "2022-05-13T06:45:52.784Z"
   },
   {
    "duration": 0,
    "start_time": "2022-05-13T06:45:52.785Z"
   },
   {
    "duration": 0,
    "start_time": "2022-05-13T06:45:52.786Z"
   },
   {
    "duration": 0,
    "start_time": "2022-05-13T06:45:52.787Z"
   },
   {
    "duration": 0,
    "start_time": "2022-05-13T06:45:52.789Z"
   },
   {
    "duration": 0,
    "start_time": "2022-05-13T06:45:52.791Z"
   },
   {
    "duration": 0,
    "start_time": "2022-05-13T06:45:52.792Z"
   },
   {
    "duration": 0,
    "start_time": "2022-05-13T06:45:52.794Z"
   },
   {
    "duration": 0,
    "start_time": "2022-05-13T06:45:52.795Z"
   },
   {
    "duration": 0,
    "start_time": "2022-05-13T06:45:52.796Z"
   },
   {
    "duration": 0,
    "start_time": "2022-05-13T06:45:52.798Z"
   },
   {
    "duration": 0,
    "start_time": "2022-05-13T06:45:52.799Z"
   },
   {
    "duration": 0,
    "start_time": "2022-05-13T06:45:52.802Z"
   },
   {
    "duration": 0,
    "start_time": "2022-05-13T06:45:52.803Z"
   },
   {
    "duration": 1,
    "start_time": "2022-05-13T06:45:52.804Z"
   },
   {
    "duration": 0,
    "start_time": "2022-05-13T06:45:52.806Z"
   },
   {
    "duration": 0,
    "start_time": "2022-05-13T06:45:52.807Z"
   },
   {
    "duration": 880,
    "start_time": "2022-05-13T06:46:07.799Z"
   },
   {
    "duration": 35,
    "start_time": "2022-05-13T06:46:08.681Z"
   },
   {
    "duration": 168,
    "start_time": "2022-05-13T06:46:08.718Z"
   },
   {
    "duration": 161,
    "start_time": "2022-05-13T06:46:08.888Z"
   },
   {
    "duration": 112,
    "start_time": "2022-05-13T06:46:09.051Z"
   },
   {
    "duration": 23,
    "start_time": "2022-05-13T06:46:09.165Z"
   },
   {
    "duration": 75,
    "start_time": "2022-05-13T06:46:09.190Z"
   },
   {
    "duration": 28,
    "start_time": "2022-05-13T06:46:09.270Z"
   },
   {
    "duration": 5,
    "start_time": "2022-05-13T06:46:09.300Z"
   },
   {
    "duration": 15,
    "start_time": "2022-05-13T06:46:09.307Z"
   },
   {
    "duration": 68,
    "start_time": "2022-05-13T06:46:09.323Z"
   },
   {
    "duration": 40,
    "start_time": "2022-05-13T06:46:09.393Z"
   },
   {
    "duration": 78,
    "start_time": "2022-05-13T06:46:09.434Z"
   },
   {
    "duration": 30,
    "start_time": "2022-05-13T06:46:09.514Z"
   },
   {
    "duration": 22,
    "start_time": "2022-05-13T06:46:09.546Z"
   },
   {
    "duration": 37,
    "start_time": "2022-05-13T06:46:09.569Z"
   },
   {
    "duration": 16,
    "start_time": "2022-05-13T06:46:09.608Z"
   },
   {
    "duration": 11,
    "start_time": "2022-05-13T06:46:09.626Z"
   },
   {
    "duration": 65,
    "start_time": "2022-05-13T06:46:09.638Z"
   },
   {
    "duration": 4,
    "start_time": "2022-05-13T06:46:09.705Z"
   },
   {
    "duration": 2034,
    "start_time": "2022-05-13T06:46:09.710Z"
   },
   {
    "duration": 0,
    "start_time": "2022-05-13T06:46:11.747Z"
   },
   {
    "duration": 0,
    "start_time": "2022-05-13T06:46:11.748Z"
   },
   {
    "duration": 0,
    "start_time": "2022-05-13T06:46:11.749Z"
   },
   {
    "duration": 0,
    "start_time": "2022-05-13T06:46:11.751Z"
   },
   {
    "duration": 0,
    "start_time": "2022-05-13T06:46:11.752Z"
   },
   {
    "duration": 0,
    "start_time": "2022-05-13T06:46:11.753Z"
   },
   {
    "duration": 0,
    "start_time": "2022-05-13T06:46:11.754Z"
   },
   {
    "duration": 0,
    "start_time": "2022-05-13T06:46:11.756Z"
   },
   {
    "duration": 0,
    "start_time": "2022-05-13T06:46:11.757Z"
   },
   {
    "duration": 0,
    "start_time": "2022-05-13T06:46:11.759Z"
   },
   {
    "duration": 0,
    "start_time": "2022-05-13T06:46:11.760Z"
   },
   {
    "duration": 0,
    "start_time": "2022-05-13T06:46:11.762Z"
   },
   {
    "duration": 0,
    "start_time": "2022-05-13T06:46:11.764Z"
   },
   {
    "duration": 0,
    "start_time": "2022-05-13T06:46:11.765Z"
   },
   {
    "duration": 0,
    "start_time": "2022-05-13T06:46:11.766Z"
   },
   {
    "duration": 0,
    "start_time": "2022-05-13T06:46:11.768Z"
   },
   {
    "duration": 0,
    "start_time": "2022-05-13T06:46:11.769Z"
   },
   {
    "duration": 0,
    "start_time": "2022-05-13T06:46:11.770Z"
   },
   {
    "duration": 5,
    "start_time": "2022-05-13T06:46:42.194Z"
   },
   {
    "duration": 2234,
    "start_time": "2022-05-13T06:46:45.156Z"
   },
   {
    "duration": 4,
    "start_time": "2022-05-13T06:47:45.817Z"
   },
   {
    "duration": 110,
    "start_time": "2022-05-13T06:47:47.805Z"
   },
   {
    "duration": 1005,
    "start_time": "2022-05-13T06:48:27.475Z"
   },
   {
    "duration": 42,
    "start_time": "2022-05-13T06:48:28.482Z"
   },
   {
    "duration": 170,
    "start_time": "2022-05-13T06:48:28.525Z"
   },
   {
    "duration": 156,
    "start_time": "2022-05-13T06:48:28.697Z"
   },
   {
    "duration": 111,
    "start_time": "2022-05-13T06:48:28.855Z"
   },
   {
    "duration": 25,
    "start_time": "2022-05-13T06:48:28.968Z"
   },
   {
    "duration": 110,
    "start_time": "2022-05-13T06:48:28.994Z"
   },
   {
    "duration": 18,
    "start_time": "2022-05-13T06:48:29.105Z"
   },
   {
    "duration": 7,
    "start_time": "2022-05-13T06:48:29.124Z"
   },
   {
    "duration": 13,
    "start_time": "2022-05-13T06:48:29.187Z"
   },
   {
    "duration": 99,
    "start_time": "2022-05-13T06:48:29.202Z"
   },
   {
    "duration": 85,
    "start_time": "2022-05-13T06:48:29.304Z"
   },
   {
    "duration": 108,
    "start_time": "2022-05-13T06:48:29.391Z"
   },
   {
    "duration": 29,
    "start_time": "2022-05-13T06:48:29.500Z"
   },
   {
    "duration": 65,
    "start_time": "2022-05-13T06:48:29.531Z"
   },
   {
    "duration": 18,
    "start_time": "2022-05-13T06:48:29.598Z"
   },
   {
    "duration": 71,
    "start_time": "2022-05-13T06:48:29.618Z"
   },
   {
    "duration": 10,
    "start_time": "2022-05-13T06:48:29.691Z"
   },
   {
    "duration": 86,
    "start_time": "2022-05-13T06:48:29.703Z"
   },
   {
    "duration": 4,
    "start_time": "2022-05-13T06:48:29.791Z"
   },
   {
    "duration": 224,
    "start_time": "2022-05-13T06:48:29.797Z"
   },
   {
    "duration": 200,
    "start_time": "2022-05-13T06:48:30.023Z"
   },
   {
    "duration": 0,
    "start_time": "2022-05-13T06:48:30.225Z"
   },
   {
    "duration": 0,
    "start_time": "2022-05-13T06:48:30.227Z"
   },
   {
    "duration": 0,
    "start_time": "2022-05-13T06:48:30.228Z"
   },
   {
    "duration": 0,
    "start_time": "2022-05-13T06:48:30.228Z"
   },
   {
    "duration": 0,
    "start_time": "2022-05-13T06:48:30.230Z"
   },
   {
    "duration": 0,
    "start_time": "2022-05-13T06:48:30.230Z"
   },
   {
    "duration": 0,
    "start_time": "2022-05-13T06:48:30.231Z"
   },
   {
    "duration": 0,
    "start_time": "2022-05-13T06:48:30.232Z"
   },
   {
    "duration": 0,
    "start_time": "2022-05-13T06:48:30.288Z"
   },
   {
    "duration": 0,
    "start_time": "2022-05-13T06:48:30.290Z"
   },
   {
    "duration": 0,
    "start_time": "2022-05-13T06:48:30.291Z"
   },
   {
    "duration": 0,
    "start_time": "2022-05-13T06:48:30.292Z"
   },
   {
    "duration": 0,
    "start_time": "2022-05-13T06:48:30.293Z"
   },
   {
    "duration": 0,
    "start_time": "2022-05-13T06:48:30.293Z"
   },
   {
    "duration": 0,
    "start_time": "2022-05-13T06:48:30.295Z"
   },
   {
    "duration": 0,
    "start_time": "2022-05-13T06:48:30.296Z"
   },
   {
    "duration": 0,
    "start_time": "2022-05-13T06:48:30.297Z"
   },
   {
    "duration": 13,
    "start_time": "2022-05-13T06:48:45.725Z"
   },
   {
    "duration": 13,
    "start_time": "2022-05-13T06:48:52.659Z"
   },
   {
    "duration": 397,
    "start_time": "2022-05-13T06:49:29.283Z"
   },
   {
    "duration": 193,
    "start_time": "2022-05-13T06:49:48.961Z"
   },
   {
    "duration": 193,
    "start_time": "2022-05-13T06:49:52.309Z"
   },
   {
    "duration": 132,
    "start_time": "2022-05-13T06:53:52.671Z"
   },
   {
    "duration": 204,
    "start_time": "2022-05-13T06:54:01.834Z"
   },
   {
    "duration": 18,
    "start_time": "2022-05-13T08:02:31.069Z"
   },
   {
    "duration": 193,
    "start_time": "2022-05-13T08:02:39.283Z"
   },
   {
    "duration": 127,
    "start_time": "2022-05-13T08:02:48.682Z"
   },
   {
    "duration": 157,
    "start_time": "2022-05-13T08:02:51.775Z"
   },
   {
    "duration": 167,
    "start_time": "2022-05-13T08:03:02.995Z"
   },
   {
    "duration": 176,
    "start_time": "2022-05-13T08:03:44.868Z"
   },
   {
    "duration": 242,
    "start_time": "2022-05-13T08:03:55.269Z"
   },
   {
    "duration": 150,
    "start_time": "2022-05-13T08:07:15.147Z"
   },
   {
    "duration": 166,
    "start_time": "2022-05-13T08:08:50.017Z"
   },
   {
    "duration": 158,
    "start_time": "2022-05-13T08:08:55.018Z"
   },
   {
    "duration": 122,
    "start_time": "2022-05-13T08:11:00.628Z"
   },
   {
    "duration": 1955,
    "start_time": "2022-05-13T08:11:12.470Z"
   },
   {
    "duration": 1857,
    "start_time": "2022-05-13T08:11:40.769Z"
   },
   {
    "duration": 141,
    "start_time": "2022-05-13T08:11:51.020Z"
   },
   {
    "duration": 143,
    "start_time": "2022-05-13T08:14:39.243Z"
   },
   {
    "duration": 149,
    "start_time": "2022-05-13T08:19:32.999Z"
   },
   {
    "duration": 130,
    "start_time": "2022-05-13T08:20:05.240Z"
   },
   {
    "duration": 128,
    "start_time": "2022-05-13T08:49:10.568Z"
   },
   {
    "duration": 123,
    "start_time": "2022-05-13T08:49:33.738Z"
   },
   {
    "duration": 129,
    "start_time": "2022-05-13T08:50:06.860Z"
   },
   {
    "duration": 928,
    "start_time": "2022-05-13T08:50:16.351Z"
   },
   {
    "duration": 54,
    "start_time": "2022-05-13T08:50:17.281Z"
   },
   {
    "duration": 166,
    "start_time": "2022-05-13T08:50:17.336Z"
   },
   {
    "duration": 154,
    "start_time": "2022-05-13T08:50:17.504Z"
   },
   {
    "duration": 104,
    "start_time": "2022-05-13T08:50:17.659Z"
   },
   {
    "duration": 25,
    "start_time": "2022-05-13T08:50:17.764Z"
   },
   {
    "duration": 72,
    "start_time": "2022-05-13T08:50:17.791Z"
   },
   {
    "duration": 32,
    "start_time": "2022-05-13T08:50:17.864Z"
   },
   {
    "duration": 8,
    "start_time": "2022-05-13T08:50:17.897Z"
   },
   {
    "duration": 11,
    "start_time": "2022-05-13T08:50:17.907Z"
   },
   {
    "duration": 47,
    "start_time": "2022-05-13T08:50:17.919Z"
   },
   {
    "duration": 37,
    "start_time": "2022-05-13T08:50:17.987Z"
   },
   {
    "duration": 72,
    "start_time": "2022-05-13T08:50:18.025Z"
   },
   {
    "duration": 29,
    "start_time": "2022-05-13T08:50:18.099Z"
   },
   {
    "duration": 16,
    "start_time": "2022-05-13T08:50:18.129Z"
   },
   {
    "duration": 43,
    "start_time": "2022-05-13T08:50:18.147Z"
   },
   {
    "duration": 16,
    "start_time": "2022-05-13T08:50:18.192Z"
   },
   {
    "duration": 10,
    "start_time": "2022-05-13T08:50:18.209Z"
   },
   {
    "duration": 33,
    "start_time": "2022-05-13T08:50:18.221Z"
   },
   {
    "duration": 4,
    "start_time": "2022-05-13T08:50:18.255Z"
   },
   {
    "duration": 119,
    "start_time": "2022-05-13T08:50:18.287Z"
   },
   {
    "duration": 14,
    "start_time": "2022-05-13T08:50:18.407Z"
   },
   {
    "duration": 12,
    "start_time": "2022-05-13T08:50:18.422Z"
   },
   {
    "duration": 338,
    "start_time": "2022-05-13T08:50:18.435Z"
   },
   {
    "duration": 226,
    "start_time": "2022-05-13T08:50:18.775Z"
   },
   {
    "duration": 222,
    "start_time": "2022-05-13T08:50:19.004Z"
   },
   {
    "duration": 216,
    "start_time": "2022-05-13T08:50:19.227Z"
   },
   {
    "duration": 110,
    "start_time": "2022-05-13T08:50:19.447Z"
   },
   {
    "duration": 0,
    "start_time": "2022-05-13T08:50:19.559Z"
   },
   {
    "duration": 0,
    "start_time": "2022-05-13T08:50:19.561Z"
   },
   {
    "duration": 0,
    "start_time": "2022-05-13T08:50:19.562Z"
   },
   {
    "duration": 0,
    "start_time": "2022-05-13T08:50:19.563Z"
   },
   {
    "duration": 0,
    "start_time": "2022-05-13T08:50:19.564Z"
   },
   {
    "duration": 0,
    "start_time": "2022-05-13T08:50:19.565Z"
   },
   {
    "duration": 0,
    "start_time": "2022-05-13T08:50:19.566Z"
   },
   {
    "duration": 0,
    "start_time": "2022-05-13T08:50:19.567Z"
   },
   {
    "duration": 0,
    "start_time": "2022-05-13T08:50:19.568Z"
   },
   {
    "duration": 0,
    "start_time": "2022-05-13T08:50:19.569Z"
   },
   {
    "duration": 0,
    "start_time": "2022-05-13T08:50:19.570Z"
   },
   {
    "duration": 0,
    "start_time": "2022-05-13T08:50:19.571Z"
   },
   {
    "duration": 129,
    "start_time": "2022-05-13T08:51:07.775Z"
   },
   {
    "duration": 125,
    "start_time": "2022-05-13T08:56:13.945Z"
   },
   {
    "duration": 115,
    "start_time": "2022-05-13T08:56:38.239Z"
   },
   {
    "duration": 109,
    "start_time": "2022-05-13T08:57:59.650Z"
   },
   {
    "duration": 130,
    "start_time": "2022-05-13T08:58:17.080Z"
   },
   {
    "duration": 125,
    "start_time": "2022-05-13T08:58:51.312Z"
   },
   {
    "duration": 218,
    "start_time": "2022-05-13T08:59:17.087Z"
   },
   {
    "duration": 135,
    "start_time": "2022-05-13T10:36:09.556Z"
   },
   {
    "duration": 145,
    "start_time": "2022-05-13T10:36:14.228Z"
   },
   {
    "duration": 142,
    "start_time": "2022-05-13T10:36:35.207Z"
   },
   {
    "duration": 142,
    "start_time": "2022-05-13T10:36:50.666Z"
   },
   {
    "duration": 151,
    "start_time": "2022-05-13T10:36:59.578Z"
   },
   {
    "duration": 935,
    "start_time": "2022-05-13T10:40:11.742Z"
   },
   {
    "duration": 42,
    "start_time": "2022-05-13T10:40:12.679Z"
   },
   {
    "duration": 179,
    "start_time": "2022-05-13T10:40:12.722Z"
   },
   {
    "duration": 171,
    "start_time": "2022-05-13T10:40:12.903Z"
   },
   {
    "duration": 104,
    "start_time": "2022-05-13T10:40:13.076Z"
   },
   {
    "duration": 27,
    "start_time": "2022-05-13T10:40:13.181Z"
   },
   {
    "duration": 80,
    "start_time": "2022-05-13T10:40:13.210Z"
   },
   {
    "duration": 19,
    "start_time": "2022-05-13T10:40:13.292Z"
   },
   {
    "duration": 9,
    "start_time": "2022-05-13T10:40:13.312Z"
   },
   {
    "duration": 14,
    "start_time": "2022-05-13T10:40:13.323Z"
   },
   {
    "duration": 63,
    "start_time": "2022-05-13T10:40:13.339Z"
   },
   {
    "duration": 37,
    "start_time": "2022-05-13T10:40:13.404Z"
   },
   {
    "duration": 79,
    "start_time": "2022-05-13T10:40:13.443Z"
   },
   {
    "duration": 29,
    "start_time": "2022-05-13T10:40:13.524Z"
   },
   {
    "duration": 14,
    "start_time": "2022-05-13T10:40:13.555Z"
   },
   {
    "duration": 20,
    "start_time": "2022-05-13T10:40:13.588Z"
   },
   {
    "duration": 15,
    "start_time": "2022-05-13T10:40:13.609Z"
   },
   {
    "duration": 9,
    "start_time": "2022-05-13T10:40:13.625Z"
   },
   {
    "duration": 61,
    "start_time": "2022-05-13T10:40:13.636Z"
   },
   {
    "duration": 4,
    "start_time": "2022-05-13T10:40:13.698Z"
   },
   {
    "duration": 119,
    "start_time": "2022-05-13T10:40:13.704Z"
   },
   {
    "duration": 13,
    "start_time": "2022-05-13T10:40:13.825Z"
   },
   {
    "duration": 19,
    "start_time": "2022-05-13T10:40:13.840Z"
   },
   {
    "duration": 378,
    "start_time": "2022-05-13T10:40:13.861Z"
   },
   {
    "duration": 162,
    "start_time": "2022-05-13T10:40:14.240Z"
   },
   {
    "duration": 150,
    "start_time": "2022-05-13T10:40:14.404Z"
   },
   {
    "duration": 217,
    "start_time": "2022-05-13T10:40:14.555Z"
   },
   {
    "duration": 215,
    "start_time": "2022-05-13T10:40:14.775Z"
   },
   {
    "duration": 225,
    "start_time": "2022-05-13T10:40:14.992Z"
   },
   {
    "duration": 104,
    "start_time": "2022-05-13T10:40:15.218Z"
   },
   {
    "duration": 0,
    "start_time": "2022-05-13T10:40:15.323Z"
   },
   {
    "duration": 0,
    "start_time": "2022-05-13T10:40:15.325Z"
   },
   {
    "duration": 0,
    "start_time": "2022-05-13T10:40:15.325Z"
   },
   {
    "duration": 0,
    "start_time": "2022-05-13T10:40:15.326Z"
   },
   {
    "duration": 0,
    "start_time": "2022-05-13T10:40:15.327Z"
   },
   {
    "duration": 0,
    "start_time": "2022-05-13T10:40:15.328Z"
   },
   {
    "duration": 0,
    "start_time": "2022-05-13T10:40:15.329Z"
   },
   {
    "duration": 0,
    "start_time": "2022-05-13T10:40:15.330Z"
   },
   {
    "duration": 0,
    "start_time": "2022-05-13T10:40:15.331Z"
   },
   {
    "duration": 0,
    "start_time": "2022-05-13T10:40:15.331Z"
   },
   {
    "duration": 0,
    "start_time": "2022-05-13T10:40:15.333Z"
   },
   {
    "duration": 0,
    "start_time": "2022-05-13T10:40:15.334Z"
   },
   {
    "duration": 921,
    "start_time": "2022-05-13T11:27:19.867Z"
   },
   {
    "duration": 44,
    "start_time": "2022-05-13T11:27:20.790Z"
   },
   {
    "duration": 186,
    "start_time": "2022-05-13T11:27:20.836Z"
   },
   {
    "duration": 170,
    "start_time": "2022-05-13T11:27:21.025Z"
   },
   {
    "duration": 113,
    "start_time": "2022-05-13T11:27:21.197Z"
   },
   {
    "duration": 22,
    "start_time": "2022-05-13T11:27:21.312Z"
   },
   {
    "duration": 91,
    "start_time": "2022-05-13T11:27:21.336Z"
   },
   {
    "duration": 21,
    "start_time": "2022-05-13T11:27:21.428Z"
   },
   {
    "duration": 20,
    "start_time": "2022-05-13T11:27:21.451Z"
   },
   {
    "duration": 14,
    "start_time": "2022-05-13T11:27:21.474Z"
   },
   {
    "duration": 50,
    "start_time": "2022-05-13T11:27:21.490Z"
   },
   {
    "duration": 47,
    "start_time": "2022-05-13T11:27:21.541Z"
   },
   {
    "duration": 61,
    "start_time": "2022-05-13T11:27:21.590Z"
   },
   {
    "duration": 47,
    "start_time": "2022-05-13T11:27:21.653Z"
   },
   {
    "duration": 15,
    "start_time": "2022-05-13T11:27:21.702Z"
   },
   {
    "duration": 27,
    "start_time": "2022-05-13T11:27:21.718Z"
   },
   {
    "duration": 16,
    "start_time": "2022-05-13T11:27:21.747Z"
   },
   {
    "duration": 27,
    "start_time": "2022-05-13T11:27:21.765Z"
   },
   {
    "duration": 61,
    "start_time": "2022-05-13T11:27:21.794Z"
   },
   {
    "duration": 4,
    "start_time": "2022-05-13T11:27:21.857Z"
   },
   {
    "duration": 126,
    "start_time": "2022-05-13T11:27:21.863Z"
   },
   {
    "duration": 14,
    "start_time": "2022-05-13T11:27:21.991Z"
   },
   {
    "duration": 27,
    "start_time": "2022-05-13T11:27:22.007Z"
   },
   {
    "duration": 378,
    "start_time": "2022-05-13T11:27:22.035Z"
   },
   {
    "duration": 167,
    "start_time": "2022-05-13T11:27:22.415Z"
   },
   {
    "duration": 151,
    "start_time": "2022-05-13T11:27:22.588Z"
   },
   {
    "duration": 247,
    "start_time": "2022-05-13T11:27:22.741Z"
   },
   {
    "duration": 232,
    "start_time": "2022-05-13T11:27:22.991Z"
   },
   {
    "duration": 223,
    "start_time": "2022-05-13T11:27:23.225Z"
   },
   {
    "duration": 105,
    "start_time": "2022-05-13T11:27:23.450Z"
   },
   {
    "duration": 0,
    "start_time": "2022-05-13T11:27:23.556Z"
   },
   {
    "duration": 0,
    "start_time": "2022-05-13T11:27:23.557Z"
   },
   {
    "duration": 0,
    "start_time": "2022-05-13T11:27:23.558Z"
   },
   {
    "duration": 1,
    "start_time": "2022-05-13T11:27:23.559Z"
   },
   {
    "duration": 0,
    "start_time": "2022-05-13T11:27:23.560Z"
   },
   {
    "duration": 0,
    "start_time": "2022-05-13T11:27:23.561Z"
   },
   {
    "duration": 0,
    "start_time": "2022-05-13T11:27:23.562Z"
   },
   {
    "duration": 0,
    "start_time": "2022-05-13T11:27:23.563Z"
   },
   {
    "duration": 0,
    "start_time": "2022-05-13T11:27:23.564Z"
   },
   {
    "duration": 0,
    "start_time": "2022-05-13T11:27:23.565Z"
   },
   {
    "duration": 0,
    "start_time": "2022-05-13T11:27:23.589Z"
   },
   {
    "duration": 0,
    "start_time": "2022-05-13T11:27:23.590Z"
   },
   {
    "duration": 13,
    "start_time": "2022-05-13T11:32:08.893Z"
   },
   {
    "duration": 12,
    "start_time": "2022-05-13T11:32:16.972Z"
   },
   {
    "duration": 19,
    "start_time": "2022-05-13T11:32:29.984Z"
   },
   {
    "duration": 202,
    "start_time": "2022-05-13T11:32:49.139Z"
   },
   {
    "duration": 204,
    "start_time": "2022-05-13T11:32:53.498Z"
   },
   {
    "duration": 191,
    "start_time": "2022-05-13T11:33:21.798Z"
   },
   {
    "duration": 226,
    "start_time": "2022-05-13T11:34:59.295Z"
   },
   {
    "duration": 148,
    "start_time": "2022-05-13T11:38:32.816Z"
   },
   {
    "duration": 956,
    "start_time": "2022-05-13T11:38:57.724Z"
   },
   {
    "duration": 43,
    "start_time": "2022-05-13T11:38:58.682Z"
   },
   {
    "duration": 190,
    "start_time": "2022-05-13T11:38:58.726Z"
   },
   {
    "duration": 169,
    "start_time": "2022-05-13T11:38:58.919Z"
   },
   {
    "duration": 142,
    "start_time": "2022-05-13T11:38:59.089Z"
   },
   {
    "duration": 75,
    "start_time": "2022-05-13T11:38:59.233Z"
   },
   {
    "duration": 178,
    "start_time": "2022-05-13T11:38:59.310Z"
   },
   {
    "duration": 19,
    "start_time": "2022-05-13T11:38:59.490Z"
   },
   {
    "duration": 11,
    "start_time": "2022-05-13T11:38:59.511Z"
   },
   {
    "duration": 65,
    "start_time": "2022-05-13T11:38:59.525Z"
   },
   {
    "duration": 102,
    "start_time": "2022-05-13T11:38:59.592Z"
   },
   {
    "duration": 34,
    "start_time": "2022-05-13T11:38:59.696Z"
   },
   {
    "duration": 168,
    "start_time": "2022-05-13T11:38:59.731Z"
   },
   {
    "duration": 31,
    "start_time": "2022-05-13T11:38:59.901Z"
   },
   {
    "duration": 18,
    "start_time": "2022-05-13T11:38:59.989Z"
   },
   {
    "duration": 22,
    "start_time": "2022-05-13T11:39:00.009Z"
   },
   {
    "duration": 16,
    "start_time": "2022-05-13T11:39:00.089Z"
   },
   {
    "duration": 12,
    "start_time": "2022-05-13T11:39:00.106Z"
   },
   {
    "duration": 89,
    "start_time": "2022-05-13T11:39:00.120Z"
   },
   {
    "duration": 5,
    "start_time": "2022-05-13T11:39:00.210Z"
   },
   {
    "duration": 216,
    "start_time": "2022-05-13T11:39:00.216Z"
   },
   {
    "duration": 66,
    "start_time": "2022-05-13T11:39:00.434Z"
   },
   {
    "duration": 37,
    "start_time": "2022-05-13T11:39:00.502Z"
   },
   {
    "duration": 443,
    "start_time": "2022-05-13T11:39:00.540Z"
   },
   {
    "duration": 163,
    "start_time": "2022-05-13T11:39:00.987Z"
   },
   {
    "duration": 147,
    "start_time": "2022-05-13T11:39:01.151Z"
   },
   {
    "duration": 227,
    "start_time": "2022-05-13T11:39:01.300Z"
   },
   {
    "duration": 228,
    "start_time": "2022-05-13T11:39:01.531Z"
   },
   {
    "duration": 230,
    "start_time": "2022-05-13T11:39:01.761Z"
   },
   {
    "duration": 13,
    "start_time": "2022-05-13T11:39:01.992Z"
   },
   {
    "duration": 22,
    "start_time": "2022-05-13T11:39:02.007Z"
   },
   {
    "duration": 159,
    "start_time": "2022-05-13T11:39:02.031Z"
   },
   {
    "duration": 229,
    "start_time": "2022-05-13T11:39:02.192Z"
   },
   {
    "duration": 229,
    "start_time": "2022-05-13T11:39:02.423Z"
   },
   {
    "duration": 310,
    "start_time": "2022-05-13T11:39:02.654Z"
   },
   {
    "duration": 6,
    "start_time": "2022-05-13T11:39:02.966Z"
   },
   {
    "duration": 63,
    "start_time": "2022-05-13T11:39:02.974Z"
   },
   {
    "duration": 40,
    "start_time": "2022-05-13T11:39:03.039Z"
   },
   {
    "duration": 46,
    "start_time": "2022-05-13T11:39:03.081Z"
   },
   {
    "duration": 28,
    "start_time": "2022-05-13T11:39:03.129Z"
   },
   {
    "duration": 12,
    "start_time": "2022-05-13T11:39:03.159Z"
   },
   {
    "duration": 34,
    "start_time": "2022-05-13T11:39:03.173Z"
   },
   {
    "duration": 24,
    "start_time": "2022-05-13T11:39:03.209Z"
   },
   {
    "duration": 142,
    "start_time": "2022-05-13T11:40:04.111Z"
   },
   {
    "duration": 158,
    "start_time": "2022-05-13T11:40:31.266Z"
   },
   {
    "duration": 209,
    "start_time": "2022-05-13T11:56:24.810Z"
   },
   {
    "duration": 206,
    "start_time": "2022-05-13T11:56:31.533Z"
   },
   {
    "duration": 205,
    "start_time": "2022-05-13T11:56:35.746Z"
   },
   {
    "duration": 232,
    "start_time": "2022-05-13T11:56:42.057Z"
   },
   {
    "duration": 208,
    "start_time": "2022-05-13T11:56:46.721Z"
   },
   {
    "duration": 202,
    "start_time": "2022-05-13T11:56:51.964Z"
   },
   {
    "duration": 208,
    "start_time": "2022-05-13T11:56:57.621Z"
   },
   {
    "duration": 213,
    "start_time": "2022-05-13T11:57:21.608Z"
   },
   {
    "duration": 331,
    "start_time": "2022-05-13T11:57:26.770Z"
   },
   {
    "duration": 154,
    "start_time": "2022-05-13T11:58:35.358Z"
   },
   {
    "duration": 147,
    "start_time": "2022-05-13T12:14:12.968Z"
   },
   {
    "duration": 200,
    "start_time": "2022-05-13T12:16:18.204Z"
   },
   {
    "duration": 106,
    "start_time": "2022-05-13T12:20:52.259Z"
   },
   {
    "duration": 13,
    "start_time": "2022-05-13T12:21:01.854Z"
   },
   {
    "duration": 15,
    "start_time": "2022-05-13T12:21:07.845Z"
   },
   {
    "duration": 16,
    "start_time": "2022-05-13T12:21:19.131Z"
   },
   {
    "duration": 19,
    "start_time": "2022-05-13T12:21:38.691Z"
   },
   {
    "duration": 23,
    "start_time": "2022-05-13T12:21:55.326Z"
   },
   {
    "duration": 949,
    "start_time": "2022-05-13T12:23:08.077Z"
   },
   {
    "duration": 44,
    "start_time": "2022-05-13T12:23:09.028Z"
   },
   {
    "duration": 185,
    "start_time": "2022-05-13T12:23:09.073Z"
   },
   {
    "duration": 159,
    "start_time": "2022-05-13T12:23:09.260Z"
   },
   {
    "duration": 108,
    "start_time": "2022-05-13T12:23:09.420Z"
   },
   {
    "duration": 21,
    "start_time": "2022-05-13T12:23:09.530Z"
   },
   {
    "duration": 85,
    "start_time": "2022-05-13T12:23:09.552Z"
   },
   {
    "duration": 18,
    "start_time": "2022-05-13T12:23:09.639Z"
   },
   {
    "duration": 8,
    "start_time": "2022-05-13T12:23:09.659Z"
   },
   {
    "duration": 25,
    "start_time": "2022-05-13T12:23:09.670Z"
   },
   {
    "duration": 45,
    "start_time": "2022-05-13T12:23:09.697Z"
   },
   {
    "duration": 53,
    "start_time": "2022-05-13T12:23:09.744Z"
   },
   {
    "duration": 60,
    "start_time": "2022-05-13T12:23:09.799Z"
   },
   {
    "duration": 49,
    "start_time": "2022-05-13T12:23:09.862Z"
   },
   {
    "duration": 16,
    "start_time": "2022-05-13T12:23:09.913Z"
   },
   {
    "duration": 19,
    "start_time": "2022-05-13T12:23:09.931Z"
   },
   {
    "duration": 45,
    "start_time": "2022-05-13T12:23:09.952Z"
   },
   {
    "duration": 12,
    "start_time": "2022-05-13T12:23:09.999Z"
   },
   {
    "duration": 40,
    "start_time": "2022-05-13T12:23:10.013Z"
   },
   {
    "duration": 5,
    "start_time": "2022-05-13T12:23:10.055Z"
   },
   {
    "duration": 142,
    "start_time": "2022-05-13T12:23:10.062Z"
   },
   {
    "duration": 21,
    "start_time": "2022-05-13T12:23:10.206Z"
   },
   {
    "duration": 13,
    "start_time": "2022-05-13T12:23:10.229Z"
   },
   {
    "duration": 662,
    "start_time": "2022-05-13T12:23:10.244Z"
   },
   {
    "duration": 310,
    "start_time": "2022-05-13T12:23:10.908Z"
   },
   {
    "duration": 301,
    "start_time": "2022-05-13T12:23:11.220Z"
   },
   {
    "duration": 392,
    "start_time": "2022-05-13T12:23:11.523Z"
   },
   {
    "duration": 209,
    "start_time": "2022-05-13T12:23:11.919Z"
   },
   {
    "duration": 207,
    "start_time": "2022-05-13T12:23:12.129Z"
   },
   {
    "duration": 12,
    "start_time": "2022-05-13T12:23:12.337Z"
   },
   {
    "duration": 15,
    "start_time": "2022-05-13T12:23:12.351Z"
   },
   {
    "duration": 233,
    "start_time": "2022-05-13T12:23:12.368Z"
   },
   {
    "duration": 162,
    "start_time": "2022-05-13T12:23:12.603Z"
   },
   {
    "duration": 219,
    "start_time": "2022-05-13T12:23:12.767Z"
   },
   {
    "duration": 292,
    "start_time": "2022-05-13T12:23:12.988Z"
   },
   {
    "duration": 28,
    "start_time": "2022-05-13T12:23:13.282Z"
   },
   {
    "duration": 8,
    "start_time": "2022-05-13T12:23:13.312Z"
   },
   {
    "duration": 104,
    "start_time": "2022-05-13T12:23:13.322Z"
   },
   {
    "duration": 0,
    "start_time": "2022-05-13T12:23:13.428Z"
   },
   {
    "duration": 0,
    "start_time": "2022-05-13T12:23:13.429Z"
   },
   {
    "duration": 0,
    "start_time": "2022-05-13T12:23:13.430Z"
   },
   {
    "duration": 0,
    "start_time": "2022-05-13T12:23:13.431Z"
   },
   {
    "duration": 0,
    "start_time": "2022-05-13T12:23:13.432Z"
   },
   {
    "duration": 1034,
    "start_time": "2022-05-14T07:38:41.418Z"
   },
   {
    "duration": 48,
    "start_time": "2022-05-14T07:38:42.454Z"
   },
   {
    "duration": 186,
    "start_time": "2022-05-14T07:38:42.504Z"
   },
   {
    "duration": 280,
    "start_time": "2022-05-14T07:38:42.693Z"
   },
   {
    "duration": 266,
    "start_time": "2022-05-14T07:38:42.975Z"
   },
   {
    "duration": 27,
    "start_time": "2022-05-14T07:38:43.242Z"
   },
   {
    "duration": 181,
    "start_time": "2022-05-14T07:38:43.270Z"
   },
   {
    "duration": 19,
    "start_time": "2022-05-14T07:38:43.452Z"
   },
   {
    "duration": 62,
    "start_time": "2022-05-14T07:38:43.472Z"
   },
   {
    "duration": 11,
    "start_time": "2022-05-14T07:38:43.537Z"
   },
   {
    "duration": 102,
    "start_time": "2022-05-14T07:38:43.553Z"
   },
   {
    "duration": 88,
    "start_time": "2022-05-14T07:38:43.657Z"
   },
   {
    "duration": 110,
    "start_time": "2022-05-14T07:38:43.747Z"
   },
   {
    "duration": 85,
    "start_time": "2022-05-14T07:38:43.859Z"
   },
   {
    "duration": 16,
    "start_time": "2022-05-14T07:38:43.945Z"
   },
   {
    "duration": 72,
    "start_time": "2022-05-14T07:38:43.963Z"
   },
   {
    "duration": 16,
    "start_time": "2022-05-14T07:38:44.036Z"
   },
   {
    "duration": 10,
    "start_time": "2022-05-14T07:38:44.054Z"
   },
   {
    "duration": 92,
    "start_time": "2022-05-14T07:38:44.066Z"
   },
   {
    "duration": 5,
    "start_time": "2022-05-14T07:38:44.159Z"
   },
   {
    "duration": 281,
    "start_time": "2022-05-14T07:38:44.165Z"
   },
   {
    "duration": 20,
    "start_time": "2022-05-14T07:38:44.448Z"
   },
   {
    "duration": 12,
    "start_time": "2022-05-14T07:38:44.470Z"
   },
   {
    "duration": 591,
    "start_time": "2022-05-14T07:38:44.484Z"
   },
   {
    "duration": 181,
    "start_time": "2022-05-14T07:38:45.077Z"
   },
   {
    "duration": 166,
    "start_time": "2022-05-14T07:38:45.260Z"
   },
   {
    "duration": 255,
    "start_time": "2022-05-14T07:38:45.427Z"
   },
   {
    "duration": 252,
    "start_time": "2022-05-14T07:38:45.686Z"
   },
   {
    "duration": 251,
    "start_time": "2022-05-14T07:38:45.940Z"
   },
   {
    "duration": 12,
    "start_time": "2022-05-14T07:38:46.194Z"
   },
   {
    "duration": 27,
    "start_time": "2022-05-14T07:38:46.208Z"
   },
   {
    "duration": 252,
    "start_time": "2022-05-14T07:38:46.238Z"
   },
   {
    "duration": 172,
    "start_time": "2022-05-14T07:38:46.492Z"
   },
   {
    "duration": 246,
    "start_time": "2022-05-14T07:38:46.666Z"
   },
   {
    "duration": 311,
    "start_time": "2022-05-14T07:38:46.914Z"
   },
   {
    "duration": 999,
    "start_time": "2022-05-14T07:38:47.226Z"
   },
   {
    "duration": 0,
    "start_time": "2022-05-14T07:38:48.227Z"
   },
   {
    "duration": 0,
    "start_time": "2022-05-14T07:38:48.228Z"
   },
   {
    "duration": 0,
    "start_time": "2022-05-14T07:38:48.230Z"
   },
   {
    "duration": 0,
    "start_time": "2022-05-14T07:38:48.231Z"
   },
   {
    "duration": 0,
    "start_time": "2022-05-14T07:38:48.232Z"
   },
   {
    "duration": 0,
    "start_time": "2022-05-14T07:38:48.233Z"
   },
   {
    "duration": 0,
    "start_time": "2022-05-14T07:38:48.234Z"
   },
   {
    "duration": 10,
    "start_time": "2022-05-14T07:41:29.393Z"
   },
   {
    "duration": 2746,
    "start_time": "2022-05-14T07:41:36.321Z"
   },
   {
    "duration": 18,
    "start_time": "2022-05-14T07:41:51.375Z"
   },
   {
    "duration": 2741,
    "start_time": "2022-05-14T07:41:55.139Z"
   },
   {
    "duration": 13,
    "start_time": "2022-05-14T07:45:23.214Z"
   },
   {
    "duration": 11,
    "start_time": "2022-05-14T07:45:42.743Z"
   },
   {
    "duration": 176,
    "start_time": "2022-05-14T07:47:07.993Z"
   },
   {
    "duration": 187,
    "start_time": "2022-05-14T07:47:36.612Z"
   },
   {
    "duration": 203,
    "start_time": "2022-05-14T07:48:19.831Z"
   },
   {
    "duration": 166,
    "start_time": "2022-05-14T07:48:43.038Z"
   },
   {
    "duration": 24,
    "start_time": "2022-05-14T07:49:52.248Z"
   },
   {
    "duration": 13,
    "start_time": "2022-05-14T07:54:57.398Z"
   },
   {
    "duration": 9,
    "start_time": "2022-05-14T07:59:26.861Z"
   },
   {
    "duration": 6,
    "start_time": "2022-05-14T07:59:28.536Z"
   },
   {
    "duration": 9,
    "start_time": "2022-05-14T07:59:36.205Z"
   },
   {
    "duration": 6,
    "start_time": "2022-05-14T07:59:38.664Z"
   },
   {
    "duration": 6,
    "start_time": "2022-05-14T08:11:38.534Z"
   },
   {
    "duration": 17,
    "start_time": "2022-05-14T08:12:08.140Z"
   },
   {
    "duration": 12,
    "start_time": "2022-05-14T08:12:54.744Z"
   },
   {
    "duration": 15,
    "start_time": "2022-05-14T08:13:04.925Z"
   },
   {
    "duration": 19,
    "start_time": "2022-05-14T08:14:09.110Z"
   },
   {
    "duration": 19,
    "start_time": "2022-05-14T08:14:28.586Z"
   },
   {
    "duration": 20,
    "start_time": "2022-05-14T08:14:34.859Z"
   },
   {
    "duration": 9,
    "start_time": "2022-05-14T08:35:39.836Z"
   },
   {
    "duration": 29,
    "start_time": "2022-05-14T08:36:13.316Z"
   },
   {
    "duration": 27,
    "start_time": "2022-05-14T08:36:46.743Z"
   },
   {
    "duration": 27,
    "start_time": "2022-05-14T08:36:58.772Z"
   },
   {
    "duration": 26,
    "start_time": "2022-05-14T08:37:18.894Z"
   },
   {
    "duration": 26,
    "start_time": "2022-05-14T08:37:43.715Z"
   },
   {
    "duration": 26,
    "start_time": "2022-05-14T08:38:04.162Z"
   },
   {
    "duration": 26,
    "start_time": "2022-05-14T08:38:38.810Z"
   },
   {
    "duration": 27,
    "start_time": "2022-05-14T08:38:53.023Z"
   },
   {
    "duration": 14,
    "start_time": "2022-05-14T08:55:36.570Z"
   },
   {
    "duration": 44,
    "start_time": "2022-05-14T08:55:57.686Z"
   },
   {
    "duration": 11,
    "start_time": "2022-05-14T08:57:48.718Z"
   },
   {
    "duration": 243,
    "start_time": "2022-05-14T09:00:02.374Z"
   },
   {
    "duration": 12,
    "start_time": "2022-05-14T09:00:06.029Z"
   },
   {
    "duration": 958,
    "start_time": "2022-05-14T09:02:55.583Z"
   },
   {
    "duration": 47,
    "start_time": "2022-05-14T09:02:56.543Z"
   },
   {
    "duration": 182,
    "start_time": "2022-05-14T09:02:56.591Z"
   },
   {
    "duration": 171,
    "start_time": "2022-05-14T09:02:56.775Z"
   },
   {
    "duration": 116,
    "start_time": "2022-05-14T09:02:56.947Z"
   },
   {
    "duration": 26,
    "start_time": "2022-05-14T09:02:57.065Z"
   },
   {
    "duration": 83,
    "start_time": "2022-05-14T09:02:57.093Z"
   },
   {
    "duration": 16,
    "start_time": "2022-05-14T09:02:57.178Z"
   },
   {
    "duration": 8,
    "start_time": "2022-05-14T09:02:57.196Z"
   },
   {
    "duration": 11,
    "start_time": "2022-05-14T09:02:57.207Z"
   },
   {
    "duration": 50,
    "start_time": "2022-05-14T09:02:57.234Z"
   },
   {
    "duration": 48,
    "start_time": "2022-05-14T09:02:57.286Z"
   },
   {
    "duration": 59,
    "start_time": "2022-05-14T09:02:57.336Z"
   },
   {
    "duration": 43,
    "start_time": "2022-05-14T09:02:57.397Z"
   },
   {
    "duration": 17,
    "start_time": "2022-05-14T09:02:57.442Z"
   },
   {
    "duration": 20,
    "start_time": "2022-05-14T09:02:57.460Z"
   },
   {
    "duration": 17,
    "start_time": "2022-05-14T09:02:57.482Z"
   },
   {
    "duration": 43,
    "start_time": "2022-05-14T09:02:57.501Z"
   },
   {
    "duration": 38,
    "start_time": "2022-05-14T09:02:57.546Z"
   },
   {
    "duration": 5,
    "start_time": "2022-05-14T09:02:57.587Z"
   },
   {
    "duration": 150,
    "start_time": "2022-05-14T09:02:57.593Z"
   },
   {
    "duration": 14,
    "start_time": "2022-05-14T09:02:57.745Z"
   },
   {
    "duration": 14,
    "start_time": "2022-05-14T09:02:57.761Z"
   },
   {
    "duration": 394,
    "start_time": "2022-05-14T09:02:57.777Z"
   },
   {
    "duration": 201,
    "start_time": "2022-05-14T09:02:58.174Z"
   },
   {
    "duration": 184,
    "start_time": "2022-05-14T09:02:58.377Z"
   },
   {
    "duration": 252,
    "start_time": "2022-05-14T09:02:58.563Z"
   },
   {
    "duration": 269,
    "start_time": "2022-05-14T09:02:58.820Z"
   },
   {
    "duration": 245,
    "start_time": "2022-05-14T09:02:59.091Z"
   },
   {
    "duration": 14,
    "start_time": "2022-05-14T09:02:59.338Z"
   },
   {
    "duration": 12,
    "start_time": "2022-05-14T09:02:59.355Z"
   },
   {
    "duration": 262,
    "start_time": "2022-05-14T09:02:59.368Z"
   },
   {
    "duration": 13,
    "start_time": "2022-05-14T09:02:59.631Z"
   },
   {
    "duration": 20,
    "start_time": "2022-05-14T09:02:59.646Z"
   },
   {
    "duration": 194,
    "start_time": "2022-05-14T09:02:59.668Z"
   },
   {
    "duration": 258,
    "start_time": "2022-05-14T09:02:59.864Z"
   },
   {
    "duration": 273,
    "start_time": "2022-05-14T09:03:00.124Z"
   },
   {
    "duration": 241,
    "start_time": "2022-05-14T09:03:00.399Z"
   },
   {
    "duration": 188,
    "start_time": "2022-05-14T09:03:00.641Z"
   },
   {
    "duration": 10,
    "start_time": "2022-05-14T09:03:00.834Z"
   },
   {
    "duration": 31,
    "start_time": "2022-05-14T09:03:00.846Z"
   },
   {
    "duration": 28,
    "start_time": "2022-05-14T09:03:00.878Z"
   },
   {
    "duration": 27,
    "start_time": "2022-05-14T09:03:00.933Z"
   },
   {
    "duration": 26,
    "start_time": "2022-05-14T09:03:00.962Z"
   },
   {
    "duration": 51,
    "start_time": "2022-05-14T09:03:00.990Z"
   },
   {
    "duration": 26,
    "start_time": "2022-05-14T09:03:01.043Z"
   },
   {
    "duration": 12,
    "start_time": "2022-05-14T09:03:01.071Z"
   },
   {
    "duration": 5,
    "start_time": "2022-05-14T09:03:01.085Z"
   },
   {
    "duration": 45,
    "start_time": "2022-05-14T09:03:01.092Z"
   },
   {
    "duration": 6,
    "start_time": "2022-05-14T09:03:01.139Z"
   },
   {
    "duration": 171,
    "start_time": "2022-05-14T09:03:45.574Z"
   },
   {
    "duration": 171,
    "start_time": "2022-05-14T09:04:09.175Z"
   },
   {
    "duration": 162,
    "start_time": "2022-05-14T09:04:50.153Z"
   },
   {
    "duration": 173,
    "start_time": "2022-05-14T09:05:22.039Z"
   },
   {
    "duration": 152,
    "start_time": "2022-05-14T09:05:57.049Z"
   },
   {
    "duration": 162,
    "start_time": "2022-05-14T09:06:18.478Z"
   },
   {
    "duration": 167,
    "start_time": "2022-05-14T09:06:42.217Z"
   },
   {
    "duration": 154,
    "start_time": "2022-05-14T09:06:48.758Z"
   },
   {
    "duration": 999,
    "start_time": "2022-05-14T09:07:56.138Z"
   },
   {
    "duration": 48,
    "start_time": "2022-05-14T09:07:57.139Z"
   },
   {
    "duration": 185,
    "start_time": "2022-05-14T09:07:57.188Z"
   },
   {
    "duration": 167,
    "start_time": "2022-05-14T09:07:57.375Z"
   },
   {
    "duration": 111,
    "start_time": "2022-05-14T09:07:57.544Z"
   },
   {
    "duration": 25,
    "start_time": "2022-05-14T09:07:57.657Z"
   },
   {
    "duration": 82,
    "start_time": "2022-05-14T09:07:57.684Z"
   },
   {
    "duration": 18,
    "start_time": "2022-05-14T09:07:57.767Z"
   },
   {
    "duration": 7,
    "start_time": "2022-05-14T09:07:57.787Z"
   },
   {
    "duration": 12,
    "start_time": "2022-05-14T09:07:57.797Z"
   },
   {
    "duration": 72,
    "start_time": "2022-05-14T09:07:57.810Z"
   },
   {
    "duration": 34,
    "start_time": "2022-05-14T09:07:57.884Z"
   },
   {
    "duration": 74,
    "start_time": "2022-05-14T09:07:57.919Z"
   },
   {
    "duration": 49,
    "start_time": "2022-05-14T09:07:57.994Z"
   },
   {
    "duration": 17,
    "start_time": "2022-05-14T09:07:58.045Z"
   },
   {
    "duration": 18,
    "start_time": "2022-05-14T09:07:58.064Z"
   },
   {
    "duration": 15,
    "start_time": "2022-05-14T09:07:58.084Z"
   },
   {
    "duration": 42,
    "start_time": "2022-05-14T09:07:58.100Z"
   },
   {
    "duration": 43,
    "start_time": "2022-05-14T09:07:58.144Z"
   },
   {
    "duration": 4,
    "start_time": "2022-05-14T09:07:58.189Z"
   },
   {
    "duration": 146,
    "start_time": "2022-05-14T09:07:58.195Z"
   },
   {
    "duration": 15,
    "start_time": "2022-05-14T09:07:58.344Z"
   },
   {
    "duration": 13,
    "start_time": "2022-05-14T09:07:58.361Z"
   },
   {
    "duration": 407,
    "start_time": "2022-05-14T09:07:58.376Z"
   },
   {
    "duration": 192,
    "start_time": "2022-05-14T09:07:58.785Z"
   },
   {
    "duration": 168,
    "start_time": "2022-05-14T09:07:58.979Z"
   },
   {
    "duration": 261,
    "start_time": "2022-05-14T09:07:59.149Z"
   },
   {
    "duration": 251,
    "start_time": "2022-05-14T09:07:59.413Z"
   },
   {
    "duration": 235,
    "start_time": "2022-05-14T09:07:59.665Z"
   },
   {
    "duration": 13,
    "start_time": "2022-05-14T09:07:59.902Z"
   },
   {
    "duration": 27,
    "start_time": "2022-05-14T09:07:59.916Z"
   },
   {
    "duration": 249,
    "start_time": "2022-05-14T09:07:59.945Z"
   },
   {
    "duration": 13,
    "start_time": "2022-05-14T09:08:00.196Z"
   },
   {
    "duration": 27,
    "start_time": "2022-05-14T09:08:00.211Z"
   },
   {
    "duration": 185,
    "start_time": "2022-05-14T09:08:00.240Z"
   },
   {
    "duration": 251,
    "start_time": "2022-05-14T09:08:00.426Z"
   },
   {
    "duration": 265,
    "start_time": "2022-05-14T09:08:00.679Z"
   },
   {
    "duration": 255,
    "start_time": "2022-05-14T09:08:00.946Z"
   },
   {
    "duration": 184,
    "start_time": "2022-05-14T09:08:01.204Z"
   },
   {
    "duration": 9,
    "start_time": "2022-05-14T09:08:01.390Z"
   },
   {
    "duration": 46,
    "start_time": "2022-05-14T09:08:01.401Z"
   },
   {
    "duration": 29,
    "start_time": "2022-05-14T09:08:01.449Z"
   },
   {
    "duration": 36,
    "start_time": "2022-05-14T09:08:01.479Z"
   },
   {
    "duration": 41,
    "start_time": "2022-05-14T09:08:01.517Z"
   },
   {
    "duration": 34,
    "start_time": "2022-05-14T09:08:01.560Z"
   },
   {
    "duration": 45,
    "start_time": "2022-05-14T09:08:01.596Z"
   },
   {
    "duration": 14,
    "start_time": "2022-05-14T09:08:01.643Z"
   },
   {
    "duration": 15,
    "start_time": "2022-05-14T09:08:01.658Z"
   },
   {
    "duration": 62,
    "start_time": "2022-05-14T09:08:01.675Z"
   },
   {
    "duration": 16,
    "start_time": "2022-05-14T09:08:01.739Z"
   },
   {
    "duration": 1023,
    "start_time": "2022-10-13T09:38:17.924Z"
   },
   {
    "duration": 113,
    "start_time": "2022-10-13T09:38:18.949Z"
   },
   {
    "duration": 506,
    "start_time": "2022-10-13T09:38:19.063Z"
   },
   {
    "duration": 412,
    "start_time": "2022-10-13T09:38:19.572Z"
   },
   {
    "duration": 310,
    "start_time": "2022-10-13T09:38:19.985Z"
   },
   {
    "duration": 82,
    "start_time": "2022-10-13T09:38:20.297Z"
   },
   {
    "duration": 70,
    "start_time": "2022-10-13T09:38:20.381Z"
   },
   {
    "duration": 16,
    "start_time": "2022-10-13T09:38:20.452Z"
   },
   {
    "duration": 13,
    "start_time": "2022-10-13T09:38:20.470Z"
   },
   {
    "duration": 23,
    "start_time": "2022-10-13T09:38:20.486Z"
   },
   {
    "duration": 52,
    "start_time": "2022-10-13T09:38:20.511Z"
   },
   {
    "duration": 44,
    "start_time": "2022-10-13T09:38:20.565Z"
   },
   {
    "duration": 59,
    "start_time": "2022-10-13T09:38:20.611Z"
   },
   {
    "duration": 42,
    "start_time": "2022-10-13T09:38:20.671Z"
   },
   {
    "duration": 15,
    "start_time": "2022-10-13T09:38:20.714Z"
   },
   {
    "duration": 23,
    "start_time": "2022-10-13T09:38:20.730Z"
   },
   {
    "duration": 13,
    "start_time": "2022-10-13T09:38:20.755Z"
   },
   {
    "duration": 9,
    "start_time": "2022-10-13T09:38:20.770Z"
   },
   {
    "duration": 56,
    "start_time": "2022-10-13T09:38:20.780Z"
   },
   {
    "duration": 4,
    "start_time": "2022-10-13T09:38:20.837Z"
   },
   {
    "duration": 117,
    "start_time": "2022-10-13T09:38:20.842Z"
   },
   {
    "duration": 11,
    "start_time": "2022-10-13T09:38:20.960Z"
   },
   {
    "duration": 12,
    "start_time": "2022-10-13T09:38:20.973Z"
   },
   {
    "duration": 556,
    "start_time": "2022-10-13T09:38:20.987Z"
   },
   {
    "duration": 157,
    "start_time": "2022-10-13T09:38:21.545Z"
   },
   {
    "duration": 140,
    "start_time": "2022-10-13T09:38:21.704Z"
   },
   {
    "duration": 216,
    "start_time": "2022-10-13T09:38:21.846Z"
   },
   {
    "duration": 227,
    "start_time": "2022-10-13T09:38:22.066Z"
   },
   {
    "duration": 213,
    "start_time": "2022-10-13T09:38:22.294Z"
   },
   {
    "duration": 11,
    "start_time": "2022-10-13T09:38:22.509Z"
   },
   {
    "duration": 10,
    "start_time": "2022-10-13T09:38:22.522Z"
   },
   {
    "duration": 234,
    "start_time": "2022-10-13T09:38:22.534Z"
   },
   {
    "duration": 12,
    "start_time": "2022-10-13T09:38:22.769Z"
   },
   {
    "duration": 25,
    "start_time": "2022-10-13T09:38:22.783Z"
   },
   {
    "duration": 160,
    "start_time": "2022-10-13T09:38:22.810Z"
   },
   {
    "duration": 282,
    "start_time": "2022-10-13T09:38:22.971Z"
   },
   {
    "duration": 165,
    "start_time": "2022-10-13T09:38:23.255Z"
   },
   {
    "duration": 202,
    "start_time": "2022-10-13T09:38:23.422Z"
   },
   {
    "duration": 154,
    "start_time": "2022-10-13T09:38:23.625Z"
   },
   {
    "duration": 9,
    "start_time": "2022-10-13T09:38:23.780Z"
   },
   {
    "duration": 31,
    "start_time": "2022-10-13T09:38:23.790Z"
   },
   {
    "duration": 24,
    "start_time": "2022-10-13T09:38:23.823Z"
   },
   {
    "duration": 21,
    "start_time": "2022-10-13T09:38:23.848Z"
   },
   {
    "duration": 48,
    "start_time": "2022-10-13T09:38:23.871Z"
   },
   {
    "duration": 21,
    "start_time": "2022-10-13T09:38:23.921Z"
   },
   {
    "duration": 21,
    "start_time": "2022-10-13T09:38:23.943Z"
   },
   {
    "duration": 12,
    "start_time": "2022-10-13T09:38:23.965Z"
   },
   {
    "duration": 29,
    "start_time": "2022-10-13T09:38:23.979Z"
   },
   {
    "duration": 10,
    "start_time": "2022-10-13T09:38:24.010Z"
   },
   {
    "duration": 8,
    "start_time": "2022-10-13T09:38:24.022Z"
   }
  ],
  "kernelspec": {
   "display_name": "Python 3 (ipykernel)",
   "language": "python",
   "name": "python3"
  },
  "language_info": {
   "codemirror_mode": {
    "name": "ipython",
    "version": 3
   },
   "file_extension": ".py",
   "mimetype": "text/x-python",
   "name": "python",
   "nbconvert_exporter": "python",
   "pygments_lexer": "ipython3",
   "version": "3.9.5"
  },
  "toc": {
   "base_numbering": 1,
   "nav_menu": {},
   "number_sections": true,
   "sideBar": true,
   "skip_h1_title": true,
   "title_cell": "Table of Contents",
   "title_sidebar": "Contents",
   "toc_cell": false,
   "toc_position": {
    "height": "calc(100% - 180px)",
    "left": "10px",
    "top": "150px",
    "width": "165px"
   },
   "toc_section_display": true,
   "toc_window_display": false
  }
 },
 "nbformat": 4,
 "nbformat_minor": 2
}
